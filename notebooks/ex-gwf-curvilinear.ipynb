{
 "cells": [
  {
   "cell_type": "markdown",
   "id": "e7387c17",
   "metadata": {},
   "source": [
    "## Curvilinear example\n",
    "\n",
    "This example, ex-gwf-curvilinear, shows how the MODFLOW 6 DISV Package\n",
    "can be used to simulate a multipart curvilinear models.\n",
    "\n",
    "The example reproduces the hypothetical model grid presented in Figure 6 of\n",
    "   Romero, D. M., & Silver, S. E. (2006).\n",
    "   Grid cell distortion and MODFLOW's integrated finite difference\n",
    "   numerical solution. Groundwater, 44(6), 797-802.\n",
    "\n",
    "The hypothetical, curvilinear grid is built in three parts:\n",
    "   1) 180 to 270 degree curvilinear grid\n",
    "   2) 16 by 18 structured grid\n",
    "   3) 90 to 0 degree curvilinear grid\n",
    "that are merged, as 1-2-3, to make the final multipart curvilinear grid."
   ]
  },
  {
   "cell_type": "markdown",
   "id": "870d4839",
   "metadata": {},
   "source": [
    "Imports"
   ]
  },
  {
   "cell_type": "code",
   "execution_count": null,
   "id": "bff9e573",
   "metadata": {},
   "outputs": [],
   "source": [
    "import os\n",
    "import sys\n",
    "import numpy as np\n",
    "import matplotlib.pyplot as plt\n",
    "import flopy\n",
    "from math import sqrt"
   ]
  },
  {
   "cell_type": "markdown",
   "id": "a8492a18",
   "metadata": {},
   "source": [
    "Append to system path to include the common subdirectory"
   ]
  },
  {
   "cell_type": "code",
   "execution_count": null,
   "id": "53678b11",
   "metadata": {},
   "outputs": [],
   "source": [
    "sys.path.append(os.path.join(\"..\", \"common\"))"
   ]
  },
  {
   "cell_type": "markdown",
   "id": "4ee046e9",
   "metadata": {},
   "source": [
    "import common functionality"
   ]
  },
  {
   "cell_type": "code",
   "execution_count": null,
   "id": "2b1f99c5",
   "metadata": {},
   "outputs": [],
   "source": [
    "import config\n",
    "from figspecs import USGSFigure"
   ]
  },
  {
   "cell_type": "code",
   "execution_count": null,
   "id": "28abf40a",
   "metadata": {},
   "outputs": [],
   "source": [
    "from DisvCurvilinearBuilder import DisvCurvilinearBuilder\n",
    "from DisvStructuredGridBuilder import DisvStructuredGridBuilder\n",
    "from DisvGridMerger import DisvGridMerger"
   ]
  },
  {
   "cell_type": "markdown",
   "id": "02021d01",
   "metadata": {},
   "source": [
    "Set default figure properties"
   ]
  },
  {
   "cell_type": "code",
   "execution_count": null,
   "id": "f4ec118b",
   "metadata": {},
   "outputs": [],
   "source": [
    "figure_size_grid_com = (6.5, 2.5)\n",
    "figure_size_grid = (6.5, 3)\n",
    "figure_size_head = (6.5, 2.5)"
   ]
  },
  {
   "cell_type": "markdown",
   "id": "b5eebf7b",
   "metadata": {},
   "source": [
    "Base simulation and model name and workspace"
   ]
  },
  {
   "cell_type": "code",
   "execution_count": null,
   "id": "a929726d",
   "metadata": {},
   "outputs": [],
   "source": [
    "ws = config.base_ws"
   ]
  },
  {
   "cell_type": "markdown",
   "id": "fba2d505",
   "metadata": {},
   "source": [
    "Simulation name"
   ]
  },
  {
   "cell_type": "code",
   "execution_count": null,
   "id": "acfb54e7",
   "metadata": {},
   "outputs": [],
   "source": [
    "sim_name = \"ex-gwf-curvilin\""
   ]
  },
  {
   "cell_type": "markdown",
   "id": "0103f888",
   "metadata": {},
   "source": [
    "Model units"
   ]
  },
  {
   "cell_type": "code",
   "execution_count": null,
   "id": "f07988f2",
   "metadata": {},
   "outputs": [],
   "source": [
    "length_units = \"feet\"\n",
    "time_units = \"days\""
   ]
  },
  {
   "cell_type": "markdown",
   "id": "c70ea919",
   "metadata": {},
   "source": [
    "Table Model Parameters"
   ]
  },
  {
   "cell_type": "code",
   "execution_count": null,
   "id": "272e5ab9",
   "metadata": {},
   "outputs": [],
   "source": [
    "_ = \"Steady-State\"  # Simulation Type\n",
    "nper = 1  # Number of periods\n",
    "_ = 1  # Number of time steps"
   ]
  },
  {
   "cell_type": "code",
   "execution_count": null,
   "id": "99883d73",
   "metadata": {},
   "outputs": [],
   "source": [
    "nlay = 1  # Number of layers\n",
    "_ = 864  # Number cells per layer"
   ]
  },
  {
   "cell_type": "code",
   "execution_count": null,
   "id": "c712faf3",
   "metadata": {},
   "outputs": [],
   "source": [
    "surface_elevation = 10.0  # Top of the model ($ft$)\n",
    "model_base = 0.0  # Base of the model ($ft$)"
   ]
  },
  {
   "cell_type": "code",
   "execution_count": null,
   "id": "8a9ddd01",
   "metadata": {},
   "outputs": [],
   "source": [
    "Tran = 0.19  # Horizontal transmissivity ($ft^2/day$)\n",
    "k11 = 0.019  # Horizontal hydraulic conductivity ($ft/day$)"
   ]
  },
  {
   "cell_type": "code",
   "execution_count": null,
   "id": "bbfd6d3a",
   "metadata": {},
   "outputs": [],
   "source": [
    "bc0 = 10  # Left constant head boundary ($ft$)\n",
    "_ = \"3.334\"  # Right constant head boundary ($ft$)"
   ]
  },
  {
   "cell_type": "code",
   "execution_count": null,
   "id": "8cd3d333",
   "metadata": {},
   "outputs": [],
   "source": [
    "_ = \" \"  # --- Left Curvilinear Grid Properties ---"
   ]
  },
  {
   "cell_type": "code",
   "execution_count": null,
   "id": "c728d313",
   "metadata": {},
   "outputs": [],
   "source": [
    "_ = \"180\"  # Degree angle of column 1 boundary\n",
    "_ = \"270\"  # Degree angle of column ncol boundary\n",
    "_ = \"5\"  # Degree angle width of each column"
   ]
  },
  {
   "cell_type": "code",
   "execution_count": null,
   "id": "e6ed6c0e",
   "metadata": {},
   "outputs": [],
   "source": [
    "nradial1 = 16  # Number of radial direction cells (radial bands)\n",
    "_ = 18  # Number of columns in radial band (ncol)"
   ]
  },
  {
   "cell_type": "code",
   "execution_count": null,
   "id": "2f6569b5",
   "metadata": {},
   "outputs": [],
   "source": [
    "r_inner1 = 4  # Grid inner radius ($ft$)\n",
    "r_outer1 = 20  # Grid outer radius ($ft$)\n",
    "r_width1 = 1  # Radial band width ($ft$)"
   ]
  },
  {
   "cell_type": "code",
   "execution_count": null,
   "id": "6303d7ed",
   "metadata": {},
   "outputs": [],
   "source": [
    "_ = \" \"  # --- Middle Structured Grid Properties ---\n",
    "nrow = 16  # Number of rows\n",
    "ncol = 18  # Number of columns\n",
    "row_width = 1  # Row width ($ft$)\n",
    "col_width = 1  # Column width ($ft$)"
   ]
  },
  {
   "cell_type": "code",
   "execution_count": null,
   "id": "70f3bc3e",
   "metadata": {},
   "outputs": [],
   "source": [
    "_ = \" \"  # --- Right Curvilinear Grid Properties ---"
   ]
  },
  {
   "cell_type": "code",
   "execution_count": null,
   "id": "33bf56cf",
   "metadata": {},
   "outputs": [],
   "source": [
    "_ = \"0\"  # Degree angle of column 1 boundary\n",
    "_ = \"90\"  # Degree angle of column ncol boundary\n",
    "_ = \"5\"  # Degree angle width of each column"
   ]
  },
  {
   "cell_type": "code",
   "execution_count": null,
   "id": "1d0bd439",
   "metadata": {},
   "outputs": [],
   "source": [
    "nradial2 = 16  # Number of radial direction cells (radial bands)\n",
    "_ = 18  # Number of columns in radial band (ncol)"
   ]
  },
  {
   "cell_type": "code",
   "execution_count": null,
   "id": "f4193f1c",
   "metadata": {},
   "outputs": [],
   "source": [
    "r_inner2 = 4  # Grid inner radius ($ft$)\n",
    "r_outer2 = 20  # Grid outer radius ($ft$)\n",
    "r_width2 = 1  # Grid radial band width ($ft$)"
   ]
  },
  {
   "cell_type": "code",
   "execution_count": null,
   "id": "60b3b073",
   "metadata": {},
   "outputs": [],
   "source": [
    "# Set up input that is not used in the table\n",
    "# Left Curvilinear Model Angle and discretization\n",
    "angle_start1 = 180\n",
    "angle_stop1 = 270\n",
    "angle_step1 = 5"
   ]
  },
  {
   "cell_type": "code",
   "execution_count": null,
   "id": "8225d5eb",
   "metadata": {
    "lines_to_next_cell": 2
   },
   "outputs": [],
   "source": [
    "# Right Curvilinear Model Angles\n",
    "angle_start2 = 0\n",
    "angle_stop2 = 90\n",
    "angle_step2 = 5"
   ]
  },
  {
   "cell_type": "code",
   "execution_count": null,
   "id": "34f97b6c",
   "metadata": {},
   "outputs": [],
   "source": [
    "# Right Curvilinear Model Boundary Condition\n",
    "bc1 = bc0 / 3"
   ]
  },
  {
   "cell_type": "markdown",
   "id": "58ae650d",
   "metadata": {},
   "source": [
    "Radius for each radial band.\n",
    "  First value is inner radius, the remaining are outer radii"
   ]
  },
  {
   "cell_type": "code",
   "execution_count": null,
   "id": "5b39ee7c",
   "metadata": {},
   "outputs": [],
   "source": [
    "radii = np.arange(r_inner1, r_outer1 + r_width1, r_width1)"
   ]
  },
  {
   "cell_type": "markdown",
   "id": "09a2a5db",
   "metadata": {},
   "source": [
    "Get the curvilinear model properties and vertices"
   ]
  },
  {
   "cell_type": "code",
   "execution_count": null,
   "id": "b67bf5f6",
   "metadata": {},
   "outputs": [],
   "source": [
    "# Left Curvilinear Model\n",
    "curvlin1 = DisvCurvilinearBuilder(\n",
    "    nlay,\n",
    "    radii,\n",
    "    angle_start1,\n",
    "    angle_stop1,\n",
    "    angle_step1,\n",
    "    surface_elevation=surface_elevation,\n",
    "    layer_thickness=surface_elevation,\n",
    "    single_center_cell=False,\n",
    "    origin_x=radii[-1],  # Shift to make merged image have (0, 0) for origin\n",
    "    origin_y=radii[-1] + radii[0],\n",
    ")"
   ]
  },
  {
   "cell_type": "code",
   "execution_count": null,
   "id": "fda844cd",
   "metadata": {},
   "outputs": [],
   "source": [
    "# Middle Structured Grid Model\n",
    "rectgrid = DisvStructuredGridBuilder(\n",
    "    nlay,\n",
    "    nrow,\n",
    "    ncol,\n",
    "    row_width,\n",
    "    col_width,\n",
    "    surface_elevation,\n",
    "    surface_elevation,\n",
    ")"
   ]
  },
  {
   "cell_type": "code",
   "execution_count": null,
   "id": "72c74782",
   "metadata": {},
   "outputs": [],
   "source": [
    "# Right Curvilinear Model\n",
    "curvlin2 = DisvCurvilinearBuilder(\n",
    "    nlay,\n",
    "    radii,\n",
    "    angle_start2,\n",
    "    angle_stop2,\n",
    "    angle_step2,\n",
    "    surface_elevation=surface_elevation,\n",
    "    layer_thickness=surface_elevation,\n",
    "    single_center_cell=False,\n",
    ")"
   ]
  },
  {
   "cell_type": "markdown",
   "id": "7149ad4c",
   "metadata": {},
   "source": [
    "Combine the three models into one new vertex grid"
   ]
  },
  {
   "cell_type": "code",
   "execution_count": null,
   "id": "fcb60a31",
   "metadata": {},
   "outputs": [],
   "source": [
    "grid_merger = DisvGridMerger()"
   ]
  },
  {
   "cell_type": "code",
   "execution_count": null,
   "id": "f3b3a597",
   "metadata": {},
   "outputs": [],
   "source": [
    "grid_merger.add_grid(\"curvlin1\", curvlin1)\n",
    "grid_merger.add_grid(\"rectgrid\", rectgrid)\n",
    "grid_merger.add_grid(\"curvlin2\", curvlin2)"
   ]
  },
  {
   "cell_type": "markdown",
   "id": "1fa6e5cc",
   "metadata": {},
   "source": [
    "# Plot individual grids to find vertex connections\n",
    "grid_merger.plot_grid(\"curvlin1\", show=False)\n",
    "grid_merger.plot_grid(\"rectgrid\", show=False)\n",
    "grid_merger.plot_grid(\"curvlin2\", show=False)\n",
    "plt.show()"
   ]
  },
  {
   "cell_type": "code",
   "execution_count": null,
   "id": "2d114c25",
   "metadata": {},
   "outputs": [],
   "source": [
    "# Setup vertex connections between model grids\n",
    "grid_merger.set_vertex_connection(\"curvlin1\", \"rectgrid\", 19 - 1, 1 - 1)\n",
    "grid_merger.set_vertex_connection(\"rectgrid\", \"curvlin2\", 19 - 1, 323 - 1)"
   ]
  },
  {
   "cell_type": "code",
   "execution_count": null,
   "id": "b38d44b5",
   "metadata": {},
   "outputs": [],
   "source": [
    "# Merge grids into one single model grid\n",
    "grid_merger.merge_grids()"
   ]
  },
  {
   "cell_type": "code",
   "execution_count": null,
   "id": "c031ceb8",
   "metadata": {},
   "outputs": [],
   "source": [
    "# Shift first curvilinear grid for plotting against the orgin.\n",
    "# (Note, grid_merger no longer needs curvlin1)\n",
    "curvlin1.change_origin(0.0, 0.0)"
   ]
  },
  {
   "cell_type": "markdown",
   "id": "2748a680",
   "metadata": {},
   "source": [
    "grid_merger.plot_grid(show=False, figsize=(23, 10))"
   ]
  },
  {
   "cell_type": "code",
   "execution_count": null,
   "id": "8e128937",
   "metadata": {},
   "outputs": [],
   "source": [
    "# Constant head boundary condition\n",
    "# Constant head is located along column 1 of curvlin1\n",
    "# and column 1 of curvlin2\n",
    "chd_left = []\n",
    "chd_right = []\n",
    "for lay in range(nlay):\n",
    "    for cellid_old in curvlin1.iter_column_cellid(col=0):\n",
    "        node = grid_merger.get_merged_cell2d(\"curvlin1\", cellid_old)\n",
    "        chd_left.append([(lay, node), bc0])"
   ]
  },
  {
   "cell_type": "code",
   "execution_count": null,
   "id": "7699a86f",
   "metadata": {},
   "outputs": [],
   "source": [
    "for lay in range(nlay):\n",
    "    for cellid_old in curvlin2.iter_column_cellid(col=0):\n",
    "        node = grid_merger.get_merged_cell2d(\"curvlin2\", cellid_old)\n",
    "        chd_right.append([(lay, node), bc1])"
   ]
  },
  {
   "cell_type": "code",
   "execution_count": null,
   "id": "a96e91d4",
   "metadata": {},
   "outputs": [],
   "source": [
    "chd_left = {sp: chd_left for sp in range(nper)}"
   ]
  },
  {
   "cell_type": "code",
   "execution_count": null,
   "id": "92032846",
   "metadata": {},
   "outputs": [],
   "source": [
    "chd_right = {sp: chd_right for sp in range(nper)}"
   ]
  },
  {
   "cell_type": "markdown",
   "id": "d5d93eba",
   "metadata": {},
   "source": [
    "Static temporal data used by TDIS file\n",
    "Simulation is steady state so setup only a one day stress period."
   ]
  },
  {
   "cell_type": "code",
   "execution_count": null,
   "id": "e2746aaf",
   "metadata": {},
   "outputs": [],
   "source": [
    "tdis_ds = ((1.0, 1, 1),)"
   ]
  },
  {
   "cell_type": "markdown",
   "id": "4d3f3480",
   "metadata": {},
   "source": [
    "Solver parameters"
   ]
  },
  {
   "cell_type": "code",
   "execution_count": null,
   "id": "6bdedada",
   "metadata": {
    "lines_to_next_cell": 2
   },
   "outputs": [],
   "source": [
    "nouter = 500\n",
    "ninner = 300\n",
    "hclose = 1e-4\n",
    "rclose = 1e-4"
   ]
  },
  {
   "cell_type": "markdown",
   "id": "94bf2f05",
   "metadata": {
    "lines_to_next_cell": 2
   },
   "source": [
    "### Functions to build, write, run, and plot the MODFLOW 6 Curvilinear Model\n",
    "\n",
    "MODFLOW 6 flopy simulation object (sim) is returned if building the model"
   ]
  },
  {
   "cell_type": "code",
   "execution_count": null,
   "id": "aed4b4c1",
   "metadata": {
    "lines_to_next_cell": 2
   },
   "outputs": [],
   "source": [
    "def build_model(name):\n",
    "    if config.buildModel:\n",
    "        sim_ws = os.path.join(ws, name)\n",
    "        sim = flopy.mf6.MFSimulation(\n",
    "            sim_name=name, sim_ws=sim_ws, exe_name=\"mf6\"\n",
    "        )\n",
    "        flopy.mf6.ModflowTdis(\n",
    "            sim, nper=nper, perioddata=tdis_ds, time_units=time_units\n",
    "        )\n",
    "        flopy.mf6.ModflowIms(\n",
    "            sim,\n",
    "            print_option=\"summary\",\n",
    "            complexity=\"complex\",\n",
    "            outer_maximum=nouter,\n",
    "            outer_dvclose=hclose,\n",
    "            inner_maximum=ninner,\n",
    "            inner_dvclose=hclose,\n",
    "        )\n",
    "\n",
    "        gwf = flopy.mf6.ModflowGwf(sim, modelname=name, save_flows=True)\n",
    "\n",
    "        disv = flopy.mf6.ModflowGwfdisv(\n",
    "            gwf, length_units=length_units, **grid_merger.get_disv_kwargs()\n",
    "        )\n",
    "\n",
    "        npf = flopy.mf6.ModflowGwfnpf(\n",
    "            gwf,\n",
    "            k=k11,\n",
    "            k33=k11,\n",
    "            save_flows=True,\n",
    "            save_specific_discharge=True,\n",
    "        )\n",
    "\n",
    "        flopy.mf6.ModflowGwfsto(\n",
    "            gwf,\n",
    "            iconvert=0,\n",
    "            steady_state=True,\n",
    "            save_flows=True,\n",
    "        )\n",
    "\n",
    "        flopy.mf6.ModflowGwfic(gwf, strt=surface_elevation)\n",
    "\n",
    "        flopy.mf6.ModflowGwfchd(\n",
    "            gwf,\n",
    "            stress_period_data=chd_left,\n",
    "            pname=\"CHD-LEFT\",\n",
    "            filename=f\"{sim_name}.left.chd\",\n",
    "            save_flows=True,\n",
    "        )\n",
    "        flopy.mf6.ModflowGwfchd(\n",
    "            gwf,\n",
    "            stress_period_data=chd_right,\n",
    "            pname=\"CHD-RIGHT\",\n",
    "            filename=f\"{sim_name}.right.chd\",\n",
    "            save_flows=True,\n",
    "        )\n",
    "\n",
    "        flopy.mf6.ModflowGwfoc(\n",
    "            gwf,\n",
    "            budget_filerecord=f\"{name}.cbc\",\n",
    "            head_filerecord=f\"{name}.hds\",\n",
    "            headprintrecord=[\n",
    "                (\n",
    "                    \"COLUMNS\",\n",
    "                    curvlin1.ncol + ncol + curvlin2.ncol,\n",
    "                    \"WIDTH\",\n",
    "                    15,\n",
    "                    \"DIGITS\",\n",
    "                    6,\n",
    "                    \"GENERAL\",\n",
    "                )\n",
    "            ],\n",
    "            saverecord=[(\"HEAD\", \"ALL\"), (\"BUDGET\", \"ALL\")],\n",
    "            printrecord=[(\"HEAD\", \"ALL\"), (\"BUDGET\", \"ALL\")],\n",
    "            filename=f\"{name}.oc\",\n",
    "        )\n",
    "\n",
    "        return sim\n",
    "    return None"
   ]
  },
  {
   "cell_type": "markdown",
   "id": "98502c78",
   "metadata": {
    "lines_to_next_cell": 2
   },
   "source": [
    "Function to write model files"
   ]
  },
  {
   "cell_type": "code",
   "execution_count": null,
   "id": "934b1c95",
   "metadata": {
    "lines_to_next_cell": 2
   },
   "outputs": [],
   "source": [
    "def write_model(sim, silent=True):\n",
    "    if config.writeModel:\n",
    "        sim.write_simulation(silent=silent)"
   ]
  },
  {
   "cell_type": "markdown",
   "id": "f32e1e9b",
   "metadata": {
    "lines_to_next_cell": 2
   },
   "source": [
    "Function to run the curvilinear model.\n",
    "True is returned if the model runs successfully."
   ]
  },
  {
   "cell_type": "code",
   "execution_count": null,
   "id": "a8733bd0",
   "metadata": {
    "lines_to_next_cell": 2
   },
   "outputs": [],
   "source": [
    "@config.timeit\n",
    "def run_model(sim, silent=True):\n",
    "    success = True\n",
    "    if config.runModel:\n",
    "        success, buff = sim.run_simulation(silent=silent, report=True)\n",
    "        if not success:\n",
    "            print(\"\\n\".join(buff))\n",
    "\n",
    "    return success"
   ]
  },
  {
   "cell_type": "markdown",
   "id": "6af7032d",
   "metadata": {
    "lines_to_next_cell": 2
   },
   "source": [
    "Function to plot the curvilinear model grid."
   ]
  },
  {
   "cell_type": "code",
   "execution_count": null,
   "id": "3a682734",
   "metadata": {
    "lines_to_next_cell": 2
   },
   "outputs": [],
   "source": [
    "def plot_grid(sim, verbose=False):\n",
    "    fs = USGSFigure(figure_type=\"map\", verbose=verbose)\n",
    "    gwf = sim.get_model(sim_name)\n",
    "\n",
    "    fig = plt.figure(figsize=figure_size_grid)\n",
    "\n",
    "    ax = fig.add_subplot(1, 1, 1, aspect=\"equal\")\n",
    "    pmv = flopy.plot.PlotMapView(model=gwf, ax=ax, layer=0)\n",
    "    pmv.plot_grid()\n",
    "    pmv.plot_bc(name=\"CHD-LEFT\", alpha=0.75, color=\"blue\")\n",
    "    pmv.plot_bc(name=\"CHD-RIGHT\", alpha=0.75, color=\"blue\")\n",
    "    ax.set_xlabel(\"x position (ft)\")\n",
    "    ax.set_ylabel(\"y position (ft)\")\n",
    "    for i, (x, y) in enumerate(\n",
    "        zip(gwf.modelgrid.xcellcenters, gwf.modelgrid.ycellcenters)\n",
    "    ):\n",
    "        ax.text(\n",
    "            x,\n",
    "            y,\n",
    "            f\"{i + 1}\",\n",
    "            fontsize=3,\n",
    "            horizontalalignment=\"center\",\n",
    "            verticalalignment=\"center\",\n",
    "        )\n",
    "    v = gwf.disv.vertices.array\n",
    "    vert_size = 2\n",
    "    ax.plot(v[\"xv\"], v[\"yv\"], \"yo\", markersize=vert_size)\n",
    "    for i in range(v.shape[0]):\n",
    "        x, y = v[\"xv\"][i], v[\"yv\"][i]\n",
    "        ax.text(\n",
    "            x,\n",
    "            y,\n",
    "            f\"{i + 1}\",\n",
    "            fontsize=vert_size,\n",
    "            color=\"red\",\n",
    "            horizontalalignment=\"center\",\n",
    "            verticalalignment=\"center\",\n",
    "        )\n",
    "\n",
    "    fig.tight_layout()\n",
    "\n",
    "    # Save components that made up the main grid\n",
    "    fig2, ax2 = plt.subplots(\n",
    "        1,\n",
    "        3,\n",
    "        figsize=figure_size_grid_com,\n",
    "    )\n",
    "\n",
    "    curvlin1.plot_grid(\n",
    "        \"Left Curvilinear Grid\",\n",
    "        ax_override=ax2[0],\n",
    "        cell_dot=False,\n",
    "        cell_num=False,\n",
    "        vertex_dot=True,\n",
    "        vertex_num=False,\n",
    "        vertex_dot_size=3,\n",
    "        vertex_dot_color=\"y\",\n",
    "    )\n",
    "\n",
    "    rectgrid.plot_grid(\n",
    "        \"Center Rectangular Grid\",\n",
    "        ax_override=ax2[1],\n",
    "        cell_dot=False,\n",
    "        cell_num=False,\n",
    "        vertex_dot=True,\n",
    "        vertex_num=False,\n",
    "        vertex_dot_size=3,\n",
    "        vertex_dot_color=\"y\",\n",
    "    )\n",
    "\n",
    "    curvlin2.plot_grid(\n",
    "        \"Right Curvilinear Grid\",\n",
    "        ax_override=ax2[2],\n",
    "        cell_dot=False,\n",
    "        cell_num=False,\n",
    "        vertex_dot=True,\n",
    "        vertex_num=False,\n",
    "        vertex_dot_size=3,\n",
    "        vertex_dot_color=\"y\",\n",
    "    )\n",
    "\n",
    "    for ax_tmp in ax2:\n",
    "        ax_tmp.set_xlabel(\"x position (ft)\")\n",
    "        ax_tmp.set_ylabel(\"y position (ft)\")\n",
    "\n",
    "    xshift, yshift = 0.0, 0.0\n",
    "    for ax_tmp in ax2:\n",
    "        xmin, xmax = ax_tmp.get_xlim()\n",
    "        ymin, ymax = ax_tmp.get_ylim()\n",
    "        if xshift < xmax - xmin:\n",
    "            xshift = xmax - xmin\n",
    "        if yshift < ymax - ymin:\n",
    "            yshift = ymax - ymin\n",
    "\n",
    "    for ax_tmp in ax2:\n",
    "        xmin, xmax = ax_tmp.get_xlim()\n",
    "        ymin, ymax = ax_tmp.get_ylim()\n",
    "        ax_tmp.set_xlim(xmin, xmin + xshift)\n",
    "        ax_tmp.set_ylim(ymin, ymin + yshift)\n",
    "\n",
    "    ax2[0].annotate(\n",
    "        \"A\",\n",
    "        (-0.05, 1.05),\n",
    "        xycoords=\"axes fraction\",\n",
    "        fontweight=\"black\",\n",
    "        fontsize=\"xx-large\",\n",
    "    )\n",
    "\n",
    "    ax2[1].annotate(\n",
    "        \"B\",\n",
    "        (-0.05, 1.05),\n",
    "        xycoords=\"axes fraction\",\n",
    "        fontweight=\"black\",\n",
    "        fontsize=\"xx-large\",\n",
    "    )\n",
    "\n",
    "    ax2[2].annotate(\n",
    "        \"C\",\n",
    "        (-0.05, 1.05),\n",
    "        xycoords=\"axes fraction\",\n",
    "        fontweight=\"black\",\n",
    "        fontsize=\"xx-large\",\n",
    "    )\n",
    "\n",
    "    fig2.tight_layout()\n",
    "\n",
    "    # save figure\n",
    "    if config.plotSave:\n",
    "        fpth = os.path.join(\n",
    "            \"..\",\n",
    "            \"figures\",\n",
    "            f\"{sim_name}-grid{config.figure_ext}\",\n",
    "        )\n",
    "        fig.savefig(fpth, dpi=600)\n",
    "\n",
    "        fpth2 = os.path.join(\n",
    "            \"..\",\n",
    "            \"figures\",\n",
    "            f\"{sim_name}-grid-components{config.figure_ext}\",\n",
    "        )\n",
    "        fig2.savefig(fpth2, dpi=300)\n",
    "\n",
    "    return"
   ]
  },
  {
   "cell_type": "markdown",
   "id": "52e76f63",
   "metadata": {
    "lines_to_next_cell": 2
   },
   "source": [
    "Function to plot the curvilinear model results."
   ]
  },
  {
   "cell_type": "code",
   "execution_count": null,
   "id": "b3c88ebe",
   "metadata": {
    "lines_to_next_cell": 2
   },
   "outputs": [],
   "source": [
    "def plot_head(sim):\n",
    "    fs = USGSFigure(figure_type=\"map\", verbose=False)\n",
    "    gwf = sim.get_model(sim_name)\n",
    "\n",
    "    fig = plt.figure(figsize=figure_size_head)\n",
    "\n",
    "    head = gwf.output.head().get_data()[:, 0, :]\n",
    "\n",
    "    # create MODFLOW 6 cell-by-cell budget object\n",
    "    qx, qy, qz = flopy.utils.postprocessing.get_specific_discharge(\n",
    "        gwf.output.budget().get_data(text=\"DATA-SPDIS\", totim=1.0)[0],\n",
    "        gwf,\n",
    "    )\n",
    "\n",
    "    ax = fig.add_subplot(1, 1, 1, aspect=\"equal\")\n",
    "    pmv = flopy.plot.PlotMapView(model=gwf, ax=ax, layer=0)\n",
    "    cb = pmv.plot_array(head, cmap=\"jet\", vmin=0.0, vmax=head.max())\n",
    "    pmv.plot_vector(\n",
    "        qx,\n",
    "        qy,\n",
    "        normalize=False,\n",
    "        color=\"0.75\",\n",
    "    )\n",
    "    cbar = plt.colorbar(cb, shrink=0.25)\n",
    "    cbar.ax.set_xlabel(r\"Head, ($ft$)\")\n",
    "    ax.set_xlabel(\"x position (ft)\")\n",
    "    ax.set_ylabel(\"y position (ft)\")\n",
    "\n",
    "    fig.tight_layout()\n",
    "\n",
    "    # save figure\n",
    "    if config.plotSave:\n",
    "        fpth = os.path.join(\n",
    "            \"..\", \"figures\", f\"{sim_name}-head{config.figure_ext}\"\n",
    "        )\n",
    "        fig.savefig(fpth, dpi=300)\n",
    "    return"
   ]
  },
  {
   "cell_type": "markdown",
   "id": "567290b7",
   "metadata": {
    "lines_to_next_cell": 2
   },
   "source": [
    "Function to plot the model results."
   ]
  },
  {
   "cell_type": "code",
   "execution_count": null,
   "id": "89c890c5",
   "metadata": {
    "lines_to_next_cell": 2
   },
   "outputs": [],
   "source": [
    "def plot_results(silent=True):\n",
    "    if not config.plotModel:\n",
    "        return\n",
    "\n",
    "    if silent:\n",
    "        verbosity_level = 0\n",
    "    else:\n",
    "        verbosity_level = 1\n",
    "\n",
    "    sim_ws = os.path.join(ws, sim_name)\n",
    "    sim = flopy.mf6.MFSimulation.load(\n",
    "        sim_name=sim_name, sim_ws=sim_ws, verbosity_level=verbosity_level\n",
    "    )\n",
    "\n",
    "    verbose = not silent\n",
    "\n",
    "    if config.plotModel:\n",
    "        plot_grid(sim, verbose)\n",
    "        plot_head(sim)\n",
    "    return"
   ]
  },
  {
   "cell_type": "markdown",
   "id": "957e7a04",
   "metadata": {
    "lines_to_next_cell": 2
   },
   "source": [
    "Function that wraps all of the steps for the curvilinear model\n",
    "\n",
    "1. build_model,\n",
    "2. write_model,\n",
    "3. run_model, and\n",
    "4. plot_results.\n"
   ]
  },
  {
   "cell_type": "code",
   "execution_count": null,
   "id": "2ee7d508",
   "metadata": {},
   "outputs": [],
   "source": [
    "def simulation(silent=True):\n",
    "    # key = list(parameters.keys())[idx]\n",
    "    # params = parameters[key].copy()\n",
    "\n",
    "    sim = build_model(sim_name)\n",
    "\n",
    "    write_model(sim, silent=silent)\n",
    "\n",
    "    success = run_model(sim, silent=silent)\n",
    "    assert success, \"could not run...{}\".format(sim_name)"
   ]
  },
  {
   "cell_type": "code",
   "execution_count": null,
   "id": "6736d0d2",
   "metadata": {
    "lines_to_next_cell": 2
   },
   "outputs": [],
   "source": []
  },
  {
   "cell_type": "markdown",
   "id": "25d36658",
   "metadata": {},
   "source": [
    "### Curvilinear Example"
   ]
  },
  {
   "cell_type": "code",
   "execution_count": null,
   "id": "f46cec99",
   "metadata": {},
   "outputs": [],
   "source": [
    "# MF6 Curvilinear Model\n",
    "simulation()"
   ]
  },
  {
   "cell_type": "code",
   "execution_count": null,
   "id": "9736775d",
   "metadata": {},
   "outputs": [],
   "source": [
    "# Solve analytical and plot results with MF6 results\n",
    "plot_results()"
   ]
  }
 ],
 "metadata": {
  "jupytext": {
   "cell_metadata_filter": "-all",
   "main_language": "python",
   "notebook_metadata_filter": "-all"
  }
 },
 "nbformat": 4,
 "nbformat_minor": 5
}
