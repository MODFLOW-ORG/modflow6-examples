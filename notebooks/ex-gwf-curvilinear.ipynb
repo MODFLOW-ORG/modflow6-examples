{
 "cells": [
  {
   "cell_type": "markdown",
   "id": "b8c391d4",
   "metadata": {},
   "source": [
    "## Curvilinear example\n",
    "\n",
    "This example, ex-gwf-curvilinear, shows how the MODFLOW 6 DISV Package\n",
    "can be used to simulate a multipart curvilinear models.\n",
    "\n",
    "The example reproduces the hypothetical model grid presented in Figure 6 of\n",
    "   Romero, D. M., & Silver, S. E. (2006).\n",
    "   Grid cell distortion and MODFLOW's integrated finite difference\n",
    "   numerical solution. Groundwater, 44(6), 797-802.\n",
    "\n",
    "The hypothetical, curvilinear grid is built in three parts:\n",
    "   1) 180 to 270 degree curvilinear grid\n",
    "   2) 16 by 18 structured grid\n",
    "   3) 90 to 0 degree curvilinear grid\n",
    "that are merged, as 1-2-3, to make the final multipart curvilinear grid."
   ]
  },
  {
   "cell_type": "markdown",
   "id": "065c8243",
   "metadata": {},
   "source": [
    "Imports"
   ]
  },
  {
   "cell_type": "code",
   "execution_count": null,
   "id": "b3df9885",
   "metadata": {},
   "outputs": [],
   "source": [
    "import os\n",
    "import sys\n",
    "import numpy as np\n",
    "import matplotlib.pyplot as plt\n",
    "import flopy\n",
    "from math import sqrt"
   ]
  },
  {
   "cell_type": "markdown",
   "id": "2c5e56e6",
   "metadata": {},
   "source": [
    "Append to system path to include the common subdirectory"
   ]
  },
  {
   "cell_type": "code",
   "execution_count": null,
   "id": "521810f0",
   "metadata": {},
   "outputs": [],
   "source": [
    "sys.path.append(os.path.join(\"..\", \"common\"))"
   ]
  },
  {
   "cell_type": "markdown",
   "id": "04cafb13",
   "metadata": {},
   "source": [
    "import common functionality"
   ]
  },
  {
   "cell_type": "code",
   "execution_count": null,
   "id": "75de7583",
   "metadata": {},
   "outputs": [],
   "source": [
    "import config\n",
    "from figspecs import USGSFigure"
   ]
  },
  {
   "cell_type": "code",
   "execution_count": null,
   "id": "95628b97",
   "metadata": {},
   "outputs": [],
   "source": [
    "from DisvCurvilinearBuilder import DisvCurvilinearBuilder\n",
    "from DisvStructuredGridBuilder import DisvStructuredGridBuilder\n",
    "from DisvGridMerger import DisvGridMerger"
   ]
  },
  {
   "cell_type": "markdown",
   "id": "52a95f26",
   "metadata": {},
   "source": [
    "Set default figure properties"
   ]
  },
  {
   "cell_type": "code",
   "execution_count": null,
   "id": "ca29e525",
   "metadata": {},
   "outputs": [],
   "source": [
    "figure_size_grid_com = (6.5, 2.5)\n",
    "figure_size_grid = (6.5, 3)\n",
    "figure_size_head = (6.5, 2.5)"
   ]
  },
  {
   "cell_type": "markdown",
   "id": "46cc3bca",
   "metadata": {},
   "source": [
    "Base simulation and model name and workspace"
   ]
  },
  {
   "cell_type": "code",
   "execution_count": null,
   "id": "cd7939c6",
   "metadata": {},
   "outputs": [],
   "source": [
    "ws = config.base_ws"
   ]
  },
  {
   "cell_type": "markdown",
   "id": "550d7f71",
   "metadata": {},
   "source": [
    "Simulation name"
   ]
  },
  {
   "cell_type": "code",
   "execution_count": null,
   "id": "5ce5e86a",
   "metadata": {},
   "outputs": [],
   "source": [
    "sim_name = \"ex-gwf-curvilin\""
   ]
  },
  {
   "cell_type": "markdown",
   "id": "3891b8c1",
   "metadata": {},
   "source": [
    "Model units"
   ]
  },
  {
   "cell_type": "code",
   "execution_count": null,
   "id": "c9d4aece",
   "metadata": {},
   "outputs": [],
   "source": [
    "length_units = \"feet\"\n",
    "time_units = \"days\""
   ]
  },
  {
   "cell_type": "markdown",
   "id": "c6b28eaf",
   "metadata": {},
   "source": [
    "Table Model Parameters"
   ]
  },
  {
   "cell_type": "code",
   "execution_count": null,
   "id": "4170490e",
   "metadata": {},
   "outputs": [],
   "source": [
    "_ = \"Steady-State\"  # Simulation Type\n",
    "nper = 1  # Number of periods\n",
    "_ = 1  # Number of time steps"
   ]
  },
  {
   "cell_type": "code",
   "execution_count": null,
   "id": "506b6ad4",
   "metadata": {},
   "outputs": [],
   "source": [
    "nlay = 1  # Number of layers\n",
    "_ = 864  # Number cells per layer"
   ]
  },
  {
   "cell_type": "code",
   "execution_count": null,
   "id": "c6f69ab5",
   "metadata": {},
   "outputs": [],
   "source": [
    "surface_elevation = 10.0  # Top of the model ($ft$)\n",
    "model_base = 0.0  # Base of the model ($ft$)"
   ]
  },
  {
   "cell_type": "code",
   "execution_count": null,
   "id": "e72321f8",
   "metadata": {},
   "outputs": [],
   "source": [
    "Tran = 0.19  # Horizontal transmissivity ($ft^2/day$)\n",
    "k11 = 0.019  # Horizontal hydraulic conductivity ($ft/day$)"
   ]
  },
  {
   "cell_type": "code",
   "execution_count": null,
   "id": "5f74b202",
   "metadata": {},
   "outputs": [],
   "source": [
    "bc0 = 10  # Left constant head boundary ($ft$)\n",
    "_ = \"3.334\"  # Right constant head boundary ($ft$)"
   ]
  },
  {
   "cell_type": "code",
   "execution_count": null,
   "id": "90a8c0af",
   "metadata": {},
   "outputs": [],
   "source": [
    "_ = \" \"  # --- Left Curvilinear Grid Properties ---"
   ]
  },
  {
   "cell_type": "code",
   "execution_count": null,
   "id": "cd186893",
   "metadata": {},
   "outputs": [],
   "source": [
    "_ = \"180\"  # Degree angle of column 1 boundary\n",
    "_ = \"270\"  # Degree angle of column ncol boundary\n",
    "_ = \"5\"  # Degree angle width of each column"
   ]
  },
  {
   "cell_type": "code",
   "execution_count": null,
   "id": "99ec7842",
   "metadata": {},
   "outputs": [],
   "source": [
    "nradial1 = 16  # Number of radial direction cells (radial bands)\n",
    "_ = 18  # Number of columns in radial band (ncol)"
   ]
  },
  {
   "cell_type": "code",
   "execution_count": null,
   "id": "0d026c9b",
   "metadata": {},
   "outputs": [],
   "source": [
    "r_inner1 = 4  # Grid inner radius ($ft$)\n",
    "r_outer1 = 20  # Grid outer radius ($ft$)\n",
    "r_width1 = 1  # Radial band width ($ft$)"
   ]
  },
  {
   "cell_type": "code",
   "execution_count": null,
   "id": "90977935",
   "metadata": {},
   "outputs": [],
   "source": [
    "_ = \" \"  # --- Middle Structured Grid Properties ---\n",
    "nrow = 16  # Number of rows\n",
    "ncol = 18  # Number of columns\n",
    "row_width = 1  # Row width ($ft$)\n",
    "col_width = 1  # Column width ($ft$)"
   ]
  },
  {
   "cell_type": "code",
   "execution_count": null,
   "id": "0e81d91b",
   "metadata": {},
   "outputs": [],
   "source": [
    "_ = \" \"  # --- Right Curvilinear Grid Properties ---"
   ]
  },
  {
   "cell_type": "code",
   "execution_count": null,
   "id": "31d8f1fb",
   "metadata": {},
   "outputs": [],
   "source": [
    "_ = \"0\"  # Degree angle of column 1 boundary\n",
    "_ = \"90\"  # Degree angle of column ncol boundary\n",
    "_ = \"5\"  # Degree angle width of each column"
   ]
  },
  {
   "cell_type": "code",
   "execution_count": null,
   "id": "9c9de300",
   "metadata": {},
   "outputs": [],
   "source": [
    "nradial2 = 16  # Number of radial direction cells (radial bands)\n",
    "_ = 18  # Number of columns in radial band (ncol)"
   ]
  },
  {
   "cell_type": "code",
   "execution_count": null,
   "id": "8ca94012",
   "metadata": {},
   "outputs": [],
   "source": [
    "r_inner2 = 4  # Grid inner radius ($ft$)\n",
    "r_outer2 = 20  # Grid outer radius ($ft$)\n",
    "r_width2 = 1  # Grid radial band width ($ft$)"
   ]
  },
  {
   "cell_type": "code",
   "execution_count": null,
   "id": "e7f5fc7f",
   "metadata": {},
   "outputs": [],
   "source": [
    "# Set up input that is not used in the table\n",
    "# Left Curvilinear Model Angle and discretization\n",
    "angle_start1 = 180\n",
    "angle_stop1 = 270\n",
    "angle_step1 = 5"
   ]
  },
  {
   "cell_type": "code",
   "execution_count": null,
   "id": "5e4c86cc",
   "metadata": {
    "lines_to_next_cell": 2
   },
   "outputs": [],
   "source": [
    "# Right Curvilinear Model Angles\n",
    "angle_start2 = 0\n",
    "angle_stop2 = 90\n",
    "angle_step2 = 5"
   ]
  },
  {
   "cell_type": "code",
   "execution_count": null,
   "id": "93325389",
   "metadata": {},
   "outputs": [],
   "source": [
    "# Right Curvilinear Model Boundary Condition\n",
    "bc1 = bc0 / 3"
   ]
  },
  {
   "cell_type": "markdown",
   "id": "7ba25a77",
   "metadata": {},
   "source": [
    "Radius for each radial band.\n",
    "  First value is inner radius, the remaining are outer radii"
   ]
  },
  {
   "cell_type": "code",
   "execution_count": null,
   "id": "1c533a65",
   "metadata": {},
   "outputs": [],
   "source": [
    "radii = np.arange(r_inner1, r_outer1 + r_width1, r_width1)"
   ]
  },
  {
   "cell_type": "markdown",
   "id": "b2b55bca",
   "metadata": {},
   "source": [
    "Get the curvilinear model properties and vertices"
   ]
  },
  {
   "cell_type": "code",
   "execution_count": null,
   "id": "35fdd6e0",
   "metadata": {},
   "outputs": [],
   "source": [
    "# Left Curvilinear Model\n",
    "curvlin1 = DisvCurvilinearBuilder(\n",
    "    nlay,\n",
    "    radii,\n",
    "    angle_start1,\n",
    "    angle_stop1,\n",
    "    angle_step1,\n",
    "    surface_elevation=surface_elevation,\n",
    "    layer_thickness=surface_elevation,\n",
    "    single_center_cell=False,\n",
    "    origin_x=radii[-1],  # Shift to make merged image have (0, 0) for origin\n",
    "    origin_y=radii[-1] + radii[0],\n",
    ")"
   ]
  },
  {
   "cell_type": "code",
   "execution_count": null,
   "id": "82d16344",
   "metadata": {},
   "outputs": [],
   "source": [
    "# Middle Structured Grid Model\n",
    "rectgrid = DisvStructuredGridBuilder(\n",
    "    nlay,\n",
    "    nrow,\n",
    "    ncol,\n",
    "    row_width,\n",
    "    col_width,\n",
    "    surface_elevation,\n",
    "    surface_elevation,\n",
    ")"
   ]
  },
  {
   "cell_type": "code",
   "execution_count": null,
   "id": "4ad3ff21",
   "metadata": {},
   "outputs": [],
   "source": [
    "# Right Curvilinear Model\n",
    "curvlin2 = DisvCurvilinearBuilder(\n",
    "    nlay,\n",
    "    radii,\n",
    "    angle_start2,\n",
    "    angle_stop2,\n",
    "    angle_step2,\n",
    "    surface_elevation=surface_elevation,\n",
    "    layer_thickness=surface_elevation,\n",
    "    single_center_cell=False,\n",
    ")"
   ]
  },
  {
   "cell_type": "markdown",
   "id": "bce62626",
   "metadata": {},
   "source": [
    "Combine the three models into one new vertex grid"
   ]
  },
  {
   "cell_type": "code",
   "execution_count": null,
   "id": "b64eccab",
   "metadata": {},
   "outputs": [],
   "source": [
    "grid_merger = DisvGridMerger()"
   ]
  },
  {
   "cell_type": "code",
   "execution_count": null,
   "id": "0ac217fd",
   "metadata": {},
   "outputs": [],
   "source": [
    "grid_merger.add_grid(\"curvlin1\", curvlin1)\n",
    "grid_merger.add_grid(\"rectgrid\", rectgrid)\n",
    "grid_merger.add_grid(\"curvlin2\", curvlin2)"
   ]
  },
  {
   "cell_type": "markdown",
   "id": "75baf21d",
   "metadata": {},
   "source": [
    "# Plot individual grids to find vertex connections\n",
    "grid_merger.plot_grid(\"curvlin1\", show=False)\n",
    "grid_merger.plot_grid(\"rectgrid\", show=False)\n",
    "grid_merger.plot_grid(\"curvlin2\", show=False)\n",
    "plt.show()"
   ]
  },
  {
   "cell_type": "code",
   "execution_count": null,
   "id": "fd1832f7",
   "metadata": {},
   "outputs": [],
   "source": [
    "# Setup vertex connections between model grids\n",
    "grid_merger.set_vertex_connection(\"curvlin1\", \"rectgrid\", 19 - 1, 1 - 1)\n",
    "grid_merger.set_vertex_connection(\"rectgrid\", \"curvlin2\", 19 - 1, 323 - 1)"
   ]
  },
  {
   "cell_type": "code",
   "execution_count": null,
   "id": "9d4f7a1f",
   "metadata": {},
   "outputs": [],
   "source": [
    "# Merge grids into one single model grid\n",
    "grid_merger.merge_grids()"
   ]
  },
  {
   "cell_type": "code",
   "execution_count": null,
   "id": "ad92ec7a",
   "metadata": {},
   "outputs": [],
   "source": [
    "# Shift first curvilinear grid for plotting against the orgin.\n",
    "# (Note, grid_merger no longer needs curvlin1)\n",
    "curvlin1.change_origin(0.0, 0.0)"
   ]
  },
  {
   "cell_type": "markdown",
   "id": "e554e6ea",
   "metadata": {},
   "source": [
    "grid_merger.plot_grid(show=False, figsize=(23, 10))"
   ]
  },
  {
   "cell_type": "code",
   "execution_count": null,
   "id": "3c580f45",
   "metadata": {},
   "outputs": [],
   "source": [
    "# Constant head boundary condition\n",
    "# Constant head is located along column 1 of curvlin1\n",
    "# and column 1 of curvlin2\n",
    "chd_left = []\n",
    "chd_right = []\n",
    "for lay in range(nlay):\n",
    "    for cellid_old in curvlin1.iter_column_cellid(col=0):\n",
    "        node = grid_merger.get_merged_cell2d(\"curvlin1\", cellid_old)\n",
    "        chd_left.append([(lay, node), bc0])"
   ]
  },
  {
   "cell_type": "code",
   "execution_count": null,
   "id": "dccf555f",
   "metadata": {},
   "outputs": [],
   "source": [
    "for lay in range(nlay):\n",
    "    for cellid_old in curvlin2.iter_column_cellid(col=0):\n",
    "        node = grid_merger.get_merged_cell2d(\"curvlin2\", cellid_old)\n",
    "        chd_right.append([(lay, node), bc1])"
   ]
  },
  {
   "cell_type": "code",
   "execution_count": null,
   "id": "3fbc9dd0",
   "metadata": {},
   "outputs": [],
   "source": [
    "chd_left = {sp: chd_left for sp in range(nper)}"
   ]
  },
  {
   "cell_type": "code",
   "execution_count": null,
   "id": "fe50e3c3",
   "metadata": {},
   "outputs": [],
   "source": [
    "chd_right = {sp: chd_right for sp in range(nper)}"
   ]
  },
  {
   "cell_type": "markdown",
   "id": "815e163e",
   "metadata": {},
   "source": [
    "Static temporal data used by TDIS file\n",
    "Simulation is steady state so setup only a one day stress period."
   ]
  },
  {
   "cell_type": "code",
   "execution_count": null,
   "id": "2ebed22a",
   "metadata": {},
   "outputs": [],
   "source": [
    "tdis_ds = ((1.0, 1, 1),)"
   ]
  },
  {
   "cell_type": "markdown",
   "id": "b78f4568",
   "metadata": {},
   "source": [
    "Solver parameters"
   ]
  },
  {
   "cell_type": "code",
   "execution_count": null,
   "id": "1a51857f",
   "metadata": {
    "lines_to_next_cell": 2
   },
   "outputs": [],
   "source": [
    "nouter = 500\n",
    "ninner = 300\n",
    "hclose = 1e-4\n",
    "rclose = 1e-4"
   ]
  },
  {
   "cell_type": "markdown",
   "id": "f1e40c7c",
   "metadata": {
    "lines_to_next_cell": 2
   },
   "source": [
    "### Functions to build, write, run, and plot the MODFLOW 6 Curvilinear Model\n",
    "\n",
    "MODFLOW 6 flopy simulation object (sim) is returned if building the model"
   ]
  },
  {
   "cell_type": "code",
   "execution_count": null,
   "id": "f3c7327a",
   "metadata": {
    "lines_to_next_cell": 2
   },
   "outputs": [],
   "source": [
    "def build_model(name):\n",
    "    if config.buildModel:\n",
    "        sim_ws = os.path.join(ws, name)\n",
    "        sim = flopy.mf6.MFSimulation(\n",
    "            sim_name=name, sim_ws=sim_ws, exe_name=\"mf6\"\n",
    "        )\n",
    "        flopy.mf6.ModflowTdis(\n",
    "            sim, nper=nper, perioddata=tdis_ds, time_units=time_units\n",
    "        )\n",
    "        flopy.mf6.ModflowIms(\n",
    "            sim,\n",
    "            print_option=\"summary\",\n",
    "            complexity=\"complex\",\n",
    "            outer_maximum=nouter,\n",
    "            outer_dvclose=hclose,\n",
    "            inner_maximum=ninner,\n",
    "            inner_dvclose=hclose,\n",
    "        )\n",
    "\n",
    "        gwf = flopy.mf6.ModflowGwf(sim, modelname=name, save_flows=True)\n",
    "\n",
    "        disv = flopy.mf6.ModflowGwfdisv(\n",
    "            gwf, length_units=length_units, **grid_merger.get_disv_kwargs()\n",
    "        )\n",
    "\n",
    "        npf = flopy.mf6.ModflowGwfnpf(\n",
    "            gwf,\n",
    "            k=k11,\n",
    "            k33=k11,\n",
    "            save_flows=True,\n",
    "            save_specific_discharge=True,\n",
    "        )\n",
    "\n",
    "        flopy.mf6.ModflowGwfsto(\n",
    "            gwf,\n",
    "            iconvert=0,\n",
    "            steady_state=True,\n",
    "            save_flows=True,\n",
    "        )\n",
    "\n",
    "        flopy.mf6.ModflowGwfic(gwf, strt=surface_elevation)\n",
    "\n",
    "        flopy.mf6.ModflowGwfchd(\n",
    "            gwf,\n",
    "            stress_period_data=chd_left,\n",
    "            pname=\"CHD-LEFT\",\n",
    "            filename=f\"{sim_name}.left.chd\",\n",
    "            save_flows=True,\n",
    "        )\n",
    "        flopy.mf6.ModflowGwfchd(\n",
    "            gwf,\n",
    "            stress_period_data=chd_right,\n",
    "            pname=\"CHD-RIGHT\",\n",
    "            filename=f\"{sim_name}.right.chd\",\n",
    "            save_flows=True,\n",
    "        )\n",
    "\n",
    "        flopy.mf6.ModflowGwfoc(\n",
    "            gwf,\n",
    "            budget_filerecord=f\"{name}.cbc\",\n",
    "            head_filerecord=f\"{name}.hds\",\n",
    "            headprintrecord=[\n",
    "                (\"COLUMNS\", curvlin1.ncol + ncol + curvlin2.ncol, \"WIDTH\", 15, \"DIGITS\", 6, \"GENERAL\")\n",
    "            ],\n",
    "            saverecord=[(\"HEAD\", \"ALL\"), (\"BUDGET\", \"ALL\")],\n",
    "            printrecord=[(\"HEAD\", \"ALL\"), (\"BUDGET\", \"ALL\")],\n",
    "            filename=f\"{name}.oc\",\n",
    "        )\n",
    "\n",
    "        return sim\n",
    "    return None"
   ]
  },
  {
   "cell_type": "markdown",
   "id": "024f3aa8",
   "metadata": {
    "lines_to_next_cell": 2
   },
   "source": [
    "Function to write model files"
   ]
  },
  {
   "cell_type": "code",
   "execution_count": null,
   "id": "cf067ee5",
   "metadata": {
    "lines_to_next_cell": 2
   },
   "outputs": [],
   "source": [
    "def write_model(sim, silent=True):\n",
    "    if config.writeModel:\n",
    "        sim.write_simulation(silent=silent)"
   ]
  },
  {
   "cell_type": "markdown",
   "id": "a1e75e2d",
   "metadata": {
    "lines_to_next_cell": 2
   },
   "source": [
    "Function to run the curvilinear model.\n",
    "True is returned if the model runs successfully."
   ]
  },
  {
   "cell_type": "code",
   "execution_count": null,
   "id": "847642f9",
   "metadata": {
    "lines_to_next_cell": 2
   },
   "outputs": [],
   "source": [
    "@config.timeit\n",
    "def run_model(sim, silent=True):\n",
    "    success = True\n",
    "    if config.runModel:\n",
    "        success, buff = sim.run_simulation(silent=silent, report=True)\n",
    "        if not success:\n",
    "            print(\"\\n\".join(buff))\n",
    "\n",
    "    return success"
   ]
  },
  {
   "cell_type": "markdown",
   "id": "d8cb82fc",
   "metadata": {
    "lines_to_next_cell": 2
   },
   "source": [
    "Function to plot the curvilinear model grid."
   ]
  },
  {
   "cell_type": "code",
   "execution_count": null,
   "id": "760b37fb",
   "metadata": {
    "lines_to_next_cell": 2
   },
   "outputs": [],
   "source": [
    "def plot_grid(sim, verbose=False):\n",
    "    fs = USGSFigure(figure_type=\"map\", verbose=verbose)\n",
    "    gwf = sim.get_model(sim_name)\n",
    "\n",
    "    fig = plt.figure(figsize=figure_size_grid)\n",
    "\n",
    "    ax = fig.add_subplot(1, 1, 1, aspect=\"equal\")\n",
    "    pmv = flopy.plot.PlotMapView(model=gwf, ax=ax, layer=0)\n",
    "    pmv.plot_grid()\n",
    "    pmv.plot_bc(name=\"CHD-LEFT\", alpha=0.75, color=\"blue\")\n",
    "    pmv.plot_bc(name=\"CHD-RIGHT\", alpha=0.75, color=\"blue\")\n",
    "    ax.set_xlabel(\"x position (ft)\")\n",
    "    ax.set_ylabel(\"y position (ft)\")\n",
    "    for i, (x, y) in enumerate(\n",
    "        zip(gwf.modelgrid.xcellcenters, gwf.modelgrid.ycellcenters)\n",
    "    ):\n",
    "        ax.text(\n",
    "            x,\n",
    "            y,\n",
    "            f\"{i + 1}\",\n",
    "            fontsize=3,\n",
    "            horizontalalignment=\"center\",\n",
    "            verticalalignment=\"center\",\n",
    "        )\n",
    "    v = gwf.disv.vertices.array\n",
    "    vert_size = 2\n",
    "    ax.plot(v[\"xv\"], v[\"yv\"], \"yo\", markersize=vert_size)\n",
    "    for i in range(v.shape[0]):\n",
    "        x, y = v[\"xv\"][i], v[\"yv\"][i]\n",
    "        ax.text(\n",
    "            x,\n",
    "            y,\n",
    "            f\"{i + 1}\",\n",
    "            fontsize=vert_size,\n",
    "            color=\"red\",\n",
    "            horizontalalignment=\"center\",\n",
    "            verticalalignment=\"center\",\n",
    "        )\n",
    "\n",
    "    fig.tight_layout()\n",
    "\n",
    "    # Save components that made up the main grid\n",
    "    fig2, ax2 = plt.subplots(1, 3, figsize=figure_size_grid_com,)\n",
    "\n",
    "    curvlin1.plot_grid(\n",
    "        \"Left Curvilinear Grid\",\n",
    "        ax_override=ax2[0],\n",
    "        cell_dot=False,\n",
    "        cell_num=False,\n",
    "        vertex_dot=True,\n",
    "        vertex_num=False,\n",
    "        vertex_dot_size=3,\n",
    "        vertex_dot_color='y',\n",
    "    )\n",
    "    \n",
    "    rectgrid.plot_grid(\n",
    "        \"Center Rectangular Grid\",\n",
    "        ax_override=ax2[1],\n",
    "        cell_dot=False,\n",
    "        cell_num=False,\n",
    "        vertex_dot=True,\n",
    "        vertex_num=False,\n",
    "        vertex_dot_size=3,\n",
    "        vertex_dot_color='y',\n",
    "    )\n",
    "    \n",
    "    curvlin2.plot_grid(\n",
    "        \"Right Curvilinear Grid\",\n",
    "        ax_override=ax2[2],\n",
    "        cell_dot=False,\n",
    "        cell_num=False,\n",
    "        vertex_dot=True,\n",
    "        vertex_num=False,\n",
    "        vertex_dot_size=3,\n",
    "        vertex_dot_color='y',\n",
    "    )\n",
    "\n",
    "    for ax_tmp in ax2:\n",
    "        ax_tmp.set_xlabel(\"x position (ft)\")\n",
    "        ax_tmp.set_ylabel(\"y position (ft)\")\n",
    "\n",
    "    xshift, yshift = 0.0, 0.0\n",
    "    for ax_tmp in ax2:\n",
    "        xmin, xmax = ax_tmp.get_xlim()\n",
    "        ymin, ymax = ax_tmp.get_ylim()\n",
    "        if xshift < xmax - xmin:\n",
    "            xshift = xmax - xmin\n",
    "        if yshift < ymax - ymin:\n",
    "            yshift = ymax - ymin\n",
    "\n",
    "    for ax_tmp in ax2:\n",
    "        xmin, xmax = ax_tmp.get_xlim()\n",
    "        ymin, ymax = ax_tmp.get_ylim()\n",
    "        ax_tmp.set_xlim(xmin, xmin + xshift)\n",
    "        ax_tmp.set_ylim(ymin, ymin + yshift)\n",
    "\n",
    "    ax2[0].annotate(\n",
    "        \"A\",\n",
    "        (-0.05, 1.05),\n",
    "        xycoords=\"axes fraction\",\n",
    "        fontweight=\"black\",\n",
    "        fontsize=\"xx-large\",\n",
    "    )\n",
    "\n",
    "    ax2[1].annotate(\n",
    "        \"B\",\n",
    "        (-0.05, 1.05),\n",
    "        xycoords=\"axes fraction\",\n",
    "        fontweight=\"black\",\n",
    "        fontsize=\"xx-large\",\n",
    "    )\n",
    "\n",
    "    ax2[2].annotate(\n",
    "        \"C\",\n",
    "        (-0.05, 1.05),\n",
    "        xycoords=\"axes fraction\",\n",
    "        fontweight=\"black\",\n",
    "        fontsize=\"xx-large\",\n",
    "    )\n",
    "\n",
    "    fig2.tight_layout()\n",
    "\n",
    "    # save figure\n",
    "    if config.plotSave:\n",
    "        fpth = os.path.join(\n",
    "            \"..\", \"figures\", f\"{sim_name}-grid{config.figure_ext}\",\n",
    "        )\n",
    "        fig.savefig(fpth, dpi=600)\n",
    "\n",
    "        fpth2 = os.path.join(\n",
    "            \"..\", \"figures\", f\"{sim_name}-grid-components{config.figure_ext}\",\n",
    "        )\n",
    "        fig2.savefig(fpth2, dpi=300)\n",
    "\n",
    "    return"
   ]
  },
  {
   "cell_type": "markdown",
   "id": "4c47fbab",
   "metadata": {
    "lines_to_next_cell": 2
   },
   "source": [
    "Function to plot the curvilinear model results."
   ]
  },
  {
   "cell_type": "code",
   "execution_count": null,
   "id": "ef5f1775",
   "metadata": {},
   "outputs": [],
   "source": [
    "def plot_head(sim):\n",
    "    fs = USGSFigure(figure_type=\"map\", verbose=False)\n",
    "    gwf = sim.get_model(sim_name)\n",
    "\n",
    "    fig = plt.figure(figsize=figure_size_head)\n",
    "\n",
    "    head = gwf.output.head().get_data()[:, 0, :]\n",
    "\n",
    "    # create MODFLOW 6 cell-by-cell budget object\n",
    "    qx, qy, qz = flopy.utils.postprocessing.get_specific_discharge(\n",
    "        gwf.output.budget().get_data(text=\"DATA-SPDIS\", totim=1.0)[0],\n",
    "        gwf,\n",
    "    )\n",
    "\n",
    "    ax = fig.add_subplot(1, 1, 1, aspect=\"equal\")\n",
    "    pmv = flopy.plot.PlotMapView(model=gwf, ax=ax, layer=0)\n",
    "    cb = pmv.plot_array(head, cmap=\"jet\", vmin=0.0, vmax=head.max())\n",
    "    pmv.plot_vector(\n",
    "        qx,\n",
    "        qy,\n",
    "        normalize=False,\n",
    "        color=\"0.75\",\n",
    "    )\n",
    "    cbar = plt.colorbar(cb, shrink=0.25)\n",
    "    cbar.ax.set_xlabel(r\"Head, ($ft$)\")\n",
    "    ax.set_xlabel(\"x position (ft)\")\n",
    "    ax.set_ylabel(\"y position (ft)\")\n",
    "\n",
    "    fig.tight_layout()\n",
    "\n",
    "    # save figure\n",
    "    if config.plotSave:\n",
    "        fpth = os.path.join(\n",
    "            \"..\", \"figures\", f\"{sim_name}-head{config.figure_ext}\"\n",
    "        )\n",
    "        fig.savefig(fpth, dpi=300)\n",
    "    return"
   ]
  },
  {
   "cell_type": "markdown",
   "id": "3d1698a0",
   "metadata": {
    "lines_to_next_cell": 2
   },
   "source": [
    "Function to plot the model results."
   ]
  },
  {
   "cell_type": "code",
   "execution_count": null,
   "id": "77fbb5e0",
   "metadata": {},
   "outputs": [],
   "source": [
    "def plot_results(silent=True):\n",
    "    if not config.plotModel:\n",
    "        return\n",
    "\n",
    "    if silent:\n",
    "        verbosity_level = 0\n",
    "    else:\n",
    "        verbosity_level = 1\n",
    "\n",
    "    sim_ws = os.path.join(ws, sim_name)\n",
    "    sim = flopy.mf6.MFSimulation.load(\n",
    "        sim_name=sim_name, sim_ws=sim_ws, verbosity_level=verbosity_level\n",
    "    )\n",
    "\n",
    "    verbose = not silent\n",
    "\n",
    "    if config.plotModel:\n",
    "        plot_grid(sim, verbose)\n",
    "        plot_head(sim)\n",
    "    return"
   ]
  },
  {
   "cell_type": "markdown",
   "id": "422db2a4",
   "metadata": {
    "lines_to_next_cell": 2
   },
   "source": [
    "Function that wraps all of the steps for the curvilinear model\n",
    "\n",
    "1. build_model,\n",
    "2. write_model,\n",
    "3. run_model, and\n",
    "4. plot_results.\n"
   ]
  },
  {
   "cell_type": "code",
   "execution_count": null,
   "id": "7bcdd236",
   "metadata": {},
   "outputs": [],
   "source": [
    "def simulation(silent=True):\n",
    "    # key = list(parameters.keys())[idx]\n",
    "    # params = parameters[key].copy()\n",
    "\n",
    "    sim = build_model(sim_name)\n",
    "\n",
    "    write_model(sim, silent=silent)\n",
    "\n",
    "    success = run_model(sim, silent=silent)\n",
    "    assert success, \"could not run...{}\".format(sim_name)"
   ]
  },
  {
   "cell_type": "code",
   "execution_count": null,
   "id": "7e7d6a76",
   "metadata": {
    "lines_to_next_cell": 2
   },
   "outputs": [],
   "source": []
  },
  {
   "cell_type": "markdown",
   "id": "ad65cfbb",
   "metadata": {},
   "source": [
    "### Curvilinear Example"
   ]
  },
  {
   "cell_type": "code",
   "execution_count": null,
   "id": "8e3ae924",
   "metadata": {},
   "outputs": [],
   "source": [
    "# MF6 Curvilinear Model\n",
    "simulation()"
   ]
  },
  {
   "cell_type": "code",
   "execution_count": null,
   "id": "0535a186",
   "metadata": {},
   "outputs": [],
   "source": [
    "# Solve analytical and plot results with MF6 results\n",
    "plot_results()"
   ]
  }
 ],
 "metadata": {
  "jupytext": {
   "cell_metadata_filter": "-all",
   "main_language": "python",
   "notebook_metadata_filter": "-all"
  }
 },
 "nbformat": 4,
 "nbformat_minor": 5
}
