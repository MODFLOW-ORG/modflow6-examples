{
 "cells": [
  {
   "cell_type": "markdown",
   "metadata": {},
   "source": [
    "## USG-ex1 with GWF-GWF Exchange and XT3D\n",
    "\n",
    "This example shows how the MODFLOW 6 GWF-GWF Exchange can be used to simulate\n",
    "a nested grid problem. The example corresponds to the first example\n",
    "described in the MODFLOW-USG documentation. Instead of the ghost node feature,\n",
    "we use the XT3D option in the NPF package to improve the accuracy at the\n",
    "interface between the models.\n",
    "\n",
    "The problem is run for three different scenarios:\n",
    "\n",
    "1. without XT3D enabled in the NPF package\n",
    "2. with XT3D enabled in both models\n",
    "3. with XT3D enabled in both models and at the interface\n",
    "4. with XT3D enabled _only_ at the interface between the models\n",
    "\n",
    "### Setup\n",
    "\n",
    "Imports"
   ]
  },
  {
   "cell_type": "code",
   "execution_count": null,
   "metadata": {},
   "outputs": [],
   "source": [
    "import os\n",
    "import sys\n",
    "import numpy as np\n",
    "import matplotlib.pyplot as plt\n",
    "import flopy\n",
    "from flopy.utils.lgrutil import Lgr"
   ]
  },
  {
   "cell_type": "markdown",
   "metadata": {},
   "source": [
    "Append to system path to include the common subdirectory"
   ]
  },
  {
   "cell_type": "code",
   "execution_count": null,
   "metadata": {},
   "outputs": [],
   "source": [
    "sys.path.append(os.path.join(\"..\", \"common\"))"
   ]
  },
  {
   "cell_type": "markdown",
   "metadata": {},
   "source": [
    "import common functionality"
   ]
  },
  {
   "cell_type": "code",
   "execution_count": null,
   "metadata": {},
   "outputs": [],
   "source": [
    "import config\n",
    "from figspecs import USGSFigure"
   ]
  },
  {
   "cell_type": "markdown",
   "metadata": {},
   "source": [
    "Set default figure properties"
   ]
  },
  {
   "cell_type": "code",
   "execution_count": null,
   "metadata": {},
   "outputs": [],
   "source": [
    "figure_size = (6, 6)"
   ]
  },
  {
   "cell_type": "markdown",
   "metadata": {},
   "source": [
    "Base simulation and model name and workspace"
   ]
  },
  {
   "cell_type": "code",
   "execution_count": null,
   "metadata": {},
   "outputs": [],
   "source": [
    "ws = config.base_ws"
   ]
  },
  {
   "cell_type": "markdown",
   "metadata": {},
   "source": [
    "Model units"
   ]
  },
  {
   "cell_type": "code",
   "execution_count": null,
   "metadata": {},
   "outputs": [],
   "source": [
    "length_units = \"meters\"\n",
    "time_units = \"days\""
   ]
  },
  {
   "cell_type": "markdown",
   "metadata": {},
   "source": [
    "Scenario parameters"
   ]
  },
  {
   "cell_type": "code",
   "execution_count": null,
   "metadata": {},
   "outputs": [],
   "source": [
    "parameters = {\n",
    "    \"ex-gwf-u1gwfgwf-s1\": {\"xt3d\": \"none\", },\n",
    "    \"ex-gwf-u1gwfgwf-s2\": {\"xt3d\": \"models\", },\n",
    "    \"ex-gwf-u1gwfgwf-s3\": {\"xt3d\": \"models_exchange\", },\n",
    "    \"ex-gwf-u1gwfgwf-s4\": {\"xt3d\": \"exchange\", },\n",
    "}"
   ]
  },
  {
   "cell_type": "markdown",
   "metadata": {},
   "source": [
    "Table with Model Parameters"
   ]
  },
  {
   "cell_type": "code",
   "execution_count": null,
   "metadata": {},
   "outputs": [],
   "source": [
    "nper = 1  # Number of periods\n",
    "nlay = 1  # Number of layers\n",
    "top = 0.0  # Top of the model ($m$)\n",
    "botm = -100.0  # Layer bottom elevations ($m$)\n",
    "strt = 0.0  # Starting head ($m$)\n",
    "h_left = 1.0  # Constant head boundary LEFT ($m$)\n",
    "h_right = 0.0  # Constant head boundary RIGHT ($m$)\n",
    "icelltype = 0  # Cell conversion type\n",
    "k11 = 1.0  # Horizontal hydraulic conductivity ($m/d$)"
   ]
  },
  {
   "cell_type": "markdown",
   "metadata": {},
   "source": [
    "Static temporal data used by TDIS file\n",
    "Simulation has 1 steady stress period (1 day)\n",
    "with 1 time step"
   ]
  },
  {
   "cell_type": "code",
   "execution_count": null,
   "metadata": {},
   "outputs": [],
   "source": [
    "perlen = [1.0]\n",
    "nstp = [1]\n",
    "tsmult = [1.0, 1.0, 1.0]\n",
    "tdis_ds = list(zip(perlen, nstp, tsmult))"
   ]
  },
  {
   "cell_type": "markdown",
   "metadata": {},
   "source": [
    "Coarse model grid"
   ]
  },
  {
   "cell_type": "code",
   "execution_count": null,
   "metadata": {},
   "outputs": [],
   "source": [
    "nlay = 1\n",
    "nrow = ncol = 7\n",
    "delr = 100.0\n",
    "delc = 100.0\n",
    "tp = 0.0\n",
    "bt = -100.0\n",
    "idomain = np.ones((nlay, nrow, ncol))\n",
    "idomain[:, 2:5, 2:5] = 0\n",
    "gwfname_outer = \"outer\""
   ]
  },
  {
   "cell_type": "markdown",
   "metadata": {},
   "source": [
    "Refined model grid"
   ]
  },
  {
   "cell_type": "code",
   "execution_count": null,
   "metadata": {},
   "outputs": [],
   "source": [
    "rfct = 3\n",
    "nrow_inner = ncol_inner = 9\n",
    "delr_inner = 100.0 / rfct\n",
    "delc_inner = 100.0 / rfct\n",
    "idomain_inner = np.ones((nlay, nrow_inner, ncol_inner))\n",
    "xorigin = 200.0\n",
    "yorigin = 200.0\n",
    "gwfname_inner = \"inner\""
   ]
  },
  {
   "cell_type": "markdown",
   "metadata": {},
   "source": [
    "Solver parameters"
   ]
  },
  {
   "cell_type": "code",
   "execution_count": null,
   "metadata": {
    "lines_to_next_cell": 2
   },
   "outputs": [],
   "source": [
    "nouter = 50\n",
    "ninner = 100\n",
    "hclose = 1e-9\n",
    "rclose = 1e-6"
   ]
  },
  {
   "cell_type": "markdown",
   "metadata": {
    "lines_to_next_cell": 2
   },
   "source": [
    "### Functions to build, write, run, and plot the model\n",
    "\n",
    "MODFLOW 6 flopy simulation object (sim) is returned if building the model"
   ]
  },
  {
   "cell_type": "code",
   "execution_count": null,
   "metadata": {},
   "outputs": [],
   "source": [
    "def build_model(sim_name, xt3d):\n",
    "    xt3d_global = (xt3d == \"models\") or (xt3d == \"models_exchange\")\n",
    "    xt3d_exg = (xt3d == \"models_exchange\") or (xt3d == \"exchange\")\n",
    "\n",
    "    if config.buildModel:\n",
    "        sim_ws = os.path.join(ws, sim_name)\n",
    "        sim = flopy.mf6.MFSimulation(\n",
    "            sim_name=sim_name, sim_ws=sim_ws, exe_name=config.mf6_exe\n",
    "        )\n",
    "        flopy.mf6.ModflowTdis(\n",
    "            sim, nper=nper, perioddata=tdis_ds, time_units=time_units\n",
    "        )\n",
    "        flopy.mf6.ModflowIms(\n",
    "            sim,\n",
    "            linear_acceleration=\"bicgstab\",\n",
    "            outer_maximum=nouter,\n",
    "            outer_dvclose=hclose,\n",
    "            inner_maximum=ninner,\n",
    "            inner_dvclose=hclose,\n",
    "            rcloserecord=\"{} strict\".format(rclose),\n",
    "        )\n",
    "\n",
    "        # The coarse, outer model\n",
    "        gwf_outer = flopy.mf6.ModflowGwf(sim, modelname=gwfname_outer, save_flows=True)\n",
    "        flopy.mf6.ModflowGwfdis(\n",
    "            gwf_outer,\n",
    "            nlay=nlay,\n",
    "            nrow=nrow,\n",
    "            ncol=ncol,\n",
    "            delr=delr,\n",
    "            delc=delc,\n",
    "            idomain=idomain,\n",
    "            top=top,\n",
    "            botm=botm,\n",
    "        )\n",
    "        flopy.mf6.ModflowGwfnpf(\n",
    "            gwf_outer,\n",
    "            icelltype=icelltype,\n",
    "            k=k11,\n",
    "            save_specific_discharge=True,\n",
    "            xt3doptions=xt3d_global,\n",
    "        )\n",
    "        flopy.mf6.ModflowGwfic(gwf_outer, strt=strt)\n",
    "\n",
    "        chd_spd = []\n",
    "        chd_spd += [[0, i, 1.0] for i in [0, 7, 14, 18, 22, 26, 33]]\n",
    "        chd_spd = {0: chd_spd}\n",
    "\n",
    "        # constant head boundary LEFT\n",
    "        left_chd = [\n",
    "            [(ilay, irow, 0), h_left]\n",
    "            for ilay in range(nlay)\n",
    "            for irow in range(nrow)\n",
    "        ]\n",
    "        chd_spd = {0: left_chd}\n",
    "        flopy.mf6.ModflowGwfchd(\n",
    "            gwf_outer,\n",
    "            stress_period_data=chd_spd,\n",
    "            pname=\"CHD-LEFT\",\n",
    "            filename=\"{}.left.chd\".format(gwfname_outer),\n",
    "        )\n",
    "\n",
    "        # constant head boundary RIGHT\n",
    "        right_chd = [\n",
    "            [(ilay, irow, ncol - 1), h_right]\n",
    "            for ilay in range(nlay)\n",
    "            for irow in range(nrow)\n",
    "        ]\n",
    "        chd_spd = {0: right_chd}\n",
    "        flopy.mf6.ModflowGwfchd(\n",
    "            gwf_outer,\n",
    "            stress_period_data=chd_spd,\n",
    "            pname=\"CHD-RIGHT\",\n",
    "            filename=\"{}.right.chd\".format(gwfname_outer),\n",
    "        )\n",
    "\n",
    "        head_filerecord = \"{}.hds\".format(gwfname_outer)\n",
    "        budget_filerecord = \"{}.cbc\".format(gwfname_outer)\n",
    "        flopy.mf6.ModflowGwfoc(\n",
    "            gwf_outer,\n",
    "            head_filerecord=head_filerecord,\n",
    "            budget_filerecord=budget_filerecord,\n",
    "            saverecord=[(\"HEAD\", \"ALL\"), (\"BUDGET\", \"ALL\")],\n",
    "        )\n",
    "\n",
    "        # the refined, inner model\n",
    "        gwf_inner = flopy.mf6.ModflowGwf(sim, modelname=gwfname_inner, save_flows=True)\n",
    "        flopy.mf6.ModflowGwfdis(\n",
    "            gwf_inner,\n",
    "            nlay=nlay,\n",
    "            nrow=nrow_inner,\n",
    "            ncol=ncol_inner,\n",
    "            delr=delr_inner,\n",
    "            delc=delc_inner,\n",
    "            top=top,\n",
    "            botm=botm,\n",
    "            xorigin=xorigin,\n",
    "            yorigin=yorigin,\n",
    "            length_units=length_units,\n",
    "        )\n",
    "        flopy.mf6.ModflowGwfic(gwf_inner, strt=strt)\n",
    "        flopy.mf6.ModflowGwfnpf(\n",
    "            gwf_inner,\n",
    "            save_specific_discharge=True,\n",
    "            xt3doptions=xt3d_global,\n",
    "            save_flows=True,\n",
    "            icelltype=icelltype,\n",
    "            k=k11,\n",
    "        )\n",
    "\n",
    "        head_filerecord = \"{}.hds\".format(gwfname_inner)\n",
    "        budget_filerecord = \"{}.cbc\".format(gwfname_inner)\n",
    "        flopy.mf6.ModflowGwfoc(\n",
    "            gwf_inner,\n",
    "            head_filerecord=head_filerecord,\n",
    "            budget_filerecord=budget_filerecord,\n",
    "            saverecord=[(\"HEAD\", \"ALL\"), (\"BUDGET\", \"ALL\")],\n",
    "        )\n",
    "\n",
    "        # Use Lgr to get the exchange data\n",
    "        nrowp = gwf_outer.dis.nrow.get_data()\n",
    "        ncolp = gwf_outer.dis.ncol.get_data()\n",
    "        delrp = gwf_outer.dis.delr.array\n",
    "        delcp = gwf_outer.dis.delc.array\n",
    "        topp = gwf_outer.dis.top.array\n",
    "        botmp = gwf_outer.dis.botm.array\n",
    "        idomainp = gwf_outer.dis.idomain.array\n",
    "\n",
    "        lgr = Lgr(\n",
    "            nlay,\n",
    "            nrowp,\n",
    "            ncolp,\n",
    "            delrp,\n",
    "            delcp,\n",
    "            topp,\n",
    "            botmp,\n",
    "            idomainp,\n",
    "            ncpp=rfct,\n",
    "            ncppl=1,\n",
    "        )\n",
    "\n",
    "        exgdata = lgr.get_exchange_data(angldegx=True, cdist=True)\n",
    "        for exg in exgdata:\n",
    "            l = exg\n",
    "            angle = l[-2]\n",
    "            if angle == 0:\n",
    "                bname = \"left\"\n",
    "            elif angle == 90.0:\n",
    "                bname = \"bottom\"\n",
    "            elif angle == 180.0:\n",
    "                bname = \"right\"\n",
    "            elif angle == 270.0:\n",
    "                bname = \"top\"\n",
    "            l.append(bname)\n",
    "\n",
    "        # group exchanges based on boundname\n",
    "        exgdata.sort(key=lambda x: x[-3])\n",
    "\n",
    "        flopy.mf6.ModflowGwfgwf(\n",
    "            sim,\n",
    "            exgtype=\"GWF6-GWF6\",\n",
    "            nexg=len(exgdata),\n",
    "            exgmnamea=gwfname_outer,\n",
    "            exgmnameb=gwfname_inner,\n",
    "            exchangedata=exgdata,\n",
    "            xt3d=xt3d_exg,\n",
    "            print_input=True,\n",
    "            print_flows=True,\n",
    "            save_flows=True,\n",
    "            boundnames=True,\n",
    "            auxiliary=[\"ANGLDEGX\", \"CDIST\"],\n",
    "        )\n",
    "\n",
    "        return sim\n",
    "    return None"
   ]
  },
  {
   "cell_type": "markdown",
   "metadata": {},
   "source": [
    "Function to write model files"
   ]
  },
  {
   "cell_type": "code",
   "execution_count": null,
   "metadata": {},
   "outputs": [],
   "source": [
    "def write_model(sim, silent=True):\n",
    "    if config.writeModel:\n",
    "        sim.write_simulation(silent=silent)"
   ]
  },
  {
   "cell_type": "markdown",
   "metadata": {},
   "source": [
    "Function to run the model.\n",
    "True is returned if the model runs successfully\n"
   ]
  },
  {
   "cell_type": "code",
   "execution_count": null,
   "metadata": {},
   "outputs": [],
   "source": [
    "@config.timeit\n",
    "def run_model(sim, silent=False):\n",
    "    success = True\n",
    "    if config.runModel:\n",
    "        success, buff = sim.run_simulation(silent=silent, report=True)\n",
    "        if not success:\n",
    "            print(buff)\n",
    "    return success"
   ]
  },
  {
   "cell_type": "markdown",
   "metadata": {},
   "source": [
    "Functions to plot model results.\n"
   ]
  },
  {
   "cell_type": "code",
   "execution_count": null,
   "metadata": {},
   "outputs": [],
   "source": [
    "def plot_grid(idx, sim):\n",
    "    fs = USGSFigure(figure_type=\"map\", verbose=False)\n",
    "    sim_name = list(parameters.keys())[idx]\n",
    "    gwf_outer = sim.get_model(gwfname_outer)\n",
    "    gwf_inner = sim.get_model(gwfname_inner)\n",
    "\n",
    "    fig = plt.figure(figsize=figure_size)\n",
    "    fig.tight_layout()\n",
    "\n",
    "    ax = fig.add_subplot(1, 1, 1, aspect=\"equal\")\n",
    "    pmv = flopy.plot.PlotMapView(model=gwf_outer, ax=ax, layer=0)\n",
    "    pmv_inner = flopy.plot.PlotMapView(model=gwf_inner, ax=ax, layer=0)\n",
    "\n",
    "    pmv.plot_grid()\n",
    "    pmv_inner.plot_grid()\n",
    "\n",
    "    pmv.plot_bc(name=\"CHD-LEFT\", alpha=0.75)\n",
    "    pmv.plot_bc(name=\"CHD-RIGHT\", alpha=0.75)\n",
    "    ax.set_xlabel(\"x position (m)\")\n",
    "    ax.set_ylabel(\"y position (m)\")\n",
    "\n",
    "    # save figure\n",
    "    if config.plotSave:\n",
    "        fpth = os.path.join(\n",
    "            \"..\", \"figures\", \"{}-grid{}\".format(sim_name, config.figure_ext)\n",
    "        )\n",
    "        fig.savefig(fpth)\n",
    "    return"
   ]
  },
  {
   "cell_type": "code",
   "execution_count": null,
   "metadata": {},
   "outputs": [],
   "source": [
    "def plot_head(idx, sim):\n",
    "    fs = USGSFigure(figure_type=\"map\", verbose=False)\n",
    "    sim_name = list(parameters.keys())[idx]\n",
    "    gwf_outer = sim.get_model(gwfname_outer)\n",
    "    gwf_inner = sim.get_model(gwfname_inner)\n",
    "\n",
    "    fig = plt.figure(figsize=(15, 10))\n",
    "    fig.tight_layout()\n",
    "\n",
    "    head = gwf_outer.output.head().get_data()[0]\n",
    "    head_inner = gwf_inner.output.head().get_data()[0]\n",
    "    head[head == 1e+30] = np.nan\n",
    "    head_inner[head_inner == 1e+30] = np.nan\n",
    "\n",
    "    # create MODFLOW 6 cell-by-cell budget objects\n",
    "    qx, qy, qz = flopy.utils.postprocessing.get_specific_discharge(\n",
    "        gwf_outer.output.budget().get_data(text=\"DATA-SPDIS\", totim=1.0)[0],\n",
    "        gwf_outer,\n",
    "    )\n",
    "    qx_inner, qy_inner, qz_inner = flopy.utils.postprocessing.get_specific_discharge(\n",
    "        gwf_inner.output.budget().get_data(text=\"DATA-SPDIS\", totim=1.0)[0],\n",
    "        gwf_inner,\n",
    "    )\n",
    "\n",
    "    # create plot with head values and spdis\n",
    "    ax = fig.add_subplot(1, 2, 1, aspect=\"equal\")\n",
    "    pmv = flopy.plot.PlotMapView(model=gwf_outer, ax=ax, layer=0)\n",
    "    pmv_inner = flopy.plot.PlotMapView(model=gwf_inner, ax=ax, layer=0, extent=pmv.extent)\n",
    "    cb = pmv.plot_array(head, cmap=\"jet\", vmin=0.0, vmax=1.0)\n",
    "    cb = pmv_inner.plot_array(head_inner, cmap=\"jet\", vmin=0.0, vmax=1.0)\n",
    "    pmv.plot_grid()\n",
    "    pmv_inner.plot_grid()\n",
    "    pmv.plot_vector(\n",
    "        qx, qy, normalize=False, color=\"0.75\",\n",
    "    )\n",
    "    pmv_inner.plot_vector(\n",
    "        qx_inner, qy_inner, normalize=False, color=\"0.75\",\n",
    "    )\n",
    "    cbar = plt.colorbar(cb, shrink=0.25)\n",
    "    cbar.ax.set_xlabel(r\"Head, ($m$)\")\n",
    "    ax.set_xlabel(\"x position (m)\")\n",
    "    ax.set_ylabel(\"y position (m)\")\n",
    "    fs.heading(ax, letter=\"A\", heading=\"Simulated Head\")\n",
    "\n",
    "    # create plot with error in head\n",
    "    ax = fig.add_subplot(1, 2, 2, aspect=\"equal\")\n",
    "    pmv = flopy.plot.PlotMapView(model=gwf_outer, ax=ax, layer=0)\n",
    "    pmv_inner = flopy.plot.PlotMapView(model=gwf_inner, ax=ax, layer=0, extent=pmv.extent)\n",
    "    pmv.plot_grid()\n",
    "    pmv_inner.plot_grid()\n",
    "    x = np.array(gwf_outer.modelgrid.xcellcenters) - 50.0\n",
    "    x_inner = np.array(gwf_inner.modelgrid.xcellcenters) - 50.0\n",
    "    slp = (h_left - h_right) / (50.0 - 650.0)\n",
    "    head_exact = slp * x + h_left\n",
    "    head_exact_inner = slp * x_inner + h_left\n",
    "    err = head - head_exact\n",
    "    err_inner = head_inner - head_exact_inner\n",
    "    vmin = min(np.nanmin(err), np.nanmin(err_inner))\n",
    "    vmax = min(np.nanmax(err), np.nanmax(err_inner))\n",
    "    cb = pmv.plot_array(err, cmap=\"jet\", vmin=vmin, vmax=vmax)\n",
    "    cb = pmv_inner.plot_array(err_inner, cmap=\"jet\", vmin=vmin, vmax=vmax)\n",
    "\n",
    "    cbar = plt.colorbar(cb, shrink=0.25)\n",
    "    cbar.ax.set_xlabel(r\"Error, ($m$)\")\n",
    "    ax.set_xlabel(\"x position (m)\")\n",
    "    ax.set_ylabel(\"y position (m)\")\n",
    "    fs.heading(ax, letter=\"B\", heading=\"Error\")\n",
    "\n",
    "    # save figure\n",
    "    if config.plotSave:\n",
    "        fpth = os.path.join(\n",
    "            \"..\", \"figures\", \"{}-head{}\".format(sim_name, config.figure_ext)\n",
    "        )\n",
    "        fig.savefig(fpth)\n",
    "    return"
   ]
  },
  {
   "cell_type": "code",
   "execution_count": null,
   "metadata": {
    "lines_to_next_cell": 2
   },
   "outputs": [],
   "source": [
    "def plot_results(idx, sim, silent=True):\n",
    "    if config.plotModel:\n",
    "        if idx == 0:\n",
    "            plot_grid(idx, sim)\n",
    "        plot_head(idx, sim)\n",
    "    return"
   ]
  },
  {
   "cell_type": "markdown",
   "metadata": {
    "lines_to_next_cell": 2
   },
   "source": [
    "Function that wraps all of the steps for the FHB model\n",
    "\n",
    "1. build_model,\n",
    "2. write_model,\n",
    "3. run_model, and\n",
    "4. plot_results.\n"
   ]
  },
  {
   "cell_type": "code",
   "execution_count": null,
   "metadata": {},
   "outputs": [],
   "source": [
    "def simulation(idx, silent=True):\n",
    "    key = list(parameters.keys())[idx]\n",
    "    params = parameters[key].copy()\n",
    "    sim = build_model(key, **params)\n",
    "    write_model(sim, silent=silent)\n",
    "    success = run_model(sim, silent=silent)\n",
    "    if success:\n",
    "        plot_results(idx, sim, silent=silent)"
   ]
  },
  {
   "cell_type": "code",
   "execution_count": null,
   "metadata": {},
   "outputs": [],
   "source": []
  },
  {
   "cell_type": "markdown",
   "metadata": {},
   "source": [
    "### USG-ex1 GWF-GWF Exchange Simulation\n",
    "\n",
    "Simulated heads without XT3D."
   ]
  },
  {
   "cell_type": "code",
   "execution_count": null,
   "metadata": {},
   "outputs": [],
   "source": [
    "simulation(0)"
   ]
  },
  {
   "cell_type": "markdown",
   "metadata": {},
   "source": [
    "Simulated heads with XT3D enabled globally, but not at the exchange"
   ]
  },
  {
   "cell_type": "code",
   "execution_count": null,
   "metadata": {},
   "outputs": [],
   "source": [
    "simulation(1)"
   ]
  },
  {
   "cell_type": "markdown",
   "metadata": {},
   "source": [
    "Simulated heads with XT3D enabled globally"
   ]
  },
  {
   "cell_type": "code",
   "execution_count": null,
   "metadata": {},
   "outputs": [],
   "source": [
    "simulation(2)"
   ]
  },
  {
   "cell_type": "markdown",
   "metadata": {},
   "source": [
    "Simulated heads with XT3D enabled _only_ at the model interface."
   ]
  },
  {
   "cell_type": "code",
   "execution_count": null,
   "metadata": {},
   "outputs": [],
   "source": [
    "simulation(3)"
   ]
  }
 ],
 "metadata": {
  "jupytext": {
   "cell_metadata_filter": "-all",
   "main_language": "python",
   "notebook_metadata_filter": "-all"
  }
 },
 "nbformat": 4,
 "nbformat_minor": 2
}
