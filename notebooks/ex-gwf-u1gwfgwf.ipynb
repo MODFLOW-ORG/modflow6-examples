{
 "cells": [
  {
   "cell_type": "markdown",
   "id": "8e712002",
   "metadata": {},
   "source": [
    "## USG-ex1 with GWF-GWF Exchange and XT3D\n",
    "\n",
    "This example shows how the MODFLOW 6 GWF-GWF Exchange can be used to simulate\n",
    "a nested grid problem. The example corresponds to the first example\n",
    "described in the MODFLOW-USG documentation. Instead of the ghost node feature,\n",
    "we use the XT3D option in the NPF package to improve the accuracy at the\n",
    "interface between the models.\n",
    "\n",
    "The problem is run for three different scenarios:\n",
    "\n",
    "1. without XT3D enabled in the NPF package\n",
    "2. with XT3D enabled in both models\n",
    "3. with XT3D enabled in both models and at the interface\n",
    "4. with XT3D enabled _only_ at the interface between the models\n",
    "\n",
    "### Setup\n",
    "\n",
    "Imports"
   ]
  },
  {
   "cell_type": "code",
   "execution_count": null,
   "id": "c4b63938",
   "metadata": {},
   "outputs": [],
   "source": [
    "import os\n",
    "import sys"
   ]
  },
  {
   "cell_type": "code",
   "execution_count": null,
   "id": "cbae84d9",
   "metadata": {},
   "outputs": [],
   "source": [
    "import flopy\n",
    "import matplotlib.pyplot as plt\n",
    "import numpy as np\n",
    "from flopy.utils.lgrutil import Lgr\n",
    "from matplotlib.colors import ListedColormap"
   ]
  },
  {
   "cell_type": "markdown",
   "id": "cb2b730f",
   "metadata": {},
   "source": [
    "Append to system path to include the common subdirectory"
   ]
  },
  {
   "cell_type": "code",
   "execution_count": null,
   "id": "ee209db2",
   "metadata": {},
   "outputs": [],
   "source": [
    "sys.path.append(os.path.join(\"..\", \"common\"))"
   ]
  },
  {
   "cell_type": "markdown",
   "id": "5e428063",
   "metadata": {},
   "source": [
    "import common functionality"
   ]
  },
  {
   "cell_type": "code",
   "execution_count": null,
   "id": "7ff3af73",
   "metadata": {},
   "outputs": [],
   "source": [
    "import config\n",
    "from figspecs import USGSFigure"
   ]
  },
  {
   "cell_type": "markdown",
   "id": "767419f2",
   "metadata": {},
   "source": [
    "Set default figure properties"
   ]
  },
  {
   "cell_type": "code",
   "execution_count": null,
   "id": "0cef19d9",
   "metadata": {},
   "outputs": [],
   "source": [
    "figure_size = (5, 5)\n",
    "figure_size_double = (7, 3)"
   ]
  },
  {
   "cell_type": "markdown",
   "id": "1ad9fca1",
   "metadata": {},
   "source": [
    "Base simulation and model name and workspace"
   ]
  },
  {
   "cell_type": "code",
   "execution_count": null,
   "id": "713269b2",
   "metadata": {},
   "outputs": [],
   "source": [
    "ws = config.base_ws"
   ]
  },
  {
   "cell_type": "markdown",
   "id": "c5d53a81",
   "metadata": {},
   "source": [
    "Model units"
   ]
  },
  {
   "cell_type": "code",
   "execution_count": null,
   "id": "2e1a25ce",
   "metadata": {},
   "outputs": [],
   "source": [
    "length_units = \"meters\"\n",
    "time_units = \"days\""
   ]
  },
  {
   "cell_type": "markdown",
   "id": "c5abee1a",
   "metadata": {},
   "source": [
    "Scenario parameters"
   ]
  },
  {
   "cell_type": "code",
   "execution_count": null,
   "id": "4f4d6d41",
   "metadata": {},
   "outputs": [],
   "source": [
    "parameters = {\n",
    "    \"ex-gwf-u1gwfgwf-s1\": {\n",
    "        \"XT3D_in_models\": False,\n",
    "        \"XT3D_at_exchange\": False,\n",
    "    },\n",
    "    \"ex-gwf-u1gwfgwf-s2\": {\n",
    "        \"XT3D_in_models\": True,\n",
    "        \"XT3D_at_exchange\": False,\n",
    "    },\n",
    "    \"ex-gwf-u1gwfgwf-s3\": {\n",
    "        \"XT3D_in_models\": True,\n",
    "        \"XT3D_at_exchange\": True,\n",
    "    },\n",
    "    \"ex-gwf-u1gwfgwf-s4\": {\n",
    "        \"XT3D_in_models\": False,\n",
    "        \"XT3D_at_exchange\": True,\n",
    "    },\n",
    "}"
   ]
  },
  {
   "cell_type": "markdown",
   "id": "bf3cfac7",
   "metadata": {},
   "source": [
    "Table with Model Parameters"
   ]
  },
  {
   "cell_type": "code",
   "execution_count": null,
   "id": "16e86f22",
   "metadata": {},
   "outputs": [],
   "source": [
    "nper = 1  # Number of periods\n",
    "nlay = 1  # Number of layers\n",
    "top = 0.0  # Top of the model ($m$)\n",
    "botm = -100.0  # Layer bottom elevations ($m$)\n",
    "strt = 0.0  # Starting head ($m$)\n",
    "h_left = 1.0  # Constant head boundary LEFT ($m$)\n",
    "h_right = 0.0  # Constant head boundary RIGHT ($m$)\n",
    "icelltype = 0  # Cell conversion type\n",
    "k11 = 1.0  # Horizontal hydraulic conductivity ($m/d$)"
   ]
  },
  {
   "cell_type": "markdown",
   "id": "a7e3865b",
   "metadata": {},
   "source": [
    "Static temporal data used by TDIS file\n",
    "Simulation has 1 steady stress period (1 day)\n",
    "with 1 time step"
   ]
  },
  {
   "cell_type": "code",
   "execution_count": null,
   "id": "5e36bd91",
   "metadata": {},
   "outputs": [],
   "source": [
    "perlen = [1.0]\n",
    "nstp = [1]\n",
    "tsmult = [1.0, 1.0, 1.0]\n",
    "tdis_ds = list(zip(perlen, nstp, tsmult))"
   ]
  },
  {
   "cell_type": "markdown",
   "id": "efeed491",
   "metadata": {},
   "source": [
    "Coarse model grid"
   ]
  },
  {
   "cell_type": "code",
   "execution_count": null,
   "id": "22aae35b",
   "metadata": {},
   "outputs": [],
   "source": [
    "nlay = 1\n",
    "nrow = ncol = 7\n",
    "delr = 100.0\n",
    "delc = 100.0\n",
    "tp = 0.0\n",
    "bt = -100.0\n",
    "idomain = np.ones((nlay, nrow, ncol))\n",
    "idomain[:, 2:5, 2:5] = 0\n",
    "gwfname_outer = \"outer\""
   ]
  },
  {
   "cell_type": "markdown",
   "id": "7b49a2e7",
   "metadata": {},
   "source": [
    "Refined model grid"
   ]
  },
  {
   "cell_type": "code",
   "execution_count": null,
   "id": "4f31c925",
   "metadata": {},
   "outputs": [],
   "source": [
    "rfct = 3\n",
    "nrow_inner = ncol_inner = 9\n",
    "delr_inner = 100.0 / rfct\n",
    "delc_inner = 100.0 / rfct\n",
    "idomain_inner = np.ones((nlay, nrow_inner, ncol_inner))\n",
    "xorigin = 200.0\n",
    "yorigin = 200.0\n",
    "gwfname_inner = \"inner\""
   ]
  },
  {
   "cell_type": "markdown",
   "id": "f9e05f92",
   "metadata": {},
   "source": [
    "Solver parameters"
   ]
  },
  {
   "cell_type": "code",
   "execution_count": null,
   "id": "e5996c64",
   "metadata": {
    "lines_to_next_cell": 2
   },
   "outputs": [],
   "source": [
    "nouter = 50\n",
    "ninner = 100\n",
    "hclose = 1e-9\n",
    "rclose = 1e-6"
   ]
  },
  {
   "cell_type": "markdown",
   "id": "9da5ab89",
   "metadata": {
    "lines_to_next_cell": 2
   },
   "source": [
    "### Functions to build, write, run, and plot the model\n",
    "\n",
    "MODFLOW 6 flopy simulation object (sim) is returned if building the model"
   ]
  },
  {
   "cell_type": "code",
   "execution_count": null,
   "id": "42744437",
   "metadata": {
    "lines_to_next_cell": 2
   },
   "outputs": [],
   "source": [
    "def build_model(sim_name, XT3D_in_models, XT3D_at_exchange):\n",
    "    if config.buildModel:\n",
    "        sim_ws = os.path.join(ws, sim_name)\n",
    "        sim = flopy.mf6.MFSimulation(\n",
    "            sim_name=sim_name, sim_ws=sim_ws, exe_name=\"mf6\"\n",
    "        )\n",
    "        flopy.mf6.ModflowTdis(sim, nper=nper, perioddata=tdis_ds, time_units=time_units)\n",
    "        flopy.mf6.ModflowIms(\n",
    "            sim,\n",
    "            linear_acceleration=\"bicgstab\",\n",
    "            outer_maximum=nouter,\n",
    "            outer_dvclose=hclose,\n",
    "            inner_maximum=ninner,\n",
    "            inner_dvclose=hclose,\n",
    "            rcloserecord=f\"{rclose} strict\",\n",
    "        )\n",
    "\n",
    "        # The coarse, outer model\n",
    "        gwf_outer = flopy.mf6.ModflowGwf(sim, modelname=gwfname_outer, save_flows=True)\n",
    "        flopy.mf6.ModflowGwfdis(\n",
    "            gwf_outer,\n",
    "            nlay=nlay,\n",
    "            nrow=nrow,\n",
    "            ncol=ncol,\n",
    "            delr=delr,\n",
    "            delc=delc,\n",
    "            idomain=idomain,\n",
    "            top=top,\n",
    "            botm=botm,\n",
    "        )\n",
    "        flopy.mf6.ModflowGwfnpf(\n",
    "            gwf_outer,\n",
    "            icelltype=icelltype,\n",
    "            k=k11,\n",
    "            save_specific_discharge=True,\n",
    "            xt3doptions=XT3D_in_models,\n",
    "        )\n",
    "        flopy.mf6.ModflowGwfic(gwf_outer, strt=strt)\n",
    "\n",
    "        # constant head boundary LEFT\n",
    "        left_chd = [\n",
    "            [(ilay, irow, 0), h_left] for ilay in range(nlay) for irow in range(nrow)\n",
    "        ]\n",
    "        chd_spd = {0: left_chd}\n",
    "        flopy.mf6.ModflowGwfchd(\n",
    "            gwf_outer,\n",
    "            stress_period_data=chd_spd,\n",
    "            pname=\"CHD-LEFT\",\n",
    "            filename=f\"{gwfname_outer}.left.chd\",\n",
    "        )\n",
    "\n",
    "        # constant head boundary RIGHT\n",
    "        right_chd = [\n",
    "            [(ilay, irow, ncol - 1), h_right]\n",
    "            for ilay in range(nlay)\n",
    "            for irow in range(nrow)\n",
    "        ]\n",
    "        chd_spd = {0: right_chd}\n",
    "        flopy.mf6.ModflowGwfchd(\n",
    "            gwf_outer,\n",
    "            stress_period_data=chd_spd,\n",
    "            pname=\"CHD-RIGHT\",\n",
    "            filename=f\"{gwfname_outer}.right.chd\",\n",
    "        )\n",
    "\n",
    "        head_filerecord = f\"{gwfname_outer}.hds\"\n",
    "        budget_filerecord = f\"{gwfname_outer}.cbc\"\n",
    "        flopy.mf6.ModflowGwfoc(\n",
    "            gwf_outer,\n",
    "            head_filerecord=head_filerecord,\n",
    "            budget_filerecord=budget_filerecord,\n",
    "            saverecord=[(\"HEAD\", \"ALL\"), (\"BUDGET\", \"ALL\")],\n",
    "        )\n",
    "\n",
    "        # the refined, inner model\n",
    "        gwf_inner = flopy.mf6.ModflowGwf(sim, modelname=gwfname_inner, save_flows=True)\n",
    "        flopy.mf6.ModflowGwfdis(\n",
    "            gwf_inner,\n",
    "            nlay=nlay,\n",
    "            nrow=nrow_inner,\n",
    "            ncol=ncol_inner,\n",
    "            delr=delr_inner,\n",
    "            delc=delc_inner,\n",
    "            top=top,\n",
    "            botm=botm,\n",
    "            xorigin=xorigin,\n",
    "            yorigin=yorigin,\n",
    "            length_units=length_units,\n",
    "        )\n",
    "        flopy.mf6.ModflowGwfic(gwf_inner, strt=strt)\n",
    "        flopy.mf6.ModflowGwfnpf(\n",
    "            gwf_inner,\n",
    "            save_specific_discharge=True,\n",
    "            xt3doptions=XT3D_in_models,\n",
    "            save_flows=True,\n",
    "            icelltype=icelltype,\n",
    "            k=k11,\n",
    "        )\n",
    "\n",
    "        head_filerecord = f\"{gwfname_inner}.hds\"\n",
    "        budget_filerecord = f\"{gwfname_inner}.cbc\"\n",
    "        flopy.mf6.ModflowGwfoc(\n",
    "            gwf_inner,\n",
    "            head_filerecord=head_filerecord,\n",
    "            budget_filerecord=budget_filerecord,\n",
    "            saverecord=[(\"HEAD\", \"ALL\"), (\"BUDGET\", \"ALL\")],\n",
    "        )\n",
    "\n",
    "        # Use Lgr to get the exchange data\n",
    "        nrowp = gwf_outer.dis.nrow.get_data()\n",
    "        ncolp = gwf_outer.dis.ncol.get_data()\n",
    "        delrp = gwf_outer.dis.delr.array\n",
    "        delcp = gwf_outer.dis.delc.array\n",
    "        topp = gwf_outer.dis.top.array\n",
    "        botmp = gwf_outer.dis.botm.array\n",
    "        idomainp = gwf_outer.dis.idomain.array\n",
    "\n",
    "        lgr = Lgr(\n",
    "            nlay,\n",
    "            nrowp,\n",
    "            ncolp,\n",
    "            delrp,\n",
    "            delcp,\n",
    "            topp,\n",
    "            botmp,\n",
    "            idomainp,\n",
    "            ncpp=rfct,\n",
    "            ncppl=1,\n",
    "        )\n",
    "\n",
    "        exgdata = lgr.get_exchange_data(angldegx=True, cdist=True)\n",
    "        for exg in exgdata:\n",
    "            l = exg\n",
    "            angle = l[-2]\n",
    "            if angle == 0:\n",
    "                bname = \"left\"\n",
    "            elif angle == 90.0:\n",
    "                bname = \"bottom\"\n",
    "            elif angle == 180.0:\n",
    "                bname = \"right\"\n",
    "            elif angle == 270.0:\n",
    "                bname = \"top\"\n",
    "            l.append(bname)\n",
    "\n",
    "        # group exchanges based on boundname\n",
    "        exgdata.sort(key=lambda x: x[-3])\n",
    "\n",
    "        flopy.mf6.ModflowGwfgwf(\n",
    "            sim,\n",
    "            exgtype=\"GWF6-GWF6\",\n",
    "            nexg=len(exgdata),\n",
    "            exgmnamea=gwfname_outer,\n",
    "            exgmnameb=gwfname_inner,\n",
    "            exchangedata=exgdata,\n",
    "            xt3d=XT3D_at_exchange,\n",
    "            print_input=True,\n",
    "            print_flows=True,\n",
    "            save_flows=True,\n",
    "            boundnames=True,\n",
    "            auxiliary=[\"ANGLDEGX\", \"CDIST\"],\n",
    "        )\n",
    "\n",
    "        return sim\n",
    "    return None"
   ]
  },
  {
   "cell_type": "markdown",
   "id": "4a6b0d4b",
   "metadata": {
    "lines_to_next_cell": 2
   },
   "source": [
    "Function to write model files"
   ]
  },
  {
   "cell_type": "code",
   "execution_count": null,
   "id": "1844a75b",
   "metadata": {
    "lines_to_next_cell": 2
   },
   "outputs": [],
   "source": [
    "def write_model(sim, silent=True):\n",
    "    if config.writeModel:\n",
    "        sim.write_simulation(silent=silent)"
   ]
  },
  {
   "cell_type": "markdown",
   "id": "38da08d5",
   "metadata": {
    "lines_to_next_cell": 2
   },
   "source": [
    "Function to run the model.\n",
    "True is returned if the model runs successfully\n"
   ]
  },
  {
   "cell_type": "code",
   "execution_count": null,
   "id": "94245f45",
   "metadata": {
    "lines_to_next_cell": 2
   },
   "outputs": [],
   "source": [
    "@config.timeit\n",
    "def run_model(sim, silent=False):\n",
    "    success = True\n",
    "    if config.runModel:\n",
    "        success, buff = sim.run_simulation(silent=silent, report=True)\n",
    "        if not success:\n",
    "            print(buff)\n",
    "    return success"
   ]
  },
  {
   "cell_type": "markdown",
   "id": "47d67cb4",
   "metadata": {
    "lines_to_next_cell": 2
   },
   "source": [
    "Functions to plot model results.\n"
   ]
  },
  {
   "cell_type": "code",
   "execution_count": null,
   "id": "70f88c78",
   "metadata": {},
   "outputs": [],
   "source": [
    "def plot_grid(idx, sim):\n",
    "    fs = USGSFigure(figure_type=\"map\", verbose=False)\n",
    "    sim_name = list(parameters.keys())[idx]\n",
    "    gwf_outer = sim.get_model(gwfname_outer)\n",
    "    gwf_inner = sim.get_model(gwfname_inner)\n",
    "\n",
    "    fig = plt.figure(figsize=figure_size)\n",
    "    fig.tight_layout()\n",
    "\n",
    "    ax = fig.add_subplot(1, 1, 1, aspect=\"equal\")\n",
    "    pmv = flopy.plot.PlotMapView(model=gwf_outer, ax=ax, layer=0)\n",
    "    pmv_inner = flopy.plot.PlotMapView(model=gwf_inner, ax=ax, layer=0)\n",
    "\n",
    "    pmv.plot_grid()\n",
    "    pmv_inner.plot_grid()\n",
    "\n",
    "    pmv.plot_bc(name=\"CHD-LEFT\", alpha=0.75)\n",
    "    pmv.plot_bc(name=\"CHD-RIGHT\", alpha=0.75)\n",
    "\n",
    "    ax.plot([200, 500, 500, 200, 200], [200, 200, 500, 500, 200], \"r--\", linewidth=2.0)\n",
    "\n",
    "    ax.set_xlabel(\"x position (m)\")\n",
    "    ax.set_ylabel(\"y position (m)\")\n",
    "\n",
    "    # save figure\n",
    "    if config.plotSave:\n",
    "        fpth = os.path.join(\"..\", \"figures\", f\"{sim_name}-grid{config.figure_ext}\")\n",
    "        fig.savefig(fpth)\n",
    "    return"
   ]
  },
  {
   "cell_type": "code",
   "execution_count": null,
   "id": "12906597",
   "metadata": {},
   "outputs": [],
   "source": [
    "def plot_stencils(idx, sim):\n",
    "    fs = USGSFigure(figure_type=\"map\", verbose=False)\n",
    "    sim_name = list(parameters.keys())[idx]\n",
    "    gwf_outer = sim.get_model(gwfname_outer)\n",
    "    gwf_inner = sim.get_model(gwfname_inner)\n",
    "\n",
    "    fig = plt.figure(figsize=figure_size_double)\n",
    "    fig.tight_layout()\n",
    "\n",
    "    # left plot, with stencils at the interface\n",
    "    ax = fig.add_subplot(1, 2, 1, aspect=\"equal\")\n",
    "    pmv = flopy.plot.PlotMapView(model=gwf_outer, ax=ax, layer=0)\n",
    "    pmv_inner = flopy.plot.PlotMapView(\n",
    "        model=gwf_inner, ax=ax, layer=0, extent=pmv.extent\n",
    "    )\n",
    "    pmv.plot_grid()\n",
    "    pmv_inner.plot_grid()\n",
    "\n",
    "    stencil = np.zeros(pmv.mg.shape, dtype=int)\n",
    "    stencil_inner = np.zeros(pmv_inner.mg.shape, dtype=int)\n",
    "\n",
    "    # stencil 1\n",
    "    stencil[0, 0, 3] = 1\n",
    "    stencil[0, 1, 2] = 1\n",
    "    stencil[0, 1, 3] = 1\n",
    "    stencil[0, 1, 4] = 1\n",
    "    stencil_inner[0, 0, 3] = 1\n",
    "    stencil_inner[0, 0, 4] = 1\n",
    "    stencil_inner[0, 0, 5] = 1\n",
    "    stencil_inner[0, 1, 4] = 1\n",
    "\n",
    "    # stencil 2\n",
    "    stencil[0, 4, 1] = 1\n",
    "    stencil[0, 5, 1] = 1\n",
    "    stencil[0, 5, 2] = 1\n",
    "    stencil[0, 5, 3] = 1\n",
    "    stencil[0, 6, 2] = 1\n",
    "    stencil_inner[0, 7, 0] = 1\n",
    "    stencil_inner[0, 8, 0] = 1\n",
    "    stencil_inner[0, 8, 1] = 1\n",
    "\n",
    "    # markers\n",
    "    x = [350.0, 216.666]\n",
    "    y = [500.0, 200.0]\n",
    "\n",
    "    stencil = np.ma.masked_equal(stencil, 0)\n",
    "    stencil_inner = np.ma.masked_equal(stencil_inner, 0)\n",
    "    cmap = ListedColormap([\"dodgerblue\"])\n",
    "    pmv.plot_array(stencil, cmap=cmap)\n",
    "    pmv_inner.plot_array(stencil_inner, cmap=cmap)\n",
    "    plt.scatter(x, y, facecolors=\"r\")\n",
    "\n",
    "    ax.set_xlabel(\"x position (m)\")\n",
    "    ax.set_ylabel(\"y position (m)\")\n",
    "\n",
    "    # right plot, with stencils '1 connection away from the interface'\n",
    "    ax = fig.add_subplot(1, 2, 2, aspect=\"equal\")\n",
    "    pmv = flopy.plot.PlotMapView(model=gwf_outer, ax=ax, layer=0)\n",
    "    pmv_inner = flopy.plot.PlotMapView(\n",
    "        model=gwf_inner, ax=ax, layer=0, extent=pmv.extent\n",
    "    )\n",
    "    pmv.plot_grid()\n",
    "    pmv_inner.plot_grid()\n",
    "\n",
    "    stencil = np.zeros(pmv.mg.shape, dtype=int)\n",
    "    stencil_inner = np.zeros(pmv_inner.mg.shape, dtype=int)\n",
    "\n",
    "    # stencil 1\n",
    "    stencil[0, 0, 1] = 1\n",
    "    stencil[0, 1, 1] = 1\n",
    "    stencil[0, 1, 2] = 1\n",
    "    stencil[0, 1, 0] = 1\n",
    "    stencil[0, 2, 1] = 1\n",
    "    stencil[0, 2, 0] = 1\n",
    "    stencil[0, 3, 1] = 1\n",
    "    stencil_inner[0, 0, 0] = 1\n",
    "    stencil_inner[0, 1, 0] = 1\n",
    "    stencil_inner[0, 2, 0] = 1\n",
    "\n",
    "    # stencil 2\n",
    "    stencil_inner[0, 6, 7] = 1\n",
    "    stencil_inner[0, 7, 6] = 1\n",
    "    stencil_inner[0, 7, 7] = 1\n",
    "    stencil_inner[0, 7, 8] = 1\n",
    "    stencil_inner[0, 8, 6] = 1\n",
    "    stencil_inner[0, 8, 7] = 1\n",
    "    stencil_inner[0, 8, 8] = 1\n",
    "    stencil[0, 5, 4] = 1\n",
    "\n",
    "    # markers\n",
    "    x = [150.0, 450.0]\n",
    "    y = [500.0, 233.333]\n",
    "\n",
    "    stencil = np.ma.masked_equal(stencil, 0)\n",
    "    stencil_inner = np.ma.masked_equal(stencil_inner, 0)\n",
    "    cmap = ListedColormap([\"dodgerblue\"])\n",
    "    pmv.plot_array(stencil, cmap=cmap)\n",
    "    pmv_inner.plot_array(stencil_inner, cmap=cmap)\n",
    "    plt.scatter(x, y, facecolors=\"r\")\n",
    "\n",
    "    ax.set_xlabel(\"x position (m)\")\n",
    "    ax.set_ylabel(\"y position (m)\")\n",
    "\n",
    "    # save figure\n",
    "    if config.plotSave:\n",
    "        fpth = os.path.join(\"..\", \"figures\", f\"{sim_name}-stencils{config.figure_ext}\")\n",
    "        fig.savefig(fpth)\n",
    "    return"
   ]
  },
  {
   "cell_type": "code",
   "execution_count": null,
   "id": "2ade411b",
   "metadata": {},
   "outputs": [],
   "source": [
    "def plot_head(idx, sim):\n",
    "    fs = USGSFigure(figure_type=\"map\", verbose=False)\n",
    "    sim_name = list(parameters.keys())[idx]\n",
    "    gwf_outer = sim.get_model(gwfname_outer)\n",
    "    gwf_inner = sim.get_model(gwfname_inner)\n",
    "\n",
    "    fig = plt.figure(figsize=figure_size_double)\n",
    "    fig.tight_layout()\n",
    "\n",
    "    head = gwf_outer.output.head().get_data()[0]\n",
    "    head_inner = gwf_inner.output.head().get_data()[0]\n",
    "    head[head == 1e30] = np.nan\n",
    "    head_inner[head_inner == 1e30] = np.nan\n",
    "\n",
    "    # create MODFLOW 6 cell-by-cell budget objects\n",
    "    qx, qy, qz = flopy.utils.postprocessing.get_specific_discharge(\n",
    "        gwf_outer.output.budget().get_data(text=\"DATA-SPDIS\", totim=1.0)[0],\n",
    "        gwf_outer,\n",
    "    )\n",
    "    qx_inner, qy_inner, qz_inner = flopy.utils.postprocessing.get_specific_discharge(\n",
    "        gwf_inner.output.budget().get_data(text=\"DATA-SPDIS\", totim=1.0)[0],\n",
    "        gwf_inner,\n",
    "    )\n",
    "\n",
    "    # create plot with head values and spdis\n",
    "    ax = fig.add_subplot(1, 2, 1, aspect=\"equal\")\n",
    "    pmv = flopy.plot.PlotMapView(model=gwf_outer, ax=ax, layer=0)\n",
    "    pmv_inner = flopy.plot.PlotMapView(\n",
    "        model=gwf_inner, ax=ax, layer=0, extent=pmv.extent\n",
    "    )\n",
    "    cb = pmv.plot_array(head, cmap=\"jet\", vmin=0.0, vmax=1.0)\n",
    "    cb = pmv_inner.plot_array(head_inner, cmap=\"jet\", vmin=0.0, vmax=1.0)\n",
    "    pmv.plot_grid()\n",
    "    pmv_inner.plot_grid()\n",
    "    pmv.plot_vector(\n",
    "        qx,\n",
    "        qy,\n",
    "        normalize=False,\n",
    "        color=\"0.75\",\n",
    "    )\n",
    "    pmv_inner.plot_vector(\n",
    "        qx_inner,\n",
    "        qy_inner,\n",
    "        normalize=False,\n",
    "        color=\"0.75\",\n",
    "    )\n",
    "    cbar = plt.colorbar(cb, shrink=0.25)\n",
    "    cbar.ax.set_xlabel(r\"Head, ($m$)\")\n",
    "    ax.set_xlabel(\"x position (m)\")\n",
    "    ax.set_ylabel(\"y position (m)\")\n",
    "    fs.heading(ax, letter=\"A\", heading=\"Simulated Head\")\n",
    "\n",
    "    # create plot with error in head\n",
    "    ax = fig.add_subplot(1, 2, 2, aspect=\"equal\")\n",
    "    pmv = flopy.plot.PlotMapView(model=gwf_outer, ax=ax, layer=0)\n",
    "    pmv_inner = flopy.plot.PlotMapView(\n",
    "        model=gwf_inner, ax=ax, layer=0, extent=pmv.extent\n",
    "    )\n",
    "    pmv.plot_grid()\n",
    "    pmv_inner.plot_grid()\n",
    "    x = np.array(gwf_outer.modelgrid.xcellcenters) - 50.0\n",
    "    x_inner = np.array(gwf_inner.modelgrid.xcellcenters) - 50.0\n",
    "    slp = (h_left - h_right) / (50.0 - 650.0)\n",
    "    head_exact = slp * x + h_left\n",
    "    head_exact_inner = slp * x_inner + h_left\n",
    "    err = head - head_exact\n",
    "    err_inner = head_inner - head_exact_inner\n",
    "    vmin = min(np.nanmin(err), np.nanmin(err_inner))\n",
    "    vmax = min(np.nanmax(err), np.nanmax(err_inner))\n",
    "    cb = pmv.plot_array(err, cmap=\"jet\", vmin=vmin, vmax=vmax)\n",
    "    cb = pmv_inner.plot_array(err_inner, cmap=\"jet\", vmin=vmin, vmax=vmax)\n",
    "\n",
    "    cbar = plt.colorbar(cb, shrink=0.25)\n",
    "    cbar.ax.set_xlabel(r\"Error, ($m$)\")\n",
    "    ax.set_xlabel(\"x position (m)\")\n",
    "    ax.set_ylabel(\"y position (m)\")\n",
    "    fs.heading(ax, letter=\"B\", heading=\"Error\")\n",
    "\n",
    "    # save figure\n",
    "    if config.plotSave:\n",
    "        fpth = os.path.join(\"..\", \"figures\", f\"{sim_name}-head{config.figure_ext}\")\n",
    "        fig.savefig(fpth)\n",
    "    return"
   ]
  },
  {
   "cell_type": "code",
   "execution_count": null,
   "id": "02790070",
   "metadata": {
    "lines_to_next_cell": 2
   },
   "outputs": [],
   "source": [
    "def plot_results(idx, sim, silent=True):\n",
    "    if config.plotModel:\n",
    "        if idx == 0:\n",
    "            plot_grid(idx, sim)\n",
    "            plot_stencils(idx, sim)\n",
    "        plot_head(idx, sim)\n",
    "    return"
   ]
  },
  {
   "cell_type": "markdown",
   "id": "be490a7e",
   "metadata": {
    "lines_to_next_cell": 2
   },
   "source": [
    "Function that wraps all of the steps for the FHB model\n",
    "\n",
    "1. build_model,\n",
    "2. write_model,\n",
    "3. run_model, and\n",
    "4. plot_results.\n"
   ]
  },
  {
   "cell_type": "code",
   "execution_count": null,
   "id": "2353b47c",
   "metadata": {},
   "outputs": [],
   "source": [
    "def simulation(idx, silent=True):\n",
    "    key = list(parameters.keys())[idx]\n",
    "    params = parameters[key].copy()\n",
    "    sim = build_model(key, **params)\n",
    "    write_model(sim, silent=silent)\n",
    "    success = run_model(sim, silent=silent)\n",
    "    if success:\n",
    "        plot_results(idx, sim, silent=silent)"
   ]
  },
  {
   "cell_type": "code",
   "execution_count": null,
   "id": "5e872a16",
   "metadata": {},
   "outputs": [],
   "source": [
    "# nosetest - exclude block from this nosetest to the next nosetest\n",
    "def test_01():\n",
    "    simulation(0, silent=False)"
   ]
  },
  {
   "cell_type": "code",
   "execution_count": null,
   "id": "5d1aab01",
   "metadata": {},
   "outputs": [],
   "source": [
    "def test_02():\n",
    "    simulation(1, silent=False)"
   ]
  },
  {
   "cell_type": "code",
   "execution_count": null,
   "id": "aa9328c6",
   "metadata": {},
   "outputs": [],
   "source": [
    "def test_03():\n",
    "    simulation(2, silent=False)"
   ]
  },
  {
   "cell_type": "code",
   "execution_count": null,
   "id": "d2e0c073",
   "metadata": {},
   "outputs": [],
   "source": [
    "def test_04():\n",
    "    simulation(3, silent=False)"
   ]
  },
  {
   "cell_type": "markdown",
   "id": "d7fa4632",
   "metadata": {},
   "source": [
    "nosetest end"
   ]
  },
  {
   "cell_type": "code",
   "execution_count": null,
   "id": "5ed62009",
   "metadata": {},
   "outputs": [],
   "source": [
    "if __name__ == \"__main__\":\n",
    "    # ### USG-ex1 GWF-GWF Exchange Simulation\n",
    "    #\n",
    "    # Simulated heads without XT3D.\n",
    "\n",
    "    simulation(0)\n",
    "\n",
    "    # Simulated heads with XT3D enabled globally, but not at the exchange\n",
    "\n",
    "    simulation(1)\n",
    "\n",
    "    # Simulated heads with XT3D enabled globally\n",
    "\n",
    "    simulation(2)\n",
    "\n",
    "    # Simulated heads with XT3D enabled _only_ at the model interface.\n",
    "\n",
    "    simulation(3)"
   ]
  }
 ],
 "metadata": {
  "jupytext": {
   "cell_metadata_filter": "-all",
   "main_language": "python",
   "notebook_metadata_filter": "-all"
  }
 },
 "nbformat": 4,
 "nbformat_minor": 5
}
