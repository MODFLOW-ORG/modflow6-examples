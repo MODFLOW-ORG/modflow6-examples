{
 "cells": [
  {
   "cell_type": "markdown",
   "metadata": {},
   "source": [
    "## Capture fraction analysis\n",
    "\n",
    "This problem is an example of a capture fraction analysis based on\n",
    "Leake and others (2010) using the model developed by Freyberg (1988) and\n",
    "the MODFLOW API. The MODFLOW API is used because the capture fraction\n",
    "for each cell can be calculated without regenerating the input files.\n",
    "The capture fraction perturbation flux is added to the second well (WEL)\n",
    "package model.\n"
   ]
  },
  {
   "cell_type": "markdown",
   "metadata": {},
   "source": [
    "### Capture Fraction Problem Setup\n",
    "\n",
    "Imports"
   ]
  },
  {
   "cell_type": "code",
   "execution_count": null,
   "metadata": {},
   "outputs": [],
   "source": [
    "import os\n",
    "import sys\n",
    "import numpy as np\n",
    "import matplotlib as mpl\n",
    "import matplotlib.pyplot as plt\n",
    "import flopy\n",
    "import modflowapi"
   ]
  },
  {
   "cell_type": "markdown",
   "metadata": {},
   "source": [
    "Append to system path to include the common subdirectory"
   ]
  },
  {
   "cell_type": "code",
   "execution_count": null,
   "metadata": {},
   "outputs": [],
   "source": [
    "sys.path.append(os.path.join(\"..\", \"common\"))"
   ]
  },
  {
   "cell_type": "markdown",
   "metadata": {},
   "source": [
    "import common functionality"
   ]
  },
  {
   "cell_type": "code",
   "execution_count": null,
   "metadata": {},
   "outputs": [],
   "source": [
    "import config\n",
    "from figspecs import USGSFigure"
   ]
  },
  {
   "cell_type": "markdown",
   "metadata": {},
   "source": [
    "Set figure properties specific to the"
   ]
  },
  {
   "cell_type": "code",
   "execution_count": null,
   "metadata": {},
   "outputs": [],
   "source": [
    "figure_size = (6, 6)"
   ]
  },
  {
   "cell_type": "markdown",
   "metadata": {},
   "source": [
    "Base simulation and model name and workspace"
   ]
  },
  {
   "cell_type": "code",
   "execution_count": null,
   "metadata": {},
   "outputs": [],
   "source": [
    "ws = config.base_ws"
   ]
  },
  {
   "cell_type": "markdown",
   "metadata": {},
   "source": [
    "Simulation name"
   ]
  },
  {
   "cell_type": "code",
   "execution_count": null,
   "metadata": {},
   "outputs": [],
   "source": [
    "sim_name = \"ex-gwf-capture\""
   ]
  },
  {
   "cell_type": "markdown",
   "metadata": {},
   "source": [
    "Model units"
   ]
  },
  {
   "cell_type": "code",
   "execution_count": null,
   "metadata": {},
   "outputs": [],
   "source": [
    "length_units = \"meters\"\n",
    "time_units = \"seconds\""
   ]
  },
  {
   "cell_type": "markdown",
   "metadata": {},
   "source": [
    "Load the bottom, hydraulic conductivity, and idomain arrays"
   ]
  },
  {
   "cell_type": "code",
   "execution_count": null,
   "metadata": {
    "lines_to_next_cell": 2
   },
   "outputs": [],
   "source": [
    "bottom = np.loadtxt(\n",
    "    os.path.join(\"..\", \"data\", sim_name, \"bottom.txt\"),\n",
    ")\n",
    "k11 = np.loadtxt(\n",
    "    os.path.join(\"..\", \"data\", sim_name, \"hydraulic_conductivity.txt\"),\n",
    ")\n",
    "idomain = np.loadtxt(\n",
    "    os.path.join(\"..\", \"data\", sim_name, \"idomain.txt\"),\n",
    "    dtype=np.int32,\n",
    ")"
   ]
  },
  {
   "cell_type": "markdown",
   "metadata": {},
   "source": [
    "Table Capture Fraction Model Parameters"
   ]
  },
  {
   "cell_type": "code",
   "execution_count": null,
   "metadata": {},
   "outputs": [],
   "source": [
    "nper = 1  # Number of periods\n",
    "nlay = 1  # Number of layers\n",
    "nrow = 40  # Number of rows\n",
    "ncol = 20  # Number of columns\n",
    "delr = 250.0  # Column width ($m$)\n",
    "delc = 250.0  # Row width ($m$)\n",
    "top = 35.0  # Top of the model ($m$)\n",
    "icelltype = 1  # Cell conversion type\n",
    "strt = 45.0  # Starting head ($m$)\n",
    "recharge = 1.60000000E-09  # Recharge rate ($m/s$)\n",
    "cf_q = -1e-3 # Perturbation flux ($m/s$)"
   ]
  },
  {
   "cell_type": "markdown",
   "metadata": {},
   "source": [
    "Static temporal data used by TDIS file"
   ]
  },
  {
   "cell_type": "code",
   "execution_count": null,
   "metadata": {
    "lines_to_next_cell": 2
   },
   "outputs": [],
   "source": [
    "tdis_ds = (\n",
    "    (1.0, 1.0, 1),\n",
    ")"
   ]
  },
  {
   "cell_type": "markdown",
   "metadata": {},
   "source": [
    "### Create Capture Fraction Model Boundary Conditions"
   ]
  },
  {
   "cell_type": "markdown",
   "metadata": {},
   "source": [
    "Well boundary conditions"
   ]
  },
  {
   "cell_type": "code",
   "execution_count": null,
   "metadata": {},
   "outputs": [],
   "source": [
    "wel_spd = {\n",
    "    0: [\n",
    "        [0, 8, 15, -0.00820000],\n",
    "        [0, 10, 12, -0.00410000],\n",
    "        [0, 19, 13, -0.00390000],\n",
    "        [0, 25, 9, -8.30000000E-04],\n",
    "        [0, 28, 5, -7.20000000E-04],\n",
    "        [0, 33, 11, -0.00430000],\n",
    "    ]\n",
    "}"
   ]
  },
  {
   "cell_type": "markdown",
   "metadata": {},
   "source": [
    "Constant head boundary conditions"
   ]
  },
  {
   "cell_type": "code",
   "execution_count": null,
   "metadata": {},
   "outputs": [],
   "source": [
    "chd_spd = {\n",
    "    0: [\n",
    "        [0, 39, 5, 16.90000000],\n",
    "        [0, 39, 6, 16.40000000],\n",
    "        [0, 39, 7, 16.10000000],\n",
    "        [0, 39, 8, 15.60000000],\n",
    "        [0, 39, 9, 15.10000000],\n",
    "        [0, 39, 10, 14.00000000],\n",
    "        [0, 39, 11, 13.00000000],\n",
    "        [0, 39, 12, 12.50000000],\n",
    "        [0, 39, 13, 12.00000000],\n",
    "        [0, 39, 14, 11.40000000],\n",
    "    ]\n",
    "}"
   ]
  },
  {
   "cell_type": "markdown",
   "metadata": {},
   "source": [
    "River boundary conditions"
   ]
  },
  {
   "cell_type": "code",
   "execution_count": null,
   "metadata": {},
   "outputs": [],
   "source": [
    "rbot = np.linspace(20., 10.25, num=nrow)\n",
    "rstage = np.linspace(20.1, 11.25, num=nrow)\n",
    "riv_spd = []\n",
    "for idx, (s, b) in enumerate(zip(rstage, rbot)):\n",
    "    riv_spd.append([0, idx, 14, s, 0.05, b])\n",
    "riv_spd = {0: riv_spd}"
   ]
  },
  {
   "cell_type": "markdown",
   "metadata": {},
   "source": [
    "Solver parameters"
   ]
  },
  {
   "cell_type": "code",
   "execution_count": null,
   "metadata": {
    "lines_to_next_cell": 2
   },
   "outputs": [],
   "source": [
    "nouter = 100\n",
    "ninner = 25\n",
    "hclose = 1e-9\n",
    "rclose = 1e-3"
   ]
  },
  {
   "cell_type": "code",
   "execution_count": null,
   "metadata": {
    "lines_to_next_cell": 2
   },
   "outputs": [],
   "source": [
    "# Create mapping array for the capture zone analysis\n",
    "imap = idomain.copy()\n",
    "for (_k, i, j, _h) in chd_spd[0]:\n",
    "    imap[i, j] = 0"
   ]
  },
  {
   "cell_type": "markdown",
   "metadata": {
    "lines_to_next_cell": 2
   },
   "source": [
    "### Functions to build, write, run, and plot the MODFLOW 6 Capture Zone model\n",
    "\n",
    "MODFLOW 6 flopy simulation object (sim) is returned if building the model"
   ]
  },
  {
   "cell_type": "code",
   "execution_count": null,
   "metadata": {
    "lines_to_next_cell": 2
   },
   "outputs": [],
   "source": [
    "def build_model():\n",
    "    if config.buildModel:\n",
    "        sim_ws = os.path.join(ws, sim_name)\n",
    "        sim = flopy.mf6.MFSimulation(\n",
    "            sim_name=sim_name, sim_ws=sim_ws, exe_name=config.libmf6_exe,\n",
    "        )\n",
    "        flopy.mf6.ModflowTdis(\n",
    "            sim, nper=nper, perioddata=tdis_ds, time_units=time_units\n",
    "        )\n",
    "        flopy.mf6.ModflowIms(\n",
    "            sim,\n",
    "            linear_acceleration=\"BICGSTAB\",\n",
    "            outer_maximum=nouter,\n",
    "            outer_dvclose=hclose * 10.,\n",
    "            inner_maximum=ninner,\n",
    "            inner_dvclose=hclose,\n",
    "            rcloserecord=\"{} strict\".format(rclose),\n",
    "        )\n",
    "        gwf = flopy.mf6.ModflowGwf(\n",
    "            sim,\n",
    "            modelname=sim_name,\n",
    "            newtonoptions=\"NEWTON UNDER_RELAXATION\",\n",
    "        )\n",
    "        flopy.mf6.ModflowGwfdis(\n",
    "            gwf,\n",
    "            length_units=length_units,\n",
    "            nlay=nlay,\n",
    "            nrow=nrow,\n",
    "            ncol=ncol,\n",
    "            delr=delr,\n",
    "            delc=delc,\n",
    "            top=top,\n",
    "            botm=bottom,\n",
    "            idomain=idomain,\n",
    "        )\n",
    "\n",
    "        flopy.mf6.ModflowGwfnpf(\n",
    "            gwf,\n",
    "            icelltype=icelltype,\n",
    "            k=k11,\n",
    "        )\n",
    "        flopy.mf6.ModflowGwfic(gwf, strt=strt)\n",
    "        flopy.mf6.ModflowGwfriv(gwf, stress_period_data=riv_spd, pname=\"RIV-1\")\n",
    "        flopy.mf6.ModflowGwfwel(gwf, stress_period_data=wel_spd, pname=\"WEL-1\")\n",
    "        flopy.mf6.ModflowGwfrcha(gwf, recharge=recharge)\n",
    "        flopy.mf6.ModflowGwfchd(gwf, stress_period_data=chd_spd)\n",
    "        flopy.mf6.ModflowGwfwel(\n",
    "            gwf,\n",
    "            maxbound=1,\n",
    "            pname=\"CF-1\",\n",
    "            filename=\"{}.cf.wel\".format(sim_name),\n",
    "        )\n",
    "        flopy.mf6.ModflowGwfoc(\n",
    "            gwf,\n",
    "            printrecord=[(\"BUDGET\", \"ALL\"),],\n",
    "        )\n",
    "        return sim\n",
    "    else:\n",
    "        return None"
   ]
  },
  {
   "cell_type": "markdown",
   "metadata": {
    "lines_to_next_cell": 2
   },
   "source": [
    "Function to write MODFLOW 6 Capture Fraction model files"
   ]
  },
  {
   "cell_type": "code",
   "execution_count": null,
   "metadata": {},
   "outputs": [],
   "source": [
    "def write_model(sim, silent=True):\n",
    "    if config.writeModel:\n",
    "        sim.write_simulation(silent=silent)"
   ]
  },
  {
   "cell_type": "markdown",
   "metadata": {},
   "source": [
    "Function to solve the system of equations to convergence"
   ]
  },
  {
   "cell_type": "code",
   "execution_count": null,
   "metadata": {
    "lines_to_next_cell": 1
   },
   "outputs": [],
   "source": [
    "def capture_fraction_iteration(mobj, q, inode=None):\n",
    "    mobj.initialize()\n",
    "    # time loop\n",
    "    current_time = mobj.get_current_time()\n",
    "    end_time = mobj.get_end_time()\n",
    "    if inode is not None:\n",
    "        update_wel_pak(mobj, inode, q)\n",
    "    while current_time < end_time:\n",
    "        mobj.update()\n",
    "        current_time = mobj.get_current_time()\n",
    "    qriv = get_streamflow(mobj)\n",
    "    mobj.finalize()\n",
    "    return qriv"
   ]
  },
  {
   "cell_type": "markdown",
   "metadata": {},
   "source": [
    "Function to update the Capture Fraction Package"
   ]
  },
  {
   "cell_type": "code",
   "execution_count": null,
   "metadata": {
    "lines_to_next_cell": 1
   },
   "outputs": [],
   "source": [
    "def update_wel_pak(mobj, inode, q):\n",
    "    # set nodelist to inode\n",
    "    tag = mobj.get_var_address(\"NODELIST\", sim_name, \"CF-1\")\n",
    "    nodelist = mobj.get_value(tag)\n",
    "    nodelist[0] = inode + 1  # convert from zero-based to one-based node number\n",
    "    mobj.set_value(tag, nodelist)\n",
    "    # set nbound to 1\n",
    "    tag = mobj.get_var_address(\"NBOUND\", sim_name, \"CF-1\")\n",
    "    nbound = mobj.get_value(tag)\n",
    "    nbound[0] = 1\n",
    "    mobj.set_value(tag, nbound)\n",
    "    # set bound to q\n",
    "    tag = mobj.get_var_address(\"BOUND\", sim_name, \"CF-1\")\n",
    "    bound = mobj.get_value(tag)\n",
    "    bound[:, 0] = q\n",
    "    mobj.set_value(tag, bound)"
   ]
  },
  {
   "cell_type": "markdown",
   "metadata": {},
   "source": [
    "Function to get the streamflow from memory"
   ]
  },
  {
   "cell_type": "code",
   "execution_count": null,
   "metadata": {
    "lines_to_next_cell": 1
   },
   "outputs": [],
   "source": [
    "def get_streamflow(mobj):\n",
    "    tag = mobj.get_var_address(\"SIMVALS\", sim_name, \"RIV-1\")\n",
    "    return mobj.get_value(tag).sum()"
   ]
  },
  {
   "cell_type": "markdown",
   "metadata": {},
   "source": [
    "Function to run the Capture Fraction model.\n",
    "True is returned if the model runs successfully\n"
   ]
  },
  {
   "cell_type": "code",
   "execution_count": null,
   "metadata": {},
   "outputs": [],
   "source": [
    "@config.timeit\n",
    "def run_model():\n",
    "    success = True\n",
    "    if config.runModel:\n",
    "        sim_ws = os.path.join(ws, sim_name)\n",
    "        mf6 = modflowapi.ModflowApi(config.libmf6_exe, working_directory=sim_ws)\n",
    "        qbase = capture_fraction_iteration(mf6, cf_q)\n",
    "\n",
    "        # create capture fraction array\n",
    "        capture = np.zeros((nrow, ncol), dtype=float)\n",
    "\n",
    "        # iterate through each active cell\n",
    "        ireduced_node = -1\n",
    "        for irow in range(nrow):\n",
    "            for jcol in range(ncol):\n",
    "\n",
    "                # skip inactive cells\n",
    "                if imap[irow, jcol] < 1:\n",
    "                    continue\n",
    "\n",
    "                # increment reduced node number\n",
    "                ireduced_node += 1\n",
    "\n",
    "                # calculate the perturbed river flow\n",
    "                qriv = capture_fraction_iteration(mf6, cf_q, inode=ireduced_node)\n",
    "\n",
    "                # add the value to the capture array\n",
    "                capture[irow, jcol] = (qriv - qbase) / abs(cf_q)\n",
    "\n",
    "        # save the capture fraction array\n",
    "        fpth = os.path.join(sim_ws, \"capture.npz\")\n",
    "        np.savez_compressed(fpth, capture=capture)\n",
    "\n",
    "    return success"
   ]
  },
  {
   "cell_type": "markdown",
   "metadata": {},
   "source": [
    "Function to plot the Capture Fraction model results with heads in each layer.\n"
   ]
  },
  {
   "cell_type": "code",
   "execution_count": null,
   "metadata": {
    "lines_to_next_cell": 2
   },
   "outputs": [],
   "source": [
    "def plot_results(silent=True):\n",
    "    if config.plotModel:\n",
    "        verbose = not silent\n",
    "        if silent:\n",
    "            verbosity_level = 0\n",
    "        else:\n",
    "            verbosity_level = 1\n",
    "\n",
    "\n",
    "        fs = USGSFigure(figure_type=\"map\", verbose=verbose)\n",
    "        sim_ws = os.path.join(ws, sim_name)\n",
    "        sim = flopy.mf6.MFSimulation.load(\n",
    "            sim_name=sim_name, sim_ws=sim_ws, verbosity_level=verbosity_level\n",
    "        )\n",
    "        gwf = sim.get_model(sim_name)\n",
    "        wel = gwf.get_package(\"WEL-1\")\n",
    "\n",
    "        # load the capture fraction data\n",
    "        fpth = os.path.join(sim_ws, \"capture.npz\")\n",
    "        capture = np.load(fpth)[\"capture\"]\n",
    "\n",
    "        # plot grid\n",
    "        fig = plt.figure(figsize=(4, 3.75), constrained_layout=True)\n",
    "        gs = mpl.gridspec.GridSpec(\n",
    "            2,\n",
    "            2,\n",
    "            figure=fig,\n",
    "            width_ratios=(4, 1),\n",
    "            height_ratios=(1, 6),\n",
    "        )\n",
    "\n",
    "        ax = fig.add_subplot(gs[:, 0])\n",
    "        ax.set_aspect(\"equal\")\n",
    "\n",
    "        mm = flopy.plot.PlotMapView(model=gwf, ax=ax)\n",
    "        cf = mm.plot_array(capture, vmin=0, vmax=1)\n",
    "        mm.plot_grid(lw=0.5, color=\"0.5\")\n",
    "        mm.plot_bc(package=wel)\n",
    "        ax.axvline(x=14.5 * delc, lw=1.25, color=\"cyan\")\n",
    "        mm.plot_bc('CHD', color=\"green\")\n",
    "        mm.plot_ibound()\n",
    "        ax.set_ylabel(\"y-coordinate, in feet\")\n",
    "        ax.set_xlabel(\"x-coordinate, in feet\")\n",
    "        fs.remove_edge_ticks(ax)\n",
    "\n",
    "        ax = fig.add_subplot(gs[0, 1])\n",
    "        ax.set_xlim(0, 1)\n",
    "        ax.set_ylim(0, 1)\n",
    "        ax.set_xticks([])\n",
    "        ax.set_yticks([])\n",
    "        ax.spines[\"top\"].set_color(\"none\")\n",
    "        ax.spines[\"bottom\"].set_color(\"none\")\n",
    "        ax.spines[\"left\"].set_color(\"none\")\n",
    "        ax.spines[\"right\"].set_color(\"none\")\n",
    "        ax.patch.set_alpha(0.0)\n",
    "        cbar = plt.colorbar(cf, ax=ax, orientation=\"horizontal\")\n",
    "        cbar.ax.set_xlabel(\"Streamflow capture fraction\")\n",
    "        ax.plot(\n",
    "            -1000,\n",
    "            -1000,\n",
    "            \"s\",\n",
    "            ms=5,\n",
    "            color=\"green\",\n",
    "            mec=\"black\",\n",
    "            mew=0.5,\n",
    "            label=\"Constant head\",\n",
    "        )\n",
    "        ax.plot(\n",
    "            -1000,\n",
    "            -1000,\n",
    "            color=\"cyan\",\n",
    "            lw=1.25,\n",
    "            label=\"River\",\n",
    "        )\n",
    "        ax.plot(\n",
    "            -1000,\n",
    "            -1000,\n",
    "            \"s\",\n",
    "            ms=5,\n",
    "            color=\"red\",\n",
    "            mec=\"black\",\n",
    "            mew=0.5,\n",
    "            label=\"Well\",\n",
    "        )\n",
    "        ax.plot(\n",
    "            -1000,\n",
    "            -1000,\n",
    "            \"s\",\n",
    "            ms=5,\n",
    "            color=\"black\",\n",
    "            mec=\"black\",\n",
    "            mew=0.5,\n",
    "            label=\"Inactive cell\",\n",
    "        )\n",
    "        fs.graph_legend(\n",
    "            ax,\n",
    "            ncol=1,\n",
    "            frameon=False,\n",
    "            loc=\"upper center\",\n",
    "        )\n",
    "\n",
    "        # save figure\n",
    "        if config.plotSave:\n",
    "            fpth = os.path.join(\n",
    "                \"..\", \"figures\", \"{}-01{}\".format(sim_name, config.figure_ext)\n",
    "            )\n",
    "            fig.savefig(fpth)"
   ]
  },
  {
   "cell_type": "markdown",
   "metadata": {
    "lines_to_next_cell": 2
   },
   "source": [
    "Function that wraps all of the steps for the Streamflow Capture model\n",
    "\n",
    "1. build_model,\n",
    "2. write_model, and\n",
    "3. run_model\n",
    "4. plot_results.\n"
   ]
  },
  {
   "cell_type": "code",
   "execution_count": null,
   "metadata": {},
   "outputs": [],
   "source": [
    "def simulation(silent=True):\n",
    "\n",
    "    sim = build_model()\n",
    "\n",
    "    write_model(sim, silent=silent)\n",
    "\n",
    "    success = run_model()\n",
    "\n",
    "    assert success, \"could not run...{}\".format(sim_name)"
   ]
  },
  {
   "cell_type": "code",
   "execution_count": null,
   "metadata": {},
   "outputs": [],
   "source": []
  },
  {
   "cell_type": "markdown",
   "metadata": {},
   "source": [
    "### Capture Zone Simulation\n",
    "\n",
    " Capture zone examples using the MODFLOW API with the Freyberg (1988) model"
   ]
  },
  {
   "cell_type": "code",
   "execution_count": null,
   "metadata": {},
   "outputs": [],
   "source": [
    "simulation()"
   ]
  },
  {
   "cell_type": "markdown",
   "metadata": {},
   "source": [
    "Simulated streamflow capture fraction map for the Freyberg (1988) groundwater\n",
    "flow model."
   ]
  },
  {
   "cell_type": "code",
   "execution_count": null,
   "metadata": {},
   "outputs": [],
   "source": [
    "plot_results()"
   ]
  }
 ],
 "metadata": {
  "jupytext": {
   "cell_metadata_filter": "-all",
   "main_language": "python",
   "notebook_metadata_filter": "-all"
  }
 },
 "nbformat": 4,
 "nbformat_minor": 4
}
