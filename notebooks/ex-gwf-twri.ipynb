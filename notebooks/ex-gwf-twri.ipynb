{
 "cells": [
  {
   "cell_type": "markdown",
   "metadata": {},
   "source": [
    "## Original TWRI MODFLOW example\n",
    "\n",
    "This problem is described in McDonald and Harbaugh (1988) and duplicated in\n",
    "Harbaugh and McDonald (1996). This problem is also is distributed with\n",
    "MODFLOW-2005 (Harbaugh, 2005) and MODFLOW 6 (Langevin and others, 2017).\n"
   ]
  },
  {
   "cell_type": "markdown",
   "metadata": {},
   "source": [
    "### TWRI Problem Setup\n",
    "\n",
    "Imports"
   ]
  },
  {
   "cell_type": "code",
   "execution_count": null,
   "metadata": {},
   "outputs": [],
   "source": [
    "import os\n",
    "import sys\n",
    "import matplotlib.pyplot as plt\n",
    "import flopy"
   ]
  },
  {
   "cell_type": "markdown",
   "metadata": {},
   "source": [
    "Append to system path to include the common subdirectory"
   ]
  },
  {
   "cell_type": "code",
   "execution_count": null,
   "metadata": {},
   "outputs": [],
   "source": [
    "sys.path.append(os.path.join(\"..\", \"common\"))"
   ]
  },
  {
   "cell_type": "markdown",
   "metadata": {},
   "source": [
    "import common functionality"
   ]
  },
  {
   "cell_type": "code",
   "execution_count": null,
   "metadata": {},
   "outputs": [],
   "source": [
    "import config\n",
    "from figspecs import USGSFigure"
   ]
  },
  {
   "cell_type": "markdown",
   "metadata": {},
   "source": [
    "Set figure properties specific to the"
   ]
  },
  {
   "cell_type": "code",
   "execution_count": null,
   "metadata": {},
   "outputs": [],
   "source": [
    "figure_size = (6, 6)"
   ]
  },
  {
   "cell_type": "markdown",
   "metadata": {},
   "source": [
    "Base simulation and model name and workspace"
   ]
  },
  {
   "cell_type": "code",
   "execution_count": null,
   "metadata": {},
   "outputs": [],
   "source": [
    "ws = config.base_ws"
   ]
  },
  {
   "cell_type": "markdown",
   "metadata": {},
   "source": [
    "Simulation name"
   ]
  },
  {
   "cell_type": "code",
   "execution_count": null,
   "metadata": {},
   "outputs": [],
   "source": [
    "sim_name = \"ex-gwf-twri01\""
   ]
  },
  {
   "cell_type": "markdown",
   "metadata": {},
   "source": [
    "Scenario parameter units - make sure there is at least one blank line before next item\n",
    "add parameter_units to add units to the scenario parameter table"
   ]
  },
  {
   "cell_type": "code",
   "execution_count": null,
   "metadata": {},
   "outputs": [],
   "source": [
    "parameter_units = {\"recharge\": \"$ft/s$\"}"
   ]
  },
  {
   "cell_type": "markdown",
   "metadata": {},
   "source": [
    "Model units"
   ]
  },
  {
   "cell_type": "code",
   "execution_count": null,
   "metadata": {},
   "outputs": [],
   "source": [
    "length_units = \"feet\"\n",
    "time_units = \"seconds\""
   ]
  },
  {
   "cell_type": "markdown",
   "metadata": {},
   "source": [
    "Table TWRI Model Parameters"
   ]
  },
  {
   "cell_type": "code",
   "execution_count": null,
   "metadata": {},
   "outputs": [],
   "source": [
    "nper = 1  # Number of periods\n",
    "nlay = 5  # Number of layers\n",
    "ncol = 15  # Number of columns\n",
    "nrow = 15  # Number of rows\n",
    "delr = 5000.0  # Column width ($ft$)\n",
    "delc = 5000.0  # Row width ($ft$)\n",
    "top = 200.0  # Top of the model ($ft$)\n",
    "botm_str = \"-150.0, -200.0, -300.0, -350.0, -450.0\"  # Layer bottom elevations ($ft$)\n",
    "strt = 0.0  # Starting head ($ft$)\n",
    "icelltype_str = \"1, 0, 0, 0, 0\"  # Cell conversion type\n",
    "k11_str = \"1.0e-3, 1.0e-8, 1.0e-4, 5.0e-7, 2.0e-4\"  # Horizontal hydraulic conductivity ($ft/s$)\n",
    "k33_str = \"1.0e-3, 1.0e-8, 1.0e-4, 5.0e-7, 2.0e-4\"  # Vertical hydraulic conductivity ($ft/s$)\n",
    "recharge = 3e-8  # Recharge rate ($ft/s$)"
   ]
  },
  {
   "cell_type": "markdown",
   "metadata": {},
   "source": [
    "Static temporal data used by TDIS file"
   ]
  },
  {
   "cell_type": "code",
   "execution_count": null,
   "metadata": {},
   "outputs": [],
   "source": [
    "perlen = 8.640e04\n",
    "nstp = 1\n",
    "tsmult = 1.\n",
    "tdis_ds = ((perlen, nstp, tsmult),)"
   ]
  },
  {
   "cell_type": "markdown",
   "metadata": {},
   "source": [
    "parse parameter strings into tuples"
   ]
  },
  {
   "cell_type": "code",
   "execution_count": null,
   "metadata": {},
   "outputs": [],
   "source": [
    "botm = [float(value) for value in botm_str.split(\",\")]\n",
    "k11 = [float(value) for value in k11_str.split(\",\")]\n",
    "k33 = [float(value) for value in k33_str.split(\",\")]\n",
    "icelltype = [int(value) for value in icelltype_str.split(\",\")]"
   ]
  },
  {
   "cell_type": "markdown",
   "metadata": {},
   "source": [
    "### Create TWRI Model Boundary Conditions\n",
    "\n",
    "Constant head cells are specified on the west edge of the model\n",
    "in model layers 1 and 2 `(k, i, j)` = $(1 \\rightarrow 2, 1 \\rightarrow 15, 1)$\n"
   ]
  },
  {
   "cell_type": "code",
   "execution_count": null,
   "metadata": {},
   "outputs": [],
   "source": [
    "chd_spd = []\n",
    "for k in (0, 1, 2, 3):\n",
    "    chd_spd += [[k, i, 0, 0.0] for i in range(nrow)]\n",
    "chd_spd = {0: chd_spd}"
   ]
  },
  {
   "cell_type": "markdown",
   "metadata": {},
   "source": [
    "Constant head cells for MODFLOW-2005 model"
   ]
  },
  {
   "cell_type": "code",
   "execution_count": null,
   "metadata": {},
   "outputs": [],
   "source": [
    "chd_spd0 = []\n",
    "for k in (0, 1):\n",
    "    chd_spd0 += [[k, i, 0, 0.0, 0.0] for i in range(nrow)]\n",
    "chd_spd0 = {0: chd_spd0}"
   ]
  },
  {
   "cell_type": "markdown",
   "metadata": {},
   "source": [
    "Well boundary conditions"
   ]
  },
  {
   "cell_type": "code",
   "execution_count": null,
   "metadata": {},
   "outputs": [],
   "source": [
    "wel_spd = {\n",
    "    0: [\n",
    "        [4, 4, 10, -5.0],\n",
    "        [2, 3, 5, -5.0],\n",
    "        [2, 5, 11, -5.0],\n",
    "        [0, 8, 7, -5.0],\n",
    "        [0, 8, 9, -5.0],\n",
    "        [0, 8, 11, -5.0],\n",
    "        [0, 8, 13, -5.0],\n",
    "        [0, 10, 7, -5.0],\n",
    "        [0, 10, 9, -5.0],\n",
    "        [0, 10, 11, -5.0],\n",
    "        [0, 10, 13, -5.0],\n",
    "        [0, 12, 7, -5.0],\n",
    "        [0, 12, 9, -5.0],\n",
    "        [0, 12, 11, -5.0],\n",
    "        [0, 12, 13, -5.0],\n",
    "    ]\n",
    "}"
   ]
  },
  {
   "cell_type": "markdown",
   "metadata": {},
   "source": [
    "Well boundary conditions for MODFLOW-2005 model"
   ]
  },
  {
   "cell_type": "code",
   "execution_count": null,
   "metadata": {
    "lines_to_next_cell": 2
   },
   "outputs": [],
   "source": [
    "wel_spd0 = []\n",
    "layer_map = {0: 0, 2: 1, 4: 2}\n",
    "for (k, i, j, q) in wel_spd[0]:\n",
    "    kk = layer_map[k]\n",
    "    wel_spd0.append([kk, i, j, q])\n",
    "wel_spd0 = {0: wel_spd0}"
   ]
  },
  {
   "cell_type": "markdown",
   "metadata": {},
   "source": [
    "Drain boundary conditions"
   ]
  },
  {
   "cell_type": "code",
   "execution_count": null,
   "metadata": {},
   "outputs": [],
   "source": [
    "drn_spd = {\n",
    "    0: [\n",
    "        [0, 7, 1, 0.0, 1.0e0],\n",
    "        [0, 7, 2, 0.0, 1.0e0],\n",
    "        [0, 7, 3, 10.0, 1.0e0],\n",
    "        [0, 7, 4, 20.0, 1.0e0],\n",
    "        [0, 7, 5, 30.0, 1.0e0],\n",
    "        [0, 7, 6, 50.0, 1.0e0],\n",
    "        [0, 7, 7, 70.0, 1.0e0],\n",
    "        [0, 7, 8, 90.0, 1.0e0],\n",
    "        [0, 7, 9, 100.0, 1.0e0],\n",
    "    ]\n",
    "}"
   ]
  },
  {
   "cell_type": "markdown",
   "metadata": {},
   "source": [
    "### Functions to build, write, run, and plot the MODFLOW 6 TWRI model\n",
    "\n",
    "MODFLOW 6 flopy simulation object (sim) is returned if building the model"
   ]
  },
  {
   "cell_type": "code",
   "execution_count": null,
   "metadata": {
    "lines_to_next_cell": 1
   },
   "outputs": [],
   "source": [
    "def build_model():\n",
    "    if config.buildModel:\n",
    "        sim_ws = os.path.join(ws, sim_name)\n",
    "        sim = flopy.mf6.MFSimulation(\n",
    "            sim_name=sim_name, sim_ws=sim_ws, exe_name=config.mf6_exe\n",
    "        )\n",
    "        flopy.mf6.ModflowTdis(\n",
    "            sim, nper=nper, perioddata=tdis_ds, time_units=time_units\n",
    "        )\n",
    "        flopy.mf6.ModflowIms(sim)\n",
    "        gwf = flopy.mf6.ModflowGwf(sim, modelname=sim_name, save_flows=True)\n",
    "        flopy.mf6.ModflowGwfdis(\n",
    "            gwf,\n",
    "            length_units=length_units,\n",
    "            nlay=nlay,\n",
    "            nrow=nrow,\n",
    "            ncol=ncol,\n",
    "            delr=delr,\n",
    "            delc=delc,\n",
    "            top=top,\n",
    "            botm=botm,\n",
    "        )\n",
    "        flopy.mf6.ModflowGwfnpf(\n",
    "            gwf,\n",
    "            cvoptions=\"perched\",\n",
    "            perched=True,\n",
    "            icelltype=icelltype,\n",
    "            k=k11,\n",
    "            k33=k33,\n",
    "            save_specific_discharge=True,\n",
    "        )\n",
    "        flopy.mf6.ModflowGwfic(gwf, strt=strt)\n",
    "        flopy.mf6.ModflowGwfchd(gwf, stress_period_data=chd_spd)\n",
    "        flopy.mf6.ModflowGwfdrn(gwf, stress_period_data=drn_spd)\n",
    "        flopy.mf6.ModflowGwfwel(gwf, stress_period_data=wel_spd)\n",
    "        flopy.mf6.ModflowGwfrcha(gwf, recharge=recharge)\n",
    "        head_filerecord = \"{}.hds\".format(sim_name)\n",
    "        budget_filerecord = \"{}.cbc\".format(sim_name)\n",
    "        flopy.mf6.ModflowGwfoc(\n",
    "            gwf,\n",
    "            head_filerecord=head_filerecord,\n",
    "            budget_filerecord=budget_filerecord,\n",
    "            saverecord=[(\"HEAD\", \"ALL\"), (\"BUDGET\", \"ALL\")],\n",
    "        )\n",
    "        return sim\n",
    "    return None"
   ]
  },
  {
   "cell_type": "markdown",
   "metadata": {},
   "source": [
    "MODFLOW-2005 model object (mf) is returned if building the model"
   ]
  },
  {
   "cell_type": "code",
   "execution_count": null,
   "metadata": {
    "lines_to_next_cell": 2
   },
   "outputs": [],
   "source": [
    "def build_mf5model():\n",
    "    if config.buildModel:\n",
    "        sim_ws = os.path.join(ws, sim_name, \"mf2005\")\n",
    "        mf = flopy.modflow.Modflow(modelname=sim_name, model_ws=sim_ws,\n",
    "                                   exe_name=config.mf2005_exe)\n",
    "        flopy.modflow.ModflowDis(mf, nlay=3, nrow=nrow, ncol=ncol,\n",
    "                                 delr=delr, delc=delc, laycbd=[1, 1, 0],\n",
    "                                 top=top, botm=botm,\n",
    "                                 nper=1, perlen=perlen, nstp=nstp, tsmult=tsmult)\n",
    "        flopy.modflow.ModflowBas(mf, strt=strt)\n",
    "        flopy.modflow.ModflowLpf(mf,\n",
    "                                 laytyp=[1, 0, 0],\n",
    "                                 hk=[k11[0], k11[2], k11[4]],\n",
    "                                 vka=[k11[0], k11[2], k11[4]],\n",
    "                                 vkcb=[k11[1], k11[3], 0],\n",
    "                                 ss=0, sy=0.,\n",
    "                                 )\n",
    "        flopy.modflow.ModflowChd(mf, stress_period_data=chd_spd0)\n",
    "        flopy.modflow.ModflowDrn(mf, stress_period_data=drn_spd)\n",
    "        flopy.modflow.ModflowWel(mf, stress_period_data=wel_spd0)\n",
    "        flopy.modflow.ModflowRch(mf, rech=recharge)\n",
    "        flopy.modflow.ModflowPcg(mf)\n",
    "        oc = flopy.modflow.ModflowOc(mf,\n",
    "                                     stress_period_data={(0,0):\n",
    "                                                             ['save head',\n",
    "                                                              'save budget']})\n",
    "        oc.reset_budgetunit()\n",
    "        return mf\n",
    "    return None"
   ]
  },
  {
   "cell_type": "markdown",
   "metadata": {
    "lines_to_next_cell": 2
   },
   "source": [
    "Function to write MODFLOW 6 TWRI model files"
   ]
  },
  {
   "cell_type": "code",
   "execution_count": null,
   "metadata": {
    "lines_to_next_cell": 2
   },
   "outputs": [],
   "source": [
    "def write_model(sim, mf, silent=True):\n",
    "    if config.writeModel:\n",
    "        sim.write_simulation(silent=silent)\n",
    "        mf.write_input()"
   ]
  },
  {
   "cell_type": "markdown",
   "metadata": {
    "lines_to_next_cell": 2
   },
   "source": [
    "Function to run the TWRI model.\n",
    "True is returned if the model runs successfully\n"
   ]
  },
  {
   "cell_type": "code",
   "execution_count": null,
   "metadata": {
    "lines_to_next_cell": 2
   },
   "outputs": [],
   "source": [
    "def run_model(sim, mf, silent=True):\n",
    "    success = True\n",
    "    if config.runModel:\n",
    "        success, buff = sim.run_simulation(silent=silent)\n",
    "        if not success:\n",
    "            print(buff)\n",
    "        else:\n",
    "            success, buff = mf.run_model(silent=silent)\n",
    "            if not success:\n",
    "                print(buff)\n",
    "\n",
    "    return success"
   ]
  },
  {
   "cell_type": "markdown",
   "metadata": {
    "lines_to_next_cell": 2
   },
   "source": [
    "Function to plot the TWRI model results.\n"
   ]
  },
  {
   "cell_type": "code",
   "execution_count": null,
   "metadata": {
    "lines_to_next_cell": 2
   },
   "outputs": [],
   "source": [
    "def plot_results(sim, mf):\n",
    "    if config.plotModel:\n",
    "        fs = USGSFigure(figure_type=\"map\", verbose=False)\n",
    "        sim_ws = os.path.join(ws, sim_name)\n",
    "        gwf = sim.get_model(sim_name)\n",
    "\n",
    "        # create MODFLOW 6 head object\n",
    "        file_name = gwf.oc.head_filerecord.get_data()[0][0]\n",
    "        fpth = os.path.join(sim_ws, file_name)\n",
    "        hobj = flopy.utils.HeadFile(fpth)\n",
    "\n",
    "        # create MODFLOW-2005 head object\n",
    "        fpth = os.path.join(sim_ws, \"mf2005\", file_name)\n",
    "        hobj0 = flopy.utils.HeadFile(fpth)\n",
    "\n",
    "        # create MODFLOW 6 cell-by-cell budget object\n",
    "        file_name = gwf.oc.budget_filerecord.get_data()[0][0]\n",
    "        fpth = os.path.join(sim_ws, file_name)\n",
    "        cobj = flopy.utils.CellBudgetFile(fpth, precision=\"double\")\n",
    "\n",
    "        # create MODFLOW-2005 cell-by-cell budget object\n",
    "        fpth = os.path.join(sim_ws, \"mf2005\", file_name)\n",
    "        cobj0 = flopy.utils.CellBudgetFile(fpth, precision=\"single\")\n",
    "\n",
    "        # extract heads\n",
    "        head = hobj.get_data()\n",
    "        head0 = hobj0.get_data()\n",
    "        vmin, vmax = -25, 100\n",
    "\n",
    "        # extract specific discharge\n",
    "        spdis = cobj.get_data(text=\"DATA-SPDIS\", kstpkper=(0, 0))\n",
    "        frf = cobj0.get_data(text=\"FLOW RIGHT FACE\", kstpkper=(0, 0))[0]\n",
    "        fff = cobj0.get_data(text=\"FLOW FRONT FACE\", kstpkper=(0, 0))[0]\n",
    "        flf = cobj0.get_data(text=\"FLOW LOWER FACE\", kstpkper=(0, 0))[0]\n",
    "\n",
    "        # modflow 6 layers to extract\n",
    "        layers_mf6 = [0, 2, 4]\n",
    "        titles = [\"Unconfined aquifer\",\n",
    "                  \"Middle aquifer\",\n",
    "                  \"Lower aquifer\"]\n",
    "\n",
    "        # Create figure for simulation\n",
    "        extents = (0, ncol * delc, 0, nrow * delr)\n",
    "        fig, axes = plt.subplots(\n",
    "            3, 3, figsize=figure_size, dpi=300, constrained_layout=True, sharey=True,\n",
    "        )\n",
    "        for ax in axes.flatten():\n",
    "            ax.set_aspect(\"equal\")\n",
    "            ax.set_xlim(extents[:2])\n",
    "            ax.set_ylim(extents[2:])\n",
    "\n",
    "        for idx, ax in enumerate(axes.flatten()[:3]):\n",
    "            k = layers_mf6[idx]\n",
    "            fmp = flopy.plot.PlotMapView(\n",
    "                model=gwf, ax=ax, layer=k, extent=extents\n",
    "            )\n",
    "            ax.get_xaxis().set_ticks([])\n",
    "            fmp.plot_grid(lw=0.5)\n",
    "            plot_obj = fmp.plot_array(head, vmin=vmin, vmax=vmax)\n",
    "            fmp.plot_bc(\"DRN\", color=\"green\")\n",
    "            fmp.plot_bc(\"WEL\", color=\"0.5\")\n",
    "            cv = fmp.contour_array(\n",
    "                head,\n",
    "                levels=[-25, 0, 25, 75, 100],\n",
    "                linewidths=0.5,\n",
    "                colors=\"black\",\n",
    "            )\n",
    "            plt.clabel(cv, fmt=\"%1.0f\", fontsize=9)\n",
    "            fmp.plot_specific_discharge(spdis, normalize=True, color=\"0.75\")\n",
    "            title = titles[idx]\n",
    "            letter = chr(ord(\"@\") + idx + 1)\n",
    "            fs.heading(letter=letter, heading=title, ax=ax)\n",
    "\n",
    "        for idx, ax in enumerate(axes.flatten()[3:6]):\n",
    "            fmp = flopy.plot.PlotMapView(\n",
    "                model=mf, ax=ax, layer=idx, extent=extents\n",
    "            )\n",
    "            fmp.plot_grid(lw=0.5)\n",
    "            plot_obj = fmp.plot_array(head0, vmin=vmin, vmax=vmax)\n",
    "            fmp.plot_bc(\"DRN\", color=\"green\")\n",
    "            fmp.plot_bc(\"WEL\", color=\"0.5\")\n",
    "            cv = fmp.contour_array(\n",
    "                head0,\n",
    "                levels=[-25, 0, 25, 75, 100],\n",
    "                linewidths=0.5,\n",
    "                colors=\"black\",\n",
    "            )\n",
    "            plt.clabel(cv, fmt=\"%1.0f\", fontsize=9)\n",
    "            fmp.plot_discharge(frf, fff, flf, head=head0, normalize=True, color=\"0.75\")\n",
    "            title = titles[idx]\n",
    "            letter = chr(ord(\"@\") + idx + 4)\n",
    "            fs.heading(letter=letter, heading=title, ax=ax)\n",
    "\n",
    "        # create legend\n",
    "        ax = plt.subplot(313)\n",
    "        ax.set_xlim(extents[:2])\n",
    "        ax.set_ylim(extents[2:])\n",
    "\n",
    "        # ax = axes.flatten()[-2]\n",
    "        ax.axis(\"off\")\n",
    "        ax.plot(\n",
    "            -10000,\n",
    "            -10000,\n",
    "            lw=0,\n",
    "            marker=\"s\",\n",
    "            ms=10,\n",
    "            mfc=\"green\",\n",
    "            mec=\"green\",\n",
    "            label=\"Drain\",\n",
    "        )\n",
    "        ax.plot(\n",
    "            -10000,\n",
    "            -10000,\n",
    "            lw=0,\n",
    "            marker=\"s\",\n",
    "            ms=10,\n",
    "            mfc=\"0.5\",\n",
    "            mec=\"0.5\",\n",
    "            label=\"Well\",\n",
    "        )\n",
    "        ax.plot(\n",
    "            -10000,\n",
    "            -10000,\n",
    "            lw=0,\n",
    "            marker=u\"$\\u2192$\",\n",
    "            ms=10,\n",
    "            mfc=\"0.75\",\n",
    "            mec=\"0.75\",\n",
    "            label=\"Normalized specific discharge\",\n",
    "        )\n",
    "        ax.plot(\n",
    "            -10000, -10000, lw=0.5, color=\"black\", label=r\"Head contour, $ft$\"\n",
    "        )\n",
    "        fs.graph_legend(ax, loc=\"upper center\")\n",
    "\n",
    "        # plot colorbar\n",
    "        cax = plt.axes([0.325, 0.125, 0.35, 0.025])\n",
    "        cbar = plt.colorbar(\n",
    "            plot_obj, shrink=0.8, orientation=\"horizontal\", cax=cax\n",
    "        )\n",
    "        cbar.ax.tick_params(size=0)\n",
    "        cbar.ax.set_xlabel(r\"Head, $ft$\", fontsize=9)\n",
    "\n",
    "        # save figure\n",
    "        if config.plotSave:\n",
    "            fpth = os.path.join(\n",
    "                \"..\", \"figures\", \"{}{}\".format(sim_name, config.figure_ext)\n",
    "            )\n",
    "            fig.savefig(fpth)"
   ]
  },
  {
   "cell_type": "markdown",
   "metadata": {
    "lines_to_next_cell": 2
   },
   "source": [
    "Function that wraps all of the steps for the TWRI model\n",
    "\n",
    "1. build_model,\n",
    "2. write_model,\n",
    "3. run_model, and\n",
    "4. plot_results.\n"
   ]
  },
  {
   "cell_type": "code",
   "execution_count": null,
   "metadata": {},
   "outputs": [],
   "source": [
    "def simulation(silent=True):\n",
    "    sim = build_model()\n",
    "    mf = build_mf5model()\n",
    "\n",
    "    write_model(sim, mf, silent=silent)\n",
    "\n",
    "    success = run_model(sim, mf, silent=silent)\n",
    "\n",
    "    if success:\n",
    "        plot_results(sim, mf)"
   ]
  },
  {
   "cell_type": "code",
   "execution_count": null,
   "metadata": {},
   "outputs": [],
   "source": []
  },
  {
   "cell_type": "markdown",
   "metadata": {},
   "source": [
    "### TWRI Simulation\n",
    "\n",
    "This simulation uses the recharge rate defined in the original problem.\n",
    "Simulated heads in model layers 1, 2, and 3 are shown in the figure below.\n",
    "The location of drain (green) and (gray) well boundary conditions, normalized\n",
    "specific discharge, and head contours (25 ft contour intervals) are also shown.\n"
   ]
  },
  {
   "cell_type": "code",
   "execution_count": null,
   "metadata": {},
   "outputs": [],
   "source": [
    "simulation()"
   ]
  }
 ],
 "metadata": {
  "jupytext": {
   "cell_metadata_filter": "-all",
   "main_language": "python",
   "notebook_metadata_filter": "-all"
  }
 },
 "nbformat": 4,
 "nbformat_minor": 4
}
