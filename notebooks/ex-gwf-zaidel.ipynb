{
 "cells": [
  {
   "cell_type": "markdown",
   "id": "621edd89",
   "metadata": {},
   "source": [
    "## Zaidel (2013) example\n",
    "\n",
    "This problem is described in Zaidel (2013) and represents a discontinuous\n",
    "water table configuration over a stairway impervious base.\n"
   ]
  },
  {
   "cell_type": "markdown",
   "id": "9ea0bcd9",
   "metadata": {},
   "source": [
    "### Zaidel (2013) Problem Setup\n",
    "\n",
    "Imports"
   ]
  },
  {
   "cell_type": "code",
   "execution_count": null,
   "id": "711ed0a1",
   "metadata": {},
   "outputs": [],
   "source": [
    "import os\n",
    "import sys\n",
    "import numpy as np\n",
    "import matplotlib.pyplot as plt\n",
    "import flopy"
   ]
  },
  {
   "cell_type": "markdown",
   "id": "75936f04",
   "metadata": {},
   "source": [
    "Append to system path to include the common subdirectory"
   ]
  },
  {
   "cell_type": "code",
   "execution_count": null,
   "id": "b9eb874d",
   "metadata": {},
   "outputs": [],
   "source": [
    "sys.path.append(os.path.join(\"..\", \"common\"))"
   ]
  },
  {
   "cell_type": "markdown",
   "id": "6381f61f",
   "metadata": {},
   "source": [
    "import common functionality"
   ]
  },
  {
   "cell_type": "code",
   "execution_count": null,
   "id": "0f1ac086",
   "metadata": {},
   "outputs": [],
   "source": [
    "import config\n",
    "from figspecs import USGSFigure"
   ]
  },
  {
   "cell_type": "markdown",
   "id": "9ff68ec0",
   "metadata": {},
   "source": [
    "Set figure properties specific to the"
   ]
  },
  {
   "cell_type": "code",
   "execution_count": null,
   "id": "63239385",
   "metadata": {},
   "outputs": [],
   "source": [
    "figure_size = (6.3, 2.5)"
   ]
  },
  {
   "cell_type": "markdown",
   "id": "ea073aea",
   "metadata": {},
   "source": [
    "Base simulation and model name and workspace"
   ]
  },
  {
   "cell_type": "code",
   "execution_count": null,
   "id": "9bc94790",
   "metadata": {},
   "outputs": [],
   "source": [
    "ws = config.base_ws"
   ]
  },
  {
   "cell_type": "markdown",
   "id": "bef0d938",
   "metadata": {},
   "source": [
    "Simulation name"
   ]
  },
  {
   "cell_type": "code",
   "execution_count": null,
   "id": "bcf0c7ec",
   "metadata": {},
   "outputs": [],
   "source": [
    "sim_name = \"ex-gwf-zaidel\""
   ]
  },
  {
   "cell_type": "markdown",
   "id": "c742d613",
   "metadata": {},
   "source": [
    "Model units"
   ]
  },
  {
   "cell_type": "code",
   "execution_count": null,
   "id": "b5dc0ba2",
   "metadata": {},
   "outputs": [],
   "source": [
    "length_units = \"meters\"\n",
    "time_units = \"days\"\n",
    "# Scenario parameters"
   ]
  },
  {
   "cell_type": "code",
   "execution_count": null,
   "id": "163d7cba",
   "metadata": {},
   "outputs": [],
   "source": [
    "parameters = {\n",
    "    \"ex-gwf-zaidel-p01a\": {\n",
    "        \"H2\": 1.0,\n",
    "    },\n",
    "    \"ex-gwf-zaidel-p02a\": {\n",
    "        \"H2\": 10.0,\n",
    "    },\n",
    "}"
   ]
  },
  {
   "cell_type": "markdown",
   "id": "0de9dfb7",
   "metadata": {},
   "source": [
    "Table"
   ]
  },
  {
   "cell_type": "code",
   "execution_count": null,
   "id": "1e6bfe01",
   "metadata": {},
   "outputs": [],
   "source": [
    "nper = 1  # Number of periods\n",
    "nlay = 1  # Number of layers\n",
    "nrow = 1  # Number of rows\n",
    "ncol = 200  # Number of columns\n",
    "delr = 5.0  # Column width ($m$)\n",
    "delc = 1.0  # Row width ($m$)\n",
    "top = 25.0  # Top of the model ($m$)\n",
    "strt = 23.0  # Starting head ($m$)\n",
    "icelltype = 1  # Cell conversion type\n",
    "k11 = 0.0001  # Horizontal hydraulic conductivity ($m/day$)\n",
    "H1 = 23.0  # Constant head in column 1 ($m$)"
   ]
  },
  {
   "cell_type": "markdown",
   "id": "2390538a",
   "metadata": {},
   "source": [
    "Static temporal data used by TDIS file"
   ]
  },
  {
   "cell_type": "code",
   "execution_count": null,
   "id": "b24ee582",
   "metadata": {},
   "outputs": [],
   "source": [
    "tdis_ds = ((1.0, 1, 1.0),)"
   ]
  },
  {
   "cell_type": "markdown",
   "id": "791e40bc",
   "metadata": {},
   "source": [
    "Build stairway bottom"
   ]
  },
  {
   "cell_type": "code",
   "execution_count": null,
   "id": "c137441a",
   "metadata": {},
   "outputs": [],
   "source": [
    "botm = np.zeros((nlay, nrow, ncol), dtype=float)\n",
    "base = 20.0\n",
    "for j in range(ncol):\n",
    "    botm[0, :, j] = base\n",
    "    if j + 1 in (40, 80, 120, 160):\n",
    "        base -= 5"
   ]
  },
  {
   "cell_type": "markdown",
   "id": "cf833b28",
   "metadata": {},
   "source": [
    "Solver parameters"
   ]
  },
  {
   "cell_type": "code",
   "execution_count": null,
   "id": "75eca8b3",
   "metadata": {},
   "outputs": [],
   "source": [
    "nouter = 500\n",
    "ninner = 50\n",
    "hclose = 1e-9\n",
    "rclose = 1e-6"
   ]
  },
  {
   "cell_type": "markdown",
   "id": "ed8cf226",
   "metadata": {
    "lines_to_next_cell": 2
   },
   "source": [
    "### Functions to build, write, run, and plot the Zaidel model\n",
    "\n",
    "MODFLOW 6 flopy simulation object (sim) is returned if building the model"
   ]
  },
  {
   "cell_type": "code",
   "execution_count": null,
   "id": "030f25e1",
   "metadata": {
    "lines_to_next_cell": 2
   },
   "outputs": [],
   "source": [
    "def build_model(H2=1.0):\n",
    "    if config.buildModel:\n",
    "        # Constant head cells are specified on the left and right edge of the model\n",
    "        chd_spd = [\n",
    "            [0, 0, 0, H1],\n",
    "            [0, 0, ncol - 1, H2],\n",
    "        ]\n",
    "\n",
    "        sim_ws = os.path.join(ws, sim_name)\n",
    "        sim = flopy.mf6.MFSimulation(\n",
    "            sim_name=sim_name, sim_ws=sim_ws, exe_name=config.mf6_exe\n",
    "        )\n",
    "        flopy.mf6.ModflowTdis(\n",
    "            sim, nper=nper, perioddata=tdis_ds, time_units=time_units\n",
    "        )\n",
    "        flopy.mf6.ModflowIms(\n",
    "            sim,\n",
    "            linear_acceleration=\"bicgstab\",\n",
    "            outer_maximum=nouter,\n",
    "            outer_dvclose=hclose,\n",
    "            inner_maximum=ninner,\n",
    "            inner_dvclose=hclose,\n",
    "            rcloserecord=\"{} strict\".format(rclose),\n",
    "        )\n",
    "        gwf = flopy.mf6.ModflowGwf(sim, modelname=sim_name, newtonoptions=\"newton\")\n",
    "        flopy.mf6.ModflowGwfdis(\n",
    "            gwf,\n",
    "            length_units=length_units,\n",
    "            nlay=nlay,\n",
    "            nrow=nrow,\n",
    "            ncol=ncol,\n",
    "            delr=delr,\n",
    "            delc=delc,\n",
    "            top=top,\n",
    "            botm=botm,\n",
    "        )\n",
    "        flopy.mf6.ModflowGwfnpf(\n",
    "            gwf,\n",
    "            icelltype=icelltype,\n",
    "            k=k11,\n",
    "        )\n",
    "        flopy.mf6.ModflowGwfic(gwf, strt=strt)\n",
    "        flopy.mf6.ModflowGwfchd(gwf, stress_period_data=chd_spd)\n",
    "\n",
    "        head_filerecord = \"{}.hds\".format(sim_name)\n",
    "        flopy.mf6.ModflowGwfoc(\n",
    "            gwf,\n",
    "            head_filerecord=head_filerecord,\n",
    "            saverecord=[(\"HEAD\", \"ALL\")],\n",
    "        )\n",
    "        return sim\n",
    "    return None"
   ]
  },
  {
   "cell_type": "markdown",
   "id": "aef9e35c",
   "metadata": {
    "lines_to_next_cell": 2
   },
   "source": [
    "Function to write Zaidel model files"
   ]
  },
  {
   "cell_type": "code",
   "execution_count": null,
   "id": "b3dab6f5",
   "metadata": {
    "lines_to_next_cell": 2
   },
   "outputs": [],
   "source": [
    "def write_model(sim, silent=True):\n",
    "    if config.writeModel:\n",
    "        sim.write_simulation(silent=silent)"
   ]
  },
  {
   "cell_type": "markdown",
   "id": "5790f90e",
   "metadata": {
    "lines_to_next_cell": 2
   },
   "source": [
    "Function to run the Zaidel model.\n",
    "True is returned if the model runs successfully\n"
   ]
  },
  {
   "cell_type": "code",
   "execution_count": null,
   "id": "4511de42",
   "metadata": {
    "lines_to_next_cell": 2
   },
   "outputs": [],
   "source": [
    "@config.timeit\n",
    "def run_model(sim, silent=True):\n",
    "    success = True\n",
    "    if config.runModel:\n",
    "        success, buff = sim.run_simulation(silent=silent)\n",
    "        if not success:\n",
    "            print(buff)\n",
    "\n",
    "    return success"
   ]
  },
  {
   "cell_type": "markdown",
   "id": "23035d3d",
   "metadata": {
    "lines_to_next_cell": 2
   },
   "source": [
    "Function to plot the Zaidel model results.\n"
   ]
  },
  {
   "cell_type": "code",
   "execution_count": null,
   "id": "55c44b12",
   "metadata": {
    "lines_to_next_cell": 2
   },
   "outputs": [],
   "source": [
    "def plot_results(idx, sim, silent=True):\n",
    "    verbose = not silent\n",
    "    if config.plotModel:\n",
    "        fs = USGSFigure(figure_type=\"map\", verbose=verbose)\n",
    "        sim_ws = os.path.join(ws, sim_name)\n",
    "        gwf = sim.get_model(sim_name)\n",
    "        xedge = gwf.modelgrid.xvertices[0]\n",
    "        zedge = np.array([botm[0, 0, 0]] + botm.flatten().tolist())\n",
    "\n",
    "        # create MODFLOW 6 head object\n",
    "        hobj = gwf.output.head()\n",
    "\n",
    "        # extract heads\n",
    "        head = hobj.get_data()\n",
    "        vmin, vmax = 0, 25\n",
    "\n",
    "        # Create figure for simulation\n",
    "        extents = (0, ncol * delr, -1, 25.0)\n",
    "        fig, ax = plt.subplots(\n",
    "            ncols=1,\n",
    "            nrows=1,\n",
    "            figsize=figure_size,\n",
    "            dpi=300,\n",
    "            constrained_layout=True,\n",
    "            sharey=True,\n",
    "        )\n",
    "\n",
    "        ax.set_xlim(extents[:2])\n",
    "        ax.set_ylim(extents[2:])\n",
    "\n",
    "        fmp = flopy.plot.PlotCrossSection(\n",
    "            model=gwf, ax=ax, extent=extents, line={\"row\": 0}\n",
    "        )\n",
    "        ax.fill_between(xedge, zedge, y2=-1, color=\"0.75\", step=\"pre\", lw=0.0)\n",
    "        plot_obj = fmp.plot_array(head, head=head, vmin=vmin, vmax=vmax)\n",
    "        fmp.plot_bc(\"CHD\", color=\"cyan\", head=head)\n",
    "        ax.set_xlabel(\"x-coordinate, in meters\")\n",
    "        ax.set_ylabel(\"Elevation, in meters\")\n",
    "\n",
    "        # create legend\n",
    "        ax.plot(\n",
    "            -10000,\n",
    "            -10000,\n",
    "            lw=0,\n",
    "            marker=\"s\",\n",
    "            ms=10,\n",
    "            mfc=\"cyan\",\n",
    "            mec=\"cyan\",\n",
    "            label=\"Constant Head\",\n",
    "        )\n",
    "        ax.plot(\n",
    "            -10000,\n",
    "            -10000,\n",
    "            lw=0,\n",
    "            marker=\"s\",\n",
    "            ms=10,\n",
    "            mfc=\"0.75\",\n",
    "            mec=\"0.75\",\n",
    "            label=\"Model Base\",\n",
    "        )\n",
    "        fs.graph_legend(ax, ncol=2, loc=\"upper right\")\n",
    "\n",
    "        # plot colorbar\n",
    "        cax = plt.axes([0.62, 0.76, 0.325, 0.025])\n",
    "        cbar = plt.colorbar(\n",
    "            plot_obj, shrink=0.8, orientation=\"horizontal\", cax=cax\n",
    "        )\n",
    "        cbar.ax.tick_params(size=0)\n",
    "        cbar.ax.set_xlabel(r\"Head, $m$\", fontsize=9)\n",
    "\n",
    "        # save figure\n",
    "        if config.plotSave:\n",
    "            fpth = os.path.join(\n",
    "                \"..\",\n",
    "                \"figures\",\n",
    "                \"{}-{:02d}{}\".format(sim_name, idx + 1, config.figure_ext),\n",
    "            )\n",
    "            fig.savefig(fpth)"
   ]
  },
  {
   "cell_type": "markdown",
   "id": "02996690",
   "metadata": {
    "lines_to_next_cell": 2
   },
   "source": [
    "Function that wraps all of the steps for the TWRI model\n",
    "\n",
    "1. build_model,\n",
    "2. write_model,\n",
    "3. run_model, and\n",
    "4. plot_results.\n"
   ]
  },
  {
   "cell_type": "code",
   "execution_count": null,
   "id": "2182b35c",
   "metadata": {},
   "outputs": [],
   "source": [
    "def simulation(idx, silent=True):\n",
    "    key = list(parameters.keys())[idx]\n",
    "    params = parameters[key].copy()\n",
    "\n",
    "    sim = build_model(**params)\n",
    "\n",
    "    write_model(sim, silent=silent)\n",
    "\n",
    "    success = run_model(sim, silent=silent)\n",
    "\n",
    "    if success:\n",
    "        plot_results(idx, sim, silent=silent)"
   ]
  },
  {
   "cell_type": "code",
   "execution_count": null,
   "id": "26476a35",
   "metadata": {},
   "outputs": [],
   "source": []
  },
  {
   "cell_type": "markdown",
   "id": "bc6c735f",
   "metadata": {},
   "source": [
    "### Zaidel Simulation\n",
    "\n",
    "Simulated heads in the Zaidel model with H2 = 1."
   ]
  },
  {
   "cell_type": "code",
   "execution_count": null,
   "id": "6aa2d8e4",
   "metadata": {},
   "outputs": [],
   "source": [
    "simulation(0)"
   ]
  },
  {
   "cell_type": "markdown",
   "id": "5f73e958",
   "metadata": {},
   "source": [
    "Simulated heads in the Zaidel model with H2 = 10."
   ]
  },
  {
   "cell_type": "code",
   "execution_count": null,
   "id": "7c021cde",
   "metadata": {},
   "outputs": [],
   "source": [
    "simulation(1)"
   ]
  }
 ],
 "metadata": {
  "jupytext": {
   "cell_metadata_filter": "-all",
   "main_language": "python",
   "notebook_metadata_filter": "-all"
  }
 },
 "nbformat": 4,
 "nbformat_minor": 5
}
