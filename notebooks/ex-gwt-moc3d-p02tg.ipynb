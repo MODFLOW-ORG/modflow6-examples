{
 "cells": [
  {
   "cell_type": "markdown",
   "metadata": {
    "lines_to_next_cell": 2
   },
   "source": [
    "## Three-Dimensional Steady Flow with Transport\n",
    "\n",
    "MOC3D Problem 2 simulated with a triangular grid\n",
    "\n"
   ]
  },
  {
   "cell_type": "markdown",
   "metadata": {},
   "source": [
    "### Three-Dimensional Steady Flow with Transport Problem Setup"
   ]
  },
  {
   "cell_type": "markdown",
   "metadata": {},
   "source": [
    "Imports"
   ]
  },
  {
   "cell_type": "code",
   "execution_count": null,
   "metadata": {},
   "outputs": [],
   "source": [
    "import os\n",
    "import sys\n",
    "import matplotlib.pyplot as plt\n",
    "import flopy\n",
    "import flopy.utils.cvfdutil\n",
    "import numpy as np"
   ]
  },
  {
   "cell_type": "markdown",
   "metadata": {},
   "source": [
    "Append to system path to include the common subdirectory"
   ]
  },
  {
   "cell_type": "code",
   "execution_count": null,
   "metadata": {},
   "outputs": [],
   "source": [
    "sys.path.append(os.path.join(\"..\", \"common\"))"
   ]
  },
  {
   "cell_type": "markdown",
   "metadata": {},
   "source": [
    "Import common functionality"
   ]
  },
  {
   "cell_type": "code",
   "execution_count": null,
   "metadata": {},
   "outputs": [],
   "source": [
    "import analytical\n",
    "import config\n",
    "from figspecs import USGSFigure"
   ]
  },
  {
   "cell_type": "code",
   "execution_count": null,
   "metadata": {},
   "outputs": [],
   "source": [
    "mf6exe = os.path.abspath(config.mf6_exe)\n",
    "exe_name_mf = config.mf2005_exe\n",
    "exe_name_mt = config.mt3dms_exe"
   ]
  },
  {
   "cell_type": "markdown",
   "metadata": {},
   "source": [
    "Set figure properties specific to this problem"
   ]
  },
  {
   "cell_type": "code",
   "execution_count": null,
   "metadata": {},
   "outputs": [],
   "source": [
    "figure_size = (6, 4)"
   ]
  },
  {
   "cell_type": "markdown",
   "metadata": {},
   "source": [
    "Base simulation and model name and workspace"
   ]
  },
  {
   "cell_type": "code",
   "execution_count": null,
   "metadata": {},
   "outputs": [],
   "source": [
    "ws = config.base_ws\n",
    "example_name = \"ex-gwt-moc3d-p02tg\""
   ]
  },
  {
   "cell_type": "markdown",
   "metadata": {},
   "source": [
    "Model units"
   ]
  },
  {
   "cell_type": "code",
   "execution_count": null,
   "metadata": {},
   "outputs": [],
   "source": [
    "length_units = \"m\"\n",
    "time_units = \"days\""
   ]
  },
  {
   "cell_type": "markdown",
   "metadata": {},
   "source": [
    "Table of model parameters"
   ]
  },
  {
   "cell_type": "code",
   "execution_count": null,
   "metadata": {},
   "outputs": [],
   "source": [
    "nper = 1  # Number of periods\n",
    "nlay = 40  # Number of layers\n",
    "nrow = 12  # Number of rows\n",
    "ncol = 30  # Number of columns\n",
    "delr = 3  # Column width ($m$)\n",
    "delc = 0.5  # Row width ($m$)\n",
    "delv = 0.05  # Layer thickness ($m$)\n",
    "top = 0.0  # Top of the model ($m$)\n",
    "bottom = -2.0  # Model bottom elevation ($m$)\n",
    "velocity_x = 0.1  # Velocity in x-direction ($m d^{-1}$)\n",
    "hydraulic_conductivity = 0.0125  # Hydraulic conductivity ($m d^{-1}$)\n",
    "porosity = 0.25  # Porosity of mobile domain (unitless)\n",
    "alpha_l = 0.6  # Longitudinal dispersivity ($m$)\n",
    "alpha_th = 0.03  # Transverse horizontal dispersivity ($m$)\n",
    "alpha_tv = 0.006  # Transverse vertical dispersivity ($m$)\n",
    "total_time = 400.0  # Simulation time ($d$)\n",
    "solute_mass_flux = 2.5  # Solute mass flux ($g d^{-1}$)\n",
    "source_location = (1, 12, 8)  # Source location (layer, row, column)"
   ]
  },
  {
   "cell_type": "code",
   "execution_count": null,
   "metadata": {},
   "outputs": [],
   "source": [
    "botm = [-(k + 1) * delv for k in range(nlay)]\n",
    "specific_discharge = velocity_x * porosity\n",
    "source_location0 = tuple([idx - 1 for idx in source_location])"
   ]
  },
  {
   "cell_type": "markdown",
   "metadata": {
    "lines_to_next_cell": 2
   },
   "source": [
    "### Functions to build, write, run, and plot models\n",
    "\n",
    "MODFLOW 6 flopy GWF simulation object (sim) is returned\n"
   ]
  },
  {
   "cell_type": "code",
   "execution_count": null,
   "metadata": {},
   "outputs": [],
   "source": [
    "def grid_triangulator(itri, delr, delc):\n",
    "    regular_grid = flopy.discretization.StructuredGrid(delc, delr)\n",
    "    vertdict = {}\n",
    "    icell = 0\n",
    "    for i in range(nrow):\n",
    "        for j in range(ncol):\n",
    "            vs = regular_grid.get_cell_vertices(i, j)\n",
    "            vs.reverse()\n",
    "            if itri[i, j] == 0:\n",
    "                vertdict[icell] = [vs[0], vs[3], vs[2], vs[1], vs[0]]\n",
    "                icell += 1\n",
    "            elif itri[i, j] == 1:\n",
    "                vertdict[icell] = [vs[0], vs[3], vs[1], vs[0]]\n",
    "                icell += 1\n",
    "                vertdict[icell] = [vs[1], vs[3], vs[2], vs[1]]\n",
    "                icell += 1\n",
    "            elif itri[i, j] == 2:\n",
    "                vertdict[icell] = [vs[0], vs[2], vs[1], vs[0]]\n",
    "                icell += 1\n",
    "                vertdict[icell] = [vs[0], vs[3], vs[2], vs[0]]\n",
    "                icell += 1\n",
    "            else:\n",
    "                raise Exception(\"Unknown itri value: {}\".format(itri[i, j]))\n",
    "    verts, iverts = flopy.utils.cvfdutil.to_cvfd(vertdict)\n",
    "    return verts, iverts"
   ]
  },
  {
   "cell_type": "code",
   "execution_count": null,
   "metadata": {},
   "outputs": [],
   "source": [
    "def cvfd_to_cell2d(verts, iverts):\n",
    "    vertices = []\n",
    "    for i in range(verts.shape[0]):\n",
    "        x = verts[i, 0]\n",
    "        y = verts[i, 1]\n",
    "        vertices.append([i, x, y])\n",
    "    cell2d = []\n",
    "    for icell2d, vs in enumerate(iverts):\n",
    "        points = [tuple(verts[ip]) for ip in vs]\n",
    "        xc, yc = flopy.utils.cvfdutil.centroid_of_polygon(points)\n",
    "        cell2d.append([icell2d, xc, yc, len(vs), *vs])\n",
    "    return vertices, cell2d"
   ]
  },
  {
   "cell_type": "code",
   "execution_count": null,
   "metadata": {},
   "outputs": [],
   "source": [
    "def make_grid():\n",
    "    # itri 0 means do not split the cell\n",
    "    # itri 1 means split from upper right to lower left\n",
    "    # itri 2 means split from upper left to lower right\n",
    "    itri = np.zeros((nrow, ncol), dtype=np.int)\n",
    "    itri[:, 1 : ncol - 1] = 2\n",
    "    itri[source_location0[1], source_location0[2]] = 0\n",
    "    delra = delr * np.ones(ncol, dtype=np.float)\n",
    "    delca = delc * np.ones(nrow, dtype=np.float)\n",
    "    verts, iverts = grid_triangulator(itri, delra, delca)\n",
    "    vertices, cell2d = cvfd_to_cell2d(verts, iverts)\n",
    "\n",
    "    # A grid array that has the cellnumber of the first triangular cell in\n",
    "    # the original grid\n",
    "    itricellnum = np.empty((nrow, ncol), dtype=np.int)\n",
    "    icell = 0\n",
    "    for i in range(nrow):\n",
    "        for j in range(ncol):\n",
    "            itricellnum[i, j] = icell\n",
    "            if itri[i, j] != 0:\n",
    "                icell += 2\n",
    "            else:\n",
    "                icell += 1\n",
    "    return vertices, cell2d, itricellnum"
   ]
  },
  {
   "cell_type": "code",
   "execution_count": null,
   "metadata": {
    "lines_to_next_cell": 2
   },
   "outputs": [],
   "source": [
    "def build_mf6gwf(sim_folder):\n",
    "    print(\"Building mf6gwf model...{}\".format(sim_folder))\n",
    "    name = \"flow\"\n",
    "    sim_ws = os.path.join(ws, sim_folder, \"mf6gwf\")\n",
    "    sim = flopy.mf6.MFSimulation(\n",
    "        sim_name=name, sim_ws=sim_ws, exe_name=config.mf6_exe\n",
    "    )\n",
    "    tdis_ds = ((total_time, 1, 1.0),)\n",
    "    flopy.mf6.ModflowTdis(\n",
    "        sim, nper=nper, perioddata=tdis_ds, time_units=time_units\n",
    "    )\n",
    "    flopy.mf6.ModflowIms(\n",
    "        sim,\n",
    "        print_option=\"summary\",\n",
    "        inner_maximum=300,\n",
    "        linear_acceleration=\"bicgstab\",\n",
    "    )\n",
    "    gwf = flopy.mf6.ModflowGwf(sim, modelname=name, save_flows=True)\n",
    "    vertices, cell2d, itricellnum = make_grid()\n",
    "    flopy.mf6.ModflowGwfdisv(\n",
    "        gwf,\n",
    "        length_units=length_units,\n",
    "        nlay=nlay,\n",
    "        nvert=len(vertices),\n",
    "        ncpl=len(cell2d),\n",
    "        vertices=vertices,\n",
    "        cell2d=cell2d,\n",
    "        top=top,\n",
    "        botm=botm,\n",
    "    )\n",
    "    flopy.mf6.ModflowGwfnpf(\n",
    "        gwf,\n",
    "        xt3doptions=True,\n",
    "        save_specific_discharge=True,\n",
    "        save_saturation=True,\n",
    "        icelltype=0,\n",
    "        k=hydraulic_conductivity,\n",
    "    )\n",
    "    flopy.mf6.ModflowGwfic(gwf, strt=0.0)\n",
    "    chdspd = []\n",
    "    welspd = []\n",
    "    for k in range(nlay):\n",
    "        for i in range(nrow):\n",
    "            icpl = itricellnum[i, ncol - 1]\n",
    "            rec = [(k, icpl), 0.0]\n",
    "            chdspd.append(rec)\n",
    "            icpl = itricellnum[i, 0]\n",
    "            rec = [(k, icpl), specific_discharge * delc * delv]\n",
    "            welspd.append(rec)\n",
    "    flopy.mf6.ModflowGwfchd(gwf, stress_period_data=chdspd)\n",
    "    flopy.mf6.ModflowGwfwel(gwf, stress_period_data=welspd)\n",
    "    head_filerecord = \"{}.hds\".format(name)\n",
    "    budget_filerecord = \"{}.bud\".format(name)\n",
    "    flopy.mf6.ModflowGwfoc(\n",
    "        gwf,\n",
    "        head_filerecord=head_filerecord,\n",
    "        budget_filerecord=budget_filerecord,\n",
    "        saverecord=[(\"HEAD\", \"ALL\"), (\"BUDGET\", \"ALL\")],\n",
    "    )\n",
    "    return sim"
   ]
  },
  {
   "cell_type": "markdown",
   "metadata": {
    "lines_to_next_cell": 2
   },
   "source": [
    "MODFLOW 6 flopy GWF simulation object (sim) is returned"
   ]
  },
  {
   "cell_type": "code",
   "execution_count": null,
   "metadata": {},
   "outputs": [],
   "source": [
    "def build_mf6gwt(sim_folder):\n",
    "    print(\"Building mf6gwt model...{}\".format(sim_folder))\n",
    "    name = \"trans\"\n",
    "    sim_ws = os.path.join(ws, sim_folder, \"mf6gwt\")\n",
    "    sim = flopy.mf6.MFSimulation(\n",
    "        sim_name=name, sim_ws=sim_ws, exe_name=config.mf6_exe\n",
    "    )\n",
    "    tdis_ds = ((total_time, 100, 1.0),)\n",
    "    flopy.mf6.ModflowTdis(\n",
    "        sim, nper=nper, perioddata=tdis_ds, time_units=time_units\n",
    "    )\n",
    "    flopy.mf6.ModflowIms(\n",
    "        sim,\n",
    "        print_option=\"SUMMARY\",\n",
    "        outer_dvclose=0.01,\n",
    "        inner_dvclose=0.01,\n",
    "        under_relaxation=\"simple\",\n",
    "        under_relaxation_gamma=0.9,\n",
    "        relaxation_factor=0.99,\n",
    "        linear_acceleration=\"bicgstab\",\n",
    "    )\n",
    "    gwt = flopy.mf6.ModflowGwt(sim, modelname=name, save_flows=True)\n",
    "    vertices, cell2d, itricellnum = make_grid()\n",
    "    flopy.mf6.ModflowGwfdisv(\n",
    "        gwt,\n",
    "        length_units=length_units,\n",
    "        nlay=nlay,\n",
    "        nvert=len(vertices),\n",
    "        ncpl=len(cell2d),\n",
    "        vertices=vertices,\n",
    "        cell2d=cell2d,\n",
    "        top=top,\n",
    "        botm=botm,\n",
    "    )\n",
    "    flopy.mf6.ModflowGwtic(gwt, strt=0)\n",
    "    flopy.mf6.ModflowGwtmst(gwt, porosity=porosity)\n",
    "    flopy.mf6.ModflowGwtadv(gwt, scheme=\"TVD\")\n",
    "    flopy.mf6.ModflowGwtdsp(\n",
    "        gwt, xt3d=True, alh=alpha_l, ath1=alpha_th, ath2=alpha_tv,\n",
    "    )\n",
    "    pd = [\n",
    "        (\"GWFHEAD\", \"../mf6gwf/flow.hds\".format(), None),\n",
    "        (\"GWFBUDGET\", \"../mf6gwf/flow.bud\", None),\n",
    "    ]\n",
    "    flopy.mf6.ModflowGwtfmi(gwt, packagedata=pd)\n",
    "    sourcerecarray = [[]]\n",
    "    icpl = itricellnum[source_location0[1], source_location0[2]]\n",
    "    srcspd = [[(0, icpl), solute_mass_flux]]\n",
    "    flopy.mf6.ModflowGwtsrc(gwt, stress_period_data=srcspd)\n",
    "    flopy.mf6.ModflowGwtssm(gwt, sources=sourcerecarray)\n",
    "    obs_data = {\n",
    "        \"{}.obs.csv\".format(name): [\n",
    "            (\"SOURCELOC\", \"CONCENTRATION\", source_location0),\n",
    "        ],\n",
    "    }\n",
    "    obs_package = flopy.mf6.ModflowUtlobs(\n",
    "        gwt, digits=10, print_input=True, continuous=obs_data\n",
    "    )\n",
    "    flopy.mf6.ModflowGwtoc(\n",
    "        gwt,\n",
    "        budget_filerecord=\"{}.cbc\".format(name),\n",
    "        concentration_filerecord=\"{}.ucn\".format(name),\n",
    "        saverecord=[(\"CONCENTRATION\", \"ALL\"), (\"BUDGET\", \"LAST\")],\n",
    "        printrecord=[(\"CONCENTRATION\", \"LAST\"), (\"BUDGET\", \"LAST\")],\n",
    "    )\n",
    "    return sim"
   ]
  },
  {
   "cell_type": "code",
   "execution_count": null,
   "metadata": {
    "lines_to_next_cell": 2
   },
   "outputs": [],
   "source": [
    "def build_model(sim_name):\n",
    "    sims = None\n",
    "    if config.buildModel:\n",
    "        sim_mf6gwf = build_mf6gwf(sim_name)\n",
    "        sim_mf6gwt = build_mf6gwt(sim_name)\n",
    "        sims = (sim_mf6gwf, sim_mf6gwt)\n",
    "    return sims"
   ]
  },
  {
   "cell_type": "markdown",
   "metadata": {
    "lines_to_next_cell": 2
   },
   "source": [
    "Function to write model files"
   ]
  },
  {
   "cell_type": "code",
   "execution_count": null,
   "metadata": {
    "lines_to_next_cell": 2
   },
   "outputs": [],
   "source": [
    "def write_model(sims, silent=True):\n",
    "    if config.writeModel:\n",
    "        sim_mf6gwf, sim_mf6gwt = sims\n",
    "        sim_mf6gwf.write_simulation(silent=silent)\n",
    "        sim_mf6gwt.write_simulation(silent=silent)\n",
    "    return"
   ]
  },
  {
   "cell_type": "markdown",
   "metadata": {
    "lines_to_next_cell": 2
   },
   "source": [
    "Function to run the model\n",
    "True is returned if the model runs successfully"
   ]
  },
  {
   "cell_type": "code",
   "execution_count": null,
   "metadata": {
    "lines_to_next_cell": 2
   },
   "outputs": [],
   "source": [
    "def run_model(sims, silent=True):\n",
    "    success = True\n",
    "    if config.runModel:\n",
    "        success = False\n",
    "        sim_mf6gwf, sim_mf6gwt = sims\n",
    "        success, buff = sim_mf6gwf.run_simulation(silent=silent)\n",
    "        if not success:\n",
    "            print(buff)\n",
    "        success, buff = sim_mf6gwt.run_simulation(silent=silent)\n",
    "        if not success:\n",
    "            print(buff)\n",
    "    return success"
   ]
  },
  {
   "cell_type": "markdown",
   "metadata": {
    "lines_to_next_cell": 2
   },
   "source": [
    "Function to plot the model results"
   ]
  },
  {
   "cell_type": "code",
   "execution_count": null,
   "metadata": {},
   "outputs": [],
   "source": [
    "def plot_analytical(ax, levels):\n",
    "    n = porosity\n",
    "    v = velocity_x\n",
    "    al = alpha_l\n",
    "    ath = alpha_th\n",
    "    atv = alpha_tv\n",
    "    c0 = 10.0\n",
    "    xc = [22.5]\n",
    "    yc = [0]\n",
    "    zc = [0]\n",
    "    q = [1.0]\n",
    "    dx = v * al\n",
    "    dy = v * ath\n",
    "    dz = v * atv\n",
    "    lam = 0.0\n",
    "    x = np.arange(0 + delr / 2.0, ncol * delr + delr / 2.0, delr)\n",
    "    y = np.arange(0 + delc / 2.0, nrow * delc + delc / 2.0, delc)\n",
    "    x, y = np.meshgrid(x, y)\n",
    "    z = 0\n",
    "    t = 400.0\n",
    "    c400 = analytical.Wexler3d().multiwell(\n",
    "        x, y, z, t, v, xc, yc, zc, dx, dy, dz, n, q, lam, c0\n",
    "    )\n",
    "    cs = ax.contour(x, y, c400, levels=levels, colors=\"k\")\n",
    "    return cs"
   ]
  },
  {
   "cell_type": "code",
   "execution_count": null,
   "metadata": {},
   "outputs": [],
   "source": [
    "def plot_grid(sims):\n",
    "    if config.plotModel:\n",
    "        print(\"Plotting model results...\")\n",
    "        sim_mf6gwf, sim_mf6gwt = sims\n",
    "        fs = USGSFigure(figure_type=\"map\", verbose=False)\n",
    "\n",
    "        sim_ws = sim_mf6gwt.simulation_data.mfpath.get_sim_path()\n",
    "        fig, axs = plt.subplots(\n",
    "            1, 1, figsize=figure_size, dpi=300, tight_layout=True\n",
    "        )\n",
    "        gwt = sim_mf6gwt.trans\n",
    "        pmv = flopy.plot.PlotMapView(model=gwt, ax=axs)\n",
    "        pmv.plot_grid()\n",
    "        axs.set_xlabel(\"x position (m)\")\n",
    "        axs.set_ylabel(\"y position (m)\")\n",
    "        axs.set_aspect(4.0)\n",
    "\n",
    "        # save figure\n",
    "        if config.plotSave:\n",
    "            sim_folder = os.path.split(sim_ws)[0]\n",
    "            sim_folder = os.path.basename(sim_folder)\n",
    "            fname = \"{}-grid{}\".format(sim_folder, config.figure_ext)\n",
    "            fpth = os.path.join(ws, \"..\", \"figures\", fname)\n",
    "            fig.savefig(fpth)"
   ]
  },
  {
   "cell_type": "code",
   "execution_count": null,
   "metadata": {
    "lines_to_next_cell": 2
   },
   "outputs": [],
   "source": [
    "def plot_results(sims):\n",
    "    if config.plotModel:\n",
    "        print(\"Plotting model results...\")\n",
    "        sim_mf6gwf, sim_mf6gwt = sims\n",
    "        fs = USGSFigure(figure_type=\"map\", verbose=False)\n",
    "\n",
    "        sim_ws = sim_mf6gwt.simulation_data.mfpath.get_sim_path()\n",
    "        fname = os.path.join(sim_ws, \"trans.ucn\")\n",
    "        conc = flopy.utils.HeadFile(\n",
    "            fname, text=\"concentration\", precision=\"double\"\n",
    "        )\n",
    "        conc = conc.get_data()\n",
    "\n",
    "        fig, axs = plt.subplots(\n",
    "            1, 1, figsize=figure_size, dpi=300, tight_layout=True\n",
    "        )\n",
    "\n",
    "        gwt = sim_mf6gwt.trans\n",
    "        pmv = flopy.plot.PlotMapView(model=gwt, ax=axs)\n",
    "        # pmv.plot_array(conc, alpha=0.5)\n",
    "        # pmv.plot_grid()\n",
    "        levels = [1, 3, 10, 30, 100, 300]\n",
    "        cs1 = plot_analytical(axs, levels)\n",
    "        cs2 = pmv.contour_array(\n",
    "            conc, colors=\"blue\", linestyles=\"--\", levels=levels\n",
    "        )\n",
    "        axs.set_xlabel(\"x position (m)\")\n",
    "        axs.set_ylabel(\"y position (m)\")\n",
    "        axs.set_aspect(4.0)\n",
    "\n",
    "        labels = [\"Analytical\", \"MODFLOW 6\"]\n",
    "        lines = [cs1.collections[0], cs2.collections[0]]\n",
    "        axs.legend(lines, labels, loc=\"upper left\")\n",
    "\n",
    "        # save figure\n",
    "        if config.plotSave:\n",
    "            sim_folder = os.path.split(sim_ws)[0]\n",
    "            sim_folder = os.path.basename(sim_folder)\n",
    "            fname = \"{}-map{}\".format(sim_folder, config.figure_ext)\n",
    "            fpth = os.path.join(ws, \"..\", \"figures\", fname)\n",
    "            fig.savefig(fpth)"
   ]
  },
  {
   "cell_type": "markdown",
   "metadata": {
    "lines_to_next_cell": 2
   },
   "source": [
    "Function that wraps all of the steps for each scenario\n",
    "\n",
    "1. build_model,\n",
    "2. write_model,\n",
    "3. run_model, and\n",
    "4. plot_results.\n"
   ]
  },
  {
   "cell_type": "code",
   "execution_count": null,
   "metadata": {},
   "outputs": [],
   "source": [
    "def scenario(idx, silent=True):\n",
    "    sims = build_model(example_name)\n",
    "    write_model(sims, silent=silent)\n",
    "    success = run_model(sims, silent=silent)\n",
    "    if success:\n",
    "        plot_grid(sims)\n",
    "        plot_results(sims)"
   ]
  },
  {
   "cell_type": "code",
   "execution_count": null,
   "metadata": {},
   "outputs": [],
   "source": []
  },
  {
   "cell_type": "markdown",
   "metadata": {},
   "source": [
    "### Model"
   ]
  },
  {
   "cell_type": "markdown",
   "metadata": {},
   "source": [
    "Model run"
   ]
  },
  {
   "cell_type": "code",
   "execution_count": null,
   "metadata": {},
   "outputs": [],
   "source": [
    "scenario(0)"
   ]
  }
 ],
 "metadata": {
  "jupytext": {
   "cell_metadata_filter": "-all",
   "main_language": "python",
   "notebook_metadata_filter": "-all"
  }
 },
 "nbformat": 4,
 "nbformat_minor": 4
}
