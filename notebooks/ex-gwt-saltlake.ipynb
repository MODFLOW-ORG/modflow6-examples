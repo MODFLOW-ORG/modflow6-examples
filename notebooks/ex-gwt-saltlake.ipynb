{
 "cells": [
  {
   "cell_type": "markdown",
   "id": "200c28de",
   "metadata": {
    "lines_to_next_cell": 2
   },
   "source": [
    "## Salt Lake Problem\n",
    "\n",
    "Density driven groundwater flow\n",
    "\n"
   ]
  },
  {
   "cell_type": "markdown",
   "id": "77bed265",
   "metadata": {},
   "source": [
    "### Salt Lake Problem Setup"
   ]
  },
  {
   "cell_type": "markdown",
   "id": "e3c657a2",
   "metadata": {},
   "source": [
    "Imports"
   ]
  },
  {
   "cell_type": "code",
   "execution_count": null,
   "id": "9b558e47",
   "metadata": {},
   "outputs": [],
   "source": [
    "import os\n",
    "import sys\n",
    "import matplotlib as mpl\n",
    "mpl.use(\"TkAgg\")\n",
    "import matplotlib.pyplot as plt\n",
    "import flopy\n",
    "import numpy as np"
   ]
  },
  {
   "cell_type": "markdown",
   "id": "cd0c1723",
   "metadata": {},
   "source": [
    "Append to system path to include the common subdirectory"
   ]
  },
  {
   "cell_type": "code",
   "execution_count": null,
   "id": "17c7307c",
   "metadata": {},
   "outputs": [],
   "source": [
    "sys.path.append(os.path.join(\"..\", \"common\"))"
   ]
  },
  {
   "cell_type": "markdown",
   "id": "75265bd9",
   "metadata": {},
   "source": [
    "Import common functionality"
   ]
  },
  {
   "cell_type": "code",
   "execution_count": null,
   "id": "76b63c93",
   "metadata": {},
   "outputs": [],
   "source": [
    "import config\n",
    "from figspecs import USGSFigure"
   ]
  },
  {
   "cell_type": "code",
   "execution_count": null,
   "id": "f2620093",
   "metadata": {},
   "outputs": [],
   "source": [
    "mf6exe = os.path.abspath(config.mf6_exe)\n",
    "exe_name_mf = config.mf2005_exe\n",
    "exe_name_mt = config.mt3dms_exe"
   ]
  },
  {
   "cell_type": "markdown",
   "id": "4c71f6fa",
   "metadata": {},
   "source": [
    "Set figure properties specific to this problem"
   ]
  },
  {
   "cell_type": "code",
   "execution_count": null,
   "id": "b99ea8d4",
   "metadata": {},
   "outputs": [],
   "source": [
    "figure_size = (6, 8)"
   ]
  },
  {
   "cell_type": "markdown",
   "id": "afc072ac",
   "metadata": {},
   "source": [
    "Base simulation and model name and workspace"
   ]
  },
  {
   "cell_type": "code",
   "execution_count": null,
   "id": "4eefdb85",
   "metadata": {},
   "outputs": [],
   "source": [
    "ws = config.base_ws\n",
    "example_name = \"ex-gwt-saltlake\""
   ]
  },
  {
   "cell_type": "markdown",
   "id": "5d3d6264",
   "metadata": {},
   "source": [
    "Model units"
   ]
  },
  {
   "cell_type": "code",
   "execution_count": null,
   "id": "50bc2f75",
   "metadata": {},
   "outputs": [],
   "source": [
    "length_units = \"mm\"\n",
    "time_units = \"seconds\""
   ]
  },
  {
   "cell_type": "markdown",
   "id": "70d7e6d3",
   "metadata": {},
   "source": [
    "Table of model parameters"
   ]
  },
  {
   "cell_type": "code",
   "execution_count": null,
   "id": "d44c8de2",
   "metadata": {},
   "outputs": [],
   "source": [
    "nper = 1  # Number of periods\n",
    "nstp = 400  # Number of time steps\n",
    "perlen = 24000  # Simulation time length ($s$)\n",
    "nlay = 57  # Number of layers\n",
    "nrow = 1  # Number of rows\n",
    "ncol = 135  # Number of columns\n",
    "system_length = 150.0  # Length of system ($mm$)\n",
    "delr_str = \"ranges from 0.75 to 1.5\"  # Column width ($mm$)\n",
    "delc = 1.5  # Row width ($mm$)\n",
    "delv_str = \"ranges from 0.75 to 1.5\"  # Layer thickness\n",
    "top = 75.0  # Top of the model ($mm$)\n",
    "hydraulic_conductivity = 3.05  # Hydraulic conductivity ($mm s^{-1}$)\n",
    "ss = 3.8e-10  # Specific storage ($mm^{-1}$)\n",
    "denseref = 0.001065  # Reference density\n",
    "denseslp = 0.646  # Density and concentration slope\n",
    "conc_inflow = 8.4e-5  # Initial and inflow concentration ($g L^{-1}$)\n",
    "conc_sat = 1.1e-4  # Saturated concentration ($g L^{-1}$)\n",
    "porosity = 1.0  # Porosity (unitless)\n",
    "evap_rate = 1.03e-3  # Evaporation rate ($mm s^{-1}$)\n",
    "alphal = 9.0e-7  # Longitudinal dispersivity ($mm$)\n",
    "alphat = 9.0e-7  # Transverse dispersivity ($mm$)\n",
    "diffc = 9.0e-4  # Diffusion coefficient ($mm s^{-1}$)"
   ]
  },
  {
   "cell_type": "code",
   "execution_count": null,
   "id": "a5817899",
   "metadata": {},
   "outputs": [],
   "source": [
    "delv = 14 * [0.75] + 43 * [1.5]\n",
    "delr = 70 * [0.75] + 65 * [1.5]\n",
    "tp = top\n",
    "botm = []\n",
    "for k in range(nlay):\n",
    "    bt = tp - delv[k]\n",
    "    botm.append(bt)\n",
    "    tp = bt"
   ]
  },
  {
   "cell_type": "code",
   "execution_count": null,
   "id": "ead7097c",
   "metadata": {
    "lines_to_next_cell": 2
   },
   "outputs": [],
   "source": [
    "nouter, ninner = 100, 300\n",
    "hclose, rclose, relax = 1e-8, 1e-8, 0.97"
   ]
  },
  {
   "cell_type": "markdown",
   "id": "9d94867f",
   "metadata": {
    "lines_to_next_cell": 2
   },
   "source": [
    "### Functions to build, write, run, and plot models\n",
    "\n",
    "MODFLOW 6 flopy GWF simulation object (sim) is returned\n"
   ]
  },
  {
   "cell_type": "code",
   "execution_count": null,
   "id": "bb9caa9f",
   "metadata": {
    "lines_to_next_cell": 2
   },
   "outputs": [],
   "source": [
    "def build_model(sim_folder):\n",
    "    print(\"Building model...{}\".format(sim_folder))\n",
    "    name = \"flow\"\n",
    "    sim_ws = os.path.join(ws, sim_folder)\n",
    "    sim = flopy.mf6.MFSimulation(\n",
    "        sim_name=name,\n",
    "        sim_ws=sim_ws,\n",
    "        exe_name=config.mf6_exe,\n",
    "    )\n",
    "    tdis_ds = ((perlen, nstp, 1.0),)\n",
    "    flopy.mf6.ModflowTdis(\n",
    "        sim, nper=nper, perioddata=tdis_ds, time_units=time_units\n",
    "    )\n",
    "    gwf = flopy.mf6.ModflowGwf(sim, modelname=name, save_flows=True)\n",
    "    ims = flopy.mf6.ModflowIms(\n",
    "        sim,\n",
    "        print_option=\"ALL\",\n",
    "        outer_dvclose=hclose,\n",
    "        outer_maximum=nouter,\n",
    "        under_relaxation=\"NONE\",\n",
    "        inner_maximum=ninner,\n",
    "        inner_dvclose=hclose,\n",
    "        rcloserecord=rclose,\n",
    "        linear_acceleration=\"BICGSTAB\",\n",
    "        scaling_method=\"NONE\",\n",
    "        reordering_method=\"NONE\",\n",
    "        relaxation_factor=relax,\n",
    "        filename=\"{}.ims\".format(gwf.name),\n",
    "    )\n",
    "    sim.register_ims_package(ims, [gwf.name])\n",
    "    flopy.mf6.ModflowGwfdis(\n",
    "        gwf,\n",
    "        length_units=length_units,\n",
    "        nlay=nlay,\n",
    "        nrow=nrow,\n",
    "        ncol=ncol,\n",
    "        delr=delr,\n",
    "        delc=delc,\n",
    "        top=top,\n",
    "        botm=botm,\n",
    "    )\n",
    "    flopy.mf6.ModflowGwfnpf(\n",
    "        gwf,\n",
    "        save_specific_discharge=True,\n",
    "        icelltype=0,\n",
    "        k=hydraulic_conductivity,\n",
    "    )\n",
    "    flopy.mf6.ModflowGwfsto(gwf, ss=ss)\n",
    "    flopy.mf6.ModflowGwfic(gwf, strt=top)\n",
    "    pd = [(0, denseslp, 0.0, \"trans\", \"concentration\")]\n",
    "    flopy.mf6.ModflowGwfbuy(gwf, denseref=denseref, packagedata=pd)\n",
    "    chdspd = [[(0, 0, j), top, conc_inflow] for j in range(101, ncol)]\n",
    "    flopy.mf6.ModflowGwfchd(\n",
    "        gwf,\n",
    "        stress_period_data=chdspd,\n",
    "        pname=\"CHD-1\",\n",
    "        auxiliary=\"CONCENTRATION\",\n",
    "    )\n",
    "    rchspd = [[(0, 0, j), -evap_rate] for j in range(0, 67)]\n",
    "    flopy.mf6.ModflowGwfrch(\n",
    "        gwf,\n",
    "        stress_period_data=rchspd,\n",
    "        pname=\"RCH-1\",\n",
    "    )\n",
    "    head_filerecord = \"{}.hds\".format(name)\n",
    "    budget_filerecord = \"{}.bud\".format(name)\n",
    "    flopy.mf6.ModflowGwfoc(\n",
    "        gwf,\n",
    "        head_filerecord=head_filerecord,\n",
    "        budget_filerecord=budget_filerecord,\n",
    "        saverecord=[(\"HEAD\", \"ALL\"), (\"BUDGET\", \"ALL\")],\n",
    "    )\n",
    "\n",
    "    gwt = flopy.mf6.ModflowGwt(sim, modelname=\"trans\")\n",
    "    imsgwt = flopy.mf6.ModflowIms(\n",
    "        sim,\n",
    "        print_option=\"ALL\",\n",
    "        outer_dvclose=hclose,\n",
    "        outer_maximum=nouter,\n",
    "        under_relaxation=\"NONE\",\n",
    "        inner_maximum=ninner,\n",
    "        inner_dvclose=hclose,\n",
    "        rcloserecord=rclose,\n",
    "        linear_acceleration=\"BICGSTAB\",\n",
    "        scaling_method=\"NONE\",\n",
    "        reordering_method=\"NONE\",\n",
    "        relaxation_factor=relax,\n",
    "        filename=\"{}.ims\".format(gwt.name),\n",
    "    )\n",
    "    sim.register_ims_package(imsgwt, [gwt.name])\n",
    "    flopy.mf6.ModflowGwtdis(\n",
    "        gwt,\n",
    "        length_units=length_units,\n",
    "        nlay=nlay,\n",
    "        nrow=nrow,\n",
    "        ncol=ncol,\n",
    "        delr=delr,\n",
    "        delc=delc,\n",
    "        top=top,\n",
    "        botm=botm,\n",
    "    )\n",
    "    flopy.mf6.ModflowGwtmst(gwt, porosity=porosity)\n",
    "    flopy.mf6.ModflowGwtic(gwt, strt=conc_inflow)\n",
    "    flopy.mf6.ModflowGwtadv(gwt, scheme=\"UPSTREAM\")\n",
    "    flopy.mf6.ModflowGwtdsp(\n",
    "        gwt, xt3d_off=True, alh=alphal, ath1=alphat, diffc=diffc\n",
    "    )\n",
    "    sourcerecarray = [\n",
    "        (\"CHD-1\", \"AUX\", \"CONCENTRATION\"),\n",
    "    ]\n",
    "    flopy.mf6.ModflowGwtssm(gwt, sources=sourcerecarray)\n",
    "    conc_rand = (np.random.random(67) - 0.5) * 0.01 * (\n",
    "        conc_sat - conc_inflow\n",
    "    ) + conc_sat\n",
    "    cncspd = [[(0, 0, j), conc_rand[j]] for j in range(0, 67)]\n",
    "    flopy.mf6.ModflowGwtcnc(\n",
    "        gwt,\n",
    "        stress_period_data=cncspd,\n",
    "        pname=\"CNC-1\",\n",
    "    )\n",
    "    flopy.mf6.ModflowGwtoc(\n",
    "        gwt,\n",
    "        budget_filerecord=\"{}.cbc\".format(gwt.name),\n",
    "        concentration_filerecord=\"{}.ucn\".format(gwt.name),\n",
    "        concentrationprintrecord=[\n",
    "            (\"COLUMNS\", 10, \"WIDTH\", 15, \"DIGITS\", 6, \"GENERAL\")\n",
    "        ],\n",
    "        saverecord=[(\"CONCENTRATION\", \"ALL\")],\n",
    "        printrecord=[(\"CONCENTRATION\", \"LAST\"), (\"BUDGET\", \"LAST\")],\n",
    "    )\n",
    "    flopy.mf6.ModflowGwfgwt(\n",
    "        sim, exgtype=\"GWF6-GWT6\", exgmnamea=gwf.name, exgmnameb=gwt.name\n",
    "    )\n",
    "    return sim"
   ]
  },
  {
   "cell_type": "markdown",
   "id": "ca18ba2a",
   "metadata": {
    "lines_to_next_cell": 2
   },
   "source": [
    "Function to write model files"
   ]
  },
  {
   "cell_type": "code",
   "execution_count": null,
   "id": "c17ce06c",
   "metadata": {
    "lines_to_next_cell": 2
   },
   "outputs": [],
   "source": [
    "def write_model(sim, silent=True):\n",
    "    if config.writeModel:\n",
    "        sim.write_simulation(silent=silent)\n",
    "    return"
   ]
  },
  {
   "cell_type": "markdown",
   "id": "3421f436",
   "metadata": {
    "lines_to_next_cell": 2
   },
   "source": [
    "Function to run the model\n",
    "True is returned if the model runs successfully"
   ]
  },
  {
   "cell_type": "code",
   "execution_count": null,
   "id": "773cc425",
   "metadata": {
    "lines_to_next_cell": 2
   },
   "outputs": [],
   "source": [
    "@config.timeit\n",
    "def run_model(sim, silent=True):\n",
    "    success = True\n",
    "    if config.runModel:\n",
    "        success = False\n",
    "        success, buff = sim.run_simulation(silent=silent)\n",
    "        if not success:\n",
    "            print(buff)\n",
    "    return success"
   ]
  },
  {
   "cell_type": "markdown",
   "id": "2a65caf4",
   "metadata": {
    "lines_to_next_cell": 2
   },
   "source": [
    "Function to plot the model results"
   ]
  },
  {
   "cell_type": "code",
   "execution_count": null,
   "id": "f8a408cd",
   "metadata": {},
   "outputs": [],
   "source": [
    "def plot_conc(sim, idx):\n",
    "    fs = USGSFigure(figure_type=\"map\", verbose=False)\n",
    "    sim_name = example_name\n",
    "    sim_ws = os.path.join(ws, sim_name)\n",
    "    gwf = sim.get_model(\"flow\")\n",
    "    gwt = sim.get_model(\"trans\")\n",
    "\n",
    "    # make bc figure\n",
    "    fig = plt.figure(figsize=(6, 4))\n",
    "    ax = fig.add_subplot(1, 1, 1, aspect=\"equal\")\n",
    "    pxs = flopy.plot.PlotCrossSection(model=gwf, ax=ax, line={\"row\": 0})\n",
    "    pxs.plot_grid(linewidth=0.1)\n",
    "    pxs.plot_bc(\"RCH-1\", color=\"red\")\n",
    "    pxs.plot_bc(\"CHD-1\", color=\"blue\")\n",
    "    ax.set_ylabel(\"z position (m)\")\n",
    "    ax.set_xlabel(\"x position (m)\")\n",
    "    if config.plotSave:\n",
    "        fpth = os.path.join(\n",
    "            \"..\", \"figures\", \"{}-bc{}\".format(sim_name, config.figure_ext)\n",
    "        )\n",
    "        fig.savefig(fpth)\n",
    "    plt.close(\"all\")\n",
    "\n",
    "    # make results plot\n",
    "    fig = plt.figure(figsize=figure_size)\n",
    "    fig.tight_layout()\n",
    "\n",
    "    # create MODFLOW 6 head object\n",
    "    cobj = gwt.output.concentration()\n",
    "    times = cobj.get_times()\n",
    "    times = np.array(times)\n",
    "\n",
    "    # plot times in the original publication\n",
    "    plot_times = [\n",
    "        2581.0,\n",
    "        15485.0,\n",
    "        5162.0,\n",
    "        18053.0,\n",
    "        10311.0,\n",
    "        20634.0,\n",
    "        12904.0,\n",
    "        23215.0,\n",
    "    ]\n",
    "\n",
    "    nplots = len(plot_times)\n",
    "    for iplot in range(nplots):\n",
    "\n",
    "        time_in_pub = plot_times[iplot]\n",
    "        idx_conc = (np.abs(times - time_in_pub)).argmin()\n",
    "        time_this_plot = times[idx_conc]\n",
    "        conc = cobj.get_data(totim=time_this_plot)\n",
    "\n",
    "        ax = fig.add_subplot(4, 2, iplot + 1)\n",
    "        pxs = flopy.plot.PlotCrossSection(model=gwf, ax=ax, line={\"row\": 0})\n",
    "        pxs.plot_array(conc, cmap=\"jet\", vmin=conc_inflow, vmax=conc_sat)\n",
    "        ax.set_xlim(0, 75.0)\n",
    "        ax.set_ylabel(\"z position (m)\")\n",
    "        if iplot in [6, 7]:\n",
    "            ax.set_xlabel(\"x position (m)\")\n",
    "        ax.set_title(\"Time = {} seconds\".format(time_this_plot))\n",
    "    plt.tight_layout()\n",
    "\n",
    "    # save figure\n",
    "    if config.plotSave:\n",
    "        fpth = os.path.join(\n",
    "            \"..\", \"figures\", \"{}-conc{}\".format(sim_name, config.figure_ext)\n",
    "        )\n",
    "        fig.savefig(fpth)\n",
    "    return"
   ]
  },
  {
   "cell_type": "code",
   "execution_count": null,
   "id": "b5d28118",
   "metadata": {},
   "outputs": [],
   "source": [
    "def make_animated_gif(sim, idx):\n",
    "    from matplotlib.animation import FuncAnimation, PillowWriter\n",
    "\n",
    "    fs = USGSFigure(figure_type=\"map\", verbose=False)\n",
    "    sim_name = example_name\n",
    "    sim_ws = os.path.join(ws, sim_name)\n",
    "    gwf = sim.get_model(\"flow\")\n",
    "    gwt = sim.get_model(\"trans\")\n",
    "\n",
    "    cobj = gwt.output.concentration()\n",
    "    times = cobj.get_times()\n",
    "    times = np.array(times)\n",
    "    conc = cobj.get_alldata()\n",
    "\n",
    "    fig = plt.figure(figsize=(6, 4))\n",
    "    ax = fig.add_subplot(1, 1, 1, aspect=\"equal\")\n",
    "    pxs = flopy.plot.PlotCrossSection(model=gwf, ax=ax, line={\"row\": 0})\n",
    "    pc = pxs.plot_array(conc[0], cmap=\"jet\", vmin=conc_inflow, vmax=conc_sat)\n",
    "\n",
    "    def init():\n",
    "        ax.set_xlim(0, 75.0)\n",
    "        ax.set_ylim(0, 75.0)\n",
    "        ax.set_title(\"Time = {} seconds\".format(times[0]))\n",
    "\n",
    "    def update(i):\n",
    "        pc.set_array(conc[i].flatten())\n",
    "        ax.set_title(\"Time = {} seconds\".format(times[i]))\n",
    "\n",
    "    ani = FuncAnimation(fig, update, range(1, times.shape[0]), init_func=init)\n",
    "    writer = PillowWriter(fps=50)\n",
    "    fpth = os.path.join(\"..\", \"figures\", \"{}{}\".format(sim_name, \".gif\"))\n",
    "    ani.save(fpth, writer=writer)\n",
    "    return"
   ]
  },
  {
   "cell_type": "code",
   "execution_count": null,
   "id": "c5f74330",
   "metadata": {
    "lines_to_next_cell": 2
   },
   "outputs": [],
   "source": [
    "def plot_results(sim, idx):\n",
    "    if config.plotModel:\n",
    "        plot_conc(sim, idx)\n",
    "        if config.plotSave and config.createGif:\n",
    "            make_animated_gif(sim, idx)\n",
    "    return"
   ]
  },
  {
   "cell_type": "markdown",
   "id": "b85de0ff",
   "metadata": {
    "lines_to_next_cell": 2
   },
   "source": [
    "Function that wraps all of the steps for each scenario\n",
    "\n",
    "1. build_model,\n",
    "2. write_model,\n",
    "3. run_model, and\n",
    "4. plot_results.\n"
   ]
  },
  {
   "cell_type": "code",
   "execution_count": null,
   "id": "384024a7",
   "metadata": {},
   "outputs": [],
   "source": [
    "def scenario(idx, silent=True):\n",
    "    sim = build_model(example_name)\n",
    "    write_model(sim, silent=silent)\n",
    "    success = run_model(sim, silent=silent)\n",
    "    if success:\n",
    "        plot_results(sim, idx)"
   ]
  },
  {
   "cell_type": "code",
   "execution_count": null,
   "id": "542ef635",
   "metadata": {},
   "outputs": [],
   "source": []
  },
  {
   "cell_type": "markdown",
   "id": "8e12947d",
   "metadata": {},
   "source": [
    "### Salt Lake Problem"
   ]
  },
  {
   "cell_type": "markdown",
   "id": "c4d6840d",
   "metadata": {},
   "source": [
    "Plot showing MODFLOW 6 results"
   ]
  },
  {
   "cell_type": "code",
   "execution_count": null,
   "id": "2edaadca",
   "metadata": {},
   "outputs": [],
   "source": [
    "scenario(0)"
   ]
  }
 ],
 "metadata": {
  "jupytext": {
   "cell_metadata_filter": "-all",
   "main_language": "python",
   "notebook_metadata_filter": "-all"
  }
 },
 "nbformat": 4,
 "nbformat_minor": 5
}
