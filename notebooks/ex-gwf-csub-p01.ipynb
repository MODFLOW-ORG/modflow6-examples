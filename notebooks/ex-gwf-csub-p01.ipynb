{
 "cells": [
  {
   "cell_type": "markdown",
   "id": "b1a4e088",
   "metadata": {},
   "source": [
    "## Jacob (1939) Elastic Aquifer Loading\n",
    "\n",
    "This problem simulates elastic compaction of aquifer materials in response to the\n",
    "loading of an aquifer by a passing train. Water-level responses were simulated for\n",
    "an eastbound train leaving the Smithtown Station in Long Island, New York at 13:04\n",
    "on April 23, 1937\n"
   ]
  },
  {
   "cell_type": "markdown",
   "id": "1273f5ea",
   "metadata": {},
   "source": [
    "### Problem Setup\n",
    "\n",
    "Imports"
   ]
  },
  {
   "cell_type": "code",
   "execution_count": null,
   "id": "3d08b3d8",
   "metadata": {},
   "outputs": [],
   "source": [
    "import datetime\n",
    "import os\n",
    "import sys\n",
    "\n",
    "import flopy\n",
    "import matplotlib as mpl\n",
    "import matplotlib.pyplot as plt\n",
    "import numpy as np"
   ]
  },
  {
   "cell_type": "markdown",
   "id": "daeef97c",
   "metadata": {},
   "source": [
    "Append to system path to include the common subdirectory"
   ]
  },
  {
   "cell_type": "code",
   "execution_count": null,
   "id": "ce0b69fe",
   "metadata": {},
   "outputs": [],
   "source": [
    "sys.path.append(os.path.join(\"..\", \"common\"))"
   ]
  },
  {
   "cell_type": "markdown",
   "id": "4bdd1423",
   "metadata": {},
   "source": [
    "import common functionality"
   ]
  },
  {
   "cell_type": "code",
   "execution_count": null,
   "id": "765632e3",
   "metadata": {},
   "outputs": [],
   "source": [
    "import config\n",
    "from figspecs import USGSFigure"
   ]
  },
  {
   "cell_type": "markdown",
   "id": "51c9a160",
   "metadata": {},
   "source": [
    "Set figure properties specific to the"
   ]
  },
  {
   "cell_type": "code",
   "execution_count": null,
   "id": "99ad2426",
   "metadata": {},
   "outputs": [],
   "source": [
    "figure_size = (6.8, 4.5)"
   ]
  },
  {
   "cell_type": "markdown",
   "id": "57459a71",
   "metadata": {},
   "source": [
    "Base simulation and model name and workspace"
   ]
  },
  {
   "cell_type": "code",
   "execution_count": null,
   "id": "ed72617a",
   "metadata": {},
   "outputs": [],
   "source": [
    "ws = config.base_ws"
   ]
  },
  {
   "cell_type": "markdown",
   "id": "bb4693e0",
   "metadata": {},
   "source": [
    "Simulation name"
   ]
  },
  {
   "cell_type": "code",
   "execution_count": null,
   "id": "d7fcd9d3",
   "metadata": {},
   "outputs": [],
   "source": [
    "sim_name = \"ex-gwf-csub-p01\""
   ]
  },
  {
   "cell_type": "markdown",
   "id": "2fb9c3af",
   "metadata": {},
   "source": [
    "Model units"
   ]
  },
  {
   "cell_type": "code",
   "execution_count": null,
   "id": "1579de0f",
   "metadata": {},
   "outputs": [],
   "source": [
    "length_units = \"meters\"\n",
    "time_units = \"seconds\""
   ]
  },
  {
   "cell_type": "markdown",
   "id": "1bd38296",
   "metadata": {},
   "source": [
    "Simulation starting date and time"
   ]
  },
  {
   "cell_type": "code",
   "execution_count": null,
   "id": "15eb72bc",
   "metadata": {},
   "outputs": [],
   "source": [
    "dstart = datetime.datetime(1937, 4, 23, 13, 5, 55)"
   ]
  },
  {
   "cell_type": "markdown",
   "id": "33f40625",
   "metadata": {},
   "source": [
    "Table"
   ]
  },
  {
   "cell_type": "code",
   "execution_count": null,
   "id": "6be1042d",
   "metadata": {},
   "outputs": [],
   "source": [
    "nper = 2  # Number of periods\n",
    "nlay = 3  # Number of layers\n",
    "ncol = 35  # Number of columns\n",
    "nrow = 1  # Number of rows\n",
    "delr0 = 0.5  # Initial column width ($m$)\n",
    "delrmax = 100.0  # Maximum column width\n",
    "delc = 100.6  # Row width ($m$)\n",
    "top = 0.0  # Top of the model ($ft$)\n",
    "botm_str = \"-12.2, -21.3, -30.5\"  # Layer bottom elevations ($m$)\n",
    "strt = -10.7  # Starting head ($m$)\n",
    "icelltype_str = \"1, 0, 0\"  # Cell conversion type\n",
    "k11_str = \"1.8e-5, 3.5e-10, 3.1e-5\"  # Horizontal hydraulic conductivity ($m/s$)\n",
    "sy_str = \"0.1, 0.05, 0.25\"  # Specific yield (unitless)\n",
    "sgm = 1.7  # Specific gravity of moist soils (unitless)\n",
    "sgs = 2.0  # Specific gravity of saturated soils (unitless)\n",
    "cg_ske_str = \"3.3e-5, 6.6e-4, 4.5e-7\"  # Coarse grained elastic storativity (1/$m$)\n",
    "cg_theta_str = \"0.25, 0.50, 0.30\"  # Coarse-grained porosity (unitless)"
   ]
  },
  {
   "cell_type": "markdown",
   "id": "a31c82ee",
   "metadata": {},
   "source": [
    "Create delr from delr0 and delrmac"
   ]
  },
  {
   "cell_type": "code",
   "execution_count": null,
   "id": "ec3f4baa",
   "metadata": {},
   "outputs": [],
   "source": [
    "delr = np.ones(ncol, dtype=float) * 0.5\n",
    "xmax = delr[0]\n",
    "for idx in range(1, ncol):\n",
    "    dx = min(delr[idx - 1] * 1.2, 100.0)\n",
    "    xmax += dx\n",
    "    delr[idx] = dx"
   ]
  },
  {
   "cell_type": "markdown",
   "id": "7b8b8e97",
   "metadata": {},
   "source": [
    "Location of the observation well"
   ]
  },
  {
   "cell_type": "code",
   "execution_count": null,
   "id": "7372fe78",
   "metadata": {},
   "outputs": [],
   "source": [
    "locw201 = 11"
   ]
  },
  {
   "cell_type": "markdown",
   "id": "a8fef3d3",
   "metadata": {},
   "source": [
    "Load the aquifer load time series"
   ]
  },
  {
   "cell_type": "code",
   "execution_count": null,
   "id": "af62063c",
   "metadata": {},
   "outputs": [],
   "source": [
    "pth = os.path.join(\"..\", \"data\", sim_name, \"train_load_193704231304.csv\")\n",
    "csv_load = np.genfromtxt(pth, names=True, delimiter=\",\")"
   ]
  },
  {
   "cell_type": "markdown",
   "id": "7972ad11",
   "metadata": {},
   "source": [
    "Reformat csv data into format for MODFLOW 6 timeseries file"
   ]
  },
  {
   "cell_type": "code",
   "execution_count": null,
   "id": "d97f3214",
   "metadata": {},
   "outputs": [],
   "source": [
    "csub_ts = []\n",
    "for idx in range(csv_load.shape[0]):\n",
    "    csub_ts.append((csv_load[\"sim_time\"][idx], csv_load[\"load\"][idx]))"
   ]
  },
  {
   "cell_type": "markdown",
   "id": "d6e5dd0e",
   "metadata": {},
   "source": [
    "Static temporal data used by TDIS file"
   ]
  },
  {
   "cell_type": "code",
   "execution_count": null,
   "id": "17117b3f",
   "metadata": {
    "lines_to_next_cell": 2
   },
   "outputs": [],
   "source": [
    "tdis_ds = (\n",
    "    (0.5, 1, 1.0),\n",
    "    (csv_load[\"sim_time\"][-1] - 0.5, csv_load[\"sim_time\"].shape[0] - 2, 1),\n",
    ")"
   ]
  },
  {
   "cell_type": "markdown",
   "id": "af4d9bde",
   "metadata": {},
   "source": [
    "Simulation starting date and time"
   ]
  },
  {
   "cell_type": "code",
   "execution_count": null,
   "id": "2635618c",
   "metadata": {},
   "outputs": [],
   "source": [
    "dstart = datetime.datetime(1937, 4, 23, 13, 5, 55)"
   ]
  },
  {
   "cell_type": "markdown",
   "id": "ba84c4fb",
   "metadata": {},
   "source": [
    "Create a datetime list"
   ]
  },
  {
   "cell_type": "code",
   "execution_count": null,
   "id": "5d32fe18",
   "metadata": {},
   "outputs": [],
   "source": [
    "date_list = [dstart + datetime.timedelta(seconds=x) for x in csv_load[\"sim_time\"]]"
   ]
  },
  {
   "cell_type": "markdown",
   "id": "89178597",
   "metadata": {},
   "source": [
    "parse parameter strings into tuples"
   ]
  },
  {
   "cell_type": "code",
   "execution_count": null,
   "id": "b60bc8d2",
   "metadata": {},
   "outputs": [],
   "source": [
    "botm = [float(value) for value in botm_str.split(\",\")]\n",
    "k11 = [float(value) for value in k11_str.split(\",\")]\n",
    "icelltype = [int(value) for value in icelltype_str.split(\",\")]\n",
    "sy = [float(value) for value in sy_str.split(\",\")]\n",
    "cg_ske = [float(value) for value in cg_ske_str.split(\",\")]\n",
    "cg_theta = [float(value) for value in cg_theta_str.split(\",\")]"
   ]
  },
  {
   "cell_type": "markdown",
   "id": "e44d6fc4",
   "metadata": {},
   "source": [
    "Solver parameters"
   ]
  },
  {
   "cell_type": "code",
   "execution_count": null,
   "id": "f72a856f",
   "metadata": {
    "lines_to_next_cell": 2
   },
   "outputs": [],
   "source": [
    "nouter = 500\n",
    "ninner = 300\n",
    "hclose = 1e-9\n",
    "rclose = 1e-6\n",
    "linaccel = \"bicgstab\"\n",
    "relax = 1.0"
   ]
  },
  {
   "cell_type": "markdown",
   "id": "eac330ff",
   "metadata": {
    "lines_to_next_cell": 2
   },
   "source": [
    "### Functions to build, write, run, and plot the model\n",
    "\n",
    "MODFLOW 6 flopy simulation object (sim) is returned if building the model"
   ]
  },
  {
   "cell_type": "code",
   "execution_count": null,
   "id": "7c19dc34",
   "metadata": {
    "lines_to_next_cell": 2
   },
   "outputs": [],
   "source": [
    "def build_model():\n",
    "    if config.buildModel:\n",
    "        sim_ws = os.path.join(ws, sim_name)\n",
    "        sim = flopy.mf6.MFSimulation(\n",
    "            sim_name=sim_name, sim_ws=sim_ws, exe_name=config.mf6_exe\n",
    "        )\n",
    "        flopy.mf6.ModflowTdis(sim, nper=nper, perioddata=tdis_ds, time_units=time_units)\n",
    "        flopy.mf6.ModflowIms(\n",
    "            sim,\n",
    "            outer_maximum=nouter,\n",
    "            outer_dvclose=hclose,\n",
    "            linear_acceleration=linaccel,\n",
    "            inner_maximum=ninner,\n",
    "            inner_dvclose=hclose,\n",
    "            relaxation_factor=relax,\n",
    "            rcloserecord=f\"{rclose} strict\",\n",
    "        )\n",
    "        gwf = flopy.mf6.ModflowGwf(\n",
    "            sim, modelname=sim_name, save_flows=True, newtonoptions=\"newton\"\n",
    "        )\n",
    "        flopy.mf6.ModflowGwfdis(\n",
    "            gwf,\n",
    "            length_units=length_units,\n",
    "            nlay=nlay,\n",
    "            nrow=nrow,\n",
    "            ncol=ncol,\n",
    "            delr=delr,\n",
    "            delc=delc,\n",
    "            top=top,\n",
    "            botm=botm,\n",
    "        )\n",
    "        obs_recarray = {\"gwf_calib_obs.csv\": [(\"w3_1_1\", \"HEAD\", (2, 0, locw201))]}\n",
    "        flopy.mf6.ModflowUtlobs(\n",
    "            gwf, digits=10, print_input=True, continuous=obs_recarray\n",
    "        )\n",
    "        flopy.mf6.ModflowGwfic(gwf, strt=strt)\n",
    "        flopy.mf6.ModflowGwfnpf(\n",
    "            gwf,\n",
    "            icelltype=icelltype,\n",
    "            k=k11,\n",
    "            save_specific_discharge=True,\n",
    "        )\n",
    "        flopy.mf6.ModflowGwfsto(\n",
    "            gwf,\n",
    "            iconvert=icelltype,\n",
    "            ss=0.0,\n",
    "            sy=sy,\n",
    "            steady_state={0: True},\n",
    "            transient={1: True},\n",
    "        )\n",
    "        csub = flopy.mf6.ModflowGwfcsub(\n",
    "            gwf,\n",
    "            print_input=True,\n",
    "            update_material_properties=True,\n",
    "            save_flows=True,\n",
    "            ninterbeds=0,\n",
    "            maxsig0=1,\n",
    "            compression_indices=None,\n",
    "            sgm=sgm,\n",
    "            sgs=sgs,\n",
    "            cg_theta=cg_theta,\n",
    "            cg_ske_cr=cg_ske,\n",
    "            beta=4.65120000e-10,\n",
    "            packagedata=None,\n",
    "            stress_period_data={0: [[(0, 0, 0), \"LOAD\"]]},\n",
    "        )\n",
    "        # initialize time series\n",
    "        csubnam = f\"{sim_name}.load.ts\"\n",
    "        csub.ts.initialize(\n",
    "            filename=csubnam,\n",
    "            timeseries=csub_ts,\n",
    "            time_series_namerecord=[\"LOAD\"],\n",
    "            interpolation_methodrecord=[\"linear\"],\n",
    "            sfacrecord=[\"1.05\"],\n",
    "        )\n",
    "\n",
    "        flopy.mf6.ModflowGwfoc(\n",
    "            gwf,\n",
    "            printrecord=[(\"BUDGET\", \"ALL\")],\n",
    "        )\n",
    "        return sim\n",
    "    return None"
   ]
  },
  {
   "cell_type": "markdown",
   "id": "9d889a66",
   "metadata": {
    "lines_to_next_cell": 2
   },
   "source": [
    "Function to write MODFLOW 6 model files"
   ]
  },
  {
   "cell_type": "code",
   "execution_count": null,
   "id": "366ee48b",
   "metadata": {
    "lines_to_next_cell": 2
   },
   "outputs": [],
   "source": [
    "def write_model(sim, silent=True):\n",
    "    if config.writeModel:\n",
    "        sim.write_simulation(silent=silent)"
   ]
  },
  {
   "cell_type": "markdown",
   "id": "20e236e9",
   "metadata": {
    "lines_to_next_cell": 2
   },
   "source": [
    "Function to run the model.\n",
    "True is returned if the model runs successfully\n"
   ]
  },
  {
   "cell_type": "code",
   "execution_count": null,
   "id": "a11d63c3",
   "metadata": {
    "lines_to_next_cell": 2
   },
   "outputs": [],
   "source": [
    "@config.timeit\n",
    "def run_model(sim, silent=True):\n",
    "    success = True\n",
    "    if config.runModel:\n",
    "        success, buff = sim.run_simulation(silent=silent)\n",
    "        if not success:\n",
    "            print(buff)\n",
    "\n",
    "    return success"
   ]
  },
  {
   "cell_type": "markdown",
   "id": "a0e1a242",
   "metadata": {
    "lines_to_next_cell": 2
   },
   "source": [
    "Function to plot the model results.\n"
   ]
  },
  {
   "cell_type": "code",
   "execution_count": null,
   "id": "96ff69cf",
   "metadata": {},
   "outputs": [],
   "source": [
    "def plot_results(sim, silent=True):\n",
    "    if config.plotModel:\n",
    "        fs = USGSFigure(figure_type=\"map\", verbose=False)\n",
    "        sim_ws = os.path.join(ws, sim_name)\n",
    "        gwf = sim.get_model(sim_name)\n",
    "\n",
    "        # plot the grid\n",
    "        fig = plt.figure(figsize=figure_size)\n",
    "        gs = mpl.gridspec.GridSpec(10, 1, figure=fig)\n",
    "\n",
    "        idx = 0\n",
    "        ax = fig.add_subplot(gs[0:3])\n",
    "        extent = (0, xmax, 0, 100)\n",
    "        ax.set_ylim(0, 100)\n",
    "        mm = flopy.plot.PlotMapView(model=gwf, ax=ax, extent=extent)\n",
    "        mm.plot_grid(color=\"0.5\", lw=0.5, zorder=100)\n",
    "        ax.set_ylabel(\"y-coordinate,\\nin meters\")\n",
    "        x, y = gwf.modelgrid.xcellcenters[0, locw201], gwf.modelgrid.ycellcenters[0, 0]\n",
    "        ax.plot(x, y, marker=\"o\", ms=4, zorder=100, mew=0.5, mec=\"black\")\n",
    "        ax.annotate(\n",
    "            \"Well S-201\",\n",
    "            xy=(x + 5, y),\n",
    "            xytext=(x + 75, y),\n",
    "            ha=\"left\",\n",
    "            va=\"center\",\n",
    "            zorder=100,\n",
    "            arrowprops=dict(facecolor=\"black\", shrink=0.05, headwidth=5, width=1.5),\n",
    "        )\n",
    "        fs.heading(ax, letter=\"A\", heading=\"Map view\")\n",
    "        fs.remove_edge_ticks(ax)\n",
    "        ax.axes.get_xaxis().set_ticks([])\n",
    "\n",
    "        idx += 1\n",
    "        ax = fig.add_subplot(gs[3:])\n",
    "        extent = (0, xmax, botm[-1], 0)\n",
    "        mc = flopy.plot.PlotCrossSection(\n",
    "            model=gwf, line={\"Row\": 0}, ax=ax, extent=extent\n",
    "        )\n",
    "        ax.fill_between([0, delr.sum()], y1=top, y2=botm[0], color=\"cyan\", alpha=0.5)\n",
    "        ax.fill_between(\n",
    "            [0, delr.sum()], y1=botm[0], y2=botm[1], color=\"#D2B48C\", alpha=0.5\n",
    "        )\n",
    "        ax.fill_between(\n",
    "            [0, delr.sum()], y1=botm[1], y2=botm[2], color=\"#00BFFF\", alpha=0.5\n",
    "        )\n",
    "        mc.plot_grid(color=\"0.5\", lw=0.5, zorder=100)\n",
    "        ax.plot(\n",
    "            [0, delr.sum()],\n",
    "            [-35 / 3.28081, -35 / 3.28081],\n",
    "            lw=0.75,\n",
    "            color=\"black\",\n",
    "            ls=\"dashed\",\n",
    "        )\n",
    "        ax.text(\n",
    "            delr.sum() / 2, -10, \"static water-level\", va=\"bottom\", ha=\"center\", size=9\n",
    "        )\n",
    "        ax.set_ylabel(\"Elevation, in meters\")\n",
    "        ax.set_xlabel(\"x-coordinate, in meters\")\n",
    "        fs.heading(ax, letter=\"B\", heading=\"Cross-section view\")\n",
    "        fs.remove_edge_ticks(ax)\n",
    "\n",
    "        fig.align_ylabels()\n",
    "\n",
    "        plt.tight_layout(pad=1, h_pad=0.001, rect=(0.005, -0.02, 0.99, 0.99))\n",
    "\n",
    "        # save figure\n",
    "        if config.plotSave:\n",
    "            fpth = os.path.join(\"..\", \"figures\", f\"{sim_name}-grid{config.figure_ext}\")\n",
    "            fig.savefig(fpth)\n",
    "\n",
    "        # get the simulated heads\n",
    "        sim_obs = gwf.obs.output.obs().data\n",
    "        h0 = sim_obs[\"W3_1_1\"][0]\n",
    "        sim_obs[\"W3_1_1\"] -= h0\n",
    "        sim_date = [dstart + datetime.timedelta(seconds=x) for x in sim_obs[\"totim\"]]\n",
    "\n",
    "        # get the observed head\n",
    "        pth = os.path.join(\"..\", \"data\", sim_name, \"s201_gw_2sec.csv\")\n",
    "        dtype = [(\"date\", object), (\"dz_m\", float)]\n",
    "        obs_head = np.genfromtxt(pth, names=True, delimiter=\",\", dtype=dtype)\n",
    "        obs_date = []\n",
    "        for s in obs_head[\"date\"]:\n",
    "            obs_date.append(\n",
    "                datetime.datetime.strptime(s.decode(\"utf-8\"), \"%m-%d-%Y %H:%M:%S.%f\")\n",
    "            )\n",
    "        t0, t1 = obs_date[0], obs_date[-1]\n",
    "\n",
    "        # plot the results\n",
    "        fs = USGSFigure(figure_type=\"graph\", verbose=False)\n",
    "        fig = plt.figure(figsize=(6.8, 4.0))\n",
    "        gs = mpl.gridspec.GridSpec(2, 1, figure=fig)\n",
    "\n",
    "        axe = fig.add_subplot(gs[-1])\n",
    "\n",
    "        idx = 0\n",
    "        ax = fig.add_subplot(gs[idx], sharex=axe)\n",
    "        ax.set_ylim(0, 3.25)\n",
    "        ax.set_yticks(np.arange(0, 3.5, 0.5))\n",
    "        ax.fill_between(\n",
    "            date_list, csv_load[\"load\"], y2=0, color=\"cyan\", lw=0.5, alpha=0.5\n",
    "        )\n",
    "        ax.set_ylabel(\"Load, in meters\\nof water\")\n",
    "        plt.setp(ax.get_xticklabels(), visible=False)\n",
    "        fs.heading(ax, letter=\"A\")\n",
    "        fs.remove_edge_ticks(ax)\n",
    "\n",
    "        ax = axe\n",
    "        ax.plot(sim_date, sim_obs[\"W3_1_1\"], color=\"black\", lw=0.75, label=\"Simulated\")\n",
    "        ax.plot(\n",
    "            obs_date,\n",
    "            obs_head[\"dz_m\"],\n",
    "            color=\"red\",\n",
    "            lw=0,\n",
    "            ms=4,\n",
    "            marker=\".\",\n",
    "            label=\"Offset S-201\",\n",
    "        )\n",
    "        ax.axhline(0, lw=0.5, color=\"0.5\")\n",
    "        ax.set_ylabel(\"Water level fluctuation,\\nin meters\")\n",
    "        fs.heading(ax, letter=\"B\")\n",
    "        leg = fs.graph_legend(ax, loc=\"upper right\", ncol=1)\n",
    "\n",
    "        ax.set_xlabel(\"Time\")\n",
    "        ax.set_ylim(-0.004, 0.008)\n",
    "        axe.set_xlim(t0, t1)\n",
    "        fs.remove_edge_ticks(ax)\n",
    "\n",
    "        fig.align_ylabels()\n",
    "\n",
    "        plt.tight_layout(pad=1, h_pad=0.001, rect=(0.005, -0.02, 0.99, 0.99))\n",
    "\n",
    "        # save figure\n",
    "        if config.plotSave:\n",
    "            fpth = os.path.join(\"..\", \"figures\", f\"{sim_name}-01{config.figure_ext}\")\n",
    "            fig.savefig(fpth)"
   ]
  },
  {
   "cell_type": "markdown",
   "id": "655af1f9",
   "metadata": {},
   "source": [
    "Function that wraps all of the steps for the model\n",
    "\n",
    "1. build_model,\n",
    "2. write_model,\n",
    "3. run_model, and\n",
    "4. plot_results.\n"
   ]
  },
  {
   "cell_type": "code",
   "execution_count": null,
   "id": "5fc60d49",
   "metadata": {},
   "outputs": [],
   "source": [
    "def simulation(silent=True):\n",
    "    sim = build_model()\n",
    "\n",
    "    write_model(sim, silent=silent)\n",
    "\n",
    "    success = run_model(sim, silent=silent)\n",
    "\n",
    "    if success:\n",
    "        plot_results(sim, silent=silent)"
   ]
  },
  {
   "cell_type": "code",
   "execution_count": null,
   "id": "bd41b8ec",
   "metadata": {},
   "outputs": [],
   "source": []
  },
  {
   "cell_type": "markdown",
   "id": "d08531cd",
   "metadata": {},
   "source": [
    "### Jacob (1939) Elastic Aquifer Loading\n"
   ]
  },
  {
   "cell_type": "code",
   "execution_count": null,
   "id": "e2cded86",
   "metadata": {},
   "outputs": [],
   "source": [
    "simulation()"
   ]
  }
 ],
 "metadata": {
  "jupytext": {
   "cell_metadata_filter": "-all",
   "main_language": "python",
   "notebook_metadata_filter": "-all"
  }
 },
 "nbformat": 4,
 "nbformat_minor": 5
}
