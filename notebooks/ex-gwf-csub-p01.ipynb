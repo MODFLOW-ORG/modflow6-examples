{
 "cells": [
  {
   "cell_type": "markdown",
   "id": "c744e80c",
   "metadata": {},
   "source": [
    "## Jacob (1939) Elastic Aquifer Loading\n",
    "\n",
    "This problem simulates elastic compaction of aquifer materials in response to the\n",
    "loading of an aquifer by a passing train. Water-level responses were simulated for\n",
    "an eastbound train leaving the Smithtown Station in Long Island, New York at 13:04\n",
    "on April 23, 1937\n"
   ]
  },
  {
   "cell_type": "markdown",
   "id": "0f73d53e",
   "metadata": {},
   "source": [
    "### Problem Setup\n",
    "\n",
    "Imports"
   ]
  },
  {
   "cell_type": "code",
   "execution_count": null,
   "id": "eda51021",
   "metadata": {},
   "outputs": [],
   "source": [
    "import os\n",
    "import sys\n",
    "import datetime\n",
    "import numpy as np\n",
    "import matplotlib as mpl\n",
    "import matplotlib.pyplot as plt\n",
    "import flopy"
   ]
  },
  {
   "cell_type": "markdown",
   "id": "014cfd27",
   "metadata": {},
   "source": [
    "Append to system path to include the common subdirectory"
   ]
  },
  {
   "cell_type": "code",
   "execution_count": null,
   "id": "66841c22",
   "metadata": {},
   "outputs": [],
   "source": [
    "sys.path.append(os.path.join(\"..\", \"common\"))"
   ]
  },
  {
   "cell_type": "markdown",
   "id": "5bcb1c02",
   "metadata": {},
   "source": [
    "import common functionality"
   ]
  },
  {
   "cell_type": "code",
   "execution_count": null,
   "id": "f3159dfb",
   "metadata": {},
   "outputs": [],
   "source": [
    "import config\n",
    "from figspecs import USGSFigure"
   ]
  },
  {
   "cell_type": "markdown",
   "id": "380ca876",
   "metadata": {},
   "source": [
    "Set figure properties specific to the"
   ]
  },
  {
   "cell_type": "code",
   "execution_count": null,
   "id": "ca0b6399",
   "metadata": {},
   "outputs": [],
   "source": [
    "figure_size = (6.8, 4.5)"
   ]
  },
  {
   "cell_type": "markdown",
   "id": "85c4d9f7",
   "metadata": {},
   "source": [
    "Base simulation and model name and workspace"
   ]
  },
  {
   "cell_type": "code",
   "execution_count": null,
   "id": "5b8eff8e",
   "metadata": {},
   "outputs": [],
   "source": [
    "ws = config.base_ws"
   ]
  },
  {
   "cell_type": "markdown",
   "id": "e66a8e45",
   "metadata": {},
   "source": [
    "Simulation name"
   ]
  },
  {
   "cell_type": "code",
   "execution_count": null,
   "id": "46dd7cf3",
   "metadata": {},
   "outputs": [],
   "source": [
    "sim_name = \"ex-gwf-csub-p01\""
   ]
  },
  {
   "cell_type": "markdown",
   "id": "cc4bce72",
   "metadata": {},
   "source": [
    "Model units"
   ]
  },
  {
   "cell_type": "code",
   "execution_count": null,
   "id": "f1699a92",
   "metadata": {},
   "outputs": [],
   "source": [
    "length_units = \"meters\"\n",
    "time_units = \"seconds\""
   ]
  },
  {
   "cell_type": "markdown",
   "id": "82bdaf70",
   "metadata": {},
   "source": [
    "Simulation starting date and time"
   ]
  },
  {
   "cell_type": "code",
   "execution_count": null,
   "id": "408db154",
   "metadata": {},
   "outputs": [],
   "source": [
    "dstart = datetime.datetime(1937, 4, 23, 13, 5, 55)"
   ]
  },
  {
   "cell_type": "markdown",
   "id": "ce5ed5b2",
   "metadata": {},
   "source": [
    "Table"
   ]
  },
  {
   "cell_type": "code",
   "execution_count": null,
   "id": "116fe176",
   "metadata": {},
   "outputs": [],
   "source": [
    "nper = 2  # Number of periods\n",
    "nlay = 3  # Number of layers\n",
    "ncol = 35  # Number of columns\n",
    "nrow = 1  # Number of rows\n",
    "delr0 = 0.5  # Initial column width ($m$)\n",
    "delrmax = 100.  # Maximum column width\n",
    "delc = 100.6  # Row width ($m$)\n",
    "top = 0.0  # Top of the model ($ft$)\n",
    "botm_str = \"-12.2, -21.3, -30.5\"  # Layer bottom elevations ($m$)\n",
    "strt = -10.7  # Starting head ($m$)\n",
    "icelltype_str = \"1, 0, 0\"  # Cell conversion type\n",
    "k11_str = \"1.8e-5, 3.5e-10, 3.1e-5\"  # Horizontal hydraulic conductivity ($m/s$)\n",
    "sy_str = \"0.1, 0.05, 0.25\"  # Specific yield (unitless)\n",
    "sgm = 1.7  # Specific gravity of moist soils (unitless)\n",
    "sgs = 2.0  # Specific gravity of saturated soils (unitless)\n",
    "cg_ske_str = \"3.3e-5, 6.6e-4, 4.5e-7\"  # Coarse grained elastic storativity (1/$m$)\n",
    "cg_theta_str = \"0.25, 0.50, 0.30\" # Coarse-grained porosity (unitless)"
   ]
  },
  {
   "cell_type": "markdown",
   "id": "0972da83",
   "metadata": {},
   "source": [
    "Create delr from delr0 and delrmac"
   ]
  },
  {
   "cell_type": "code",
   "execution_count": null,
   "id": "577734be",
   "metadata": {},
   "outputs": [],
   "source": [
    "delr = np.ones(ncol, dtype=float) * 0.5\n",
    "xmax = delr[0]\n",
    "for idx in range(1, ncol):\n",
    "    dx = min(delr[idx - 1] * 1.2, 100.)\n",
    "    xmax += dx\n",
    "    delr[idx] = dx"
   ]
  },
  {
   "cell_type": "markdown",
   "id": "bf007e84",
   "metadata": {},
   "source": [
    "Location of the observation well"
   ]
  },
  {
   "cell_type": "code",
   "execution_count": null,
   "id": "05ac8046",
   "metadata": {},
   "outputs": [],
   "source": [
    "locw201 = 11"
   ]
  },
  {
   "cell_type": "markdown",
   "id": "dfc92007",
   "metadata": {},
   "source": [
    "Load the aquifer load time series"
   ]
  },
  {
   "cell_type": "code",
   "execution_count": null,
   "id": "9fbae92f",
   "metadata": {},
   "outputs": [],
   "source": [
    "pth = os.path.join(\"..\", \"data\", sim_name, \"train_load_193704231304.csv\")\n",
    "csv_load = np.genfromtxt(pth, names=True, delimiter=\",\")"
   ]
  },
  {
   "cell_type": "markdown",
   "id": "955afefc",
   "metadata": {},
   "source": [
    "Reformat csv data into format for MODFLOW 6 timeseries file"
   ]
  },
  {
   "cell_type": "code",
   "execution_count": null,
   "id": "56099dfc",
   "metadata": {},
   "outputs": [],
   "source": [
    "csub_ts = []\n",
    "for idx in range(csv_load.shape[0]):\n",
    "    csub_ts.append((csv_load[\"sim_time\"][idx], csv_load[\"load\"][idx]))"
   ]
  },
  {
   "cell_type": "markdown",
   "id": "f79b2b9f",
   "metadata": {},
   "source": [
    "Static temporal data used by TDIS file"
   ]
  },
  {
   "cell_type": "code",
   "execution_count": null,
   "id": "eead3163",
   "metadata": {
    "lines_to_next_cell": 2
   },
   "outputs": [],
   "source": [
    "tdis_ds = ((0.5, 1, 1.0),\n",
    "           (csv_load[\"sim_time\"][-1] - 0.5, csv_load[\"sim_time\"].shape[0] - 2, 1))"
   ]
  },
  {
   "cell_type": "markdown",
   "id": "bd7ed903",
   "metadata": {},
   "source": [
    "Simulation starting date and time"
   ]
  },
  {
   "cell_type": "code",
   "execution_count": null,
   "id": "f99775c5",
   "metadata": {},
   "outputs": [],
   "source": [
    "dstart = datetime.datetime(1937, 4, 23, 13, 5, 55)"
   ]
  },
  {
   "cell_type": "markdown",
   "id": "1b1a2138",
   "metadata": {},
   "source": [
    "Create a datetime list"
   ]
  },
  {
   "cell_type": "code",
   "execution_count": null,
   "id": "ca0d552f",
   "metadata": {},
   "outputs": [],
   "source": [
    "date_list = [dstart + datetime.timedelta(seconds=x) for x in csv_load[\"sim_time\"]]"
   ]
  },
  {
   "cell_type": "markdown",
   "id": "fedeb721",
   "metadata": {},
   "source": [
    "parse parameter strings into tuples"
   ]
  },
  {
   "cell_type": "code",
   "execution_count": null,
   "id": "c6e92540",
   "metadata": {},
   "outputs": [],
   "source": [
    "botm = [float(value) for value in botm_str.split(\",\")]\n",
    "k11 = [float(value) for value in k11_str.split(\",\")]\n",
    "icelltype = [int(value) for value in icelltype_str.split(\",\")]\n",
    "sy = [float(value) for value in sy_str.split(\",\")]\n",
    "cg_ske = [float(value) for value in cg_ske_str.split(\",\")]\n",
    "cg_theta = [float(value) for value in cg_theta_str.split(\",\")]"
   ]
  },
  {
   "cell_type": "markdown",
   "id": "178f3850",
   "metadata": {},
   "source": [
    "Solver parameters"
   ]
  },
  {
   "cell_type": "code",
   "execution_count": null,
   "id": "082c60f1",
   "metadata": {
    "lines_to_next_cell": 2
   },
   "outputs": [],
   "source": [
    "nouter = 500\n",
    "ninner = 300\n",
    "hclose = 1e-9\n",
    "rclose = 1e-6\n",
    "linaccel = \"bicgstab\"\n",
    "relax = 1.0"
   ]
  },
  {
   "cell_type": "markdown",
   "id": "ae251bac",
   "metadata": {
    "lines_to_next_cell": 2
   },
   "source": [
    "### Functions to build, write, run, and plot the model\n",
    "\n",
    "MODFLOW 6 flopy simulation object (sim) is returned if building the model"
   ]
  },
  {
   "cell_type": "code",
   "execution_count": null,
   "id": "26bd8ef1",
   "metadata": {
    "lines_to_next_cell": 2
   },
   "outputs": [],
   "source": [
    "def build_model():\n",
    "    if config.buildModel:\n",
    "        sim_ws = os.path.join(ws, sim_name)\n",
    "        sim = flopy.mf6.MFSimulation(\n",
    "            sim_name=sim_name, sim_ws=sim_ws, exe_name=config.mf6_exe\n",
    "        )\n",
    "        flopy.mf6.ModflowTdis(\n",
    "            sim, nper=nper, perioddata=tdis_ds, time_units=time_units\n",
    "        )\n",
    "        flopy.mf6.ModflowIms(\n",
    "            sim,\n",
    "            outer_maximum=nouter,\n",
    "            outer_dvclose=hclose,\n",
    "            linear_acceleration=linaccel,\n",
    "            inner_maximum=ninner,\n",
    "            inner_dvclose=hclose,\n",
    "            relaxation_factor=relax,\n",
    "            rcloserecord=\"{} strict\".format(rclose),\n",
    "        )\n",
    "        gwf = flopy.mf6.ModflowGwf(sim, modelname=sim_name, save_flows=True,\n",
    "                                   newtonoptions=\"newton\")\n",
    "        flopy.mf6.ModflowGwfdis(\n",
    "            gwf,\n",
    "            length_units=length_units,\n",
    "            nlay=nlay,\n",
    "            nrow=nrow,\n",
    "            ncol=ncol,\n",
    "            delr=delr,\n",
    "            delc=delc,\n",
    "            top=top,\n",
    "            botm=botm,\n",
    "        )\n",
    "        obs_recarray = {'gwf_calib_obs.csv': [('w3_1_1', 'HEAD', (2, 0, locw201))]}\n",
    "        flopy.mf6.ModflowUtlobs(\n",
    "            gwf,\n",
    "            digits=10,\n",
    "            print_input=True,\n",
    "            continuous=obs_recarray)\n",
    "        flopy.mf6.ModflowGwfic(gwf, strt=strt)\n",
    "        flopy.mf6.ModflowGwfnpf(\n",
    "            gwf,\n",
    "            icelltype=icelltype,\n",
    "            k=k11,\n",
    "            save_specific_discharge=True,\n",
    "        )\n",
    "        flopy.mf6.ModflowGwfsto(\n",
    "            gwf,\n",
    "            iconvert=icelltype,\n",
    "            ss=0.,\n",
    "            sy=sy,\n",
    "            steady_state={0: True},\n",
    "            transient={1: True}\n",
    "        )\n",
    "        csub = flopy.mf6.ModflowGwfcsub(gwf,\n",
    "                                        print_input=True,\n",
    "                                        update_material_properties=True,\n",
    "                                        save_flows=True,\n",
    "                                        ninterbeds=0,\n",
    "                                        maxsig0=1,\n",
    "                                        compression_indices=None,\n",
    "                                        sgm=sgm,\n",
    "                                        sgs=sgs,\n",
    "                                        cg_theta=cg_theta,\n",
    "                                        cg_ske_cr=cg_ske,\n",
    "                                        beta=4.65120000e-10,\n",
    "                                        packagedata=None,\n",
    "                                        stress_period_data={0: [[(0, 0, 0), \"LOAD\"]]})\n",
    "        # initialize time series\n",
    "        csubnam = '{}.load.ts'.format(sim_name)\n",
    "        csub.ts.initialize(filename=csubnam, timeseries=csub_ts,\n",
    "                           time_series_namerecord=[\"LOAD\"],\n",
    "                           interpolation_methodrecord=[\"linear\"],\n",
    "                           sfacrecord=[\"1.05\"])\n",
    "\n",
    "        flopy.mf6.ModflowGwfoc(\n",
    "            gwf,\n",
    "            printrecord=[(\"BUDGET\", \"ALL\")],\n",
    "        )\n",
    "        return sim\n",
    "    return None"
   ]
  },
  {
   "cell_type": "markdown",
   "id": "00157f89",
   "metadata": {
    "lines_to_next_cell": 2
   },
   "source": [
    "Function to write MODFLOW 6 model files"
   ]
  },
  {
   "cell_type": "code",
   "execution_count": null,
   "id": "90ef5a82",
   "metadata": {
    "lines_to_next_cell": 2
   },
   "outputs": [],
   "source": [
    "def write_model(sim, silent=True):\n",
    "    if config.writeModel:\n",
    "        sim.write_simulation(silent=silent)"
   ]
  },
  {
   "cell_type": "markdown",
   "id": "ba748dc3",
   "metadata": {
    "lines_to_next_cell": 2
   },
   "source": [
    "Function to run the model.\n",
    "True is returned if the model runs successfully\n"
   ]
  },
  {
   "cell_type": "code",
   "execution_count": null,
   "id": "f91defca",
   "metadata": {
    "lines_to_next_cell": 2
   },
   "outputs": [],
   "source": [
    "@config.timeit\n",
    "def run_model(sim, silent=True):\n",
    "    success = True\n",
    "    if config.runModel:\n",
    "        success, buff = sim.run_simulation(silent=silent)\n",
    "        if not success:\n",
    "            print(buff)\n",
    "\n",
    "    return success"
   ]
  },
  {
   "cell_type": "markdown",
   "id": "a74fcabc",
   "metadata": {
    "lines_to_next_cell": 2
   },
   "source": [
    "Function to plot the model results.\n"
   ]
  },
  {
   "cell_type": "code",
   "execution_count": null,
   "id": "431a2ebe",
   "metadata": {},
   "outputs": [],
   "source": [
    "def plot_results(sim, silent=True):\n",
    "    if config.plotModel:\n",
    "        fs = USGSFigure(figure_type=\"map\", verbose=False)\n",
    "        sim_ws = os.path.join(ws, sim_name)\n",
    "        gwf = sim.get_model(sim_name)\n",
    "\n",
    "        # plot the grid\n",
    "        fig = plt.figure(figsize=figure_size)\n",
    "        gs = mpl.gridspec.GridSpec(10, 1, figure=fig)\n",
    "\n",
    "        idx = 0\n",
    "        ax = fig.add_subplot(gs[0:3])\n",
    "        extent = (0, xmax, 0, 100)\n",
    "        ax.set_ylim(0, 100)\n",
    "        mm = flopy.plot.PlotMapView(model=gwf, ax=ax, extent=extent)\n",
    "        mm.plot_grid(color='0.5', lw=0.5, zorder=100)\n",
    "        ax.set_ylabel('y-coordinate,\\nin meters')\n",
    "        x, y = gwf.modelgrid.xcellcenters[0, locw201], gwf.modelgrid.ycellcenters[0, 0]\n",
    "        ax.plot(x, y, marker='o', ms=4, zorder=100, mew=0.5, mec='black')\n",
    "        ax.annotate('Well S-201', xy=(x + 5, y), xytext=(x + 75, y),\n",
    "                    ha='left', va='center', zorder=100,\n",
    "                    arrowprops=dict(facecolor='black', shrink=0.05, headwidth=5,\n",
    "                                    width=1.5))\n",
    "        fs.heading(ax, letter='A', heading='Map view')\n",
    "        fs.remove_edge_ticks(ax)\n",
    "        ax.axes.get_xaxis().set_ticks([])\n",
    "\n",
    "        idx += 1\n",
    "        ax = fig.add_subplot(gs[3:])\n",
    "        extent = (0, xmax, botm[-1], 0)\n",
    "        mc = flopy.plot.PlotCrossSection(model=gwf, line={'Row': 0},\n",
    "                                         ax=ax, extent=extent)\n",
    "        ax.fill_between([0, delr.sum()], y1=top, y2=botm[0], color='cyan', alpha=0.5)\n",
    "        ax.fill_between([0, delr.sum()], y1=botm[0], y2=botm[1], color='#D2B48C',\n",
    "                        alpha=0.5)\n",
    "        ax.fill_between([0, delr.sum()], y1=botm[1], y2=botm[2], color='#00BFFF',\n",
    "                        alpha=0.5)\n",
    "        mc.plot_grid(color='0.5', lw=0.5, zorder=100)\n",
    "        ax.plot([0, delr.sum()], [-35 / 3.28081, -35 / 3.28081], lw=0.75, color='black',\n",
    "                ls='dashed')\n",
    "        ax.text(delr.sum() / 2, -10, 'static water-level', va='bottom', ha='center',\n",
    "                size=9)\n",
    "        ax.set_ylabel('Elevation, in meters')\n",
    "        ax.set_xlabel('x-coordinate, in meters')\n",
    "        fs.heading(ax, letter='B', heading='Cross-section view')\n",
    "        fs.remove_edge_ticks(ax)\n",
    "\n",
    "        fig.align_ylabels()\n",
    "\n",
    "        plt.tight_layout(pad=1, h_pad=0.001, rect=(.005, -0.02, 0.99, 0.99))\n",
    "\n",
    "        # save figure\n",
    "        if config.plotSave:\n",
    "            fpth = os.path.join(\n",
    "                \"..\", \"figures\", \"{}-grid{}\".format(sim_name, config.figure_ext)\n",
    "            )\n",
    "            fig.savefig(fpth)\n",
    "\n",
    "        # get the simulated heads\n",
    "        sim_obs = gwf.obs.output.obs().data\n",
    "        h0 = sim_obs[\"W3_1_1\"][0]\n",
    "        sim_obs[\"W3_1_1\"] -= h0\n",
    "        sim_date = [dstart + datetime.timedelta(seconds=x) for x in sim_obs[\"totim\"]]\n",
    "\n",
    "        # get the observed head\n",
    "        pth = os.path.join(\"..\", \"data\", sim_name, \"s201_gw_2sec.csv\")\n",
    "        dtype = [(\"date\", object), (\"dz_m\", float)]\n",
    "        obs_head = np.genfromtxt(pth, names=True, delimiter=\",\", dtype=dtype)\n",
    "        obs_date = []\n",
    "        for s in obs_head[\"date\"]:\n",
    "            obs_date.append(datetime.datetime.strptime(s.decode(\"utf-8\"),\n",
    "                                                       '%m-%d-%Y %H:%M:%S.%f'))\n",
    "        t0, t1 = obs_date[0], obs_date[-1]\n",
    "\n",
    "        # plot the results\n",
    "        fs = USGSFigure(figure_type=\"graph\", verbose=False)\n",
    "        fig = plt.figure(figsize=(6.8, 4.))\n",
    "        gs = mpl.gridspec.GridSpec(2, 1, figure=fig)\n",
    "\n",
    "        axe = fig.add_subplot(gs[-1])\n",
    "\n",
    "        idx = 0\n",
    "        ax = fig.add_subplot(gs[idx], sharex=axe)\n",
    "        ax.set_ylim(0, 3.25)\n",
    "        ax.set_yticks(np.arange(0, 3.5, 0.5))\n",
    "        ax.fill_between(date_list, csv_load[\"load\"], y2=0,\n",
    "                        color='cyan', lw=0.5, alpha=0.5)\n",
    "        ax.set_ylabel('Load, in meters\\nof water')\n",
    "        plt.setp(ax.get_xticklabels(), visible=False)\n",
    "        fs.heading(ax, letter='A')\n",
    "        fs.remove_edge_ticks(ax)\n",
    "\n",
    "        ax = axe\n",
    "        ax.plot(sim_date, sim_obs[\"W3_1_1\"],\n",
    "                color='black', lw=0.75, label='Simulated')\n",
    "        ax.plot(obs_date, obs_head[\"dz_m\"],\n",
    "                color='red', lw=0, ms=4, marker='.', label='Offset S-201')\n",
    "        ax.axhline(0, lw=0.5, color='0.5');\n",
    "        ax.set_ylabel('Water level fluctuation,\\nin meters')\n",
    "        fs.heading(ax, letter='B')\n",
    "        leg = fs.graph_legend(ax, loc='upper right', ncol=1)\n",
    "\n",
    "\n",
    "        ax.set_xlabel('Time');\n",
    "        ax.set_ylim(-0.004, 0.008)\n",
    "        axe.set_xlim(t0, t1)\n",
    "        fs.remove_edge_ticks(ax);\n",
    "\n",
    "        fig.align_ylabels()\n",
    "\n",
    "        plt.tight_layout(pad=1, h_pad=0.001, rect=(.005, -0.02, 0.99, 0.99))\n",
    "\n",
    "        # save figure\n",
    "        if config.plotSave:\n",
    "            fpth = os.path.join(\n",
    "                \"..\", \"figures\", \"{}-01{}\".format(sim_name, config.figure_ext)\n",
    "            )\n",
    "            fig.savefig(fpth)"
   ]
  },
  {
   "cell_type": "markdown",
   "id": "d3e01f61",
   "metadata": {},
   "source": [
    "Function that wraps all of the steps for the model\n",
    "\n",
    "1. build_model,\n",
    "2. write_model,\n",
    "3. run_model, and\n",
    "4. plot_results.\n"
   ]
  },
  {
   "cell_type": "code",
   "execution_count": null,
   "id": "5eef8370",
   "metadata": {},
   "outputs": [],
   "source": [
    "def simulation(silent=True):\n",
    "    sim = build_model()\n",
    "\n",
    "    write_model(sim, silent=silent)\n",
    "\n",
    "    success = run_model(sim, silent=silent)\n",
    "\n",
    "    if success:\n",
    "        plot_results(sim, silent=silent)"
   ]
  },
  {
   "cell_type": "code",
   "execution_count": null,
   "id": "ee89247c",
   "metadata": {},
   "outputs": [],
   "source": []
  },
  {
   "cell_type": "markdown",
   "id": "8eae9e13",
   "metadata": {},
   "source": [
    "### Jacob (1939) Elastic Aquifer Loading\n"
   ]
  },
  {
   "cell_type": "code",
   "execution_count": null,
   "id": "4f1c2916",
   "metadata": {},
   "outputs": [],
   "source": [
    "simulation()"
   ]
  }
 ],
 "metadata": {
  "jupytext": {
   "cell_metadata_filter": "-all",
   "main_language": "python",
   "notebook_metadata_filter": "-all"
  }
 },
 "nbformat": 4,
 "nbformat_minor": 5
}
