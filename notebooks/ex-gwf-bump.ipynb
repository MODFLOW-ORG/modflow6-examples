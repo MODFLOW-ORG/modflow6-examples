{
 "cells": [
  {
   "cell_type": "markdown",
   "id": "9509d5d4",
   "metadata": {},
   "source": [
    "## Flow diversion example\n",
    "\n"
   ]
  },
  {
   "cell_type": "markdown",
   "id": "6ba0aa01",
   "metadata": {},
   "source": [
    "### Flow diversion Problem Setup\n",
    "\n",
    "Imports"
   ]
  },
  {
   "cell_type": "code",
   "execution_count": null,
   "id": "5a1ed334",
   "metadata": {},
   "outputs": [],
   "source": [
    "import os\n",
    "import sys"
   ]
  },
  {
   "cell_type": "code",
   "execution_count": null,
   "id": "ef6bbb56",
   "metadata": {},
   "outputs": [],
   "source": [
    "import flopy\n",
    "import matplotlib as mpl\n",
    "import matplotlib.pyplot as plt\n",
    "import numpy as np"
   ]
  },
  {
   "cell_type": "markdown",
   "id": "2e48d2de",
   "metadata": {},
   "source": [
    "Append to system path to include the common subdirectory"
   ]
  },
  {
   "cell_type": "code",
   "execution_count": null,
   "id": "5d19658f",
   "metadata": {},
   "outputs": [],
   "source": [
    "sys.path.append(os.path.join(\"..\", \"common\"))"
   ]
  },
  {
   "cell_type": "markdown",
   "id": "69f3cdc9",
   "metadata": {},
   "source": [
    "import common functionality"
   ]
  },
  {
   "cell_type": "code",
   "execution_count": null,
   "id": "77de87bb",
   "metadata": {},
   "outputs": [],
   "source": [
    "import config\n",
    "from figspecs import USGSFigure"
   ]
  },
  {
   "cell_type": "markdown",
   "id": "4a3439a5",
   "metadata": {},
   "source": [
    "Set figure properties"
   ]
  },
  {
   "cell_type": "code",
   "execution_count": null,
   "id": "fac8bf03",
   "metadata": {},
   "outputs": [],
   "source": [
    "figure_size = (4, 5.33)\n",
    "masked_values = (1e30, -1e30)"
   ]
  },
  {
   "cell_type": "markdown",
   "id": "7f3b8218",
   "metadata": {},
   "source": [
    "Base simulation and model name and workspace"
   ]
  },
  {
   "cell_type": "code",
   "execution_count": null,
   "id": "4993a5f1",
   "metadata": {},
   "outputs": [],
   "source": [
    "ws = config.base_ws"
   ]
  },
  {
   "cell_type": "markdown",
   "id": "34127847",
   "metadata": {},
   "source": [
    "Simulation name"
   ]
  },
  {
   "cell_type": "code",
   "execution_count": null,
   "id": "c12565e9",
   "metadata": {},
   "outputs": [],
   "source": [
    "sim_name = \"ex-gwf-bump\""
   ]
  },
  {
   "cell_type": "markdown",
   "id": "a2563cd4",
   "metadata": {},
   "source": [
    "Model units"
   ]
  },
  {
   "cell_type": "code",
   "execution_count": null,
   "id": "cfc65f93",
   "metadata": {},
   "outputs": [],
   "source": [
    "length_units = \"meters\"\n",
    "time_units = \"days\""
   ]
  },
  {
   "cell_type": "markdown",
   "id": "805939a5",
   "metadata": {},
   "source": [
    "Scenario parameters"
   ]
  },
  {
   "cell_type": "code",
   "execution_count": null,
   "id": "dc5d4c48",
   "metadata": {},
   "outputs": [],
   "source": [
    "parameters = {\n",
    "    \"ex-gwf-bump-p01a\": {\n",
    "        \"newton\": \"newton\",\n",
    "    },\n",
    "    \"ex-gwf-bump-p01b\": {\n",
    "        \"rewet\": True,\n",
    "        \"wetfct\": 1.0,\n",
    "        \"iwetit\": 1,\n",
    "        \"ihdwet\": 0,\n",
    "        \"wetdry\": 2.0,\n",
    "    },\n",
    "    \"ex-gwf-bump-p01c\": {\n",
    "        \"newton\": \"newton\",\n",
    "        \"cylindrical\": True,\n",
    "    },\n",
    "}"
   ]
  },
  {
   "cell_type": "markdown",
   "id": "2debb9e0",
   "metadata": {},
   "source": [
    "Table"
   ]
  },
  {
   "cell_type": "code",
   "execution_count": null,
   "id": "0b1c8509",
   "metadata": {},
   "outputs": [],
   "source": [
    "nper = 1  # Number of periods\n",
    "nlay = 1  # Number of layers\n",
    "nrow = 51  # Number of rows\n",
    "ncol = 51  # Number of columns\n",
    "xlen = 100.0  # Model length in x-direction ($m$)\n",
    "ylen = 100.0  # Model length in y-direction ($m$)\n",
    "top = 25.0  # Top of the model ($m$)\n",
    "k11 = 1.0  # Horizontal hydraulic conductivity ($m/day$)\n",
    "H1 = 7.5  # Constant head in column 1 and starting head ($m$)\n",
    "H2 = 2.5  # Constant head in column 51 ($m$)"
   ]
  },
  {
   "cell_type": "markdown",
   "id": "b3fe0d86",
   "metadata": {},
   "source": [
    "plotting ranges and contour levels"
   ]
  },
  {
   "cell_type": "code",
   "execution_count": null,
   "id": "9707b71c",
   "metadata": {
    "lines_to_next_cell": 2
   },
   "outputs": [],
   "source": [
    "vmin, vmax = H2, H1\n",
    "bmin, bmax = 0, 10\n",
    "vlevels = np.arange(vmin + 0.5, vmax, 1)\n",
    "blevels = np.arange(bmin + 2, bmax, 2)\n",
    "bcolor = \"black\"\n",
    "vcolor = \"black\""
   ]
  },
  {
   "cell_type": "markdown",
   "id": "74281365",
   "metadata": {},
   "source": [
    "Static temporal data used by TDIS file"
   ]
  },
  {
   "cell_type": "code",
   "execution_count": null,
   "id": "c353dc76",
   "metadata": {},
   "outputs": [],
   "source": [
    "tdis_ds = ((1.0, 1, 1.0),)"
   ]
  },
  {
   "cell_type": "markdown",
   "id": "1b954fdb",
   "metadata": {},
   "source": [
    "Calculate delr, delc, extents, and shape3d"
   ]
  },
  {
   "cell_type": "code",
   "execution_count": null,
   "id": "a51781c9",
   "metadata": {},
   "outputs": [],
   "source": [
    "delr = xlen / float(ncol)\n",
    "delc = ylen / float(nrow)\n",
    "extents = (0, xlen, 0, ylen)\n",
    "shape3d = (nlay, nrow, ncol)"
   ]
  },
  {
   "cell_type": "markdown",
   "id": "32c433dd",
   "metadata": {},
   "source": [
    "Load the bottom"
   ]
  },
  {
   "cell_type": "code",
   "execution_count": null,
   "id": "33ed1f58",
   "metadata": {},
   "outputs": [],
   "source": [
    "fpth = os.path.join(\"..\", \"data\", sim_name, \"bottom.txt\")\n",
    "botm = np.loadtxt(fpth).reshape(shape3d)"
   ]
  },
  {
   "cell_type": "markdown",
   "id": "1a13d1a3",
   "metadata": {},
   "source": [
    "create a cylinder"
   ]
  },
  {
   "cell_type": "code",
   "execution_count": null,
   "id": "33dd9760",
   "metadata": {},
   "outputs": [],
   "source": [
    "cylinder = botm.copy()\n",
    "cylinder[cylinder < 7.5] = 0.0\n",
    "cylinder[cylinder >= 7.5] = 20.0"
   ]
  },
  {
   "cell_type": "code",
   "execution_count": null,
   "id": "9158f94e",
   "metadata": {},
   "outputs": [],
   "source": [
    "# Constant head boundary conditions\n",
    "chd_spd = [[0, i, 0, H1] for i in range(nrow)]\n",
    "chd_spd += [[0, i, ncol - 1, H2] for i in range(nrow)]"
   ]
  },
  {
   "cell_type": "markdown",
   "id": "f2850c08",
   "metadata": {},
   "source": [
    "Solver parameters"
   ]
  },
  {
   "cell_type": "code",
   "execution_count": null,
   "id": "f7ab402c",
   "metadata": {},
   "outputs": [],
   "source": [
    "nouter = 500\n",
    "ninner = 500\n",
    "hclose = 1e-9\n",
    "rclose = 1e-6"
   ]
  },
  {
   "cell_type": "markdown",
   "id": "6bc0c25e",
   "metadata": {
    "lines_to_next_cell": 2
   },
   "source": [
    "### Functions to build, write, run, and plot the model\n",
    "\n",
    "MODFLOW 6 flopy simulation object (sim) is returned if building the model"
   ]
  },
  {
   "cell_type": "code",
   "execution_count": null,
   "id": "75385c76",
   "metadata": {
    "lines_to_next_cell": 2
   },
   "outputs": [],
   "source": [
    "def build_model(\n",
    "    name,\n",
    "    newton=False,\n",
    "    rewet=False,\n",
    "    cylindrical=False,\n",
    "    wetfct=None,\n",
    "    iwetit=None,\n",
    "    ihdwet=None,\n",
    "    wetdry=None,\n",
    "):\n",
    "    if config.buildModel:\n",
    "        sim_ws = os.path.join(ws, name)\n",
    "        sim = flopy.mf6.MFSimulation(\n",
    "            sim_name=sim_name, sim_ws=sim_ws, exe_name=\"mf6\"\n",
    "        )\n",
    "        flopy.mf6.ModflowTdis(sim, nper=nper, perioddata=tdis_ds, time_units=time_units)\n",
    "        if newton:\n",
    "            linear_acceleration = \"bicgstab\"\n",
    "            newtonoptions = \"newton under_relaxation\"\n",
    "        else:\n",
    "            linear_acceleration = \"cg\"\n",
    "            newtonoptions = None\n",
    "\n",
    "        flopy.mf6.ModflowIms(\n",
    "            sim,\n",
    "            print_option=\"ALL\",\n",
    "            linear_acceleration=linear_acceleration,\n",
    "            outer_maximum=nouter,\n",
    "            outer_dvclose=hclose,\n",
    "            inner_maximum=ninner,\n",
    "            inner_dvclose=hclose,\n",
    "            rcloserecord=rclose,\n",
    "        )\n",
    "        gwf = flopy.mf6.ModflowGwf(\n",
    "            sim,\n",
    "            modelname=sim_name,\n",
    "            newtonoptions=newtonoptions,\n",
    "            save_flows=True,\n",
    "        )\n",
    "        if cylindrical:\n",
    "            bot = cylinder\n",
    "        else:\n",
    "            bot = botm\n",
    "        flopy.mf6.ModflowGwfdis(\n",
    "            gwf,\n",
    "            length_units=length_units,\n",
    "            nlay=nlay,\n",
    "            nrow=nrow,\n",
    "            ncol=ncol,\n",
    "            delr=delr,\n",
    "            delc=delc,\n",
    "            top=top,\n",
    "            botm=bot,\n",
    "        )\n",
    "        if rewet:\n",
    "            rewet_record = [\n",
    "                \"wetfct\",\n",
    "                wetfct,\n",
    "                \"iwetit\",\n",
    "                iwetit,\n",
    "                \"ihdwet\",\n",
    "                ihdwet,\n",
    "            ]\n",
    "        else:\n",
    "            rewet_record = None\n",
    "        flopy.mf6.ModflowGwfnpf(\n",
    "            gwf,\n",
    "            rewet_record=rewet_record,\n",
    "            icelltype=1,\n",
    "            k=k11,\n",
    "            wetdry=wetdry,\n",
    "            save_specific_discharge=True,\n",
    "        )\n",
    "        flopy.mf6.ModflowGwfic(gwf, strt=H1)\n",
    "        flopy.mf6.ModflowGwfchd(gwf, stress_period_data=chd_spd)\n",
    "\n",
    "        head_filerecord = f\"{sim_name}.hds\"\n",
    "        budget_filerecord = f\"{sim_name}.cbc\"\n",
    "        flopy.mf6.ModflowGwfoc(\n",
    "            gwf,\n",
    "            head_filerecord=head_filerecord,\n",
    "            budget_filerecord=budget_filerecord,\n",
    "            saverecord=[(\"HEAD\", \"ALL\"), (\"BUDGET\", \"ALL\")],\n",
    "        )\n",
    "        return sim\n",
    "    return None"
   ]
  },
  {
   "cell_type": "markdown",
   "id": "0b7abce6",
   "metadata": {
    "lines_to_next_cell": 2
   },
   "source": [
    "Function to write flow diversion model files"
   ]
  },
  {
   "cell_type": "code",
   "execution_count": null,
   "id": "3a43abd6",
   "metadata": {
    "lines_to_next_cell": 2
   },
   "outputs": [],
   "source": [
    "def write_model(sim, silent=True):\n",
    "    if config.writeModel:\n",
    "        sim.write_simulation(silent=silent)"
   ]
  },
  {
   "cell_type": "markdown",
   "id": "9f661aef",
   "metadata": {
    "lines_to_next_cell": 2
   },
   "source": [
    "Function to run the model. True is returned if the model runs successfully.\n"
   ]
  },
  {
   "cell_type": "code",
   "execution_count": null,
   "id": "0e5c817b",
   "metadata": {
    "lines_to_next_cell": 2
   },
   "outputs": [],
   "source": [
    "@config.timeit\n",
    "def run_model(sim, silent=True):\n",
    "    success = True\n",
    "    if config.runModel:\n",
    "        success, buff = sim.run_simulation(silent=silent)\n",
    "        if not success:\n",
    "            print(buff)\n",
    "\n",
    "    return success"
   ]
  },
  {
   "cell_type": "markdown",
   "id": "19a5da66",
   "metadata": {
    "lines_to_next_cell": 2
   },
   "source": [
    "Function to create a figure"
   ]
  },
  {
   "cell_type": "code",
   "execution_count": null,
   "id": "c77f6a38",
   "metadata": {
    "lines_to_next_cell": 2
   },
   "outputs": [],
   "source": [
    "def create_figure():\n",
    "    fig = plt.figure(figsize=figure_size, constrained_layout=False)\n",
    "    gs = mpl.gridspec.GridSpec(ncols=10, nrows=7, figure=fig, wspace=5)\n",
    "    plt.axis(\"off\")\n",
    "\n",
    "    # create axes\n",
    "    ax1 = fig.add_subplot(gs[:5, :])\n",
    "    ax2 = fig.add_subplot(gs[5:, :])\n",
    "\n",
    "    # set limits for map figure\n",
    "    ax1.set_xlim(extents[:2])\n",
    "    ax1.set_ylim(extents[2:])\n",
    "    ax1.set_aspect(\"equal\")\n",
    "\n",
    "    # set limits for legend area\n",
    "    ax2.set_xlim(0, 1)\n",
    "    ax2.set_ylim(0, 1)\n",
    "\n",
    "    # get rid of ticks and spines for legend area\n",
    "    ax2.axis(\"off\")\n",
    "    ax2.set_xticks([])\n",
    "    ax2.set_yticks([])\n",
    "    ax2.spines[\"top\"].set_color(\"none\")\n",
    "    ax2.spines[\"bottom\"].set_color(\"none\")\n",
    "    ax2.spines[\"left\"].set_color(\"none\")\n",
    "    ax2.spines[\"right\"].set_color(\"none\")\n",
    "    ax2.patch.set_alpha(0.0)\n",
    "\n",
    "    axes = [ax1, ax2]\n",
    "\n",
    "    return fig, axes"
   ]
  },
  {
   "cell_type": "markdown",
   "id": "92f8ae41",
   "metadata": {
    "lines_to_next_cell": 2
   },
   "source": [
    "Function to plot the grid"
   ]
  },
  {
   "cell_type": "code",
   "execution_count": null,
   "id": "83999854",
   "metadata": {
    "lines_to_next_cell": 2
   },
   "outputs": [],
   "source": [
    "def plot_grid(gwf, silent=True):\n",
    "    verbose = not silent\n",
    "    fs = USGSFigure(figure_type=\"map\", verbose=verbose)\n",
    "\n",
    "    bot = gwf.dis.botm.array\n",
    "\n",
    "    fig, axes = create_figure()\n",
    "    ax = axes[0]\n",
    "    mm = flopy.plot.PlotMapView(gwf, ax=ax, extent=extents)\n",
    "    bot_coll = mm.plot_array(bot, vmin=bmin, vmax=bmax)\n",
    "    mm.plot_bc(\"CHD\", color=\"cyan\")\n",
    "    cv = mm.contour_array(\n",
    "        bot,\n",
    "        levels=blevels,\n",
    "        linewidths=0.5,\n",
    "        linestyles=\":\",\n",
    "        colors=bcolor,\n",
    "    )\n",
    "    plt.clabel(cv, fmt=\"%1.0f\")\n",
    "    ax.set_xlabel(\"x-coordinate, in meters\")\n",
    "    ax.set_ylabel(\"y-coordinate, in meters\")\n",
    "    fs.remove_edge_ticks(ax)\n",
    "\n",
    "    # legend\n",
    "    ax = axes[1]\n",
    "    ax.plot(\n",
    "        -10000,\n",
    "        -10000,\n",
    "        lw=0,\n",
    "        marker=\"s\",\n",
    "        ms=10,\n",
    "        mfc=\"cyan\",\n",
    "        mec=\"cyan\",\n",
    "        label=\"Constant Head\",\n",
    "    )\n",
    "    ax.plot(\n",
    "        -10000,\n",
    "        -10000,\n",
    "        lw=0.5,\n",
    "        ls=\":\",\n",
    "        color=bcolor,\n",
    "        label=\"Bottom elevation contour, m\",\n",
    "    )\n",
    "    fs.graph_legend(ax, loc=\"center\", ncol=2)\n",
    "\n",
    "    cax = plt.axes([0.275, 0.125, 0.45, 0.025])\n",
    "    cbar = plt.colorbar(\n",
    "        bot_coll,\n",
    "        shrink=0.8,\n",
    "        orientation=\"horizontal\",\n",
    "        cax=cax,\n",
    "    )\n",
    "    cbar.ax.tick_params(size=0)\n",
    "    cbar.ax.set_xlabel(r\"Bottom Elevation, $m$\")\n",
    "\n",
    "    # save figure\n",
    "    if config.plotSave:\n",
    "        fpth = os.path.join(\n",
    "            \"..\",\n",
    "            \"figures\",\n",
    "            f\"{sim_name}-grid{config.figure_ext}\",\n",
    "        )\n",
    "        fig.savefig(fpth)\n",
    "\n",
    "    return"
   ]
  },
  {
   "cell_type": "markdown",
   "id": "ff7d83d4",
   "metadata": {
    "lines_to_next_cell": 2
   },
   "source": [
    "Function to plot the model results."
   ]
  },
  {
   "cell_type": "code",
   "execution_count": null,
   "id": "20c822d2",
   "metadata": {
    "lines_to_next_cell": 2
   },
   "outputs": [],
   "source": [
    "def plot_results(idx, sim, silent=True):\n",
    "    verbose = not silent\n",
    "    if config.plotModel:\n",
    "        fs = USGSFigure(figure_type=\"map\", verbose=verbose)\n",
    "        name = list(parameters.keys())[idx]\n",
    "        sim_ws = os.path.join(ws, name)\n",
    "        gwf = sim.get_model(sim_name)\n",
    "\n",
    "        bot = gwf.dis.botm.array\n",
    "\n",
    "        if idx == 0:\n",
    "            plot_grid(gwf, silent=silent)\n",
    "\n",
    "        # create MODFLOW 6 head object\n",
    "        hobj = gwf.output.head()\n",
    "\n",
    "        # create MODFLOW 6 cell-by-cell budget object\n",
    "        cobj = gwf.output.budget()\n",
    "\n",
    "        # extract heads and specific discharge\n",
    "        head = hobj.get_data(totim=1.0)\n",
    "        imask = (head > -1e30) & (head <= bot)\n",
    "        head[imask] = -1e30  # botm[imask]\n",
    "        qx, qy, qz = flopy.utils.postprocessing.get_specific_discharge(\n",
    "            cobj.get_data(text=\"DATA-SPDIS\", totim=1.0)[0],\n",
    "            gwf,\n",
    "        )\n",
    "\n",
    "        # Create figure for simulation\n",
    "        fig, axes = create_figure()\n",
    "\n",
    "        ax = axes[0]\n",
    "        mm = flopy.plot.PlotMapView(gwf, ax=ax, extent=extents)\n",
    "        if bot.max() < 20:\n",
    "            cv = mm.contour_array(\n",
    "                bot,\n",
    "                levels=blevels,\n",
    "                linewidths=0.5,\n",
    "                linestyles=\":\",\n",
    "                colors=bcolor,\n",
    "                zorder=9,\n",
    "            )\n",
    "            plt.clabel(cv, fmt=\"%1.0f\", zorder=9)\n",
    "        h_coll = mm.plot_array(\n",
    "            head, vmin=vmin, vmax=vmax, masked_values=masked_values, zorder=10\n",
    "        )\n",
    "        cv = mm.contour_array(\n",
    "            head,\n",
    "            masked_values=masked_values,\n",
    "            levels=vlevels,\n",
    "            linewidths=0.5,\n",
    "            linestyles=\"-\",\n",
    "            colors=vcolor,\n",
    "            zorder=10,\n",
    "        )\n",
    "        plt.clabel(cv, fmt=\"%1.0f\", zorder=10)\n",
    "        mm.plot_bc(\"CHD\", color=\"cyan\", zorder=11)\n",
    "        mm.plot_vector(qx, qy, normalize=True, color=\"0.75\", zorder=11)\n",
    "        ax.set_xlabel(\"x-coordinate, in meters\")\n",
    "        ax.set_ylabel(\"y-coordinate, in meters\")\n",
    "        fs.remove_edge_ticks(ax)\n",
    "\n",
    "        # create legend\n",
    "        ax = axes[-1]\n",
    "        ax.plot(\n",
    "            -10000,\n",
    "            -10000,\n",
    "            lw=0,\n",
    "            marker=\"s\",\n",
    "            ms=10,\n",
    "            mfc=\"cyan\",\n",
    "            mec=\"cyan\",\n",
    "            label=\"Constant Head\",\n",
    "        )\n",
    "        ax.plot(\n",
    "            -10000,\n",
    "            -10000,\n",
    "            lw=0,\n",
    "            marker=\"$\\u2192$\",\n",
    "            ms=10,\n",
    "            mfc=\"0.75\",\n",
    "            mec=\"0.75\",\n",
    "            label=\"Normalized specific discharge\",\n",
    "        )\n",
    "        if bot.max() < 20:\n",
    "            ax.plot(\n",
    "                -10000,\n",
    "                -10000,\n",
    "                lw=0.5,\n",
    "                ls=\":\",\n",
    "                color=bcolor,\n",
    "                label=\"Bottom elevation contour, m\",\n",
    "            )\n",
    "        ax.plot(\n",
    "            -10000,\n",
    "            -10000,\n",
    "            lw=0.5,\n",
    "            ls=\"-\",\n",
    "            color=vcolor,\n",
    "            label=\"Head contour, m\",\n",
    "        )\n",
    "        fs.graph_legend(ax, loc=\"center\", ncol=2)\n",
    "\n",
    "        cax = plt.axes([0.275, 0.125, 0.45, 0.025])\n",
    "        cbar = plt.colorbar(h_coll, shrink=0.8, orientation=\"horizontal\", cax=cax)\n",
    "        cbar.ax.tick_params(size=0)\n",
    "        cbar.ax.set_xlabel(r\"Head, $m$\", fontsize=9)\n",
    "\n",
    "        # save figure\n",
    "        if config.plotSave:\n",
    "            fpth = os.path.join(\n",
    "                \"..\",\n",
    "                \"figures\",\n",
    "                f\"{sim_name}-{idx + 1:02d}{config.figure_ext}\",\n",
    "            )\n",
    "            fig.savefig(fpth)"
   ]
  },
  {
   "cell_type": "markdown",
   "id": "e56c6da5",
   "metadata": {
    "lines_to_next_cell": 2
   },
   "source": [
    "Function that wraps all of the steps for the TWRI model\n",
    "\n",
    "1. build_model,\n",
    "2. write_model,\n",
    "3. run_model, and\n",
    "4. plot_results.\n"
   ]
  },
  {
   "cell_type": "code",
   "execution_count": null,
   "id": "b04f5a11",
   "metadata": {},
   "outputs": [],
   "source": [
    "def simulation(idx, silent=True):\n",
    "    key = list(parameters.keys())[idx]\n",
    "    params = parameters[key].copy()\n",
    "\n",
    "    sim = build_model(key, **params)\n",
    "\n",
    "    write_model(sim, silent=silent)\n",
    "\n",
    "    success = run_model(sim, silent=silent)\n",
    "\n",
    "    if success:\n",
    "        plot_results(idx, sim, silent=silent)"
   ]
  },
  {
   "cell_type": "code",
   "execution_count": null,
   "id": "1a5d9a84",
   "metadata": {},
   "outputs": [],
   "source": [
    "# nosetest - exclude block from this nosetest to the next nosetest\n",
    "def test_01():\n",
    "    simulation(0, silent=False)"
   ]
  },
  {
   "cell_type": "code",
   "execution_count": null,
   "id": "88b9fe01",
   "metadata": {},
   "outputs": [],
   "source": [
    "def test_02():\n",
    "    simulation(1, silent=False)"
   ]
  },
  {
   "cell_type": "code",
   "execution_count": null,
   "id": "e21176bb",
   "metadata": {},
   "outputs": [],
   "source": [
    "def test_03():\n",
    "    simulation(2, silent=False)"
   ]
  },
  {
   "cell_type": "markdown",
   "id": "54aa892d",
   "metadata": {},
   "source": [
    "nosetest end"
   ]
  },
  {
   "cell_type": "code",
   "execution_count": null,
   "id": "6d430a26",
   "metadata": {},
   "outputs": [],
   "source": [
    "if __name__ == \"__main__\":\n",
    "    # ### Zaidel Simulation\n",
    "    #\n",
    "    # Simulated heads in the flow diversion model with Newton-Raphson.\n",
    "\n",
    "    simulation(0)\n",
    "\n",
    "    # Simulated heads in the flow diversion model with rewetting.\n",
    "\n",
    "    simulation(1)\n",
    "\n",
    "    # Simulated heads in the flow diversion model with Newton-Raphson and\n",
    "    # cylinderical topography.\n",
    "\n",
    "    simulation(2)"
   ]
  }
 ],
 "metadata": {
  "jupytext": {
   "cell_metadata_filter": "-all",
   "main_language": "python",
   "notebook_metadata_filter": "-all"
  }
 },
 "nbformat": 4,
 "nbformat_minor": 5
}
