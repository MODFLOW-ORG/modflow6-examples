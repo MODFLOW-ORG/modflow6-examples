{
 "cells": [
  {
   "cell_type": "markdown",
   "id": "3e0bf7c1",
   "metadata": {},
   "source": [
    "## Reilly Multi-Aquifer Well Problem,\n",
    "\n",
    "This is the Multi-Aquifer Well from Reilly and others (1989).\n"
   ]
  },
  {
   "cell_type": "markdown",
   "id": "1ee69562",
   "metadata": {},
   "source": [
    "### Reilly MAW Problem Setup\n",
    "\n",
    "Imports"
   ]
  },
  {
   "cell_type": "code",
   "execution_count": null,
   "id": "0bf0a7de",
   "metadata": {},
   "outputs": [],
   "source": [
    "import os\n",
    "import sys\n",
    "import numpy as np\n",
    "import matplotlib.pyplot as plt\n",
    "import flopy"
   ]
  },
  {
   "cell_type": "markdown",
   "id": "cbd9a96b",
   "metadata": {},
   "source": [
    "Append to system path to include the common subdirectory"
   ]
  },
  {
   "cell_type": "code",
   "execution_count": null,
   "id": "708c2783",
   "metadata": {},
   "outputs": [],
   "source": [
    "sys.path.append(os.path.join(\"..\", \"common\"))"
   ]
  },
  {
   "cell_type": "markdown",
   "id": "eed5964d",
   "metadata": {},
   "source": [
    "import common functionality"
   ]
  },
  {
   "cell_type": "code",
   "execution_count": null,
   "id": "58f35367",
   "metadata": {},
   "outputs": [],
   "source": [
    "import config\n",
    "from figspecs import USGSFigure"
   ]
  },
  {
   "cell_type": "markdown",
   "id": "69628ed9",
   "metadata": {},
   "source": [
    "Set figure properties specific to the"
   ]
  },
  {
   "cell_type": "code",
   "execution_count": null,
   "id": "d5024e6c",
   "metadata": {},
   "outputs": [],
   "source": [
    "figure_size = (6.3, 4.3)\n",
    "masked_values = (0, 1e30, -1e30)\n",
    "arrow_props = dict(\n",
    "    facecolor=\"black\", arrowstyle=\"-\", lw=0.25, shrinkA=0.1, shrinkB=0.1\n",
    ")"
   ]
  },
  {
   "cell_type": "markdown",
   "id": "66ecb2fb",
   "metadata": {},
   "source": [
    "Base simulation and model name and workspace"
   ]
  },
  {
   "cell_type": "code",
   "execution_count": null,
   "id": "d355c3cd",
   "metadata": {},
   "outputs": [],
   "source": [
    "ws = config.base_ws"
   ]
  },
  {
   "cell_type": "markdown",
   "id": "1770dc84",
   "metadata": {},
   "source": [
    "Simulation name"
   ]
  },
  {
   "cell_type": "code",
   "execution_count": null,
   "id": "2dc7d311",
   "metadata": {},
   "outputs": [],
   "source": [
    "sim_name = \"ex-gwf-maw-p03\""
   ]
  },
  {
   "cell_type": "markdown",
   "id": "b70fc33e",
   "metadata": {},
   "source": [
    "Model units"
   ]
  },
  {
   "cell_type": "code",
   "execution_count": null,
   "id": "7fb6fc08",
   "metadata": {},
   "outputs": [],
   "source": [
    "length_units = \"feet\"\n",
    "time_units = \"days\""
   ]
  },
  {
   "cell_type": "markdown",
   "id": "0e99b21b",
   "metadata": {},
   "source": [
    "Scenario parameters"
   ]
  },
  {
   "cell_type": "code",
   "execution_count": null,
   "id": "f1217585",
   "metadata": {
    "lines_to_next_cell": 2
   },
   "outputs": [],
   "source": [
    "parameters = {\n",
    "    \"ex-gwf-maw-p03a\": {\n",
    "        \"simulation\": \"regional\",\n",
    "    },\n",
    "    \"ex-gwf-maw-p03b\": {\n",
    "        \"simulation\": \"multi-aquifer well\",\n",
    "    },\n",
    "    \"ex-gwf-maw-p03c\": {\n",
    "        \"simulation\": \"high conductivity\",\n",
    "    },\n",
    "}"
   ]
  },
  {
   "cell_type": "markdown",
   "id": "e282b769",
   "metadata": {
    "lines_to_next_cell": 2
   },
   "source": [
    "function to calculate the well connection conductance"
   ]
  },
  {
   "cell_type": "code",
   "execution_count": null,
   "id": "7bdd9bbd",
   "metadata": {},
   "outputs": [],
   "source": [
    "def calc_cond(area, l1, l2, k1, k2):\n",
    "    c1 = area * k1 / l1\n",
    "    c2 = area * k2 / l2\n",
    "    return c1 * c2 / (c1 + c2)"
   ]
  },
  {
   "cell_type": "markdown",
   "id": "228bbd92",
   "metadata": {},
   "source": [
    "Table Reilly MAW Problem Model Parameters"
   ]
  },
  {
   "cell_type": "code",
   "execution_count": null,
   "id": "7c63599e",
   "metadata": {},
   "outputs": [],
   "source": [
    "nper = 1  # Number of periods\n",
    "nlay_r = 21  # Number of layers (regional)\n",
    "nrow_r = 1  # Number of rows (regional)\n",
    "ncol_r = 200  # Number of columns (regional)\n",
    "nlay = 41  # Number of layers (local)\n",
    "nrow = 16  # Number of rows (local)\n",
    "ncol = 27  # Number of columns (local)\n",
    "delr_r = 50.0  # Regional column width ($ft$)\n",
    "delc_r = 1.0  # Regional row width ($ft$)\n",
    "top = 10.0  # Top of the model ($ft$)\n",
    "aq_bottom = -205.0  # Model bottom elevation ($ft$)\n",
    "strt = 10.0  # Starting head ($ft$)\n",
    "k11 = 250.0  # Horizontal hydraulic conductivity ($ft/d$)\n",
    "k33 = 50.0  # Vertical hydraulic conductivity ($ft/d$)\n",
    "recharge = 0.004566  # Areal recharge ($ft/d$)\n",
    "H1 = 0.0  # Regional downgradient constant head ($ft$)\n",
    "maw_loc = (15, 13)  # Row, column location of well\n",
    "maw_lay = (1, 12)  # Layers with well screen\n",
    "maw_radius = 0.1333  # Well radius ($ft$)\n",
    "maw_bot = -65.0  # Bottom of the well ($ft$)\n",
    "maw_highK = 1e9  # Hydraulic conductivity for well ($ft/d$)"
   ]
  },
  {
   "cell_type": "markdown",
   "id": "3dd710d2",
   "metadata": {},
   "source": [
    "set delr and delc for the local model"
   ]
  },
  {
   "cell_type": "code",
   "execution_count": null,
   "id": "30bda2b2",
   "metadata": {},
   "outputs": [],
   "source": [
    "delr = [\n",
    "    10.0,\n",
    "    10.0,\n",
    "    9.002,\n",
    "    6.0,\n",
    "    4.0,\n",
    "    3.0,\n",
    "    2.0,\n",
    "    1.33,\n",
    "    1.25,\n",
    "    1.00,\n",
    "    1.00,\n",
    "    0.75,\n",
    "    0.50,\n",
    "    0.333,\n",
    "    0.50,\n",
    "    0.75,\n",
    "    1.00,\n",
    "    1.00,\n",
    "    1.25,\n",
    "    1.333,\n",
    "    2.0,\n",
    "    3.0,\n",
    "    4.0,\n",
    "    6.0,\n",
    "    9.002,\n",
    "    10.0,\n",
    "    10.0,\n",
    "]"
   ]
  },
  {
   "cell_type": "code",
   "execution_count": null,
   "id": "071b0e21",
   "metadata": {},
   "outputs": [],
   "source": [
    "delc = [\n",
    "    10,\n",
    "    9.38,\n",
    "    9,\n",
    "    6,\n",
    "    4,\n",
    "    3,\n",
    "    2,\n",
    "    1.33,\n",
    "    1.25,\n",
    "    1,\n",
    "    1,\n",
    "    0.75,\n",
    "    0.5,\n",
    "    0.3735,\n",
    "    0.25,\n",
    "    0.1665,\n",
    "]"
   ]
  },
  {
   "cell_type": "markdown",
   "id": "226e8608",
   "metadata": {},
   "source": [
    "Static temporal data used by TDIS file"
   ]
  },
  {
   "cell_type": "code",
   "execution_count": null,
   "id": "73b3fa1f",
   "metadata": {},
   "outputs": [],
   "source": [
    "tdis_ds = ((1.0, 1, 1.0),)"
   ]
  },
  {
   "cell_type": "markdown",
   "id": "e50cc8a1",
   "metadata": {},
   "source": [
    "Define dimensions"
   ]
  },
  {
   "cell_type": "code",
   "execution_count": null,
   "id": "ba98e29f",
   "metadata": {},
   "outputs": [],
   "source": [
    "extents = (0.0, np.array(delr).sum(), 0.0, np.array(delc).sum())\n",
    "shape2d = (nrow, ncol)\n",
    "shape3d = (nlay, nrow, ncol)"
   ]
  },
  {
   "cell_type": "markdown",
   "id": "8a4aa0e1",
   "metadata": {},
   "source": [
    "### Create Reilly MAW Problem Model Boundary Conditions"
   ]
  },
  {
   "cell_type": "markdown",
   "id": "c3102c0d",
   "metadata": {},
   "source": [
    "MAW Package"
   ]
  },
  {
   "cell_type": "code",
   "execution_count": null,
   "id": "c1dcc572",
   "metadata": {},
   "outputs": [],
   "source": [
    "nconn = 2 + 3 * (maw_lay[1] - maw_lay[0] + 1)\n",
    "maw_packagedata = [[0, maw_radius, maw_bot, strt, \"SPECIFIED\", nconn]]"
   ]
  },
  {
   "cell_type": "markdown",
   "id": "1493154e",
   "metadata": {},
   "source": [
    "Build the MAW connection data"
   ]
  },
  {
   "cell_type": "code",
   "execution_count": null,
   "id": "9056d90c",
   "metadata": {},
   "outputs": [],
   "source": [
    "i, j = maw_loc\n",
    "obs_elev = {}\n",
    "maw_conn = []\n",
    "gwf_obs = []\n",
    "for k in range(maw_lay[0], maw_lay[1] + 1, 1):\n",
    "    gwf_obs.append([\"H0_{}\".format(k), \"HEAD\", (k, i, j)])\n",
    "maw_obs = [\n",
    "    [\"H0\", \"HEAD\", (0,)],\n",
    "]\n",
    "iconn = 0\n",
    "z = -5.0\n",
    "for k in range(maw_lay[0], maw_lay[1] + 1, 1):\n",
    "    # connection to layer below\n",
    "    if k == maw_lay[0]:\n",
    "        area = delc[i] * delr[j]\n",
    "        l1 = 2.5\n",
    "        l2 = 2.5\n",
    "        cond = calc_cond(area, l1, l2, k33, maw_highK)\n",
    "        maw_conn.append([0, iconn, k - 1, i, j, top, maw_bot, cond, -999.0])\n",
    "        tag = \"Q{:02d}\".format(iconn)\n",
    "        obs_elev[tag] = z\n",
    "        maw_obs.append([tag, \"maw\", (0,), (iconn,)])\n",
    "        gwf_obs.append([tag, \"flow-ja-face\", (k, i, j), (k - 1, i, j)])\n",
    "        iconn += 1\n",
    "        z -= 2.5\n",
    "\n",
    "    # connection to left\n",
    "    area = delc[i] * 5.0\n",
    "    l1 = 0.5 * delr[j]\n",
    "    l2 = 0.5 * delr[j - 1]\n",
    "    cond = calc_cond(area, l1, l2, maw_highK, k11)\n",
    "    maw_conn.append([0, iconn, k, i, j - 1, top, maw_bot, cond, -999.0])\n",
    "    tag = \"Q{:02d}\".format(iconn)\n",
    "    obs_elev[tag] = z\n",
    "    maw_obs.append([tag, \"maw\", (0,), (iconn,)])\n",
    "    gwf_obs.append([tag, \"flow-ja-face\", (k, i, j), (k, i, j - 1)])\n",
    "    iconn += 1\n",
    "\n",
    "    # connection to north\n",
    "    area = delr[j] * 5.0\n",
    "    l1 = 0.5 * delc[i]\n",
    "    l2 = 0.5 * delc[i - 1]\n",
    "    cond = calc_cond(area, l1, l2, maw_highK, k11)\n",
    "    maw_conn.append([0, iconn, k, i - 1, j, top, maw_bot, cond, -999.0])\n",
    "    tag = \"Q{:02d}\".format(iconn)\n",
    "    obs_elev[tag] = z\n",
    "    maw_obs.append([tag, \"maw\", (0,), (iconn,)])\n",
    "    gwf_obs.append([tag, \"flow-ja-face\", (k, i, j), (k, i - 1, j)])\n",
    "    iconn += 1\n",
    "\n",
    "    # connection to right\n",
    "    area = delc[i] * 5.0\n",
    "    l1 = 0.5 * delr[j]\n",
    "    l2 = 0.5 * delr[j + 1]\n",
    "    cond = calc_cond(area, l1, l2, maw_highK, k11)\n",
    "    maw_conn.append([0, iconn, k, i, j + 1, top, maw_bot, cond, -999.0])\n",
    "    tag = \"Q{:02d}\".format(iconn)\n",
    "    obs_elev[tag] = z\n",
    "    maw_obs.append([tag, \"maw\", (0,), (iconn,)])\n",
    "    gwf_obs.append([tag, \"flow-ja-face\", (k, i, j), (k, i, j + 1)])\n",
    "    iconn += 1\n",
    "    z -= 5.0\n",
    "\n",
    "    # connection to layer below\n",
    "    if k == maw_lay[1]:\n",
    "        z += 2.5\n",
    "        area = delc[i] * delr[j]\n",
    "        l1 = 2.5\n",
    "        l2 = 2.5\n",
    "        cond = calc_cond(area, l1, l2, maw_highK, k33)\n",
    "        maw_conn.append([0, iconn, k + 1, i, j, top, maw_bot, cond, -999.0])\n",
    "        tag = \"Q{:02d}\".format(iconn)\n",
    "        obs_elev[tag] = z\n",
    "        maw_obs.append([tag, \"maw\", (0,), (iconn,)])\n",
    "        gwf_obs.append([tag, \"flow-ja-face\", (k, i, j), (k + 1, i, j)])\n",
    "        iconn += 1"
   ]
  },
  {
   "cell_type": "markdown",
   "id": "bffa5979",
   "metadata": {},
   "source": [
    "Solver parameters"
   ]
  },
  {
   "cell_type": "code",
   "execution_count": null,
   "id": "96584a4e",
   "metadata": {
    "lines_to_next_cell": 2
   },
   "outputs": [],
   "source": [
    "nouter = 500\n",
    "ninner = 100\n",
    "hclose = 1e-9\n",
    "rclose = 1e-4"
   ]
  },
  {
   "cell_type": "markdown",
   "id": "66625376",
   "metadata": {
    "lines_to_next_cell": 2
   },
   "source": [
    "### Functions to build, write, run, and plot the MODFLOW 6 Reilly MAW Problem model\n",
    "\n",
    "MODFLOW 6 flopy simulation object (sim) is returned if building the model"
   ]
  },
  {
   "cell_type": "code",
   "execution_count": null,
   "id": "50d177b4",
   "metadata": {},
   "outputs": [],
   "source": [
    "def build_model(name, simulation=\"regional\"):\n",
    "    if config.buildModel:\n",
    "        if simulation == \"regional\":\n",
    "            sim = build_regional(name)\n",
    "        else:\n",
    "            sim = build_local(name, simulation)\n",
    "\n",
    "    return sim"
   ]
  },
  {
   "cell_type": "code",
   "execution_count": null,
   "id": "71a4d2b3",
   "metadata": {},
   "outputs": [],
   "source": [
    "def build_regional(name):\n",
    "    sim_ws = os.path.join(ws, name)\n",
    "    sim = flopy.mf6.MFSimulation(\n",
    "        sim_name=sim_name, sim_ws=sim_ws, exe_name=config.mf6_exe\n",
    "    )\n",
    "    flopy.mf6.ModflowTdis(\n",
    "        sim, nper=nper, perioddata=tdis_ds, time_units=time_units\n",
    "    )\n",
    "    flopy.mf6.ModflowIms(\n",
    "        sim,\n",
    "        print_option=\"summary\",\n",
    "        outer_maximum=nouter,\n",
    "        outer_dvclose=hclose,\n",
    "        inner_maximum=ninner,\n",
    "        inner_dvclose=hclose,\n",
    "        rcloserecord=\"{} strict\".format(rclose),\n",
    "    )\n",
    "    botm = np.arange(-5, aq_bottom - 10.0, -10.0)\n",
    "    icelltype = [1] + [0 for k in range(1, nlay_r)]\n",
    "    gwf = flopy.mf6.ModflowGwf(sim, modelname=sim_name)\n",
    "    flopy.mf6.ModflowGwfdis(\n",
    "        gwf,\n",
    "        length_units=length_units,\n",
    "        nlay=nlay_r,\n",
    "        nrow=nrow_r,\n",
    "        ncol=ncol_r,\n",
    "        delr=delr_r,\n",
    "        delc=delc_r,\n",
    "        top=top,\n",
    "        botm=botm,\n",
    "    )\n",
    "    flopy.mf6.ModflowGwfnpf(\n",
    "        gwf,\n",
    "        icelltype=icelltype,\n",
    "        k=k11,\n",
    "        k33=k33,\n",
    "    )\n",
    "    flopy.mf6.ModflowGwfic(gwf, strt=strt)\n",
    "    flopy.mf6.ModflowGwfchd(gwf, stress_period_data=[[0, 0, ncol_r - 1, 0.0]])\n",
    "    flopy.mf6.ModflowGwfrcha(gwf, recharge=recharge)\n",
    "\n",
    "    head_filerecord = \"{}.hds\".format(sim_name)\n",
    "    flopy.mf6.ModflowGwfoc(\n",
    "        gwf,\n",
    "        head_filerecord=head_filerecord,\n",
    "        saverecord=[(\"HEAD\", \"LAST\")],\n",
    "        printrecord=[(\"BUDGET\", \"LAST\")],\n",
    "    )\n",
    "\n",
    "    return sim"
   ]
  },
  {
   "cell_type": "code",
   "execution_count": null,
   "id": "3d7a50cd",
   "metadata": {
    "lines_to_next_cell": 2
   },
   "outputs": [],
   "source": [
    "def build_local(name, simulation):\n",
    "    # get regional heads for constant head boundaries\n",
    "    pth = list(parameters.keys())[0]\n",
    "    fpth = os.path.join(ws, pth, \"{}.hds\".format(sim_name))\n",
    "    try:\n",
    "        h = flopy.utils.HeadFile(fpth).get_data()\n",
    "    except:\n",
    "        h = np.ones((nlay_r, nrow_r, ncol_r), dtype=float) * strt\n",
    "\n",
    "    # calculate factor for constant heads\n",
    "    f1 = 0.5 * (delr_r + delr[0]) / delc_r\n",
    "    f2 = 0.5 * (delr_r + delr[-1]) / delc_r\n",
    "\n",
    "    # build chd for model\n",
    "    regional_range = [k for k in range(nlay_r)]\n",
    "    local_range = [[0]] + [[k, k + 1] for k in range(1, nlay, 2)]\n",
    "    chd_spd = []\n",
    "    for kr, kl in zip(regional_range, local_range):\n",
    "        h1 = h[kr, 0, 0]\n",
    "        h2 = h[kr, 0, 1]\n",
    "        hi1 = h1 + f1 * (h2 - h1)\n",
    "        h1 = h[kr, 0, 2]\n",
    "        h2 = h[kr, 0, 3]\n",
    "        hi2 = h1 + f2 * (h2 - h1)\n",
    "        for k in kl:\n",
    "            for il in range(nrow):\n",
    "                chd_spd.append([k, il, 0, hi1])\n",
    "                chd_spd.append([k, il, ncol - 1, hi2])\n",
    "\n",
    "    sim_ws = os.path.join(ws, name)\n",
    "    sim = flopy.mf6.MFSimulation(\n",
    "        sim_name=sim_name, sim_ws=sim_ws, exe_name=config.mf6_exe\n",
    "    )\n",
    "    flopy.mf6.ModflowTdis(\n",
    "        sim, nper=nper, perioddata=tdis_ds, time_units=time_units\n",
    "    )\n",
    "    flopy.mf6.ModflowIms(\n",
    "        sim,\n",
    "        print_option=\"summary\",\n",
    "        outer_maximum=nouter,\n",
    "        outer_dvclose=hclose,\n",
    "        inner_maximum=ninner,\n",
    "        inner_dvclose=hclose,\n",
    "        rcloserecord=\"{} strict\".format(rclose),\n",
    "    )\n",
    "    gwf = flopy.mf6.ModflowGwf(sim, modelname=sim_name, save_flows=True)\n",
    "\n",
    "    botm = np.arange(-5, aq_bottom - 5.0, -5.0)\n",
    "    icelltype = [1] + [0 for k in range(1, nlay)]\n",
    "    i, j = maw_loc\n",
    "    if simulation == \"multi-aquifer well\":\n",
    "        k11_sim = k11\n",
    "        k33_sim = k33\n",
    "        idomain = np.ones(shape3d, dtype=float)\n",
    "        for k in range(maw_lay[0], maw_lay[1] + 1, 1):\n",
    "            idomain[k, i, j] = 0\n",
    "    else:\n",
    "        k11_sim = np.ones(shape3d, dtype=float) * k11\n",
    "        k33_sim = np.ones(shape3d, dtype=float) * k33\n",
    "        idomain = 1\n",
    "        for k in range(maw_lay[0], maw_lay[1] + 1, 1):\n",
    "            k11_sim[k, i, j] = maw_highK\n",
    "            k33_sim[k, i, j] = maw_highK\n",
    "\n",
    "    flopy.mf6.ModflowGwfdis(\n",
    "        gwf,\n",
    "        length_units=length_units,\n",
    "        nlay=nlay,\n",
    "        nrow=nrow,\n",
    "        ncol=ncol,\n",
    "        delr=delr,\n",
    "        delc=delc,\n",
    "        top=top,\n",
    "        botm=botm,\n",
    "        idomain=idomain,\n",
    "    )\n",
    "    flopy.mf6.ModflowGwfnpf(\n",
    "        gwf,\n",
    "        icelltype=icelltype,\n",
    "        k=k11_sim,\n",
    "        k33=k33_sim,\n",
    "        save_specific_discharge=True,\n",
    "    )\n",
    "    flopy.mf6.ModflowGwfic(gwf, strt=strt)\n",
    "\n",
    "    flopy.mf6.ModflowGwfchd(gwf, stress_period_data=chd_spd)\n",
    "    flopy.mf6.ModflowGwfrcha(gwf, recharge=recharge)\n",
    "\n",
    "    if simulation == \"multi-aquifer well\":\n",
    "        maw = flopy.mf6.ModflowGwfmaw(\n",
    "            gwf,\n",
    "            no_well_storage=True,\n",
    "            nmawwells=1,\n",
    "            packagedata=maw_packagedata,\n",
    "            connectiondata=maw_conn,\n",
    "        )\n",
    "        obs_file = \"{}.maw.obs\".format(sim_name)\n",
    "        csv_file = obs_file + \".csv\"\n",
    "        obs_dict = {csv_file: maw_obs}\n",
    "        maw.obs.initialize(\n",
    "            filename=obs_file, digits=10, print_input=True, continuous=obs_dict\n",
    "        )\n",
    "    else:\n",
    "        obs_file = \"{}.gwf.obs\".format(sim_name)\n",
    "        csv_file = obs_file + \".csv\"\n",
    "        obsdict = {csv_file: gwf_obs}\n",
    "        flopy.mf6.ModflowUtlobs(\n",
    "            gwf, filename=obs_file, print_input=False, continuous=obsdict\n",
    "        )\n",
    "\n",
    "    head_filerecord = \"{}.hds\".format(sim_name)\n",
    "    budget_filerecord = \"{}.cbc\".format(sim_name)\n",
    "    flopy.mf6.ModflowGwfoc(\n",
    "        gwf,\n",
    "        head_filerecord=head_filerecord,\n",
    "        budget_filerecord=budget_filerecord,\n",
    "        saverecord=[(\"HEAD\", \"LAST\"), (\"BUDGET\", \"LAST\")],\n",
    "        printrecord=[(\"BUDGET\", \"LAST\")],\n",
    "    )\n",
    "    return sim"
   ]
  },
  {
   "cell_type": "markdown",
   "id": "4548bcab",
   "metadata": {
    "lines_to_next_cell": 2
   },
   "source": [
    "Function to write MODFLOW 6 Reilly MAW Problem model files"
   ]
  },
  {
   "cell_type": "code",
   "execution_count": null,
   "id": "a688d580",
   "metadata": {
    "lines_to_next_cell": 2
   },
   "outputs": [],
   "source": [
    "def write_model(sim, silent=True):\n",
    "    if config.writeModel:\n",
    "        sim.write_simulation(silent=silent)"
   ]
  },
  {
   "cell_type": "markdown",
   "id": "0ea8a3f1",
   "metadata": {
    "lines_to_next_cell": 2
   },
   "source": [
    "Function to run the Reilly MAW Problem model.\n",
    "True is returned if the model runs successfully\n"
   ]
  },
  {
   "cell_type": "code",
   "execution_count": null,
   "id": "04998d45",
   "metadata": {
    "lines_to_next_cell": 2
   },
   "outputs": [],
   "source": [
    "@config.timeit\n",
    "def run_model(sim, silent=True):\n",
    "    success = True\n",
    "    if config.runModel:\n",
    "        success, buff = sim.run_simulation(silent=silent)\n",
    "        if not success:\n",
    "            print(buff)\n",
    "    return success"
   ]
  },
  {
   "cell_type": "markdown",
   "id": "026efba5",
   "metadata": {
    "lines_to_next_cell": 2
   },
   "source": [
    "Function to plot the lake results"
   ]
  },
  {
   "cell_type": "code",
   "execution_count": null,
   "id": "94fa5242",
   "metadata": {
    "lines_to_next_cell": 2
   },
   "outputs": [],
   "source": [
    "def plot_maw_results(silent=True):\n",
    "    fs = USGSFigure(figure_type=\"graph\", verbose=False)\n",
    "\n",
    "    # load the observations\n",
    "    name = list(parameters.keys())[1]\n",
    "    fpth = os.path.join(ws, name, \"{}.maw.obs.csv\".format(sim_name))\n",
    "    maw = flopy.utils.Mf6Obs(fpth).data\n",
    "    name = list(parameters.keys())[2]\n",
    "    fpth = os.path.join(ws, name, \"{}.gwf.obs.csv\".format(sim_name))\n",
    "    gwf = flopy.utils.Mf6Obs(fpth).data\n",
    "\n",
    "    # process heads\n",
    "    hgwf = 0.0\n",
    "    ihds = 0.0\n",
    "    for name in gwf.dtype.names:\n",
    "        if name.startswith(\"H0_\"):\n",
    "            hgwf += gwf[name]\n",
    "            ihds += 1.0\n",
    "    hgwf /= ihds\n",
    "\n",
    "    if silent:\n",
    "        print(\"MAW head: {}  Average head: {}\".format(maw[\"H0\"], hgwf))\n",
    "\n",
    "    zelev = sorted(list(set(list(obs_elev.values()))), reverse=True)\n",
    "\n",
    "    results = {\n",
    "        \"maw\": {},\n",
    "        \"gwf\": {},\n",
    "    }\n",
    "    for z in zelev:\n",
    "        results[\"maw\"][z] = 0.0\n",
    "        results[\"gwf\"][z] = 0.0\n",
    "\n",
    "    for name in maw.dtype.names:\n",
    "        if name.startswith(\"Q\"):\n",
    "            z = obs_elev[name]\n",
    "            results[\"maw\"][z] += 2.0 * maw[name]\n",
    "\n",
    "    for name in gwf.dtype.names:\n",
    "        if name.startswith(\"Q\"):\n",
    "            z = obs_elev[name]\n",
    "            results[\"gwf\"][z] += 2.0 * gwf[name]\n",
    "\n",
    "    q0 = np.array(list(results[\"maw\"].values()))\n",
    "    q1 = np.array(list(results[\"gwf\"].values()))\n",
    "    mean_error = np.mean(q0 - q1)\n",
    "    if silent:\n",
    "        print(\"total well inflow:  {}\".format(q0[q0 >= 0].sum()))\n",
    "        print(\"total well outflow: {}\".format(q0[q0 < 0].sum()))\n",
    "        print(\"total cell inflow:  {}\".format(q1[q1 >= 0].sum()))\n",
    "        print(\"total cell outflow: {}\".format(q1[q1 < 0].sum()))\n",
    "\n",
    "    # create the figure\n",
    "    fig, ax = plt.subplots(\n",
    "        ncols=1,\n",
    "        nrows=1,\n",
    "        sharex=True,\n",
    "        figsize=(4, 4),\n",
    "        constrained_layout=True,\n",
    "    )\n",
    "\n",
    "    ax.set_xlim(-3.5, 3.5)\n",
    "    ax.set_ylim(-67.5, -2.5)\n",
    "    ax.axvline(0, lw=0.5, ls=\":\", color=\"0.5\")\n",
    "    for z in np.arange(-5, -70, -5):\n",
    "        ax.axhline(z, lw=0.5, color=\"0.5\")\n",
    "    ax.plot(\n",
    "        results[\"maw\"].values(),\n",
    "        zelev,\n",
    "        lw=0.75,\n",
    "        ls=\"-\",\n",
    "        color=\"blue\",\n",
    "        label=\"Multi-aquifer well\",\n",
    "    )\n",
    "    ax.plot(\n",
    "        results[\"gwf\"].values(),\n",
    "        zelev,\n",
    "        marker=\"o\",\n",
    "        ms=4,\n",
    "        mfc=\"red\",\n",
    "        mec=\"black\",\n",
    "        markeredgewidth=0.5,\n",
    "        lw=0.0,\n",
    "        ls=\"-\",\n",
    "        color=\"red\",\n",
    "        label=\"High K well\",\n",
    "    )\n",
    "    ax.plot(\n",
    "        -1000,\n",
    "        -1000,\n",
    "        lw=0.5,\n",
    "        ls=\"-\",\n",
    "        color=\"0.5\",\n",
    "        label=\"Grid cell\",\n",
    "    )\n",
    "\n",
    "    fs.graph_legend(ax, loc=\"upper left\", ncol=1, frameon=True)\n",
    "    fs.add_text(\n",
    "        ax,\n",
    "        \"Mean Error {:.2e} cubic feet per day\".format(mean_error),\n",
    "        bold=False,\n",
    "        italic=False,\n",
    "        x=1.0,\n",
    "        y=1.01,\n",
    "        va=\"bottom\",\n",
    "        ha=\"right\",\n",
    "        fontsize=7,\n",
    "    )\n",
    "\n",
    "    ax.set_xlabel(\"Discharge rate, in cubic feet per day\")\n",
    "    ax.set_ylabel(\"Elevation, in feet\")\n",
    "\n",
    "    # save figure\n",
    "    if config.plotSave:\n",
    "        fpth = os.path.join(\n",
    "            \"..\",\n",
    "            \"figures\",\n",
    "            \"{}-01{}\".format(sim_name, config.figure_ext),\n",
    "        )\n",
    "        fig.savefig(fpth)\n",
    "\n",
    "    return"
   ]
  },
  {
   "cell_type": "markdown",
   "id": "932dd7a1",
   "metadata": {
    "lines_to_next_cell": 2
   },
   "source": [
    "Plot the regional grid"
   ]
  },
  {
   "cell_type": "code",
   "execution_count": null,
   "id": "0f6eeebb",
   "metadata": {
    "lines_to_next_cell": 2
   },
   "outputs": [],
   "source": [
    "def plot_regional_grid(silent=True):\n",
    "    if silent:\n",
    "        verbosity = 0\n",
    "    else:\n",
    "        verbosity = 1\n",
    "    name = list(parameters.keys())[0]\n",
    "    sim_ws = os.path.join(ws, name)\n",
    "    sim = flopy.mf6.MFSimulation.load(\n",
    "        sim_name=sim_name, sim_ws=sim_ws, verbosity_level=verbosity\n",
    "    )\n",
    "    gwf = sim.get_model(sim_name)\n",
    "\n",
    "    # get regional heads for constant head boundaries\n",
    "    h = gwf.output.head().get_data()\n",
    "\n",
    "    fs = USGSFigure(figure_type=\"map\", verbose=False)\n",
    "    fig = plt.figure(\n",
    "        figsize=(6.3, 3.5),\n",
    "    )\n",
    "    plt.axis(\"off\")\n",
    "\n",
    "    nrows, ncols = 10, 1\n",
    "    axes = [fig.add_subplot(nrows, ncols, (1, 6))]\n",
    "\n",
    "    # legend axis\n",
    "    axes.append(fig.add_subplot(nrows, ncols, (7, 10)))\n",
    "\n",
    "    # set limits for legend area\n",
    "    ax = axes[-1]\n",
    "    ax.set_xlim(0, 1)\n",
    "    ax.set_ylim(0, 1)\n",
    "\n",
    "    # get rid of ticks and spines for legend area\n",
    "    ax.axis(\"off\")\n",
    "    ax.set_xticks([])\n",
    "    ax.set_yticks([])\n",
    "    ax.spines[\"top\"].set_color(\"none\")\n",
    "    ax.spines[\"bottom\"].set_color(\"none\")\n",
    "    ax.spines[\"left\"].set_color(\"none\")\n",
    "    ax.spines[\"right\"].set_color(\"none\")\n",
    "    ax.patch.set_alpha(0.0)\n",
    "\n",
    "    ax = axes[0]\n",
    "    mm = flopy.plot.PlotCrossSection(gwf, ax=ax, line={\"row\": 0})\n",
    "    ca = mm.plot_array(h, head=h)\n",
    "    mm.plot_bc(\"CHD\", color=\"cyan\", head=h)\n",
    "    mm.plot_grid(lw=0.5, color=\"0.5\")\n",
    "    cv = mm.contour_array(\n",
    "        h,\n",
    "        levels=np.arange(0, 6, 0.5),\n",
    "        linewidths=0.5,\n",
    "        linestyles=\"-\",\n",
    "        colors=\"black\",\n",
    "        masked_values=masked_values,\n",
    "    )\n",
    "    plt.clabel(cv, fmt=\"%1.1f\")\n",
    "    ax.plot(\n",
    "        [50, 150, 150, 50, 50],\n",
    "        [10, 10, aq_bottom, aq_bottom, 10],\n",
    "        lw=1.25,\n",
    "        color=\"#39FF14\",\n",
    "    )\n",
    "    fs.remove_edge_ticks(ax)\n",
    "    ax.set_xlabel(\"x-coordinate, in feet\")\n",
    "    ax.set_ylabel(\"Elevation, in feet\")\n",
    "\n",
    "    # legend\n",
    "    ax = axes[-1]\n",
    "    ax.plot(\n",
    "        -10000,\n",
    "        -10000,\n",
    "        lw=0,\n",
    "        marker=\"s\",\n",
    "        ms=10,\n",
    "        mfc=\"none\",\n",
    "        mec=\"0.5\",\n",
    "        markeredgewidth=0.5,\n",
    "        label=\"Grid cell\",\n",
    "    )\n",
    "    ax.plot(\n",
    "        -10000,\n",
    "        -10000,\n",
    "        lw=0,\n",
    "        marker=\"s\",\n",
    "        ms=10,\n",
    "        mfc=\"cyan\",\n",
    "        mec=\"0.5\",\n",
    "        markeredgewidth=0.5,\n",
    "        label=\"Constant head\",\n",
    "    )\n",
    "    ax.plot(\n",
    "        -10000,\n",
    "        -10000,\n",
    "        lw=0,\n",
    "        marker=\"s\",\n",
    "        ms=10,\n",
    "        mfc=\"none\",\n",
    "        mec=\"#39FF14\",\n",
    "        markeredgewidth=1.25,\n",
    "        label=\"Local model domain\",\n",
    "    )\n",
    "    ax.plot(\n",
    "        -10000,\n",
    "        -10000,\n",
    "        lw=0.5,\n",
    "        color=\"black\",\n",
    "        label=\"Head contour, $ft$\",\n",
    "    )\n",
    "    cbar = plt.colorbar(ca, shrink=0.5, orientation=\"horizontal\", ax=ax)\n",
    "    cbar.ax.tick_params(size=0)\n",
    "    cbar.ax.set_xlabel(r\"Head, $ft$\", fontsize=9)\n",
    "    fs.graph_legend(ax, loc=\"lower center\", ncol=4)\n",
    "\n",
    "    # save figure\n",
    "    if config.plotSave:\n",
    "        fpth = os.path.join(\n",
    "            \"..\",\n",
    "            \"figures\",\n",
    "            \"{}-regional-grid{}\".format(sim_name, config.figure_ext),\n",
    "        )\n",
    "        fig.savefig(fpth)"
   ]
  },
  {
   "cell_type": "markdown",
   "id": "bae914ca",
   "metadata": {
    "lines_to_next_cell": 2
   },
   "source": [
    "Plot the local grid"
   ]
  },
  {
   "cell_type": "code",
   "execution_count": null,
   "id": "61a3abf0",
   "metadata": {
    "lines_to_next_cell": 2
   },
   "outputs": [],
   "source": [
    "def plot_local_grid(silent=True):\n",
    "    if silent:\n",
    "        verbosity = 0\n",
    "    else:\n",
    "        verbosity = 1\n",
    "    name = list(parameters.keys())[1]\n",
    "    sim_ws = os.path.join(ws, name)\n",
    "    sim = flopy.mf6.MFSimulation.load(\n",
    "        sim_name=sim_name, sim_ws=sim_ws, verbosity_level=verbosity\n",
    "    )\n",
    "    gwf = sim.get_model(sim_name)\n",
    "\n",
    "    i, j = maw_loc\n",
    "    dx, dy = delr[j], delc[i]\n",
    "    px = (\n",
    "        50.0 - 0.5 * dx,\n",
    "        50.0 + 0.5 * dx,\n",
    "    )\n",
    "    py = (\n",
    "        0.0 + dy,\n",
    "        0.0 + dy,\n",
    "    )\n",
    "\n",
    "    # get regional heads for constant head boundaries\n",
    "    h = gwf.output.head().get_data()\n",
    "\n",
    "    fs = USGSFigure(figure_type=\"map\", verbose=False)\n",
    "    fig = plt.figure(\n",
    "        figsize=(6.3, 4.1),\n",
    "        tight_layout=True,\n",
    "    )\n",
    "    plt.axis(\"off\")\n",
    "\n",
    "    nrows, ncols = 10, 1\n",
    "    axes = [fig.add_subplot(nrows, ncols, (1, 8))]\n",
    "\n",
    "    for idx, ax in enumerate(axes):\n",
    "        ax.set_xlim(extents[:2])\n",
    "        ax.set_ylim(extents[2:])\n",
    "        ax.set_aspect(\"equal\")\n",
    "\n",
    "    # legend axis\n",
    "    axes.append(fig.add_subplot(nrows, ncols, (8, 10)))\n",
    "\n",
    "    # set limits for legend area\n",
    "    ax = axes[-1]\n",
    "    ax.set_xlim(0, 1)\n",
    "    ax.set_ylim(0, 1)\n",
    "\n",
    "    # get rid of ticks and spines for legend area\n",
    "    ax.axis(\"off\")\n",
    "    ax.set_xticks([])\n",
    "    ax.set_yticks([])\n",
    "    ax.spines[\"top\"].set_color(\"none\")\n",
    "    ax.spines[\"bottom\"].set_color(\"none\")\n",
    "    ax.spines[\"left\"].set_color(\"none\")\n",
    "    ax.spines[\"right\"].set_color(\"none\")\n",
    "    ax.patch.set_alpha(0.0)\n",
    "\n",
    "    ax = axes[0]\n",
    "    mm = flopy.plot.PlotMapView(gwf, ax=ax, extent=extents, layer=0)\n",
    "    mm.plot_bc(\"CHD\", color=\"cyan\", plotAll=True)\n",
    "    mm.plot_grid(lw=0.25, color=\"0.5\")\n",
    "    cv = mm.contour_array(\n",
    "        h,\n",
    "        levels=np.arange(4.0, 5.0, 0.005),\n",
    "        linewidths=0.5,\n",
    "        linestyles=\"-\",\n",
    "        colors=\"black\",\n",
    "        masked_values=masked_values,\n",
    "    )\n",
    "    plt.clabel(cv, fmt=\"%1.3f\")\n",
    "    ax.fill_between(\n",
    "        px, py, y2=0, ec=\"none\", fc=\"red\", lw=0, zorder=200, step=\"post\"\n",
    "    )\n",
    "    fs.add_annotation(\n",
    "        ax,\n",
    "        text=\"Well location\",\n",
    "        xy=(50.0, 0.0),\n",
    "        xytext=(55, 5),\n",
    "        bold=False,\n",
    "        italic=False,\n",
    "        ha=\"left\",\n",
    "        fontsize=7,\n",
    "        arrowprops=arrow_props,\n",
    "    )\n",
    "    fs.remove_edge_ticks(ax)\n",
    "    ax.set_xticks([0, 25, 50, 75, 100])\n",
    "    ax.set_xlabel(\"x-coordinate, in feet\")\n",
    "    ax.set_yticks([0, 25, 50])\n",
    "    ax.set_ylabel(\"y-coordinate, in feet\")\n",
    "\n",
    "    # legend\n",
    "    ax = axes[-1]\n",
    "    ax.plot(\n",
    "        -10000,\n",
    "        -10000,\n",
    "        lw=0,\n",
    "        marker=\"s\",\n",
    "        ms=10,\n",
    "        mfc=\"cyan\",\n",
    "        mec=\"0.5\",\n",
    "        markeredgewidth=0.25,\n",
    "        label=\"Constant head\",\n",
    "    )\n",
    "    ax.plot(\n",
    "        -10000,\n",
    "        -10000,\n",
    "        lw=0,\n",
    "        marker=\"s\",\n",
    "        ms=10,\n",
    "        mfc=\"red\",\n",
    "        mec=\"0.5\",\n",
    "        markeredgewidth=0.25,\n",
    "        label=\"Multi-aquifer well\",\n",
    "    )\n",
    "    ax.plot(\n",
    "        -10000,\n",
    "        -10000,\n",
    "        lw=0.5,\n",
    "        color=\"black\",\n",
    "        label=\"Water-table contour, $ft$\",\n",
    "    )\n",
    "    fs.graph_legend(ax, loc=\"lower center\", ncol=3)\n",
    "\n",
    "    # save figure\n",
    "    if config.plotSave:\n",
    "        fpth = os.path.join(\n",
    "            \"..\",\n",
    "            \"figures\",\n",
    "            \"{}-local-grid{}\".format(sim_name, config.figure_ext),\n",
    "        )\n",
    "        fig.savefig(fpth)"
   ]
  },
  {
   "cell_type": "markdown",
   "id": "847174cd",
   "metadata": {
    "lines_to_next_cell": 2
   },
   "source": [
    "Function to plot the Reilly MAW Problem model results."
   ]
  },
  {
   "cell_type": "code",
   "execution_count": null,
   "id": "1234cff2",
   "metadata": {
    "lines_to_next_cell": 2
   },
   "outputs": [],
   "source": [
    "def plot_results(silent=True):\n",
    "    if config.plotModel:\n",
    "        plot_regional_grid(silent=silent)\n",
    "        plot_local_grid(silent=silent)\n",
    "        plot_maw_results(silent=silent)\n",
    "        pass"
   ]
  },
  {
   "cell_type": "markdown",
   "id": "919ad2bb",
   "metadata": {
    "lines_to_next_cell": 2
   },
   "source": [
    "Function that wraps all of the steps for the Reilly MAW Problem model\n",
    "\n",
    "1. build_model,\n",
    "2. write_model,\n",
    "3. run_model, and\n",
    "4. plot_results.\n"
   ]
  },
  {
   "cell_type": "code",
   "execution_count": null,
   "id": "84144636",
   "metadata": {},
   "outputs": [],
   "source": [
    "def simulation(idx=0, silent=True):\n",
    "    key = list(parameters.keys())[idx]\n",
    "    params = parameters[key].copy()\n",
    "\n",
    "    sim = build_model(key, **params)\n",
    "\n",
    "    write_model(sim, silent=silent)\n",
    "\n",
    "    success = run_model(sim, silent=silent)\n",
    "    assert success, \"could not run...{}\".format(sim_name)"
   ]
  },
  {
   "cell_type": "code",
   "execution_count": null,
   "id": "24781adf",
   "metadata": {},
   "outputs": [],
   "source": []
  },
  {
   "cell_type": "markdown",
   "id": "01037e0b",
   "metadata": {},
   "source": [
    "### Reilly MAW Problem Simulation\n",
    "\n",
    "Regional model"
   ]
  },
  {
   "cell_type": "code",
   "execution_count": null,
   "id": "66e1bc2b",
   "metadata": {},
   "outputs": [],
   "source": [
    "simulation(0)"
   ]
  },
  {
   "cell_type": "markdown",
   "id": "2e170b8c",
   "metadata": {},
   "source": [
    "Local model with MAW well"
   ]
  },
  {
   "cell_type": "code",
   "execution_count": null,
   "id": "98035555",
   "metadata": {},
   "outputs": [],
   "source": [
    "simulation(1)"
   ]
  },
  {
   "cell_type": "markdown",
   "id": "9203d3a5",
   "metadata": {},
   "source": [
    "Local model with high K well"
   ]
  },
  {
   "cell_type": "code",
   "execution_count": null,
   "id": "ba840396",
   "metadata": {},
   "outputs": [],
   "source": [
    "simulation(2)"
   ]
  },
  {
   "cell_type": "markdown",
   "id": "17f8f918",
   "metadata": {},
   "source": [
    "Plot the results"
   ]
  },
  {
   "cell_type": "code",
   "execution_count": null,
   "id": "fd5448c3",
   "metadata": {},
   "outputs": [],
   "source": [
    "plot_results()"
   ]
  }
 ],
 "metadata": {
  "jupytext": {
   "cell_metadata_filter": "-all",
   "main_language": "python",
   "notebook_metadata_filter": "-all"
  }
 },
 "nbformat": 4,
 "nbformat_minor": 5
}
