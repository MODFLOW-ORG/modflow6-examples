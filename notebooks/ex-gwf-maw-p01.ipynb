{
 "cells": [
  {
   "cell_type": "markdown",
   "id": "e4e3202f",
   "metadata": {},
   "source": [
    "## Neville-Tonkin Multi-Aquifer Well Problem,\n",
    "\n",
    "This is the Neville-Tonkin Multi-Aquifer Well from the\n",
    "Lake Package documentation (Neville and Tonkin, 2004).\n"
   ]
  },
  {
   "cell_type": "markdown",
   "id": "25048471",
   "metadata": {},
   "source": [
    "### Neville-Tonkin MAW Problem Setup\n",
    "\n",
    "Imports"
   ]
  },
  {
   "cell_type": "code",
   "execution_count": null,
   "id": "8d25a200",
   "metadata": {},
   "outputs": [],
   "source": [
    "import os\n",
    "import sys"
   ]
  },
  {
   "cell_type": "code",
   "execution_count": null,
   "id": "5869cc08",
   "metadata": {},
   "outputs": [],
   "source": [
    "import flopy\n",
    "import matplotlib as mpl\n",
    "import matplotlib.pyplot as plt\n",
    "import numpy as np"
   ]
  },
  {
   "cell_type": "markdown",
   "id": "3be27d44",
   "metadata": {},
   "source": [
    "Append to system path to include the common subdirectory"
   ]
  },
  {
   "cell_type": "code",
   "execution_count": null,
   "id": "2d46993f",
   "metadata": {},
   "outputs": [],
   "source": [
    "sys.path.append(os.path.join(\"..\", \"common\"))"
   ]
  },
  {
   "cell_type": "markdown",
   "id": "331b7b6f",
   "metadata": {},
   "source": [
    "import common functionality"
   ]
  },
  {
   "cell_type": "code",
   "execution_count": null,
   "id": "56635740",
   "metadata": {},
   "outputs": [],
   "source": [
    "import config\n",
    "from figspecs import USGSFigure"
   ]
  },
  {
   "cell_type": "markdown",
   "id": "a579efcc",
   "metadata": {},
   "source": [
    "Set figure properties specific to the"
   ]
  },
  {
   "cell_type": "code",
   "execution_count": null,
   "id": "82eea462",
   "metadata": {},
   "outputs": [],
   "source": [
    "figure_size = (6.3, 4.3)\n",
    "masked_values = (0, 1e30, -1e30)"
   ]
  },
  {
   "cell_type": "markdown",
   "id": "67e4c11c",
   "metadata": {},
   "source": [
    "Base simulation and model name and workspace"
   ]
  },
  {
   "cell_type": "code",
   "execution_count": null,
   "id": "3c30fc94",
   "metadata": {},
   "outputs": [],
   "source": [
    "ws = config.base_ws"
   ]
  },
  {
   "cell_type": "markdown",
   "id": "d492f475",
   "metadata": {},
   "source": [
    "Simulation name"
   ]
  },
  {
   "cell_type": "code",
   "execution_count": null,
   "id": "f5d407b3",
   "metadata": {},
   "outputs": [],
   "source": [
    "sim_name = \"ex-gwf-maw-p01\""
   ]
  },
  {
   "cell_type": "markdown",
   "id": "5de5d48c",
   "metadata": {},
   "source": [
    "Model units"
   ]
  },
  {
   "cell_type": "code",
   "execution_count": null,
   "id": "45da9335",
   "metadata": {},
   "outputs": [],
   "source": [
    "length_units = \"meters\"\n",
    "time_units = \"days\""
   ]
  },
  {
   "cell_type": "markdown",
   "id": "01374fda",
   "metadata": {},
   "source": [
    "Scenario parameters"
   ]
  },
  {
   "cell_type": "code",
   "execution_count": null,
   "id": "2b3802f1",
   "metadata": {},
   "outputs": [],
   "source": [
    "parameters = {\n",
    "    \"ex-gwf-maw-p01a\": {\n",
    "        \"rate\": 0.0,\n",
    "    },\n",
    "    \"ex-gwf-maw-p01b\": {\n",
    "        \"rate\": -1767.0,\n",
    "    },\n",
    "}"
   ]
  },
  {
   "cell_type": "markdown",
   "id": "daf2a10d",
   "metadata": {},
   "source": [
    "Table Neville-Tonkin MAW Problem Model Parameters"
   ]
  },
  {
   "cell_type": "code",
   "execution_count": null,
   "id": "2c7fc312",
   "metadata": {},
   "outputs": [],
   "source": [
    "nper = 1  # Number of periods\n",
    "nlay = 2  # Number of layers\n",
    "nrow = 101  # Number of rows\n",
    "ncol = 101  # Number of columns\n",
    "delr = 142.0  # Column width ($m$)\n",
    "delc = 142.0  # Row width ($m$)\n",
    "top = -50.0  # Top of the model ($m$)\n",
    "botm_str = \"-142.9, -514.5\"  # Bottom elevations ($m$)\n",
    "strt_str = \"3.05, 9.14\"  # Starting head ($m$)\n",
    "k11 = 1.0  # Horizontal hydraulic conductivity ($m/d$)\n",
    "k33 = 1.0e-16  # Vertical hydraulic conductivity ($m/d$)\n",
    "ss = 1e-4  # Specific storage ($1/d$)\n",
    "maw_radius = 0.15  # Well radius ($m$)"
   ]
  },
  {
   "cell_type": "markdown",
   "id": "30104721",
   "metadata": {},
   "source": [
    "parse parameter strings into tuples"
   ]
  },
  {
   "cell_type": "code",
   "execution_count": null,
   "id": "a10ff733",
   "metadata": {},
   "outputs": [],
   "source": [
    "botm = [float(value) for value in botm_str.split(\",\")]\n",
    "strt = [float(value) for value in strt_str.split(\",\")]"
   ]
  },
  {
   "cell_type": "markdown",
   "id": "e53e4e74",
   "metadata": {},
   "source": [
    "Static temporal data used by TDIS file"
   ]
  },
  {
   "cell_type": "code",
   "execution_count": null,
   "id": "15030f61",
   "metadata": {},
   "outputs": [],
   "source": [
    "tdis_ds = ((2.314815, 50, 1.2),)"
   ]
  },
  {
   "cell_type": "markdown",
   "id": "f32e419e",
   "metadata": {},
   "source": [
    "Define dimensions"
   ]
  },
  {
   "cell_type": "code",
   "execution_count": null,
   "id": "2924446e",
   "metadata": {},
   "outputs": [],
   "source": [
    "extents = (0.0, delr * ncol, 0.0, delc * nrow)\n",
    "shape2d = (nrow, ncol)\n",
    "shape3d = (nlay, nrow, ncol)"
   ]
  },
  {
   "cell_type": "markdown",
   "id": "752ac9b5",
   "metadata": {},
   "source": [
    "create idomain"
   ]
  },
  {
   "cell_type": "code",
   "execution_count": null,
   "id": "35f087bd",
   "metadata": {},
   "outputs": [],
   "source": [
    "idomain = np.ones(shape3d, dtype=float)\n",
    "xw, yw = (ncol / 2) * delr, (nrow / 2) * delc\n",
    "y = 0.0\n",
    "for i in range(nrow):\n",
    "    x = 0.0\n",
    "    y = (float(i) + 0.5) * delc\n",
    "    for j in range(ncol):\n",
    "        x = (float(j) + 0.5) * delr\n",
    "        r = np.sqrt((x - xw) ** 2.0 + (y - yw) ** 2.0)\n",
    "        if r > 7163.0:\n",
    "            idomain[:, i, j] = 0"
   ]
  },
  {
   "cell_type": "markdown",
   "id": "88897c15",
   "metadata": {},
   "source": [
    "### Create Neville-Tonkin MAW Problem Model Boundary Conditions"
   ]
  },
  {
   "cell_type": "markdown",
   "id": "cd5f1483",
   "metadata": {},
   "source": [
    "MAW Package"
   ]
  },
  {
   "cell_type": "code",
   "execution_count": null,
   "id": "ef37bba3",
   "metadata": {},
   "outputs": [],
   "source": [
    "maw_row = int(nrow / 2)\n",
    "maw_col = int(ncol / 2)"
   ]
  },
  {
   "cell_type": "code",
   "execution_count": null,
   "id": "fa9ca8d6",
   "metadata": {},
   "outputs": [],
   "source": [
    "maw_packagedata = [[0, maw_radius, botm[-1], strt[-1], \"THIEM\", 2]]"
   ]
  },
  {
   "cell_type": "code",
   "execution_count": null,
   "id": "e7443798",
   "metadata": {
    "lines_to_next_cell": 2
   },
   "outputs": [],
   "source": [
    "maw_conn = [\n",
    "    [0, 0, 0, maw_row, maw_col, top, botm[-1], -999.0, -999.0],\n",
    "    [0, 1, 1, maw_row, maw_col, top, botm[-1], -999.0, -999.0],\n",
    "]"
   ]
  },
  {
   "cell_type": "markdown",
   "id": "dbb5d8fa",
   "metadata": {},
   "source": [
    "Solver parameters"
   ]
  },
  {
   "cell_type": "code",
   "execution_count": null,
   "id": "50139015",
   "metadata": {
    "lines_to_next_cell": 2
   },
   "outputs": [],
   "source": [
    "nouter = 500\n",
    "ninner = 100\n",
    "hclose = 1e-9\n",
    "rclose = 1e-4"
   ]
  },
  {
   "cell_type": "markdown",
   "id": "bce8c253",
   "metadata": {
    "lines_to_next_cell": 2
   },
   "source": [
    "### Functions to build, write, run, and plot the MODFLOW 6 Neville-Tonkin MAW Problem model\n",
    "\n",
    "MODFLOW 6 flopy simulation object (sim) is returned if building the model"
   ]
  },
  {
   "cell_type": "code",
   "execution_count": null,
   "id": "123cc330",
   "metadata": {
    "lines_to_next_cell": 2
   },
   "outputs": [],
   "source": [
    "def build_model(name, rate=0.0):\n",
    "    if config.buildModel:\n",
    "        sim_ws = os.path.join(ws, name)\n",
    "        sim = flopy.mf6.MFSimulation(\n",
    "            sim_name=sim_name, sim_ws=sim_ws, exe_name=\"mf6\"\n",
    "        )\n",
    "        flopy.mf6.ModflowTdis(sim, nper=nper, perioddata=tdis_ds, time_units=time_units)\n",
    "        flopy.mf6.ModflowIms(\n",
    "            sim,\n",
    "            print_option=\"summary\",\n",
    "            outer_maximum=nouter,\n",
    "            outer_dvclose=hclose,\n",
    "            inner_maximum=ninner,\n",
    "            inner_dvclose=hclose,\n",
    "            rcloserecord=f\"{rclose} strict\",\n",
    "        )\n",
    "        gwf = flopy.mf6.ModflowGwf(sim, modelname=sim_name, save_flows=True)\n",
    "        flopy.mf6.ModflowGwfdis(\n",
    "            gwf,\n",
    "            length_units=length_units,\n",
    "            nlay=nlay,\n",
    "            nrow=nrow,\n",
    "            ncol=ncol,\n",
    "            delr=delr,\n",
    "            delc=delc,\n",
    "            top=top,\n",
    "            botm=botm,\n",
    "            idomain=idomain,\n",
    "        )\n",
    "        flopy.mf6.ModflowGwfnpf(\n",
    "            gwf,\n",
    "            icelltype=0,\n",
    "            k=k11,\n",
    "            k33=k33,\n",
    "            save_specific_discharge=True,\n",
    "        )\n",
    "        flopy.mf6.ModflowGwfsto(\n",
    "            gwf,\n",
    "            iconvert=0,\n",
    "            ss=ss,\n",
    "        )\n",
    "        flopy.mf6.ModflowGwfic(gwf, strt=strt)\n",
    "\n",
    "        maw_spd = [[0, \"rate\", rate]]\n",
    "        maw = flopy.mf6.ModflowGwfmaw(\n",
    "            gwf,\n",
    "            no_well_storage=True,\n",
    "            nmawwells=1,\n",
    "            packagedata=maw_packagedata,\n",
    "            connectiondata=maw_conn,\n",
    "            perioddata=maw_spd,\n",
    "        )\n",
    "        obs_file = f\"{sim_name}.maw.obs\"\n",
    "        csv_file = obs_file + \".csv\"\n",
    "        obs_dict = {\n",
    "            csv_file: [\n",
    "                (\"head\", \"head\", (0,)),\n",
    "                (\"Q1\", \"maw\", (0,), (0,)),\n",
    "                (\"Q2\", \"maw\", (0,), (1,)),\n",
    "            ]\n",
    "        }\n",
    "        maw.obs.initialize(\n",
    "            filename=obs_file, digits=10, print_input=True, continuous=obs_dict\n",
    "        )\n",
    "\n",
    "        flopy.mf6.ModflowGwfoc(\n",
    "            gwf,\n",
    "            printrecord=[(\"BUDGET\", \"LAST\")],\n",
    "        )\n",
    "        return sim\n",
    "    return None"
   ]
  },
  {
   "cell_type": "markdown",
   "id": "04197969",
   "metadata": {
    "lines_to_next_cell": 2
   },
   "source": [
    "Function to write MODFLOW 6 Neville-Tonkin MAW Problem model files"
   ]
  },
  {
   "cell_type": "code",
   "execution_count": null,
   "id": "f8dbfe2c",
   "metadata": {
    "lines_to_next_cell": 2
   },
   "outputs": [],
   "source": [
    "def write_model(sim, silent=True):\n",
    "    if config.writeModel:\n",
    "        sim.write_simulation(silent=silent)"
   ]
  },
  {
   "cell_type": "markdown",
   "id": "66e4a732",
   "metadata": {
    "lines_to_next_cell": 2
   },
   "source": [
    "Function to run the Neville-Tonkin MAW Problem model.\n",
    "True is returned if the model runs successfully\n"
   ]
  },
  {
   "cell_type": "code",
   "execution_count": null,
   "id": "15c9ef05",
   "metadata": {
    "lines_to_next_cell": 2
   },
   "outputs": [],
   "source": [
    "@config.timeit\n",
    "def run_model(sim, silent=True):\n",
    "    success = True\n",
    "    if config.runModel:\n",
    "        success, buff = sim.run_simulation(silent=silent)\n",
    "        if not success:\n",
    "            print(buff)\n",
    "    return success"
   ]
  },
  {
   "cell_type": "markdown",
   "id": "e27bb3b1",
   "metadata": {
    "lines_to_next_cell": 2
   },
   "source": [
    "Function to plot the lake results"
   ]
  },
  {
   "cell_type": "code",
   "execution_count": null,
   "id": "84311774",
   "metadata": {
    "lines_to_next_cell": 2
   },
   "outputs": [],
   "source": [
    "def plot_maw_results(silent=True):\n",
    "    fs = USGSFigure(figure_type=\"graph\", verbose=False)\n",
    "\n",
    "    # load the observations\n",
    "    name = list(parameters.keys())[0]\n",
    "    fpth = os.path.join(ws, name, f\"{sim_name}.maw.obs.csv\")\n",
    "    maw0 = flopy.utils.Mf6Obs(fpth).data\n",
    "    name = list(parameters.keys())[1]\n",
    "    fpth = os.path.join(ws, name, f\"{sim_name}.maw.obs.csv\")\n",
    "    maw1 = flopy.utils.Mf6Obs(fpth).data\n",
    "\n",
    "    time = maw0[\"totim\"] * 86400.0\n",
    "\n",
    "    tmin = time[0]\n",
    "    tmax = time[-1]\n",
    "\n",
    "    # create the figure\n",
    "    fig, axes = plt.subplots(\n",
    "        ncols=1,\n",
    "        nrows=2,\n",
    "        sharex=True,\n",
    "        figsize=figure_size,\n",
    "        constrained_layout=True,\n",
    "    )\n",
    "\n",
    "    ax = axes[0]\n",
    "    ax.set_xlim(tmin, tmax)\n",
    "    ax.set_ylim(-1000, 1000)\n",
    "    ax.semilogx(\n",
    "        time,\n",
    "        maw0[\"Q1\"],\n",
    "        lw=0.75,\n",
    "        ls=\"-\",\n",
    "        color=\"blue\",\n",
    "        label=\"Upper aquifer\",\n",
    "    )\n",
    "    ax.semilogx(\n",
    "        time,\n",
    "        maw0[\"Q2\"],\n",
    "        lw=0.75,\n",
    "        ls=\"-\",\n",
    "        color=\"red\",\n",
    "        label=\"Lower aquifer\",\n",
    "    )\n",
    "    ax.axhline(0, lw=0.5, color=\"0.5\")\n",
    "    ax.set_ylabel(\" \")\n",
    "    fs.heading(ax, heading=\"Non-pumping case\", idx=0)\n",
    "    fs.graph_legend(ax, loc=\"upper right\", ncol=2)\n",
    "\n",
    "    ax = axes[1]\n",
    "    ax.set_xlim(tmin, tmax)\n",
    "    ax.set_ylim(-500, 2500)\n",
    "    ax.semilogx(\n",
    "        time,\n",
    "        maw1[\"Q1\"],\n",
    "        lw=0.75,\n",
    "        ls=\"-\",\n",
    "        color=\"blue\",\n",
    "        label=\"Upper aquifer\",\n",
    "    )\n",
    "    ax.semilogx(\n",
    "        time,\n",
    "        maw1[\"Q2\"],\n",
    "        lw=0.75,\n",
    "        ls=\"-\",\n",
    "        color=\"red\",\n",
    "        label=\"Lower aquifer\",\n",
    "    )\n",
    "    ax.axhline(0, lw=0.5, color=\"0.5\")\n",
    "    ax.set_xlabel(\" \")\n",
    "    ax.set_ylabel(\" \")\n",
    "    for axis in (ax.xaxis,):\n",
    "        axis.set_major_formatter(mpl.ticker.ScalarFormatter())\n",
    "    fs.heading(ax, heading=\"Pumping case\", idx=1)\n",
    "\n",
    "    # add y-axis label that spans both subplots\n",
    "    ax = fig.add_subplot(1, 1, 1)\n",
    "    ax.set_xlim(0, 1)\n",
    "    ax.set_ylim(0, 1)\n",
    "\n",
    "    # get rid of ticks and spines for legend area\n",
    "    # ax.axis(\"off\")\n",
    "    ax.set_xticks([])\n",
    "    ax.set_yticks([])\n",
    "    ax.spines[\"top\"].set_color(\"none\")\n",
    "    ax.spines[\"bottom\"].set_color(\"none\")\n",
    "    ax.spines[\"left\"].set_color(\"none\")\n",
    "    ax.spines[\"right\"].set_color(\"none\")\n",
    "    ax.patch.set_alpha(0.0)\n",
    "\n",
    "    ax.set_xlabel(\"Simulation time, in seconds\")\n",
    "    ax.set_ylabel(\"Discharge rate, in cubic meters per day\")\n",
    "\n",
    "    # save figure\n",
    "    if config.plotSave:\n",
    "        fpth = os.path.join(\n",
    "            \"..\",\n",
    "            \"figures\",\n",
    "            f\"{sim_name}-01{config.figure_ext}\",\n",
    "        )\n",
    "        fig.savefig(fpth)\n",
    "\n",
    "    return"
   ]
  },
  {
   "cell_type": "markdown",
   "id": "316fd405",
   "metadata": {
    "lines_to_next_cell": 2
   },
   "source": [
    "Plot the grid"
   ]
  },
  {
   "cell_type": "code",
   "execution_count": null,
   "id": "e95af62b",
   "metadata": {
    "lines_to_next_cell": 2
   },
   "outputs": [],
   "source": [
    "def plot_grid(silent=True):\n",
    "    if silent:\n",
    "        verbosity = 0\n",
    "    else:\n",
    "        verbosity = 1\n",
    "    name = list(parameters.keys())[0]\n",
    "    sim_ws = os.path.join(ws, name)\n",
    "    sim = flopy.mf6.MFSimulation.load(\n",
    "        sim_name=sim_name, sim_ws=sim_ws, verbosity_level=verbosity\n",
    "    )\n",
    "    gwf = sim.get_model(sim_name)\n",
    "    fs = USGSFigure(figure_type=\"map\", verbose=False)\n",
    "    fig = plt.figure(\n",
    "        figsize=(4, 4.3),\n",
    "        tight_layout=True,\n",
    "    )\n",
    "    plt.axis(\"off\")\n",
    "\n",
    "    nrows, ncols = 10, 1\n",
    "    axes = [fig.add_subplot(nrows, ncols, (1, 8))]\n",
    "\n",
    "    for idx, ax in enumerate(axes):\n",
    "        ax.set_xlim(extents[:2])\n",
    "        ax.set_ylim(extents[2:])\n",
    "        ax.set_aspect(\"equal\")\n",
    "\n",
    "    # legend axis\n",
    "    axes.append(fig.add_subplot(nrows, ncols, (9, 10)))\n",
    "\n",
    "    # set limits for legend area\n",
    "    ax = axes[-1]\n",
    "    ax.set_xlim(0, 1)\n",
    "    ax.set_ylim(0, 1)\n",
    "\n",
    "    # get rid of ticks and spines for legend area\n",
    "    ax.axis(\"off\")\n",
    "    ax.set_xticks([])\n",
    "    ax.set_yticks([])\n",
    "    ax.spines[\"top\"].set_color(\"none\")\n",
    "    ax.spines[\"bottom\"].set_color(\"none\")\n",
    "    ax.spines[\"left\"].set_color(\"none\")\n",
    "    ax.spines[\"right\"].set_color(\"none\")\n",
    "    ax.patch.set_alpha(0.0)\n",
    "\n",
    "    ax = axes[0]\n",
    "    mm = flopy.plot.PlotMapView(gwf, ax=ax, extent=extents)\n",
    "    mm.plot_bc(\"MAW\", color=\"red\")\n",
    "    mm.plot_inactive(color_noflow=\"black\")\n",
    "    ax.set_xticks([0, extents[1] / 2, extents[1]])\n",
    "    ax.set_yticks([0, extents[1] / 2, extents[1]])\n",
    "\n",
    "    ax = axes[-1]\n",
    "    ax.plot(\n",
    "        -10000,\n",
    "        -10000,\n",
    "        lw=0,\n",
    "        marker=\"s\",\n",
    "        ms=10,\n",
    "        mfc=\"black\",\n",
    "        mec=\"black\",\n",
    "        markeredgewidth=0.5,\n",
    "        label=\"Inactive cells\",\n",
    "    )\n",
    "    ax.plot(\n",
    "        -10000,\n",
    "        -10000,\n",
    "        lw=0,\n",
    "        marker=\"s\",\n",
    "        ms=10,\n",
    "        mfc=\"red\",\n",
    "        mec=\"red\",\n",
    "        markeredgewidth=0.5,\n",
    "        label=\"Multi-aquifer well\",\n",
    "    )\n",
    "    fs.graph_legend(ax, loc=\"lower center\", ncol=2)\n",
    "\n",
    "    # save figure\n",
    "    if config.plotSave:\n",
    "        fpth = os.path.join(\n",
    "            \"..\",\n",
    "            \"figures\",\n",
    "            f\"{sim_name}-grid{config.figure_ext}\",\n",
    "        )\n",
    "        fig.savefig(fpth)"
   ]
  },
  {
   "cell_type": "markdown",
   "id": "afa19765",
   "metadata": {
    "lines_to_next_cell": 2
   },
   "source": [
    "Function to plot the Neville-Tonkin MAW Problem model results."
   ]
  },
  {
   "cell_type": "code",
   "execution_count": null,
   "id": "62fe8d79",
   "metadata": {
    "lines_to_next_cell": 2
   },
   "outputs": [],
   "source": [
    "def plot_results(silent=True):\n",
    "    if config.plotModel:\n",
    "        plot_grid(silent=silent)\n",
    "        plot_maw_results(silent=silent)"
   ]
  },
  {
   "cell_type": "markdown",
   "id": "9d1115a0",
   "metadata": {
    "lines_to_next_cell": 2
   },
   "source": [
    "Function that wraps all of the steps for the Neville-Tonkin MAW Problem model\n",
    "\n",
    "1. build_model,\n",
    "2. write_model,\n",
    "3. run_model, and\n",
    "4. plot_results.\n"
   ]
  },
  {
   "cell_type": "code",
   "execution_count": null,
   "id": "4a9fbb82",
   "metadata": {},
   "outputs": [],
   "source": [
    "def simulation(idx=0, silent=True):\n",
    "    key = list(parameters.keys())[idx]\n",
    "    params = parameters[key].copy()\n",
    "\n",
    "    sim = build_model(key, **params)\n",
    "\n",
    "    write_model(sim, silent=silent)\n",
    "\n",
    "    success = run_model(sim, silent=silent)\n",
    "    assert success, f\"could not run...{sim_name}\""
   ]
  },
  {
   "cell_type": "code",
   "execution_count": null,
   "id": "ae49ce30",
   "metadata": {},
   "outputs": [],
   "source": [
    "# nosetest - exclude block from this nosetest to the next nosetest\n",
    "def test_01():\n",
    "    simulation(idx=0, silent=False)"
   ]
  },
  {
   "cell_type": "code",
   "execution_count": null,
   "id": "b489ec22",
   "metadata": {},
   "outputs": [],
   "source": [
    "def test_02():\n",
    "    simulation(idx=1, silent=False)"
   ]
  },
  {
   "cell_type": "code",
   "execution_count": null,
   "id": "c43b71a9",
   "metadata": {},
   "outputs": [],
   "source": [
    "def test_plot():\n",
    "    plot_results()"
   ]
  },
  {
   "cell_type": "markdown",
   "id": "068049d6",
   "metadata": {},
   "source": [
    "nosetest end"
   ]
  },
  {
   "cell_type": "code",
   "execution_count": null,
   "id": "09db4111",
   "metadata": {},
   "outputs": [],
   "source": [
    "if __name__ == \"__main__\":\n",
    "    # ### Neville-Tonkin MAW Problem Simulation\n",
    "    #\n",
    "    # No pumping case\n",
    "\n",
    "    simulation(0)\n",
    "\n",
    "    # Pumping case\n",
    "\n",
    "    simulation(1)\n",
    "\n",
    "    # Plot the results\n",
    "\n",
    "    plot_results()"
   ]
  }
 ],
 "metadata": {
  "jupytext": {
   "cell_metadata_filter": "-all",
   "main_language": "python",
   "notebook_metadata_filter": "-all"
  }
 },
 "nbformat": 4,
 "nbformat_minor": 5
}
