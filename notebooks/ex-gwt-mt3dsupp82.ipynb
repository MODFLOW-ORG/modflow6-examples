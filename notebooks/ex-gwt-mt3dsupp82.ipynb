{
 "cells": [
  {
   "cell_type": "markdown",
   "id": "3625c17e",
   "metadata": {},
   "source": [
    "## Simulating Effect of Recirculation Well\n",
    "\n",
    "MT3DMS Supplemental Guide Problem 8.2\n",
    "\n"
   ]
  },
  {
   "cell_type": "markdown",
   "id": "e96a7f06",
   "metadata": {},
   "source": [
    "### Simulating Effect of Recirculation Well Problem Setup\n",
    "\n",
    "Imports"
   ]
  },
  {
   "cell_type": "code",
   "execution_count": null,
   "id": "d6429f37",
   "metadata": {},
   "outputs": [],
   "source": [
    "import os\n",
    "import sys\n",
    "\n",
    "import flopy\n",
    "import matplotlib.pyplot as plt\n",
    "import numpy as np"
   ]
  },
  {
   "cell_type": "markdown",
   "id": "30bc8514",
   "metadata": {},
   "source": [
    "Append to system path to include the common subdirectory"
   ]
  },
  {
   "cell_type": "code",
   "execution_count": null,
   "id": "f067ac6d",
   "metadata": {},
   "outputs": [],
   "source": [
    "sys.path.append(os.path.join(\"..\", \"common\"))"
   ]
  },
  {
   "cell_type": "markdown",
   "id": "44d59493",
   "metadata": {},
   "source": [
    "Import common functionality"
   ]
  },
  {
   "cell_type": "code",
   "execution_count": null,
   "id": "450c1530",
   "metadata": {},
   "outputs": [],
   "source": [
    "import config\n",
    "from figspecs import USGSFigure"
   ]
  },
  {
   "cell_type": "markdown",
   "id": "de9b8e83",
   "metadata": {},
   "source": [
    "Set figure properties specific to the"
   ]
  },
  {
   "cell_type": "code",
   "execution_count": null,
   "id": "45b6da09",
   "metadata": {},
   "outputs": [],
   "source": [
    "figure_size = (5, 3)"
   ]
  },
  {
   "cell_type": "markdown",
   "id": "7595e1ed",
   "metadata": {},
   "source": [
    "Base simulation and model name and workspace"
   ]
  },
  {
   "cell_type": "code",
   "execution_count": null,
   "id": "c5a7b2d1",
   "metadata": {},
   "outputs": [],
   "source": [
    "ws = config.base_ws\n",
    "example_name = \"ex-gwt-mt3dsupp82\""
   ]
  },
  {
   "cell_type": "markdown",
   "id": "6390ccd8",
   "metadata": {},
   "source": [
    "Model units"
   ]
  },
  {
   "cell_type": "code",
   "execution_count": null,
   "id": "ded2fd13",
   "metadata": {},
   "outputs": [],
   "source": [
    "length_units = \"m\"\n",
    "time_units = \"days\""
   ]
  },
  {
   "cell_type": "markdown",
   "id": "27c1afc3",
   "metadata": {},
   "source": [
    "Table of model parameters"
   ]
  },
  {
   "cell_type": "code",
   "execution_count": null,
   "id": "1bb89c7c",
   "metadata": {
    "lines_to_next_cell": 2
   },
   "outputs": [],
   "source": [
    "nper = 1  # Number of periods\n",
    "nlay = 1  # Number of layers\n",
    "nrow = 31  # Number of rows\n",
    "ncol = 46  # Number of columns\n",
    "delr = 10.0  # Column width ($m$)\n",
    "delc = 10.0  # Row width ($m$)\n",
    "top = 10.0  # Top of the model ($m$)\n",
    "botm = 0.0  # Layer bottom elevation ($m$)\n",
    "hydraulic_conductivity = 10.0  # Hydraulic conductivity ($md^{-1}$)\n",
    "alpha_l = 10.0  # Longitudinal dispersivity ($m$)\n",
    "alpha_th = 3.0  # Transverse horizontal dispersivity ($m$)\n",
    "alpha_tv = 0.3  # Transverse vertical dispersivity ($m$)\n",
    "total_time = 365.0  # Simulation time ($d$)\n",
    "porosity = 0.3  # Porosity of mobile domain (unitless)"
   ]
  },
  {
   "cell_type": "markdown",
   "id": "f1699f8e",
   "metadata": {
    "lines_to_next_cell": 2
   },
   "source": [
    "### Functions to build, write, run, and plot models\n",
    "\n",
    "MODFLOW 6 flopy simulation object (sim) is returned if building the model\n",
    "recharge is the only variable\n"
   ]
  },
  {
   "cell_type": "code",
   "execution_count": null,
   "id": "ce2ecf89",
   "metadata": {},
   "outputs": [],
   "source": [
    "def build_mf6gwf(sim_folder):\n",
    "    print(f\"Building mf6gwf model...{sim_folder}\")\n",
    "    name = \"flow\"\n",
    "    sim_ws = os.path.join(ws, sim_folder, \"mf6gwf\")\n",
    "    sim = flopy.mf6.MFSimulation(sim_name=name, sim_ws=sim_ws, exe_name=config.mf6_exe)\n",
    "    tdis_ds = ((total_time, 1, 1.0),)\n",
    "    flopy.mf6.ModflowTdis(sim, nper=nper, perioddata=tdis_ds, time_units=time_units)\n",
    "    flopy.mf6.ModflowIms(sim)\n",
    "    gwf = flopy.mf6.ModflowGwf(sim, modelname=name, save_flows=True)\n",
    "    flopy.mf6.ModflowGwfdis(\n",
    "        gwf,\n",
    "        length_units=length_units,\n",
    "        nlay=nlay,\n",
    "        nrow=nrow,\n",
    "        ncol=ncol,\n",
    "        delr=delr,\n",
    "        delc=delc,\n",
    "        top=top,\n",
    "        botm=botm,\n",
    "    )\n",
    "    flopy.mf6.ModflowGwfnpf(\n",
    "        gwf,\n",
    "        save_specific_discharge=True,\n",
    "        save_saturation=True,\n",
    "        icelltype=0,\n",
    "        k=hydraulic_conductivity,\n",
    "    )\n",
    "    flopy.mf6.ModflowGwfic(gwf, strt=0.0)\n",
    "    cinflow = 0.0\n",
    "    chdlist1 = [[(0, i, 0), 1000.0 + 7.29e-4, cinflow] for i in range(nrow)]\n",
    "    chdlist1 += [[(0, i, ncol - 1), 1000.0 + -4.5, 0.0] for i in range(nrow)]\n",
    "    flopy.mf6.ModflowGwfchd(\n",
    "        gwf,\n",
    "        stress_period_data=chdlist1,\n",
    "        print_input=True,\n",
    "        print_flows=True,\n",
    "        save_flows=False,\n",
    "        pname=\"CHD-1\",\n",
    "        auxiliary=[\n",
    "            (\"CONCENTRATION\"),\n",
    "        ],\n",
    "    )\n",
    "    wellbottom = 0.0\n",
    "    wellradius = 0.01\n",
    "    ngwfnodes = 1\n",
    "    concwell = 1000.0\n",
    "    strt = 0.0\n",
    "    mawpackagedata = [\n",
    "        [iwell, wellradius, wellbottom, strt, \"THIEM\", ngwfnodes, concwell]\n",
    "        for iwell in range(4)\n",
    "    ]\n",
    "    mawconnectiondata = [\n",
    "        [0, 0, (0, 15, 15), 10.0, 0.0, 10.0, 0.1],\n",
    "        [1, 0, (0, 15, 20), 10.0, 0.0, 10.0, 0.1],\n",
    "        [2, 0, (0, 4, 15), 10.0, 0.0, 10.0, 0.1],\n",
    "        [3, 0, (0, 26, 15), 10.0, 0.0, 10.0, 0.1],\n",
    "    ]\n",
    "    mawspd = [[0, \"rate\", 1.0], [1, \"rate\", -1.0]]\n",
    "\n",
    "    flopy.mf6.ModflowGwfmaw(\n",
    "        gwf,\n",
    "        print_input=True,\n",
    "        print_head=True,\n",
    "        print_flows=True,\n",
    "        save_flows=True,\n",
    "        mover=True,\n",
    "        no_well_storage=True,\n",
    "        head_filerecord=f\"{name}.maw.hds\",\n",
    "        budget_filerecord=f\"{name}.maw.bud\",\n",
    "        packagedata=mawpackagedata,\n",
    "        connectiondata=mawconnectiondata,\n",
    "        perioddata=mawspd,\n",
    "        pname=\"MAW-1\",\n",
    "        auxiliary=[\"CONCENTRATION\"],\n",
    "    )\n",
    "\n",
    "    packages = [\n",
    "        (\"maw-1\",),\n",
    "    ]\n",
    "    perioddata = [\n",
    "        (\"MAW-1\", 1, \"MAW-1\", 2, \"factor\", 0.5),\n",
    "        (\"MAW-1\", 1, \"MAW-1\", 3, \"factor\", 0.5),\n",
    "    ]\n",
    "    flopy.mf6.ModflowGwfmvr(\n",
    "        gwf,\n",
    "        maxmvr=len(perioddata),\n",
    "        budget_filerecord=f\"{name}.mvr.bud\",\n",
    "        maxpackages=len(packages),\n",
    "        print_flows=True,\n",
    "        packages=packages,\n",
    "        perioddata=perioddata,\n",
    "    )\n",
    "\n",
    "    head_filerecord = f\"{name}.hds\"\n",
    "    budget_filerecord = f\"{name}.bud\"\n",
    "    flopy.mf6.ModflowGwfoc(\n",
    "        gwf,\n",
    "        head_filerecord=head_filerecord,\n",
    "        budget_filerecord=budget_filerecord,\n",
    "        saverecord=[(\"HEAD\", \"ALL\"), (\"BUDGET\", \"ALL\")],\n",
    "    )\n",
    "    return sim"
   ]
  },
  {
   "cell_type": "code",
   "execution_count": null,
   "id": "e0bcb342",
   "metadata": {},
   "outputs": [],
   "source": [
    "def build_mf6gwt(sim_folder):\n",
    "    print(f\"Building mf6gwt model...{sim_folder}\")\n",
    "    name = \"trans\"\n",
    "    sim_ws = os.path.join(ws, sim_folder, \"mf6gwt\")\n",
    "    sim = flopy.mf6.MFSimulation(sim_name=name, sim_ws=sim_ws, exe_name=config.mf6_exe)\n",
    "    tdis_ds = ((total_time, 20, 1.0),)\n",
    "    flopy.mf6.ModflowTdis(sim, nper=nper, perioddata=tdis_ds, time_units=time_units)\n",
    "    flopy.mf6.ModflowIms(sim, linear_acceleration=\"bicgstab\")\n",
    "    gwt = flopy.mf6.ModflowGwt(sim, modelname=name, save_flows=True)\n",
    "    flopy.mf6.ModflowGwtdis(\n",
    "        gwt,\n",
    "        length_units=length_units,\n",
    "        nlay=nlay,\n",
    "        nrow=nrow,\n",
    "        ncol=ncol,\n",
    "        delr=delr,\n",
    "        delc=delc,\n",
    "        top=top,\n",
    "        botm=botm,\n",
    "    )\n",
    "    flopy.mf6.ModflowGwtic(gwt, strt=0)\n",
    "    flopy.mf6.ModflowGwtmst(gwt, porosity=porosity)\n",
    "    flopy.mf6.ModflowGwtadv(gwt, scheme=\"upstream\")\n",
    "    flopy.mf6.ModflowGwtdsp(gwt, alh=alpha_l, ath1=alpha_th, atv=alpha_tv)\n",
    "    pd = [\n",
    "        (\"GWFHEAD\", f\"../mf6gwf/flow.hds\", None),\n",
    "        (\"GWFBUDGET\", \"../mf6gwf/flow.bud\", None),\n",
    "        (\"GWFMOVER\", \"../mf6gwf/flow.mvr.bud\", None),\n",
    "        (\"MAW-1\", \"../mf6gwf/flow.maw.bud\", None),\n",
    "    ]\n",
    "    flopy.mf6.ModflowGwtfmi(gwt, packagedata=pd)\n",
    "\n",
    "    mwtpackagedata = [\n",
    "        (0, 0.0, 99.0, 999.0, \"inject\"),\n",
    "        (1, 0.0, 99.0, 999.0, \"extract\"),\n",
    "        (2, 0.0, 99.0, 999.0, \"reinject1\"),\n",
    "        (3, 0.0, 99.0, 999.0, \"reinject2\"),\n",
    "    ]\n",
    "    mwtperioddata = [\n",
    "        (0, \"RATE\", 1000.0),\n",
    "        (0, \"CONCENTRATION\", 1000.0),\n",
    "        (0, \"STATUS\", \"ACTIVE\"),\n",
    "        (1, \"STATUS\", \"ACTIVE\"),\n",
    "        (2, \"STATUS\", \"ACTIVE\"),\n",
    "        (3, \"STATUS\", \"ACTIVE\"),\n",
    "    ]\n",
    "    flopy.mf6.modflow.ModflowGwtmwt(\n",
    "        gwt,\n",
    "        boundnames=True,\n",
    "        save_flows=True,\n",
    "        print_input=True,\n",
    "        print_flows=True,\n",
    "        print_concentration=True,\n",
    "        concentration_filerecord=name + \".mwt.bin\",\n",
    "        budget_filerecord=name + \".mwt.bud\",\n",
    "        packagedata=mwtpackagedata,\n",
    "        mwtperioddata=mwtperioddata,\n",
    "        observations=None,\n",
    "        pname=\"MAW-1\",\n",
    "        auxiliary=[\"aux1\", \"aux2\"],\n",
    "    )\n",
    "\n",
    "    flopy.mf6.modflow.ModflowGwtmvt(gwt, print_flows=True)\n",
    "    sourcerecarray = [\n",
    "        (\"CHD-1\", \"AUX\", \"CONCENTRATION\"),\n",
    "    ]\n",
    "    flopy.mf6.ModflowGwtssm(gwt, sources=sourcerecarray)\n",
    "    flopy.mf6.ModflowGwtoc(\n",
    "        gwt,\n",
    "        budget_filerecord=f\"{name}.cbc\",\n",
    "        concentration_filerecord=f\"{name}.ucn\",\n",
    "        concentrationprintrecord=[\n",
    "            (\"COLUMNS\", ncol, \"WIDTH\", 15, \"DIGITS\", 6, \"GENERAL\")\n",
    "        ],\n",
    "        saverecord=[(\"CONCENTRATION\", \"ALL\")],\n",
    "        printrecord=[\n",
    "            (\"CONCENTRATION\", \"ALL\"),\n",
    "            (\n",
    "                \"BUDGET\",\n",
    "                \"ALL\",\n",
    "            ),\n",
    "        ],\n",
    "    )\n",
    "    return sim"
   ]
  },
  {
   "cell_type": "code",
   "execution_count": null,
   "id": "0f94ee86",
   "metadata": {},
   "outputs": [],
   "source": [
    "def build_mf2005(sim_folder):\n",
    "    print(f\"Building mf2005 model...{sim_folder}\")\n",
    "    name = \"flow\"\n",
    "    sim_ws = os.path.join(ws, sim_folder, \"mf2005\")\n",
    "    mf = flopy.modflow.Modflow(\n",
    "        modelname=name, model_ws=sim_ws, exe_name=config.mf2005_exe\n",
    "    )\n",
    "    perlen = [total_time]\n",
    "    dis = flopy.modflow.ModflowDis(\n",
    "        mf,\n",
    "        nlay=nlay,\n",
    "        nrow=nrow,\n",
    "        ncol=ncol,\n",
    "        delr=delr,\n",
    "        delc=delc,\n",
    "        top=top,\n",
    "        botm=botm,\n",
    "        nper=nper,\n",
    "        perlen=perlen,\n",
    "    )\n",
    "    bas = flopy.modflow.ModflowBas(mf)\n",
    "    lpf = flopy.modflow.ModflowLpf(mf, hk=hydraulic_conductivity)\n",
    "    pcg = flopy.modflow.ModflowPcg(mf)\n",
    "    lmt = flopy.modflow.ModflowLmt(mf)\n",
    "\n",
    "    h = 1000.0 + 7.29e-4\n",
    "    chdspd = [[0, i, 0, h, h] for i in range(nrow)]\n",
    "    h = 1000.0 + -4.5\n",
    "    chdspd += [[0, i, ncol - 1, h, h] for i in range(nrow)]\n",
    "    chd = flopy.modflow.ModflowChd(mf, stress_period_data=chdspd)\n",
    "\n",
    "    q = 1.0\n",
    "    welspd = [\n",
    "        [0, 15, 15, q],  # injection\n",
    "        [0, 15, 20, -q],  # extraction\n",
    "        [0, 4, 15, 0.5 * q],  # reinjection\n",
    "        [0, 26, 15, 0.5 * q],\n",
    "    ]  # reinjection\n",
    "    wel = flopy.modflow.ModflowWel(mf, stress_period_data=welspd)\n",
    "    return mf"
   ]
  },
  {
   "cell_type": "code",
   "execution_count": null,
   "id": "bff98b12",
   "metadata": {},
   "outputs": [],
   "source": [
    "def build_mt3dms(sim_folder, modflowmodel):\n",
    "    print(f\"Building mt3dms model...{sim_folder}\")\n",
    "    name = \"trans\"\n",
    "    sim_ws = os.path.join(ws, sim_folder, \"mt3d\")\n",
    "    mt = flopy.mt3d.Mt3dms(\n",
    "        modelname=name,\n",
    "        model_ws=sim_ws,\n",
    "        exe_name=config.mt3dms_exe,\n",
    "        modflowmodel=modflowmodel,\n",
    "        ftlfilename=\"../mf2005/mt3d_link.ftl\",\n",
    "    )\n",
    "    dt0 = total_time / 20.0\n",
    "    btn = flopy.mt3d.Mt3dBtn(mt, laycon=0, prsity=porosity, dt0=dt0, ifmtcn=1)\n",
    "    adv = flopy.mt3d.Mt3dAdv(mt, mixelm=0)\n",
    "    dsp = flopy.mt3d.Mt3dDsp(\n",
    "        mt, al=alpha_l, trpt=alpha_th / alpha_l, trpv=alpha_tv / alpha_l\n",
    "    )\n",
    "\n",
    "    ssmspd = [\n",
    "        [0, 15, 15, 1000.0, 2],\n",
    "        [0, 4, 15, -711, 2],\n",
    "        [0, 26, 15, -711, 2],\n",
    "    ]\n",
    "    ssm = flopy.mt3d.Mt3dSsm(mt, mxss=66, stress_period_data=ssmspd)\n",
    "    gcg = flopy.mt3d.Mt3dGcg(mt)\n",
    "    return mt"
   ]
  },
  {
   "cell_type": "code",
   "execution_count": null,
   "id": "5f15ba52",
   "metadata": {
    "lines_to_next_cell": 2
   },
   "outputs": [],
   "source": [
    "def build_model(sim_name):\n",
    "    sims = None\n",
    "    if config.buildModel:\n",
    "        sim_mf6gwf = build_mf6gwf(sim_name)\n",
    "        sim_mf6gwt = build_mf6gwt(sim_name)\n",
    "        sim_mf2005 = build_mf2005(sim_name)\n",
    "        sim_mt3dms = build_mt3dms(sim_name, sim_mf2005)\n",
    "        sims = (sim_mf6gwf, sim_mf6gwt, sim_mf2005, sim_mt3dms)\n",
    "    return sims"
   ]
  },
  {
   "cell_type": "markdown",
   "id": "7f8725cb",
   "metadata": {
    "lines_to_next_cell": 2
   },
   "source": [
    "Function to write model files"
   ]
  },
  {
   "cell_type": "code",
   "execution_count": null,
   "id": "3730e497",
   "metadata": {
    "lines_to_next_cell": 2
   },
   "outputs": [],
   "source": [
    "def write_model(sims, silent=True):\n",
    "    if config.writeModel:\n",
    "        sim_mf6gwf, sim_mf6gwt, sim_mf2005, sim_mt3dms = sims\n",
    "        sim_mf6gwf.write_simulation(silent=silent)\n",
    "        sim_mf6gwt.write_simulation(silent=silent)\n",
    "        sim_mf2005.write_input()\n",
    "        sim_mt3dms.write_input()\n",
    "    return"
   ]
  },
  {
   "cell_type": "markdown",
   "id": "f5500c55",
   "metadata": {
    "lines_to_next_cell": 2
   },
   "source": [
    "Function to run the model\n",
    "True is returned if the model runs successfully"
   ]
  },
  {
   "cell_type": "code",
   "execution_count": null,
   "id": "76cebb14",
   "metadata": {
    "lines_to_next_cell": 2
   },
   "outputs": [],
   "source": [
    "@config.timeit\n",
    "def run_model(sims, silent=True):\n",
    "    success = True\n",
    "    if config.runModel:\n",
    "        success = False\n",
    "        sim_mf6gwf, sim_mf6gwt, sim_mf2005, sim_mt3dms = sims\n",
    "        success, buff = sim_mf6gwf.run_simulation(silent=silent)\n",
    "        if not success:\n",
    "            print(buff)\n",
    "        success, buff = sim_mf6gwt.run_simulation(silent=silent)\n",
    "        if not success:\n",
    "            print(buff)\n",
    "        success, buff = sim_mf2005.run_model(silent=silent)\n",
    "        if not success:\n",
    "            print(buff)\n",
    "        success, buff = sim_mt3dms.run_model(\n",
    "            silent=silent, normal_msg=\"Program completed\"\n",
    "        )\n",
    "        if not success:\n",
    "            print(buff)\n",
    "    return success"
   ]
  },
  {
   "cell_type": "markdown",
   "id": "e0ead636",
   "metadata": {
    "lines_to_next_cell": 2
   },
   "source": [
    "Function to plot the model results"
   ]
  },
  {
   "cell_type": "code",
   "execution_count": null,
   "id": "2b416e36",
   "metadata": {
    "lines_to_next_cell": 2
   },
   "outputs": [],
   "source": [
    "def plot_results(sims, idx):\n",
    "    if config.plotModel:\n",
    "        print(\"Plotting model results...\")\n",
    "        sim_mf6gwf, sim_mf6gwt, sim_mf2005, sim_mt3dms = sims\n",
    "        gwf = sim_mf6gwf.flow\n",
    "        gwt = sim_mf6gwt.trans\n",
    "        fs = USGSFigure(figure_type=\"map\", verbose=False)\n",
    "\n",
    "        conc = gwt.output.concentration().get_data()\n",
    "\n",
    "        sim_ws = sim_mt3dms.model_ws\n",
    "        fname = os.path.join(sim_ws, \"MT3D001.UCN\")\n",
    "        cobjmt = flopy.utils.UcnFile(fname)\n",
    "        concmt = cobjmt.get_data()\n",
    "\n",
    "        fig, ax = plt.subplots(1, 1, figsize=figure_size, dpi=300, tight_layout=True)\n",
    "        pmv = flopy.plot.PlotMapView(model=gwf, ax=ax)\n",
    "        pmv.plot_bc(ftype=\"MAW\", color=\"red\")\n",
    "        pmv.plot_bc(ftype=\"CHD\")\n",
    "        pmv.plot_grid(linewidths=0.25)\n",
    "\n",
    "        a = np.ma.masked_less(conc, 0.01)\n",
    "        pa = pmv.plot_array(a, cmap=\"jet\", alpha=0.25)\n",
    "        plt.colorbar(pa, shrink=0.5)\n",
    "\n",
    "        levels = [0.01, 0.1, 1, 10, 100]\n",
    "        cs1 = pmv.contour_array(concmt, levels=levels, colors=\"r\")\n",
    "\n",
    "        cs2 = pmv.contour_array(conc, levels=levels, colors=\"b\", linestyles=\"--\")\n",
    "        ax.clabel(cs2, cs2.levels[::1], fmt=\"%3.2f\", colors=\"b\")\n",
    "\n",
    "        labels = [\"MT3DMS\", \"MODFLOW 6\"]\n",
    "        lines = [cs1.collections[0], cs2.collections[0]]\n",
    "        ax.legend(lines, labels, loc=\"lower right\")\n",
    "\n",
    "        ax.set_xlabel(\"x position (m)\")\n",
    "        ax.set_ylabel(\"y position (m)\")\n",
    "\n",
    "        # save figure\n",
    "        if config.plotSave:\n",
    "            sim_folder = os.path.split(sim_ws)[0]\n",
    "            sim_folder = os.path.basename(sim_folder)\n",
    "            fname = f\"{sim_folder}-map{config.figure_ext}\"\n",
    "            fpth = os.path.join(ws, \"..\", \"figures\", fname)\n",
    "            fig.savefig(fpth)"
   ]
  },
  {
   "cell_type": "markdown",
   "id": "19df6711",
   "metadata": {
    "lines_to_next_cell": 2
   },
   "source": [
    "Function that wraps all of the steps for each scenario\n",
    "\n",
    "1. build_model,\n",
    "2. write_model,\n",
    "3. run_model, and\n",
    "4. plot_results."
   ]
  },
  {
   "cell_type": "code",
   "execution_count": null,
   "id": "a40170f7",
   "metadata": {},
   "outputs": [],
   "source": [
    "def scenario(idx, silent=True):\n",
    "    sim = build_model(example_name)\n",
    "    write_model(sim, silent=silent)\n",
    "    success = run_model(sim, silent=silent)\n",
    "    if success:\n",
    "        plot_results(sim, idx)"
   ]
  },
  {
   "cell_type": "code",
   "execution_count": null,
   "id": "93d4bc08",
   "metadata": {},
   "outputs": [],
   "source": []
  },
  {
   "cell_type": "markdown",
   "id": "9174b926",
   "metadata": {},
   "source": [
    "### Simulated Zero-Order Growth in a Uniform Flow Field"
   ]
  },
  {
   "cell_type": "markdown",
   "id": "14062228",
   "metadata": {},
   "source": [
    "Add a description of the plot(s)"
   ]
  },
  {
   "cell_type": "code",
   "execution_count": null,
   "id": "a0a29e27",
   "metadata": {},
   "outputs": [],
   "source": [
    "scenario(0)"
   ]
  }
 ],
 "metadata": {
  "jupytext": {
   "cell_metadata_filter": "-all",
   "main_language": "python",
   "notebook_metadata_filter": "-all"
  }
 },
 "nbformat": 4,
 "nbformat_minor": 5
}
