{
 "cells": [
  {
   "cell_type": "markdown",
   "metadata": {},
   "source": [
    "<br>\n",
    "<br>\n",
    "Describe the model...<br>\n",
    "<br>\n",
    "<br>\n"
   ]
  },
  {
   "cell_type": "markdown",
   "metadata": {},
   "source": [
    "Imports"
   ]
  },
  {
   "cell_type": "code",
   "execution_count": null,
   "metadata": {},
   "outputs": [],
   "source": [
    "import os\n",
    "import sys\n",
    "import matplotlib.pyplot as plt\n",
    "import flopy\n",
    "import spnspecs as spn"
   ]
  },
  {
   "cell_type": "markdown",
   "metadata": {},
   "source": [
    "Append to system path"
   ]
  },
  {
   "cell_type": "code",
   "execution_count": null,
   "metadata": {},
   "outputs": [],
   "source": [
    "sys.path.append(os.path.join(\"..\", \"common\"))"
   ]
  },
  {
   "cell_type": "markdown",
   "metadata": {},
   "source": [
    "import from common directory"
   ]
  },
  {
   "cell_type": "code",
   "execution_count": null,
   "metadata": {},
   "outputs": [],
   "source": [
    "import config"
   ]
  },
  {
   "cell_type": "markdown",
   "metadata": {},
   "source": [
    "Set figure properties"
   ]
  },
  {
   "cell_type": "code",
   "execution_count": null,
   "metadata": {},
   "outputs": [],
   "source": [
    "figure_size = (3, 3)\n",
    "figure_ext = \".png\""
   ]
  },
  {
   "cell_type": "markdown",
   "metadata": {},
   "source": [
    "Base name and workspace"
   ]
  },
  {
   "cell_type": "code",
   "execution_count": null,
   "metadata": {},
   "outputs": [],
   "source": [
    "basename = \"ex_twri\"\n",
    "ws = os.path.join(\"..\", \"examples\")"
   ]
  },
  {
   "cell_type": "markdown",
   "metadata": {},
   "source": [
    "Scenario parameters"
   ]
  },
  {
   "cell_type": "code",
   "execution_count": null,
   "metadata": {},
   "outputs": [],
   "source": [
    "parameters = {\"{}01\".format(basename): {\"recharge\": 3e-8},\n",
    "              \"{}02\".format(basename): {\"recharge\": 2e-8}}"
   ]
  },
  {
   "cell_type": "markdown",
   "metadata": {},
   "source": [
    "Model units"
   ]
  },
  {
   "cell_type": "code",
   "execution_count": null,
   "metadata": {},
   "outputs": [],
   "source": [
    "length_units = \"feet\"\n",
    "time_units = \"seconds\""
   ]
  },
  {
   "cell_type": "markdown",
   "metadata": {},
   "source": [
    "Table"
   ]
  },
  {
   "cell_type": "code",
   "execution_count": null,
   "metadata": {},
   "outputs": [],
   "source": [
    "nlay = 3  # Number of layers\n",
    "ncol = 15  # Number of columns\n",
    "nrow = 15  # Number of rows\n",
    "delr = 5000.0  # Column width, in feet\n",
    "delc = 5000.0  # Row width, in feet\n",
    "top = 200.0  # Top of the model, in feet\n",
    "bottom = \"-200, -300, -450\"  # Layer bottom elevations, in feet"
   ]
  },
  {
   "cell_type": "markdown",
   "metadata": {},
   "source": [
    "Table of variables"
   ]
  },
  {
   "cell_type": "code",
   "execution_count": null,
   "metadata": {},
   "outputs": [],
   "source": [
    "nper = 1  # Number of periods"
   ]
  },
  {
   "cell_type": "code",
   "execution_count": null,
   "metadata": {},
   "outputs": [],
   "source": [
    "botm = (-200.0, -300.0, -450.0)"
   ]
  },
  {
   "cell_type": "markdown",
   "metadata": {},
   "source": [
    "Static temporal data"
   ]
  },
  {
   "cell_type": "code",
   "execution_count": null,
   "metadata": {},
   "outputs": [],
   "source": [
    "tdis_ds = ((8.640e04, 1, 1.000e00),)"
   ]
  },
  {
   "cell_type": "markdown",
   "metadata": {},
   "source": [
    "Total simulation time"
   ]
  },
  {
   "cell_type": "code",
   "execution_count": null,
   "metadata": {},
   "outputs": [],
   "source": [
    "total_sim_time = 0.0\n",
    "for n in range(nper):\n",
    "    total_sim_time += tdis_ds[n][0]"
   ]
  },
  {
   "cell_type": "markdown",
   "metadata": {},
   "source": [
    "Initial Conditions"
   ]
  },
  {
   "cell_type": "code",
   "execution_count": null,
   "metadata": {},
   "outputs": [],
   "source": [
    "strt = 0.0  # table \"Starting head (feet)\""
   ]
  },
  {
   "cell_type": "markdown",
   "metadata": {},
   "source": [
    "Hydraulic properties"
   ]
  },
  {
   "cell_type": "code",
   "execution_count": null,
   "metadata": {},
   "outputs": [],
   "source": [
    "icelltype = (1, 0, 0)\n",
    "k11 = (1.0e-3, 1e-4, 2.0e-4)\n",
    "k33 = 2.0e-8"
   ]
  },
  {
   "cell_type": "markdown",
   "metadata": {},
   "source": [
    "Boundary Condition - CHD"
   ]
  },
  {
   "cell_type": "code",
   "execution_count": null,
   "metadata": {},
   "outputs": [],
   "source": [
    "chd_spd = []\n",
    "for k in range(2):\n",
    "    chd_spd += [[(k, i, 0), 0.0] for i in range(nrow)]\n",
    "chd_spd = {0: chd_spd}"
   ]
  },
  {
   "cell_type": "markdown",
   "metadata": {},
   "source": [
    "Boundary Condition - WEL"
   ]
  },
  {
   "cell_type": "code",
   "execution_count": null,
   "metadata": {},
   "outputs": [],
   "source": [
    "wel_spd = {\n",
    "    0: [\n",
    "        [(2, 4, 10), -5.0],\n",
    "        [(1, 3, 5), -5.0],\n",
    "        [(1, 5, 11), -5.0],\n",
    "        [(0, 8, 7), -5.0],\n",
    "        [(0, 8, 9), -5.0],\n",
    "        [(0, 8, 11), -5.0],\n",
    "        [(0, 8, 13), -5.0],\n",
    "        [(0, 10, 7), -5.0],\n",
    "        [(0, 10, 9), -5.0],\n",
    "        [(0, 10, 11), -5.0],\n",
    "        [(0, 10, 13), -5.0],\n",
    "        [(0, 12, 7), -5.0],\n",
    "        [(0, 12, 9), -5.0],\n",
    "        [(0, 12, 11), -5.0],\n",
    "        [(0, 12, 13), -5.0],\n",
    "    ]\n",
    "}"
   ]
  },
  {
   "cell_type": "markdown",
   "metadata": {},
   "source": [
    "## Boundary Condition - DRN<br>\n",
    "Some text describing the _boundary_ $x = y$"
   ]
  },
  {
   "cell_type": "code",
   "execution_count": null,
   "metadata": {},
   "outputs": [],
   "source": [
    "drn_spd = {\n",
    "    0: [\n",
    "        [(0, 7, 1), 0.0, 1.0e0],\n",
    "        [(0, 7, 2), 0.0, 1.0e0],\n",
    "        [(0, 7, 3), 10.0, 1.0e0],\n",
    "        [(0, 7, 4), 20.0, 1.0e0],\n",
    "        [(0, 7, 5), 30.0, 1.0e0],\n",
    "        [(0, 7, 6), 50.0, 1.0e0],\n",
    "        [(0, 7, 7), 70.0, 1.0e0],\n",
    "        [(0, 7, 8), 90.0, 1.0e0],\n",
    "        [(0, 7, 9), 100.0, 1.0e0],\n",
    "    ]\n",
    "}"
   ]
  },
  {
   "cell_type": "markdown",
   "metadata": {},
   "source": [
    "Routine to build model - recharge is the only variable"
   ]
  },
  {
   "cell_type": "code",
   "execution_count": null,
   "metadata": {},
   "outputs": [],
   "source": [
    "def build_model(sim_name, recharge=0.):\n",
    "    sim_ws = os.path.join(ws, sim_name)\n",
    "    sim = flopy.mf6.MFSimulation(\n",
    "        sim_name=sim_name, sim_ws=sim_ws, exe_name=config.mf6_exe\n",
    "    )\n",
    "    flopy.mf6.ModflowTdis(\n",
    "        sim, nper=nper, perioddata=tdis_ds, time_units=time_units\n",
    "    )\n",
    "    flopy.mf6.ModflowIms(sim)\n",
    "    gwf = flopy.mf6.ModflowGwf(sim, modelname=sim_name, save_flows=True)\n",
    "    flopy.mf6.ModflowGwfdis(\n",
    "        gwf,\n",
    "        length_units=length_units,\n",
    "        nlay=nlay,\n",
    "        nrow=nrow,\n",
    "        ncol=ncol,\n",
    "        delr=delr,\n",
    "        delc=delc,\n",
    "        top=top,\n",
    "        botm=botm,\n",
    "    )\n",
    "    flopy.mf6.ModflowGwfnpf(\n",
    "        gwf,\n",
    "        cvoptions=\"perched\",\n",
    "        perched=True,\n",
    "        icelltype=icelltype,\n",
    "        k=k11,\n",
    "        k33=k33,\n",
    "    )\n",
    "    flopy.mf6.ModflowGwfic(gwf, strt=strt)\n",
    "    flopy.mf6.ModflowGwfchd(gwf, stress_period_data=chd_spd)\n",
    "    flopy.mf6.ModflowGwfdrn(gwf, stress_period_data=drn_spd)\n",
    "    flopy.mf6.ModflowGwfwel(gwf, stress_period_data=wel_spd)\n",
    "    flopy.mf6.ModflowGwfrcha(gwf, recharge=recharge)\n",
    "    head_filerecord = \"{}.hds\".format(sim_name)\n",
    "    budget_filerecord = \"{}.cbc\".format(sim_name)\n",
    "    flopy.mf6.ModflowGwfoc(\n",
    "        gwf,\n",
    "        head_filerecord=head_filerecord,\n",
    "        budget_filerecord=budget_filerecord,\n",
    "        saverecord=[(\"HEAD\", \"ALL\"), (\"BUDGET\", \"ALL\")],\n",
    "    )\n",
    "    return sim"
   ]
  },
  {
   "cell_type": "code",
   "execution_count": null,
   "metadata": {},
   "outputs": [],
   "source": [
    "def write_model(sim):\n",
    "    if config.writeModel:\n",
    "        sim.write_simulation(silent=True)"
   ]
  },
  {
   "cell_type": "code",
   "execution_count": null,
   "metadata": {},
   "outputs": [],
   "source": [
    "def run_model(sim):\n",
    "    if config.runModel:\n",
    "        success, buff = sim.run_simulation(silent=True)\n",
    "        if not success:\n",
    "            print(buff)\n",
    "        return success"
   ]
  },
  {
   "cell_type": "code",
   "execution_count": null,
   "metadata": {},
   "outputs": [],
   "source": [
    "def plot_results(sim):\n",
    "    if config.plotModel:\n",
    "        spn.set_map_specifications()\n",
    "        sim_name = sim.name\n",
    "        sim_ws = os.path.join(ws, sim_name)\n",
    "        gwf = sim.get_model(sim_name)\n",
    "        fpth = gwf.oc.head_filerecord.get_data()[0][0]\n",
    "        fpth = os.path.join(sim_ws, fpth)\n",
    "        hobj = flopy.utils.HeadFile(fpth)\n",
    "\n",
    "        # Create figure for scenario 1\n",
    "        fig, axs = plt.subplots(1, 1, figsize=figure_size,\n",
    "                                dpi=300, tight_layout=True)\n",
    "        fmp = flopy.plot.PlotMapView(model=gwf, ax=axs)\n",
    "        fmp.plot_grid(lw=0.5)\n",
    "        fmp.plot_array(hobj.get_data())\n",
    "        title = \"Recharge rate = \" + \\\n",
    "                \"{} {}/{}\".format(parameters[sim_name][\"recharge\"],\n",
    "                                  length_units, time_units)\n",
    "        axs.set_title(title)\n",
    "\n",
    "        # save figure\n",
    "        if config.plotSave:\n",
    "            fpth = os.path.join(\"..\", \"figures\",\n",
    "                                \"{}{}\".format(sim_name, figure_ext))\n",
    "            fig.savefig(fpth)"
   ]
  },
  {
   "cell_type": "code",
   "execution_count": null,
   "metadata": {},
   "outputs": [],
   "source": [
    "def scenario(idx):\n",
    "    key = list(parameters.keys())[idx]\n",
    "    parameter_dict = parameters[key]\n",
    "    sim = build_model(key, **parameter_dict)\n",
    "    write_model(sim)\n",
    "    success = run_model(sim)\n",
    "    if success:\n",
    "        plot_results(sim)"
   ]
  },
  {
   "cell_type": "markdown",
   "metadata": {},
   "source": [
    "Scenario 1"
   ]
  },
  {
   "cell_type": "code",
   "execution_count": null,
   "metadata": {},
   "outputs": [],
   "source": [
    "scenario(0)"
   ]
  },
  {
   "cell_type": "markdown",
   "metadata": {},
   "source": [
    "Scenario 2"
   ]
  },
  {
   "cell_type": "code",
   "execution_count": null,
   "metadata": {},
   "outputs": [],
   "source": [
    "scenario(1)"
   ]
  }
 ],
 "metadata": {
  "kernelspec": {
   "display_name": "Python 3",
   "language": "python",
   "name": "python3"
  },
  "language_info": {
   "codemirror_mode": {
    "name": "ipython",
    "version": 3
   },
   "file_extension": ".py",
   "mimetype": "text/x-python",
   "name": "python",
   "nbconvert_exporter": "python",
   "pygments_lexer": "ipython3",
   "version": "3.7.7"
  }
 },
 "nbformat": 4,
 "nbformat_minor": 2
}
