{
 "cells": [
  {
   "cell_type": "markdown",
   "id": "73dd5933",
   "metadata": {
    "lines_to_next_cell": 2
   },
   "source": [
    "## One-Dimensional Steady Flow with Transport\n",
    "\n",
    "MT3DMS Problem 2\n",
    "\n"
   ]
  },
  {
   "cell_type": "markdown",
   "id": "cee401f6",
   "metadata": {},
   "source": [
    "### One-Dimensional Steady Flow with Transport Problem Setup"
   ]
  },
  {
   "cell_type": "markdown",
   "id": "5906c077",
   "metadata": {},
   "source": [
    "Imports"
   ]
  },
  {
   "cell_type": "code",
   "execution_count": null,
   "id": "a9581a9d",
   "metadata": {},
   "outputs": [],
   "source": [
    "import os\n",
    "import sys"
   ]
  },
  {
   "cell_type": "code",
   "execution_count": null,
   "id": "e532f890",
   "metadata": {},
   "outputs": [],
   "source": [
    "import flopy\n",
    "import matplotlib.pyplot as plt\n",
    "import numpy as np"
   ]
  },
  {
   "cell_type": "markdown",
   "id": "7fcb7777",
   "metadata": {},
   "source": [
    "Append to system path to include the common subdirectory"
   ]
  },
  {
   "cell_type": "code",
   "execution_count": null,
   "id": "27f36170",
   "metadata": {},
   "outputs": [],
   "source": [
    "sys.path.append(os.path.join(\"..\", \"common\"))"
   ]
  },
  {
   "cell_type": "markdown",
   "id": "f19d538d",
   "metadata": {},
   "source": [
    "Import common functionality"
   ]
  },
  {
   "cell_type": "code",
   "execution_count": null,
   "id": "f4643052",
   "metadata": {},
   "outputs": [],
   "source": [
    "import analytical\n",
    "import config\n",
    "from figspecs import USGSFigure"
   ]
  },
  {
   "cell_type": "code",
   "execution_count": null,
   "id": "2defba86",
   "metadata": {},
   "outputs": [],
   "source": [
    "mf6exe = \"mf6\""
   ]
  },
  {
   "cell_type": "markdown",
   "id": "12be02ac",
   "metadata": {},
   "source": [
    "Set figure properties specific to this problem"
   ]
  },
  {
   "cell_type": "code",
   "execution_count": null,
   "id": "d2c07941",
   "metadata": {},
   "outputs": [],
   "source": [
    "figure_size = (5, 3)"
   ]
  },
  {
   "cell_type": "markdown",
   "id": "c3cf6340",
   "metadata": {},
   "source": [
    "Base simulation and model name and workspace"
   ]
  },
  {
   "cell_type": "code",
   "execution_count": null,
   "id": "9e3a34bf",
   "metadata": {},
   "outputs": [],
   "source": [
    "ws = config.base_ws\n",
    "example_name = \"ex-gwt-mt3dms-p02\""
   ]
  },
  {
   "cell_type": "markdown",
   "id": "5a429a1a",
   "metadata": {},
   "source": [
    "Scenario parameters - make sure there is at least one blank line before next item"
   ]
  },
  {
   "cell_type": "code",
   "execution_count": null,
   "id": "bd954e14",
   "metadata": {},
   "outputs": [],
   "source": [
    "parameters = {\n",
    "    \"ex-gwt-mt3dms-p02a\": {\n",
    "        \"sorption\": \"freundlich\",\n",
    "        \"Kf\": 0.3,\n",
    "        \"a\": 0.7,\n",
    "    },\n",
    "    \"ex-gwt-mt3dms-p02b\": {\n",
    "        \"sorption\": \"langmuir\",\n",
    "        \"Kl\": 100.0,\n",
    "        \"S\": 0.003,\n",
    "    },\n",
    "    \"ex-gwt-mt3dms-p02c\": {\n",
    "        \"beta\": 0.0,\n",
    "    },\n",
    "    \"ex-gwt-mt3dms-p02d\": {\n",
    "        \"beta\": 0.002,\n",
    "    },\n",
    "    \"ex-gwt-mt3dms-p02e\": {\n",
    "        \"beta\": 0.01,\n",
    "    },\n",
    "    \"ex-gwt-mt3dms-p02f\": {\n",
    "        \"beta\": 20.0,\n",
    "    },\n",
    "}"
   ]
  },
  {
   "cell_type": "markdown",
   "id": "3e0b0c54",
   "metadata": {},
   "source": [
    "Scenario parameter units - make sure there is at least one blank line before next item\n",
    "add parameter_units to add units to the scenario parameter table"
   ]
  },
  {
   "cell_type": "code",
   "execution_count": null,
   "id": "f092aecc",
   "metadata": {},
   "outputs": [],
   "source": [
    "parameter_units = {\n",
    "    \"beta\": \"$s^{-1}$\",\n",
    "    \"sorption\": \"text string\",\n",
    "    \"Kf\": r\"$\\mu g L g^{} mg^{-1}$\",\n",
    "    \"a\": \"unitless\",\n",
    "    \"Kl\": \"$L mg^{-1}$\",\n",
    "    \"S\": r\"$\\mu g g^{-1}$\",\n",
    "}"
   ]
  },
  {
   "cell_type": "markdown",
   "id": "be376107",
   "metadata": {},
   "source": [
    "Model units"
   ]
  },
  {
   "cell_type": "code",
   "execution_count": null,
   "id": "3ce7c144",
   "metadata": {},
   "outputs": [],
   "source": [
    "length_units = \"centimeters\"\n",
    "time_units = \"seconds\""
   ]
  },
  {
   "cell_type": "markdown",
   "id": "41a816ee",
   "metadata": {},
   "source": [
    "Table of model parameters"
   ]
  },
  {
   "cell_type": "code",
   "execution_count": null,
   "id": "4db75ac2",
   "metadata": {},
   "outputs": [],
   "source": [
    "nper = 2  # Number of periods\n",
    "nlay = 1  # Number of layers\n",
    "nrow = 1  # Number of rows\n",
    "ncol = 101  # Number of columns\n",
    "period1 = 160  # Length of period 1 ($s$)\n",
    "period2 = 1340  # Length of period 2 ($s$)\n",
    "delta_time = 1.0  # Length of time steps ($s$)\n",
    "delr = 0.16  # Column width ($cm$)\n",
    "delc = 0.16  # Row width ($cm$)\n",
    "top = 1.0  # Top of the model ($cm$)\n",
    "botm = 0  # Layer bottom elevation ($cm$)\n",
    "velocity = 0.1  # Velocity ($cm s^{-1}$)\n",
    "hydraulic_conductivity = 0.01  # Hydraulic conductivity ($cm s^{-1}$)\n",
    "porosity = 0.37  # Porosity of mobile domain (unitless)\n",
    "bulk_density = 1.587  # Bulk density ($g cm^{-3}$)\n",
    "distribution_coefficient = 0.933  # Distribution coefficient ($cm^3 g^{-1}$)\n",
    "dispersivity = 1.0  # Longitudinal dispersivity ($cm$)\n",
    "source_concentration = 0.05  # Source concentration (unitless)\n",
    "initial_concentration = 0.0  # Initial concentration (unitless)"
   ]
  },
  {
   "cell_type": "code",
   "execution_count": null,
   "id": "db9ac0dc",
   "metadata": {},
   "outputs": [],
   "source": [
    "specific_discharge = velocity * porosity\n",
    "inflow_rate = specific_discharge * delc * (top - botm)\n",
    "system_length = ncol * delr"
   ]
  },
  {
   "cell_type": "markdown",
   "id": "748f252f",
   "metadata": {
    "lines_to_next_cell": 2
   },
   "source": [
    "### Functions to build, write, run, and plot models\n",
    "\n",
    "MODFLOW 6 flopy GWF simulation object (sim) is returned\n"
   ]
  },
  {
   "cell_type": "code",
   "execution_count": null,
   "id": "bb74eb31",
   "metadata": {
    "lines_to_next_cell": 2
   },
   "outputs": [],
   "source": [
    "def build_mf6gwf(sim_folder):\n",
    "    print(f\"Building mf6gwf model...{sim_folder}\")\n",
    "    name = \"flow\"\n",
    "    sim_ws = os.path.join(ws, sim_folder, \"mf6gwf\")\n",
    "    sim = flopy.mf6.MFSimulation(sim_name=name, sim_ws=sim_ws, exe_name=\"mf6\")\n",
    "    tdis_ds = (\n",
    "        (period1, int(period1 / delta_time), 1.0),\n",
    "        (period2, int(period2 / delta_time), 1.0),\n",
    "    )\n",
    "    flopy.mf6.ModflowTdis(\n",
    "        sim, nper=nper, perioddata=tdis_ds, time_units=time_units\n",
    "    )\n",
    "    htol = 1.0e-8\n",
    "    flopy.mf6.ModflowIms(\n",
    "        sim, print_option=\"summary\", outer_dvclose=htol, inner_dvclose=htol\n",
    "    )\n",
    "    gwf = flopy.mf6.ModflowGwf(sim, modelname=name, save_flows=True)\n",
    "    flopy.mf6.ModflowGwfdis(\n",
    "        gwf,\n",
    "        length_units=length_units,\n",
    "        nlay=nlay,\n",
    "        nrow=nrow,\n",
    "        ncol=ncol,\n",
    "        delr=delr,\n",
    "        delc=delc,\n",
    "        top=top,\n",
    "        botm=botm,\n",
    "    )\n",
    "    flopy.mf6.ModflowGwfnpf(\n",
    "        gwf,\n",
    "        save_specific_discharge=True,\n",
    "        save_saturation=True,\n",
    "        icelltype=0,\n",
    "        k=hydraulic_conductivity,\n",
    "    )\n",
    "    flopy.mf6.ModflowGwfic(gwf, strt=1.0)\n",
    "    flopy.mf6.ModflowGwfchd(gwf, stress_period_data=[[(0, 0, ncol - 1), 1.0]])\n",
    "    wel_spd = {\n",
    "        0: [\n",
    "            [\n",
    "                (0, 0, 0),\n",
    "                inflow_rate,\n",
    "                source_concentration,\n",
    "            ]\n",
    "        ],\n",
    "        1: [\n",
    "            [\n",
    "                (0, 0, 0),\n",
    "                inflow_rate,\n",
    "                0.0,\n",
    "            ]\n",
    "        ],\n",
    "    }\n",
    "    flopy.mf6.ModflowGwfwel(\n",
    "        gwf,\n",
    "        stress_period_data=wel_spd,\n",
    "        pname=\"WEL-1\",\n",
    "        auxiliary=[\"CONCENTRATION\"],\n",
    "    )\n",
    "    head_filerecord = f\"{name}.hds\"\n",
    "    budget_filerecord = f\"{name}.bud\"\n",
    "    flopy.mf6.ModflowGwfoc(\n",
    "        gwf,\n",
    "        head_filerecord=head_filerecord,\n",
    "        budget_filerecord=budget_filerecord,\n",
    "        saverecord=[(\"HEAD\", \"ALL\"), (\"BUDGET\", \"ALL\")],\n",
    "    )\n",
    "    return sim"
   ]
  },
  {
   "cell_type": "markdown",
   "id": "8159894d",
   "metadata": {
    "lines_to_next_cell": 2
   },
   "source": [
    "MODFLOW 6 flopy GWF simulation object (sim) is returned"
   ]
  },
  {
   "cell_type": "code",
   "execution_count": null,
   "id": "105702af",
   "metadata": {},
   "outputs": [],
   "source": [
    "def build_mf6gwt(\n",
    "    sim_folder, sorption=None, Kf=None, a=None, Kl=None, S=None, beta=None\n",
    "):\n",
    "    print(f\"Building mf6gwt model...{sim_folder}\")\n",
    "    name = \"trans\"\n",
    "    sim_ws = os.path.join(ws, sim_folder, \"mf6gwt\")\n",
    "    sim = flopy.mf6.MFSimulation(sim_name=name, sim_ws=sim_ws, exe_name=\"mf6\")\n",
    "    tdis_ds = (\n",
    "        (period1, int(period1 / delta_time), 1.0),\n",
    "        (period2, int(period2 / delta_time), 1.0),\n",
    "    )\n",
    "    flopy.mf6.ModflowTdis(\n",
    "        sim, nper=nper, perioddata=tdis_ds, time_units=time_units\n",
    "    )\n",
    "    ctol = 1.0e-8\n",
    "    flopy.mf6.ModflowIms(\n",
    "        sim,\n",
    "        linear_acceleration=\"bicgstab\",\n",
    "        print_option=\"summary\",\n",
    "        outer_dvclose=ctol,\n",
    "        inner_dvclose=ctol,\n",
    "    )\n",
    "    gwt = flopy.mf6.ModflowGwt(sim, modelname=name, save_flows=True)\n",
    "    flopy.mf6.ModflowGwtdis(\n",
    "        gwt,\n",
    "        length_units=length_units,\n",
    "        nlay=nlay,\n",
    "        nrow=nrow,\n",
    "        ncol=ncol,\n",
    "        delr=delr,\n",
    "        delc=delc,\n",
    "        top=top,\n",
    "        botm=botm,\n",
    "    )\n",
    "    flopy.mf6.ModflowGwtic(gwt, strt=initial_concentration)\n",
    "    distcoef = None\n",
    "    if Kf is not None:\n",
    "        distcoef = Kf\n",
    "    if Kl is not None:\n",
    "        distcoef = Kl\n",
    "    sp2 = None\n",
    "    if a is not None:\n",
    "        sp2 = a\n",
    "    if S is not None:\n",
    "        sp2 = S\n",
    "    volfracim = 0.0\n",
    "    if beta is not None:\n",
    "        if beta > 0:\n",
    "            volfracim = bulk_density / (bulk_density + porosity)\n",
    "\n",
    "    flopy.mf6.ModflowGwtmst(\n",
    "        gwt,\n",
    "        porosity=porosity / (1.0 - volfracim),\n",
    "        bulk_density=bulk_density if sorption else None,\n",
    "        sorption=sorption,\n",
    "        distcoef=distcoef,\n",
    "        sp2=sp2,\n",
    "    )\n",
    "    flopy.mf6.ModflowGwtadv(gwt, scheme=\"UPSTREAM\")\n",
    "    flopy.mf6.ModflowGwtdsp(\n",
    "        gwt, xt3d_off=True, alh=dispersivity, ath1=dispersivity\n",
    "    )\n",
    "    if beta is not None:\n",
    "        if beta > 0:\n",
    "            porosity_im = bulk_density / volfracim\n",
    "            flopy.mf6.ModflowGwtist(\n",
    "                gwt, volfrac=volfracim, porosity=porosity_im, zetaim=beta\n",
    "            )\n",
    "    pd = [\n",
    "        (\"GWFHEAD\", f\"../mf6gwf/flow.hds\", None),\n",
    "        (\"GWFBUDGET\", \"../mf6gwf/flow.bud\", None),\n",
    "    ]\n",
    "    flopy.mf6.ModflowGwtfmi(gwt, packagedata=pd)\n",
    "    sourcerecarray = [[\"WEL-1\", \"AUX\", \"CONCENTRATION\"]]\n",
    "    flopy.mf6.ModflowGwtssm(gwt, sources=sourcerecarray)\n",
    "    obs_data = {\n",
    "        f\"{name}.obs.csv\": [\n",
    "            (\"X008\", \"CONCENTRATION\", (0, 0, 50)),\n",
    "        ],\n",
    "    }\n",
    "    obs_package = flopy.mf6.ModflowUtlobs(\n",
    "        gwt, digits=10, print_input=True, continuous=obs_data\n",
    "    )\n",
    "    flopy.mf6.ModflowGwtoc(\n",
    "        gwt,\n",
    "        budget_filerecord=f\"{name}.cbc\",\n",
    "        concentration_filerecord=f\"{name}.ucn\",\n",
    "        saverecord=[(\"CONCENTRATION\", \"ALL\"), (\"BUDGET\", \"LAST\")],\n",
    "        printrecord=[(\"CONCENTRATION\", \"LAST\"), (\"BUDGET\", \"LAST\")],\n",
    "    )\n",
    "    return sim"
   ]
  },
  {
   "cell_type": "code",
   "execution_count": null,
   "id": "a4bfaf85",
   "metadata": {},
   "outputs": [],
   "source": [
    "def build_mf2005(sim_folder):\n",
    "    print(f\"Building mf2005 model...{sim_folder}\")\n",
    "    name = \"flow\"\n",
    "    sim_ws = os.path.join(ws, sim_folder, \"mf2005\")\n",
    "    mf = flopy.modflow.Modflow(\n",
    "        modelname=name, model_ws=sim_ws, exe_name=\"mf2005\"\n",
    "    )\n",
    "    perlen = [period1, period2]\n",
    "    dis = flopy.modflow.ModflowDis(\n",
    "        mf,\n",
    "        nlay=nlay,\n",
    "        nrow=nrow,\n",
    "        ncol=ncol,\n",
    "        delr=delr,\n",
    "        delc=delc,\n",
    "        top=top,\n",
    "        botm=botm,\n",
    "        nper=nper,\n",
    "        perlen=perlen,\n",
    "    )\n",
    "    bas = flopy.modflow.ModflowBas(mf)\n",
    "    lpf = flopy.modflow.ModflowLpf(mf, hk=hydraulic_conductivity)\n",
    "    pcg = flopy.modflow.ModflowPcg(mf)\n",
    "    lmt = flopy.modflow.ModflowLmt(mf)\n",
    "\n",
    "    chdspd = [[0, 0, ncol - 1, 1.0, 1.0]]\n",
    "    chd = flopy.modflow.ModflowChd(mf, stress_period_data=chdspd)\n",
    "\n",
    "    q = inflow_rate\n",
    "    welspd = [[0, 0, 0, q]]\n",
    "    wel = flopy.modflow.ModflowWel(mf, stress_period_data=welspd)\n",
    "    return mf"
   ]
  },
  {
   "cell_type": "code",
   "execution_count": null,
   "id": "a8de2b7f",
   "metadata": {},
   "outputs": [],
   "source": [
    "def build_mt3dms(\n",
    "    sim_folder,\n",
    "    modflowmodel,\n",
    "    sorption=None,\n",
    "    Kf=None,\n",
    "    a=None,\n",
    "    Kl=None,\n",
    "    S=None,\n",
    "    beta=None,\n",
    "):\n",
    "    print(f\"Building mt3dms model...{sim_folder}\")\n",
    "    name = \"trans\"\n",
    "    sim_ws = os.path.join(ws, sim_folder, \"mt3d\")\n",
    "    mt = flopy.mt3d.Mt3dms(\n",
    "        modelname=name,\n",
    "        model_ws=sim_ws,\n",
    "        exe_name=\"mt3dms\",\n",
    "        modflowmodel=modflowmodel,\n",
    "        ftlfilename=\"../mf2005/mt3d_link.ftl\",\n",
    "    )\n",
    "    dt0 = delta_time\n",
    "    btn = flopy.mt3d.Mt3dBtn(\n",
    "        mt, laycon=0, prsity=porosity, dt0=dt0, ifmtcn=1, obs=[(0, 0, 50)]\n",
    "    )\n",
    "    adv = flopy.mt3d.Mt3dAdv(mt, mixelm=0)\n",
    "    dsp = flopy.mt3d.Mt3dDsp(mt, al=dispersivity)\n",
    "    if beta is not None:\n",
    "        isothm = 4\n",
    "        sp1 = distribution_coefficient\n",
    "        sp2 = beta\n",
    "    if Kf is not None:\n",
    "        isothm = 2\n",
    "        sp1 = Kf\n",
    "        sp2 = a\n",
    "    if Kl is not None:\n",
    "        isothm = 3\n",
    "        sp1 = Kl\n",
    "        sp2 = S\n",
    "    rct = flopy.mt3d.Mt3dRct(\n",
    "        mt, isothm=isothm, igetsc=0, rhob=bulk_density, sp1=sp1, sp2=sp2\n",
    "    )\n",
    "\n",
    "    ssmspd = {}\n",
    "    ssmspd[0] = [[0, 0, 0, source_concentration, 2]]\n",
    "    ssmspd[1] = [[0, 0, 0, 0.0, 2]]\n",
    "    ssm = flopy.mt3d.Mt3dSsm(mt, mxss=2, stress_period_data=ssmspd)\n",
    "    gcg = flopy.mt3d.Mt3dGcg(mt, cclose=1.0e-8)\n",
    "    return mt"
   ]
  },
  {
   "cell_type": "code",
   "execution_count": null,
   "id": "957de71a",
   "metadata": {
    "lines_to_next_cell": 2
   },
   "outputs": [],
   "source": [
    "def build_model(sim_name, **kwargs):\n",
    "    sims = None\n",
    "    if config.buildModel:\n",
    "        sim_mf6gwf = build_mf6gwf(sim_name)\n",
    "        sim_mf6gwt = build_mf6gwt(sim_name, **kwargs)\n",
    "        sim_mf2005 = build_mf2005(sim_name)\n",
    "        sim_mt3dms = build_mt3dms(sim_name, sim_mf2005, **kwargs)\n",
    "        sims = (sim_mf6gwf, sim_mf6gwt, sim_mf2005, sim_mt3dms)\n",
    "    return sims"
   ]
  },
  {
   "cell_type": "markdown",
   "id": "808ad1ef",
   "metadata": {
    "lines_to_next_cell": 2
   },
   "source": [
    "Function to write model files"
   ]
  },
  {
   "cell_type": "code",
   "execution_count": null,
   "id": "c2ce191b",
   "metadata": {
    "lines_to_next_cell": 2
   },
   "outputs": [],
   "source": [
    "def write_model(sims, silent=True):\n",
    "    if config.writeModel:\n",
    "        sim_mf6gwf, sim_mf6gwt, sim_mf2005, sim_mt3dms = sims\n",
    "        sim_mf6gwf.write_simulation(silent=silent)\n",
    "        sim_mf6gwt.write_simulation(silent=silent)\n",
    "        sim_mf2005.write_input()\n",
    "        sim_mt3dms.write_input()\n",
    "    return"
   ]
  },
  {
   "cell_type": "markdown",
   "id": "0a157570",
   "metadata": {
    "lines_to_next_cell": 2
   },
   "source": [
    "Function to run the model\n",
    "True is returned if the model runs successfully"
   ]
  },
  {
   "cell_type": "code",
   "execution_count": null,
   "id": "c4cfa6fa",
   "metadata": {
    "lines_to_next_cell": 2
   },
   "outputs": [],
   "source": [
    "@config.timeit\n",
    "def run_model(sims, silent=True):\n",
    "    success = True\n",
    "    report = True\n",
    "    if config.runModel:\n",
    "        success = False\n",
    "        sim_mf6gwf, sim_mf6gwt, sim_mf2005, sim_mt3dms = sims\n",
    "        print(\"Running mf6gwf...\")\n",
    "        success, buff = sim_mf6gwf.run_simulation(silent=silent, report=report)\n",
    "        if not success:\n",
    "            print(buff)\n",
    "        print(\"Running mf6gwt...\")\n",
    "        success, buff = sim_mf6gwt.run_simulation(silent=silent, report=report)\n",
    "        if not success:\n",
    "            print(buff)\n",
    "        print(\"Running mf2005...\")\n",
    "        success, buff = sim_mf2005.run_model(silent=silent, report=report)\n",
    "        if not success:\n",
    "            print(buff)\n",
    "        print(\"Running mt3dms...\")\n",
    "        success, buff = sim_mt3dms.run_model(\n",
    "            silent=silent, normal_msg=\"Program completed\", report=report\n",
    "        )\n",
    "        if not success:\n",
    "            print(buff)\n",
    "    return success"
   ]
  },
  {
   "cell_type": "markdown",
   "id": "7fb7721a",
   "metadata": {
    "lines_to_next_cell": 2
   },
   "source": [
    "Function to plot the model results"
   ]
  },
  {
   "cell_type": "code",
   "execution_count": null,
   "id": "ab297c80",
   "metadata": {},
   "outputs": [],
   "source": [
    "def plot_results_ct(sims, idx, **kwargs):\n",
    "    if config.plotModel:\n",
    "        print(\"Plotting C versus t model results...\")\n",
    "        sim_mf6gwf, sim_mf6gwt, sim_mf2005, sim_mt3dms = sims\n",
    "        fs = USGSFigure(figure_type=\"graph\", verbose=False)\n",
    "\n",
    "        sim_ws = sim_mf6gwt.simulation_data.mfpath.get_sim_path()\n",
    "        mf6gwt_ra = sim_mf6gwt.get_model(\"trans\").obs.output.obs().data\n",
    "        fig, axs = plt.subplots(\n",
    "            1, 1, figsize=figure_size, dpi=300, tight_layout=True\n",
    "        )\n",
    "\n",
    "        sim_ws = sim_mt3dms.model_ws\n",
    "        fname = os.path.join(sim_ws, \"MT3D001.OBS\")\n",
    "        mt_ra = sim_mt3dms.load_obs(fname)\n",
    "        axs.plot(\n",
    "            mt_ra[\"time\"],\n",
    "            mt_ra[\"(1, 1, 51)\"] / source_concentration,\n",
    "            color=\"k\",\n",
    "            label=\"MT3DMS\",\n",
    "        )\n",
    "\n",
    "        axs.plot(\n",
    "            mf6gwt_ra[\"totim\"],\n",
    "            mf6gwt_ra[\"X008\"] / source_concentration,\n",
    "            ls=\"--\",\n",
    "            color=\"blue\",\n",
    "            # marker=\"o\",\n",
    "            # mec=\"blue\",\n",
    "            # mfc=\"none\",\n",
    "            # markersize=\"3\",\n",
    "            label=\"MODFLOW 6\",\n",
    "        )\n",
    "        axs.set_ylim(0.0, 1.0)\n",
    "        if idx == 0:\n",
    "            axs.set_ylim(0, 0.5)\n",
    "        if idx == 1:\n",
    "            axs.set_xlim(0, 500)\n",
    "        axs.set_xlabel(\"Time (seconds)\")\n",
    "        axs.set_ylabel(\"Normalized Concentration (unitless)\")\n",
    "        axs.legend()\n",
    "\n",
    "        # save figure\n",
    "        if config.plotSave:\n",
    "            sim_folder = os.path.split(sim_ws)[0]\n",
    "            sim_folder = os.path.basename(sim_folder)\n",
    "            fname = f\"{sim_folder}-ct{config.figure_ext}\"\n",
    "            fpth = os.path.join(ws, \"..\", \"figures\", fname)\n",
    "            fig.savefig(fpth)"
   ]
  },
  {
   "cell_type": "code",
   "execution_count": null,
   "id": "6e97e074",
   "metadata": {
    "lines_to_next_cell": 2
   },
   "outputs": [],
   "source": [
    "def plot_results():\n",
    "    if config.plotModel:\n",
    "        print(\"Plotting model results...\")\n",
    "\n",
    "        fs = USGSFigure(figure_type=\"graph\", verbose=False)\n",
    "        fig, axs = plt.subplots(\n",
    "            1, 1, figsize=figure_size, dpi=300, tight_layout=True\n",
    "        )\n",
    "\n",
    "        case_colors = [\"blue\", \"green\", \"red\", \"yellow\"]\n",
    "        pkeys = list(parameters.keys())\n",
    "        for icase, sim_name in enumerate(pkeys[2:]):\n",
    "            sim_ws = os.path.join(ws, sim_name)\n",
    "            beta = parameters[sim_name][\"beta\"]\n",
    "\n",
    "            fname = os.path.join(sim_ws, \"mf6gwt\", \"trans.obs.csv\")\n",
    "            mf6gwt_ra = flopy.utils.Mf6Obs(fname).data\n",
    "            mf6conc = mf6gwt_ra[\"X008\"] / source_concentration\n",
    "            iskip = 20\n",
    "            axs.plot(\n",
    "                mf6gwt_ra[\"totim\"][::iskip],\n",
    "                mf6conc[::iskip],\n",
    "                markerfacecolor=\"None\",\n",
    "                markeredgecolor=\"k\",\n",
    "                marker=\"o\",\n",
    "                markersize=\"3\",\n",
    "                linestyle=\"None\",\n",
    "            )\n",
    "\n",
    "            fname = os.path.join(sim_ws, \"mt3d\", \"MT3D001.OBS\")\n",
    "            mt3dms_ra = flopy.mt3d.Mt3dms.load_obs(fname)\n",
    "            axs.plot(\n",
    "                mt3dms_ra[\"time\"],\n",
    "                mt3dms_ra[\"(1, 1, 51)\"] / source_concentration,\n",
    "                color=case_colors[icase],\n",
    "                label=f\"beta {beta}\",\n",
    "            )\n",
    "\n",
    "        axs.set_ylim(0, 1)\n",
    "        axs.set_xlabel(\"Time (days)\")\n",
    "        axs.set_ylabel(\"Normalized Concentration (unitless)\")\n",
    "        axs.legend()\n",
    "\n",
    "        # save figure\n",
    "        if config.plotSave:\n",
    "            fname = f\"{example_name}{config.figure_ext}\"\n",
    "            fpth = os.path.join(\"..\", \"figures\", fname)\n",
    "            fig.savefig(fpth)\n",
    "    return"
   ]
  },
  {
   "cell_type": "markdown",
   "id": "5ebde352",
   "metadata": {
    "lines_to_next_cell": 2
   },
   "source": [
    "Function that wraps all of the steps for each scenario\n",
    "\n",
    "1. build_model,\n",
    "2. write_model,\n",
    "3. run_model, and\n",
    "4. plot_results.\n"
   ]
  },
  {
   "cell_type": "code",
   "execution_count": null,
   "id": "efec4225",
   "metadata": {},
   "outputs": [],
   "source": [
    "def scenario(idx, silent=True):\n",
    "    key = list(parameters.keys())[idx]\n",
    "    parameter_dict = parameters[key]\n",
    "    sims = build_model(key, **parameter_dict)\n",
    "    write_model(sims, silent=silent)\n",
    "    success = run_model(sims, silent=silent)\n",
    "    if success:\n",
    "        plot_results_ct(sims, idx, **parameter_dict)"
   ]
  },
  {
   "cell_type": "code",
   "execution_count": null,
   "id": "bcd0aaec",
   "metadata": {},
   "outputs": [],
   "source": [
    "# nosetest - exclude block from this nosetest to the next nosetest\n",
    "def test_01():\n",
    "    scenario(0, silent=False)"
   ]
  },
  {
   "cell_type": "code",
   "execution_count": null,
   "id": "f7ef5524",
   "metadata": {},
   "outputs": [],
   "source": [
    "def test_02():\n",
    "    scenario(1, silent=False)"
   ]
  },
  {
   "cell_type": "code",
   "execution_count": null,
   "id": "f16169e2",
   "metadata": {},
   "outputs": [],
   "source": [
    "def test_03():\n",
    "    scenario(2, silent=False)"
   ]
  },
  {
   "cell_type": "code",
   "execution_count": null,
   "id": "e2ecfb0f",
   "metadata": {},
   "outputs": [],
   "source": [
    "def test_04():\n",
    "    scenario(3, silent=False)"
   ]
  },
  {
   "cell_type": "code",
   "execution_count": null,
   "id": "e831220f",
   "metadata": {},
   "outputs": [],
   "source": [
    "def test_05():\n",
    "    scenario(4, silent=False)"
   ]
  },
  {
   "cell_type": "code",
   "execution_count": null,
   "id": "b8b922f4",
   "metadata": {},
   "outputs": [],
   "source": [
    "def test_06():\n",
    "    scenario(5, silent=False)"
   ]
  },
  {
   "cell_type": "code",
   "execution_count": null,
   "id": "822c1bf2",
   "metadata": {},
   "outputs": [],
   "source": [
    "def test_plot_results():\n",
    "    plot_results()"
   ]
  },
  {
   "cell_type": "markdown",
   "id": "402e11e4",
   "metadata": {},
   "source": [
    "nosetest end"
   ]
  },
  {
   "cell_type": "code",
   "execution_count": null,
   "id": "aab00131",
   "metadata": {},
   "outputs": [],
   "source": [
    "if __name__ == \"__main__\":\n",
    "    # ### Simulated Zero-Order Growth in a Uniform Flow Field\n",
    "\n",
    "    # Scenario 1 - description\n",
    "\n",
    "    scenario(0)\n",
    "\n",
    "    # Scenario 2 - description\n",
    "\n",
    "    scenario(1)\n",
    "\n",
    "    # Scenario 3 - description\n",
    "\n",
    "    scenario(2)\n",
    "\n",
    "    # Scenario 4 - description\n",
    "\n",
    "    scenario(3)\n",
    "\n",
    "    # Scenario 5 - description\n",
    "\n",
    "    scenario(4)\n",
    "\n",
    "    # Scenario 6 - description\n",
    "\n",
    "    scenario(5)\n",
    "\n",
    "    # Plot All Results\n",
    "    plot_results()"
   ]
  }
 ],
 "metadata": {
  "jupytext": {
   "cell_metadata_filter": "-all",
   "main_language": "python",
   "notebook_metadata_filter": "-all"
  }
 },
 "nbformat": 4,
 "nbformat_minor": 5
}
