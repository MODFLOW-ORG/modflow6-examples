{
 "cells": [
  {
   "cell_type": "markdown",
   "id": "e6177858",
   "metadata": {},
   "source": [
    "## Whirl example\n",
    "\n",
    "This is a 10 layer steady-state problem involving anisotropic groundwater\n",
    "flow.  The XT3D formulation is used to represent variable hydraulic\n",
    "conductivitity ellipsoid orientations.  The resulting flow pattern consists\n",
    "of groundwater whirls, as described in the XT3D documentation report.\n"
   ]
  },
  {
   "cell_type": "markdown",
   "id": "a66e82bf",
   "metadata": {},
   "source": [
    "### Whirl Problem Setup\n",
    "\n",
    "Imports"
   ]
  },
  {
   "cell_type": "code",
   "execution_count": null,
   "id": "1ed490f5",
   "metadata": {},
   "outputs": [],
   "source": [
    "import os\n",
    "import sys"
   ]
  },
  {
   "cell_type": "code",
   "execution_count": null,
   "id": "8396e2aa",
   "metadata": {},
   "outputs": [],
   "source": [
    "import flopy\n",
    "import matplotlib.pyplot as plt\n",
    "import numpy as np"
   ]
  },
  {
   "cell_type": "markdown",
   "id": "46d64584",
   "metadata": {},
   "source": [
    "Append to system path to include the common subdirectory"
   ]
  },
  {
   "cell_type": "code",
   "execution_count": null,
   "id": "32e0ab80",
   "metadata": {},
   "outputs": [],
   "source": [
    "sys.path.append(os.path.join(\"..\", \"common\"))"
   ]
  },
  {
   "cell_type": "markdown",
   "id": "8891246f",
   "metadata": {},
   "source": [
    "import common functionality"
   ]
  },
  {
   "cell_type": "code",
   "execution_count": null,
   "id": "2ab56a19",
   "metadata": {},
   "outputs": [],
   "source": [
    "import config\n",
    "from figspecs import USGSFigure"
   ]
  },
  {
   "cell_type": "markdown",
   "id": "dfa0c576",
   "metadata": {},
   "source": [
    "Set default figure properties"
   ]
  },
  {
   "cell_type": "code",
   "execution_count": null,
   "id": "35b2b7e3",
   "metadata": {},
   "outputs": [],
   "source": [
    "figure_size = (3.5, 3.5)"
   ]
  },
  {
   "cell_type": "markdown",
   "id": "9a45c4de",
   "metadata": {},
   "source": [
    "Base simulation and model name and workspace"
   ]
  },
  {
   "cell_type": "code",
   "execution_count": null,
   "id": "f9f25a44",
   "metadata": {},
   "outputs": [],
   "source": [
    "sim_name = \"ex-gwf-whirl\"\n",
    "ws = config.base_ws"
   ]
  },
  {
   "cell_type": "markdown",
   "id": "cc245ce2",
   "metadata": {},
   "source": [
    "Model units"
   ]
  },
  {
   "cell_type": "code",
   "execution_count": null,
   "id": "8ba7345c",
   "metadata": {},
   "outputs": [],
   "source": [
    "length_units = \"meters\"\n",
    "time_units = \"days\""
   ]
  },
  {
   "cell_type": "markdown",
   "id": "3fa6cde2",
   "metadata": {},
   "source": [
    "Scenario parameters"
   ]
  },
  {
   "cell_type": "markdown",
   "id": "50b28730",
   "metadata": {},
   "source": [
    "Table Whirl Model Parameters"
   ]
  },
  {
   "cell_type": "code",
   "execution_count": null,
   "id": "11ffda67",
   "metadata": {},
   "outputs": [],
   "source": [
    "nper = 1  # Number of periods\n",
    "nlay = 10  # Number of layers\n",
    "nrow = 10  # Number of rows\n",
    "ncol = 51  # Number of columns\n",
    "delr = 100.0  # Spacing along rows ($m$)\n",
    "delc = 100.0  # Spacing along columns ($m$)\n",
    "top = 0.0  # Top of the model ($m$)\n",
    "botm_str = \"-100, -200, -300, -400, -500, -600, -700, -800, -900, -1000\"  # Layer bottom elevations ($m$)\n",
    "strt = 0.0  # Starting head ($m$)\n",
    "icelltype = 0  # Cell conversion type\n",
    "k11 = 1.0  # Hydraulic conductivity in the 11 direction ($m/d$)\n",
    "k22 = 0.1  # Hydraulic conductivity in the 22 direction ($m/d$)\n",
    "k33 = 1.0  # Hydraulic conductivity in the 33 direction ($m/d$)\n",
    "angle1_str = \"45, 45, 45, 45, 45, -45, -45, -45, -45, -45\"  # Rotation of the hydraulic conductivity ellipsoid in the x-y plane\n",
    "inflow_rate = 0.01  # Inflow rate ($m^3/d$)"
   ]
  },
  {
   "cell_type": "markdown",
   "id": "d5a565fe",
   "metadata": {},
   "source": [
    "Static temporal data used by TDIS file\n",
    "Simulation has 1 steady stress period (1 day)"
   ]
  },
  {
   "cell_type": "code",
   "execution_count": null,
   "id": "eb369c7d",
   "metadata": {},
   "outputs": [],
   "source": [
    "perlen = [1.0]\n",
    "nstp = [1]\n",
    "tsmult = [1.0]\n",
    "tdis_ds = list(zip(perlen, nstp, tsmult))"
   ]
  },
  {
   "cell_type": "markdown",
   "id": "73ae9db1",
   "metadata": {},
   "source": [
    "Parse strings into lists"
   ]
  },
  {
   "cell_type": "code",
   "execution_count": null,
   "id": "34520b1f",
   "metadata": {},
   "outputs": [],
   "source": [
    "botm = [float(value) for value in botm_str.split(\",\")]\n",
    "angle1 = [float(value) for value in angle1_str.split(\",\")]"
   ]
  },
  {
   "cell_type": "code",
   "execution_count": null,
   "id": "f665a23e",
   "metadata": {},
   "outputs": [],
   "source": [
    "nouter = 50\n",
    "ninner = 100\n",
    "hclose = 1e-9\n",
    "rclose = 1e-6"
   ]
  },
  {
   "cell_type": "markdown",
   "id": "36e9cb49",
   "metadata": {
    "lines_to_next_cell": 2
   },
   "source": [
    "### Functions to build, write, run, and plot the MODFLOW 6 Whirl model\n",
    "\n",
    "MODFLOW 6 flopy simulation object (sim) is returned if building the model"
   ]
  },
  {
   "cell_type": "code",
   "execution_count": null,
   "id": "7a7b99e7",
   "metadata": {
    "lines_to_next_cell": 2
   },
   "outputs": [],
   "source": [
    "def build_model():\n",
    "    if config.buildModel:\n",
    "        sim_ws = os.path.join(ws, sim_name)\n",
    "        sim = flopy.mf6.MFSimulation(\n",
    "            sim_name=sim_name, sim_ws=sim_ws, exe_name=\"mf6\"\n",
    "        )\n",
    "        flopy.mf6.ModflowTdis(sim, nper=nper, perioddata=tdis_ds, time_units=time_units)\n",
    "        flopy.mf6.ModflowIms(\n",
    "            sim,\n",
    "            linear_acceleration=\"bicgstab\",\n",
    "            outer_maximum=nouter,\n",
    "            outer_dvclose=hclose,\n",
    "            inner_maximum=ninner,\n",
    "            inner_dvclose=hclose,\n",
    "            rcloserecord=f\"{rclose} strict\",\n",
    "        )\n",
    "        gwf = flopy.mf6.ModflowGwf(sim, modelname=sim_name, save_flows=True)\n",
    "        flopy.mf6.ModflowGwfdis(\n",
    "            gwf,\n",
    "            length_units=length_units,\n",
    "            nlay=nlay,\n",
    "            nrow=nrow,\n",
    "            ncol=ncol,\n",
    "            delr=delr,\n",
    "            delc=delc,\n",
    "            top=top,\n",
    "            botm=botm,\n",
    "        )\n",
    "        flopy.mf6.ModflowGwfnpf(\n",
    "            gwf,\n",
    "            icelltype=icelltype,\n",
    "            k=k11,\n",
    "            k22=k22,\n",
    "            k33=k33,\n",
    "            angle1=angle1,\n",
    "            save_specific_discharge=True,\n",
    "            xt3doptions=True,\n",
    "        )\n",
    "        flopy.mf6.ModflowGwfic(gwf, strt=strt)\n",
    "        rate = np.zeros((nlay, nrow, ncol), dtype=float)\n",
    "        rate[:, :, 0] = inflow_rate\n",
    "        rate[:, :, -1] = -inflow_rate\n",
    "        wellay, welrow, welcol = np.where(rate != 0.0)\n",
    "        wel_spd = [\n",
    "            ((k, i, j), rate[k, i, j]) for k, i, j in zip(wellay, welrow, welcol)\n",
    "        ]\n",
    "        wel_spd = {0: wel_spd}\n",
    "        flopy.mf6.ModflowGwfwel(\n",
    "            gwf,\n",
    "            stress_period_data=wel_spd,\n",
    "            pname=\"WEL\",\n",
    "        )\n",
    "        head_filerecord = f\"{sim_name}.hds\"\n",
    "        budget_filerecord = f\"{sim_name}.cbc\"\n",
    "        flopy.mf6.ModflowGwfoc(\n",
    "            gwf,\n",
    "            head_filerecord=head_filerecord,\n",
    "            budget_filerecord=budget_filerecord,\n",
    "            saverecord=[(\"HEAD\", \"ALL\"), (\"BUDGET\", \"ALL\")],\n",
    "        )\n",
    "        return sim\n",
    "    return None"
   ]
  },
  {
   "cell_type": "markdown",
   "id": "d23dad6c",
   "metadata": {
    "lines_to_next_cell": 2
   },
   "source": [
    "Function to write MODFLOW 6 Whirl model files"
   ]
  },
  {
   "cell_type": "code",
   "execution_count": null,
   "id": "3d84a5c3",
   "metadata": {
    "lines_to_next_cell": 2
   },
   "outputs": [],
   "source": [
    "def write_model(sim, silent=True):\n",
    "    if config.writeModel:\n",
    "        sim.write_simulation(silent=silent)"
   ]
  },
  {
   "cell_type": "markdown",
   "id": "f48adb3a",
   "metadata": {
    "lines_to_next_cell": 2
   },
   "source": [
    "Function to run the FHB model.\n",
    "True is returned if the model runs successfully\n"
   ]
  },
  {
   "cell_type": "code",
   "execution_count": null,
   "id": "553bcad6",
   "metadata": {
    "lines_to_next_cell": 2
   },
   "outputs": [],
   "source": [
    "@config.timeit\n",
    "def run_model(sim, silent=False):\n",
    "    success = True\n",
    "    if config.runModel:\n",
    "        success, buff = sim.run_simulation(silent=silent, report=True)\n",
    "        if not success:\n",
    "            print(buff)\n",
    "    return success"
   ]
  },
  {
   "cell_type": "markdown",
   "id": "4bc9b62b",
   "metadata": {
    "lines_to_next_cell": 2
   },
   "source": [
    "Function to plot the Whirl model results.\n"
   ]
  },
  {
   "cell_type": "code",
   "execution_count": null,
   "id": "7b1846f1",
   "metadata": {},
   "outputs": [],
   "source": [
    "def plot_spdis(sim):\n",
    "    fs = USGSFigure(figure_type=\"map\", verbose=False)\n",
    "    sim_ws = os.path.join(ws, sim_name)\n",
    "    gwf = sim.get_model(sim_name)\n",
    "\n",
    "    fig = plt.figure(figsize=figure_size)\n",
    "    fig.tight_layout()\n",
    "\n",
    "    # create MODFLOW 6 cell-by-cell budget object\n",
    "    qx, qy, qz = flopy.utils.postprocessing.get_specific_discharge(\n",
    "        gwf.output.budget().get_data(text=\"DATA-SPDIS\", totim=1.0)[0],\n",
    "        gwf,\n",
    "    )\n",
    "\n",
    "    ax = fig.add_subplot(1, 1, 1)\n",
    "    pxs = flopy.plot.PlotCrossSection(model=gwf, ax=ax, line={\"column\": 0})\n",
    "    pxs.plot_grid(linewidth=0.5)\n",
    "    pxs.plot_vector(qx, qy, qz, normalize=True)\n",
    "    ax.set_xlabel(\"y position (m)\")\n",
    "    ax.set_ylabel(\"z position (m)\")\n",
    "\n",
    "    # save figure\n",
    "    if config.plotSave:\n",
    "        fpth = os.path.join(\"..\", \"figures\", f\"{sim_name}-spdis{config.figure_ext}\")\n",
    "        fig.savefig(fpth)\n",
    "    return"
   ]
  },
  {
   "cell_type": "code",
   "execution_count": null,
   "id": "12af4a3b",
   "metadata": {
    "lines_to_next_cell": 2
   },
   "outputs": [],
   "source": [
    "def plot_results(sim, silent=True):\n",
    "    if config.plotModel:\n",
    "        plot_spdis(sim)\n",
    "    return"
   ]
  },
  {
   "cell_type": "markdown",
   "id": "416a8836",
   "metadata": {
    "lines_to_next_cell": 2
   },
   "source": [
    "Function that wraps all of the steps for the FHB model\n",
    "\n",
    "1. build_model,\n",
    "2. write_model,\n",
    "3. run_model, and\n",
    "4. plot_results.\n"
   ]
  },
  {
   "cell_type": "code",
   "execution_count": null,
   "id": "cd413a22",
   "metadata": {},
   "outputs": [],
   "source": [
    "def simulation(idx, silent=True):\n",
    "    sim = build_model()\n",
    "    write_model(sim, silent=silent)\n",
    "    success = run_model(sim, silent=silent)\n",
    "    if success:\n",
    "        plot_results(sim, silent=silent)"
   ]
  },
  {
   "cell_type": "code",
   "execution_count": null,
   "id": "9b9172ff",
   "metadata": {},
   "outputs": [],
   "source": [
    "# nosetest - exclude block from this nosetest to the next nosetest\n",
    "def test_01():\n",
    "    simulation(0, silent=False)"
   ]
  },
  {
   "cell_type": "markdown",
   "id": "d61cc002",
   "metadata": {},
   "source": [
    "nosetest end"
   ]
  },
  {
   "cell_type": "code",
   "execution_count": null,
   "id": "8c4282f8",
   "metadata": {},
   "outputs": [],
   "source": [
    "if __name__ == \"__main__\":\n",
    "    # ### Whirl Simulation\n",
    "    #\n",
    "    # Simulated heads in the Whirl model with anisotropy in x direction.\n",
    "\n",
    "    simulation(0)"
   ]
  }
 ],
 "metadata": {
  "jupytext": {
   "cell_metadata_filter": "-all",
   "main_language": "python",
   "notebook_metadata_filter": "-all"
  }
 },
 "nbformat": 4,
 "nbformat_minor": 5
}
