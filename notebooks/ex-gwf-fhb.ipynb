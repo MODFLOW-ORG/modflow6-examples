{
 "cells": [
  {
   "cell_type": "markdown",
   "metadata": {},
   "source": [
    "## FHB example\n",
    "\n",
    "This example shows how the time series capability in MODFLOW 6 can be\n",
    "combined with the constant head and well packages to replicate the\n",
    "functionality of the Flow and Head Boundary (FHB) Package in previous\n",
    "versions of MODFLOW.\n"
   ]
  },
  {
   "cell_type": "markdown",
   "metadata": {},
   "source": [
    "### FHB Problem Setup\n",
    "\n",
    "Imports"
   ]
  },
  {
   "cell_type": "code",
   "execution_count": null,
   "metadata": {},
   "outputs": [],
   "source": [
    "import os\n",
    "import sys\n",
    "import numpy as np\n",
    "import matplotlib.pyplot as plt\n",
    "import flopy\n",
    "from shapely.geometry import Polygon\n",
    "from flopy.utils.gridintersect import GridIntersect"
   ]
  },
  {
   "cell_type": "markdown",
   "metadata": {},
   "source": [
    "Append to system path to include the common subdirectory"
   ]
  },
  {
   "cell_type": "code",
   "execution_count": null,
   "metadata": {},
   "outputs": [],
   "source": [
    "sys.path.append(os.path.join(\"..\", \"common\"))"
   ]
  },
  {
   "cell_type": "markdown",
   "metadata": {},
   "source": [
    "import common functionality"
   ]
  },
  {
   "cell_type": "code",
   "execution_count": null,
   "metadata": {},
   "outputs": [],
   "source": [
    "import config\n",
    "from figspecs import USGSFigure"
   ]
  },
  {
   "cell_type": "markdown",
   "metadata": {},
   "source": [
    "Set default figure properties"
   ]
  },
  {
   "cell_type": "code",
   "execution_count": null,
   "metadata": {},
   "outputs": [],
   "source": [
    "figure_size = (4, 4)"
   ]
  },
  {
   "cell_type": "markdown",
   "metadata": {},
   "source": [
    "Base simulation and model name and workspace"
   ]
  },
  {
   "cell_type": "code",
   "execution_count": null,
   "metadata": {},
   "outputs": [],
   "source": [
    "ws = config.base_ws"
   ]
  },
  {
   "cell_type": "markdown",
   "metadata": {},
   "source": [
    "Simulation name"
   ]
  },
  {
   "cell_type": "code",
   "execution_count": null,
   "metadata": {},
   "outputs": [],
   "source": [
    "sim_name = \"ex-gwf-fhb\""
   ]
  },
  {
   "cell_type": "markdown",
   "metadata": {},
   "source": [
    "Model units"
   ]
  },
  {
   "cell_type": "code",
   "execution_count": null,
   "metadata": {},
   "outputs": [],
   "source": [
    "length_units = \"meters\"\n",
    "time_units = \"days\""
   ]
  },
  {
   "cell_type": "markdown",
   "metadata": {},
   "source": [
    "Table FHB Model Parameters"
   ]
  },
  {
   "cell_type": "code",
   "execution_count": null,
   "metadata": {},
   "outputs": [],
   "source": [
    "nper = 3  # Number of periods\n",
    "nlay = 1  # Number of layers\n",
    "ncol = 10  # Number of columns\n",
    "nrow = 3  # Number of rows\n",
    "delr = 1000.0  # Column width ($m$)\n",
    "delc = 1000.0  # Row width ($m$)\n",
    "top = 50.0  # Top of the model ($m$)\n",
    "botm_str = \"-200.0\"  # Layer bottom elevations ($m$)\n",
    "strt = 0.0  # Starting head ($m$)\n",
    "icelltype_str = \"0\"  # Cell conversion type\n",
    "k11_str = \"20.0\"  # Horizontal hydraulic conductivity ($m/d$)\n",
    "ss = 0.01  # Specific storage ($/m$)"
   ]
  },
  {
   "cell_type": "markdown",
   "metadata": {},
   "source": [
    "Static temporal data used by TDIS file\n",
    "Simulation has 1 steady stress period (1 day)\n",
    "and 3 transient stress periods (10 days each).\n",
    "Each transient stress period has 120 2-hour time steps."
   ]
  },
  {
   "cell_type": "code",
   "execution_count": null,
   "metadata": {},
   "outputs": [],
   "source": [
    "perlen = [400., 200., 400.]\n",
    "nstp = [10, 4, 6]\n",
    "tsmult = [1.0, 1.0, 1.0]\n",
    "tdis_ds = list(zip(perlen, nstp, tsmult))"
   ]
  },
  {
   "cell_type": "markdown",
   "metadata": {},
   "source": [
    "parse parameter strings into tuples"
   ]
  },
  {
   "cell_type": "code",
   "execution_count": null,
   "metadata": {},
   "outputs": [],
   "source": [
    "botm = [float(value) for value in botm_str.split(\",\")]\n",
    "k11 = [float(value) for value in k11_str.split(\",\")]\n",
    "icelltype = [int(value) for value in icelltype_str.split(\",\")]"
   ]
  },
  {
   "cell_type": "markdown",
   "metadata": {},
   "source": [
    "Solver parameters"
   ]
  },
  {
   "cell_type": "code",
   "execution_count": null,
   "metadata": {},
   "outputs": [],
   "source": [
    "nouter = 50\n",
    "ninner = 100\n",
    "hclose = 1e-9\n",
    "rclose = 1e-6"
   ]
  },
  {
   "cell_type": "markdown",
   "metadata": {
    "lines_to_next_cell": 2
   },
   "source": [
    "### Functions to build, write, run, and plot the MODFLOW 6 FHB model\n",
    "\n",
    "MODFLOW 6 flopy simulation object (sim) is returned if building the model"
   ]
  },
  {
   "cell_type": "code",
   "execution_count": null,
   "metadata": {
    "lines_to_next_cell": 2
   },
   "outputs": [],
   "source": [
    "def build_model():\n",
    "    if config.buildModel:\n",
    "        sim_ws = os.path.join(ws, sim_name)\n",
    "        sim = flopy.mf6.MFSimulation(\n",
    "            sim_name=sim_name, sim_ws=sim_ws, exe_name=config.mf6_exe\n",
    "        )\n",
    "        flopy.mf6.ModflowTdis(\n",
    "            sim, nper=nper, perioddata=tdis_ds, time_units=time_units\n",
    "        )\n",
    "        flopy.mf6.ModflowIms(\n",
    "            sim,\n",
    "            outer_maximum=nouter,\n",
    "            outer_dvclose=hclose,\n",
    "            inner_maximum=ninner,\n",
    "            inner_dvclose=hclose,\n",
    "            rcloserecord=[rclose, \"strict\"],\n",
    "        )\n",
    "        gwf = flopy.mf6.ModflowGwf(sim, modelname=sim_name, save_flows=True)\n",
    "        flopy.mf6.ModflowGwfdis(\n",
    "            gwf,\n",
    "            length_units=length_units,\n",
    "            nlay=nlay,\n",
    "            nrow=nrow,\n",
    "            ncol=ncol,\n",
    "            delr=delr,\n",
    "            delc=delc,\n",
    "            top=top,\n",
    "            botm=botm,\n",
    "        )\n",
    "        flopy.mf6.ModflowGwfnpf(\n",
    "            gwf,\n",
    "            icelltype=icelltype,\n",
    "            k=k11,\n",
    "            save_specific_discharge=True,\n",
    "        )\n",
    "        flopy.mf6.ModflowGwfic(gwf, strt=strt)\n",
    "        flopy.mf6.ModflowGwfsto(\n",
    "            gwf,\n",
    "            storagecoefficient=True,\n",
    "            iconvert=0,\n",
    "            ss=1.0e-6,\n",
    "            sy=None,\n",
    "            transient={0: True},\n",
    "        )\n",
    "\n",
    "        chd_spd = []\n",
    "        chd_spd += [\n",
    "            [0, i, 9, \"CHDHEAD\"] for i in range(3)\n",
    "        ]\n",
    "        chd_spd = {0: chd_spd}\n",
    "        tsdata = [(0.0, 0.),\n",
    "                  (307., 1.),\n",
    "                  (791., 5.),\n",
    "                  (1000., 2.)]\n",
    "        tsdict = {\n",
    "            \"timeseries\": tsdata,\n",
    "            \"time_series_namerecord\": 'CHDHEAD',\n",
    "            \"interpolation_methodrecord\": 'LINEAREND',\n",
    "        }\n",
    "        flopy.mf6.ModflowGwfchd(\n",
    "            gwf,\n",
    "            stress_period_data=chd_spd,\n",
    "            timeseries=tsdict,\n",
    "            pname=\"CHD\",\n",
    "        )\n",
    "\n",
    "        wel_spd = []\n",
    "        wel_spd += [[0, 1, 0, \"FLOWRATE\"]]\n",
    "        wel_spd = {0: wel_spd}\n",
    "        tsdata = [(0.0, 2000.),\n",
    "                  (307., 6000.),\n",
    "                  (791., 5000.),\n",
    "                  (1000., 9000.)]\n",
    "        tsdict = {\n",
    "            \"timeseries\": tsdata,\n",
    "            \"time_series_namerecord\": 'FLOWRATE',\n",
    "            \"interpolation_methodrecord\": 'LINEAREND',\n",
    "        }\n",
    "        flopy.mf6.ModflowGwfwel(\n",
    "            gwf,\n",
    "            stress_period_data=wel_spd,\n",
    "            timeseries=tsdict,\n",
    "            pname=\"WEL\",\n",
    "        )\n",
    "\n",
    "        head_filerecord = \"{}.hds\".format(sim_name)\n",
    "        budget_filerecord = \"{}.cbc\".format(sim_name)\n",
    "        flopy.mf6.ModflowGwfoc(\n",
    "            gwf,\n",
    "            head_filerecord=head_filerecord,\n",
    "            budget_filerecord=budget_filerecord,\n",
    "            saverecord=[(\"HEAD\", \"ALL\"), (\"BUDGET\", \"ALL\")],\n",
    "        )\n",
    "\n",
    "        obsdict = {}\n",
    "        obslist = [[\"h1_2_1\", \"head\", (0, 1, 0)],\n",
    "                   [\"h1_2_10\", \"head\", (0, 1, 9)],]\n",
    "        obsdict[\"{}.obs.head.csv\".format(sim_name)] = obslist\n",
    "        obslist = [[\"icf1\", \"flow-ja-face\", (0, 1, 1), (0, 1, 0)]]\n",
    "        obsdict[\"{}.obs.flow.csv\".format(sim_name)] = obslist\n",
    "        obs = flopy.mf6.ModflowUtlobs(\n",
    "            gwf, print_input=False, continuous=obsdict\n",
    "        )\n",
    "\n",
    "        return sim\n",
    "    return None"
   ]
  },
  {
   "cell_type": "markdown",
   "metadata": {
    "lines_to_next_cell": 2
   },
   "source": [
    "Function to write MODFLOW 6 FHB model files"
   ]
  },
  {
   "cell_type": "code",
   "execution_count": null,
   "metadata": {
    "lines_to_next_cell": 2
   },
   "outputs": [],
   "source": [
    "def write_model(sim, silent=True):\n",
    "    if config.writeModel:\n",
    "        sim.write_simulation(silent=silent)"
   ]
  },
  {
   "cell_type": "markdown",
   "metadata": {
    "lines_to_next_cell": 2
   },
   "source": [
    "Function to run the FHB model.\n",
    "True is returned if the model runs successfully\n"
   ]
  },
  {
   "cell_type": "code",
   "execution_count": null,
   "metadata": {},
   "outputs": [],
   "source": [
    "def run_model(sim, silent=False):\n",
    "    success = True\n",
    "    if config.runModel:\n",
    "        success, buff = sim.run_simulation(silent=silent, report=True)\n",
    "        if not success:\n",
    "            print(buff)\n",
    "    return success"
   ]
  },
  {
   "cell_type": "code",
   "execution_count": null,
   "metadata": {},
   "outputs": [],
   "source": [
    "# Function to plot the FHB model results.\n",
    "#\n",
    "def plot_grid(sim):\n",
    "    fs = USGSFigure(figure_type=\"map\", verbose=False)\n",
    "    sim_ws = os.path.join(ws, sim_name)\n",
    "    gwf = sim.get_model(sim_name)\n",
    "\n",
    "    fig = plt.figure(figsize=(4, 3.0))\n",
    "    fig.tight_layout()\n",
    "\n",
    "    ax = fig.add_subplot(1, 1, 1, aspect=\"equal\")\n",
    "    pmv = flopy.plot.PlotMapView(model=gwf, ax=ax, layer=0)\n",
    "    pmv.plot_grid()\n",
    "    pmv.plot_bc(name=\"CHD\")\n",
    "    pmv.plot_bc(name=\"WEL\")\n",
    "    ax.set_xlabel(\"x position (m)\")\n",
    "    ax.set_ylabel(\"y position (m)\")\n",
    "\n",
    "    # save figure\n",
    "    if config.plotSave:\n",
    "        fpth = os.path.join(\n",
    "            \"..\", \"figures\", \"{}-grid{}\".format(sim_name, config.figure_ext)\n",
    "        )\n",
    "        fig.savefig(fpth)\n",
    "    return"
   ]
  },
  {
   "cell_type": "code",
   "execution_count": null,
   "metadata": {},
   "outputs": [],
   "source": [
    "def plot_ts(sim):\n",
    "    fs = USGSFigure(figure_type=\"graph\", verbose=False)\n",
    "    sim_ws = os.path.join(ws, sim_name)\n",
    "    gwf = sim.get_model(sim_name)\n",
    "    ylabel = [\"head (m)\", \"flow ($m^3/d$)\"]\n",
    "    for iplot, obstype in enumerate([\"obs.head\", \"obs.flow\"]):\n",
    "        fig = plt.figure(figsize=(5, 3))\n",
    "        ax = fig.add_subplot()\n",
    "        fname = os.path.join(sim_ws, \"{}.{}.csv\".format(sim_name, obstype))\n",
    "        tsdata = np.genfromtxt(fname, names=True, delimiter=\",\")\n",
    "        for name in tsdata.dtype.names[1:]:\n",
    "            ax.plot(tsdata[\"time\"], tsdata[name], label=name, marker='o')\n",
    "        ax.set_xlabel(\"time (d)\")\n",
    "        ax.set_ylabel(ylabel[iplot])\n",
    "        fs.graph_legend(ax)\n",
    "        if config.plotSave:\n",
    "            fpth = os.path.join(\n",
    "                \"..\",\n",
    "                \"figures\",\n",
    "                \"{}-{}{}\".format(\n",
    "                    sim_name, obstype.replace(\".\", \"-\"), config.figure_ext\n",
    "                ),\n",
    "            )\n",
    "            fig.savefig(fpth)\n",
    "    return"
   ]
  },
  {
   "cell_type": "code",
   "execution_count": null,
   "metadata": {
    "lines_to_next_cell": 2
   },
   "outputs": [],
   "source": [
    "def plot_results(sim, silent=True):\n",
    "    if config.plotModel:\n",
    "        plot_grid(sim)\n",
    "        plot_ts(sim)\n",
    "    return"
   ]
  },
  {
   "cell_type": "markdown",
   "metadata": {
    "lines_to_next_cell": 2
   },
   "source": [
    "Function that wraps all of the steps for the FHB model\n",
    "\n",
    "1. build_model,\n",
    "2. write_model,\n",
    "3. run_model, and\n",
    "4. plot_results.\n"
   ]
  },
  {
   "cell_type": "code",
   "execution_count": null,
   "metadata": {},
   "outputs": [],
   "source": [
    "def simulation(silent=True):\n",
    "    sim = build_model()\n",
    "    write_model(sim, silent=silent)\n",
    "    success = run_model(sim, silent=silent)\n",
    "    if success:\n",
    "        plot_results(sim, silent=silent)"
   ]
  },
  {
   "cell_type": "code",
   "execution_count": null,
   "metadata": {},
   "outputs": [],
   "source": []
  },
  {
   "cell_type": "markdown",
   "metadata": {},
   "source": [
    "### FHB Simulation\n",
    "\n",
    "Model grid and simulation results"
   ]
  },
  {
   "cell_type": "code",
   "execution_count": null,
   "metadata": {},
   "outputs": [],
   "source": [
    "simulation()"
   ]
  }
 ],
 "metadata": {
  "jupytext": {
   "cell_metadata_filter": "-all",
   "main_language": "python",
   "notebook_metadata_filter": "-all"
  }
 },
 "nbformat": 4,
 "nbformat_minor": 4
}
