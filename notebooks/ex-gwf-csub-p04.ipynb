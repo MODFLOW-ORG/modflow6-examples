{
 "cells": [
  {
   "cell_type": "markdown",
   "id": "d78e2fe9",
   "metadata": {},
   "source": [
    "## One-dimensional compaction in a three-dimensional flow field\n",
    "\n",
    "This problem is based on the problem presented in the SUB-WT report\n",
    "(Leake and Galloway, 2007) and represent groundwater development in a\n",
    "hypothetical aquifer that includes some features typical of basin-fill\n",
    "aquifers in an arid or semi-arid environment.\n"
   ]
  },
  {
   "cell_type": "markdown",
   "id": "65b31d7c",
   "metadata": {},
   "source": [
    "### Problem Setup\n",
    "\n",
    "Imports"
   ]
  },
  {
   "cell_type": "code",
   "execution_count": null,
   "id": "d0f0ead5",
   "metadata": {},
   "outputs": [],
   "source": [
    "import os\n",
    "import sys\n",
    "import numpy as np\n",
    "import matplotlib as mpl\n",
    "import matplotlib.pyplot as plt\n",
    "import flopy"
   ]
  },
  {
   "cell_type": "markdown",
   "id": "e92f0910",
   "metadata": {},
   "source": [
    "Append to system path to include the common subdirectory"
   ]
  },
  {
   "cell_type": "code",
   "execution_count": null,
   "id": "bf1299f6",
   "metadata": {},
   "outputs": [],
   "source": [
    "sys.path.append(os.path.join(\"..\", \"common\"))"
   ]
  },
  {
   "cell_type": "markdown",
   "id": "069b19fb",
   "metadata": {},
   "source": [
    "import common functionality"
   ]
  },
  {
   "cell_type": "code",
   "execution_count": null,
   "id": "c53ebc7e",
   "metadata": {},
   "outputs": [],
   "source": [
    "import config\n",
    "from figspecs import USGSFigure"
   ]
  },
  {
   "cell_type": "markdown",
   "id": "7f8dcd6d",
   "metadata": {},
   "source": [
    "Set figure properties specific to the problem"
   ]
  },
  {
   "cell_type": "code",
   "execution_count": null,
   "id": "829e26ef",
   "metadata": {},
   "outputs": [],
   "source": [
    "figure_size = (6.8, 5.5)\n",
    "arrow_props = dict(facecolor=\"black\", arrowstyle=\"-\", lw=0.5)\n",
    "plot_tags = (\n",
    "    \"W1L\",\n",
    "    \"W2L\",\n",
    "    \"S1L\",\n",
    "    \"S2L\",\n",
    "    \"C1L\",\n",
    "    \"C2L\",\n",
    ")\n",
    "compaction_heading = (\"row 9, column 10\", \"row 12, column 7\")"
   ]
  },
  {
   "cell_type": "markdown",
   "id": "08dbaa1b",
   "metadata": {},
   "source": [
    "Base simulation and model name and workspace"
   ]
  },
  {
   "cell_type": "code",
   "execution_count": null,
   "id": "ec6e44e6",
   "metadata": {},
   "outputs": [],
   "source": [
    "ws = config.base_ws"
   ]
  },
  {
   "cell_type": "markdown",
   "id": "de3bef69",
   "metadata": {},
   "source": [
    "Simulation name"
   ]
  },
  {
   "cell_type": "code",
   "execution_count": null,
   "id": "96f55121",
   "metadata": {},
   "outputs": [],
   "source": [
    "sim_name = \"ex-gwf-csub-p04\""
   ]
  },
  {
   "cell_type": "markdown",
   "id": "f7d17894",
   "metadata": {},
   "source": [
    "Model units"
   ]
  },
  {
   "cell_type": "code",
   "execution_count": null,
   "id": "f4a1beb4",
   "metadata": {},
   "outputs": [],
   "source": [
    "length_units = \"meters\"\n",
    "time_units = \"days\""
   ]
  },
  {
   "cell_type": "markdown",
   "id": "227979e0",
   "metadata": {},
   "source": [
    "Table"
   ]
  },
  {
   "cell_type": "code",
   "execution_count": null,
   "id": "f008529d",
   "metadata": {},
   "outputs": [],
   "source": [
    "nper = 3  # Number of periods\n",
    "nlay = 4  # Number of layers\n",
    "nrow = 20  # Number of rows\n",
    "ncol = 15  # Number of columns\n",
    "delr = 2000.0  # Column width ($m$)\n",
    "delc = 2000.0  # Row width ($m$)\n",
    "top = 150.0  # Top of the model ($ft$)\n",
    "botm_str = \"50., -100., -150., -350.\"  # Layer bottom elevations ($m$)\n",
    "strt = 100.0  # Starting head ($m$)\n",
    "icelltype_str = \"1, 0, 0, 0\"  # Cell conversion type\n",
    "k11_str = \"4., 4., 0.01, 4.\"  # Horizontal hydraulic conductivity ($m/d$)\n",
    "k33_str = \"0.4, 0.4, 0.01, 0.4\"  # Vertical hydraulic conductivity ($m/d$)\n",
    "sy_str = \"0.3, 0.3, 0.4, 0.3\"  # Specific yield (unitless)\n",
    "gammaw = 9806.65  # Compressibility of water (Newtons/($m^3$)\n",
    "beta = 4.6612e-10  # Specific gravity of water (1/$Pa$)\n",
    "sgm_str = \"1.77, 1.77, 1.60, 1.77\"  # Specific gravity of moist soils (unitless)\n",
    "sgs_str = \"2.06, 2.05, 1.94, 2.06\"  # Specific gravity of saturated soils (unitless)\n",
    "cg_theta_str = \"0.32, 0.32, 0.45, 0.32\"  # Coarse-grained material porosity (unitless)\n",
    "cg_ske_str = \"0.005, 0.005, 0.01, 0.005\"  # Elastic specific storage ($1/m$)\n",
    "ib_thick_str = \"45., 70., 50., 90.\"  # Interbed thickness ($m$)\n",
    "ib_theta = 0.45  # Interbed initial porosity (unitless)\n",
    "ib_cr = 0.01  # Interbed recompression index (unitless)\n",
    "ib_cv = 0.25  # Interbed compression index (unitless)\n",
    "stress_offset = 15.0  # Initial preconsolidation stress offset ($m$)"
   ]
  },
  {
   "cell_type": "markdown",
   "id": "a759504e",
   "metadata": {},
   "source": [
    "Static temporal data used by TDIS file"
   ]
  },
  {
   "cell_type": "code",
   "execution_count": null,
   "id": "788f86dc",
   "metadata": {},
   "outputs": [],
   "source": [
    "tdis_ds = (\n",
    "    (0.0, 1, 1.0),\n",
    "    (21915.0, 60, 1.0),\n",
    "    (21915.0, 60, 1.0),\n",
    ")"
   ]
  },
  {
   "cell_type": "markdown",
   "id": "93023863",
   "metadata": {},
   "source": [
    "parse parameter strings into tuples"
   ]
  },
  {
   "cell_type": "code",
   "execution_count": null,
   "id": "b26cfa45",
   "metadata": {},
   "outputs": [],
   "source": [
    "botm = [float(value) for value in botm_str.split(\",\")]\n",
    "icelltype = [int(value) for value in icelltype_str.split(\",\")]\n",
    "k11 = [float(value) for value in k11_str.split(\",\")]\n",
    "k33 = [float(value) for value in k33_str.split(\",\")]\n",
    "sy = [float(value) for value in sy_str.split(\",\")]\n",
    "sgm = [float(value) for value in sgm_str.split(\",\")]\n",
    "sgs = [float(value) for value in sgs_str.split(\",\")]\n",
    "cg_theta = [float(value) for value in cg_theta_str.split(\",\")]\n",
    "cg_ske = [float(value) for value in cg_ske_str.split(\",\")]\n",
    "ib_thick = [float(value) for value in ib_thick_str.split(\",\")]"
   ]
  },
  {
   "cell_type": "markdown",
   "id": "5c99f80c",
   "metadata": {},
   "source": [
    "Load active domain and create idomain array"
   ]
  },
  {
   "cell_type": "code",
   "execution_count": null,
   "id": "ceb9227c",
   "metadata": {},
   "outputs": [],
   "source": [
    "pth = os.path.join(\"..\", \"data\", sim_name, \"idomain.txt\")\n",
    "ib = np.loadtxt(pth, dtype=int)\n",
    "idomain = np.tile(ib, (nlay, 1))"
   ]
  },
  {
   "cell_type": "markdown",
   "id": "df50a2cf",
   "metadata": {},
   "source": [
    "Constant head boundary cells"
   ]
  },
  {
   "cell_type": "code",
   "execution_count": null,
   "id": "d33fc8da",
   "metadata": {},
   "outputs": [],
   "source": [
    "chd_locs = [(nrow - 1, 7), (nrow - 1, 8)]\n",
    "c6 = []\n",
    "for i, j in chd_locs:\n",
    "    for k in range(nlay):\n",
    "        c6.append([k, i, j, strt])"
   ]
  },
  {
   "cell_type": "markdown",
   "id": "3a3d3169",
   "metadata": {},
   "source": [
    "Recharge boundary cells"
   ]
  },
  {
   "cell_type": "code",
   "execution_count": null,
   "id": "5738a068",
   "metadata": {},
   "outputs": [],
   "source": [
    "rch_rate = 5.5e-4\n",
    "rch6 = []\n",
    "for i in range(nrow):\n",
    "    for j in range(ncol):\n",
    "        if ib[i, j] != 2 or (i, j) in chd_locs:\n",
    "            continue\n",
    "        rch6.append([0, i, j, rch_rate])"
   ]
  },
  {
   "cell_type": "markdown",
   "id": "4c00edf7",
   "metadata": {},
   "source": [
    "Well boundary cells"
   ]
  },
  {
   "cell_type": "code",
   "execution_count": null,
   "id": "3ee28cf7",
   "metadata": {},
   "outputs": [],
   "source": [
    "well_locs = (\n",
    "    (1, 8, 9),\n",
    "    (3, 11, 6),\n",
    ")\n",
    "well_rates = (\n",
    "    -72000,\n",
    "    0.0,\n",
    ")\n",
    "wel6 = {}\n",
    "for idx, q in enumerate(well_rates):\n",
    "    spd = []\n",
    "    for (k, i, j) in well_locs:\n",
    "        spd.append([k, i, j, q])\n",
    "    wel6[idx + 1] = spd"
   ]
  },
  {
   "cell_type": "markdown",
   "id": "2dbee575",
   "metadata": {},
   "source": [
    "Create interbed package data"
   ]
  },
  {
   "cell_type": "code",
   "execution_count": null,
   "id": "1491fe43",
   "metadata": {},
   "outputs": [],
   "source": [
    "icsubno = 0\n",
    "csub_pakdata = []\n",
    "for i in range(nrow):\n",
    "    for j in range(ncol):\n",
    "        if ib[i, j] < 1 or (i, j) in chd_locs:\n",
    "            continue\n",
    "        for k in range(nlay):\n",
    "            boundname = \"{:02d}_{:02d}_{:02d}\".format(k + 1, i + 1, j + 1)\n",
    "            ib_lst = [\n",
    "                icsubno,\n",
    "                (k, i, j),\n",
    "                \"nodelay\",\n",
    "                stress_offset,\n",
    "                ib_thick[k],\n",
    "                1.0,\n",
    "                ib_cv,\n",
    "                ib_cr,\n",
    "                ib_theta,\n",
    "                999.0,\n",
    "                999.0,\n",
    "                boundname,\n",
    "            ]\n",
    "            csub_pakdata.append(ib_lst)\n",
    "            icsubno += 1"
   ]
  },
  {
   "cell_type": "markdown",
   "id": "b8735531",
   "metadata": {},
   "source": [
    "Solver parameters"
   ]
  },
  {
   "cell_type": "code",
   "execution_count": null,
   "id": "be996260",
   "metadata": {
    "lines_to_next_cell": 2
   },
   "outputs": [],
   "source": [
    "nouter = 100\n",
    "ninner = 300\n",
    "hclose = 1e-9\n",
    "rclose = 1e-6\n",
    "linaccel = \"bicgstab\"\n",
    "relax = 0.97"
   ]
  },
  {
   "cell_type": "markdown",
   "id": "0555b483",
   "metadata": {
    "lines_to_next_cell": 2
   },
   "source": [
    "### Functions to build, write, run, and plot the model\n",
    "\n",
    "MODFLOW 6 flopy simulation object (sim) is returned if building the model"
   ]
  },
  {
   "cell_type": "code",
   "execution_count": null,
   "id": "3cad119a",
   "metadata": {
    "lines_to_next_cell": 2
   },
   "outputs": [],
   "source": [
    "def build_model():\n",
    "    if config.buildModel:\n",
    "        sim_ws = os.path.join(ws, sim_name)\n",
    "        sim = flopy.mf6.MFSimulation(\n",
    "            sim_name=sim_name, sim_ws=sim_ws, exe_name=config.mf6_exe\n",
    "        )\n",
    "        flopy.mf6.ModflowTdis(\n",
    "            sim, nper=nper, perioddata=tdis_ds, time_units=time_units\n",
    "        )\n",
    "        flopy.mf6.ModflowIms(\n",
    "            sim,\n",
    "            outer_maximum=nouter,\n",
    "            outer_dvclose=hclose,\n",
    "            linear_acceleration=linaccel,\n",
    "            inner_maximum=ninner,\n",
    "            inner_dvclose=hclose,\n",
    "            relaxation_factor=relax,\n",
    "            rcloserecord=\"{} strict\".format(rclose),\n",
    "        )\n",
    "        gwf = flopy.mf6.ModflowGwf(\n",
    "            sim, modelname=sim_name, save_flows=True, newtonoptions=\"newton\"\n",
    "        )\n",
    "        flopy.mf6.ModflowGwfdis(\n",
    "            gwf,\n",
    "            length_units=length_units,\n",
    "            nlay=nlay,\n",
    "            nrow=nrow,\n",
    "            ncol=ncol,\n",
    "            delr=delr,\n",
    "            delc=delc,\n",
    "            top=top,\n",
    "            botm=botm,\n",
    "            idomain=idomain,\n",
    "        )\n",
    "        # gwf obs\n",
    "        flopy.mf6.ModflowUtlobs(\n",
    "            gwf,\n",
    "            digits=10,\n",
    "            print_input=True,\n",
    "            continuous={\n",
    "                \"gwf_obs.csv\": [\n",
    "                    (\"h1l1\", \"HEAD\", (0, 8, 9)),\n",
    "                    (\"h1l2\", \"HEAD\", (1, 8, 9)),\n",
    "                    (\"h1l3\", \"HEAD\", (2, 8, 9)),\n",
    "                    (\"h1l4\", \"HEAD\", (3, 8, 9)),\n",
    "                    (\"h2l1\", \"HEAD\", (0, 11, 6)),\n",
    "                    (\"h2l2\", \"HEAD\", (1, 11, 6)),\n",
    "                    (\"h3l2\", \"HEAD\", (2, 11, 6)),\n",
    "                    (\"h4l2\", \"HEAD\", (3, 11, 6)),\n",
    "                ]\n",
    "            },\n",
    "        )\n",
    "\n",
    "        flopy.mf6.ModflowGwfic(gwf, strt=strt)\n",
    "        flopy.mf6.ModflowGwfnpf(\n",
    "            gwf,\n",
    "            icelltype=icelltype,\n",
    "            k=k11,\n",
    "            save_specific_discharge=True,\n",
    "        )\n",
    "        flopy.mf6.ModflowGwfsto(\n",
    "            gwf,\n",
    "            iconvert=icelltype,\n",
    "            ss=0.0,\n",
    "            sy=sy,\n",
    "            steady_state={0: True},\n",
    "            transient={1: True},\n",
    "        )\n",
    "        csub = flopy.mf6.ModflowGwfcsub(\n",
    "            gwf,\n",
    "            print_input=True,\n",
    "            save_flows=True,\n",
    "            compression_indices=True,\n",
    "            update_material_properties=True,\n",
    "            boundnames=True,\n",
    "            ninterbeds=len(csub_pakdata),\n",
    "            sgm=sgm,\n",
    "            sgs=sgs,\n",
    "            cg_theta=cg_theta,\n",
    "            cg_ske_cr=cg_ske,\n",
    "            beta=beta,\n",
    "            gammaw=gammaw,\n",
    "            packagedata=csub_pakdata,\n",
    "        )\n",
    "        opth = \"{}.csub.obs\".format(sim_name)\n",
    "        csub_csv = opth + \".csv\"\n",
    "        obs = [\n",
    "            (\"w1l1\", \"interbed-compaction\", \"01_09_10\"),\n",
    "            (\"w1l2\", \"interbed-compaction\", \"02_09_10\"),\n",
    "            (\"w1l3\", \"interbed-compaction\", \"03_09_10\"),\n",
    "            (\"w1l4\", \"interbed-compaction\", \"04_09_10\"),\n",
    "            (\"w2l1\", \"interbed-compaction\", \"01_12_07\"),\n",
    "            (\"w2l2\", \"interbed-compaction\", \"02_12_07\"),\n",
    "            (\"w2l3\", \"interbed-compaction\", \"03_12_07\"),\n",
    "            (\"w2l4\", \"interbed-compaction\", \"04_12_07\"),\n",
    "            (\"s1l1\", \"coarse-compaction\", (0, 8, 9)),\n",
    "            (\"s1l2\", \"coarse-compaction\", (1, 8, 9)),\n",
    "            (\"s1l3\", \"coarse-compaction\", (2, 8, 9)),\n",
    "            (\"s1l4\", \"coarse-compaction\", (3, 8, 9)),\n",
    "            (\"s2l1\", \"coarse-compaction\", (0, 11, 6)),\n",
    "            (\"s2l2\", \"coarse-compaction\", (1, 11, 6)),\n",
    "            (\"s2l3\", \"coarse-compaction\", (2, 11, 6)),\n",
    "            (\"s2l4\", \"coarse-compaction\", (3, 11, 6)),\n",
    "            (\"c1l1\", \"compaction-cell\", (0, 8, 9)),\n",
    "            (\"c1l2\", \"compaction-cell\", (1, 8, 9)),\n",
    "            (\"c1l3\", \"compaction-cell\", (2, 8, 9)),\n",
    "            (\"c1l4\", \"compaction-cell\", (3, 8, 9)),\n",
    "            (\"c2l1\", \"compaction-cell\", (0, 11, 6)),\n",
    "            (\"c2l2\", \"compaction-cell\", (1, 11, 6)),\n",
    "            (\"c2l3\", \"compaction-cell\", (2, 11, 6)),\n",
    "            (\"c2l4\", \"compaction-cell\", (3, 11, 6)),\n",
    "            (\"w2l4q\", \"csub-cell\", (3, 11, 6)),\n",
    "            (\"gs1\", \"gstress-cell\", (0, 8, 9)),\n",
    "            (\"es1\", \"estress-cell\", (0, 8, 9)),\n",
    "            (\"pc1\", \"preconstress-cell\", (0, 8, 9)),\n",
    "            (\"gs2\", \"gstress-cell\", (1, 8, 9)),\n",
    "            (\"es2\", \"estress-cell\", (1, 8, 9)),\n",
    "            (\"pc2\", \"preconstress-cell\", (1, 8, 9)),\n",
    "            (\"gs3\", \"gstress-cell\", (2, 8, 9)),\n",
    "            (\"es3\", \"estress-cell\", (2, 8, 9)),\n",
    "            (\"pc3\", \"preconstress-cell\", (2, 8, 9)),\n",
    "            (\"gs4\", \"gstress-cell\", (3, 8, 9)),\n",
    "            (\"es4\", \"estress-cell\", (3, 8, 9)),\n",
    "            (\"pc4\", \"preconstress-cell\", (3, 8, 9)),\n",
    "            (\"sk1l2\", \"ske-cell\", (1, 8, 9)),\n",
    "            (\"sk2l4\", \"ske-cell\", (3, 11, 6)),\n",
    "            (\"t1l2\", \"theta\", \"02_09_10\"),\n",
    "            (\"w1qie\", \"elastic-csub\", \"02_09_10\"),\n",
    "            (\"w1qii\", \"inelastic-csub\", \"02_09_10\"),\n",
    "            (\"w1qaq\", \"coarse-csub\", (1, 8, 9)),\n",
    "            (\"w1qt\", \"csub-cell\", (1, 8, 9)),\n",
    "            (\"w1wc\", \"wcomp-csub-cell\", (1, 8, 9)),\n",
    "            (\"w2qie\", \"elastic-csub\", \"04_12_07\"),\n",
    "            (\"w2qii\", \"inelastic-csub\", \"04_12_07\"),\n",
    "            (\"w2qaq\", \"coarse-csub\", (3, 11, 6)),\n",
    "            (\"w2qt \", \"csub-cell\", (3, 11, 6)),\n",
    "            (\"w2wc\", \"wcomp-csub-cell\", (3, 11, 6)),\n",
    "        ]\n",
    "        orecarray = {csub_csv: obs}\n",
    "        csub.obs.initialize(\n",
    "            filename=opth, digits=10, print_input=True, continuous=orecarray\n",
    "        )\n",
    "\n",
    "        flopy.mf6.ModflowGwfchd(gwf, stress_period_data={0: c6})\n",
    "        flopy.mf6.ModflowGwfrch(gwf, stress_period_data={0: rch6})\n",
    "        flopy.mf6.ModflowGwfwel(gwf, stress_period_data=wel6)\n",
    "\n",
    "        head_filerecord = \"{}.hds\".format(sim_name)\n",
    "        budget_filerecord = \"{}.cbc\".format(sim_name)\n",
    "        flopy.mf6.ModflowGwfoc(\n",
    "            gwf,\n",
    "            head_filerecord=head_filerecord,\n",
    "            budget_filerecord=budget_filerecord,\n",
    "            printrecord=[(\"BUDGET\", \"ALL\")],\n",
    "            saverecord=[(\"BUDGET\", \"ALL\"), (\"HEAD\", \"ALL\")],\n",
    "        )\n",
    "        return sim\n",
    "    return None"
   ]
  },
  {
   "cell_type": "markdown",
   "id": "54e5048d",
   "metadata": {
    "lines_to_next_cell": 2
   },
   "source": [
    "Function to write MODFLOW 6 model files"
   ]
  },
  {
   "cell_type": "code",
   "execution_count": null,
   "id": "78bd0a41",
   "metadata": {
    "lines_to_next_cell": 2
   },
   "outputs": [],
   "source": [
    "def write_model(sim, silent=True):\n",
    "    if config.writeModel:\n",
    "        sim.write_simulation(silent=silent)"
   ]
  },
  {
   "cell_type": "markdown",
   "id": "e95a18af",
   "metadata": {
    "lines_to_next_cell": 2
   },
   "source": [
    "Function to run the model.\n",
    "True is returned if the model runs successfully\n"
   ]
  },
  {
   "cell_type": "code",
   "execution_count": null,
   "id": "f622c6e5",
   "metadata": {},
   "outputs": [],
   "source": [
    "@config.timeit\n",
    "def run_model(sim, silent=True):\n",
    "    success = True\n",
    "    if config.runModel:\n",
    "        success, buff = sim.run_simulation(silent=silent)\n",
    "        if not success:\n",
    "            print(buff)\n",
    "\n",
    "    return success"
   ]
  },
  {
   "cell_type": "markdown",
   "id": "8b5305fc",
   "metadata": {},
   "source": [
    "Function to get csub observations"
   ]
  },
  {
   "cell_type": "code",
   "execution_count": null,
   "id": "e45051d7",
   "metadata": {
    "lines_to_next_cell": 2
   },
   "outputs": [],
   "source": [
    "def get_csub_observations(sim):\n",
    "    name = sim.name\n",
    "    gwf = sim.get_model(sim_name)\n",
    "    csub_obs = gwf.csub.output.obs().data\n",
    "    csub_obs[\"totim\"] /= 365.25\n",
    "\n",
    "    # set initial preconsolidation stress to stress period 1 value\n",
    "    slist = [name for name in csub_obs.dtype.names if \"PC\" in name]\n",
    "    for tag in slist:\n",
    "        csub_obs[tag][0] = csub_obs[tag][1]\n",
    "\n",
    "    # set initial storativity to stress period 1 value\n",
    "    sk_tags = (\n",
    "        \"SK1L2\",\n",
    "        \"SK2L4\",\n",
    "    )\n",
    "    for tag in sk_tags:\n",
    "        if tag in csub_obs.dtype.names:\n",
    "            csub_obs[tag][0] = csub_obs[tag][1]\n",
    "\n",
    "    return csub_obs"
   ]
  },
  {
   "cell_type": "markdown",
   "id": "b5ec3aa1",
   "metadata": {
    "lines_to_next_cell": 2
   },
   "source": [
    "Function to calculate the compaction at the surface"
   ]
  },
  {
   "cell_type": "code",
   "execution_count": null,
   "id": "02c27271",
   "metadata": {
    "lines_to_next_cell": 2
   },
   "outputs": [],
   "source": [
    "def calc_compaction_at_surface(sim):\n",
    "    csub_obs = get_csub_observations(sim)\n",
    "    for tag in plot_tags:\n",
    "        for k in (\n",
    "            3,\n",
    "            2,\n",
    "            1,\n",
    "        ):\n",
    "            tag0 = \"{}{}\".format(tag, k)\n",
    "            tag1 = \"{}{}\".format(tag, k + 1)\n",
    "            csub_obs[tag0] += csub_obs[tag1]\n",
    "    return csub_obs"
   ]
  },
  {
   "cell_type": "markdown",
   "id": "3986a02d",
   "metadata": {
    "lines_to_next_cell": 2
   },
   "source": [
    "Function to plot compaction results"
   ]
  },
  {
   "cell_type": "code",
   "execution_count": null,
   "id": "97552372",
   "metadata": {
    "lines_to_next_cell": 2
   },
   "outputs": [],
   "source": [
    "def plot_compaction_values(ax, sim, tagbase=\"W1L\"):\n",
    "    colors = [\"#FFF8DC\", \"#D2B48C\", \"#CD853F\", \"#8B4513\"][::-1]\n",
    "    obs = calc_compaction_at_surface(sim)\n",
    "    for k in range(nlay):\n",
    "        fc = colors[k]\n",
    "        tag = \"{}{}\".format(tagbase, k + 1)\n",
    "        label = \"Model layer {}\".format(k + 1)\n",
    "        ax.fill_between(obs[\"totim\"], obs[tag], y2=0, color=fc, label=label)"
   ]
  },
  {
   "cell_type": "markdown",
   "id": "74647a30",
   "metadata": {
    "lines_to_next_cell": 2
   },
   "source": [
    "Function to plot the model grid"
   ]
  },
  {
   "cell_type": "code",
   "execution_count": null,
   "id": "b33488d4",
   "metadata": {
    "lines_to_next_cell": 2
   },
   "outputs": [],
   "source": [
    "def plot_grid(sim, silent=True):\n",
    "    verbose = not silent\n",
    "    fs = USGSFigure(figure_type=\"map\", verbose=verbose)\n",
    "    name = sim.name\n",
    "    gwf = sim.get_model(name)\n",
    "    extents = gwf.modelgrid.extent\n",
    "\n",
    "    # read simulated heads\n",
    "    hobj = gwf.output.head()\n",
    "    h0 = hobj.get_data(kstpkper=(0, 0))\n",
    "    h1 = hobj.get_data(kstpkper=(59, 1))\n",
    "    hsxs0 = h0[0, 8, :]\n",
    "    hsxs1 = h1[0, 8, :]\n",
    "\n",
    "    # get delr array\n",
    "    dx = gwf.dis.delr.array\n",
    "\n",
    "    # create x-axis for cross-section\n",
    "    hxloc = np.arange(1000, 2000.0 * 15, 2000.0)\n",
    "\n",
    "    # set cross-section location\n",
    "    y = 2000.0 * 11.5\n",
    "    xsloc = [(extents[0], extents[1]), (y, y)]\n",
    "\n",
    "    # well locations\n",
    "    w1loc = (9.5 * 2000.0, 11.75 * 2000.0)\n",
    "    w2loc = (6.5 * 2000.0, 8.5 * 2000.0)\n",
    "\n",
    "    fig = plt.figure(figsize=(6.8, 5), constrained_layout=True)\n",
    "    gs = mpl.gridspec.GridSpec(7, 10, figure=fig, wspace=5)\n",
    "    plt.axis(\"off\")\n",
    "\n",
    "    ax = fig.add_subplot(gs[:, 0:6])\n",
    "    # ax.set_aspect('equal')\n",
    "    mm = flopy.plot.PlotMapView(model=gwf, ax=ax, extent=extents)\n",
    "    mm.plot_grid(lw=0.5, color=\"0.5\")\n",
    "    mm.plot_bc(ftype=\"WEL\", kper=1, plotAll=True)\n",
    "    mm.plot_bc(ftype=\"CHD\", color=\"blue\")\n",
    "    mm.plot_bc(ftype=\"RCH\", color=\"green\")\n",
    "    mm.plot_inactive(color_noflow=\"0.75\")\n",
    "    mm.ax.plot(xsloc[0], xsloc[1], color=\"orange\", lw=1.5)\n",
    "    # contour steady state heads\n",
    "    cl = mm.contour_array(\n",
    "        h0,\n",
    "        masked_values=[1.0e30],\n",
    "        levels=np.arange(115, 200, 5),\n",
    "        colors=\"black\",\n",
    "        linestyles=\"dotted\",\n",
    "        linewidths=0.75,\n",
    "    )\n",
    "    ax.clabel(cl, fmt=\"%3i\", inline_spacing=0.1)\n",
    "    # well text\n",
    "    fs.add_annotation(\n",
    "        ax=ax,\n",
    "        text=\"Well 1, layer 2\",\n",
    "        bold=False,\n",
    "        italic=False,\n",
    "        xy=w1loc,\n",
    "        xytext=(w1loc[0] - 3200, w1loc[1] + 1500),\n",
    "        ha=\"right\",\n",
    "        va=\"center\",\n",
    "        zorder=100,\n",
    "        arrowprops=arrow_props,\n",
    "    )\n",
    "    fs.add_annotation(\n",
    "        ax=ax,\n",
    "        text=\"Well 2, layer 4\",\n",
    "        bold=False,\n",
    "        italic=False,\n",
    "        xy=w2loc,\n",
    "        xytext=(w2loc[0] + 3000, w2loc[1]),\n",
    "        ha=\"left\",\n",
    "        va=\"center\",\n",
    "        zorder=100,\n",
    "        arrowprops=arrow_props,\n",
    "    )\n",
    "    ax.set_ylabel(\"y-coordinate, in meters\")\n",
    "    ax.set_xlabel(\"x-coordinate, in meters\")\n",
    "    fs.heading(ax, letter=\"A\", heading=\"Map view\")\n",
    "    fs.remove_edge_ticks(ax)\n",
    "\n",
    "    ax = fig.add_subplot(gs[0:5, 6:])\n",
    "    mm = flopy.plot.PlotCrossSection(model=gwf, ax=ax, line={\"row\": 8})\n",
    "    mm.plot_grid(lw=0.5, color=\"0.5\")\n",
    "    # items for legend\n",
    "    mm.ax.plot(\n",
    "        -1000,\n",
    "        -1000,\n",
    "        \"s\",\n",
    "        ms=5,\n",
    "        color=\"green\",\n",
    "        mec=\"black\",\n",
    "        mew=0.5,\n",
    "        label=\"Recharge\",\n",
    "    )\n",
    "    mm.ax.plot(\n",
    "        -1000,\n",
    "        -1000,\n",
    "        \"s\",\n",
    "        ms=5,\n",
    "        color=\"red\",\n",
    "        mec=\"black\",\n",
    "        mew=0.5,\n",
    "        label=\"Well\",\n",
    "    )\n",
    "    mm.ax.plot(\n",
    "        -1000,\n",
    "        -1000,\n",
    "        \"s\",\n",
    "        ms=5,\n",
    "        color=\"blue\",\n",
    "        mec=\"black\",\n",
    "        mew=0.5,\n",
    "        label=\"Constant head\",\n",
    "    )\n",
    "    mm.ax.plot(\n",
    "        -1000,\n",
    "        -1000,\n",
    "        \"s\",\n",
    "        ms=5,\n",
    "        color=\"0.75\",\n",
    "        mec=\"black\",\n",
    "        mew=0.5,\n",
    "        label=\"Inactive\",\n",
    "    )\n",
    "    mm.ax.plot(\n",
    "        [-1000, -1001],\n",
    "        [-1000, -1000],\n",
    "        color=\"orange\",\n",
    "        lw=1.5,\n",
    "        label=\"Cross-section line\",\n",
    "    )\n",
    "    # aquifer coloring\n",
    "    ax.fill_between([0, dx.sum()], y1=150, y2=-100, color=\"cyan\", alpha=0.5)\n",
    "    ax.fill_between(\n",
    "        [0, dx.sum()], y1=-100, y2=-150, color=\"#D2B48C\", alpha=0.5\n",
    "    )\n",
    "    ax.fill_between(\n",
    "        [0, dx.sum()], y1=-150, y2=-350, color=\"#00BFFF\", alpha=0.5\n",
    "    )\n",
    "    # well coloring\n",
    "    ax.fill_between(\n",
    "        [dx.cumsum()[8], dx.cumsum()[9]], y1=50, y2=-100, color=\"red\", lw=0\n",
    "    )\n",
    "    # labels\n",
    "    fs.add_text(\n",
    "        ax=ax,\n",
    "        transform=False,\n",
    "        bold=False,\n",
    "        italic=False,\n",
    "        x=300,\n",
    "        y=-97,\n",
    "        text=\"Upper aquifer\",\n",
    "        va=\"bottom\",\n",
    "        ha=\"left\",\n",
    "        fontsize=9,\n",
    "    )\n",
    "    fs.add_text(\n",
    "        ax=ax,\n",
    "        transform=False,\n",
    "        bold=False,\n",
    "        italic=False,\n",
    "        x=300,\n",
    "        y=-147,\n",
    "        text=\"Confining unit\",\n",
    "        va=\"bottom\",\n",
    "        ha=\"left\",\n",
    "        fontsize=9,\n",
    "    )\n",
    "    fs.add_text(\n",
    "        ax=ax,\n",
    "        transform=False,\n",
    "        bold=False,\n",
    "        italic=False,\n",
    "        x=300,\n",
    "        y=-347,\n",
    "        text=\"Lower aquifer\",\n",
    "        va=\"bottom\",\n",
    "        ha=\"left\",\n",
    "        fontsize=9,\n",
    "    )\n",
    "    fs.add_text(\n",
    "        ax=ax,\n",
    "        transform=False,\n",
    "        bold=False,\n",
    "        italic=False,\n",
    "        x=29850,\n",
    "        y=53,\n",
    "        text=\"Layer 1\",\n",
    "        va=\"bottom\",\n",
    "        ha=\"right\",\n",
    "        fontsize=9,\n",
    "    )\n",
    "    fs.add_text(\n",
    "        ax=ax,\n",
    "        transform=False,\n",
    "        bold=False,\n",
    "        italic=False,\n",
    "        x=29850,\n",
    "        y=-97,\n",
    "        text=\"Layer 2\",\n",
    "        va=\"bottom\",\n",
    "        ha=\"right\",\n",
    "        fontsize=9,\n",
    "    )\n",
    "    fs.add_text(\n",
    "        ax=ax,\n",
    "        transform=False,\n",
    "        bold=False,\n",
    "        italic=False,\n",
    "        x=29850,\n",
    "        y=-147,\n",
    "        text=\"Layer 3\",\n",
    "        va=\"bottom\",\n",
    "        ha=\"right\",\n",
    "        fontsize=9,\n",
    "    )\n",
    "    fs.add_text(\n",
    "        ax=ax,\n",
    "        transform=False,\n",
    "        bold=False,\n",
    "        italic=False,\n",
    "        x=29850,\n",
    "        y=-347,\n",
    "        text=\"Layer 4\",\n",
    "        va=\"bottom\",\n",
    "        ha=\"right\",\n",
    "        fontsize=9,\n",
    "    )\n",
    "    ax.plot(\n",
    "        hxloc,\n",
    "        hsxs0,\n",
    "        lw=0.75,\n",
    "        color=\"black\",\n",
    "        ls=\"dotted\",\n",
    "        label=\"Steady-state\\nwater level\",\n",
    "    )\n",
    "    ax.plot(\n",
    "        hxloc,\n",
    "        hsxs1,\n",
    "        lw=0.75,\n",
    "        color=\"black\",\n",
    "        ls=\"dashed\",\n",
    "        label=\"Water-level at the end\\nof stress-period 2\",\n",
    "    )\n",
    "    ax.set_ylabel(\"Elevation, in meters\")\n",
    "    ax.set_xlabel(\"x-coordinate along model row 9, in meters\")\n",
    "    fs.graph_legend(\n",
    "        mm.ax,\n",
    "        ncol=2,\n",
    "        bbox_to_anchor=(0.5, -0.6),\n",
    "        borderaxespad=0,\n",
    "        frameon=False,\n",
    "        loc=\"lower center\",\n",
    "    )\n",
    "    fs.heading(ax, letter=\"B\", heading=\"Cross-section view\")\n",
    "    fs.remove_edge_ticks(ax)\n",
    "\n",
    "    # save figure\n",
    "    if config.plotSave:\n",
    "        fpth = os.path.join(\n",
    "            \"..\", \"figures\", \"{}-grid{}\".format(sim_name, config.figure_ext)\n",
    "        )\n",
    "        if not silent:\n",
    "            print(\"saving...'{}'\".format(fpth))\n",
    "        fig.savefig(fpth)"
   ]
  },
  {
   "cell_type": "markdown",
   "id": "1f3880d6",
   "metadata": {
    "lines_to_next_cell": 2
   },
   "source": [
    "Function to plot the stresses"
   ]
  },
  {
   "cell_type": "code",
   "execution_count": null,
   "id": "735cae0a",
   "metadata": {},
   "outputs": [],
   "source": [
    "def plot_stresses(sim, silent=True):\n",
    "    verbose = not silent\n",
    "    fs = USGSFigure(figure_type=\"graph\", verbose=verbose)\n",
    "    name = sim.name\n",
    "\n",
    "    cd = get_csub_observations(sim)\n",
    "    tmax = cd[\"totim\"][-1]\n",
    "\n",
    "    fig, axes = plt.subplots(\n",
    "        ncols=1,\n",
    "        nrows=4,\n",
    "        figsize=figure_size,\n",
    "        sharex=True,\n",
    "        constrained_layout=True,\n",
    "    )\n",
    "\n",
    "    idx = 0\n",
    "    ax = axes[idx]\n",
    "    ax.set_xlim(0, tmax)\n",
    "    ax.set_ylim(110, 150)\n",
    "    ax.plot(\n",
    "        cd[\"totim\"],\n",
    "        cd[\"PC1\"],\n",
    "        color=\"blue\",\n",
    "        lw=1,\n",
    "        label=\"Preconsolidation stress\",\n",
    "    )\n",
    "    ax.plot(cd[\"totim\"], cd[\"ES1\"], color=\"red\", lw=1, label=\"Effective stress\")\n",
    "    fs.heading(ax, letter=\"A\", heading=\"Model layer 1, row 9, column 10\")\n",
    "    fs.remove_edge_ticks(ax)\n",
    "\n",
    "    idx += 1\n",
    "    ax = axes[idx]\n",
    "    ax.set_ylim(185, 205)\n",
    "    ax.plot(cd[\"totim\"], cd[\"GS1\"], color=\"black\", lw=1)\n",
    "    fs.heading(ax, letter=\"B\", heading=\"Model layer 1, row 9, column 10\")\n",
    "    fs.remove_edge_ticks(ax)\n",
    "\n",
    "    idx += 1\n",
    "    ax = axes[idx]\n",
    "    ax.set_ylim(270, 310)\n",
    "    ax.plot(cd[\"totim\"], cd[\"PC2\"], color=\"blue\", lw=1)\n",
    "    ax.plot(cd[\"totim\"], cd[\"ES2\"], color=\"red\", lw=1)\n",
    "    fs.heading(ax, letter=\"C\", heading=\"Model layer 2, row 9, column 10\")\n",
    "    fs.remove_edge_ticks(ax)\n",
    "\n",
    "    idx += 1\n",
    "    ax = axes[idx]\n",
    "    ax.set_ylim(495, 515)\n",
    "    ax.plot(\n",
    "        [-100, -50],\n",
    "        [-100, -100],\n",
    "        color=\"blue\",\n",
    "        lw=1,\n",
    "        label=\"Preconsolidation stress\",\n",
    "    )\n",
    "    ax.plot(\n",
    "        [-100, -50], [-100, -100], color=\"red\", lw=1, label=\"Effective stress\"\n",
    "    )\n",
    "    ax.plot(\n",
    "        cd[\"totim\"], cd[\"GS2\"], color=\"black\", lw=1, label=\"Geostatic stress\"\n",
    "    )\n",
    "    fs.graph_legend(ax, ncol=3, loc=\"upper center\")\n",
    "    fs.heading(ax, letter=\"D\", heading=\"Model layer 2, row 9, column 10\")\n",
    "    fs.remove_edge_ticks(ax)\n",
    "    ax.set_xlabel(\"Simulation time, in years\")\n",
    "    ax.set_ylabel(\" \")\n",
    "\n",
    "    ax = fig.add_subplot(111, frame_on=False, xticks=[], yticks=[])\n",
    "    ax.set_ylabel(\"Stress, in meters of water\")\n",
    "\n",
    "    # save figure\n",
    "    if config.plotSave:\n",
    "        fpth = os.path.join(\n",
    "            \"..\", \"figures\", \"{}-01{}\".format(name, config.figure_ext)\n",
    "        )\n",
    "        if not silent:\n",
    "            print(\"saving...'{}'\".format(fpth))\n",
    "        fig.savefig(fpth)"
   ]
  },
  {
   "cell_type": "code",
   "execution_count": null,
   "id": "6c396715",
   "metadata": {
    "lines_to_next_cell": 2
   },
   "outputs": [],
   "source": [
    "def plot_compaction(sim, silent=True):\n",
    "    verbose = not silent\n",
    "    fs = USGSFigure(figure_type=\"graph\", verbose=verbose)\n",
    "    name = sim.name\n",
    "\n",
    "    fig, axes = plt.subplots(\n",
    "        ncols=2,\n",
    "        nrows=3,\n",
    "        figsize=figure_size,\n",
    "        sharex=True,\n",
    "        constrained_layout=True,\n",
    "    )\n",
    "    axes = axes.flatten()\n",
    "\n",
    "    idx = 0\n",
    "    ax = axes[idx]\n",
    "    ax.set_xlim(0, 120)\n",
    "    ax.set_ylim(0, 1)\n",
    "    plot_compaction_values(ax, sim, tagbase=plot_tags[idx])\n",
    "    ht = \"{} {}\".format(\"Interbed compaction\", compaction_heading[0])\n",
    "    fs.heading(ax, letter=\"A\", heading=ht)\n",
    "    fs.remove_edge_ticks(ax)\n",
    "\n",
    "    idx += 1\n",
    "    ax = axes[idx]\n",
    "    ax.set_ylim(0, 1)\n",
    "    plot_compaction_values(ax, sim, tagbase=plot_tags[idx])\n",
    "    fs.graph_legend(ax, ncol=2, loc=\"upper center\")\n",
    "    ht = \"{} {}\".format(\"Interbed compaction\", compaction_heading[1])\n",
    "    fs.heading(ax, letter=\"B\", heading=ht)\n",
    "    fs.remove_edge_ticks(ax)\n",
    "\n",
    "    idx += 1\n",
    "    ax = axes[idx]\n",
    "    ax.set_ylim(0, 1)\n",
    "    plot_compaction_values(ax, sim, tagbase=plot_tags[idx])\n",
    "    ht = \"{} {}\".format(\"Coarse-grained compaction\", compaction_heading[0])\n",
    "    fs.heading(ax, letter=\"C\", heading=ht)\n",
    "    fs.remove_edge_ticks(ax)\n",
    "\n",
    "    idx += 1\n",
    "    ax = axes[idx]\n",
    "    ax.set_ylim(0, 1)\n",
    "    plot_compaction_values(ax, sim, tagbase=plot_tags[idx])\n",
    "    ht = \"{} {}\".format(\"Coarse-grained compaction\", compaction_heading[1])\n",
    "    fs.heading(ax, letter=\"D\", heading=ht)\n",
    "    fs.remove_edge_ticks(ax)\n",
    "\n",
    "    idx += 1\n",
    "    ax = axes[idx]\n",
    "    ax.set_ylim(0, 1)\n",
    "    plot_compaction_values(ax, sim, tagbase=plot_tags[idx])\n",
    "    ht = \"{} {}\".format(\"Total compaction\", compaction_heading[0])\n",
    "    fs.heading(ax, letter=\"E\", heading=ht)\n",
    "    fs.remove_edge_ticks(ax)\n",
    "    ax.set_ylabel(\" \")\n",
    "    ax.set_xlabel(\" \")\n",
    "\n",
    "    idx += 1\n",
    "    ax = axes.flat[idx]\n",
    "    ax.set_ylim(0, 1)\n",
    "    plot_compaction_values(ax, sim, tagbase=plot_tags[idx])\n",
    "    ht = \"{} {}\".format(\"Total compaction\", compaction_heading[1])\n",
    "    fs.heading(ax, letter=\"F\", heading=ht)\n",
    "    fs.remove_edge_ticks(ax)\n",
    "\n",
    "    ax = fig.add_subplot(111, frame_on=False, xticks=[], yticks=[])\n",
    "    ax.set_ylabel(\n",
    "        \"Downward vertical displacement at the top of the model layer, in meters\"\n",
    "    )\n",
    "    ax.set_xlabel(\"Simulation time, in years\")\n",
    "\n",
    "    # save figure\n",
    "    if config.plotSave:\n",
    "        fpth = os.path.join(\n",
    "            \"..\", \"figures\", \"{}-02{}\".format(name, config.figure_ext)\n",
    "        )\n",
    "        if not silent:\n",
    "            print(\"saving...'{}'\".format(fpth))\n",
    "        fig.savefig(fpth)"
   ]
  },
  {
   "cell_type": "markdown",
   "id": "c2c4e555",
   "metadata": {
    "lines_to_next_cell": 2
   },
   "source": [
    "Function to plot the model results."
   ]
  },
  {
   "cell_type": "code",
   "execution_count": null,
   "id": "62cf8f39",
   "metadata": {
    "lines_to_next_cell": 2
   },
   "outputs": [],
   "source": [
    "def plot_results(sim, silent=True):\n",
    "    if config.plotModel:\n",
    "        plot_grid(sim, silent=silent)\n",
    "        plot_stresses(sim, silent=silent)\n",
    "        plot_compaction(sim, silent=silent)"
   ]
  },
  {
   "cell_type": "markdown",
   "id": "81f7a0cc",
   "metadata": {
    "lines_to_next_cell": 2
   },
   "source": [
    "Function that wraps all of the steps for the model\n",
    "\n",
    "1. build_model,\n",
    "2. write_model,\n",
    "3. run_model, and\n",
    "4. plot_results.\n"
   ]
  },
  {
   "cell_type": "code",
   "execution_count": null,
   "id": "0a25fdc8",
   "metadata": {},
   "outputs": [],
   "source": [
    "def simulation(silent=True):\n",
    "    sim = build_model()\n",
    "\n",
    "    write_model(sim, silent=silent)\n",
    "\n",
    "    success = run_model(sim, silent=silent)\n",
    "\n",
    "    if success:\n",
    "        plot_results(sim, silent=silent)"
   ]
  },
  {
   "cell_type": "code",
   "execution_count": null,
   "id": "99ee1982",
   "metadata": {},
   "outputs": [],
   "source": []
  },
  {
   "cell_type": "markdown",
   "id": "576711b0",
   "metadata": {},
   "source": [
    "### One-dimensional compaction in a three-dimensional flow field"
   ]
  },
  {
   "cell_type": "code",
   "execution_count": null,
   "id": "06a13dae",
   "metadata": {},
   "outputs": [],
   "source": [
    "simulation()"
   ]
  }
 ],
 "metadata": {
  "jupytext": {
   "cell_metadata_filter": "-all",
   "main_language": "python",
   "notebook_metadata_filter": "-all"
  }
 },
 "nbformat": 4,
 "nbformat_minor": 5
}
