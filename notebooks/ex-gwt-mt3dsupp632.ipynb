{
 "cells": [
  {
   "cell_type": "markdown",
   "id": "9ed50cc8",
   "metadata": {},
   "source": [
    "## Zero-Order Production in a Dual-Domain System\n",
    "\n",
    "MT3DMS Supplemental Guide Problem 6.3.2\n",
    "\n",
    "\n"
   ]
  },
  {
   "cell_type": "markdown",
   "id": "d4c85207",
   "metadata": {},
   "source": [
    "### Zero-Order Production in a Dual-Domain System Problem Setup"
   ]
  },
  {
   "cell_type": "markdown",
   "id": "48c48bd1",
   "metadata": {},
   "source": [
    "Imports"
   ]
  },
  {
   "cell_type": "code",
   "execution_count": null,
   "id": "07a5c061",
   "metadata": {},
   "outputs": [],
   "source": [
    "import os\n",
    "import sys\n",
    "import numpy as np\n",
    "import matplotlib.pyplot as plt\n",
    "import flopy"
   ]
  },
  {
   "cell_type": "markdown",
   "id": "4c9181c4",
   "metadata": {},
   "source": [
    "Append to system path to include the common subdirectory"
   ]
  },
  {
   "cell_type": "code",
   "execution_count": null,
   "id": "9c26dcd5",
   "metadata": {},
   "outputs": [],
   "source": [
    "sys.path.append(os.path.join(\"..\", \"common\"))"
   ]
  },
  {
   "cell_type": "markdown",
   "id": "42e1773b",
   "metadata": {},
   "source": [
    "Import common functionality"
   ]
  },
  {
   "cell_type": "code",
   "execution_count": null,
   "id": "2ad42812",
   "metadata": {},
   "outputs": [],
   "source": [
    "import config\n",
    "from figspecs import USGSFigure"
   ]
  },
  {
   "cell_type": "markdown",
   "id": "daf15640",
   "metadata": {},
   "source": [
    "Set figure properties specific to the"
   ]
  },
  {
   "cell_type": "code",
   "execution_count": null,
   "id": "647ddff6",
   "metadata": {},
   "outputs": [],
   "source": [
    "figure_size = (3, 3)"
   ]
  },
  {
   "cell_type": "markdown",
   "id": "7f6c0697",
   "metadata": {},
   "source": [
    "Base simulation and model name and workspace"
   ]
  },
  {
   "cell_type": "code",
   "execution_count": null,
   "id": "3066416d",
   "metadata": {},
   "outputs": [],
   "source": [
    "ws = config.base_ws"
   ]
  },
  {
   "cell_type": "markdown",
   "id": "05cb1c43",
   "metadata": {},
   "source": [
    "Scenario parameters - make sure there is at least one blank line before next item"
   ]
  },
  {
   "cell_type": "code",
   "execution_count": null,
   "id": "032659ed",
   "metadata": {},
   "outputs": [],
   "source": [
    "parameters = {\n",
    "    \"ex-gwt-mt3dsupp632a\": {\n",
    "        \"distribution_coefficient\": 0.25,\n",
    "        \"decay\": 0.0,\n",
    "        \"decay_sorbed\": -1.0e-3,\n",
    "    },\n",
    "    \"ex-gwt-mt3dsupp632b\": {\n",
    "        \"distribution_coefficient\": 0.25,\n",
    "        \"decay\": -5.0e-4,\n",
    "        \"decay_sorbed\": -5.0e-4,\n",
    "    },\n",
    "    \"ex-gwt-mt3dsupp632c\": {\n",
    "        \"distribution_coefficient\": 0.0,\n",
    "        \"decay\": -1.0e-3,\n",
    "        \"decay_sorbed\": 0.0,\n",
    "    },\n",
    "}"
   ]
  },
  {
   "cell_type": "markdown",
   "id": "c14ad913",
   "metadata": {},
   "source": [
    "Scenario parameter units - make sure there is at least one blank line before next item\n",
    "add parameter_units to add units to the scenario parameter table"
   ]
  },
  {
   "cell_type": "code",
   "execution_count": null,
   "id": "6f00a7bf",
   "metadata": {},
   "outputs": [],
   "source": [
    "parameter_units = {\n",
    "    \"distribution_coefficient\": \"$mL g^{-1}$\",\n",
    "    \"decay\": \"$g/mL d^{-1}$\",\n",
    "    \"decay_sorbed\": \"$g/mL d^{-1}$\",\n",
    "}"
   ]
  },
  {
   "cell_type": "markdown",
   "id": "0d690692",
   "metadata": {},
   "source": [
    "Model units"
   ]
  },
  {
   "cell_type": "code",
   "execution_count": null,
   "id": "61f3540e",
   "metadata": {},
   "outputs": [],
   "source": [
    "length_units = \"m\"\n",
    "time_units = \"days\""
   ]
  },
  {
   "cell_type": "markdown",
   "id": "bcf5836d",
   "metadata": {},
   "source": [
    "Table of model parameters"
   ]
  },
  {
   "cell_type": "code",
   "execution_count": null,
   "id": "36f5d746",
   "metadata": {},
   "outputs": [],
   "source": [
    "nper = 2  # Number of periods\n",
    "nlay = 1  # Number of layers\n",
    "nrow = 1  # Number of rows\n",
    "ncol = 401  # Number of columns\n",
    "delr = 2.5  # Column width ($m$)\n",
    "delc = 1.0  # Row width ($m$)\n",
    "top = 1.0  # Top of the model ($m$)\n",
    "botm = 0  # Layer bottom elevation ($m$)\n",
    "specific_discharge = 0.06  # Specific discharge ($md^{-1}$)\n",
    "longitudinal_dispersivity = 10  # Longitudinal dispersivity ($m$)\n",
    "volfrac = 0.2  # volume fraction that is immobile domain (unitless)\n",
    "porosity = 0.2  # Porosity of mobile domain (unitless)\n",
    "porosity_immobile = 0.05  # Porosity of immobile domain (unitless)\n",
    "bulk_density = 4.0  # Bulk density ($gL^{-1})$\n",
    "zeta_im = 1.0e-3  # First-order mass transfer rate between the mobile and immobile domains ($d^{-1}$)\n",
    "f = 0.8  # Fraction of sorption sites in contact with mobile water (unitless)\n",
    "source_duration = 1000  # Source duration ($d$)\n",
    "total_time = 10000  # Simulation time ($t$)\n",
    "obs_xloc = 200.0  # Observation x location ($m$)"
   ]
  },
  {
   "cell_type": "markdown",
   "id": "221d27f6",
   "metadata": {},
   "source": [
    "Flags that can be adjusted to change example configuration"
   ]
  },
  {
   "cell_type": "code",
   "execution_count": null,
   "id": "49992e8b",
   "metadata": {},
   "outputs": [],
   "source": [
    "zero_order_decay = True  # Flag indicating whether decay is zero or first order\n",
    "dual_domain = True  # Flag indicating that dual domain is active"
   ]
  },
  {
   "cell_type": "markdown",
   "id": "72a9caea",
   "metadata": {
    "lines_to_next_cell": 2
   },
   "source": [
    "### Functions to build, write, run and plot models\n",
    "\n",
    "MODFLOW 6 flopy simulation object (sim) is returned if building the model\n"
   ]
  },
  {
   "cell_type": "code",
   "execution_count": null,
   "id": "e758deb5",
   "metadata": {},
   "outputs": [],
   "source": [
    "def build_mf6gwf(sim_folder):\n",
    "    print(\"Building mf6gwf model...{}\".format(sim_folder))\n",
    "    name = \"flow\"\n",
    "    sim_ws = os.path.join(ws, sim_folder, \"mf6gwf\")\n",
    "    sim = flopy.mf6.MFSimulation(\n",
    "        sim_name=name, sim_ws=sim_ws, exe_name=config.mf6_exe\n",
    "    )\n",
    "    tdis_ds = (\n",
    "        (source_duration, 1, 1.0),\n",
    "        (total_time - source_duration, 1, 1.0),\n",
    "    )\n",
    "    flopy.mf6.ModflowTdis(\n",
    "        sim, nper=nper, perioddata=tdis_ds, time_units=time_units\n",
    "    )\n",
    "    flopy.mf6.ModflowIms(sim)\n",
    "    gwf = flopy.mf6.ModflowGwf(sim, modelname=name, save_flows=True)\n",
    "    flopy.mf6.ModflowGwfdis(\n",
    "        gwf,\n",
    "        length_units=length_units,\n",
    "        nlay=nlay,\n",
    "        nrow=nrow,\n",
    "        ncol=ncol,\n",
    "        delr=delr,\n",
    "        delc=delc,\n",
    "        top=top,\n",
    "        botm=botm,\n",
    "    )\n",
    "    flopy.mf6.ModflowGwfnpf(\n",
    "        gwf,\n",
    "        save_specific_discharge=True,\n",
    "        save_saturation=True,\n",
    "        icelltype=0,\n",
    "        k=1.0,\n",
    "    )\n",
    "    flopy.mf6.ModflowGwfic(gwf, strt=1.0)\n",
    "    flopy.mf6.ModflowGwfchd(gwf, stress_period_data=[[(0, 0, ncol - 1), 1.0]])\n",
    "    wel_spd = {\n",
    "        0: [[(0, 0, 0), specific_discharge * delc * top]],\n",
    "        1: [[(0, 0, 0), specific_discharge * delc * top]],\n",
    "    }\n",
    "    flopy.mf6.ModflowGwfwel(gwf, stress_period_data=wel_spd, pname=\"WEL-1\")\n",
    "    head_filerecord = \"{}.hds\".format(name)\n",
    "    budget_filerecord = \"{}.bud\".format(name)\n",
    "    flopy.mf6.ModflowGwfoc(\n",
    "        gwf,\n",
    "        head_filerecord=head_filerecord,\n",
    "        budget_filerecord=budget_filerecord,\n",
    "        saverecord=[(\"HEAD\", \"ALL\"), (\"BUDGET\", \"ALL\")],\n",
    "    )\n",
    "    return sim"
   ]
  },
  {
   "cell_type": "code",
   "execution_count": null,
   "id": "255e1247",
   "metadata": {},
   "outputs": [],
   "source": [
    "def build_mf6gwt(sim_folder, distribution_coefficient, decay, decay_sorbed):\n",
    "    print(\"Building mf6gwt model...{}\".format(sim_folder))\n",
    "    name = \"trans\"\n",
    "    sim_ws = os.path.join(ws, sim_folder, \"mf6gwt\")\n",
    "    sim = flopy.mf6.MFSimulation(\n",
    "        sim_name=name, sim_ws=sim_ws, exe_name=config.mf6_exe\n",
    "    )\n",
    "    pertim1 = source_duration\n",
    "    pertim2 = total_time - source_duration\n",
    "    tdis_ds = ((pertim1, 10, 1.0), (pertim2, 90, 1.0))\n",
    "    flopy.mf6.ModflowTdis(\n",
    "        sim, nper=nper, perioddata=tdis_ds, time_units=time_units\n",
    "    )\n",
    "    flopy.mf6.ModflowIms(sim, linear_acceleration=\"bicgstab\")\n",
    "    gwt = flopy.mf6.ModflowGwt(sim, modelname=name, save_flows=True)\n",
    "    flopy.mf6.ModflowGwtdis(\n",
    "        gwt,\n",
    "        length_units=length_units,\n",
    "        nlay=nlay,\n",
    "        nrow=nrow,\n",
    "        ncol=ncol,\n",
    "        delr=delr,\n",
    "        delc=delc,\n",
    "        top=top,\n",
    "        botm=botm,\n",
    "    )\n",
    "    if zero_order_decay:\n",
    "        first_order_decay = False\n",
    "    else:\n",
    "        first_order_decay = True\n",
    "    if distribution_coefficient > 0:\n",
    "        sorption = \"linear\"\n",
    "        bd = bulk_density\n",
    "        kd = distribution_coefficient\n",
    "    else:\n",
    "        sorption = None\n",
    "        bd = None\n",
    "        kd = None\n",
    "    flopy.mf6.ModflowGwtic(gwt, strt=0)\n",
    "    flopy.mf6.ModflowGwtmst(\n",
    "        gwt,\n",
    "        zero_order_decay=zero_order_decay,\n",
    "        first_order_decay=first_order_decay,\n",
    "        sorption=sorption,\n",
    "        porosity=porosity / (1.0 - volfrac),\n",
    "        decay=decay,\n",
    "        decay_sorbed=decay_sorbed,\n",
    "        bulk_density=bd,\n",
    "        distcoef=kd,\n",
    "    )\n",
    "    istsorption = sorption is not None\n",
    "    if dual_domain:\n",
    "        flopy.mf6.ModflowGwtist(\n",
    "            gwt,\n",
    "            zero_order_decay=zero_order_decay,\n",
    "            first_order_decay=first_order_decay,\n",
    "            sorption=istsorption,\n",
    "            porosity=porosity_immobile / volfrac,\n",
    "            volfrac=volfrac,\n",
    "            zetaim=zeta_im,\n",
    "            decay=decay,\n",
    "            decay_sorbed=decay_sorbed,\n",
    "            bulk_density=bd,\n",
    "            distcoef=distribution_coefficient,\n",
    "        )\n",
    "    flopy.mf6.ModflowGwtadv(gwt)\n",
    "    flopy.mf6.ModflowGwtdsp(\n",
    "        gwt,\n",
    "        xt3d_off=True,\n",
    "        alh=longitudinal_dispersivity,\n",
    "        ath1=longitudinal_dispersivity,\n",
    "    )\n",
    "    pd = [\n",
    "        (\"GWFHEAD\", \"../mf6gwf/flow.hds\".format(), None),\n",
    "        (\"GWFBUDGET\", \"../mf6gwf/flow.bud\", None),\n",
    "    ]\n",
    "    flopy.mf6.ModflowGwtfmi(gwt, packagedata=pd)\n",
    "    cnc_spd = {\n",
    "        0: [[(0, 0, 0), 1.0]],\n",
    "        1: [[(0, 0, 0), 0.0]],\n",
    "    }\n",
    "    flopy.mf6.ModflowGwtcnc(gwt, stress_period_data=cnc_spd)\n",
    "    sourcerecarray = [[]]\n",
    "    flopy.mf6.ModflowGwtssm(gwt, sources=sourcerecarray)\n",
    "    obsj = int(obs_xloc / delr) + 1\n",
    "    obs_data = {\n",
    "        \"{}.obs.csv\".format(name): [\n",
    "            (\"myobs\", \"CONCENTRATION\", (0, 0, obsj)),\n",
    "        ],\n",
    "    }\n",
    "    obs_package = flopy.mf6.ModflowUtlobs(\n",
    "        gwt, digits=10, print_input=True, continuous=obs_data\n",
    "    )\n",
    "    return sim"
   ]
  },
  {
   "cell_type": "code",
   "execution_count": null,
   "id": "c0ba4ff0",
   "metadata": {},
   "outputs": [],
   "source": [
    "def build_mf2005(sim_folder):\n",
    "    print(\"Building mf2005 model...{}\".format(sim_folder))\n",
    "    name = \"flow\"\n",
    "    sim_ws = os.path.join(ws, sim_folder, \"mf2005\")\n",
    "    mf = flopy.modflow.Modflow(\n",
    "        modelname=name, model_ws=sim_ws, exe_name=config.mf2005_exe\n",
    "    )\n",
    "    pertim1 = source_duration\n",
    "    pertim2 = total_time - source_duration\n",
    "    perlen = [pertim1, pertim2]\n",
    "    dis = flopy.modflow.ModflowDis(\n",
    "        mf,\n",
    "        nlay=nlay,\n",
    "        nrow=nrow,\n",
    "        ncol=ncol,\n",
    "        delr=delr,\n",
    "        delc=delc,\n",
    "        top=top,\n",
    "        botm=botm,\n",
    "        nper=nper,\n",
    "        perlen=perlen,\n",
    "    )\n",
    "    bas = flopy.modflow.ModflowBas(mf)\n",
    "    lpf = flopy.modflow.ModflowLpf(mf)\n",
    "    pcg = flopy.modflow.ModflowPcg(mf)\n",
    "    lmt = flopy.modflow.ModflowLmt(mf)\n",
    "    chd = flopy.modflow.ModflowChd(\n",
    "        mf, stress_period_data=[[0, 0, ncol - 1, 1.0, 1.0]]\n",
    "    )\n",
    "    wel_spd = {\n",
    "        0: [[0, 0, 0, specific_discharge * delc * top]],\n",
    "        1: [[0, 0, 0, specific_discharge * delc * top]],\n",
    "    }\n",
    "    wel = flopy.modflow.ModflowWel(mf, stress_period_data=wel_spd)\n",
    "    return mf"
   ]
  },
  {
   "cell_type": "code",
   "execution_count": null,
   "id": "8e5fa87a",
   "metadata": {},
   "outputs": [],
   "source": [
    "def build_mt3dms(\n",
    "    sim_folder, distribution_coefficient, decay, decay_sorbed, modflowmodel\n",
    "):\n",
    "    print(\"Building mt3dms model...{}\".format(sim_folder))\n",
    "    name = \"trans\"\n",
    "    sim_ws = os.path.join(ws, sim_folder, \"mt3d\")\n",
    "    mt = flopy.mt3d.Mt3dms(\n",
    "        modelname=name,\n",
    "        model_ws=sim_ws,\n",
    "        exe_name=config.mt3dms_exe,\n",
    "        modflowmodel=modflowmodel,\n",
    "        ftlfilename=\"../mf2005/mt3d_link.ftl\",\n",
    "    )\n",
    "    dt0 = source_duration / 10.0\n",
    "    btn = flopy.mt3d.Mt3dBtn(\n",
    "        mt, laycon=0, prsity=porosity, obs=[(0, 0, 81)], dt0=dt0, ifmtcn=1\n",
    "    )\n",
    "    adv = flopy.mt3d.Mt3dAdv(mt, mixelm=0)\n",
    "    dsp = flopy.mt3d.Mt3dDsp(mt, al=longitudinal_dispersivity)\n",
    "    sp1 = distribution_coefficient\n",
    "    sp2 = 0.0\n",
    "    rc1 = decay\n",
    "    rc2 = decay_sorbed\n",
    "    prsity2 = 0.0\n",
    "    if dual_domain:\n",
    "        prsity2 = porosity_immobile\n",
    "        if distribution_coefficient > 0:\n",
    "            isothm = 6  # dual domain with sorption\n",
    "            sp2 = zeta_im\n",
    "        else:\n",
    "            isothm = 5  # dual domain without sorption\n",
    "            sp2 = zeta_im\n",
    "            rc2 = 0.0\n",
    "    else:\n",
    "        isothm = 1\n",
    "        if distribution_coefficient > 0:\n",
    "            rc2 = decay_sorbed\n",
    "        else:\n",
    "            rc2 = 0\n",
    "    if zero_order_decay:\n",
    "        ireact = 100  # zero order decay\n",
    "    else:\n",
    "        ireact = 1  # first order decay\n",
    "    rct = flopy.mt3d.Mt3dRct(\n",
    "        mt,\n",
    "        isothm=isothm,\n",
    "        ireact=ireact,\n",
    "        igetsc=0,\n",
    "        rhob=bulk_density,\n",
    "        sp1=sp1,\n",
    "        sp2=sp2,\n",
    "        prsity2=prsity2,\n",
    "        rc1=rc1,\n",
    "        rc2=rc2,\n",
    "    )\n",
    "    ssm_spd = {0: [0, 0, 0, 1.0, -1], 1: [0, 0, 0, 0.0, -1]}\n",
    "    ssm = flopy.mt3d.Mt3dSsm(mt, stress_period_data=ssm_spd)\n",
    "    gcg = flopy.mt3d.Mt3dGcg(mt)\n",
    "    return mt"
   ]
  },
  {
   "cell_type": "code",
   "execution_count": null,
   "id": "905b36d6",
   "metadata": {
    "lines_to_next_cell": 2
   },
   "outputs": [],
   "source": [
    "def build_model(sim_name, distribution_coefficient, decay, decay_sorbed):\n",
    "    sims = None\n",
    "    if config.buildModel:\n",
    "        sim_mf6gwf = build_mf6gwf(sim_name)\n",
    "        sim_mf6gwt = build_mf6gwt(\n",
    "            sim_name, distribution_coefficient, decay, decay_sorbed\n",
    "        )\n",
    "        sim_mf2005 = build_mf2005(sim_name)\n",
    "        sim_mt3dms = build_mt3dms(\n",
    "            sim_name, distribution_coefficient, decay, decay_sorbed, sim_mf2005\n",
    "        )\n",
    "        sims = (sim_mf6gwf, sim_mf6gwt, sim_mf2005, sim_mt3dms)\n",
    "    return sims"
   ]
  },
  {
   "cell_type": "markdown",
   "id": "5bd576c6",
   "metadata": {
    "lines_to_next_cell": 2
   },
   "source": [
    "Function to write model files"
   ]
  },
  {
   "cell_type": "code",
   "execution_count": null,
   "id": "f6ba4dd0",
   "metadata": {
    "lines_to_next_cell": 2
   },
   "outputs": [],
   "source": [
    "def write_model(sims, silent=True):\n",
    "    if config.writeModel:\n",
    "        sim_mf6gwf, sim_mf6gwt, sim_mf2005, sim_mt3dms = sims\n",
    "        sim_mf6gwf.write_simulation(silent=silent)\n",
    "        sim_mf6gwt.write_simulation(silent=silent)\n",
    "        sim_mf2005.write_input()\n",
    "        sim_mt3dms.write_input()\n",
    "    return"
   ]
  },
  {
   "cell_type": "markdown",
   "id": "1bb5f978",
   "metadata": {
    "lines_to_next_cell": 2
   },
   "source": [
    "Function to run the model\n",
    "True is returned if the model runs successfully"
   ]
  },
  {
   "cell_type": "code",
   "execution_count": null,
   "id": "4249f691",
   "metadata": {
    "lines_to_next_cell": 2
   },
   "outputs": [],
   "source": [
    "@config.timeit\n",
    "def run_model(sims, silent=True):\n",
    "    success = True\n",
    "    if config.runModel:\n",
    "        success = False\n",
    "        sim_mf6gwf, sim_mf6gwt, sim_mf2005, sim_mt3dms = sims\n",
    "        success, buff = sim_mf6gwf.run_simulation(silent=silent)\n",
    "        if not success:\n",
    "            print(buff)\n",
    "        success, buff = sim_mf6gwt.run_simulation(silent=silent)\n",
    "        if not success:\n",
    "            print(buff)\n",
    "        success, buff = sim_mf2005.run_model(silent=silent)\n",
    "        if not success:\n",
    "            print(buff)\n",
    "        success, buff = sim_mt3dms.run_model(\n",
    "            silent=silent, normal_msg=\"Program completed\"\n",
    "        )\n",
    "        if not success:\n",
    "            print(buff)\n",
    "    return success"
   ]
  },
  {
   "cell_type": "markdown",
   "id": "63b0cff6",
   "metadata": {
    "lines_to_next_cell": 2
   },
   "source": [
    "Functions to plot the model results"
   ]
  },
  {
   "cell_type": "code",
   "execution_count": null,
   "id": "5cb2317a",
   "metadata": {},
   "outputs": [],
   "source": [
    "def plot_results():\n",
    "    if config.plotModel:\n",
    "        print(\"Plotting model results...\")\n",
    "\n",
    "        fs = USGSFigure(figure_type=\"graph\", verbose=False)\n",
    "        fig, axs = plt.subplots(\n",
    "            1, 1, figsize=figure_size, dpi=300, tight_layout=True\n",
    "        )\n",
    "\n",
    "        case_colors = [\"blue\", \"green\", \"red\"]\n",
    "        for icase, sim_name in enumerate(parameters.keys()):\n",
    "\n",
    "            sim_ws = os.path.join(ws, sim_name)\n",
    "\n",
    "            fname = os.path.join(sim_ws, \"mf6gwt\", \"trans.obs.csv\")\n",
    "            mf6gwt_ra = flopy.utils.Mf6Obs(fname).data\n",
    "            axs.plot(\n",
    "                mf6gwt_ra[\"totim\"],\n",
    "                mf6gwt_ra[\"MYOBS\"],\n",
    "                markerfacecolor=\"None\",\n",
    "                markeredgecolor=\"k\",\n",
    "                marker=\"o\",\n",
    "                markersize=\"4\",\n",
    "                linestyle=\"None\",\n",
    "            )\n",
    "\n",
    "            fname = os.path.join(sim_ws, \"mt3d\", \"MT3D001.OBS\")\n",
    "            mt3dms_ra = flopy.mt3d.Mt3dms.load_obs(fname)\n",
    "            axs.plot(\n",
    "                mt3dms_ra[\"time\"],\n",
    "                mt3dms_ra[\"(1, 1, 82)\"],\n",
    "                color=case_colors[icase],\n",
    "                label=\"Scenario {}\".format(icase + 1),\n",
    "            )\n",
    "\n",
    "        axs.set_ylim(0, 16)\n",
    "        axs.set_xlabel(\"Time (days)\")\n",
    "        axs.set_ylabel(\"Normalized Concentration (unitless)\")\n",
    "        axs.legend()\n",
    "\n",
    "        # save figure\n",
    "        if config.plotSave:\n",
    "            fname = \"{}{}\".format(\"ex-gwt-mt3dsupp632\", config.figure_ext)\n",
    "            fpth = os.path.join(\"..\", \"figures\", fname)\n",
    "            fig.savefig(fpth)\n",
    "    return"
   ]
  },
  {
   "cell_type": "code",
   "execution_count": null,
   "id": "33f8b84a",
   "metadata": {
    "lines_to_next_cell": 2
   },
   "outputs": [],
   "source": [
    "def plot_scenario_results(sims, idx):\n",
    "    if config.plotModel:\n",
    "        print(\"Plotting model results...\")\n",
    "        sim_mf6gwf, sim_mf6gwt, sim_mf2005, sim_mt3dms = sims\n",
    "        fs = USGSFigure(figure_type=\"graph\", verbose=False)\n",
    "\n",
    "        mf6gwt_ra = sim_mf6gwt.get_model(\"trans\").obs.output.obs().data\n",
    "        fig, axs = plt.subplots(\n",
    "            1, 1, figsize=figure_size, dpi=300, tight_layout=True\n",
    "        )\n",
    "        axs.plot(\n",
    "            mf6gwt_ra[\"totim\"],\n",
    "            mf6gwt_ra[\"MYOBS\"],\n",
    "            markerfacecolor=\"None\",\n",
    "            markeredgecolor=\"b\",\n",
    "            marker=\"o\",\n",
    "            markersize=\"4\",\n",
    "            linestyle=\"None\",\n",
    "            label=\"MODFLOW 6 GWT\",\n",
    "        )\n",
    "        sim_ws = sim_mt3dms.model_ws\n",
    "        fname = os.path.join(sim_ws, \"MT3D001.OBS\")\n",
    "        mt3dms_ra = sim_mt3dms.load_obs(fname)\n",
    "        axs.plot(\n",
    "            mt3dms_ra[\"time\"],\n",
    "            mt3dms_ra[\"(1, 1, 82)\"],\n",
    "            linestyle=\"-\",\n",
    "            color=\"k\",\n",
    "            label=\"MT3DMS\",\n",
    "        )\n",
    "        axs.legend()\n",
    "        title = \"Case {} \".format(idx + 1)\n",
    "        letter = chr(ord(\"@\") + idx + 1)\n",
    "        fs.heading(letter=letter, heading=title)\n",
    "\n",
    "        # save figure\n",
    "        if config.plotSave:\n",
    "            sim_folder = os.path.split(sim_ws)[0]\n",
    "            sim_folder = os.path.basename(sim_folder)\n",
    "            fname = \"{}{}\".format(sim_folder, config.figure_ext)\n",
    "            fpth = os.path.join(ws, \"..\", \"figures\", fname)\n",
    "            fig.savefig(fpth)"
   ]
  },
  {
   "cell_type": "markdown",
   "id": "e5e63496",
   "metadata": {
    "lines_to_next_cell": 2
   },
   "source": [
    "Function that wraps all of the steps for each scenario\n",
    "\n",
    "1. build_model,\n",
    "2. write_model,\n",
    "3. run_model, and\n",
    "4. plot_results."
   ]
  },
  {
   "cell_type": "code",
   "execution_count": null,
   "id": "638b5d62",
   "metadata": {},
   "outputs": [],
   "source": [
    "def scenario(idx, silent=True):\n",
    "    key = list(parameters.keys())[idx]\n",
    "    parameter_dict = parameters[key]\n",
    "    sims = build_model(key, **parameter_dict)\n",
    "    write_model(sims, silent=silent)\n",
    "    success = run_model(sims, silent=silent)\n",
    "    if success:\n",
    "        plot_scenario_results(sims, idx)\n",
    "    return"
   ]
  },
  {
   "cell_type": "code",
   "execution_count": null,
   "id": "27167943",
   "metadata": {},
   "outputs": [],
   "source": []
  },
  {
   "cell_type": "markdown",
   "id": "623fc8ca",
   "metadata": {},
   "source": [
    "### Case 1\n",
    "\n",
    "ex-gwt-mt3dsupp632a\n",
    "* distribution_coefficient = 0.25\n",
    "* decay = 0.0\n",
    "* decay_sorbed = -1.0e-3"
   ]
  },
  {
   "cell_type": "code",
   "execution_count": null,
   "id": "c65d6d0c",
   "metadata": {},
   "outputs": [],
   "source": [
    "scenario(0)"
   ]
  },
  {
   "cell_type": "markdown",
   "id": "dd0e68bf",
   "metadata": {},
   "source": [
    "### Case 2\n",
    "\n",
    "ex-gwt-mt3dsupp632a\n",
    "* distribution_coefficient = 0.25\n",
    "* decay = -5.e-4\n",
    "* decay_sorbed = -5.e-4"
   ]
  },
  {
   "cell_type": "code",
   "execution_count": null,
   "id": "0eeae222",
   "metadata": {},
   "outputs": [],
   "source": [
    "scenario(1)"
   ]
  },
  {
   "cell_type": "markdown",
   "id": "ab1d1f94",
   "metadata": {},
   "source": [
    "### Case 3\n",
    "\n",
    "ex-gwt-mt3dsupp632a\n",
    "* distribution_coefficient = 0.\n",
    "* decay = -1.0e-3\n",
    "* decay_sorbed = 0."
   ]
  },
  {
   "cell_type": "code",
   "execution_count": null,
   "id": "b04c40e2",
   "metadata": {},
   "outputs": [],
   "source": [
    "scenario(2)"
   ]
  },
  {
   "cell_type": "markdown",
   "id": "4d2ac999",
   "metadata": {},
   "source": [
    "### Plot the Zero-Order Production in a Dual-Domain System Problem results\n",
    "\n",
    "Plot the results for all 3 scenarios in one plot"
   ]
  },
  {
   "cell_type": "code",
   "execution_count": null,
   "id": "85823fcd",
   "metadata": {},
   "outputs": [],
   "source": [
    "plot_results()"
   ]
  }
 ],
 "metadata": {
  "jupytext": {
   "cell_metadata_filter": "-all",
   "main_language": "python",
   "notebook_metadata_filter": "-all"
  }
 },
 "nbformat": 4,
 "nbformat_minor": 5
}
