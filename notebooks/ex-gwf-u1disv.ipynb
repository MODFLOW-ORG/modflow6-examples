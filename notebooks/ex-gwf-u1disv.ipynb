{
 "cells": [
  {
   "cell_type": "markdown",
   "id": "d32164ec",
   "metadata": {},
   "source": [
    "## USG1DISV example\n",
    "\n",
    "This example shows how the MODFLOW 6 DISV Package can be used to simulate\n",
    "a nested grid problem.  The example corresponds to the first example\n",
    "described in the MODFLOW-USG documentation.  The problem is run without and\n",
    "with the XT3D option of the NPF Package to improve the solution.\n"
   ]
  },
  {
   "cell_type": "markdown",
   "id": "e2c1d3a1",
   "metadata": {},
   "source": [
    "### USG1DISV Problem Setup\n",
    "\n",
    "Imports"
   ]
  },
  {
   "cell_type": "code",
   "execution_count": null,
   "id": "55dea31b",
   "metadata": {},
   "outputs": [],
   "source": [
    "import os\n",
    "import sys"
   ]
  },
  {
   "cell_type": "code",
   "execution_count": null,
   "id": "bff4b39f",
   "metadata": {},
   "outputs": [],
   "source": [
    "import flopy\n",
    "import flopy.utils.cvfdutil\n",
    "import matplotlib.pyplot as plt\n",
    "import numpy as np"
   ]
  },
  {
   "cell_type": "markdown",
   "id": "a4ff2766",
   "metadata": {},
   "source": [
    "Append to system path to include the common subdirectory"
   ]
  },
  {
   "cell_type": "code",
   "execution_count": null,
   "id": "eedec58c",
   "metadata": {},
   "outputs": [],
   "source": [
    "sys.path.append(os.path.join(\"..\", \"common\"))"
   ]
  },
  {
   "cell_type": "markdown",
   "id": "da21b7aa",
   "metadata": {},
   "source": [
    "import common functionality"
   ]
  },
  {
   "cell_type": "code",
   "execution_count": null,
   "id": "a16d8cc8",
   "metadata": {},
   "outputs": [],
   "source": [
    "import config\n",
    "from figspecs import USGSFigure"
   ]
  },
  {
   "cell_type": "markdown",
   "id": "e348cd15",
   "metadata": {},
   "source": [
    "Set default figure properties"
   ]
  },
  {
   "cell_type": "code",
   "execution_count": null,
   "id": "c72c8b03",
   "metadata": {},
   "outputs": [],
   "source": [
    "figure_size = (6, 6)"
   ]
  },
  {
   "cell_type": "markdown",
   "id": "898d3fb8",
   "metadata": {},
   "source": [
    "Base simulation and model name and workspace"
   ]
  },
  {
   "cell_type": "code",
   "execution_count": null,
   "id": "6834e6fb",
   "metadata": {},
   "outputs": [],
   "source": [
    "ws = config.base_ws"
   ]
  },
  {
   "cell_type": "markdown",
   "id": "5c2a5144",
   "metadata": {},
   "source": [
    "Model units"
   ]
  },
  {
   "cell_type": "code",
   "execution_count": null,
   "id": "74cd9cf5",
   "metadata": {},
   "outputs": [],
   "source": [
    "length_units = \"meters\"\n",
    "time_units = \"days\""
   ]
  },
  {
   "cell_type": "markdown",
   "id": "3ce93751",
   "metadata": {},
   "source": [
    "Scenario parameters"
   ]
  },
  {
   "cell_type": "code",
   "execution_count": null,
   "id": "6f4baf5f",
   "metadata": {},
   "outputs": [],
   "source": [
    "parameters = {\n",
    "    \"ex-gwf-u1disv\": {\n",
    "        \"xt3d\": False,\n",
    "    },\n",
    "    \"ex-gwf-u1disv-x\": {\n",
    "        \"xt3d\": True,\n",
    "    },\n",
    "}"
   ]
  },
  {
   "cell_type": "markdown",
   "id": "3325044d",
   "metadata": {},
   "source": [
    "Table USG1DISV Model Parameters"
   ]
  },
  {
   "cell_type": "code",
   "execution_count": null,
   "id": "38a14f93",
   "metadata": {},
   "outputs": [],
   "source": [
    "nper = 1  # Number of periods\n",
    "nlay = 1  # Number of layers\n",
    "top = 0.0  # Top of the model ($m$)\n",
    "botm = -100.0  # Layer bottom elevations ($m$)\n",
    "strt = 0.0  # Starting head ($m$)\n",
    "icelltype = 0  # Cell conversion type\n",
    "k11 = 1.0  # Horizontal hydraulic conductivity ($m/d$)"
   ]
  },
  {
   "cell_type": "markdown",
   "id": "4328be7d",
   "metadata": {},
   "source": [
    "Static temporal data used by TDIS file\n",
    "Simulation has 1 steady stress period (1 day)\n",
    "and 3 transient stress periods (10 days each).\n",
    "Each transient stress period has 120 2-hour time steps."
   ]
  },
  {
   "cell_type": "code",
   "execution_count": null,
   "id": "a6f130d7",
   "metadata": {},
   "outputs": [],
   "source": [
    "perlen = [1.0]\n",
    "nstp = [1]\n",
    "tsmult = [1.0, 1.0, 1.0]\n",
    "tdis_ds = list(zip(perlen, nstp, tsmult))"
   ]
  },
  {
   "cell_type": "markdown",
   "id": "57cf4549",
   "metadata": {},
   "source": [
    "create the disv grid"
   ]
  },
  {
   "cell_type": "code",
   "execution_count": null,
   "id": "b3bf52ca",
   "metadata": {},
   "outputs": [],
   "source": [
    "# outer grid\n",
    "nlay = 1\n",
    "nrow = ncol = 7\n",
    "delr = 100.0 * np.ones(ncol)\n",
    "delc = 100.0 * np.ones(nrow)\n",
    "tp = np.zeros((nrow, ncol))\n",
    "bt = -100.0 * np.ones((nlay, nrow, ncol))\n",
    "idomain = np.ones((nlay, nrow, ncol))\n",
    "idomain[:, 2:5, 2:5] = 0\n",
    "sg1 = flopy.discretization.StructuredGrid(\n",
    "    delr=delr, delc=delc, top=tp, botm=bt, idomain=idomain\n",
    ")\n",
    "# inner grid\n",
    "nlay = 1\n",
    "nrow = ncol = 9\n",
    "delr = 100.0 / 3.0 * np.ones(ncol)\n",
    "delc = 100.0 / 3.0 * np.ones(nrow)\n",
    "tp = np.zeros((nrow, ncol))\n",
    "bt = -100 * np.ones((nlay, nrow, ncol))\n",
    "idomain = np.ones((nlay, nrow, ncol))\n",
    "sg2 = flopy.discretization.StructuredGrid(\n",
    "    delr=delr,\n",
    "    delc=delc,\n",
    "    top=tp,\n",
    "    botm=bt,\n",
    "    xoff=200.0,\n",
    "    yoff=200,\n",
    "    idomain=idomain,\n",
    ")"
   ]
  },
  {
   "cell_type": "code",
   "execution_count": null,
   "id": "03e983b9",
   "metadata": {},
   "outputs": [],
   "source": [
    "# get the disv grid arguments\n",
    "gridprops = flopy.utils.cvfdutil.gridlist_to_disv_gridprops([sg1, sg2])"
   ]
  },
  {
   "cell_type": "markdown",
   "id": "96ed796f",
   "metadata": {},
   "source": [
    "Solver parameters"
   ]
  },
  {
   "cell_type": "code",
   "execution_count": null,
   "id": "d9578292",
   "metadata": {},
   "outputs": [],
   "source": [
    "nouter = 50\n",
    "ninner = 100\n",
    "hclose = 1e-9\n",
    "rclose = 1e-6"
   ]
  },
  {
   "cell_type": "markdown",
   "id": "b8e1c9b8",
   "metadata": {
    "lines_to_next_cell": 2
   },
   "source": [
    "### Functions to build, write, run, and plot the MODFLOW 6 USG1DISV model\n",
    "\n",
    "MODFLOW 6 flopy simulation object (sim) is returned if building the model"
   ]
  },
  {
   "cell_type": "code",
   "execution_count": null,
   "id": "743e863f",
   "metadata": {
    "lines_to_next_cell": 2
   },
   "outputs": [],
   "source": [
    "def build_model(sim_name, xt3d):\n",
    "    if config.buildModel:\n",
    "        sim_ws = os.path.join(ws, sim_name)\n",
    "        sim = flopy.mf6.MFSimulation(\n",
    "            sim_name=sim_name, sim_ws=sim_ws, exe_name=\"mf6\"\n",
    "        )\n",
    "        flopy.mf6.ModflowTdis(sim, nper=nper, perioddata=tdis_ds, time_units=time_units)\n",
    "        flopy.mf6.ModflowIms(\n",
    "            sim,\n",
    "            linear_acceleration=\"bicgstab\",\n",
    "            outer_maximum=nouter,\n",
    "            outer_dvclose=hclose,\n",
    "            inner_maximum=ninner,\n",
    "            inner_dvclose=hclose,\n",
    "            rcloserecord=f\"{rclose} strict\",\n",
    "        )\n",
    "        gwf = flopy.mf6.ModflowGwf(sim, modelname=sim_name, save_flows=True)\n",
    "        flopy.mf6.ModflowGwfdisv(\n",
    "            gwf,\n",
    "            length_units=length_units,\n",
    "            nlay=nlay,\n",
    "            top=top,\n",
    "            botm=botm,\n",
    "            **gridprops,\n",
    "        )\n",
    "        flopy.mf6.ModflowGwfnpf(\n",
    "            gwf,\n",
    "            icelltype=icelltype,\n",
    "            k=k11,\n",
    "            save_specific_discharge=True,\n",
    "            xt3doptions=xt3d,\n",
    "        )\n",
    "        flopy.mf6.ModflowGwfic(gwf, strt=strt)\n",
    "\n",
    "        chd_spd = []\n",
    "        chd_spd += [[0, i, 1.0] for i in [0, 7, 14, 18, 22, 26, 33]]\n",
    "        chd_spd = {0: chd_spd}\n",
    "        flopy.mf6.ModflowGwfchd(\n",
    "            gwf,\n",
    "            stress_period_data=chd_spd,\n",
    "            pname=\"CHD-LEFT\",\n",
    "            filename=f\"{sim_name}.left.chd\",\n",
    "        )\n",
    "\n",
    "        chd_spd = []\n",
    "        chd_spd += [[0, i, 0.0] for i in [6, 13, 17, 21, 25, 32, 39]]\n",
    "        chd_spd = {0: chd_spd}\n",
    "        flopy.mf6.ModflowGwfchd(\n",
    "            gwf,\n",
    "            stress_period_data=chd_spd,\n",
    "            pname=\"CHD-RIGHT\",\n",
    "            filename=f\"{sim_name}.right.chd\",\n",
    "        )\n",
    "\n",
    "        head_filerecord = f\"{sim_name}.hds\"\n",
    "        budget_filerecord = f\"{sim_name}.cbc\"\n",
    "        flopy.mf6.ModflowGwfoc(\n",
    "            gwf,\n",
    "            head_filerecord=head_filerecord,\n",
    "            budget_filerecord=budget_filerecord,\n",
    "            saverecord=[(\"HEAD\", \"ALL\"), (\"BUDGET\", \"ALL\")],\n",
    "        )\n",
    "\n",
    "        return sim\n",
    "    return None"
   ]
  },
  {
   "cell_type": "markdown",
   "id": "33d917a2",
   "metadata": {
    "lines_to_next_cell": 2
   },
   "source": [
    "Function to write MODFLOW 6 USG1DISV model files"
   ]
  },
  {
   "cell_type": "code",
   "execution_count": null,
   "id": "288a0ee0",
   "metadata": {
    "lines_to_next_cell": 2
   },
   "outputs": [],
   "source": [
    "def write_model(sim, silent=True):\n",
    "    if config.writeModel:\n",
    "        sim.write_simulation(silent=silent)"
   ]
  },
  {
   "cell_type": "markdown",
   "id": "c2569469",
   "metadata": {
    "lines_to_next_cell": 2
   },
   "source": [
    "Function to run the FHB model.\n",
    "True is returned if the model runs successfully\n"
   ]
  },
  {
   "cell_type": "code",
   "execution_count": null,
   "id": "3b035558",
   "metadata": {},
   "outputs": [],
   "source": [
    "@config.timeit\n",
    "def run_model(sim, silent=False):\n",
    "    success = True\n",
    "    if config.runModel:\n",
    "        success, buff = sim.run_simulation(silent=silent, report=True)\n",
    "        if not success:\n",
    "            print(buff)\n",
    "    return success"
   ]
  },
  {
   "cell_type": "code",
   "execution_count": null,
   "id": "763c91d0",
   "metadata": {},
   "outputs": [],
   "source": [
    "# Function to plot the USG1DISV model results.\n",
    "#\n",
    "def plot_grid(idx, sim):\n",
    "    fs = USGSFigure(figure_type=\"map\", verbose=False)\n",
    "    sim_name = list(parameters.keys())[idx]\n",
    "    sim_ws = os.path.join(ws, sim_name)\n",
    "    gwf = sim.get_model(sim_name)\n",
    "\n",
    "    fig = plt.figure(figsize=figure_size)\n",
    "    fig.tight_layout()\n",
    "\n",
    "    ax = fig.add_subplot(1, 1, 1, aspect=\"equal\")\n",
    "    pmv = flopy.plot.PlotMapView(model=gwf, ax=ax, layer=0)\n",
    "    pmv.plot_grid()\n",
    "    pmv.plot_bc(name=\"CHD-LEFT\", alpha=0.75)\n",
    "    pmv.plot_bc(name=\"CHD-RIGHT\", alpha=0.75)\n",
    "    ax.set_xlabel(\"x position (m)\")\n",
    "    ax.set_ylabel(\"y position (m)\")\n",
    "    for i, (x, y) in enumerate(\n",
    "        zip(gwf.modelgrid.xcellcenters, gwf.modelgrid.ycellcenters)\n",
    "    ):\n",
    "        ax.text(\n",
    "            x,\n",
    "            y,\n",
    "            f\"{i + 1}\",\n",
    "            fontsize=6,\n",
    "            horizontalalignment=\"center\",\n",
    "            verticalalignment=\"center\",\n",
    "        )\n",
    "    v = gwf.disv.vertices.array\n",
    "    ax.plot(v[\"xv\"], v[\"yv\"], \"yo\")\n",
    "    for i in range(v.shape[0]):\n",
    "        x, y = v[\"xv\"][i], v[\"yv\"][i]\n",
    "        ax.text(\n",
    "            x,\n",
    "            y,\n",
    "            f\"{i + 1}\",\n",
    "            fontsize=5,\n",
    "            color=\"red\",\n",
    "            horizontalalignment=\"center\",\n",
    "            verticalalignment=\"center\",\n",
    "        )\n",
    "\n",
    "    # save figure\n",
    "    if config.plotSave:\n",
    "        fpth = os.path.join(\"..\", \"figures\", f\"{sim_name}-grid{config.figure_ext}\")\n",
    "        fig.savefig(fpth)\n",
    "    return"
   ]
  },
  {
   "cell_type": "code",
   "execution_count": null,
   "id": "b9ef6825",
   "metadata": {},
   "outputs": [],
   "source": [
    "def plot_head(idx, sim):\n",
    "    fs = USGSFigure(figure_type=\"map\", verbose=False)\n",
    "    sim_name = list(parameters.keys())[idx]\n",
    "    sim_ws = os.path.join(ws, sim_name)\n",
    "    gwf = sim.get_model(sim_name)\n",
    "\n",
    "    fig = plt.figure(figsize=(7.5, 5))\n",
    "    fig.tight_layout()\n",
    "\n",
    "    head = gwf.output.head().get_data()[:, 0, :]\n",
    "\n",
    "    # create MODFLOW 6 cell-by-cell budget object\n",
    "    qx, qy, qz = flopy.utils.postprocessing.get_specific_discharge(\n",
    "        gwf.output.budget().get_data(text=\"DATA-SPDIS\", totim=1.0)[0],\n",
    "        gwf,\n",
    "    )\n",
    "\n",
    "    ax = fig.add_subplot(1, 2, 1, aspect=\"equal\")\n",
    "    pmv = flopy.plot.PlotMapView(model=gwf, ax=ax, layer=0)\n",
    "    pmv.plot_grid()\n",
    "    cb = pmv.plot_array(head, cmap=\"jet\")\n",
    "    pmv.plot_vector(\n",
    "        qx,\n",
    "        qy,\n",
    "        normalize=False,\n",
    "        color=\"0.75\",\n",
    "    )\n",
    "    cbar = plt.colorbar(cb, shrink=0.25)\n",
    "    cbar.ax.set_xlabel(r\"Head, ($m$)\")\n",
    "    ax.set_xlabel(\"x position (m)\")\n",
    "    ax.set_ylabel(\"y position (m)\")\n",
    "    fs.heading(ax, letter=\"A\", heading=\"Simulated Head\")\n",
    "\n",
    "    ax = fig.add_subplot(1, 2, 2, aspect=\"equal\")\n",
    "    pmv = flopy.plot.PlotMapView(model=gwf, ax=ax, layer=0)\n",
    "    pmv.plot_grid()\n",
    "    x = np.array(gwf.modelgrid.xcellcenters) - 50.0\n",
    "    slp = (1.0 - 0.0) / (50.0 - 650.0)\n",
    "    heada = slp * x + 1.0\n",
    "    cb = pmv.plot_array(head - heada, cmap=\"jet\")\n",
    "    cbar = plt.colorbar(cb, shrink=0.25)\n",
    "    cbar.ax.set_xlabel(r\"Error, ($m$)\")\n",
    "    ax.set_xlabel(\"x position (m)\")\n",
    "    ax.set_ylabel(\"y position (m)\")\n",
    "    fs.heading(ax, letter=\"B\", heading=\"Error\")\n",
    "\n",
    "    # save figure\n",
    "    if config.plotSave:\n",
    "        fpth = os.path.join(\"..\", \"figures\", f\"{sim_name}-head{config.figure_ext}\")\n",
    "        fig.savefig(fpth)\n",
    "    return"
   ]
  },
  {
   "cell_type": "code",
   "execution_count": null,
   "id": "79e500b6",
   "metadata": {
    "lines_to_next_cell": 2
   },
   "outputs": [],
   "source": [
    "def plot_results(idx, sim, silent=True):\n",
    "    if config.plotModel:\n",
    "        if idx == 0:\n",
    "            plot_grid(idx, sim)\n",
    "        plot_head(idx, sim)\n",
    "    return"
   ]
  },
  {
   "cell_type": "markdown",
   "id": "f3b09197",
   "metadata": {
    "lines_to_next_cell": 2
   },
   "source": [
    "Function that wraps all of the steps for the FHB model\n",
    "\n",
    "1. build_model,\n",
    "2. write_model,\n",
    "3. run_model, and\n",
    "4. plot_results.\n"
   ]
  },
  {
   "cell_type": "code",
   "execution_count": null,
   "id": "0b63e3b1",
   "metadata": {},
   "outputs": [],
   "source": [
    "def simulation(idx, silent=True):\n",
    "    key = list(parameters.keys())[idx]\n",
    "    params = parameters[key].copy()\n",
    "    sim = build_model(key, **params)\n",
    "    write_model(sim, silent=silent)\n",
    "    success = run_model(sim, silent=silent)\n",
    "    if success:\n",
    "        plot_results(idx, sim, silent=silent)"
   ]
  },
  {
   "cell_type": "code",
   "execution_count": null,
   "id": "af642f7f",
   "metadata": {},
   "outputs": [],
   "source": [
    "# nosetest - exclude block from this nosetest to the next nosetest\n",
    "def test_01():\n",
    "    simulation(0, silent=False)"
   ]
  },
  {
   "cell_type": "code",
   "execution_count": null,
   "id": "5839db2b",
   "metadata": {},
   "outputs": [],
   "source": [
    "def test_02():\n",
    "    simulation(1, silent=False)"
   ]
  },
  {
   "cell_type": "markdown",
   "id": "609cd0b4",
   "metadata": {},
   "source": [
    "nosetest end"
   ]
  },
  {
   "cell_type": "code",
   "execution_count": null,
   "id": "da4199b8",
   "metadata": {},
   "outputs": [],
   "source": [
    "if __name__ == \"__main__\":\n",
    "    # ### USG1DISV Simulation\n",
    "    #\n",
    "    # Simulated heads in the USG1DISV model without XT3D.\n",
    "\n",
    "    simulation(0)\n",
    "\n",
    "    # Simulated heads in the USG1DISV model with XT3D.\n",
    "\n",
    "    simulation(1)"
   ]
  }
 ],
 "metadata": {
  "jupytext": {
   "cell_metadata_filter": "-all",
   "main_language": "python",
   "notebook_metadata_filter": "-all"
  }
 },
 "nbformat": 4,
 "nbformat_minor": 5
}
