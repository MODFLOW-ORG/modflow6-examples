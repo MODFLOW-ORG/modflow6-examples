{
 "cells": [
  {
   "cell_type": "markdown",
   "id": "99b30e7a",
   "metadata": {},
   "source": [
    "## Stallman Problem\n",
    "\n",
    "Periodic heat boundary condition at surface\n",
    "Transient heat transfer problem in vertical\n"
   ]
  },
  {
   "cell_type": "markdown",
   "id": "675f283f",
   "metadata": {},
   "source": [
    "### Stallman Problem Setup"
   ]
  },
  {
   "cell_type": "markdown",
   "id": "00a0c65b",
   "metadata": {},
   "source": [
    "Imports"
   ]
  },
  {
   "cell_type": "code",
   "execution_count": null,
   "id": "c514c302",
   "metadata": {},
   "outputs": [],
   "source": [
    "import os\n",
    "import sys"
   ]
  },
  {
   "cell_type": "code",
   "execution_count": null,
   "id": "61a78035",
   "metadata": {},
   "outputs": [],
   "source": [
    "import flopy\n",
    "import matplotlib.animation as animation\n",
    "import matplotlib.pyplot as plt\n",
    "import numpy as np"
   ]
  },
  {
   "cell_type": "markdown",
   "id": "4b91834a",
   "metadata": {},
   "source": [
    "Append to system path to include the common subdirectory"
   ]
  },
  {
   "cell_type": "code",
   "execution_count": null,
   "id": "5efa4acf",
   "metadata": {},
   "outputs": [],
   "source": [
    "sys.path.append(os.path.join(\"..\", \"common\"))"
   ]
  },
  {
   "cell_type": "markdown",
   "id": "73262243",
   "metadata": {},
   "source": [
    "Import common functionality"
   ]
  },
  {
   "cell_type": "code",
   "execution_count": null,
   "id": "eefbbf39",
   "metadata": {},
   "outputs": [],
   "source": [
    "import config\n",
    "from analytical import Stallman\n",
    "from figspecs import USGSFigure"
   ]
  },
  {
   "cell_type": "code",
   "execution_count": null,
   "id": "f210489d",
   "metadata": {},
   "outputs": [],
   "source": [
    "mf6exe = \"mf6\""
   ]
  },
  {
   "cell_type": "markdown",
   "id": "db4efc27",
   "metadata": {},
   "source": [
    "Set figure properties specific to this problem"
   ]
  },
  {
   "cell_type": "code",
   "execution_count": null,
   "id": "8b699a07",
   "metadata": {},
   "outputs": [],
   "source": [
    "figure_size = (6, 8)"
   ]
  },
  {
   "cell_type": "markdown",
   "id": "95ec61fb",
   "metadata": {},
   "source": [
    "Base simulation and model name and workspace"
   ]
  },
  {
   "cell_type": "code",
   "execution_count": null,
   "id": "1470eb67",
   "metadata": {},
   "outputs": [],
   "source": [
    "ws = config.base_ws\n",
    "example_name = \"ex-gwt-stallman\""
   ]
  },
  {
   "cell_type": "markdown",
   "id": "2419f5b7",
   "metadata": {},
   "source": [
    "Model units"
   ]
  },
  {
   "cell_type": "code",
   "execution_count": null,
   "id": "0b2cbc99",
   "metadata": {},
   "outputs": [],
   "source": [
    "length_units = \"meters\"\n",
    "time_units = \"seconds\""
   ]
  },
  {
   "cell_type": "markdown",
   "id": "5107395d",
   "metadata": {},
   "source": [
    "Table of model parameters"
   ]
  },
  {
   "cell_type": "code",
   "execution_count": null,
   "id": "ef5f4c3a",
   "metadata": {},
   "outputs": [],
   "source": [
    "nper = 600  # Number of periods\n",
    "nstp = 6  # Number of time steps\n",
    "perlen = 525600  # Simulation time length ($s$)\n",
    "nlay = 120  # Number of layers\n",
    "nrow = 1  # Number of rows\n",
    "ncol = 1  # Number of columns\n",
    "system_length = 60.0  # Length of system ($m$)\n",
    "delr = 1.0  # Column width ($m$)\n",
    "delc = 1.0  # Row width ($m$)\n",
    "delv_str = \"ranges from 0.1 to 1\"  # Layer thickness\n",
    "top = 60.0  # Top of the model ($m$)\n",
    "hydraulic_conductivity = 1.0e-4  # Hydraulic conductivity ($m s^{-1}$)\n",
    "porosity = 0.35  # Porosity (unitless)\n",
    "alphal = 0.0  # Longitudinal dispersivity ($m$)\n",
    "alphat = 0.0  # Transverse dispersivity ($m$)\n",
    "diffc = 1.02882e-06  # Diffusion coefficient ($m s^{-1}$)\n",
    "T_az = 10  # Ambient temperature ($^o C$)\n",
    "dT = 5  # Temperature variation ($^o C$)\n",
    "bulk_dens = 2630  # Bulk density ($kg/m^3$)\n",
    "kd = 0.000191663  # Distribution coefficient (unitless)"
   ]
  },
  {
   "cell_type": "code",
   "execution_count": null,
   "id": "755cf496",
   "metadata": {},
   "outputs": [],
   "source": [
    "# Stress period input\n",
    "per_data = []\n",
    "for k in range(nper):\n",
    "    per_data.append((perlen, nstp, 1.0))\n",
    "per_mf6 = per_data"
   ]
  },
  {
   "cell_type": "code",
   "execution_count": null,
   "id": "d768c242",
   "metadata": {},
   "outputs": [],
   "source": [
    "# Geometry input\n",
    "tp = top\n",
    "botm = []\n",
    "for i in range(nlay):\n",
    "    if i == 0:\n",
    "        botm.append(59.9)\n",
    "    elif i == 119:\n",
    "        botm.append(0.0)\n",
    "    else:\n",
    "        botm.append(60 - i * 0.5)"
   ]
  },
  {
   "cell_type": "code",
   "execution_count": null,
   "id": "b3fffd27",
   "metadata": {},
   "outputs": [],
   "source": [
    "# Head input\n",
    "chd_data = {}\n",
    "for k in range(nper):\n",
    "    chd_data[k] = [[(0, 0, 0), 60.000000], [(119, 0, 0), 59.701801]]\n",
    "chd_mf6 = chd_data"
   ]
  },
  {
   "cell_type": "code",
   "execution_count": null,
   "id": "a0c8677b",
   "metadata": {},
   "outputs": [],
   "source": [
    "# Initial temperature input\n",
    "strt_conc = T_az * np.ones((nlay, 1, 1), dtype=np.float32)"
   ]
  },
  {
   "cell_type": "code",
   "execution_count": null,
   "id": "2048e36c",
   "metadata": {},
   "outputs": [],
   "source": [
    "# Boundary temperature input\n",
    "cnc_data = {}\n",
    "for k in range(nper):\n",
    "    cnc_temp = T_az + dT * np.sin(2 * np.pi * k * perlen / 365 / 86400)\n",
    "    cnc_data[k] = [[(0, 0, 0), cnc_temp]]\n",
    "cnc_mf6 = cnc_data"
   ]
  },
  {
   "cell_type": "code",
   "execution_count": null,
   "id": "2bf7465c",
   "metadata": {},
   "outputs": [],
   "source": [
    "nouter, ninner = 100, 300\n",
    "hclose, rclose, relax = 1e-8, 1e-8, 0.97"
   ]
  },
  {
   "cell_type": "markdown",
   "id": "5b79137e",
   "metadata": {
    "lines_to_next_cell": 2
   },
   "source": [
    "### Functions to build, write, run, and plot models\n",
    "\n",
    "MODFLOW 6 flopy GWF simulation object (sim) is returned\n"
   ]
  },
  {
   "cell_type": "code",
   "execution_count": null,
   "id": "6d251308",
   "metadata": {
    "lines_to_next_cell": 2
   },
   "outputs": [],
   "source": [
    "def build_model(sim_folder):\n",
    "    print(f\"Building model...{sim_folder}\")\n",
    "    name = \"flow\"\n",
    "    sim_ws = os.path.join(ws, sim_folder)\n",
    "    sim = flopy.mf6.MFSimulation(\n",
    "        sim_name=name,\n",
    "        sim_ws=sim_ws,\n",
    "        exe_name=\"mf6\",\n",
    "    )\n",
    "    flopy.mf6.ModflowTdis(\n",
    "        sim, nper=nper, perioddata=per_mf6, time_units=time_units\n",
    "    )\n",
    "    gwf = flopy.mf6.ModflowGwf(sim, modelname=name, save_flows=True)\n",
    "    ims = flopy.mf6.ModflowIms(\n",
    "        sim,\n",
    "        print_option=\"ALL\",\n",
    "        outer_dvclose=hclose,\n",
    "        outer_maximum=nouter,\n",
    "        under_relaxation=\"NONE\",\n",
    "        inner_maximum=ninner,\n",
    "        inner_dvclose=hclose,\n",
    "        rcloserecord=rclose,\n",
    "        linear_acceleration=\"CG\",\n",
    "        scaling_method=\"NONE\",\n",
    "        reordering_method=\"NONE\",\n",
    "        relaxation_factor=relax,\n",
    "        filename=f\"{gwf.name}.ims\",\n",
    "    )\n",
    "    sim.register_ims_package(ims, [gwf.name])\n",
    "    flopy.mf6.ModflowGwfdis(\n",
    "        gwf,\n",
    "        length_units=length_units,\n",
    "        nlay=nlay,\n",
    "        nrow=nrow,\n",
    "        ncol=ncol,\n",
    "        delr=delr,\n",
    "        delc=delc,\n",
    "        top=top,\n",
    "        botm=botm,\n",
    "    )\n",
    "    flopy.mf6.ModflowGwfnpf(\n",
    "        gwf,\n",
    "        save_specific_discharge=True,\n",
    "        icelltype=0,\n",
    "        k=hydraulic_conductivity,\n",
    "    )\n",
    "\n",
    "    flopy.mf6.ModflowGwfic(gwf, strt=top)\n",
    "\n",
    "    flopy.mf6.ModflowGwfchd(\n",
    "        gwf,\n",
    "        stress_period_data=chd_mf6,\n",
    "    )\n",
    "\n",
    "    head_filerecord = f\"{name}.hds\"\n",
    "    budget_filerecord = f\"{name}.bud\"\n",
    "    flopy.mf6.ModflowGwfoc(\n",
    "        gwf,\n",
    "        head_filerecord=head_filerecord,\n",
    "        budget_filerecord=budget_filerecord,\n",
    "        saverecord=[(\"HEAD\", \"LAST\"), (\"BUDGET\", \"LAST\")],\n",
    "    )\n",
    "\n",
    "    gwt = flopy.mf6.ModflowGwt(sim, modelname=\"trans\")\n",
    "    imsgwt = flopy.mf6.ModflowIms(\n",
    "        sim,\n",
    "        print_option=\"ALL\",\n",
    "        outer_dvclose=hclose,\n",
    "        outer_maximum=nouter,\n",
    "        under_relaxation=\"NONE\",\n",
    "        inner_maximum=ninner,\n",
    "        inner_dvclose=hclose,\n",
    "        rcloserecord=rclose,\n",
    "        linear_acceleration=\"BICGSTAB\",\n",
    "        scaling_method=\"NONE\",\n",
    "        reordering_method=\"NONE\",\n",
    "        relaxation_factor=relax,\n",
    "        filename=f\"{gwt.name}.ims\",\n",
    "    )\n",
    "    sim.register_ims_package(imsgwt, [gwt.name])\n",
    "    flopy.mf6.ModflowGwtdis(\n",
    "        gwt,\n",
    "        length_units=length_units,\n",
    "        nlay=nlay,\n",
    "        nrow=nrow,\n",
    "        ncol=ncol,\n",
    "        delr=delr,\n",
    "        delc=delc,\n",
    "        top=top,\n",
    "        botm=botm,\n",
    "    )\n",
    "    flopy.mf6.ModflowGwtmst(\n",
    "        gwt,\n",
    "        porosity=porosity,\n",
    "        sorption=\"linear\",\n",
    "        bulk_density=bulk_dens * (1 - porosity),\n",
    "        distcoef=kd,\n",
    "    )\n",
    "    flopy.mf6.ModflowGwtic(gwt, strt=strt_conc)\n",
    "    flopy.mf6.ModflowGwtadv(gwt, scheme=\"TVD\")\n",
    "    flopy.mf6.ModflowGwtdsp(\n",
    "        gwt, xt3d_off=True, alh=alphal, ath1=alphat, diffc=diffc\n",
    "    )\n",
    "    flopy.mf6.ModflowGwtssm(gwt, sources=[[]])\n",
    "    flopy.mf6.ModflowGwtcnc(\n",
    "        gwt,\n",
    "        stress_period_data=cnc_mf6,\n",
    "    )\n",
    "    flopy.mf6.ModflowGwtoc(\n",
    "        gwt,\n",
    "        budget_filerecord=f\"{gwt.name}.cbc\",\n",
    "        concentration_filerecord=f\"{gwt.name}.ucn\",\n",
    "        concentrationprintrecord=[\n",
    "            (\"COLUMNS\", 10, \"WIDTH\", 15, \"DIGITS\", 6, \"GENERAL\")\n",
    "        ],\n",
    "        saverecord=[(\"CONCENTRATION\", \"LAST\")],\n",
    "        printrecord=[(\"CONCENTRATION\", \"LAST\"), (\"BUDGET\", \"LAST\")],\n",
    "    )\n",
    "    flopy.mf6.ModflowGwfgwt(\n",
    "        sim, exgtype=\"GWF6-GWT6\", exgmnamea=gwf.name, exgmnameb=gwt.name\n",
    "    )\n",
    "    return sim"
   ]
  },
  {
   "cell_type": "markdown",
   "id": "db2819ae",
   "metadata": {
    "lines_to_next_cell": 2
   },
   "source": [
    "Function to write model files"
   ]
  },
  {
   "cell_type": "code",
   "execution_count": null,
   "id": "ea01acd0",
   "metadata": {
    "lines_to_next_cell": 2
   },
   "outputs": [],
   "source": [
    "def write_model(sim, silent=True):\n",
    "    if config.writeModel:\n",
    "        sim.write_simulation(silent=silent)\n",
    "    return"
   ]
  },
  {
   "cell_type": "markdown",
   "id": "96087415",
   "metadata": {
    "lines_to_next_cell": 2
   },
   "source": [
    "Function to run the model\n",
    "True is returned if the model runs successfully"
   ]
  },
  {
   "cell_type": "code",
   "execution_count": null,
   "id": "bcc1e789",
   "metadata": {
    "lines_to_next_cell": 2
   },
   "outputs": [],
   "source": [
    "@config.timeit\n",
    "def run_model(sim, silent=True):\n",
    "    print(\"Running model...\")\n",
    "    success = True\n",
    "    if config.runModel:\n",
    "        success = False\n",
    "        success, buff = sim.run_simulation(silent=silent)\n",
    "        if not success:\n",
    "            print(buff)\n",
    "    return success"
   ]
  },
  {
   "cell_type": "markdown",
   "id": "81b76fef",
   "metadata": {
    "lines_to_next_cell": 2
   },
   "source": [
    "Function to plot the model results"
   ]
  },
  {
   "cell_type": "code",
   "execution_count": null,
   "id": "e1ab86ec",
   "metadata": {
    "lines_to_next_cell": 2
   },
   "outputs": [],
   "source": [
    "def plot_conc(sim, idx):\n",
    "    fs = USGSFigure(figure_type=\"map\", verbose=False)\n",
    "    sim_name = example_name\n",
    "    sim_ws = os.path.join(ws, sim_name)\n",
    "    gwf = sim.get_model(\"flow\")\n",
    "    gwt = sim.get_model(\"trans\")\n",
    "\n",
    "    # create MODFLOW 6 head object\n",
    "    cobj = gwt.output.concentration()\n",
    "    times = cobj.get_times()\n",
    "    times = np.array(times)\n",
    "\n",
    "    time_in_pub = 284349600.0\n",
    "    idx_conc = (np.abs(times - time_in_pub)).argmin()\n",
    "    time_this_plot = times[idx_conc]\n",
    "    conc = cobj.get_data(totim=time_this_plot)\n",
    "\n",
    "    zconc = np.zeros(nlay)\n",
    "    zbotm = np.zeros(nlay)\n",
    "    for i in range(len(zconc)):\n",
    "        zconc[i] = conc[i][0][0]\n",
    "        if i != (nlay - 1):\n",
    "            zbotm[i + 1] = -(60 - botm[i])\n",
    "\n",
    "    # Analytical solution - Stallman analysis\n",
    "    tau = 365 * 86400\n",
    "    # t =  283824000.0\n",
    "    t = 284349600.0\n",
    "    c_w = 4174\n",
    "    rho_w = 1000\n",
    "    c_r = 800\n",
    "    rho_r = bulk_dens\n",
    "    c_rho = c_r * rho_r * (1 - porosity) + c_w * rho_w * porosity\n",
    "    darcy_flux = 5.00e-07\n",
    "    ko = 1.503\n",
    "    zanal = Stallman(\n",
    "        T_az, dT, tau, t, c_rho, darcy_flux, ko, c_w, rho_w, zbotm, nlay\n",
    "    )\n",
    "\n",
    "    # make conc figure\n",
    "    fig = plt.figure(figsize=(6, 4))\n",
    "    ax = fig.add_subplot(1, 1, 1)\n",
    "\n",
    "    # configure plot and save\n",
    "    ax.plot(zconc, zbotm, \"bo\", mfc=\"none\", label=\"MODFLOW6-GWT\")\n",
    "    ax.plot(\n",
    "        zanal[:, 1],\n",
    "        zanal[:, 0],\n",
    "        \"k--\",\n",
    "        linewidth=1.0,\n",
    "        label=\"Analytical solution\",\n",
    "    )\n",
    "    ax.set_xlim(T_az - dT, T_az + dT)\n",
    "    ax.set_ylim(-top, 0)\n",
    "    ax.set_ylabel(\"Depth (m)\")\n",
    "    ax.set_xlabel(\"Temperature (deg C)\")\n",
    "    ax.legend()\n",
    "\n",
    "    # save figure\n",
    "    if config.plotSave:\n",
    "        fpth = os.path.join(\n",
    "            \"..\", \"figures\", f\"{sim_name}-conc{config.figure_ext}\"\n",
    "        )\n",
    "        fig.savefig(fpth)\n",
    "    return"
   ]
  },
  {
   "cell_type": "markdown",
   "id": "d52927c9",
   "metadata": {
    "lines_to_next_cell": 2
   },
   "source": [
    "Function to make animation"
   ]
  },
  {
   "cell_type": "code",
   "execution_count": null,
   "id": "e7196b74",
   "metadata": {},
   "outputs": [],
   "source": [
    "def make_animated_gif(sim, idx):\n",
    "    sim_name = example_name\n",
    "    sim_ws = os.path.join(ws, sim_name)\n",
    "    gwf = sim.get_model(\"flow\")\n",
    "    gwt = sim.get_model(\"trans\")\n",
    "\n",
    "    cobj = gwt.output.concentration()\n",
    "    times = cobj.get_times()\n",
    "    times = np.array(times)\n",
    "    conc = cobj.get_alldata()\n",
    "\n",
    "    zconc = np.zeros(nlay)\n",
    "    zbotm = np.zeros(nlay)\n",
    "    for i in range(len(zconc)):\n",
    "        zconc[i] = conc[0][i][0][0]\n",
    "        if i != (nlay - 1):\n",
    "            zbotm[i + 1] = -(60 - botm[i])\n",
    "\n",
    "    # Analytical solution - Stallman analysis\n",
    "    tau = 365 * 86400\n",
    "    t = times[0]\n",
    "    c_w = 4174\n",
    "    rho_w = 1000\n",
    "    c_r = 800\n",
    "    rho_r = bulk_dens\n",
    "    c_rho = c_r * rho_r * (1 - porosity) + c_w * rho_w * porosity\n",
    "    darcy_flux = 5.00e-07\n",
    "    ko = 1.503\n",
    "    zanal = Stallman(\n",
    "        T_az, dT, tau, t, c_rho, darcy_flux, ko, c_w, rho_w, zbotm, nlay\n",
    "    )\n",
    "\n",
    "    fig, ax = plt.subplots(figsize=(6, 4))\n",
    "    ax.set_ylabel(\"Depth (m)\")\n",
    "    ax.set_xlabel(\"Temperature (deg C)\")\n",
    "    (l0,) = ax.plot([], [], \"bo\", mfc=\"none\", label=\"MODFLOW6-GWT\")\n",
    "    (l1,) = ax.plot([], [], \"k--\", linewidth=1.0, label=\"Analytical solution\")\n",
    "    line = [l0, l1]\n",
    "    ax.legend(loc=\"lower left\")\n",
    "    ax.set_xlim(T_az - dT, T_az + dT)\n",
    "    ax.set_ylim(-top, 0)\n",
    "\n",
    "    def init():\n",
    "        ax.set_title(f\"Time = {times[0]} seconds\")\n",
    "\n",
    "    def update(j):\n",
    "        for i in range(len(zconc)):\n",
    "            zconc[i] = conc[j][i][0][0]\n",
    "        t = times[j]\n",
    "        zanal = Stallman(\n",
    "            T_az, dT, tau, t, c_rho, darcy_flux, ko, c_w, rho_w, zbotm, nlay\n",
    "        )\n",
    "        line[0].set_data(zconc, zbotm)\n",
    "        line[1].set_data(zanal[:, 1], zanal[:, 0])\n",
    "        ax.set_title(f\"Time = {times[j]} seconds\")\n",
    "        return line\n",
    "\n",
    "    ani = animation.FuncAnimation(fig, update, times.shape[0], init_func=init)\n",
    "    fpth = os.path.join(\"..\", \"figures\", \"{}{}\".format(sim_name, \".gif\"))\n",
    "    ani.save(fpth, fps=50)\n",
    "    return"
   ]
  },
  {
   "cell_type": "code",
   "execution_count": null,
   "id": "438700be",
   "metadata": {
    "lines_to_next_cell": 2
   },
   "outputs": [],
   "source": [
    "def plot_results(sim, idx):\n",
    "    print(\"Plotting results...\")\n",
    "    if config.plotModel:\n",
    "        plot_conc(sim, idx)\n",
    "        if config.plotSave and config.createGif:\n",
    "            print(\"Making animation...\")\n",
    "            make_animated_gif(sim, idx)\n",
    "    return"
   ]
  },
  {
   "cell_type": "markdown",
   "id": "9b181dba",
   "metadata": {
    "lines_to_next_cell": 2
   },
   "source": [
    "Function that wraps all of the steps for each scenario\n",
    "\n",
    "1. build_model,\n",
    "2. write_model,\n",
    "3. run_model, and\n",
    "4. plot_results.\n"
   ]
  },
  {
   "cell_type": "code",
   "execution_count": null,
   "id": "d5ef0263",
   "metadata": {},
   "outputs": [],
   "source": [
    "def scenario(idx, silent=True):\n",
    "    sim = build_model(example_name)\n",
    "    write_model(sim, silent=silent)\n",
    "    success = run_model(sim, silent=silent)\n",
    "    if success:\n",
    "        plot_results(sim, idx)"
   ]
  },
  {
   "cell_type": "code",
   "execution_count": null,
   "id": "24b12073",
   "metadata": {},
   "outputs": [],
   "source": [
    "# nosetest - exclude block from this nosetest to the next nosetest\n",
    "def test_01():\n",
    "    scenario(0, silent=False)"
   ]
  },
  {
   "cell_type": "markdown",
   "id": "5b078d2f",
   "metadata": {},
   "source": [
    "nosetest end"
   ]
  },
  {
   "cell_type": "code",
   "execution_count": null,
   "id": "8420d8a6",
   "metadata": {},
   "outputs": [],
   "source": [
    "if __name__ == \"__main__\":\n",
    "    # ### Salt Lake Problem\n",
    "\n",
    "    # Plot showing MODFLOW 6 results\n",
    "\n",
    "    scenario(0)"
   ]
  }
 ],
 "metadata": {
  "jupytext": {
   "cell_metadata_filter": "-all",
   "main_language": "python",
   "notebook_metadata_filter": "-all"
  }
 },
 "nbformat": 4,
 "nbformat_minor": 5
}
