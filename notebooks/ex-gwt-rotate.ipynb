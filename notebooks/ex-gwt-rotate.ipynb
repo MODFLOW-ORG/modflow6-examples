{
 "cells": [
  {
   "cell_type": "markdown",
   "id": "26f93e49",
   "metadata": {
    "lines_to_next_cell": 2
   },
   "source": [
    "## Rotating Interface Problem\n",
    "\n",
    "Density driven groundwater flow\n",
    "\n"
   ]
  },
  {
   "cell_type": "markdown",
   "id": "d662da59",
   "metadata": {},
   "source": [
    "### Rotating Interface Problem Setup"
   ]
  },
  {
   "cell_type": "markdown",
   "id": "cd24fa33",
   "metadata": {},
   "source": [
    "Imports"
   ]
  },
  {
   "cell_type": "code",
   "execution_count": null,
   "id": "01b1d48e",
   "metadata": {},
   "outputs": [],
   "source": [
    "import os\n",
    "import sys\n",
    "import matplotlib.pyplot as plt\n",
    "import flopy\n",
    "import numpy as np"
   ]
  },
  {
   "cell_type": "markdown",
   "id": "f7b6135e",
   "metadata": {},
   "source": [
    "Append to system path to include the common subdirectory"
   ]
  },
  {
   "cell_type": "code",
   "execution_count": null,
   "id": "d0bfdf88",
   "metadata": {},
   "outputs": [],
   "source": [
    "sys.path.append(os.path.join(\"..\", \"common\"))"
   ]
  },
  {
   "cell_type": "markdown",
   "id": "01efe23d",
   "metadata": {},
   "source": [
    "Import common functionality"
   ]
  },
  {
   "cell_type": "code",
   "execution_count": null,
   "id": "9d5dc164",
   "metadata": {},
   "outputs": [],
   "source": [
    "import config\n",
    "from figspecs import USGSFigure\n",
    "from analytical import BakkerRotatingInterface"
   ]
  },
  {
   "cell_type": "code",
   "execution_count": null,
   "id": "e0350bc9",
   "metadata": {},
   "outputs": [],
   "source": [
    "mf6exe = os.path.abspath(config.mf6_exe)\n",
    "exe_name_mf = config.mf2005_exe\n",
    "exe_name_mt = config.mt3dms_exe"
   ]
  },
  {
   "cell_type": "markdown",
   "id": "1fa8498c",
   "metadata": {},
   "source": [
    "Set figure properties specific to this problem"
   ]
  },
  {
   "cell_type": "code",
   "execution_count": null,
   "id": "283f57a1",
   "metadata": {},
   "outputs": [],
   "source": [
    "figure_size = (6, 4)"
   ]
  },
  {
   "cell_type": "markdown",
   "id": "71bb8644",
   "metadata": {},
   "source": [
    "Base simulation and model name and workspace"
   ]
  },
  {
   "cell_type": "code",
   "execution_count": null,
   "id": "10ab8b4d",
   "metadata": {},
   "outputs": [],
   "source": [
    "ws = config.base_ws\n",
    "example_name = \"ex-gwt-rotate\""
   ]
  },
  {
   "cell_type": "markdown",
   "id": "14b6574f",
   "metadata": {},
   "source": [
    "Model units"
   ]
  },
  {
   "cell_type": "code",
   "execution_count": null,
   "id": "54fcb3c2",
   "metadata": {},
   "outputs": [],
   "source": [
    "length_units = \"m\"\n",
    "time_units = \"days\""
   ]
  },
  {
   "cell_type": "markdown",
   "id": "f8d035f3",
   "metadata": {},
   "source": [
    "Table of model parameters"
   ]
  },
  {
   "cell_type": "code",
   "execution_count": null,
   "id": "732844fa",
   "metadata": {},
   "outputs": [],
   "source": [
    "nper = 1  # Number of periods\n",
    "nstp = 1000  # Number of time steps\n",
    "perlen = 10000  # Simulation time length ($d$)\n",
    "length = 300  # Length of box ($m$)\n",
    "height = 40.0  # Height of box  ($m$)\n",
    "nlay = 80  # Number of layers\n",
    "nrow = 1  # Number of rows\n",
    "ncol = 300  # Number of columns\n",
    "system_length = 150.0  # Length of system ($m$)\n",
    "delr = 1.0  # Column width ($m$)\n",
    "delc = 1.0  # Row width ($m$)\n",
    "delv = 0.5  # Layer thickness\n",
    "top = height / 2  # Top of the model ($m$)\n",
    "hydraulic_conductivity = 2.0  # Hydraulic conductivity ($m d^{-1}$)\n",
    "denseref = 1000.0  # Reference density\n",
    "denseslp = 0.7  # Density and concentration slope\n",
    "rho1 = 1000.0  # Density of zone 1 ($kg m^3$)\n",
    "rho2 = 1012.5  # Density of zone 2 ($kg m^3$)\n",
    "rho3 = 1025.0  # Density of zone 3 ($kg m^3$)\n",
    "c1 = 0.0  # Concentration of zone 1 ($kg m^3$)\n",
    "c2 = 17.5  # Concentration of zone 2 ($kg m^3$)\n",
    "c3 = 35  # Concentration of zone 3 ($kg m^3$)\n",
    "a1 = 40.0  # Interface extent for zone 1 and 2\n",
    "a2 = 40.0  # Interface extent for zone 2 and 3\n",
    "b = height / 2.0\n",
    "x1 = 170.0  # X-midpoint location for zone 1 and 2 interface\n",
    "x2 = 130.0  # X-midpoint location for zone 2 and 3 interface\n",
    "porosity = 0.2  # Porosity (unitless)"
   ]
  },
  {
   "cell_type": "code",
   "execution_count": null,
   "id": "db46bb41",
   "metadata": {},
   "outputs": [],
   "source": [
    "botm = [top - k * delv for k in range(1, nlay + 1)]"
   ]
  },
  {
   "cell_type": "code",
   "execution_count": null,
   "id": "78399db0",
   "metadata": {
    "lines_to_next_cell": 2
   },
   "outputs": [],
   "source": [
    "nouter, ninner = 100, 300\n",
    "hclose, rclose, relax = 1e-8, 1e-8, 0.97"
   ]
  },
  {
   "cell_type": "markdown",
   "id": "12a18481",
   "metadata": {
    "lines_to_next_cell": 2
   },
   "source": [
    "### Functions to build, write, run, and plot models\n",
    "\n",
    "MODFLOW 6 flopy GWF simulation object (sim) is returned\n"
   ]
  },
  {
   "cell_type": "code",
   "execution_count": null,
   "id": "58201799",
   "metadata": {},
   "outputs": [],
   "source": [
    "def get_cstrt(nlay, ncol, length, x1, x2, a1, a2, b, c1, c2, c3):\n",
    "    cstrt = c1 * np.ones((nlay, ncol), dtype=float)\n",
    "    from flopy.utils.gridintersect import GridIntersect\n",
    "    from shapely.geometry import Polygon\n",
    "\n",
    "    p3 = Polygon([(0, b), (x2 - a2, b), (x2 + a2, 0), (0, 0)])\n",
    "    p2 = Polygon([(x2 - a2, b), (x1 - a1, b), (x1 + a1, 0), (x1 - a1, 0)])\n",
    "    delc = b / nlay * np.ones(nlay)\n",
    "    delr = length / ncol * np.ones(ncol)\n",
    "    sgr = flopy.discretization.StructuredGrid(delc, delr)\n",
    "    ix = GridIntersect(sgr, method=\"structured\")\n",
    "    for ival, p in [(c2, p2), (c3, p3)]:\n",
    "        result = ix.intersect(p)\n",
    "        for i, j in list(result[\"cellids\"]):\n",
    "            cstrt[i, j] = ival\n",
    "    return cstrt"
   ]
  },
  {
   "cell_type": "code",
   "execution_count": null,
   "id": "dde81180",
   "metadata": {
    "lines_to_next_cell": 2
   },
   "outputs": [],
   "source": [
    "def build_model(sim_folder):\n",
    "    print(\"Building model...{}\".format(sim_folder))\n",
    "    name = \"flow\"\n",
    "    sim_ws = os.path.join(ws, sim_folder)\n",
    "    sim = flopy.mf6.MFSimulation(\n",
    "        sim_name=name,\n",
    "        sim_ws=sim_ws,\n",
    "        exe_name=config.mf6_exe,\n",
    "        continue_=True,\n",
    "    )\n",
    "    tdis_ds = ((perlen, nstp, 1.0),)\n",
    "    flopy.mf6.ModflowTdis(\n",
    "        sim, nper=nper, perioddata=tdis_ds, time_units=time_units\n",
    "    )\n",
    "    gwf = flopy.mf6.ModflowGwf(sim, modelname=name, save_flows=True)\n",
    "    ims = flopy.mf6.ModflowIms(\n",
    "        sim,\n",
    "        print_option=\"ALL\",\n",
    "        outer_dvclose=hclose,\n",
    "        outer_maximum=nouter,\n",
    "        under_relaxation=\"NONE\",\n",
    "        inner_maximum=ninner,\n",
    "        inner_dvclose=hclose,\n",
    "        rcloserecord=rclose,\n",
    "        linear_acceleration=\"BICGSTAB\",\n",
    "        scaling_method=\"NONE\",\n",
    "        reordering_method=\"NONE\",\n",
    "        relaxation_factor=relax,\n",
    "        filename=\"{}.ims\".format(gwf.name),\n",
    "    )\n",
    "    sim.register_ims_package(ims, [gwf.name])\n",
    "    flopy.mf6.ModflowGwfdis(\n",
    "        gwf,\n",
    "        length_units=length_units,\n",
    "        nlay=nlay,\n",
    "        nrow=nrow,\n",
    "        ncol=ncol,\n",
    "        delr=delr,\n",
    "        delc=delc,\n",
    "        top=top,\n",
    "        botm=botm,\n",
    "    )\n",
    "    flopy.mf6.ModflowGwfnpf(\n",
    "        gwf,\n",
    "        save_specific_discharge=True,\n",
    "        icelltype=0,\n",
    "        k=hydraulic_conductivity,\n",
    "    )\n",
    "    flopy.mf6.ModflowGwfic(gwf, strt=top)\n",
    "    pd = [(0, denseslp, 0.0, \"trans\", \"concentration\")]\n",
    "    flopy.mf6.ModflowGwfbuy(gwf, denseref=denseref, packagedata=pd)\n",
    "    head_filerecord = \"{}.hds\".format(name)\n",
    "    budget_filerecord = \"{}.bud\".format(name)\n",
    "    flopy.mf6.ModflowGwfoc(\n",
    "        gwf,\n",
    "        head_filerecord=head_filerecord,\n",
    "        budget_filerecord=budget_filerecord,\n",
    "        saverecord=[(\"HEAD\", \"ALL\"), (\"BUDGET\", \"ALL\")],\n",
    "    )\n",
    "\n",
    "    gwt = flopy.mf6.ModflowGwt(sim, modelname=\"trans\")\n",
    "    imsgwt = flopy.mf6.ModflowIms(\n",
    "        sim,\n",
    "        print_option=\"ALL\",\n",
    "        outer_dvclose=hclose,\n",
    "        outer_maximum=nouter,\n",
    "        under_relaxation=\"NONE\",\n",
    "        inner_maximum=ninner,\n",
    "        inner_dvclose=hclose,\n",
    "        rcloserecord=rclose,\n",
    "        linear_acceleration=\"BICGSTAB\",\n",
    "        scaling_method=\"NONE\",\n",
    "        reordering_method=\"NONE\",\n",
    "        relaxation_factor=relax,\n",
    "        filename=\"{}.ims\".format(gwt.name),\n",
    "    )\n",
    "    sim.register_ims_package(imsgwt, [gwt.name])\n",
    "    flopy.mf6.ModflowGwtdis(\n",
    "        gwt,\n",
    "        length_units=length_units,\n",
    "        nlay=nlay,\n",
    "        nrow=nrow,\n",
    "        ncol=ncol,\n",
    "        delr=delr,\n",
    "        delc=delc,\n",
    "        top=top,\n",
    "        botm=botm,\n",
    "    )\n",
    "    flopy.mf6.ModflowGwtmst(gwt, porosity=porosity)\n",
    "    cstrt = get_cstrt(nlay, ncol, length, x1, x2, a1, a2, height, c1, c2, c3)\n",
    "    flopy.mf6.ModflowGwtic(gwt, strt=cstrt)\n",
    "    flopy.mf6.ModflowGwtadv(gwt, scheme=\"TVD\")\n",
    "    flopy.mf6.ModflowGwtoc(\n",
    "        gwt,\n",
    "        budget_filerecord=\"{}.cbc\".format(gwt.name),\n",
    "        concentration_filerecord=\"{}.ucn\".format(gwt.name),\n",
    "        concentrationprintrecord=[\n",
    "            (\"COLUMNS\", 10, \"WIDTH\", 15, \"DIGITS\", 6, \"GENERAL\")\n",
    "        ],\n",
    "        saverecord=[(\"CONCENTRATION\", \"ALL\")],\n",
    "        printrecord=[(\"CONCENTRATION\", \"LAST\"), (\"BUDGET\", \"LAST\")],\n",
    "    )\n",
    "    flopy.mf6.ModflowGwfgwt(\n",
    "        sim, exgtype=\"GWF6-GWT6\", exgmnamea=gwf.name, exgmnameb=gwt.name\n",
    "    )\n",
    "    return sim"
   ]
  },
  {
   "cell_type": "markdown",
   "id": "2514504a",
   "metadata": {
    "lines_to_next_cell": 2
   },
   "source": [
    "Function to write model files"
   ]
  },
  {
   "cell_type": "code",
   "execution_count": null,
   "id": "34fd7520",
   "metadata": {
    "lines_to_next_cell": 2
   },
   "outputs": [],
   "source": [
    "def write_model(sim, silent=True):\n",
    "    if config.writeModel:\n",
    "        sim.write_simulation(silent=silent)\n",
    "    return"
   ]
  },
  {
   "cell_type": "markdown",
   "id": "ef3a6a13",
   "metadata": {
    "lines_to_next_cell": 2
   },
   "source": [
    "Function to run the model\n",
    "True is returned if the model runs successfully"
   ]
  },
  {
   "cell_type": "code",
   "execution_count": null,
   "id": "f1060a7d",
   "metadata": {
    "lines_to_next_cell": 2
   },
   "outputs": [],
   "source": [
    "@config.timeit\n",
    "def run_model(sim, silent=True):\n",
    "    success = True\n",
    "    if config.runModel:\n",
    "        success = False\n",
    "        success, buff = sim.run_simulation(silent=silent)\n",
    "        if not success:\n",
    "            print(buff)\n",
    "    return success"
   ]
  },
  {
   "cell_type": "markdown",
   "id": "db56dced",
   "metadata": {
    "lines_to_next_cell": 2
   },
   "source": [
    "Function to plot the model results"
   ]
  },
  {
   "cell_type": "code",
   "execution_count": null,
   "id": "cb3df874",
   "metadata": {},
   "outputs": [],
   "source": [
    "def plot_velocity_profile(sim, idx):\n",
    "    fs = USGSFigure(figure_type=\"map\", verbose=False)\n",
    "    sim_name = example_name\n",
    "    sim_ws = os.path.join(ws, sim_name)\n",
    "    gwf = sim.get_model(\"flow\")\n",
    "    gwt = sim.get_model(\"trans\")\n",
    "    print(\"Creating velocity profile plot...\")\n",
    "\n",
    "    # find line of cells on left side of first interface\n",
    "    cstrt = gwt.ic.strt.array\n",
    "    cstrt = cstrt.reshape((nlay, ncol))\n",
    "    interface_coords = []\n",
    "    for k in range(nlay):\n",
    "        crow = cstrt[k]\n",
    "        j = (np.abs(crow - c2)).argmin() - 1\n",
    "        interface_coords.append((k, j))\n",
    "\n",
    "    # plot velocity\n",
    "    xc, yc, zc = gwt.modelgrid.xyzcellcenters\n",
    "    xg = []\n",
    "    zg = []\n",
    "    for k, j in interface_coords:\n",
    "        x = xc[0, j]\n",
    "        z = zc[k, 0, j]\n",
    "        xg.append(x)\n",
    "        zg.append(z)\n",
    "    xg = np.array(xg)\n",
    "    zg = np.array(zg)\n",
    "\n",
    "    # set up plot\n",
    "    fig = plt.figure(figsize=(4, 6))\n",
    "    ax = fig.add_subplot(1, 1, 1)\n",
    "\n",
    "    # plot analytical solution\n",
    "    qx1, qz1 = BakkerRotatingInterface.get_w(\n",
    "        xg, zg, hydraulic_conductivity, rho1, rho2, a1, b, x1\n",
    "    )\n",
    "    qx2, qz2 = BakkerRotatingInterface.get_w(\n",
    "        xg, zg, hydraulic_conductivity, rho2, rho3, a2, b, x2\n",
    "    )\n",
    "    qx = qx1 + qx2\n",
    "    qz = qz1 + qz2\n",
    "    vh = qx + qz * a1 / b\n",
    "    vh = vh / porosity\n",
    "    ax.plot(vh, zg, \"k-\")\n",
    "\n",
    "    # plot numerical results\n",
    "    file_name = gwf.oc.budget_filerecord.get_data()[0][0]\n",
    "    fpth = os.path.join(sim_ws, file_name)\n",
    "    bobj = flopy.utils.CellBudgetFile(fpth, precision=\"double\")\n",
    "    kstpkper = bobj.get_kstpkper()\n",
    "    spdis = bobj.get_data(text=\"DATA-SPDIS\", kstpkper=kstpkper[0])[0]\n",
    "    qxsim = spdis[\"qx\"].reshape((nlay, ncol))\n",
    "    qzsim = spdis[\"qz\"].reshape((nlay, ncol))\n",
    "    qx = []\n",
    "    qz = []\n",
    "    for k, j in interface_coords:\n",
    "        qx.append(qxsim[k, j])\n",
    "        qz.append(qzsim[k, j])\n",
    "    qx = np.array(qx)\n",
    "    qz = np.array(qz)\n",
    "    vh = qx + qz * a1 / b\n",
    "    vh = vh / porosity\n",
    "    ax.plot(vh, zg, \"bo\", mfc=\"none\")\n",
    "\n",
    "    # configure plot and save\n",
    "    ax.plot([0, 0], [-b, b], \"k--\", linewidth=0.5)\n",
    "    ax.set_xlim(-0.1, 0.1)\n",
    "    ax.set_ylim(-b, b)\n",
    "    ax.set_ylabel(\"z location of left interface (m)\")\n",
    "    ax.set_xlabel(\"$v_h$ (m/d) of left interface at t=0\")\n",
    "    # save figure\n",
    "    if config.plotSave:\n",
    "        fpth = os.path.join(\n",
    "            \"..\", \"figures\", \"{}-vh{}\".format(sim_name, config.figure_ext)\n",
    "        )\n",
    "        fig.savefig(fpth)"
   ]
  },
  {
   "cell_type": "code",
   "execution_count": null,
   "id": "b36e4a97",
   "metadata": {},
   "outputs": [],
   "source": [
    "def plot_conc(sim, idx):\n",
    "    fs = USGSFigure(figure_type=\"map\", verbose=False)\n",
    "    sim_name = example_name\n",
    "    sim_ws = os.path.join(ws, sim_name)\n",
    "    gwf = sim.get_model(\"flow\")\n",
    "    gwt = sim.get_model(\"trans\")\n",
    "\n",
    "    # make initial conditions figure\n",
    "    print(\"Creating initial conditions figure...\")\n",
    "    fig = plt.figure(figsize=(6, 4))\n",
    "    ax = fig.add_subplot(1, 1, 1, aspect=\"equal\")\n",
    "    pxs = flopy.plot.PlotCrossSection(model=gwf, ax=ax, line={\"row\": 0})\n",
    "    pxs.plot_array(gwt.ic.strt.array, cmap=\"jet\", vmin=c1, vmax=c3)\n",
    "    pxs.plot_grid(linewidth=0.1)\n",
    "    ax.set_ylabel(\"z position (m)\")\n",
    "    ax.set_xlabel(\"x position (m)\")\n",
    "    if config.plotSave:\n",
    "        fpth = os.path.join(\n",
    "            \"..\", \"figures\", \"{}-bc{}\".format(sim_name, config.figure_ext)\n",
    "        )\n",
    "        fig.savefig(fpth)\n",
    "    plt.close(\"all\")\n",
    "\n",
    "    # make results plot\n",
    "    print(\"Making results plot...\")\n",
    "    fig = plt.figure(figsize=figure_size)\n",
    "    fig.tight_layout()\n",
    "\n",
    "    # create MODFLOW 6 head object\n",
    "    cobj = gwt.output.concentration()\n",
    "    times = cobj.get_times()\n",
    "    times = np.array(times)\n",
    "\n",
    "    # plot times in the original publication\n",
    "    plot_times = [\n",
    "        2000.0,\n",
    "        10000.0,\n",
    "    ]\n",
    "\n",
    "    nplots = len(plot_times)\n",
    "    for iplot in range(nplots):\n",
    "\n",
    "        time_in_pub = plot_times[iplot]\n",
    "        idx_conc = (np.abs(times - time_in_pub)).argmin()\n",
    "        time_this_plot = times[idx_conc]\n",
    "        conc = cobj.get_data(totim=time_this_plot)\n",
    "\n",
    "        ax = fig.add_subplot(2, 1, iplot + 1)\n",
    "        pxs = flopy.plot.PlotCrossSection(model=gwf, ax=ax, line={\"row\": 0})\n",
    "        pxs.plot_array(conc, cmap=\"jet\", vmin=c1, vmax=c3)\n",
    "        ax.set_xlim(0, length)\n",
    "        ax.set_ylim(-height / 2.0, height / 2.0)\n",
    "        ax.set_ylabel(\"z position (m)\")\n",
    "        ax.set_xlabel(\"x position (m)\")\n",
    "        ax.set_title(\"Time = {} days\".format(time_this_plot))\n",
    "    plt.tight_layout()\n",
    "\n",
    "    # save figure\n",
    "    if config.plotSave:\n",
    "        fpth = os.path.join(\n",
    "            \"..\", \"figures\", \"{}-conc{}\".format(sim_name, config.figure_ext)\n",
    "        )\n",
    "        fig.savefig(fpth)\n",
    "    return"
   ]
  },
  {
   "cell_type": "code",
   "execution_count": null,
   "id": "1801e33b",
   "metadata": {},
   "outputs": [],
   "source": [
    "def make_animated_gif(sim, idx):\n",
    "    from matplotlib.animation import FuncAnimation, PillowWriter\n",
    "\n",
    "    print(\"Creating animation...\")\n",
    "    fs = USGSFigure(figure_type=\"map\", verbose=False)\n",
    "    sim_name = example_name\n",
    "    sim_ws = os.path.join(ws, sim_name)\n",
    "    gwf = sim.get_model(\"flow\")\n",
    "    gwt = sim.get_model(\"trans\")\n",
    "\n",
    "    cobj = gwt.output.concentration()\n",
    "    times = cobj.get_times()\n",
    "    times = np.array(times)\n",
    "    conc = cobj.get_alldata()\n",
    "\n",
    "    fig = plt.figure(figsize=(6, 4))\n",
    "    ax = fig.add_subplot(1, 1, 1, aspect=\"equal\")\n",
    "    pxs = flopy.plot.PlotCrossSection(model=gwf, ax=ax, line={\"row\": 0})\n",
    "    pc = pxs.plot_array(conc[0], cmap=\"jet\", vmin=c1, vmax=c3)\n",
    "\n",
    "    def init():\n",
    "        ax.set_xlim(0, length)\n",
    "        ax.set_ylim(-height / 2, height / 2)\n",
    "        ax.set_title(\"Time = {} seconds\".format(times[0]))\n",
    "\n",
    "    def update(i):\n",
    "        pc.set_array(conc[i].flatten())\n",
    "        ax.set_title(\"Time = {} days\".format(times[i]))\n",
    "\n",
    "    ani = FuncAnimation(\n",
    "        fig, update, range(1, times.shape[0], 5), init_func=init\n",
    "    )\n",
    "    writer = PillowWriter(fps=50)\n",
    "    fpth = os.path.join(\"..\", \"figures\", \"{}{}\".format(sim_name, \".gif\"))\n",
    "    ani.save(fpth, writer=writer)\n",
    "    return"
   ]
  },
  {
   "cell_type": "code",
   "execution_count": null,
   "id": "cb4b51af",
   "metadata": {
    "lines_to_next_cell": 2
   },
   "outputs": [],
   "source": [
    "def plot_results(sim, idx):\n",
    "    if config.plotModel:\n",
    "        plot_conc(sim, idx)\n",
    "        plot_velocity_profile(sim, idx)\n",
    "        if config.plotSave:\n",
    "            make_animated_gif(sim, idx)\n",
    "    return"
   ]
  },
  {
   "cell_type": "markdown",
   "id": "df19e70f",
   "metadata": {
    "lines_to_next_cell": 2
   },
   "source": [
    "Function that wraps all of the steps for each scenario\n",
    "\n",
    "1. build_model,\n",
    "2. write_model,\n",
    "3. run_model, and\n",
    "4. plot_results.\n"
   ]
  },
  {
   "cell_type": "code",
   "execution_count": null,
   "id": "4de9e6c0",
   "metadata": {},
   "outputs": [],
   "source": [
    "def scenario(idx, silent=True):\n",
    "    sim = build_model(example_name)\n",
    "    write_model(sim, silent=silent)\n",
    "    success = run_model(sim, silent=silent)\n",
    "    if success:\n",
    "        plot_results(sim, idx)"
   ]
  },
  {
   "cell_type": "code",
   "execution_count": null,
   "id": "f459ef62",
   "metadata": {},
   "outputs": [],
   "source": []
  },
  {
   "cell_type": "markdown",
   "id": "1e504866",
   "metadata": {},
   "source": [
    "### Rotating Interface Problem"
   ]
  },
  {
   "cell_type": "markdown",
   "id": "2c758f0b",
   "metadata": {},
   "source": [
    "Plot showing MODFLOW 6 results"
   ]
  },
  {
   "cell_type": "code",
   "execution_count": null,
   "id": "604adcc4",
   "metadata": {},
   "outputs": [],
   "source": [
    "scenario(0)"
   ]
  }
 ],
 "metadata": {
  "jupytext": {
   "cell_metadata_filter": "-all",
   "main_language": "python",
   "notebook_metadata_filter": "-all"
  }
 },
 "nbformat": 4,
 "nbformat_minor": 5
}
