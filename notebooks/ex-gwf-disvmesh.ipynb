{
 "cells": [
  {
   "cell_type": "markdown",
   "metadata": {},
   "source": [
    "## USG1DISV example\n",
    "\n",
    "Demonstration of a triangular mesh with the DISV Package to discretize a\n",
    "circular island with a radius of 1500 meters.  The model has 2 layers and\n",
    "uses 2778 vertices (NVERT) to delineate 5240 cells per layer (NCPL).\n",
    "General-head boundaries are assigned to model layer 1 for cells outside of\n",
    "a 1025 m radius circle.  Recharge is applied to the top of the model.\n"
   ]
  },
  {
   "cell_type": "markdown",
   "metadata": {},
   "source": [
    "### USG1DISV Problem Setup\n",
    "\n",
    "Imports"
   ]
  },
  {
   "cell_type": "code",
   "execution_count": null,
   "metadata": {},
   "outputs": [],
   "source": [
    "import os\n",
    "import sys\n",
    "import numpy as np\n",
    "import matplotlib.pyplot as plt\n",
    "from shapely.geometry import Polygon\n",
    "import flopy\n",
    "import flopy.utils.cvfdutil\n",
    "from flopy.utils.gridintersect import GridIntersect\n",
    "from flopy.utils.geometry import get_polygon_area"
   ]
  },
  {
   "cell_type": "markdown",
   "metadata": {},
   "source": [
    "Append to system path to include the common subdirectory"
   ]
  },
  {
   "cell_type": "code",
   "execution_count": null,
   "metadata": {},
   "outputs": [],
   "source": [
    "sys.path.append(os.path.join(\"..\", \"common\"))"
   ]
  },
  {
   "cell_type": "markdown",
   "metadata": {},
   "source": [
    "import common functionality"
   ]
  },
  {
   "cell_type": "code",
   "execution_count": null,
   "metadata": {},
   "outputs": [],
   "source": [
    "import config\n",
    "from figspecs import USGSFigure"
   ]
  },
  {
   "cell_type": "markdown",
   "metadata": {},
   "source": [
    "Set default figure properties"
   ]
  },
  {
   "cell_type": "code",
   "execution_count": null,
   "metadata": {},
   "outputs": [],
   "source": [
    "figure_size = (5, 5)"
   ]
  },
  {
   "cell_type": "markdown",
   "metadata": {},
   "source": [
    "Base simulation and model name and workspace"
   ]
  },
  {
   "cell_type": "code",
   "execution_count": null,
   "metadata": {},
   "outputs": [],
   "source": [
    "ws = config.base_ws"
   ]
  },
  {
   "cell_type": "code",
   "execution_count": null,
   "metadata": {},
   "outputs": [],
   "source": [
    "# Simulation name\n",
    "sim_name = \"ex-gwf-disvmesh\""
   ]
  },
  {
   "cell_type": "markdown",
   "metadata": {},
   "source": [
    "Model units"
   ]
  },
  {
   "cell_type": "code",
   "execution_count": null,
   "metadata": {},
   "outputs": [],
   "source": [
    "length_units = \"meters\"\n",
    "time_units = \"days\""
   ]
  },
  {
   "cell_type": "markdown",
   "metadata": {},
   "source": [
    "Table USG1DISV Model Parameters"
   ]
  },
  {
   "cell_type": "code",
   "execution_count": null,
   "metadata": {},
   "outputs": [],
   "source": [
    "nper = 1  # Number of periods\n",
    "nlay = 2  # Number of layers\n",
    "top = 0.0  # Top of the model ($m$)\n",
    "botm_str = \"-20.0, -40.0\"  # Layer bottom elevations ($m$)\n",
    "strt = 0.0  # Starting head ($m$)\n",
    "icelltype = 0  # Cell conversion type\n",
    "k11 = 10.0  # Horizontal hydraulic conductivity ($m/d$)\n",
    "k33 = 0.2  # Vertical hydraulic conductivity ($m/d$)\n",
    "recharge = 4.0e-3  # Recharge rate ($m/d$)"
   ]
  },
  {
   "cell_type": "markdown",
   "metadata": {},
   "source": [
    "Static temporal data used by TDIS file\n",
    "Simulation has 1 steady stress period (1 day)."
   ]
  },
  {
   "cell_type": "code",
   "execution_count": null,
   "metadata": {},
   "outputs": [],
   "source": [
    "perlen = [1.0]\n",
    "nstp = [1]\n",
    "tsmult = [1.0]\n",
    "tdis_ds = list(zip(perlen, nstp, tsmult))"
   ]
  },
  {
   "cell_type": "markdown",
   "metadata": {},
   "source": [
    "Parse strings into lists"
   ]
  },
  {
   "cell_type": "code",
   "execution_count": null,
   "metadata": {
    "lines_to_next_cell": 1
   },
   "outputs": [],
   "source": [
    "botm = [float(value) for value in botm_str.split(\",\")]"
   ]
  },
  {
   "cell_type": "markdown",
   "metadata": {},
   "source": [
    "create the disv grid"
   ]
  },
  {
   "cell_type": "code",
   "execution_count": null,
   "metadata": {},
   "outputs": [],
   "source": [
    "def from_argus_export(fname):\n",
    "    f = open(fname, \"r\")\n",
    "    line = f.readline()\n",
    "    ll = line.split()\n",
    "    ncells, nverts = ll[0:2]\n",
    "    ncells = int(ncells)\n",
    "    nverts = int(nverts)\n",
    "    verts = np.empty((nverts, 2), dtype=np.float)\n",
    "\n",
    "    # read the vertices\n",
    "    f.readline()\n",
    "    for ivert in range(nverts):\n",
    "        line = f.readline()\n",
    "        ll = line.split()\n",
    "        c, iv, x, y = ll[0:4]\n",
    "        verts[ivert, 0] = x\n",
    "        verts[ivert, 1] = y\n",
    "\n",
    "    # read the cell information and create iverts\n",
    "    iverts = []\n",
    "    for icell in range(ncells):\n",
    "        line = f.readline()\n",
    "        ll = line.split()\n",
    "        ivlist = []\n",
    "        for ic in ll[2:5]:\n",
    "            ivlist.append(int(ic) - 1)\n",
    "        if ivlist[0] != ivlist[-1]:\n",
    "            ivlist.append(ivlist[0])\n",
    "        ivlist.reverse()\n",
    "        iverts.append(ivlist)\n",
    "\n",
    "    # close file and return spatial reference\n",
    "    f.close()\n",
    "    return verts, iverts"
   ]
  },
  {
   "cell_type": "markdown",
   "metadata": {},
   "source": [
    "Load argus mesh and get disv grid properties"
   ]
  },
  {
   "cell_type": "code",
   "execution_count": null,
   "metadata": {},
   "outputs": [],
   "source": [
    "fname = os.path.join(config.data_ws, \"ex-gwf-disvmesh\", \"argus.exp\")\n",
    "verts, iverts = from_argus_export(fname)\n",
    "gridprops = flopy.utils.cvfdutil.get_disv_gridprops(verts, iverts)\n",
    "cell_areas = []\n",
    "for i in range(gridprops[\"ncpl\"]):\n",
    "    x = verts[iverts[i], 0]\n",
    "    y = verts[iverts[i], 1]\n",
    "    cell_verts = np.vstack((x, y)).transpose()\n",
    "    cell_areas.append(get_polygon_area(cell_verts))"
   ]
  },
  {
   "cell_type": "markdown",
   "metadata": {},
   "source": [
    "Solver parameters"
   ]
  },
  {
   "cell_type": "code",
   "execution_count": null,
   "metadata": {},
   "outputs": [],
   "source": [
    "nouter = 50\n",
    "ninner = 100\n",
    "hclose = 1e-9\n",
    "rclose = 1e-6"
   ]
  },
  {
   "cell_type": "markdown",
   "metadata": {
    "lines_to_next_cell": 2
   },
   "source": [
    "### Functions to build, write, run, and plot the MODFLOW 6 DISVMESH model\n",
    "\n",
    "MODFLOW 6 flopy simulation object (sim) is returned if building the model"
   ]
  },
  {
   "cell_type": "code",
   "execution_count": null,
   "metadata": {
    "lines_to_next_cell": 2
   },
   "outputs": [],
   "source": [
    "def build_model(sim_name):\n",
    "    if config.buildModel:\n",
    "        sim_ws = os.path.join(ws, sim_name)\n",
    "        sim = flopy.mf6.MFSimulation(\n",
    "            sim_name=sim_name, sim_ws=sim_ws, exe_name=config.mf6_exe\n",
    "        )\n",
    "        flopy.mf6.ModflowTdis(\n",
    "            sim, nper=nper, perioddata=tdis_ds, time_units=time_units\n",
    "        )\n",
    "        flopy.mf6.ModflowIms(\n",
    "            sim,\n",
    "            linear_acceleration=\"bicgstab\",\n",
    "            outer_maximum=nouter,\n",
    "            outer_dvclose=hclose,\n",
    "            inner_maximum=ninner,\n",
    "            inner_dvclose=hclose,\n",
    "            rcloserecord=[rclose, \"strict\"],\n",
    "        )\n",
    "        gwf = flopy.mf6.ModflowGwf(sim, modelname=sim_name, save_flows=True)\n",
    "        flopy.mf6.ModflowGwfdisv(\n",
    "            gwf,\n",
    "            length_units=length_units,\n",
    "            nlay=nlay,\n",
    "            top=top,\n",
    "            botm=botm,\n",
    "            **gridprops,\n",
    "        )\n",
    "        flopy.mf6.ModflowGwfnpf(\n",
    "            gwf,\n",
    "            icelltype=icelltype,\n",
    "            k=k11,\n",
    "            k33=k33,\n",
    "            save_specific_discharge=True,\n",
    "            xt3doptions=True,\n",
    "        )\n",
    "        flopy.mf6.ModflowGwfic(gwf, strt=strt)\n",
    "\n",
    "        theta = np.arange(0.0, 2 * np.pi, 0.2)\n",
    "        radius = 1500.0\n",
    "        x = radius * np.cos(theta)\n",
    "        y = radius * np.sin(theta)\n",
    "        outer = [(x, y) for x, y in zip(x, y)]\n",
    "        radius = 1025.0\n",
    "        x = radius * np.cos(theta)\n",
    "        y = radius * np.sin(theta)\n",
    "        hole = [(x, y) for x, y in zip(x, y)]\n",
    "        p = Polygon(outer, holes=[hole])\n",
    "        ix = GridIntersect(gwf.modelgrid, method=\"vertex\", rtree=True)\n",
    "        result = ix.intersect(p)\n",
    "        ghb_cellids = np.array(result[\"cellids\"], dtype=np.int)\n",
    "\n",
    "        ghb_spd = []\n",
    "        ghb_spd += [\n",
    "            [0, i, 0.0, k33 * cell_areas[i] / 10.0] for i in ghb_cellids\n",
    "        ]\n",
    "        ghb_spd = {0: ghb_spd}\n",
    "        flopy.mf6.ModflowGwfghb(\n",
    "            gwf, stress_period_data=ghb_spd, pname=\"GHB\",\n",
    "        )\n",
    "\n",
    "        ncpl = gridprops[\"ncpl\"]\n",
    "        rchcells = np.array(list(range(ncpl)), dtype=np.int)\n",
    "        rchcells[ghb_cellids] = -1\n",
    "        rch_spd = [\n",
    "            (0, rchcells[i], recharge) for i in range(ncpl) if rchcells[i] > 0\n",
    "        ]\n",
    "        rch_spd = {0: rch_spd}\n",
    "        flopy.mf6.ModflowGwfrch(gwf, stress_period_data=rch_spd, pname=\"RCH\")\n",
    "\n",
    "        head_filerecord = \"{}.hds\".format(sim_name)\n",
    "        budget_filerecord = \"{}.cbc\".format(sim_name)\n",
    "        flopy.mf6.ModflowGwfoc(\n",
    "            gwf,\n",
    "            head_filerecord=head_filerecord,\n",
    "            budget_filerecord=budget_filerecord,\n",
    "            saverecord=[(\"HEAD\", \"ALL\"), (\"BUDGET\", \"ALL\")],\n",
    "        )\n",
    "\n",
    "        return sim\n",
    "    return None"
   ]
  },
  {
   "cell_type": "markdown",
   "metadata": {
    "lines_to_next_cell": 2
   },
   "source": [
    "Function to write MODFLOW 6 DISVMESH model files"
   ]
  },
  {
   "cell_type": "code",
   "execution_count": null,
   "metadata": {
    "lines_to_next_cell": 2
   },
   "outputs": [],
   "source": [
    "def write_model(sim, silent=True):\n",
    "    if config.writeModel:\n",
    "        sim.write_simulation(silent=silent)"
   ]
  },
  {
   "cell_type": "markdown",
   "metadata": {
    "lines_to_next_cell": 2
   },
   "source": [
    "Function to run the FHB model.\n",
    "True is returned if the model runs successfully\n"
   ]
  },
  {
   "cell_type": "code",
   "execution_count": null,
   "metadata": {},
   "outputs": [],
   "source": [
    "def run_model(sim, silent=False):\n",
    "    success = True\n",
    "    if config.runModel:\n",
    "        success, buff = sim.run_simulation(silent=silent, report=True)\n",
    "        if not success:\n",
    "            print(buff)\n",
    "    return success"
   ]
  },
  {
   "cell_type": "code",
   "execution_count": null,
   "metadata": {},
   "outputs": [],
   "source": [
    "# Function to plot the DISVMESH model results.\n",
    "#\n",
    "def plot_grid(idx, sim):\n",
    "    fs = USGSFigure(figure_type=\"map\", verbose=False)\n",
    "    sim_ws = os.path.join(ws, sim_name)\n",
    "    gwf = sim.get_model(sim_name)\n",
    "\n",
    "    fig = plt.figure(figsize=figure_size)\n",
    "    fig.tight_layout()\n",
    "\n",
    "    ax = fig.add_subplot(1, 1, 1, aspect=\"equal\")\n",
    "    pmv = flopy.plot.PlotMapView(model=gwf, ax=ax, layer=0)\n",
    "    pmv.plot_grid(linewidth=1)\n",
    "    pmv.plot_bc(name=\"GHB\")\n",
    "    ax.set_xlabel(\"x position (m)\")\n",
    "    ax.set_ylabel(\"y position (m)\")\n",
    "\n",
    "    # save figure\n",
    "    if config.plotSave:\n",
    "        fpth = os.path.join(\n",
    "            \"..\", \"figures\", \"{}-grid{}\".format(sim_name, config.figure_ext)\n",
    "        )\n",
    "        fig.savefig(fpth)\n",
    "    return"
   ]
  },
  {
   "cell_type": "code",
   "execution_count": null,
   "metadata": {},
   "outputs": [],
   "source": [
    "def plot_head(idx, sim):\n",
    "    fs = USGSFigure(figure_type=\"map\", verbose=False)\n",
    "    sim_ws = os.path.join(ws, sim_name)\n",
    "    gwf = sim.get_model(sim_name)\n",
    "\n",
    "    fig = plt.figure(figsize=(7.5, 5))\n",
    "    fig.tight_layout()\n",
    "\n",
    "    fname = os.path.join(sim_ws, \"{}.hds\".format(sim_name))\n",
    "    hdobj = flopy.utils.HeadFile(fname)\n",
    "    head = hdobj.get_data()[:, 0, :]\n",
    "\n",
    "    # create MODFLOW 6 cell-by-cell budget object\n",
    "    file_name = gwf.oc.budget_filerecord.get_data()[0][0]\n",
    "    fpth = os.path.join(sim_ws, file_name)\n",
    "    cobj = flopy.utils.CellBudgetFile(fpth, precision=\"double\")\n",
    "    spdis = cobj.get_data(text=\"DATA-SPDIS\", totim=1.0)\n",
    "\n",
    "    ax = fig.add_subplot(1, 2, 1, aspect=\"equal\")\n",
    "    pmv = flopy.plot.PlotMapView(model=gwf, ax=ax, layer=0)\n",
    "    cb = pmv.plot_array(head, cmap=\"jet\", vmin=0.0, vmax=head.max())\n",
    "    pmv.plot_specific_discharge(\n",
    "        spdis, normalize=False, color=\"0.75\",\n",
    "    )\n",
    "    cbar = plt.colorbar(cb, shrink=0.25)\n",
    "    cbar.ax.set_xlabel(r\"Head, ($m$)\")\n",
    "    ax.set_xlabel(\"x position (m)\")\n",
    "    ax.set_ylabel(\"y position (m)\")\n",
    "    fs.heading(ax, letter=\"A\", heading=\"Layer 1\")\n",
    "\n",
    "    ax = fig.add_subplot(1, 2, 2, aspect=\"equal\")\n",
    "    pmv = flopy.plot.PlotMapView(model=gwf, ax=ax, layer=1)\n",
    "    cb = pmv.plot_array(head, cmap=\"jet\", vmin=0.0, vmax=head.max())\n",
    "    pmv.plot_specific_discharge(\n",
    "        spdis, normalize=False, color=\"0.75\",\n",
    "    )\n",
    "    cbar = plt.colorbar(cb, shrink=0.25)\n",
    "    cbar.ax.set_xlabel(r\"Head, ($m$)\")\n",
    "    ax.set_xlabel(\"x position (m)\")\n",
    "    ax.set_ylabel(\"y position (m)\")\n",
    "    fs.heading(ax, letter=\"B\", heading=\"Layer 2\")\n",
    "\n",
    "    # save figure\n",
    "    if config.plotSave:\n",
    "        fpth = os.path.join(\n",
    "            \"..\", \"figures\", \"{}-head{}\".format(sim_name, config.figure_ext)\n",
    "        )\n",
    "        fig.savefig(fpth)\n",
    "    return"
   ]
  },
  {
   "cell_type": "code",
   "execution_count": null,
   "metadata": {
    "lines_to_next_cell": 2
   },
   "outputs": [],
   "source": [
    "def plot_results(idx, sim, silent=True):\n",
    "    if config.plotModel:\n",
    "        if idx == 0:\n",
    "            plot_grid(idx, sim)\n",
    "        plot_head(idx, sim)\n",
    "    return"
   ]
  },
  {
   "cell_type": "markdown",
   "metadata": {
    "lines_to_next_cell": 2
   },
   "source": [
    "Function that wraps all of the steps for the FHB model\n",
    "\n",
    "1. build_model,\n",
    "2. write_model,\n",
    "3. run_model, and\n",
    "4. plot_results.\n"
   ]
  },
  {
   "cell_type": "code",
   "execution_count": null,
   "metadata": {},
   "outputs": [],
   "source": [
    "def simulation(idx, silent=True):\n",
    "    sim = build_model(sim_name)\n",
    "    write_model(sim, silent=silent)\n",
    "    success = run_model(sim, silent=silent)\n",
    "    if success:\n",
    "        plot_results(idx, sim, silent=silent)"
   ]
  },
  {
   "cell_type": "code",
   "execution_count": null,
   "metadata": {},
   "outputs": [],
   "source": []
  },
  {
   "cell_type": "markdown",
   "metadata": {},
   "source": [
    "### DISVMESH Simulation\n",
    "\n",
    "Model grid and simulated heads in the DISVMESH model"
   ]
  },
  {
   "cell_type": "code",
   "execution_count": null,
   "metadata": {},
   "outputs": [],
   "source": [
    "simulation(0)"
   ]
  }
 ],
 "metadata": {
  "jupytext": {
   "cell_metadata_filter": "-all",
   "main_language": "python",
   "notebook_metadata_filter": "-all"
  }
 },
 "nbformat": 4,
 "nbformat_minor": 4
}
