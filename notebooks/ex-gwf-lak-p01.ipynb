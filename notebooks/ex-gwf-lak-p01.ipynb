{
 "cells": [
  {
   "cell_type": "markdown",
   "metadata": {},
   "source": [
    "## Lake package (LAK) Package problem 1\n",
    "\n",
    "This is the lake package example problem (test 1) from the\n",
    "Lake Package documentation (Merritt and Konikow, 2000).\n"
   ]
  },
  {
   "cell_type": "markdown",
   "metadata": {},
   "source": [
    "### LAK Package Problem 1 Setup\n",
    "\n",
    "Imports"
   ]
  },
  {
   "cell_type": "code",
   "execution_count": null,
   "metadata": {},
   "outputs": [],
   "source": [
    "import os\n",
    "import sys\n",
    "import numpy as np\n",
    "import matplotlib as mpl\n",
    "import matplotlib.pyplot as plt\n",
    "import flopy"
   ]
  },
  {
   "cell_type": "markdown",
   "metadata": {},
   "source": [
    "Append to system path to include the common subdirectory"
   ]
  },
  {
   "cell_type": "code",
   "execution_count": null,
   "metadata": {},
   "outputs": [],
   "source": [
    "sys.path.append(os.path.join(\"..\", \"common\"))"
   ]
  },
  {
   "cell_type": "markdown",
   "metadata": {},
   "source": [
    "import common functionality"
   ]
  },
  {
   "cell_type": "code",
   "execution_count": null,
   "metadata": {},
   "outputs": [],
   "source": [
    "import config\n",
    "from figspecs import USGSFigure"
   ]
  },
  {
   "cell_type": "markdown",
   "metadata": {},
   "source": [
    "Set figure properties specific to the"
   ]
  },
  {
   "cell_type": "code",
   "execution_count": null,
   "metadata": {},
   "outputs": [],
   "source": [
    "figure_size = (6.3, 5.6)\n",
    "masked_values = (0, 1e30, -1e30)"
   ]
  },
  {
   "cell_type": "markdown",
   "metadata": {},
   "source": [
    "Base simulation and model name and workspace"
   ]
  },
  {
   "cell_type": "code",
   "execution_count": null,
   "metadata": {},
   "outputs": [],
   "source": [
    "ws = config.base_ws"
   ]
  },
  {
   "cell_type": "markdown",
   "metadata": {},
   "source": [
    "Simulation name"
   ]
  },
  {
   "cell_type": "code",
   "execution_count": null,
   "metadata": {},
   "outputs": [],
   "source": [
    "sim_name = \"ex-gwf-lak-p01\""
   ]
  },
  {
   "cell_type": "markdown",
   "metadata": {},
   "source": [
    "Model units"
   ]
  },
  {
   "cell_type": "code",
   "execution_count": null,
   "metadata": {},
   "outputs": [],
   "source": [
    "length_units = \"feet\"\n",
    "time_units = \"days\""
   ]
  },
  {
   "cell_type": "markdown",
   "metadata": {},
   "source": [
    "Table LAK Package Problem 1 Model Parameters"
   ]
  },
  {
   "cell_type": "code",
   "execution_count": null,
   "metadata": {},
   "outputs": [],
   "source": [
    "nper = 1  # Number of periods\n",
    "nlay = 5  # Number of layers\n",
    "nrow = 17  # Number of rows\n",
    "ncol = 17  # Number of columns\n",
    "top = 500.0  # Top of the model ($ft$)\n",
    "botm_str = \"107., 97., 87., 77., 67.\"  # Bottom elevations ($ft$)\n",
    "strt = 115.0  # Starting head ($ft$)\n",
    "k11 = 30.0  # Horizontal hydraulic conductivity ($ft/d$)\n",
    "k33_str = \"1179., 30., 30., 30., 30.\"  # Vertical hydraulic conductivity ($ft/d$)\n",
    "ss = 3e-4  # Specific storage ($1/d$)\n",
    "sy = 0.2  # Specific yield (unitless)\n",
    "H1 = 160.0  # Constant head on left side of model ($ft$)\n",
    "H2 = 140.0  # Constant head on right side of model ($ft$)\n",
    "recharge = 0.0116  # Aereal recharge rate ($ft/d$)\n",
    "etvrate = 0.0141  # Maximum evapotranspiration rate ($ft/d$)\n",
    "etvdepth = 15.0  # Evapotranspiration extinction depth ($ft$)\n",
    "lak_strt = 110.0  # Starting lake stage ($ft$)\n",
    "lak_etrate = 0.0103  # Lake evaporation rate ($ft/d$)"
   ]
  },
  {
   "cell_type": "markdown",
   "metadata": {},
   "source": [
    "parse parameter strings into tuples"
   ]
  },
  {
   "cell_type": "code",
   "execution_count": null,
   "metadata": {},
   "outputs": [],
   "source": [
    "botm = [float(value) for value in botm_str.split(\",\")]\n",
    "k33 = [float(value) for value in k33_str.split(\",\")]"
   ]
  },
  {
   "cell_type": "markdown",
   "metadata": {},
   "source": [
    "Static temporal data used by TDIS file"
   ]
  },
  {
   "cell_type": "code",
   "execution_count": null,
   "metadata": {},
   "outputs": [],
   "source": [
    "tdis_ds = ((5000.0, 100, 1.02),)"
   ]
  },
  {
   "cell_type": "code",
   "execution_count": null,
   "metadata": {},
   "outputs": [],
   "source": [
    "# define delr and delc\n",
    "delr = np.array(\n",
    "    [\n",
    "        250.0,\n",
    "        1000.0,\n",
    "        1000.0,\n",
    "        1000.0,\n",
    "        1000.0,\n",
    "        1000.0,\n",
    "        500.00,\n",
    "        500.00,\n",
    "        500.00,\n",
    "        500.0,\n",
    "        500.00,\n",
    "        1000.0,\n",
    "        1000.0,\n",
    "        1000.0,\n",
    "        1000.0,\n",
    "        1000.0,\n",
    "        250.0,\n",
    "    ]\n",
    ")\n",
    "delc = np.array(\n",
    "    [\n",
    "        250.0,\n",
    "        1000.0,\n",
    "        1000.0,\n",
    "        1000.0,\n",
    "        1000.0,\n",
    "        1000.0,\n",
    "        500.00,\n",
    "        500.00,\n",
    "        500.00,\n",
    "        500.0,\n",
    "        500.00,\n",
    "        1000.0,\n",
    "        1000.0,\n",
    "        1000.0,\n",
    "        1000.0,\n",
    "        1000.0,\n",
    "        250.0,\n",
    "    ]\n",
    ")"
   ]
  },
  {
   "cell_type": "code",
   "execution_count": null,
   "metadata": {},
   "outputs": [],
   "source": [
    "# Define dimensions\n",
    "extents = (0.0, delr.sum(), 0.0, delc.sum())\n",
    "shape2d = (nrow, ncol)\n",
    "shape3d = (nlay, nrow, ncol)"
   ]
  },
  {
   "cell_type": "markdown",
   "metadata": {},
   "source": [
    "Load the idomain arrays"
   ]
  },
  {
   "cell_type": "code",
   "execution_count": null,
   "metadata": {},
   "outputs": [],
   "source": [
    "data_pth = os.path.join(\"..\", \"data\", sim_name)\n",
    "fpth = os.path.join(data_pth, \"idomain-01.txt\")\n",
    "idomain0 = np.loadtxt(fpth, dtype=np.int)\n",
    "fpth = os.path.join(data_pth, \"idomain-02.txt\")\n",
    "idomain1 = np.loadtxt(fpth, dtype=np.int)\n",
    "idomain = [idomain0, idomain1, 1, 1, 1]"
   ]
  },
  {
   "cell_type": "markdown",
   "metadata": {},
   "source": [
    "create linearly varying evapotranspiration surface"
   ]
  },
  {
   "cell_type": "code",
   "execution_count": null,
   "metadata": {},
   "outputs": [],
   "source": [
    "xlen = delr.sum() - 0.5 * (delr[0] + delr[-1])\n",
    "x = 0.\n",
    "s1d = H1 * np.ones(ncol, dtype=np.float)\n",
    "for idx in range(1, ncol):\n",
    "    x += 0.5 * (delr[idx - 1] + delr[idx])\n",
    "    frac = x / xlen\n",
    "    s1d[idx] = H1 + (H2 - H1) * frac\n",
    "surf = np.tile(s1d, (nrow, 1))\n",
    "surf[idomain0 == 0] = botm[0] - 2\n",
    "surf[idomain1 == 0] = botm[1] - 2"
   ]
  },
  {
   "cell_type": "markdown",
   "metadata": {},
   "source": [
    "### Create LAK Package Problem 1 Model Boundary Conditions\n",
    "\n",
    "Constant head boundary conditions\n"
   ]
  },
  {
   "cell_type": "code",
   "execution_count": null,
   "metadata": {},
   "outputs": [],
   "source": [
    "chd_spd = []\n",
    "for k in range(nlay):\n",
    "    chd_spd += [[k, i, 0, H1] for i in range(nrow)]\n",
    "    chd_spd += [[k, i, ncol - 1, H2] for i in range(nrow)]"
   ]
  },
  {
   "cell_type": "markdown",
   "metadata": {},
   "source": [
    "LAK Package"
   ]
  },
  {
   "cell_type": "code",
   "execution_count": null,
   "metadata": {},
   "outputs": [],
   "source": [
    "lak_conn = [\n",
    "    [0, 0, 0, 6, 5, \"HORIZONTAL\", 0.1, 0, 0, 500, 500],\n",
    "    [0, 1, 0, 7, 5, \"HORIZONTAL\", 0.1, 0, 0, 500, 500],\n",
    "    [0, 2, 0, 8, 5, \"HORIZONTAL\", 0.1, 0, 0, 500, 500],\n",
    "    [0, 3, 0, 9, 5, \"HORIZONTAL\", 0.1, 0, 0, 500, 500],\n",
    "    [0, 4, 0, 10, 5, \"HORIZONTAL\", 0.1, 0, 0, 500, 500],\n",
    "    [0, 5, 0, 5, 6, \"HORIZONTAL\", 0.1, 0, 0, 500, 500],\n",
    "    [0, 6, 1, 6, 6, \"VERTICAL\", 0.1, 0, 0, 0, 0],\n",
    "    [0, 7, 1, 7, 6, \"VERTICAL\", 0.1, 0, 0, 0, 0],\n",
    "    [0, 8, 1, 7, 6, \"HORIZONTAL\", 0.1, 0, 0, 250, 500],\n",
    "    [0, 9, 1, 8, 6, \"VERTICAL\", 0.1, 0, 0, 0, 0],\n",
    "    [0, 10, 1, 8, 6, \"HORIZONTAL\", 0.1, 0, 0, 250, 500],\n",
    "    [0, 11, 1, 9, 6, \"VERTICAL\", 0.1, 0, 0, 0, 0],\n",
    "    [0, 12, 1, 9, 6, \"HORIZONTAL\", 0.1, 0, 0, 250, 500],\n",
    "    [0, 13, 1, 10, 6, \"VERTICAL\", 0.1, 0, 0, 0, 0],\n",
    "    [0, 14, 0, 11, 6, \"HORIZONTAL\", 0.1, 0, 0, 500, 500],\n",
    "    [0, 15, 0, 5, 7, \"HORIZONTAL\", 0.1, 0, 0, 500, 500],\n",
    "    [0, 16, 1, 6, 7, \"VERTICAL\", 0.1, 0, 0, 0, 0],\n",
    "    [0, 17, 1, 6, 7, \"HORIZONTAL\", 0.1, 0, 0, 250, 500],\n",
    "    [0, 18, 2, 7, 7, \"VERTICAL\", 0.1, 0, 0, 0, 0],\n",
    "    [0, 19, 2, 8, 7, \"VERTICAL\", 0.1, 0, 0, 0, 0],\n",
    "    [0, 20, 2, 9, 7, \"VERTICAL\", 0.1, 0, 0, 0, 0],\n",
    "    [0, 21, 1, 10, 7, \"VERTICAL\", 0.1, 0, 0, 0, 0],\n",
    "    [0, 22, 1, 10, 7, \"HORIZONTAL\", 0.1, 0, 0, 250, 500],\n",
    "    [0, 23, 0, 11, 7, \"HORIZONTAL\", 0.1, 0, 0, 500, 500],\n",
    "    [0, 24, 0, 5, 8, \"HORIZONTAL\", 0.1, 0, 0, 500, 500],\n",
    "    [0, 25, 1, 6, 8, \"VERTICAL\", 0.1, 0, 0, 0, 0],\n",
    "    [0, 26, 1, 6, 8, \"HORIZONTAL\", 0.1, 0, 0, 250, 500],\n",
    "    [0, 27, 2, 7, 8, \"VERTICAL\", 0.1, 0, 0, 0, 0],\n",
    "    [0, 28, 2, 8, 8, \"VERTICAL\", 0.1, 0, 0, 0, 0],\n",
    "    [0, 29, 2, 9, 8, \"VERTICAL\", 0.1, 0, 0, 0, 0],\n",
    "    [0, 30, 1, 10, 8, \"VERTICAL\", 0.1, 0, 0, 0, 0],\n",
    "    [0, 31, 1, 10, 8, \"HORIZONTAL\", 0.1, 0, 0, 250, 500],\n",
    "    [0, 32, 0, 11, 8, \"HORIZONTAL\", 0.1, 0, 0, 500, 500],\n",
    "    [0, 33, 0, 5, 9, \"HORIZONTAL\", 0.1, 0, 0, 500, 500],\n",
    "    [0, 34, 1, 6, 9, \"VERTICAL\", 0.1, 0, 0, 0, 0],\n",
    "    [0, 35, 1, 6, 9, \"HORIZONTAL\", 0.1, 0, 0, 250, 500],\n",
    "    [0, 36, 2, 7, 9, \"VERTICAL\", 0.1, 0, 0, 0, 0],\n",
    "    [0, 37, 2, 8, 9, \"VERTICAL\", 0.1, 0, 0, 0, 0],\n",
    "    [0, 38, 2, 9, 9, \"VERTICAL\", 0.1, 0, 0, 0, 0],\n",
    "    [0, 39, 1, 10, 9, \"VERTICAL\", 0.1, 0, 0, 0, 0],\n",
    "    [0, 40, 1, 10, 9, \"HORIZONTAL\", 0.1, 0, 0, 250, 500],\n",
    "    [0, 41, 0, 11, 9, \"HORIZONTAL\", 0.1, 0, 0, 500, 500],\n",
    "    [0, 42, 0, 5, 10, \"HORIZONTAL\", 0.1, 0, 0, 500, 500],\n",
    "    [0, 43, 1, 6, 10, \"VERTICAL\", 0.1, 0, 0, 0, 0],\n",
    "    [0, 44, 1, 7, 10, \"VERTICAL\", 0.1, 0, 0, 0, 0],\n",
    "    [0, 45, 1, 7, 10, \"HORIZONTAL\", 0.1, 0, 0, 250, 500],\n",
    "    [0, 46, 1, 8, 10, \"VERTICAL\", 0.1, 0, 0, 0, 0],\n",
    "    [0, 47, 1, 8, 10, \"HORIZONTAL\", 0.1, 0, 0, 250, 500],\n",
    "    [0, 48, 1, 9, 10, \"VERTICAL\", 0.1, 0, 0, 0, 0],\n",
    "    [0, 49, 1, 9, 10, \"HORIZONTAL\", 0.1, 0, 0, 250, 500],\n",
    "    [0, 50, 1, 10, 10, \"VERTICAL\", 0.1, 0, 0, 0, 0],\n",
    "    [0, 51, 0, 11, 10, \"HORIZONTAL\", 0.1, 0, 0, 500, 500],\n",
    "    [0, 52, 0, 6, 11, \"HORIZONTAL\", 0.1, 0, 0, 500, 500],\n",
    "    [0, 53, 0, 7, 11, \"HORIZONTAL\", 0.1, 0, 0, 500, 500],\n",
    "    [0, 54, 0, 8, 11, \"HORIZONTAL\", 0.1, 0, 0, 500, 500],\n",
    "    [0, 55, 0, 9, 11, \"HORIZONTAL\", 0.1, 0, 0, 500, 500],\n",
    "    [0, 56, 0, 10, 11, \"HORIZONTAL\", 0.1, 0, 0, 500, 500],\n",
    "]"
   ]
  },
  {
   "cell_type": "code",
   "execution_count": null,
   "metadata": {},
   "outputs": [],
   "source": [
    "lak_packagedata = [[0, lak_strt, len(lak_conn)]]"
   ]
  },
  {
   "cell_type": "code",
   "execution_count": null,
   "metadata": {},
   "outputs": [],
   "source": [
    "lak_spd = [\n",
    "    [0, \"rainfall\", recharge],\n",
    "    [0, \"evaporation\", lak_etrate],\n",
    "]"
   ]
  },
  {
   "cell_type": "markdown",
   "metadata": {},
   "source": [
    "Solver parameters"
   ]
  },
  {
   "cell_type": "code",
   "execution_count": null,
   "metadata": {
    "lines_to_next_cell": 2
   },
   "outputs": [],
   "source": [
    "nouter = 500\n",
    "ninner = 100\n",
    "hclose = 1e-9\n",
    "rclose = 1e-6"
   ]
  },
  {
   "cell_type": "markdown",
   "metadata": {
    "lines_to_next_cell": 2
   },
   "source": [
    "### Functions to build, write, run, and plot the MODFLOW 6 LAK Package Problem 1 model\n",
    "\n",
    "MODFLOW 6 flopy simulation object (sim) is returned if building the model"
   ]
  },
  {
   "cell_type": "code",
   "execution_count": null,
   "metadata": {
    "lines_to_next_cell": 2
   },
   "outputs": [],
   "source": [
    "def build_model():\n",
    "    if config.buildModel:\n",
    "        sim_ws = os.path.join(ws, sim_name)\n",
    "        sim = flopy.mf6.MFSimulation(\n",
    "            sim_name=sim_name, sim_ws=sim_ws, exe_name=config.mf6_exe\n",
    "        )\n",
    "        flopy.mf6.ModflowTdis(\n",
    "            sim, nper=nper, perioddata=tdis_ds, time_units=time_units\n",
    "        )\n",
    "        flopy.mf6.ModflowIms(\n",
    "            sim,\n",
    "            print_option=\"summary\",\n",
    "            linear_acceleration=\"bicgstab\",\n",
    "            outer_maximum=nouter,\n",
    "            outer_dvclose=hclose,\n",
    "            inner_maximum=ninner,\n",
    "            inner_dvclose=hclose,\n",
    "            rcloserecord=[rclose, \"strict\"],\n",
    "        )\n",
    "        gwf = flopy.mf6.ModflowGwf(\n",
    "            sim, modelname=sim_name, newtonoptions=\"\", save_flows=True\n",
    "        )\n",
    "        flopy.mf6.ModflowGwfdis(\n",
    "            gwf,\n",
    "            length_units=length_units,\n",
    "            nlay=nlay,\n",
    "            nrow=nrow,\n",
    "            ncol=ncol,\n",
    "            delr=delr,\n",
    "            delc=delc,\n",
    "            idomain=idomain,\n",
    "            top=top,\n",
    "            botm=botm,\n",
    "        )\n",
    "        obs_file = \"{}.gwf.obs\".format(sim_name)\n",
    "        csv_file = obs_file + \".csv\"\n",
    "        obslist = [\n",
    "            [\"A\", \"head\", (0, 3, 3)],\n",
    "            [\"B\", \"head\", (0, 13, 13)],\n",
    "        ]\n",
    "        obsdict = {csv_file: obslist}\n",
    "        flopy.mf6.ModflowUtlobs(\n",
    "            gwf, filename=obs_file, print_input=False, continuous=obsdict\n",
    "        )\n",
    "\n",
    "        flopy.mf6.ModflowGwfnpf(\n",
    "            gwf,\n",
    "            icelltype=1,\n",
    "            k=k11,\n",
    "            k33=k33,\n",
    "            save_specific_discharge=True,\n",
    "        )\n",
    "        flopy.mf6.ModflowGwfsto(\n",
    "            gwf,\n",
    "            iconvert=1,\n",
    "            sy=sy,\n",
    "            ss=ss,\n",
    "        )\n",
    "        flopy.mf6.ModflowGwfic(gwf, strt=strt)\n",
    "        flopy.mf6.ModflowGwfchd(gwf, stress_period_data=chd_spd)\n",
    "        flopy.mf6.ModflowGwfrcha(gwf, recharge=recharge)\n",
    "        flopy.mf6.ModflowGwfevta(\n",
    "            gwf, surface=surf, rate=etvrate, depth=etvdepth\n",
    "        )\n",
    "        lak = flopy.mf6.ModflowGwflak(\n",
    "            gwf,\n",
    "            print_stage=True,\n",
    "            nlakes=1,\n",
    "            noutlets=0,\n",
    "            packagedata=lak_packagedata,\n",
    "            connectiondata=lak_conn,\n",
    "            perioddata=lak_spd,\n",
    "        )\n",
    "        obs_file = \"{}.lak.obs\".format(sim_name)\n",
    "        csv_file = obs_file + \".csv\"\n",
    "        obs_dict = {\n",
    "            csv_file: [\n",
    "                (\"stage\", \"stage\", (0,)),\n",
    "            ]\n",
    "        }\n",
    "        lak.obs.initialize(\n",
    "            filename=obs_file, digits=10, print_input=True, continuous=obs_dict\n",
    "        )\n",
    "\n",
    "        head_filerecord = \"{}.hds\".format(sim_name)\n",
    "        budget_filerecord = \"{}.cbc\".format(sim_name)\n",
    "        flopy.mf6.ModflowGwfoc(\n",
    "            gwf,\n",
    "            head_filerecord=head_filerecord,\n",
    "            budget_filerecord=budget_filerecord,\n",
    "            saverecord=[(\"HEAD\", \"LAST\"), (\"BUDGET\", \"LAST\")],\n",
    "        )\n",
    "        return sim\n",
    "    return None"
   ]
  },
  {
   "cell_type": "markdown",
   "metadata": {
    "lines_to_next_cell": 2
   },
   "source": [
    "Function to write MODFLOW 6 LAK Package Problem 1 model files"
   ]
  },
  {
   "cell_type": "code",
   "execution_count": null,
   "metadata": {
    "lines_to_next_cell": 2
   },
   "outputs": [],
   "source": [
    "def write_model(sim, silent=True):\n",
    "    if config.writeModel:\n",
    "        sim.write_simulation(silent=silent)"
   ]
  },
  {
   "cell_type": "markdown",
   "metadata": {
    "lines_to_next_cell": 2
   },
   "source": [
    "Function to run the LAK Package Problem 1 model.\n",
    "True is returned if the model runs successfully\n"
   ]
  },
  {
   "cell_type": "code",
   "execution_count": null,
   "metadata": {
    "lines_to_next_cell": 2
   },
   "outputs": [],
   "source": [
    "def run_model(sim, silent=True):\n",
    "    success = True\n",
    "    if config.runModel:\n",
    "        success, buff = sim.run_simulation(silent=silent)\n",
    "        if not success:\n",
    "            print(buff)\n",
    "    return success"
   ]
  },
  {
   "cell_type": "markdown",
   "metadata": {
    "lines_to_next_cell": 2
   },
   "source": [
    "Function to plot grid"
   ]
  },
  {
   "cell_type": "code",
   "execution_count": null,
   "metadata": {
    "lines_to_next_cell": 2
   },
   "outputs": [],
   "source": [
    "def plot_grid(gwf, silent=True):\n",
    "    sim_ws = os.path.join(ws, sim_name)\n",
    "\n",
    "    # load the observations\n",
    "    fpth = os.path.join(ws, sim_name, \"{}.lak.obs.csv\".format(sim_name))\n",
    "    lak_results = np.genfromtxt(fpth, delimiter=\",\", names=True)\n",
    "\n",
    "    # create MODFLOW 6 head object\n",
    "    file_name = gwf.oc.head_filerecord.get_data()[0][0]\n",
    "    fpth = os.path.join(sim_ws, file_name)\n",
    "    hobj = flopy.utils.HeadFile(fpth)\n",
    "\n",
    "    # create MODFLOW 6 cell-by-cell budget object\n",
    "    file_name = gwf.oc.budget_filerecord.get_data()[0][0]\n",
    "    fpth = os.path.join(sim_ws, file_name)\n",
    "    cobj = flopy.utils.CellBudgetFile(fpth, precision=\"double\")\n",
    "\n",
    "    kstpkper = hobj.get_kstpkper()\n",
    "\n",
    "    head = hobj.get_data(kstpkper=kstpkper[0])\n",
    "    spdis = cobj.get_data(text=\"DATA-SPDIS\", kstpkper=kstpkper[0])\n",
    "\n",
    "    # add lake stage to heads\n",
    "    head[head == 1e30] = lak_results[\"STAGE\"][-1]\n",
    "\n",
    "    # observation locations\n",
    "    xcenters, ycenters = gwf.modelgrid.xycenters[0], gwf.modelgrid.xycenters[1]\n",
    "    p1 = (xcenters[3], ycenters[3])\n",
    "    p2 = (xcenters[13], ycenters[13])\n",
    "\n",
    "    fs = USGSFigure(figure_type=\"map\", verbose=False)\n",
    "    fig = plt.figure(\n",
    "        figsize=(4, 6.9),\n",
    "        tight_layout=True,\n",
    "    )\n",
    "    plt.axis(\"off\")\n",
    "\n",
    "    nrows, ncols = 10, 1\n",
    "    axes = [fig.add_subplot(nrows, ncols, (1, 5))]\n",
    "    axes.append(fig.add_subplot(nrows, ncols, (6, 8), sharex=axes[0]))\n",
    "\n",
    "    for idx, ax in enumerate(axes):\n",
    "        ax.set_xlim(extents[:2])\n",
    "        if idx == 0:\n",
    "            ax.set_ylim(extents[2:])\n",
    "            ax.set_aspect(\"equal\")\n",
    "\n",
    "    # legend axis\n",
    "    axes.append(fig.add_subplot(nrows, ncols, (9, 10)))\n",
    "\n",
    "    # set limits for legend area\n",
    "    ax = axes[-1]\n",
    "    ax.set_xlim(0, 1)\n",
    "    ax.set_ylim(0, 1)\n",
    "\n",
    "    # get rid of ticks and spines for legend area\n",
    "    ax.axis(\"off\")\n",
    "    ax.set_xticks([])\n",
    "    ax.set_yticks([])\n",
    "    ax.spines[\"top\"].set_color(\"none\")\n",
    "    ax.spines[\"bottom\"].set_color(\"none\")\n",
    "    ax.spines[\"left\"].set_color(\"none\")\n",
    "    ax.spines[\"right\"].set_color(\"none\")\n",
    "    ax.patch.set_alpha(0.0)\n",
    "\n",
    "    ax = axes[0]\n",
    "    mm = flopy.plot.PlotMapView(gwf, ax=ax, extent=extents)\n",
    "    mm.plot_bc(\"CHD\", color=\"cyan\")\n",
    "    mm.plot_inactive(color_noflow=\"#5DBB63\")\n",
    "    mm.plot_grid(lw=0.5, color=\"black\")\n",
    "    cv = mm.contour_array(\n",
    "        head,\n",
    "        levels=np.arange(140, 160, 2),\n",
    "        linewidths=0.75,\n",
    "        linestyles=\"-\",\n",
    "        colors=\"blue\",\n",
    "        masked_values=masked_values,\n",
    "    )\n",
    "    plt.clabel(cv, fmt=\"%1.0f\")\n",
    "    mm.plot_specific_discharge(spdis, normalize=True, color=\"0.75\")\n",
    "    ax.plot(p1[0], p1[1], marker=\"o\", mfc=\"red\", mec=\"black\", ms=4)\n",
    "    ax.plot(p2[0], p2[1], marker=\"o\", mfc=\"red\", mec=\"black\", ms=4)\n",
    "    ax.set_xlabel(\"x-coordinate, in feet\")\n",
    "    ax.set_ylabel(\"y-coordinate, in feet\")\n",
    "    fs.heading(ax, heading=\"Map view\", idx=0)\n",
    "    fs.add_text(\n",
    "        ax,\n",
    "        \"A\",\n",
    "        x=p1[0] + 150,\n",
    "        y=p1[1] + 150,\n",
    "        transform=False,\n",
    "        bold=False,\n",
    "        color=\"red\",\n",
    "        ha=\"left\",\n",
    "        va=\"bottom\",\n",
    "    )\n",
    "    fs.add_text(\n",
    "        ax,\n",
    "        \"B\",\n",
    "        x=p2[0] + 150,\n",
    "        y=p2[1] + 150,\n",
    "        transform=False,\n",
    "        bold=False,\n",
    "        color=\"red\",\n",
    "        ha=\"left\",\n",
    "        va=\"bottom\",\n",
    "    )\n",
    "    fs.remove_edge_ticks(ax)\n",
    "\n",
    "    ax = axes[1]\n",
    "    xs = flopy.plot.PlotCrossSection(gwf, ax=ax, line={\"row\": 8})\n",
    "    xs.plot_array(np.ones(shape3d), head=head, cmap=\"jet\")\n",
    "    xs.plot_bc(\"CHD\", color=\"cyan\", head=head)\n",
    "    xs.plot_ibound(color_noflow=\"#5DBB63\", head=head)\n",
    "    xs.plot_grid(lw=0.5, color=\"black\")\n",
    "    ax.set_xlabel(\"x-coordinate, in feet\")\n",
    "    ax.set_ylim(67, 160)\n",
    "    ax.set_ylabel(\"Elevation, in feet\")\n",
    "    fs.heading(ax, heading=\"Cross-section view\", idx=1)\n",
    "    fs.remove_edge_ticks(ax)\n",
    "\n",
    "    # legend\n",
    "    ax = axes[-1]\n",
    "    ax.plot(\n",
    "        -10000,\n",
    "        -10000,\n",
    "        lw=0,\n",
    "        marker=\"s\",\n",
    "        ms=10,\n",
    "        mfc=\"#5DBB63\",\n",
    "        mec=\"black\",\n",
    "        markeredgewidth=0.5,\n",
    "        label=\"Lake boundary\",\n",
    "    )\n",
    "    ax.plot(\n",
    "        -10000,\n",
    "        -10000,\n",
    "        lw=0,\n",
    "        marker=\"s\",\n",
    "        ms=10,\n",
    "        mfc=\"cyan\",\n",
    "        mec=\"black\",\n",
    "        markeredgewidth=0.5,\n",
    "        label=\"Constant-head boundary\",\n",
    "    )\n",
    "    ax.plot(\n",
    "        -10000,\n",
    "        -10000,\n",
    "        lw=0,\n",
    "        marker=\"s\",\n",
    "        ms=10,\n",
    "        mfc=\"blue\",\n",
    "        mec=\"black\",\n",
    "        markeredgewidth=0.5,\n",
    "        label=\"Water table\",\n",
    "    )\n",
    "    ax.plot(\n",
    "        -10000,\n",
    "        -10000,\n",
    "        lw=0,\n",
    "        marker=\"o\",\n",
    "        ms=4,\n",
    "        mfc=\"red\",\n",
    "        mec=\"black\",\n",
    "        markeredgewidth=0.5,\n",
    "        label=\"Observation well\",\n",
    "    )\n",
    "    ax.plot(\n",
    "        -10000,\n",
    "        -10000,\n",
    "        lw=0.75,\n",
    "        ls=\"-\",\n",
    "        color=\"blue\",\n",
    "        label=r\"Head contour, $ft$\",\n",
    "    )\n",
    "    ax.plot(\n",
    "        -10000,\n",
    "        -10000,\n",
    "        lw=0,\n",
    "        marker=u\"$\\u2192$\",\n",
    "        ms=10,\n",
    "        mfc=\"0.75\",\n",
    "        mec=\"0.75\",\n",
    "        label=\"Normalized specific discharge\",\n",
    "    )\n",
    "    fs.graph_legend(ax, loc=\"lower center\", ncol=2)\n",
    "\n",
    "    # save figure\n",
    "    if config.plotSave:\n",
    "        fpth = os.path.join(\n",
    "            \"..\",\n",
    "            \"figures\",\n",
    "            \"{}-grid{}\".format(sim_name, config.figure_ext),\n",
    "        )\n",
    "        fig.savefig(fpth)\n",
    "\n",
    "    return"
   ]
  },
  {
   "cell_type": "markdown",
   "metadata": {
    "lines_to_next_cell": 2
   },
   "source": [
    "Function to plot the lake results"
   ]
  },
  {
   "cell_type": "code",
   "execution_count": null,
   "metadata": {
    "lines_to_next_cell": 2
   },
   "outputs": [],
   "source": [
    "def plot_lak_results(gwf, silent=True):\n",
    "    fs = USGSFigure(figure_type=\"graph\", verbose=False)\n",
    "\n",
    "    # load the observations\n",
    "    fpth = os.path.join(ws, sim_name, \"{}.lak.obs.csv\".format(sim_name))\n",
    "    lak_results = np.genfromtxt(fpth, delimiter=\",\", names=True)\n",
    "    fpth = os.path.join(ws, sim_name, \"{}.gwf.obs.csv\".format(sim_name))\n",
    "    gwf_results = np.genfromtxt(fpth, delimiter=\",\", names=True)\n",
    "\n",
    "    dtype = [\n",
    "        (\"time\", np.float),\n",
    "        (\"STAGE\", np.float),\n",
    "        (\"A\", np.float),\n",
    "        (\"B\", np.float),\n",
    "    ]\n",
    "\n",
    "    results = np.zeros((lak_results.shape[0] + 1), dtype=dtype)\n",
    "    results[\"time\"][1:] = lak_results[\"time\"]\n",
    "    results[\"STAGE\"][0] = 110.0\n",
    "    results[\"STAGE\"][1:] = lak_results[\"STAGE\"]\n",
    "    results[\"A\"][0] = 115.0\n",
    "    results[\"A\"][1:] = gwf_results[\"A\"]\n",
    "    results[\"B\"][0] = 115.0\n",
    "    results[\"B\"][1:] = gwf_results[\"B\"]\n",
    "\n",
    "    # create the figure\n",
    "    fig, ax = plt.subplots(\n",
    "        ncols=1,\n",
    "        nrows=1,\n",
    "        sharex=True,\n",
    "        figsize=(6.3, 3.15),\n",
    "        constrained_layout=True,\n",
    "    )\n",
    "\n",
    "    ax.set_xlim(0, 3000)\n",
    "    ax.set_ylim(110, 160)\n",
    "    ax.plot(\n",
    "        results[\"time\"],\n",
    "        results[\"STAGE\"],\n",
    "        lw=0.75,\n",
    "        ls=\"--\",\n",
    "        color=\"black\",\n",
    "        label=\"Lake stage\",\n",
    "    )\n",
    "    ax.plot(\n",
    "        results[\"time\"],\n",
    "        results[\"A\"],\n",
    "        lw=0.75,\n",
    "        ls=\"-\",\n",
    "        color=\"0.5\",\n",
    "        label=\"Point A\",\n",
    "    )\n",
    "    ax.plot(\n",
    "        results[\"time\"],\n",
    "        results[\"B\"],\n",
    "        lw=0.75,\n",
    "        ls=\"-\",\n",
    "        color=\"black\",\n",
    "        label=\"Point B\",\n",
    "    )\n",
    "    ax.set_xlabel(\"Simulation time, in days\")\n",
    "    ax.set_ylabel(\"Head or stage, in feet\")\n",
    "    fs.graph_legend(ax, loc=\"lower right\")\n",
    "\n",
    "    # save figure\n",
    "    if config.plotSave:\n",
    "        fpth = os.path.join(\n",
    "            \"..\",\n",
    "            \"figures\",\n",
    "            \"{}-01{}\".format(sim_name, config.figure_ext),\n",
    "        )\n",
    "        fig.savefig(fpth)\n",
    "\n",
    "    return"
   ]
  },
  {
   "cell_type": "markdown",
   "metadata": {
    "lines_to_next_cell": 2
   },
   "source": [
    "Function to plot the LAK Package Problem 1 model results."
   ]
  },
  {
   "cell_type": "code",
   "execution_count": null,
   "metadata": {
    "lines_to_next_cell": 2
   },
   "outputs": [],
   "source": [
    "def plot_results(sim, silent=True):\n",
    "    if config.plotModel:\n",
    "        gwf = sim.get_model(sim_name)\n",
    "\n",
    "        plot_grid(gwf, silent=silent)\n",
    "\n",
    "        plot_lak_results(gwf, silent=silent)"
   ]
  },
  {
   "cell_type": "markdown",
   "metadata": {
    "lines_to_next_cell": 2
   },
   "source": [
    "Function that wraps all of the steps for the LAK Package Problem 1 model\n",
    "\n",
    "1. build_model,\n",
    "2. write_model,\n",
    "3. run_model, and\n",
    "4. plot_results.\n"
   ]
  },
  {
   "cell_type": "code",
   "execution_count": null,
   "metadata": {},
   "outputs": [],
   "source": [
    "def simulation(silent=True):\n",
    "    sim = build_model()\n",
    "\n",
    "    write_model(sim, silent=silent)\n",
    "\n",
    "    success = run_model(sim, silent=silent)\n",
    "    assert success, \"could not run...{}\".format(sim_name)\n",
    "\n",
    "    if success:\n",
    "        plot_results(sim, silent=silent)"
   ]
  },
  {
   "cell_type": "code",
   "execution_count": null,
   "metadata": {},
   "outputs": [],
   "source": []
  },
  {
   "cell_type": "markdown",
   "metadata": {},
   "source": [
    "### LAK Package Problem 1 Simulation\n"
   ]
  },
  {
   "cell_type": "code",
   "execution_count": null,
   "metadata": {},
   "outputs": [],
   "source": [
    "simulation()"
   ]
  }
 ],
 "metadata": {
  "jupytext": {
   "cell_metadata_filter": "-all",
   "main_language": "python",
   "notebook_metadata_filter": "-all"
  }
 },
 "nbformat": 4,
 "nbformat_minor": 4
}
