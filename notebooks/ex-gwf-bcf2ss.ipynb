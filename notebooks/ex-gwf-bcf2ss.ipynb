{
 "cells": [
  {
   "cell_type": "markdown",
   "metadata": {},
   "source": [
    "## Original BCF2SS MODFLOW example\n",
    "\n",
    "This problem is described in McDonald and Harbaugh (1988) and duplicated in\n",
    "Harbaugh and McDonald (1996). This problem is also is distributed with\n",
    "MODFLOW-2005 (Harbaugh, 2005) and MODFLOW 6 (Langevin and others, 2017).\n"
   ]
  },
  {
   "cell_type": "markdown",
   "metadata": {},
   "source": [
    "### BCF2SS Problem Setup\n",
    "\n",
    "Imports"
   ]
  },
  {
   "cell_type": "code",
   "execution_count": null,
   "metadata": {},
   "outputs": [],
   "source": [
    "import os\n",
    "import sys\n",
    "import numpy as np\n",
    "import matplotlib as mpl\n",
    "import matplotlib.pyplot as plt\n",
    "import flopy"
   ]
  },
  {
   "cell_type": "markdown",
   "metadata": {},
   "source": [
    "Append to system path to include the common subdirectory"
   ]
  },
  {
   "cell_type": "code",
   "execution_count": null,
   "metadata": {},
   "outputs": [],
   "source": [
    "sys.path.append(os.path.join(\"..\", \"common\"))"
   ]
  },
  {
   "cell_type": "markdown",
   "metadata": {},
   "source": [
    "import common functionality"
   ]
  },
  {
   "cell_type": "code",
   "execution_count": null,
   "metadata": {},
   "outputs": [],
   "source": [
    "import config\n",
    "from figspecs import USGSFigure"
   ]
  },
  {
   "cell_type": "markdown",
   "metadata": {},
   "source": [
    "Set figure properties specific to the"
   ]
  },
  {
   "cell_type": "code",
   "execution_count": null,
   "metadata": {},
   "outputs": [],
   "source": [
    "figure_size = (6, 6)"
   ]
  },
  {
   "cell_type": "markdown",
   "metadata": {},
   "source": [
    "Base simulation and model name and workspace"
   ]
  },
  {
   "cell_type": "code",
   "execution_count": null,
   "metadata": {},
   "outputs": [],
   "source": [
    "ws = config.base_ws"
   ]
  },
  {
   "cell_type": "markdown",
   "metadata": {},
   "source": [
    "Simulation name"
   ]
  },
  {
   "cell_type": "code",
   "execution_count": null,
   "metadata": {},
   "outputs": [],
   "source": [
    "sim_name = \"ex-gwf-bcf2ss\""
   ]
  },
  {
   "cell_type": "markdown",
   "metadata": {},
   "source": [
    "Model units"
   ]
  },
  {
   "cell_type": "code",
   "execution_count": null,
   "metadata": {},
   "outputs": [],
   "source": [
    "length_units = \"feet\"\n",
    "time_units = \"days\""
   ]
  },
  {
   "cell_type": "markdown",
   "metadata": {},
   "source": [
    "Table BCF2SS Model Parameters"
   ]
  },
  {
   "cell_type": "code",
   "execution_count": null,
   "metadata": {},
   "outputs": [],
   "source": [
    "nper = 2  # Number of periods\n",
    "nlay = 2  # Number of layers\n",
    "nrow = 10  # Number of rows\n",
    "ncol = 15  # Number of columns\n",
    "delr = 500.0  # Column width ($ft$)\n",
    "delc = 500.0  # Row width ($ft$)\n",
    "top = 150.0  # Top of the model ($ft$)\n",
    "botm_str = \"50.0, -50.\"  # Layer bottom elevations ($ft$)\n",
    "strt = 0.0  # Starting head ($ft$)\n",
    "wetfct = 1 # WETDRY factor\n",
    "iwetit = 1  # WETDRY iteration interval\n",
    "ihdwet = 0  # WETDRY equation (h = BOT + WETFCT (hm - BOT))\n",
    "icelltype_str = \"1, 0\"  # Cell conversion type\n",
    "k11_str = \"10.0, 5.0\"  # Horizontal hydraulic conductivity ($ft/d$)\n",
    "k33 = 0.1  # Vertical hydraulic conductivity ($ft/d$)\n",
    "recharge = 0.004  # Recharge rate ($ft/d$)"
   ]
  },
  {
   "cell_type": "markdown",
   "metadata": {},
   "source": [
    "Static temporal data used by TDIS file"
   ]
  },
  {
   "cell_type": "code",
   "execution_count": null,
   "metadata": {},
   "outputs": [],
   "source": [
    "tdis_ds = (\n",
    "    (1., 1., 1),\n",
    "    (1., 1., 1),\n",
    ")"
   ]
  },
  {
   "cell_type": "markdown",
   "metadata": {},
   "source": [
    "parse parameter strings into tuples"
   ]
  },
  {
   "cell_type": "code",
   "execution_count": null,
   "metadata": {
    "lines_to_next_cell": 2
   },
   "outputs": [],
   "source": [
    "botm = [float(value) for value in botm_str.split(\",\")]\n",
    "icelltype = [int(value) for value in icelltype_str.split(\",\")]\n",
    "k11 = [float(value) for value in k11_str.split(\",\")]"
   ]
  },
  {
   "cell_type": "markdown",
   "metadata": {},
   "source": [
    "Load the wetdry array for layer 1"
   ]
  },
  {
   "cell_type": "code",
   "execution_count": null,
   "metadata": {
    "lines_to_next_cell": 2
   },
   "outputs": [],
   "source": [
    "pth = os.path.join(\"..\", \"data\", sim_name, \"wetdry01.txt\")\n",
    "wetdry_layer0 = np.loadtxt(pth, )\n",
    "wetdry = [wetdry_layer0, 0]"
   ]
  },
  {
   "cell_type": "markdown",
   "metadata": {},
   "source": [
    "### Create BCF2SS Model Boundary Conditions"
   ]
  },
  {
   "cell_type": "markdown",
   "metadata": {},
   "source": [
    "Well boundary conditions"
   ]
  },
  {
   "cell_type": "code",
   "execution_count": null,
   "metadata": {},
   "outputs": [],
   "source": [
    "wel_spd = {\n",
    "    1: [\n",
    "        [1, 2, 3, -35000.0],\n",
    "        [1, 7, 3, -35000.0],\n",
    "    ]\n",
    "}"
   ]
  },
  {
   "cell_type": "markdown",
   "metadata": {},
   "source": [
    "River boundary conditions"
   ]
  },
  {
   "cell_type": "code",
   "execution_count": null,
   "metadata": {},
   "outputs": [],
   "source": [
    "riv_spd = {\n",
    "    0: [[1, i, 14, 0., 10000., -5] for i in range(nrow)]\n",
    "}"
   ]
  },
  {
   "cell_type": "markdown",
   "metadata": {},
   "source": [
    "Solver parameters"
   ]
  },
  {
   "cell_type": "code",
   "execution_count": null,
   "metadata": {},
   "outputs": [],
   "source": [
    "nouter = 500\n",
    "ninner = 100\n",
    "hclose = 1e-6\n",
    "rclose = 1e-3\n",
    "relax = 0.97"
   ]
  },
  {
   "cell_type": "markdown",
   "metadata": {
    "lines_to_next_cell": 2
   },
   "source": [
    "### Functions to build, write, run, and plot the MODFLOW 6 TWRI model\n",
    "\n",
    "MODFLOW 6 flopy simulation object (sim) is returned if building the model"
   ]
  },
  {
   "cell_type": "code",
   "execution_count": null,
   "metadata": {
    "lines_to_next_cell": 2
   },
   "outputs": [],
   "source": [
    "def build_model():\n",
    "    if config.buildModel:\n",
    "        sim_ws = os.path.join(ws, sim_name)\n",
    "        sim = flopy.mf6.MFSimulation(\n",
    "            sim_name=sim_name, sim_ws=sim_ws, exe_name=config.mf6_exe\n",
    "        )\n",
    "        flopy.mf6.ModflowTdis(\n",
    "            sim, nper=nper, perioddata=tdis_ds, time_units=time_units\n",
    "        )\n",
    "        flopy.mf6.ModflowIms(\n",
    "            sim,\n",
    "            outer_maximum=nouter,\n",
    "            outer_dvclose=hclose,\n",
    "            inner_maximum=ninner,\n",
    "            inner_dvclose=hclose,\n",
    "            rcloserecord=[rclose, \"strict\"],\n",
    "            relaxation_factor=relax,\n",
    "        )\n",
    "        gwf = flopy.mf6.ModflowGwf(sim, modelname=sim_name, save_flows=True)\n",
    "        flopy.mf6.ModflowGwfdis(\n",
    "            gwf,\n",
    "            length_units=length_units,\n",
    "            nlay=nlay,\n",
    "            nrow=nrow,\n",
    "            ncol=ncol,\n",
    "            delr=delr,\n",
    "            delc=delc,\n",
    "            top=top,\n",
    "            botm=botm,\n",
    "        )\n",
    "        flopy.mf6.ModflowGwfnpf(\n",
    "            gwf,\n",
    "            rewet_record=[\"wetfct\", wetfct, \"iwetit\", iwetit, \"ihdwet\", ihdwet],\n",
    "            wetdry=wetdry,\n",
    "            icelltype=icelltype,\n",
    "            k=k11,\n",
    "            k33=k33,\n",
    "            save_specific_discharge=True,\n",
    "        )\n",
    "        flopy.mf6.ModflowGwfic(gwf, strt=strt)\n",
    "        flopy.mf6.ModflowGwfriv(gwf, stress_period_data=riv_spd)\n",
    "        flopy.mf6.ModflowGwfwel(gwf, stress_period_data=wel_spd)\n",
    "        flopy.mf6.ModflowGwfrcha(gwf, recharge=recharge)\n",
    "        head_filerecord = \"{}.hds\".format(sim_name)\n",
    "        budget_filerecord = \"{}.cbc\".format(sim_name)\n",
    "        flopy.mf6.ModflowGwfoc(\n",
    "            gwf,\n",
    "            head_filerecord=head_filerecord,\n",
    "            budget_filerecord=budget_filerecord,\n",
    "            saverecord=[(\"HEAD\", \"ALL\"), (\"BUDGET\", \"ALL\")],\n",
    "        )\n",
    "        return sim\n",
    "    return None"
   ]
  },
  {
   "cell_type": "markdown",
   "metadata": {
    "lines_to_next_cell": 2
   },
   "source": [
    "Function to write MODFLOW 6 TWRI model files"
   ]
  },
  {
   "cell_type": "code",
   "execution_count": null,
   "metadata": {
    "lines_to_next_cell": 2
   },
   "outputs": [],
   "source": [
    "def write_model(sim, silent=True):\n",
    "    if config.writeModel:\n",
    "        sim.write_simulation(silent=silent)"
   ]
  },
  {
   "cell_type": "markdown",
   "metadata": {
    "lines_to_next_cell": 2
   },
   "source": [
    "Function to run the TWRI model.\n",
    "True is returned if the model runs successfully\n"
   ]
  },
  {
   "cell_type": "code",
   "execution_count": null,
   "metadata": {
    "lines_to_next_cell": 2
   },
   "outputs": [],
   "source": [
    "def run_model(sim, silent=True):\n",
    "    success = True\n",
    "    if config.runModel:\n",
    "        success, buff = sim.run_simulation(silent=silent)\n",
    "        if not success:\n",
    "            print(buff)\n",
    "\n",
    "    return success"
   ]
  },
  {
   "cell_type": "markdown",
   "metadata": {
    "lines_to_next_cell": 2
   },
   "source": [
    "Function to plot the BCF2SS model results.\n"
   ]
  },
  {
   "cell_type": "code",
   "execution_count": null,
   "metadata": {
    "lines_to_next_cell": 2
   },
   "outputs": [],
   "source": [
    "def plot_results(sim, silent=True):\n",
    "    if config.plotModel:\n",
    "\n",
    "        fs = USGSFigure(figure_type=\"map\", verbose=False)\n",
    "        sim_ws = os.path.join(ws, sim_name)\n",
    "        gwf = sim.get_model(sim_name)\n",
    "\n",
    "        # plot grid\n",
    "        fig = plt.figure(figsize=(6.8, 3), constrained_layout=True)\n",
    "        gs = mpl.gridspec.GridSpec(7, 10, figure=fig, wspace=5)\n",
    "        plt.axis(\"off\")\n",
    "\n",
    "        ax = fig.add_subplot(gs[:, 0:7])\n",
    "        ax.set_aspect('equal')\n",
    "        mm = flopy.plot.PlotMapView(model=gwf, ax=ax)\n",
    "        mm.plot_grid(lw=0.5, color=\"0.5\")\n",
    "        mm.plot_bc(ftype=\"WEL\", kper=1, plotAll=True)\n",
    "        mm.plot_bc(ftype=\"RIV\", color=\"green\", plotAll=True)\n",
    "        ax.set_ylabel(\"y-coordinate, in meters\")\n",
    "        ax.set_xlabel(\"x-coordinate, in meters\")\n",
    "        fs.heading(ax, letter=\"A\", heading=\"Map view\")\n",
    "        fs.remove_edge_ticks(ax)\n",
    "\n",
    "        ax = fig.add_subplot(gs[0:5, 7:])\n",
    "        mm = flopy.plot.PlotCrossSection(model=gwf, ax=ax, line={\"row\": 7})\n",
    "        mm.plot_grid(lw=0.5, color=\"0.5\")\n",
    "        mm.plot_bc(ftype=\"WEL\", kper=1)\n",
    "        mm.plot_bc(ftype=\"RIV\", color=\"green\")\n",
    "\n",
    "        # items for legend\n",
    "        mm.ax.plot(\n",
    "            -1000,\n",
    "            -1000,\n",
    "            \"s\",\n",
    "            ms=5,\n",
    "            color=\"green\",\n",
    "            mec=\"black\",\n",
    "            mew=0.5,\n",
    "            label=\"River\",\n",
    "        )\n",
    "        mm.ax.plot(\n",
    "            -1000,\n",
    "            -1000,\n",
    "            \"s\",\n",
    "            ms=5,\n",
    "            color=\"red\",\n",
    "            mec=\"black\",\n",
    "            mew=0.5,\n",
    "            label=\"Well\",\n",
    "        )\n",
    "        fs.graph_legend(\n",
    "            mm.ax,\n",
    "            ncol=2,\n",
    "            bbox_to_anchor=(0.5, -0.6),\n",
    "            borderaxespad=0,\n",
    "            frameon=False,\n",
    "            loc=\"lower center\",\n",
    "        )\n",
    "\n",
    "        ax.set_ylabel(\"Elevation, in meters\")\n",
    "        ax.set_xlabel(\"x-coordinate along model row 8, in meters\")\n",
    "        fs.heading(ax, letter=\"B\", heading=\"Cross-section view\")\n",
    "        fs.remove_edge_ticks(ax)\n",
    "\n",
    "        # save figure\n",
    "        if config.plotSave:\n",
    "            fpth = os.path.join(\n",
    "                \"..\", \"figures\", \"{}-grid{}\".format(sim_name, config.figure_ext)\n",
    "            )\n",
    "            fig.savefig(fpth)\n",
    "\n",
    "        # create MODFLOW 6 head object\n",
    "        file_name = gwf.oc.head_filerecord.get_data()[0][0]\n",
    "        fpth = os.path.join(sim_ws, file_name)\n",
    "        hobj = flopy.utils.HeadFile(fpth)\n",
    "\n",
    "        # create MODFLOW 6 cell-by-cell budget object\n",
    "        file_name = gwf.oc.budget_filerecord.get_data()[0][0]\n",
    "        fpth = os.path.join(sim_ws, file_name)\n",
    "        cobj = flopy.utils.CellBudgetFile(fpth, precision=\"double\")\n",
    "\n",
    "        # extract heads\n",
    "        head = hobj.get_data()\n",
    "        vmin, vmax = -25, 100\n",
    "\n",
    "        # save figure\n",
    "        if config.plotSave:\n",
    "            fpth = os.path.join(\n",
    "                \"..\", \"figures\", \"{}{}\".format(sim_name, config.figure_ext)\n",
    "            )\n",
    "            # fig.savefig(fpth)"
   ]
  },
  {
   "cell_type": "markdown",
   "metadata": {
    "lines_to_next_cell": 2
   },
   "source": [
    "Function that wraps all of the steps for the TWRI model\n",
    "\n",
    "1. build_model,\n",
    "2. write_model,\n",
    "3. run_model, and\n",
    "4. plot_results.\n"
   ]
  },
  {
   "cell_type": "code",
   "execution_count": null,
   "metadata": {},
   "outputs": [],
   "source": [
    "def simulation(silent=True):\n",
    "    sim = build_model()\n",
    "\n",
    "    write_model(sim, silent=silent)\n",
    "\n",
    "    success = run_model(sim, silent=silent)\n",
    "\n",
    "    if success:\n",
    "        plot_results(sim, silent=silent)"
   ]
  },
  {
   "cell_type": "code",
   "execution_count": null,
   "metadata": {},
   "outputs": [],
   "source": []
  },
  {
   "cell_type": "markdown",
   "metadata": {},
   "source": [
    "### BCF2SS Simulation\n",
    "\n",
    "Simulated heads in model the unconfined, middle, and lower aquifers (model layers\n",
    "1, 3, and 5) are shown in the figure below. MODFLOW-2005 results for a quasi-3D\n",
    "model are also shown. The location of drain (green) and well (gray) boundary\n",
    "conditions, normalized specific discharge, and head contours (25 ft contour\n",
    "intervals) are also shown."
   ]
  },
  {
   "cell_type": "code",
   "execution_count": null,
   "metadata": {},
   "outputs": [],
   "source": [
    "simulation()"
   ]
  }
 ],
 "metadata": {
  "jupytext": {
   "cell_metadata_filter": "-all",
   "main_language": "python",
   "notebook_metadata_filter": "-all"
  }
 },
 "nbformat": 4,
 "nbformat_minor": 4
}
