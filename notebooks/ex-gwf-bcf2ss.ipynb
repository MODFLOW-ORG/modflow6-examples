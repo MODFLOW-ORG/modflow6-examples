{
 "cells": [
  {
   "cell_type": "markdown",
   "metadata": {},
   "source": [
    "## Original BCF2SS MODFLOW example\n",
    "\n",
    "This problem is described in McDonald and Harbaugh (1988) and duplicated in\n",
    "Harbaugh and McDonald (1996). This problem is also is distributed with\n",
    "MODFLOW-2005 (Harbaugh, 2005) and MODFLOW 6 (Langevin and others, 2017).\n"
   ]
  },
  {
   "cell_type": "markdown",
   "metadata": {},
   "source": [
    "### BCF2SS Problem Setup\n",
    "\n",
    "Imports"
   ]
  },
  {
   "cell_type": "code",
   "execution_count": null,
   "metadata": {},
   "outputs": [],
   "source": [
    "import os\n",
    "import sys\n",
    "import numpy as np\n",
    "import matplotlib as mpl\n",
    "import matplotlib.pyplot as plt\n",
    "import flopy"
   ]
  },
  {
   "cell_type": "markdown",
   "metadata": {},
   "source": [
    "Append to system path to include the common subdirectory"
   ]
  },
  {
   "cell_type": "code",
   "execution_count": null,
   "metadata": {},
   "outputs": [],
   "source": [
    "sys.path.append(os.path.join(\"..\", \"common\"))"
   ]
  },
  {
   "cell_type": "markdown",
   "metadata": {},
   "source": [
    "import common functionality"
   ]
  },
  {
   "cell_type": "code",
   "execution_count": null,
   "metadata": {},
   "outputs": [],
   "source": [
    "import config\n",
    "from figspecs import USGSFigure"
   ]
  },
  {
   "cell_type": "markdown",
   "metadata": {},
   "source": [
    "Set figure properties specific to the"
   ]
  },
  {
   "cell_type": "code",
   "execution_count": null,
   "metadata": {},
   "outputs": [],
   "source": [
    "figure_size = (6, 6)"
   ]
  },
  {
   "cell_type": "markdown",
   "metadata": {},
   "source": [
    "Base simulation and model name and workspace"
   ]
  },
  {
   "cell_type": "code",
   "execution_count": null,
   "metadata": {},
   "outputs": [],
   "source": [
    "ws = config.base_ws"
   ]
  },
  {
   "cell_type": "markdown",
   "metadata": {},
   "source": [
    "Simulation name"
   ]
  },
  {
   "cell_type": "code",
   "execution_count": null,
   "metadata": {},
   "outputs": [],
   "source": [
    "sim_name = \"ex-gwf-bcf2ss\""
   ]
  },
  {
   "cell_type": "markdown",
   "metadata": {},
   "source": [
    "Model units"
   ]
  },
  {
   "cell_type": "code",
   "execution_count": null,
   "metadata": {},
   "outputs": [],
   "source": [
    "length_units = \"feet\"\n",
    "time_units = \"days\""
   ]
  },
  {
   "cell_type": "markdown",
   "metadata": {},
   "source": [
    "Load the wetdry array for layer 1"
   ]
  },
  {
   "cell_type": "code",
   "execution_count": null,
   "metadata": {
    "lines_to_next_cell": 2
   },
   "outputs": [],
   "source": [
    "pth = os.path.join(\"..\", \"data\", sim_name, \"wetdry01.txt\")\n",
    "wetdry_layer0 = np.loadtxt(\n",
    "    pth,\n",
    ")"
   ]
  },
  {
   "cell_type": "markdown",
   "metadata": {},
   "source": [
    "Scenario parameters"
   ]
  },
  {
   "cell_type": "code",
   "execution_count": null,
   "metadata": {},
   "outputs": [],
   "source": [
    "parameters = {\n",
    "    \"ex-gwf-bcf2ss-p01a\": {\n",
    "        \"rewet\": True,\n",
    "        \"wetfct\": 1.0,\n",
    "        \"iwetit\": 1,\n",
    "        \"ihdwet\": 0,\n",
    "        \"linear_acceleration\": \"cg\",\n",
    "        \"newton\": False,\n",
    "    },\n",
    "    \"ex-gwf-bcf2ss-p02a\": {\n",
    "        \"rewet\": False,\n",
    "        \"wetfct\": None,\n",
    "        \"iwetit\": None,\n",
    "        \"ihdwet\": None,\n",
    "        \"linear_acceleration\": \"bicgstab\",\n",
    "        \"newton\": True,\n",
    "    },\n",
    "}"
   ]
  },
  {
   "cell_type": "markdown",
   "metadata": {},
   "source": [
    "Table BCF2SS Model Parameters"
   ]
  },
  {
   "cell_type": "code",
   "execution_count": null,
   "metadata": {},
   "outputs": [],
   "source": [
    "nper = 2  # Number of periods\n",
    "nlay = 2  # Number of layers\n",
    "nrow = 10  # Number of rows\n",
    "ncol = 15  # Number of columns\n",
    "delr = 500.0  # Column width ($ft$)\n",
    "delc = 500.0  # Row width ($ft$)\n",
    "top = 150.0  # Top of the model ($ft$)\n",
    "botm_str = \"50.0, -50.\"  # Layer bottom elevations ($ft$)\n",
    "icelltype_str = \"1, 0\"  # Cell conversion type\n",
    "k11_str = \"10.0, 5.0\"  # Horizontal hydraulic conductivity ($ft/d$)\n",
    "k33 = 0.1  # Vertical hydraulic conductivity ($ft/d$)\n",
    "strt = 0.0  # Starting head ($ft$)\n",
    "recharge = 0.004  # Recharge rate ($ft/d$)"
   ]
  },
  {
   "cell_type": "markdown",
   "metadata": {},
   "source": [
    "Static temporal data used by TDIS file"
   ]
  },
  {
   "cell_type": "code",
   "execution_count": null,
   "metadata": {},
   "outputs": [],
   "source": [
    "tdis_ds = (\n",
    "    (1.0, 1.0, 1),\n",
    "    (1.0, 1.0, 1),\n",
    ")"
   ]
  },
  {
   "cell_type": "markdown",
   "metadata": {},
   "source": [
    "parse parameter strings into tuples"
   ]
  },
  {
   "cell_type": "code",
   "execution_count": null,
   "metadata": {
    "lines_to_next_cell": 2
   },
   "outputs": [],
   "source": [
    "botm = [float(value) for value in botm_str.split(\",\")]\n",
    "icelltype = [int(value) for value in icelltype_str.split(\",\")]\n",
    "k11 = [float(value) for value in k11_str.split(\",\")]"
   ]
  },
  {
   "cell_type": "markdown",
   "metadata": {},
   "source": [
    "### Create BCF2SS Model Boundary Conditions"
   ]
  },
  {
   "cell_type": "markdown",
   "metadata": {},
   "source": [
    "Well boundary conditions"
   ]
  },
  {
   "cell_type": "code",
   "execution_count": null,
   "metadata": {},
   "outputs": [],
   "source": [
    "wel_spd = {\n",
    "    1: [\n",
    "        [1, 2, 3, -35000.0],\n",
    "        [1, 7, 3, -35000.0],\n",
    "    ]\n",
    "}"
   ]
  },
  {
   "cell_type": "markdown",
   "metadata": {},
   "source": [
    "River boundary conditions"
   ]
  },
  {
   "cell_type": "code",
   "execution_count": null,
   "metadata": {},
   "outputs": [],
   "source": [
    "riv_spd = {0: [[1, i, 14, 0.0, 10000.0, -5] for i in range(nrow)]}"
   ]
  },
  {
   "cell_type": "markdown",
   "metadata": {},
   "source": [
    "Solver parameters"
   ]
  },
  {
   "cell_type": "code",
   "execution_count": null,
   "metadata": {},
   "outputs": [],
   "source": [
    "nouter = 500\n",
    "ninner = 100\n",
    "hclose = 1e-6\n",
    "rclose = 1e-3\n",
    "relax = 0.97"
   ]
  },
  {
   "cell_type": "markdown",
   "metadata": {
    "lines_to_next_cell": 2
   },
   "source": [
    "### Functions to build, write, run, and plot the MODFLOW 6 TWRI model\n",
    "\n",
    "MODFLOW 6 flopy simulation object (sim) is returned if building the model"
   ]
  },
  {
   "cell_type": "code",
   "execution_count": null,
   "metadata": {
    "lines_to_next_cell": 2
   },
   "outputs": [],
   "source": [
    "def build_model(\n",
    "    name, rewet, wetfct, iwetit, ihdwet, linear_acceleration, newton\n",
    "):\n",
    "    if config.buildModel:\n",
    "        sim_ws = os.path.join(ws, name)\n",
    "        sim = flopy.mf6.MFSimulation(\n",
    "            sim_name=sim_name, sim_ws=sim_ws, exe_name=config.mf6_exe\n",
    "        )\n",
    "        flopy.mf6.ModflowTdis(\n",
    "            sim, nper=nper, perioddata=tdis_ds, time_units=time_units\n",
    "        )\n",
    "        flopy.mf6.ModflowIms(\n",
    "            sim,\n",
    "            linear_acceleration=linear_acceleration,\n",
    "            outer_maximum=nouter,\n",
    "            outer_dvclose=hclose,\n",
    "            inner_maximum=ninner,\n",
    "            inner_dvclose=hclose,\n",
    "            rcloserecord=[rclose, \"strict\"],\n",
    "            relaxation_factor=relax,\n",
    "        )\n",
    "        gwf = flopy.mf6.ModflowGwf(\n",
    "            sim, modelname=sim_name, save_flows=True, newtonoptions=newton\n",
    "        )\n",
    "        flopy.mf6.ModflowGwfdis(\n",
    "            gwf,\n",
    "            length_units=length_units,\n",
    "            nlay=nlay,\n",
    "            nrow=nrow,\n",
    "            ncol=ncol,\n",
    "            delr=delr,\n",
    "            delc=delc,\n",
    "            top=top,\n",
    "            botm=botm,\n",
    "        )\n",
    "        if rewet:\n",
    "            rewet_record = [\n",
    "                \"wetfct\",\n",
    "                wetfct,\n",
    "                \"iwetit\",\n",
    "                iwetit,\n",
    "                \"ihdwet\",\n",
    "                ihdwet,\n",
    "            ]\n",
    "            wetdry = [wetdry_layer0, 0]\n",
    "        else:\n",
    "            rewet_record = None\n",
    "            wetdry = None\n",
    "\n",
    "        flopy.mf6.ModflowGwfnpf(\n",
    "            gwf,\n",
    "            rewet_record=rewet_record,\n",
    "            wetdry=wetdry,\n",
    "            icelltype=icelltype,\n",
    "            k=k11,\n",
    "            k33=k33,\n",
    "            save_specific_discharge=True,\n",
    "        )\n",
    "        flopy.mf6.ModflowGwfic(gwf, strt=strt)\n",
    "        flopy.mf6.ModflowGwfriv(gwf, stress_period_data=riv_spd)\n",
    "        flopy.mf6.ModflowGwfwel(gwf, stress_period_data=wel_spd)\n",
    "        flopy.mf6.ModflowGwfrcha(gwf, recharge=recharge)\n",
    "        head_filerecord = \"{}.hds\".format(sim_name)\n",
    "        budget_filerecord = \"{}.cbc\".format(sim_name)\n",
    "        flopy.mf6.ModflowGwfoc(\n",
    "            gwf,\n",
    "            head_filerecord=head_filerecord,\n",
    "            budget_filerecord=budget_filerecord,\n",
    "            saverecord=[(\"HEAD\", \"ALL\"), (\"BUDGET\", \"ALL\")],\n",
    "        )\n",
    "        return sim\n",
    "    return None"
   ]
  },
  {
   "cell_type": "markdown",
   "metadata": {
    "lines_to_next_cell": 2
   },
   "source": [
    "Function to write MODFLOW 6 TWRI model files"
   ]
  },
  {
   "cell_type": "code",
   "execution_count": null,
   "metadata": {
    "lines_to_next_cell": 2
   },
   "outputs": [],
   "source": [
    "def write_model(sim, silent=True):\n",
    "    if config.writeModel:\n",
    "        sim.write_simulation(silent=silent)"
   ]
  },
  {
   "cell_type": "markdown",
   "metadata": {
    "lines_to_next_cell": 2
   },
   "source": [
    "Function to run the TWRI model.\n",
    "True is returned if the model runs successfully\n"
   ]
  },
  {
   "cell_type": "code",
   "execution_count": null,
   "metadata": {
    "lines_to_next_cell": 2
   },
   "outputs": [],
   "source": [
    "def run_model(sim, silent=True):\n",
    "    success = True\n",
    "    if config.runModel:\n",
    "        success, buff = sim.run_simulation(silent=silent)\n",
    "        if not success:\n",
    "            print(buff)\n",
    "\n",
    "    return success"
   ]
  },
  {
   "cell_type": "markdown",
   "metadata": {
    "lines_to_next_cell": 2
   },
   "source": [
    "Function to plot the BCF2SS model results with heads in each layer.\n"
   ]
  },
  {
   "cell_type": "code",
   "execution_count": null,
   "metadata": {
    "lines_to_next_cell": 2
   },
   "outputs": [],
   "source": [
    "def plot_simulated_results(num, gwf, ho, co, silent=True):\n",
    "    verbose = not silent\n",
    "    fs = USGSFigure(figure_type=\"map\", verbose=verbose)\n",
    "\n",
    "    botm_arr = gwf.dis.botm.array\n",
    "\n",
    "    fig = plt.figure(figsize=(6.8, 6), constrained_layout=False)\n",
    "    gs = mpl.gridspec.GridSpec(ncols=10, nrows=7, figure=fig, wspace=5)\n",
    "    plt.axis(\"off\")\n",
    "\n",
    "    ax1 = fig.add_subplot(gs[:3, :5])\n",
    "    ax2 = fig.add_subplot(gs[:3, 5:], sharey=ax1)\n",
    "    ax3 = fig.add_subplot(gs[3:6, :5], sharex=ax1)\n",
    "    ax4 = fig.add_subplot(gs[3:6, 5:], sharex=ax1, sharey=ax1)\n",
    "    ax5 = fig.add_subplot(gs[6, :])\n",
    "    axes = [ax1, ax2, ax3, ax4, ax5]\n",
    "\n",
    "    labels = (\"A\", \"B\", \"C\", \"D\")\n",
    "    aquifer = (\"Upper aquifer\", \"Lower aquifer\")\n",
    "    cond = (\"natural conditions\", \"pumping conditions\")\n",
    "    vmin, vmax = -10, 140\n",
    "    masked_values = [1e30, -1e30]\n",
    "    levels = [\n",
    "        np.arange(0, 130, 10),\n",
    "        (10, 20, 30, 40, 50, 55, 60),\n",
    "    ]\n",
    "    plot_number = 0\n",
    "    for idx, totim in enumerate(\n",
    "        (\n",
    "            1,\n",
    "            2,\n",
    "        )\n",
    "    ):\n",
    "        head = ho.get_data(totim=totim)\n",
    "        head[head < botm_arr] = -1e30\n",
    "        spdis = co.get_data(text=\"DATA-SPDIS\", kstpkper=(0, totim - 1))\n",
    "\n",
    "        for k in range(nlay):\n",
    "            ax = axes[plot_number]\n",
    "            ax.set_aspect(\"equal\")\n",
    "            mm = flopy.plot.PlotMapView(model=gwf, ax=ax, layer=k)\n",
    "            mm.plot_grid(lw=0.5, color=\"0.5\")\n",
    "            cm = mm.plot_array(\n",
    "                head, masked_values=masked_values, vmin=vmin, vmax=vmax\n",
    "            )\n",
    "            mm.plot_bc(ftype=\"WEL\", kper=totim - 1)\n",
    "            mm.plot_bc(ftype=\"RIV\", color=\"green\", kper=0)\n",
    "            mm.plot_specific_discharge(spdis, normalize=True, color=\"0.75\")\n",
    "            cn = mm.contour_array(\n",
    "                head,\n",
    "                masked_values=masked_values,\n",
    "                levels=levels[idx],\n",
    "                colors=\"black\",\n",
    "                linewidths=0.5,\n",
    "            )\n",
    "            plt.clabel(cn, fmt=\"%3.0f\")\n",
    "            heading = \"{} under {}\".format(aquifer[k], cond[totim - 1])\n",
    "            fs.heading(ax, letter=labels[plot_number], heading=heading)\n",
    "            fs.remove_edge_ticks(ax)\n",
    "\n",
    "            plot_number += 1\n",
    "\n",
    "    # set axis labels\n",
    "    ax1.set_ylabel(\"y-coordinate, in feet\")\n",
    "    ax3.set_ylabel(\"y-coordinate, in feet\")\n",
    "    ax3.set_xlabel(\"x-coordinate, in feet\")\n",
    "    ax4.set_xlabel(\"x-coordinate, in feet\")\n",
    "\n",
    "    # legend\n",
    "    ax = axes[-1]\n",
    "    ax.set_ylim(1, 0)\n",
    "    ax.set_xlim(-5, 5)\n",
    "    ax.set_xticks([])\n",
    "    ax.set_yticks([])\n",
    "    ax.spines[\"top\"].set_color(\"none\")\n",
    "    ax.spines[\"bottom\"].set_color(\"none\")\n",
    "    ax.spines[\"left\"].set_color(\"none\")\n",
    "    ax.spines[\"right\"].set_color(\"none\")\n",
    "    ax.patch.set_alpha(0.0)\n",
    "\n",
    "    # items for legend\n",
    "    ax.plot(\n",
    "        -1000,\n",
    "        -1000,\n",
    "        \"s\",\n",
    "        ms=5,\n",
    "        color=\"green\",\n",
    "        mec=\"black\",\n",
    "        mew=0.5,\n",
    "        label=\"River\",\n",
    "    )\n",
    "    ax.plot(\n",
    "        -1000,\n",
    "        -1000,\n",
    "        \"s\",\n",
    "        ms=5,\n",
    "        color=\"red\",\n",
    "        mec=\"black\",\n",
    "        mew=0.5,\n",
    "        label=\"Well\",\n",
    "    )\n",
    "    ax.plot(\n",
    "        -1000,\n",
    "        -1000,\n",
    "        \"s\",\n",
    "        ms=5,\n",
    "        color=\"none\",\n",
    "        mec=\"black\",\n",
    "        mew=0.5,\n",
    "        label=\"Dry cell\",\n",
    "    )\n",
    "    ax.plot(\n",
    "        -10000,\n",
    "        -10000,\n",
    "        lw=0,\n",
    "        marker=u\"$\\u2192$\",\n",
    "        ms=10,\n",
    "        mfc=\"0.75\",\n",
    "        mec=\"0.75\",\n",
    "        label=\"Normalized specific discharge\",\n",
    "    )\n",
    "    ax.plot(\n",
    "        -1000,\n",
    "        -1000,\n",
    "        lw=0.5,\n",
    "        color=\"black\",\n",
    "        label=\"Head, in feet\",\n",
    "    )\n",
    "    fs.graph_legend(\n",
    "        ax,\n",
    "        ncol=5,\n",
    "        frameon=False,\n",
    "        loc=\"upper center\",\n",
    "    )\n",
    "\n",
    "    cbar = plt.colorbar(cm, ax=ax, shrink=0.5, orientation=\"horizontal\")\n",
    "    cbar.ax.set_xlabel(\"Head, in feet\")\n",
    "\n",
    "    # save figure\n",
    "    if config.plotSave:\n",
    "        fpth = os.path.join(\n",
    "            \"..\",\n",
    "            \"figures\",\n",
    "            \"{}-{:02d}{}\".format(sim_name, num, config.figure_ext),\n",
    "        )\n",
    "        fig.savefig(fpth)"
   ]
  },
  {
   "cell_type": "markdown",
   "metadata": {
    "lines_to_next_cell": 2
   },
   "source": [
    "Function to plot simulated results for a simulation"
   ]
  },
  {
   "cell_type": "code",
   "execution_count": null,
   "metadata": {
    "lines_to_next_cell": 2
   },
   "outputs": [],
   "source": [
    "def plot_results(silent=True):\n",
    "    if config.plotModel:\n",
    "        verbose = not silent\n",
    "        if silent:\n",
    "            verbosity_level = 0\n",
    "        else:\n",
    "            verbosity_level = 1\n",
    "\n",
    "        fs = USGSFigure(figure_type=\"map\", verbose=verbose)\n",
    "        name = list(parameters.keys())[0]\n",
    "        sim_ws = os.path.join(ws, name)\n",
    "        sim = flopy.mf6.MFSimulation.load(\n",
    "            sim_name=sim_name, sim_ws=sim_ws, verbosity_level=verbosity_level\n",
    "        )\n",
    "        gwf = sim.get_model(sim_name)\n",
    "\n",
    "        # create MODFLOW 6 head object\n",
    "        file_name = gwf.oc.head_filerecord.get_data()[0][0]\n",
    "        fpth = os.path.join(sim_ws, file_name)\n",
    "        hobj = flopy.utils.HeadFile(fpth)\n",
    "\n",
    "        # create MODFLOW 6 cell-by-cell budget object\n",
    "        file_name = gwf.oc.budget_filerecord.get_data()[0][0]\n",
    "        fpth = os.path.join(sim_ws, file_name)\n",
    "        cobj = flopy.utils.CellBudgetFile(fpth, precision=\"double\")\n",
    "\n",
    "        # extract heads\n",
    "        head = hobj.get_data(totim=1)\n",
    "\n",
    "        # plot grid\n",
    "        fig = plt.figure(figsize=(6.8, 3.5), constrained_layout=True)\n",
    "        gs = mpl.gridspec.GridSpec(nrows=8, ncols=10, figure=fig, wspace=5)\n",
    "        plt.axis(\"off\")\n",
    "\n",
    "        ax = fig.add_subplot(gs[:7, 0:7])\n",
    "        ax.set_aspect(\"equal\")\n",
    "        mm = flopy.plot.PlotMapView(model=gwf, ax=ax)\n",
    "        mm.plot_bc(ftype=\"WEL\", kper=1, plotAll=True)\n",
    "        mm.plot_bc(ftype=\"RIV\", color=\"green\", plotAll=True)\n",
    "        mm.plot_grid(lw=0.5, color=\"0.5\")\n",
    "        ax.set_ylabel(\"y-coordinate, in feet\")\n",
    "        ax.set_xlabel(\"x-coordinate, in feet\")\n",
    "        fs.heading(ax, letter=\"A\", heading=\"Map view\")\n",
    "        fs.remove_edge_ticks(ax)\n",
    "\n",
    "        ax = fig.add_subplot(gs[:5, 7:])\n",
    "        mm = flopy.plot.PlotCrossSection(model=gwf, ax=ax, line={\"row\": 7})\n",
    "        mm.plot_array(np.ones((nlay, nrow, ncol)), head=head, cmap=\"jet\")\n",
    "        mm.plot_bc(ftype=\"WEL\", kper=1)\n",
    "        mm.plot_bc(ftype=\"RIV\", color=\"green\", head=head)\n",
    "        mm.plot_grid(lw=0.5, color=\"0.5\")\n",
    "        ax.set_ylabel(\"Elevation, in feet\")\n",
    "        ax.set_xlabel(\"x-coordinate along model row 8, in feet\")\n",
    "        fs.heading(ax, letter=\"B\", heading=\"Cross-section view\")\n",
    "        fs.remove_edge_ticks(ax)\n",
    "\n",
    "        # items for legend\n",
    "        ax = fig.add_subplot(gs[7, :])\n",
    "        ax.set_xlim(0, 1)\n",
    "        ax.set_ylim(0, 1)\n",
    "        ax.set_xticks([])\n",
    "        ax.set_yticks([])\n",
    "        ax.spines[\"top\"].set_color(\"none\")\n",
    "        ax.spines[\"bottom\"].set_color(\"none\")\n",
    "        ax.spines[\"left\"].set_color(\"none\")\n",
    "        ax.spines[\"right\"].set_color(\"none\")\n",
    "        ax.patch.set_alpha(0.0)\n",
    "        ax.plot(\n",
    "            -1000,\n",
    "            -1000,\n",
    "            \"s\",\n",
    "            ms=5,\n",
    "            color=\"green\",\n",
    "            mec=\"black\",\n",
    "            mew=0.5,\n",
    "            label=\"River\",\n",
    "        )\n",
    "        ax.plot(\n",
    "            -1000,\n",
    "            -1000,\n",
    "            \"s\",\n",
    "            ms=5,\n",
    "            color=\"red\",\n",
    "            mec=\"black\",\n",
    "            mew=0.5,\n",
    "            label=\"Well\",\n",
    "        )\n",
    "        ax.plot(\n",
    "            -1000,\n",
    "            -1000,\n",
    "            \"s\",\n",
    "            ms=5,\n",
    "            color=\"blue\",\n",
    "            mec=\"black\",\n",
    "            mew=0.5,\n",
    "            label=\"Steady-state water table\",\n",
    "        )\n",
    "        fs.graph_legend(\n",
    "            ax,\n",
    "            ncol=3,\n",
    "            frameon=False,\n",
    "            loc=\"upper center\",\n",
    "        )\n",
    "\n",
    "        # save figure\n",
    "        if config.plotSave:\n",
    "            fpth = os.path.join(\n",
    "                \"..\",\n",
    "                \"figures\",\n",
    "                \"{}-grid{}\".format(sim_name, config.figure_ext),\n",
    "            )\n",
    "            fig.savefig(fpth)\n",
    "\n",
    "        # figure with wetdry array\n",
    "        fig = plt.figure(figsize=(4.76, 3), constrained_layout=True)\n",
    "        ax = fig.add_subplot(1, 1, 1)\n",
    "        ax.set_aspect(\"equal\")\n",
    "        mm = flopy.plot.PlotMapView(model=gwf, ax=ax)\n",
    "        wd = mm.plot_array(wetdry_layer0)\n",
    "        mm.plot_grid(lw=0.5, color=\"0.5\")\n",
    "        cbar = plt.colorbar(wd, shrink=0.5)\n",
    "        cbar.ax.set_ylabel(\"WETDRY parameter\")\n",
    "        ax.set_ylabel(\"y-coordinate, in feet\")\n",
    "        ax.set_xlabel(\"x-coordinate, in feet\")\n",
    "        fs.remove_edge_ticks(ax)\n",
    "\n",
    "        # save figure\n",
    "        if config.plotSave:\n",
    "            fpth = os.path.join(\n",
    "                \"..\", \"figures\", \"{}-01{}\".format(sim_name, config.figure_ext)\n",
    "            )\n",
    "            fig.savefig(fpth)\n",
    "\n",
    "    # plot simulated rewetting results\n",
    "    plot_simulated_results(2, gwf, hobj, cobj)\n",
    "\n",
    "    # plot simulated newton results\n",
    "    name = list(parameters.keys())[1]\n",
    "    sim_ws = os.path.join(ws, name)\n",
    "    sim = flopy.mf6.MFSimulation.load(\n",
    "        sim_name=sim_name, sim_ws=sim_ws, verbosity_level=verbosity_level\n",
    "    )\n",
    "    gwf = sim.get_model(sim_name)\n",
    "\n",
    "    # create MODFLOW 6 head object\n",
    "    file_name = gwf.oc.head_filerecord.get_data()[0][0]\n",
    "    fpth = os.path.join(sim_ws, file_name)\n",
    "    hobj = flopy.utils.HeadFile(fpth)\n",
    "\n",
    "    # create MODFLOW 6 cell-by-cell budget object\n",
    "    file_name = gwf.oc.budget_filerecord.get_data()[0][0]\n",
    "    fpth = os.path.join(sim_ws, file_name)\n",
    "    cobj = flopy.utils.CellBudgetFile(fpth, precision=\"double\")\n",
    "\n",
    "    # plot the newton results\n",
    "    plot_simulated_results(3, gwf, hobj, cobj)"
   ]
  },
  {
   "cell_type": "markdown",
   "metadata": {
    "lines_to_next_cell": 2
   },
   "source": [
    "Function that wraps all of the steps for the TWRI model\n",
    "\n",
    "1. build_model,\n",
    "2. write_model, and\n",
    "3. run_model\n",
    "4. plot_results.\n"
   ]
  },
  {
   "cell_type": "code",
   "execution_count": null,
   "metadata": {},
   "outputs": [],
   "source": [
    "def simulation(idx, silent=True):\n",
    "    key = list(parameters.keys())[idx]\n",
    "    params = parameters[key].copy()\n",
    "\n",
    "    sim = build_model(key, **params)\n",
    "\n",
    "    write_model(sim, silent=silent)\n",
    "\n",
    "    success = run_model(sim, silent=silent)\n",
    "\n",
    "    assert success, \"could not run...{}\".format(key)"
   ]
  },
  {
   "cell_type": "code",
   "execution_count": null,
   "metadata": {},
   "outputs": [],
   "source": []
  },
  {
   "cell_type": "markdown",
   "metadata": {},
   "source": [
    "### BCF2SS Simulation\n",
    "\n",
    " Node Property Flow Package with rewetting option"
   ]
  },
  {
   "cell_type": "code",
   "execution_count": null,
   "metadata": {},
   "outputs": [],
   "source": [
    "simulation(0)"
   ]
  },
  {
   "cell_type": "markdown",
   "metadata": {},
   "source": [
    "Newton-Raphson formulation"
   ]
  },
  {
   "cell_type": "code",
   "execution_count": null,
   "metadata": {},
   "outputs": [],
   "source": [
    "simulation(1)"
   ]
  },
  {
   "cell_type": "markdown",
   "metadata": {},
   "source": [
    "Simulated water levels and normalized specific discharge vectors in the\n",
    "upper and lower aquifers under natural and pumping conditions using (1) the\n",
    "rewetting option in the Node Property Flow (NPF) Package with the\n",
    "Standard Conductance Formulation and (2) the Newton-Raphson formulation.\n",
    "A. Upper aquifer results under natural conditions. B. Lower aquifer results\n",
    "under natural conditions C. Upper aquifer results under pumping conditions.\n",
    "D. Lower aquifer results under pumping conditions"
   ]
  },
  {
   "cell_type": "code",
   "execution_count": null,
   "metadata": {},
   "outputs": [],
   "source": [
    "plot_results()"
   ]
  }
 ],
 "metadata": {
  "jupytext": {
   "cell_metadata_filter": "-all",
   "main_language": "python",
   "notebook_metadata_filter": "-all"
  }
 },
 "nbformat": 4,
 "nbformat_minor": 4
}
