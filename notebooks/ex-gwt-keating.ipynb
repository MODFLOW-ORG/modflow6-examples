{
 "cells": [
  {
   "cell_type": "markdown",
   "id": "13bcfd63",
   "metadata": {},
   "source": [
    "## Keating Problem\n",
    "\n",
    "This problem uses a two-dimensional cross-section model to simulate a perched\n",
    "aquifer overlying a water table aquifer.  The presence of a discontinuous\n",
    "low permeability lens causes the perched aquifer to form in response to\n",
    "recharge.  The problem also represents solute transport through the system.\n",
    "\n"
   ]
  },
  {
   "cell_type": "markdown",
   "id": "286f77c9",
   "metadata": {},
   "source": [
    "### Keating Problem\n",
    "\n",
    "Imports"
   ]
  },
  {
   "cell_type": "code",
   "execution_count": null,
   "id": "23c25542",
   "metadata": {},
   "outputs": [],
   "source": [
    "import os\n",
    "import sys"
   ]
  },
  {
   "cell_type": "code",
   "execution_count": null,
   "id": "21482eba",
   "metadata": {},
   "outputs": [],
   "source": [
    "import flopy\n",
    "import matplotlib.patches\n",
    "import matplotlib.pyplot as plt\n",
    "import numpy as np"
   ]
  },
  {
   "cell_type": "markdown",
   "id": "e77fb8fe",
   "metadata": {},
   "source": [
    "Append to system path to include the common subdirectory"
   ]
  },
  {
   "cell_type": "code",
   "execution_count": null,
   "id": "83b6d997",
   "metadata": {},
   "outputs": [],
   "source": [
    "sys.path.append(os.path.join(\"..\", \"common\"))"
   ]
  },
  {
   "cell_type": "markdown",
   "id": "6c1bce60",
   "metadata": {},
   "source": [
    "Import common functionality"
   ]
  },
  {
   "cell_type": "code",
   "execution_count": null,
   "id": "6802b8d0",
   "metadata": {},
   "outputs": [],
   "source": [
    "import config\n",
    "from figspecs import USGSFigure"
   ]
  },
  {
   "cell_type": "markdown",
   "id": "1a231f30",
   "metadata": {},
   "source": [
    "Set figure properties specific to the"
   ]
  },
  {
   "cell_type": "code",
   "execution_count": null,
   "id": "35c2193f",
   "metadata": {},
   "outputs": [],
   "source": [
    "figure_size = (7.5, 3)"
   ]
  },
  {
   "cell_type": "markdown",
   "id": "912fdd57",
   "metadata": {},
   "source": [
    "Base simulation and model name and workspace"
   ]
  },
  {
   "cell_type": "code",
   "execution_count": null,
   "id": "55fc35f9",
   "metadata": {},
   "outputs": [],
   "source": [
    "ws = config.base_ws\n",
    "example_name = \"ex-gwt-keating\""
   ]
  },
  {
   "cell_type": "markdown",
   "id": "8b3ae801",
   "metadata": {},
   "source": [
    "Model units"
   ]
  },
  {
   "cell_type": "code",
   "execution_count": null,
   "id": "4ec41902",
   "metadata": {},
   "outputs": [],
   "source": [
    "length_units = \"meters\"\n",
    "time_units = \"days\""
   ]
  },
  {
   "cell_type": "markdown",
   "id": "6eae56de",
   "metadata": {},
   "source": [
    "Table of model parameters"
   ]
  },
  {
   "cell_type": "code",
   "execution_count": null,
   "id": "2b4eccaf",
   "metadata": {},
   "outputs": [],
   "source": [
    "nlay = 80  # Number of layers\n",
    "nrow = 1  # Number of rows\n",
    "ncol = 400  # Number of columns\n",
    "delr = 25.0  # Column width ($m$)\n",
    "delc = 1.0  # Row width ($m$)\n",
    "delz = 25.0  # Layer thickness ($m$)\n",
    "top = 2000.0  # Top of model domain ($m$)\n",
    "bottom = 0.0  # Bottom of model domain ($m$)\n",
    "hka = 1.0e-12  # Permeability of aquifer ($m^2$)\n",
    "hkc = 1.0e-18  # Permeability of aquitard ($m^2$)\n",
    "h1 = 800.0  # Head on left side ($m$)\n",
    "h2 = 100.0  # Head on right side ($m$)\n",
    "recharge = 0.5  # Recharge ($kg/s$)\n",
    "recharge_conc = 1.0  # Normalized recharge concentration (unitless)\n",
    "alpha_l = 1.0  # Longitudinal dispersivity ($m$)\n",
    "alpha_th = 1.0  # Transverse horizontal dispersivity ($m$)\n",
    "alpha_tv = 1.0  # Transverse vertical dispersivity ($m$)\n",
    "period1 = 730  # Length of first simulation period ($d$)\n",
    "period2 = 29270.0  # Length of second simulation period ($d$)\n",
    "porosity = 0.1  # Porosity of mobile domain (unitless)\n",
    "obs1 = (49, 1, 119)  # Layer, row, and column for observation 1\n",
    "obs2 = (77, 1, 359)  # Layer, row, and column for observation 2"
   ]
  },
  {
   "cell_type": "code",
   "execution_count": null,
   "id": "3cfc1ac9",
   "metadata": {},
   "outputs": [],
   "source": [
    "obs1 = tuple([i - 1 for i in obs1])\n",
    "obs2 = tuple([i - 1 for i in obs2])\n",
    "seconds_to_days = 24.0 * 60.0 * 60.0\n",
    "permeability_to_conductivity = 1000.0 * 9.81 / 1.0e-3 * seconds_to_days\n",
    "hka = hka * permeability_to_conductivity\n",
    "hkc = hkc * permeability_to_conductivity\n",
    "botm = [top - (k + 1) * delz for k in range(nlay)]\n",
    "x = np.arange(0, 10000.0, delr) + delr / 2.0\n",
    "plotaspect = 1.0"
   ]
  },
  {
   "cell_type": "code",
   "execution_count": null,
   "id": "010cee54",
   "metadata": {},
   "outputs": [],
   "source": [
    "# Fill hydraulic conductivity array\n",
    "hydraulic_conductivity = np.ones((nlay, nrow, ncol), dtype=float) * hka\n",
    "for k in range(nlay):\n",
    "    if 1000.0 <= botm[k] < 1100.0:\n",
    "        for j in range(ncol):\n",
    "            if 3000.0 <= x[j] <= 6000.0:\n",
    "                hydraulic_conductivity[k, 0, j] = hkc"
   ]
  },
  {
   "cell_type": "code",
   "execution_count": null,
   "id": "1f84dbf9",
   "metadata": {},
   "outputs": [],
   "source": [
    "# Calculate recharge by converting from kg/s to m/d\n",
    "rcol = []\n",
    "for jcol in range(ncol):\n",
    "    if 4200.0 <= x[jcol] <= 4800.0:\n",
    "        rcol.append(jcol)\n",
    "number_recharge_cells = len(rcol)\n",
    "rrate = recharge * seconds_to_days / 1000.0\n",
    "cell_area = delr * delc\n",
    "rrate = rrate / (float(number_recharge_cells) * cell_area)\n",
    "rchspd = {}\n",
    "rchspd[0] = [[(0, 0, j), rrate, recharge_conc] for j in rcol]\n",
    "rchspd[1] = [[(0, 0, j), rrate, 0.0] for j in rcol]"
   ]
  },
  {
   "cell_type": "markdown",
   "id": "66512057",
   "metadata": {
    "lines_to_next_cell": 2
   },
   "source": [
    "### Functions to build, write, run, and plot models\n",
    "\n",
    "MODFLOW 6 flopy simulation object (sim) is returned if building the model\n",
    "recharge is the only variable\n"
   ]
  },
  {
   "cell_type": "code",
   "execution_count": null,
   "id": "97a6ffd9",
   "metadata": {},
   "outputs": [],
   "source": [
    "def build_mf6gwf(sim_folder):\n",
    "    print(f\"Building mf6gwf model...{sim_folder}\")\n",
    "    name = \"flow\"\n",
    "    sim_ws = os.path.join(ws, sim_folder, \"mf6gwf\")\n",
    "    sim = flopy.mf6.MFSimulation(sim_name=name, sim_ws=sim_ws, exe_name=\"mf6\")\n",
    "    tdis_ds = ((period1, 1, 1.0), (period2, 1, 1.0))\n",
    "    flopy.mf6.ModflowTdis(\n",
    "        sim, nper=len(tdis_ds), perioddata=tdis_ds, time_units=time_units\n",
    "    )\n",
    "    flopy.mf6.ModflowIms(\n",
    "        sim,\n",
    "        print_option=\"summary\",\n",
    "        complexity=\"complex\",\n",
    "        no_ptcrecord=\"all\",\n",
    "        outer_dvclose=1.0e-4,\n",
    "        outer_maximum=2000,\n",
    "        under_relaxation=\"dbd\",\n",
    "        linear_acceleration=\"BICGSTAB\",\n",
    "        under_relaxation_theta=0.7,\n",
    "        under_relaxation_kappa=0.08,\n",
    "        under_relaxation_gamma=0.05,\n",
    "        under_relaxation_momentum=0.0,\n",
    "        backtracking_number=20,\n",
    "        backtracking_tolerance=2.0,\n",
    "        backtracking_reduction_factor=0.2,\n",
    "        backtracking_residual_limit=5.0e-4,\n",
    "        inner_dvclose=1.0e-5,\n",
    "        rcloserecord=\"0.0001 relative_rclose\",\n",
    "        inner_maximum=100,\n",
    "        relaxation_factor=0.0,\n",
    "        number_orthogonalizations=2,\n",
    "        preconditioner_levels=8,\n",
    "        preconditioner_drop_tolerance=0.001,\n",
    "    )\n",
    "    gwf = flopy.mf6.ModflowGwf(\n",
    "        sim, modelname=name, save_flows=True, newtonoptions=[\"newton\"]\n",
    "    )\n",
    "    flopy.mf6.ModflowGwfdis(\n",
    "        gwf,\n",
    "        length_units=length_units,\n",
    "        nlay=nlay,\n",
    "        nrow=nrow,\n",
    "        ncol=ncol,\n",
    "        delr=delr,\n",
    "        delc=delc,\n",
    "        top=top,\n",
    "        botm=botm,\n",
    "    )\n",
    "    flopy.mf6.ModflowGwfnpf(\n",
    "        gwf,\n",
    "        save_specific_discharge=True,\n",
    "        save_saturation=True,\n",
    "        icelltype=1,\n",
    "        k=hydraulic_conductivity,\n",
    "    )\n",
    "    flopy.mf6.ModflowGwfic(gwf, strt=600.0)\n",
    "    chdspd = [[(k, 0, 0), h1] for k in range(nlay) if botm[k] < h1]\n",
    "    chdspd += [[(k, 0, ncol - 1), h2] for k in range(nlay) if botm[k] < h2]\n",
    "    flopy.mf6.ModflowGwfchd(\n",
    "        gwf,\n",
    "        stress_period_data=chdspd,\n",
    "        print_input=True,\n",
    "        print_flows=True,\n",
    "        save_flows=False,\n",
    "        pname=\"CHD-1\",\n",
    "    )\n",
    "    flopy.mf6.ModflowGwfrch(\n",
    "        gwf,\n",
    "        stress_period_data=rchspd,\n",
    "        auxiliary=[\"concentration\"],\n",
    "        pname=\"RCH-1\",\n",
    "    )\n",
    "\n",
    "    head_filerecord = f\"{name}.hds\"\n",
    "    budget_filerecord = f\"{name}.bud\"\n",
    "    flopy.mf6.ModflowGwfoc(\n",
    "        gwf,\n",
    "        head_filerecord=head_filerecord,\n",
    "        budget_filerecord=budget_filerecord,\n",
    "        saverecord=[(\"HEAD\", \"ALL\"), (\"BUDGET\", \"ALL\")],\n",
    "    )\n",
    "    return sim"
   ]
  },
  {
   "cell_type": "code",
   "execution_count": null,
   "id": "22b05abc",
   "metadata": {},
   "outputs": [],
   "source": [
    "def build_mf6gwt(sim_folder):\n",
    "    print(f\"Building mf6gwt model...{sim_folder}\")\n",
    "    name = \"trans\"\n",
    "    sim_ws = os.path.join(ws, sim_folder, \"mf6gwt\")\n",
    "    sim = flopy.mf6.MFSimulation(\n",
    "        sim_name=name,\n",
    "        sim_ws=sim_ws,\n",
    "        exe_name=\"mf6\",\n",
    "        continue_=True,\n",
    "    )\n",
    "    tdis_ds = ((period1, 73, 1.0), (period2, 2927, 1.0))\n",
    "    flopy.mf6.ModflowTdis(\n",
    "        sim, nper=len(tdis_ds), perioddata=tdis_ds, time_units=time_units\n",
    "    )\n",
    "    flopy.mf6.ModflowIms(\n",
    "        sim,\n",
    "        print_option=\"summary\",\n",
    "        outer_dvclose=1.0e-4,\n",
    "        outer_maximum=100,\n",
    "        under_relaxation=\"none\",\n",
    "        linear_acceleration=\"BICGSTAB\",\n",
    "        rcloserecord=\"1000.0 strict\",\n",
    "        inner_maximum=20,\n",
    "        inner_dvclose=1.0e-4,\n",
    "        relaxation_factor=0.0,\n",
    "        number_orthogonalizations=2,\n",
    "        preconditioner_levels=8,\n",
    "        preconditioner_drop_tolerance=0.001,\n",
    "    )\n",
    "    gwt = flopy.mf6.ModflowGwt(sim, modelname=name, save_flows=True)\n",
    "    flopy.mf6.ModflowGwtdis(\n",
    "        gwt,\n",
    "        length_units=length_units,\n",
    "        nlay=nlay,\n",
    "        nrow=nrow,\n",
    "        ncol=ncol,\n",
    "        delr=delr,\n",
    "        delc=delc,\n",
    "        top=top,\n",
    "        botm=botm,\n",
    "    )\n",
    "    flopy.mf6.ModflowGwtic(gwt, strt=0)\n",
    "    flopy.mf6.ModflowGwtmst(gwt, porosity=porosity)\n",
    "    flopy.mf6.ModflowGwtadv(gwt, scheme=\"upstream\")\n",
    "    flopy.mf6.ModflowGwtdsp(\n",
    "        gwt, xt3d_off=True, alh=alpha_l, ath1=alpha_th, atv=alpha_tv\n",
    "    )\n",
    "    pd = [\n",
    "        (\"GWFHEAD\", f\"../mf6gwf/flow.hds\", None),\n",
    "        (\"GWFBUDGET\", \"../mf6gwf/flow.bud\", None),\n",
    "    ]\n",
    "    flopy.mf6.ModflowGwtfmi(\n",
    "        gwt, flow_imbalance_correction=True, packagedata=pd\n",
    "    )\n",
    "    sourcerecarray = [\n",
    "        (\"RCH-1\", \"AUX\", \"CONCENTRATION\"),\n",
    "    ]\n",
    "    flopy.mf6.ModflowGwtssm(gwt, sources=sourcerecarray)\n",
    "    saverecord = {\n",
    "        0: [\n",
    "            (\"CONCENTRATION\", \"STEPS\", 10),\n",
    "            (\"CONCENTRATION\", \"LAST\"),\n",
    "            (\"CONCENTRATION\", \"FREQUENCY\", 10),\n",
    "        ],\n",
    "        1: [\n",
    "            (\"CONCENTRATION\", \"STEPS\", 27, 227),\n",
    "            (\"CONCENTRATION\", \"LAST\"),\n",
    "            (\"CONCENTRATION\", \"FREQUENCY\", 10),\n",
    "        ],\n",
    "    }\n",
    "    flopy.mf6.ModflowGwtoc(\n",
    "        gwt,\n",
    "        budget_filerecord=f\"{name}.cbc\",\n",
    "        concentration_filerecord=f\"{name}.ucn\",\n",
    "        concentrationprintrecord=[\n",
    "            (\"COLUMNS\", ncol, \"WIDTH\", 15, \"DIGITS\", 6, \"GENERAL\")\n",
    "        ],\n",
    "        saverecord=saverecord,\n",
    "        printrecord=[\n",
    "            (\"CONCENTRATION\", \"LAST\"),\n",
    "            (\n",
    "                \"BUDGET\",\n",
    "                \"ALL\",\n",
    "            ),\n",
    "        ],\n",
    "    )\n",
    "    obs_data = {\n",
    "        f\"{name}.obs.csv\": [\n",
    "            (\"obs1\", \"CONCENTRATION\", obs1),\n",
    "            (\"obs2\", \"CONCENTRATION\", obs2),\n",
    "        ],\n",
    "    }\n",
    "    flopy.mf6.ModflowUtlobs(\n",
    "        gwt, digits=10, print_input=True, continuous=obs_data\n",
    "    )\n",
    "    return sim"
   ]
  },
  {
   "cell_type": "code",
   "execution_count": null,
   "id": "81ef19b8",
   "metadata": {
    "lines_to_next_cell": 2
   },
   "outputs": [],
   "source": [
    "def build_model(sim_name):\n",
    "    sims = None\n",
    "    if config.buildModel:\n",
    "        sim_mf6gwf = build_mf6gwf(sim_name)\n",
    "        sim_mf6gwt = build_mf6gwt(sim_name)\n",
    "        sim_mf2005 = None  # build_mf2005(sim_name)\n",
    "        sim_mt3dms = None  # build_mt3dms(sim_name, sim_mf2005)\n",
    "        sims = (sim_mf6gwf, sim_mf6gwt, sim_mf2005, sim_mt3dms)\n",
    "    return sims"
   ]
  },
  {
   "cell_type": "markdown",
   "id": "a13575df",
   "metadata": {
    "lines_to_next_cell": 2
   },
   "source": [
    "Function to write model files"
   ]
  },
  {
   "cell_type": "code",
   "execution_count": null,
   "id": "4385f597",
   "metadata": {
    "lines_to_next_cell": 2
   },
   "outputs": [],
   "source": [
    "def write_model(sims, silent=True):\n",
    "    if config.writeModel:\n",
    "        sim_mf6gwf, sim_mf6gwt, sim_mf2005, sim_mt3dms = sims\n",
    "        sim_mf6gwf.write_simulation(silent=silent)\n",
    "        sim_mf6gwt.write_simulation(silent=silent)\n",
    "    return"
   ]
  },
  {
   "cell_type": "markdown",
   "id": "00d55d34",
   "metadata": {
    "lines_to_next_cell": 2
   },
   "source": [
    "Function to run the model\n",
    "True is returned if the model runs successfully"
   ]
  },
  {
   "cell_type": "code",
   "execution_count": null,
   "id": "53030b43",
   "metadata": {
    "lines_to_next_cell": 2
   },
   "outputs": [],
   "source": [
    "@config.timeit\n",
    "def run_model(sims, silent=True):\n",
    "    success = True\n",
    "    if config.runModel:\n",
    "        success = False\n",
    "        sim_mf6gwf, sim_mf6gwt, sim_mf2005, sim_mt3dms = sims\n",
    "        print(\"Running mf6gwf model...\")\n",
    "        success, buff = sim_mf6gwf.run_simulation(silent=silent)\n",
    "        if not success:\n",
    "            print(buff)\n",
    "        print(\"Running mf6gwt model...\")\n",
    "        success, buff = sim_mf6gwt.run_simulation(silent=silent)\n",
    "        if not success:\n",
    "            print(buff)\n",
    "    return success"
   ]
  },
  {
   "cell_type": "markdown",
   "id": "68ee6a4a",
   "metadata": {
    "lines_to_next_cell": 2
   },
   "source": [
    "Function to plot the model results"
   ]
  },
  {
   "cell_type": "code",
   "execution_count": null,
   "id": "7cfbae85",
   "metadata": {},
   "outputs": [],
   "source": [
    "def plot_results(sims, idx):\n",
    "    if config.plotModel:\n",
    "        print(\"Plotting model results...\")\n",
    "        plot_head_results(sims, idx)\n",
    "        plot_conc_results(sims, idx)\n",
    "        plot_cvt_results(sims, idx)\n",
    "        if config.plotSave and config.createGif:\n",
    "            make_animated_gif(sims, idx)\n",
    "    return"
   ]
  },
  {
   "cell_type": "code",
   "execution_count": null,
   "id": "95eb8d49",
   "metadata": {},
   "outputs": [],
   "source": [
    "def plot_head_results(sims, idx):\n",
    "    print(\"Plotting head model results...\")\n",
    "    sim_mf6gwf, sim_mf6gwt, sim_mf2005, sim_mt3dms = sims\n",
    "    gwf = sim_mf6gwf.flow\n",
    "    botm = gwf.dis.botm.array\n",
    "    # gwt = sim_mf6gwt.trans\n",
    "    fs = USGSFigure(figure_type=\"map\", verbose=False)\n",
    "    sim_ws = sim_mf6gwf.simulation_data.mfpath.get_sim_path()\n",
    "    head = gwf.output.head().get_data()\n",
    "    head = np.where(head > botm, head, np.nan)\n",
    "    fig, ax = plt.subplots(\n",
    "        1, 1, figsize=figure_size, dpi=300, tight_layout=True\n",
    "    )\n",
    "    pxs = flopy.plot.PlotCrossSection(model=gwf, ax=ax, line={\"row\": 0})\n",
    "    pa = pxs.plot_array(head, head=head, cmap=\"jet\")\n",
    "    pxs.plot_bc(ftype=\"RCH\", color=\"red\")\n",
    "    pxs.plot_bc(ftype=\"CHD\")\n",
    "    plt.colorbar(pa, shrink=0.5)\n",
    "    confining_rect = matplotlib.patches.Rectangle(\n",
    "        (3000, 1000), 3000, 100, color=\"gray\", alpha=0.5\n",
    "    )\n",
    "    ax.add_patch(confining_rect)\n",
    "    ax.set_xlabel(\"x position (m)\")\n",
    "    ax.set_ylabel(\"elevation (m)\")\n",
    "    ax.set_aspect(plotaspect)\n",
    "\n",
    "    # save figure\n",
    "    if config.plotSave:\n",
    "        sim_folder = os.path.split(sim_ws)[0]\n",
    "        sim_folder = os.path.basename(sim_folder)\n",
    "        fname = f\"{sim_folder}-head{config.figure_ext}\"\n",
    "        fpth = os.path.join(ws, \"..\", \"figures\", fname)\n",
    "        fig.savefig(fpth)"
   ]
  },
  {
   "cell_type": "code",
   "execution_count": null,
   "id": "0292c3ed",
   "metadata": {},
   "outputs": [],
   "source": [
    "def plot_conc_results(sims, idx):\n",
    "    print(\"Plotting conc model results...\")\n",
    "    sim_mf6gwf, sim_mf6gwt, sim_mf2005, sim_mt3dms = sims\n",
    "    gwf = sim_mf6gwf.flow\n",
    "    gwt = sim_mf6gwt.trans\n",
    "    botm = gwf.dis.botm.array\n",
    "    fs = USGSFigure(figure_type=\"map\", verbose=False)\n",
    "    head = gwf.output.head().get_data()\n",
    "    head = np.where(head > botm, head, np.nan)\n",
    "    sim_ws = sim_mf6gwt.simulation_data.mfpath.get_sim_path()\n",
    "    cobj = gwt.output.concentration()\n",
    "    conc_times = cobj.get_times()\n",
    "    conc_times = np.array(conc_times)\n",
    "    fig, axes = plt.subplots(\n",
    "        3, 1, figsize=(7.5, 4.5), dpi=300, tight_layout=True\n",
    "    )\n",
    "    xgrid, _, zgrid = gwt.modelgrid.xyzcellcenters\n",
    "    # Desired plot times\n",
    "    plot_times = [100.0, 1000.0, 3000.0]\n",
    "    nplots = len(plot_times)\n",
    "    for iplot in range(nplots):\n",
    "        print(f\"  Plotting conc {iplot + 1}\")\n",
    "        time_in_pub = plot_times[iplot]\n",
    "        idx_conc = (np.abs(conc_times - time_in_pub)).argmin()\n",
    "        totim = conc_times[idx_conc]\n",
    "        ax = axes[iplot]\n",
    "        pxs = flopy.plot.PlotCrossSection(model=gwf, ax=ax, line={\"row\": 0})\n",
    "        conc = cobj.get_data(totim=totim)\n",
    "        conc = np.where(head > botm, conc, np.nan)\n",
    "        pa = pxs.plot_array(conc, head=head, cmap=\"jet\", vmin=0, vmax=1.0)\n",
    "        pxs.plot_bc(ftype=\"RCH\", color=\"red\")\n",
    "        pxs.plot_bc(ftype=\"CHD\")\n",
    "        confining_rect = matplotlib.patches.Rectangle(\n",
    "            (3000, 1000), 3000, 100, color=\"gray\", alpha=0.5\n",
    "        )\n",
    "        ax.add_patch(confining_rect)\n",
    "        if iplot == 2:\n",
    "            ax.set_xlabel(\"x position (m)\")\n",
    "        ax.set_ylabel(\"elevation (m)\")\n",
    "        title = f\"Time = {totim}\"\n",
    "        letter = chr(ord(\"@\") + iplot + 1)\n",
    "        fs.heading(letter=letter, heading=title, ax=ax)\n",
    "        ax.set_aspect(plotaspect)\n",
    "\n",
    "        for k, i, j in [obs1, obs2]:\n",
    "            x = xgrid[i, j]\n",
    "            z = zgrid[k, i, j]\n",
    "            ax.plot(\n",
    "                x,\n",
    "                z,\n",
    "                markerfacecolor=\"yellow\",\n",
    "                markeredgecolor=\"black\",\n",
    "                marker=\"o\",\n",
    "                markersize=\"4\",\n",
    "            )\n",
    "    # save figure\n",
    "    if config.plotSave:\n",
    "        sim_folder = os.path.split(sim_ws)[0]\n",
    "        sim_folder = os.path.basename(sim_folder)\n",
    "        fname = f\"{sim_folder}-conc{config.figure_ext}\"\n",
    "        fpth = os.path.join(ws, \"..\", \"figures\", fname)\n",
    "        fig.savefig(fpth)"
   ]
  },
  {
   "cell_type": "code",
   "execution_count": null,
   "id": "17f588c5",
   "metadata": {},
   "outputs": [],
   "source": [
    "def make_animated_gif(sims, idx):\n",
    "    import copy\n",
    "\n",
    "    import matplotlib as mpl\n",
    "    from matplotlib.animation import FuncAnimation, PillowWriter\n",
    "\n",
    "    print(\"Animating conc model results...\")\n",
    "    sim_name = example_name\n",
    "    sim_mf6gwf, sim_mf6gwt, sim_mf2005, sim_mt3dms = sims\n",
    "    gwf = sim_mf6gwf.flow\n",
    "    gwt = sim_mf6gwt.trans\n",
    "    botm = gwf.dis.botm.array\n",
    "\n",
    "    # load head\n",
    "    fs = USGSFigure(figure_type=\"map\", verbose=False)\n",
    "    head = gwf.output.head().get_data()\n",
    "    head = np.where(head > botm, head, np.nan)\n",
    "\n",
    "    # load concentration\n",
    "    cobj = gwt.output.concentration()\n",
    "    conc_times = cobj.get_times()\n",
    "    conc_times = np.array(conc_times)\n",
    "    conc = cobj.get_alldata()\n",
    "\n",
    "    # set up the figure\n",
    "    fig = plt.figure(figsize=(7.5, 3))\n",
    "    ax = fig.add_subplot(1, 1, 1)\n",
    "    pxs = flopy.plot.PlotCrossSection(\n",
    "        model=gwf,\n",
    "        ax=ax,\n",
    "        line={\"row\": 0},\n",
    "        extent=(0, 10000, 0, 2000),\n",
    "    )\n",
    "\n",
    "    cmap = copy.copy(mpl.cm.get_cmap(\"jet\"))\n",
    "    cmap.set_bad(\"white\")\n",
    "    nodata = -999.0\n",
    "    a = np.where(head > botm, conc[0], nodata)\n",
    "    a = np.ma.masked_where(a < 0, a)\n",
    "    pc = pxs.plot_array(a, head=head, cmap=cmap, vmin=0, vmax=1)\n",
    "    pxs.plot_bc(ftype=\"RCH\", color=\"red\")\n",
    "    pxs.plot_bc(ftype=\"CHD\")\n",
    "\n",
    "    def init():\n",
    "        ax.set_title(f\"Time = {conc_times[0]} days\")\n",
    "\n",
    "    def update(i):\n",
    "        a = np.where(head > botm, conc[i], nodata)\n",
    "        a = np.ma.masked_where(a < 0, a)\n",
    "        a = a[~a.mask]\n",
    "        pc.set_array(a.flatten())\n",
    "        ax.set_title(f\"Time = {conc_times[i]} days\")\n",
    "\n",
    "    # Stop the animation at 18,000 days\n",
    "    idx_end = (np.abs(conc_times - 18000.0)).argmin()\n",
    "    ani = FuncAnimation(fig, update, range(1, idx_end), init_func=init)\n",
    "    writer = PillowWriter(fps=25)\n",
    "    fpth = os.path.join(\"..\", \"figures\", \"{}{}\".format(sim_name, \".gif\"))\n",
    "    ani.save(fpth, writer=writer)\n",
    "    return"
   ]
  },
  {
   "cell_type": "code",
   "execution_count": null,
   "id": "eb3d46e0",
   "metadata": {
    "lines_to_next_cell": 2
   },
   "outputs": [],
   "source": [
    "def plot_cvt_results(sims, idx):\n",
    "    print(\"Plotting cvt model results...\")\n",
    "    sim_mf6gwf, sim_mf6gwt, sim_mf2005, sim_mt3dms = sims\n",
    "    gwf = sim_mf6gwf.flow\n",
    "    gwt = sim_mf6gwt.trans\n",
    "    botm = gwf.dis.botm.array\n",
    "    fs = USGSFigure(figure_type=\"map\", verbose=False)\n",
    "    sim_ws = sim_mf6gwt.simulation_data.mfpath.get_sim_path()\n",
    "    mf6gwt_ra = gwt.obs.output.obs().data\n",
    "    dt = [(\"totim\", \"f8\"), (\"obs\", \"f8\")]\n",
    "    fname = os.path.join(config.data_ws, \"ex-gwt-keating\", \"keating_obs1.csv\")\n",
    "    obs1ra = np.genfromtxt(fname, delimiter=\",\", deletechars=\"\", dtype=dt)\n",
    "    fname = os.path.join(config.data_ws, \"ex-gwt-keating\", \"keating_obs2.csv\")\n",
    "    obs2ra = np.genfromtxt(fname, delimiter=\",\", deletechars=\"\", dtype=dt)\n",
    "    fig, axes = plt.subplots(2, 1, figsize=(6, 4), dpi=300, tight_layout=True)\n",
    "    ax = axes[0]\n",
    "    ax.plot(\n",
    "        mf6gwt_ra[\"totim\"],\n",
    "        mf6gwt_ra[\"OBS1\"],\n",
    "        \"b-\",\n",
    "        alpha=1.0,\n",
    "        label=\"MODFLOW 6\",\n",
    "    )\n",
    "    ax.plot(\n",
    "        obs1ra[\"totim\"],\n",
    "        obs1ra[\"obs\"],\n",
    "        markerfacecolor=\"None\",\n",
    "        markeredgecolor=\"k\",\n",
    "        marker=\"o\",\n",
    "        markersize=\"4\",\n",
    "        linestyle=\"None\",\n",
    "        label=\"Keating and Zyvolosky (2009)\",\n",
    "    )\n",
    "    ax.set_xlim(0, 8000)\n",
    "    ax.set_ylim(0, 0.80)\n",
    "    ax.set_xlabel(\"time, in days\")\n",
    "    ax.set_ylabel(\"normalized concentration, unitless\")\n",
    "    fs.graph_legend(ax)\n",
    "    ax = axes[1]\n",
    "    ax.plot(\n",
    "        mf6gwt_ra[\"totim\"],\n",
    "        mf6gwt_ra[\"OBS2\"],\n",
    "        \"b-\",\n",
    "        alpha=1.0,\n",
    "        label=\"MODFLOW 6\",\n",
    "    )\n",
    "    ax.plot(\n",
    "        obs2ra[\"totim\"],\n",
    "        obs2ra[\"obs\"],\n",
    "        markerfacecolor=\"None\",\n",
    "        markeredgecolor=\"k\",\n",
    "        marker=\"o\",\n",
    "        markersize=\"4\",\n",
    "        linestyle=\"None\",\n",
    "        label=\"Keating and Zyvolosky (2009)\",\n",
    "    )\n",
    "    ax.set_xlim(0, 30000)\n",
    "    ax.set_ylim(0, 0.20)\n",
    "    ax.set_xlabel(\"time, in days\")\n",
    "    ax.set_ylabel(\"normalized concentration, unitless\")\n",
    "    fs.graph_legend(ax)\n",
    "    # save figure\n",
    "    if config.plotSave:\n",
    "        sim_folder = os.path.split(sim_ws)[0]\n",
    "        sim_folder = os.path.basename(sim_folder)\n",
    "        fname = f\"{sim_folder}-cvt{config.figure_ext}\"\n",
    "        fpth = os.path.join(ws, \"..\", \"figures\", fname)\n",
    "        fig.savefig(fpth)"
   ]
  },
  {
   "cell_type": "markdown",
   "id": "4ffb64be",
   "metadata": {
    "lines_to_next_cell": 2
   },
   "source": [
    "Function that wraps all of the steps for each scenario\n",
    "\n",
    "1. build_model,\n",
    "2. write_model,\n",
    "3. run_model, and\n",
    "4. plot_results."
   ]
  },
  {
   "cell_type": "code",
   "execution_count": null,
   "id": "ae84e136",
   "metadata": {},
   "outputs": [],
   "source": [
    "def scenario(idx, silent=True):\n",
    "    sim = build_model(example_name)\n",
    "    write_model(sim, silent=silent)\n",
    "    success = run_model(sim, silent=silent)\n",
    "    if success:\n",
    "        plot_results(sim, idx)"
   ]
  },
  {
   "cell_type": "code",
   "execution_count": null,
   "id": "bb2b5f9b",
   "metadata": {},
   "outputs": [],
   "source": [
    "# nosetest - exclude block from this nosetest to the next nosetest\n",
    "def test_01():\n",
    "    scenario(0, silent=False)"
   ]
  },
  {
   "cell_type": "markdown",
   "id": "32a87fa6",
   "metadata": {},
   "source": [
    "nosetest end"
   ]
  },
  {
   "cell_type": "code",
   "execution_count": null,
   "id": "ac7e7ede",
   "metadata": {},
   "outputs": [],
   "source": [
    "if __name__ == \"__main__\":\n",
    "    # ### Simulate Keating Problem\n",
    "\n",
    "    # Plot showing MODFLOW 6 results\n",
    "\n",
    "    scenario(0)"
   ]
  }
 ],
 "metadata": {
  "jupytext": {
   "cell_metadata_filter": "-all",
   "main_language": "python",
   "notebook_metadata_filter": "-all"
  }
 },
 "nbformat": 4,
 "nbformat_minor": 5
}
