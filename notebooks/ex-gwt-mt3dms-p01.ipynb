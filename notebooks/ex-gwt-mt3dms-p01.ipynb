{
 "cells": [
  {
   "cell_type": "markdown",
   "id": "c35def03",
   "metadata": {},
   "source": [
    "## One-Dimensional Transport in a Uniform Flow Field Comparison of MODFLOW 6 transport with MT3DMS\n",
    "\n",
    "The purpose of this script is to (1) recreate the example problems that were first\n",
    "described in the 1999 MT3DMS report, and (2) compare MODFLOW 6-GWT solutions to the\n",
    "established MT3DMS solutions.\n",
    "\n",
    "Ten example problems appear in the 1999 MT3DMS manual, starting on page 130.\n",
    "This notebook demonstrates example 1 from the list below:\n",
    "\n",
    "  1.  *One-Dimensional Transport in a Uniform Flow Field*,\n",
    "  2.  One-Dimensional Transport with Nonlinear or Nonequilibrium Sorption,\n",
    "  3.  Two-Dimensional Transport in a Uniform Flow Field,\n",
    "  4.  Two-Dimensional Transport in a Diagonal Flow Field,\n",
    "  5.  Two-Dimensional Transport in a Radial Flow Field,\n",
    "  6.  Concentration at an Injection/Extraction Well,\n",
    "  7.  Three-Dimensional Transport in a Uniform Flow Field,\n",
    "  8.  Two-Dimensional, Vertical Transport in a Heterogeneous Aquifer,\n",
    "  9.  Two-Dimensional Application Example, and\n",
    "  10. Three-Dimensional Field Case Study.\n"
   ]
  },
  {
   "cell_type": "markdown",
   "id": "77eb948d",
   "metadata": {},
   "source": [
    "### MODFLOW 6 GWT MT3DMS Example 1 Problem Setup"
   ]
  },
  {
   "cell_type": "markdown",
   "id": "bf50593f",
   "metadata": {},
   "source": [
    "Imports"
   ]
  },
  {
   "cell_type": "code",
   "execution_count": null,
   "id": "0e02ac10",
   "metadata": {},
   "outputs": [],
   "source": [
    "import os\n",
    "import sys\n",
    "import matplotlib.pyplot as plt\n",
    "import flopy\n",
    "import numpy as np"
   ]
  },
  {
   "cell_type": "markdown",
   "id": "354f25e0",
   "metadata": {},
   "source": [
    "Append to system path to include the common subdirectory"
   ]
  },
  {
   "cell_type": "code",
   "execution_count": null,
   "id": "e37798df",
   "metadata": {},
   "outputs": [],
   "source": [
    "sys.path.append(os.path.join(\"..\", \"common\"))"
   ]
  },
  {
   "cell_type": "markdown",
   "id": "a44d20ea",
   "metadata": {},
   "source": [
    "Import common functionality"
   ]
  },
  {
   "cell_type": "code",
   "execution_count": null,
   "id": "488341b2",
   "metadata": {},
   "outputs": [],
   "source": [
    "import config\n",
    "from figspecs import USGSFigure"
   ]
  },
  {
   "cell_type": "code",
   "execution_count": null,
   "id": "38dcd65a",
   "metadata": {},
   "outputs": [],
   "source": [
    "mf6exe = config.mf6_exe\n",
    "exe_name_mf = config.mf2005_exe\n",
    "exe_name_mt = config.mt3dms_exe"
   ]
  },
  {
   "cell_type": "markdown",
   "id": "b8a46e75",
   "metadata": {},
   "source": [
    "Set figure properties specific to this problem"
   ]
  },
  {
   "cell_type": "code",
   "execution_count": null,
   "id": "0f2906a5",
   "metadata": {},
   "outputs": [],
   "source": [
    "figure_size = (5, 3.5)"
   ]
  },
  {
   "cell_type": "markdown",
   "id": "369d0c80",
   "metadata": {},
   "source": [
    "Base simulation and model name and workspace"
   ]
  },
  {
   "cell_type": "code",
   "execution_count": null,
   "id": "936d7457",
   "metadata": {},
   "outputs": [],
   "source": [
    "ws = config.base_ws"
   ]
  },
  {
   "cell_type": "markdown",
   "id": "7a9e6eb9",
   "metadata": {},
   "source": [
    "Set scenario parameters (make sure there is at least one blank line before next item)\n",
    "This entire dictionary is passed to _build_model()_ using the kwargs argument"
   ]
  },
  {
   "cell_type": "code",
   "execution_count": null,
   "id": "07e223d4",
   "metadata": {},
   "outputs": [],
   "source": [
    "parameters = {\n",
    "    \"ex-gwt-mt3dms-p01a\": {\n",
    "        \"dispersivity\": 0.0,\n",
    "        \"retardation\": 1.0,\n",
    "        \"decay\": 0.0,\n",
    "    },\n",
    "    \"ex-gwt-mt3dms-p01b\": {\n",
    "        \"dispersivity\": 10.0,\n",
    "        \"retardation\": 1.0,\n",
    "        \"decay\": 0.0,\n",
    "    },\n",
    "    \"ex-gwt-mt3dms-p01c\": {\n",
    "        \"dispersivity\": 10.0,\n",
    "        \"retardation\": 5.0,\n",
    "        \"decay\": 0.0,\n",
    "    },\n",
    "    \"ex-gwt-mt3dms-p01d\": {\n",
    "        \"dispersivity\": 10.0,\n",
    "        \"retardation\": 5.0,\n",
    "        \"decay\": 0.002,\n",
    "    },\n",
    "}"
   ]
  },
  {
   "cell_type": "markdown",
   "id": "0035901b",
   "metadata": {},
   "source": [
    "Scenario parameter units\n",
    "\n",
    "add parameter_units to add units to the scenario parameter table that is automatically\n",
    "built and used by the .tex input"
   ]
  },
  {
   "cell_type": "code",
   "execution_count": null,
   "id": "32213198",
   "metadata": {},
   "outputs": [],
   "source": [
    "parameter_units = {\n",
    "    \"dispersivity\": \"$m$\",\n",
    "    \"retardation\": \"unitless\",\n",
    "    \"decay\": \"$d^{-1}$\",\n",
    "}"
   ]
  },
  {
   "cell_type": "markdown",
   "id": "36215a45",
   "metadata": {},
   "source": [
    "Model units"
   ]
  },
  {
   "cell_type": "code",
   "execution_count": null,
   "id": "d0852e29",
   "metadata": {},
   "outputs": [],
   "source": [
    "length_units = \"meters\"\n",
    "time_units = \"days\""
   ]
  },
  {
   "cell_type": "markdown",
   "id": "449b1371",
   "metadata": {},
   "source": [
    "Table MODFLOW 6 GWT MT3DMS Example 1"
   ]
  },
  {
   "cell_type": "code",
   "execution_count": null,
   "id": "74056848",
   "metadata": {},
   "outputs": [],
   "source": [
    "nper = 1  # Number of periods\n",
    "nlay = 1  # Number of layers\n",
    "ncol = 101  # Number of columns\n",
    "nrow = 1  # Number of rows\n",
    "delr = 10.0  # Column width ($m$)\n",
    "delc = 1.0  # Row width ($m$)\n",
    "top = 0.0  # Top of the model ($m$)\n",
    "botm = -1.0  # Layer bottom elevations ($m$)\n",
    "prsity = 0.25  # Porosity\n",
    "perlen = 2000  # Simulation time ($days$)\n",
    "k11 = 1.0  # Horizontal hydraulic conductivity ($m/d$)"
   ]
  },
  {
   "cell_type": "markdown",
   "id": "068f3aca",
   "metadata": {},
   "source": [
    "Set some static model parameter values"
   ]
  },
  {
   "cell_type": "code",
   "execution_count": null,
   "id": "efc13919",
   "metadata": {},
   "outputs": [],
   "source": [
    "k33 = k11  # Vertical hydraulic conductivity ($m/d$)\n",
    "laytyp = 1\n",
    "nstp = 100.0\n",
    "dt0 = perlen / nstp\n",
    "Lx = (ncol - 1) * delr\n",
    "v = 0.24\n",
    "q = v * prsity\n",
    "h1 = q * Lx\n",
    "strt = np.zeros((nlay, nrow, ncol), dtype=float)\n",
    "strt[0, 0, 0] = h1  # Starting head ($m$)\n",
    "l = 1000.0  # Needed for plots\n",
    "icelltype = 1  # Cell conversion type\n",
    "ibound = np.ones((nlay, nrow, ncol), dtype=int)\n",
    "ibound[0, 0, 0] = -1\n",
    "ibound[0, 0, -1] = -1"
   ]
  },
  {
   "cell_type": "markdown",
   "id": "f8ee5256",
   "metadata": {},
   "source": [
    "Set some static transport related model parameter values"
   ]
  },
  {
   "cell_type": "code",
   "execution_count": null,
   "id": "36b4c8b9",
   "metadata": {},
   "outputs": [],
   "source": [
    "mixelm = 0  # TVD\n",
    "rhob = 0.25\n",
    "sp2 = 0.0  # red, but not used in this problem\n",
    "sconc = np.zeros((nlay, nrow, ncol), dtype=float)\n",
    "dmcoef = 0.0  # Molecular diffusion coefficient"
   ]
  },
  {
   "cell_type": "code",
   "execution_count": null,
   "id": "0cf418d0",
   "metadata": {},
   "outputs": [],
   "source": [
    "# Set solver parameter values (and related)\n",
    "nouter, ninner = 100, 300\n",
    "hclose, rclose, relax = 1e-6, 1e-6, 1.0\n",
    "ttsmult = 1.0\n",
    "dceps = 1.0e-5  # HMOC parameters in case they are invoked\n",
    "nplane = 1  # HMOC\n",
    "npl = 0  # HMOC\n",
    "nph = 4  # HMOC\n",
    "npmin = 0  # HMOC\n",
    "npmax = 8  # HMOC\n",
    "nlsink = nplane  # HMOC\n",
    "npsink = nph  # HMOC"
   ]
  },
  {
   "cell_type": "markdown",
   "id": "888c48ae",
   "metadata": {},
   "source": [
    "Static temporal data used by TDIS file"
   ]
  },
  {
   "cell_type": "code",
   "execution_count": null,
   "id": "1ed27afb",
   "metadata": {},
   "outputs": [],
   "source": [
    "tdis_rc = []\n",
    "tdis_rc.append((perlen, nstp, 1.0))"
   ]
  },
  {
   "cell_type": "markdown",
   "id": "9bb53c1f",
   "metadata": {},
   "source": [
    "### Create MODFLOW 6 GWT MT3DMS Example 1 Boundary Conditions\n",
    "\n",
    "Constant head cells are specified on both ends of the model"
   ]
  },
  {
   "cell_type": "code",
   "execution_count": null,
   "id": "5829cef2",
   "metadata": {
    "lines_to_next_cell": 2
   },
   "outputs": [],
   "source": [
    "chdspd = [[(0, 0, 0), h1], [(0, 0, ncol - 1), 0.0]]\n",
    "c0 = 1.0\n",
    "cncspd = [[(0, 0, 0), c0]]"
   ]
  },
  {
   "cell_type": "markdown",
   "id": "8ffd681f",
   "metadata": {
    "lines_to_next_cell": 2
   },
   "source": [
    "### Functions to build, write, run, and plot MODFLOW 6 GWT MT3DMS Example 1 model results\n",
    "\n",
    "MODFLOW 6 flopy simulation object (sim) is returned if building the model"
   ]
  },
  {
   "cell_type": "code",
   "execution_count": null,
   "id": "ea2de5be",
   "metadata": {
    "lines_to_next_cell": 2
   },
   "outputs": [],
   "source": [
    "def build_model(\n",
    "    sim_name,\n",
    "    dispersivity=0.0,\n",
    "    retardation=0.0,\n",
    "    decay=0.0,\n",
    "    mixelm=0,\n",
    "    silent=False,\n",
    "):\n",
    "    if config.buildModel:\n",
    "\n",
    "        mt3d_ws = os.path.join(ws, sim_name, \"mt3d\")\n",
    "        modelname_mf = \"p01-mf\"\n",
    "\n",
    "        # Instantiate the MODFLOW model\n",
    "        mf = flopy.modflow.Modflow(\n",
    "            modelname=modelname_mf, model_ws=mt3d_ws, exe_name=exe_name_mf\n",
    "        )\n",
    "\n",
    "        # Instantiate discretization package\n",
    "        # units: itmuni=4 (days), lenuni=2 (m)\n",
    "        flopy.modflow.ModflowDis(\n",
    "            mf,\n",
    "            nlay=nlay,\n",
    "            nrow=nrow,\n",
    "            ncol=ncol,\n",
    "            delr=delr,\n",
    "            delc=delc,\n",
    "            top=top,\n",
    "            nstp=nstp,\n",
    "            botm=botm,\n",
    "            perlen=perlen,\n",
    "            itmuni=4,\n",
    "            lenuni=2,\n",
    "        )\n",
    "\n",
    "        # Instantiate basic package\n",
    "        flopy.modflow.ModflowBas(mf, ibound=ibound, strt=strt)\n",
    "\n",
    "        # Instantiate layer property flow package\n",
    "        flopy.modflow.ModflowLpf(mf, hk=k11, laytyp=laytyp)\n",
    "\n",
    "        # Instantiate solver package\n",
    "        flopy.modflow.ModflowPcg(mf)\n",
    "\n",
    "        # Instantiate link mass transport package (for writing linker file)\n",
    "        flopy.modflow.ModflowLmt(mf)\n",
    "\n",
    "        # Transport\n",
    "        modelname_mt = \"p01-mt\"\n",
    "        mt = flopy.mt3d.Mt3dms(\n",
    "            modelname=modelname_mt,\n",
    "            model_ws=mt3d_ws,\n",
    "            exe_name=exe_name_mt,\n",
    "            modflowmodel=mf,\n",
    "        )\n",
    "\n",
    "        c0 = 1.0\n",
    "        icbund = np.ones((nlay, nrow, ncol), dtype=int)\n",
    "        icbund[0, 0, 0] = -1\n",
    "        sconc = np.zeros((nlay, nrow, ncol), dtype=float)\n",
    "        sconc[0, 0, 0] = c0\n",
    "        flopy.mt3d.Mt3dBtn(\n",
    "            mt,\n",
    "            laycon=laytyp,\n",
    "            icbund=icbund,\n",
    "            prsity=prsity,\n",
    "            sconc=sconc,\n",
    "            dt0=dt0,\n",
    "            ifmtcn=1,\n",
    "        )\n",
    "\n",
    "        # Instatiate the advection package\n",
    "        flopy.mt3d.Mt3dAdv(\n",
    "            mt,\n",
    "            mixelm=mixelm,\n",
    "            dceps=dceps,\n",
    "            nplane=nplane,\n",
    "            npl=npl,\n",
    "            nph=nph,\n",
    "            npmin=npmin,\n",
    "            npmax=npmax,\n",
    "            nlsink=nlsink,\n",
    "            npsink=npsink,\n",
    "            percel=0.5,\n",
    "        )\n",
    "\n",
    "        # Instantiate the dispersion package\n",
    "        flopy.mt3d.Mt3dDsp(mt, al=dispersivity)\n",
    "\n",
    "        # Set reactive variables and instantiate chemical reaction package\n",
    "        if retardation == 1.0:\n",
    "            isothm = 0.0\n",
    "            rc1 = 0.0\n",
    "        else:\n",
    "            isothm = 1\n",
    "        if decay != 0:\n",
    "            ireact = 1\n",
    "            rc1 = decay\n",
    "        else:\n",
    "            ireact = 0.0\n",
    "            rc1 = 0.0\n",
    "        kd = (retardation - 1.0) * prsity / rhob\n",
    "        flopy.mt3d.Mt3dRct(\n",
    "            mt,\n",
    "            isothm=isothm,\n",
    "            ireact=ireact,\n",
    "            igetsc=0,\n",
    "            rhob=rhob,\n",
    "            sp1=kd,\n",
    "            rc1=rc1,\n",
    "            rc2=rc1,\n",
    "        )\n",
    "\n",
    "        # Instantiate the source/sink mixing package\n",
    "        flopy.mt3d.Mt3dSsm(mt)\n",
    "\n",
    "        # Instantiate the GCG solver in MT3DMS\n",
    "        flopy.mt3d.Mt3dGcg(mt, mxiter=10)\n",
    "\n",
    "        # MODFLOW 6\n",
    "        name = \"p01-mf6\"\n",
    "        gwfname = \"gwf-\" + name\n",
    "        sim_ws = os.path.join(ws, sim_name)\n",
    "        sim = flopy.mf6.MFSimulation(\n",
    "            sim_name=sim_name, sim_ws=sim_ws, exe_name=mf6exe\n",
    "        )\n",
    "\n",
    "        # Instantiating MODFLOW 6 time discretization\n",
    "        flopy.mf6.ModflowTdis(\n",
    "            sim, nper=nper, perioddata=tdis_rc, time_units=time_units\n",
    "        )\n",
    "\n",
    "        # Instantiating MODFLOW 6 groundwater flow model\n",
    "        gwf = flopy.mf6.ModflowGwf(\n",
    "            sim,\n",
    "            modelname=gwfname,\n",
    "            save_flows=True,\n",
    "            model_nam_file=\"{}.nam\".format(gwfname),\n",
    "        )\n",
    "\n",
    "        # Instantiating MODFLOW 6 solver for flow model\n",
    "        imsgwf = flopy.mf6.ModflowIms(\n",
    "            sim,\n",
    "            print_option=\"SUMMARY\",\n",
    "            outer_dvclose=hclose,\n",
    "            outer_maximum=nouter,\n",
    "            under_relaxation=\"NONE\",\n",
    "            inner_maximum=ninner,\n",
    "            inner_dvclose=hclose,\n",
    "            rcloserecord=rclose,\n",
    "            linear_acceleration=\"CG\",\n",
    "            scaling_method=\"NONE\",\n",
    "            reordering_method=\"NONE\",\n",
    "            relaxation_factor=relax,\n",
    "            filename=\"{}.ims\".format(gwfname),\n",
    "        )\n",
    "        sim.register_ims_package(imsgwf, [gwf.name])\n",
    "\n",
    "        # Instantiating MODFLOW 6 discretization package\n",
    "        flopy.mf6.ModflowGwfdis(\n",
    "            gwf,\n",
    "            length_units=length_units,\n",
    "            nlay=nlay,\n",
    "            nrow=nrow,\n",
    "            ncol=ncol,\n",
    "            delr=delr,\n",
    "            delc=delc,\n",
    "            top=top,\n",
    "            botm=botm,\n",
    "            idomain=np.ones((nlay, nrow, ncol), dtype=int),\n",
    "            filename=\"{}.dis\".format(gwfname),\n",
    "        )\n",
    "\n",
    "        # Instantiating MODFLOW 6 node-property flow package\n",
    "        flopy.mf6.ModflowGwfnpf(\n",
    "            gwf,\n",
    "            save_flows=False,\n",
    "            icelltype=icelltype,\n",
    "            k=k11,\n",
    "            k33=k33,\n",
    "            save_specific_discharge=True,\n",
    "            filename=\"{}.npf\".format(gwfname),\n",
    "        )\n",
    "\n",
    "        # Instantiating MODFLOW 6 initial conditions package for flow model\n",
    "        flopy.mf6.ModflowGwfic(\n",
    "            gwf, strt=strt, filename=\"{}.ic\".format(gwfname)\n",
    "        )\n",
    "\n",
    "        # Instantiating MODFLOW 6 constant head package\n",
    "        flopy.mf6.ModflowGwfchd(\n",
    "            gwf,\n",
    "            maxbound=len(chdspd),\n",
    "            stress_period_data=chdspd,\n",
    "            save_flows=False,\n",
    "            pname=\"CHD-1\",\n",
    "            filename=\"{}.chd\".format(gwfname),\n",
    "        )\n",
    "\n",
    "        # Instantiating MODFLOW 6 output control package for flow model\n",
    "        flopy.mf6.ModflowGwfoc(\n",
    "            gwf,\n",
    "            head_filerecord=\"{}.hds\".format(gwfname),\n",
    "            budget_filerecord=\"{}.cbc\".format(gwfname),\n",
    "            headprintrecord=[\n",
    "                (\"COLUMNS\", 10, \"WIDTH\", 15, \"DIGITS\", 6, \"GENERAL\")\n",
    "            ],\n",
    "            saverecord=[(\"HEAD\", \"LAST\"), (\"BUDGET\", \"LAST\")],\n",
    "            printrecord=[(\"HEAD\", \"LAST\"), (\"BUDGET\", \"LAST\")],\n",
    "        )\n",
    "\n",
    "        # Instantiating MODFLOW 6 groundwater transport package\n",
    "        gwtname = \"gwt-\" + name\n",
    "        gwt = flopy.mf6.MFModel(\n",
    "            sim,\n",
    "            model_type=\"gwt6\",\n",
    "            modelname=gwtname,\n",
    "            model_nam_file=\"{}.nam\".format(gwtname),\n",
    "        )\n",
    "        gwt.name_file.save_flows = True\n",
    "        imsgwt = flopy.mf6.ModflowIms(\n",
    "            sim,\n",
    "            print_option=\"SUMMARY\",\n",
    "            outer_dvclose=hclose,\n",
    "            outer_maximum=nouter,\n",
    "            under_relaxation=\"NONE\",\n",
    "            inner_maximum=ninner,\n",
    "            inner_dvclose=hclose,\n",
    "            rcloserecord=rclose,\n",
    "            linear_acceleration=\"BICGSTAB\",\n",
    "            scaling_method=\"NONE\",\n",
    "            reordering_method=\"NONE\",\n",
    "            relaxation_factor=relax,\n",
    "            filename=\"{}.ims\".format(gwtname),\n",
    "        )\n",
    "        sim.register_ims_package(imsgwt, [gwt.name])\n",
    "\n",
    "        # Instantiating MODFLOW 6 transport discretization package\n",
    "        flopy.mf6.ModflowGwtdis(\n",
    "            gwt,\n",
    "            nlay=nlay,\n",
    "            nrow=nrow,\n",
    "            ncol=ncol,\n",
    "            delr=delr,\n",
    "            delc=delc,\n",
    "            top=top,\n",
    "            botm=botm,\n",
    "            idomain=1,\n",
    "            filename=\"{}.dis\".format(gwtname),\n",
    "        )\n",
    "\n",
    "        # Instantiating MODFLOW 6 transport initial concentrations\n",
    "        flopy.mf6.ModflowGwtic(\n",
    "            gwt, strt=sconc, filename=\"{}.ic\".format(gwtname)\n",
    "        )\n",
    "\n",
    "        # Instantiating MODFLOW 6 transport advection package\n",
    "        if mixelm == 0:\n",
    "            scheme = \"UPSTREAM\"\n",
    "        elif mixelm == -1:\n",
    "            scheme = \"TVD\"\n",
    "        else:\n",
    "            raise Exception()\n",
    "        flopy.mf6.ModflowGwtadv(\n",
    "            gwt, scheme=scheme, filename=\"{}.adv\".format(gwtname)\n",
    "        )\n",
    "\n",
    "        # Instantiating MODFLOW 6 transport dispersion package\n",
    "        if dispersivity != 0:\n",
    "            flopy.mf6.ModflowGwtdsp(\n",
    "                gwt,\n",
    "                xt3d_off=True,\n",
    "                alh=dispersivity,\n",
    "                ath1=dispersivity,\n",
    "                filename=\"{}.dsp\".format(gwtname),\n",
    "            )\n",
    "\n",
    "        # Instantiating MODFLOW 6 transport mass storage package (formerly \"reaction\" package in MT3DMS)\n",
    "        if retardation != 1.0:\n",
    "            sorption = \"linear\"\n",
    "            bulk_density = rhob\n",
    "            kd = (\n",
    "                (retardation - 1.0) * prsity / rhob\n",
    "            )  # prsity & rhob defined in\n",
    "        else:  # global variable section\n",
    "            sorption = None\n",
    "            bulk_density = None\n",
    "            kd = None\n",
    "        if decay != 0.0:\n",
    "            first_order_decay = True\n",
    "            decay_arg = decay\n",
    "        else:\n",
    "            first_order_decay = False\n",
    "            decay_arg = None\n",
    "        flopy.mf6.ModflowGwtmst(\n",
    "            gwt,\n",
    "            porosity=prsity,\n",
    "            sorption=sorption,\n",
    "            bulk_density=bulk_density,\n",
    "            distcoef=kd,\n",
    "            first_order_decay=first_order_decay,\n",
    "            decay=decay_arg,\n",
    "            decay_sorbed=decay_arg,\n",
    "            filename=\"{}.mst\".format(gwtname),\n",
    "        )\n",
    "\n",
    "        # Instantiating MODFLOW 6 transport constant concentration package\n",
    "        flopy.mf6.ModflowGwtcnc(\n",
    "            gwt,\n",
    "            maxbound=len(cncspd),\n",
    "            stress_period_data=cncspd,\n",
    "            save_flows=False,\n",
    "            pname=\"CNC-1\",\n",
    "            filename=\"{}.cnc\".format(gwtname),\n",
    "        )\n",
    "\n",
    "        # Instantiating MODFLOW 6 transport source-sink mixing package\n",
    "        flopy.mf6.ModflowGwtssm(\n",
    "            gwt, sources=[[]], filename=\"{}.ssm\".format(gwtname)\n",
    "        )\n",
    "\n",
    "        # Instantiating MODFLOW 6 transport output control package\n",
    "        flopy.mf6.ModflowGwtoc(\n",
    "            gwt,\n",
    "            budget_filerecord=\"{}.cbc\".format(gwtname),\n",
    "            concentration_filerecord=\"{}.ucn\".format(gwtname),\n",
    "            concentrationprintrecord=[\n",
    "                (\"COLUMNS\", 10, \"WIDTH\", 15, \"DIGITS\", 6, \"GENERAL\")\n",
    "            ],\n",
    "            saverecord=[(\"CONCENTRATION\", \"LAST\"), (\"BUDGET\", \"LAST\")],\n",
    "            printrecord=[(\"CONCENTRATION\", \"LAST\"), (\"BUDGET\", \"LAST\")],\n",
    "        )\n",
    "\n",
    "        # Instantiating MODFLOW 6 flow-transport exchange mechanism\n",
    "        flopy.mf6.ModflowGwfgwt(\n",
    "            sim,\n",
    "            exgtype=\"GWF6-GWT6\",\n",
    "            exgmnamea=gwfname,\n",
    "            exgmnameb=gwtname,\n",
    "            filename=\"{}.gwfgwt\".format(name),\n",
    "        )\n",
    "        return mf, mt, sim\n",
    "    return None"
   ]
  },
  {
   "cell_type": "markdown",
   "id": "b4c0fa4b",
   "metadata": {
    "lines_to_next_cell": 2
   },
   "source": [
    "Function to write model files"
   ]
  },
  {
   "cell_type": "code",
   "execution_count": null,
   "id": "97262d1e",
   "metadata": {
    "lines_to_next_cell": 2
   },
   "outputs": [],
   "source": [
    "def write_model(mf2k5, mt3d, sim, silent=True):\n",
    "    if config.writeModel:\n",
    "        mf2k5.write_input()\n",
    "        mt3d.write_input()\n",
    "        sim.write_simulation(silent=silent)"
   ]
  },
  {
   "cell_type": "markdown",
   "id": "7ad78240",
   "metadata": {
    "lines_to_next_cell": 2
   },
   "source": [
    "Function to run the models.\n",
    "_True_ is returned if the model runs successfully"
   ]
  },
  {
   "cell_type": "code",
   "execution_count": null,
   "id": "346d70e6",
   "metadata": {
    "lines_to_next_cell": 2
   },
   "outputs": [],
   "source": [
    "@config.timeit\n",
    "def run_model(mf2k5, mt3d, sim, silent=True):\n",
    "    success = True\n",
    "    if config.runModel:\n",
    "        success, buff = mf2k5.run_model(silent=silent)\n",
    "        success, buff = mt3d.run_model(silent=silent)\n",
    "        success, buff = sim.run_simulation(silent=silent)\n",
    "        if not success:\n",
    "            print(buff)\n",
    "    return success"
   ]
  },
  {
   "cell_type": "markdown",
   "id": "ec07ec76",
   "metadata": {
    "lines_to_next_cell": 2
   },
   "source": [
    "Function to plot the model results"
   ]
  },
  {
   "cell_type": "code",
   "execution_count": null,
   "id": "689667b7",
   "metadata": {
    "lines_to_next_cell": 2
   },
   "outputs": [],
   "source": [
    "def plot_results(mt3d, mf6, idx, ax=None):\n",
    "    if config.plotModel:\n",
    "        mt3d_out_path = mt3d.model_ws\n",
    "        mf6_out_path = mf6.simulation_data.mfpath.get_sim_path()\n",
    "        mf6.simulation_data.mfpath.get_sim_path()\n",
    "\n",
    "        # Get the MT3DMS concentration output\n",
    "        fname_mt3d = os.path.join(mt3d_out_path, \"MT3D001.UCN\")\n",
    "        ucnobj_mt3d = flopy.utils.UcnFile(fname_mt3d)\n",
    "        conc_mt3d = ucnobj_mt3d.get_alldata()\n",
    "\n",
    "        # Get the MF6 concentration output\n",
    "        gwt = mf6.get_model(list(mf6.model_names)[1])\n",
    "        ucnobj_mf6 = gwt.output.concentration()\n",
    "        conc_mf6 = ucnobj_mf6.get_alldata()\n",
    "\n",
    "        # Create figure for scenario\n",
    "        fs = USGSFigure(figure_type=\"graph\", verbose=False)\n",
    "        sim_name = mf6.name\n",
    "        if ax is None:\n",
    "            fig, ax = plt.subplots(\n",
    "                1, 1, figsize=figure_size, dpi=300, tight_layout=True\n",
    "            )\n",
    "\n",
    "        ax.plot(\n",
    "            np.linspace(0, l, ncol),\n",
    "            conc_mt3d[0, 0, 0, :],\n",
    "            color=\"k\",\n",
    "            label=\"MT3DMS\",\n",
    "            linewidth=0.5,\n",
    "        )\n",
    "        ax.plot(\n",
    "            np.linspace(0, l, ncol),\n",
    "            conc_mf6[0, 0, 0, :],\n",
    "            \"^\",\n",
    "            markeredgewidth=0.5,\n",
    "            color=\"blue\",\n",
    "            fillstyle=\"none\",\n",
    "            label=\"MF6\",\n",
    "            markersize=3,\n",
    "        )\n",
    "        ax.set_ylim(0, 1.2)\n",
    "        ax.set_xlim(0, 1000)\n",
    "        ax.set_xlabel(\"Distance, in m\")\n",
    "        ax.set_ylabel(\"Concentration\")\n",
    "        title = \"Concentration Profile at Time = 2,000 \" + \"{}\".format(\n",
    "            time_units\n",
    "        )\n",
    "        ax.legend()\n",
    "        letter = chr(ord(\"@\") + idx + 1)\n",
    "        fs.heading(letter=letter, heading=title)\n",
    "\n",
    "        # save figure\n",
    "        if config.plotSave:\n",
    "            fpth = os.path.join(\n",
    "                \"..\", \"figures\", \"{}{}\".format(sim_name, config.figure_ext)\n",
    "            )\n",
    "            fig.savefig(fpth)"
   ]
  },
  {
   "cell_type": "markdown",
   "id": "4ef4dff9",
   "metadata": {
    "lines_to_next_cell": 2
   },
   "source": [
    "Function that wraps all of the steps for each scenario.\n",
    "\n",
    "1. build_model,\n",
    "2. write_model,\n",
    "3. run_model, and\n",
    "4. plot_results."
   ]
  },
  {
   "cell_type": "code",
   "execution_count": null,
   "id": "30cdcfec",
   "metadata": {},
   "outputs": [],
   "source": [
    "def scenario(idx, silent=True):\n",
    "    key = list(parameters.keys())[idx]\n",
    "    parameter_dict = parameters[key]\n",
    "    mf2k5, mt3d, sim = build_model(key, **parameter_dict)\n",
    "\n",
    "    write_model(mf2k5, mt3d, sim, silent=silent)\n",
    "\n",
    "    success = run_model(mf2k5, mt3d, sim, silent=silent)\n",
    "\n",
    "    if success:\n",
    "        plot_results(mt3d, sim, idx)"
   ]
  },
  {
   "cell_type": "code",
   "execution_count": null,
   "id": "1cc6df06",
   "metadata": {},
   "outputs": [],
   "source": []
  },
  {
   "cell_type": "markdown",
   "id": "edfc456c",
   "metadata": {},
   "source": [
    "### Advection only"
   ]
  },
  {
   "cell_type": "code",
   "execution_count": null,
   "id": "72fc0b62",
   "metadata": {},
   "outputs": [],
   "source": [
    "scenario(0)"
   ]
  },
  {
   "cell_type": "markdown",
   "id": "13fd9969",
   "metadata": {},
   "source": [
    "### Advection and dispersion"
   ]
  },
  {
   "cell_type": "code",
   "execution_count": null,
   "id": "7cd68c98",
   "metadata": {},
   "outputs": [],
   "source": [
    "scenario(1)"
   ]
  },
  {
   "cell_type": "markdown",
   "id": "19b038db",
   "metadata": {},
   "source": [
    "### Advection, dispersion, and retardation"
   ]
  },
  {
   "cell_type": "code",
   "execution_count": null,
   "id": "cf7fe6b9",
   "metadata": {},
   "outputs": [],
   "source": [
    "scenario(2)"
   ]
  },
  {
   "cell_type": "markdown",
   "id": "de28605e",
   "metadata": {},
   "source": [
    "### Advection, dispersion, retardation, and decay"
   ]
  },
  {
   "cell_type": "code",
   "execution_count": null,
   "id": "1aa0e49a",
   "metadata": {},
   "outputs": [],
   "source": [
    "scenario(3)"
   ]
  }
 ],
 "metadata": {
  "jupytext": {
   "cell_metadata_filter": "-all",
   "main_language": "python",
   "notebook_metadata_filter": "-all"
  }
 },
 "nbformat": 4,
 "nbformat_minor": 5
}
