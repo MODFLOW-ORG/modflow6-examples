{
 "cells": [
  {
   "cell_type": "markdown",
   "metadata": {
    "lines_to_next_cell": 2
   },
   "source": [
    "## Two-Dimensional Transport in a Radial Flow Field Comparison of MODFLOW 6 transport with MT3DMS\n",
    "\n",
    "The purpose of this script is to (1) recreate the example problems that were first\n",
    "described in the 1999 MT3DMS report, and (2) compare MF6-GWT solutions to the\n",
    "established MT3DMS solutions.\n",
    "\n",
    "Ten example problems appear in the 1999 MT3DMS manual, starting on page 130.  This\n",
    "notebook demonstrates example 10 from the list below:\n",
    "\n",
    "  1. One-Dimensional Transport in a Uniform Flow Field\n",
    "  2. One-Dimensional Transport with Nonlinear or Nonequilibrium Sorption\n",
    "  3. Two-Dimensional Transport in a Uniform Flow Field\n",
    "  4. Two-Dimensional Transport in a Diagonal Flow Field\n",
    "  5. **Two-Dimensional Transport in a Radial Flow Field**\n",
    "  6. Concentration at an Injection/Extraction Well\n",
    "  7. Three-Dimensional Transport in a Uniform Flow Field\n",
    "  8. Two-Dimensional, Vertical Transport in a Heterogeneous Aquifer\n",
    "  9. Two-Dimensional Application Example\n",
    "  10. Three-Dimensional Field Case Study"
   ]
  },
  {
   "cell_type": "markdown",
   "metadata": {},
   "source": [
    "### MODFLOW 6 GWT MT3DMS Example 5 Problem Setup"
   ]
  },
  {
   "cell_type": "markdown",
   "metadata": {},
   "source": [
    "Append to system path to include the common subdirectory"
   ]
  },
  {
   "cell_type": "code",
   "execution_count": null,
   "metadata": {},
   "outputs": [],
   "source": [
    "import os\n",
    "import sys"
   ]
  },
  {
   "cell_type": "code",
   "execution_count": null,
   "metadata": {},
   "outputs": [],
   "source": [
    "sys.path.append(os.path.join(\"..\", \"common\"))"
   ]
  },
  {
   "cell_type": "markdown",
   "metadata": {},
   "source": [
    "Imports"
   ]
  },
  {
   "cell_type": "code",
   "execution_count": null,
   "metadata": {},
   "outputs": [],
   "source": [
    "import matplotlib.pyplot as plt\n",
    "import flopy\n",
    "import numpy as np\n",
    "import config\n",
    "from figspecs import USGSFigure"
   ]
  },
  {
   "cell_type": "code",
   "execution_count": null,
   "metadata": {},
   "outputs": [],
   "source": [
    "mf6exe = os.path.abspath(config.mf6_exe)\n",
    "assert os.path.isfile(mf6exe)\n",
    "print(mf6exe)\n",
    "exe_name_mf = config.mf2005_exe\n",
    "exe_name_mt = config.mt3dms_exe"
   ]
  },
  {
   "cell_type": "markdown",
   "metadata": {},
   "source": [
    "Set figure properties specific to this problem"
   ]
  },
  {
   "cell_type": "code",
   "execution_count": null,
   "metadata": {},
   "outputs": [],
   "source": [
    "figure_size = (6, 4.5)"
   ]
  },
  {
   "cell_type": "markdown",
   "metadata": {},
   "source": [
    "Base simulation and model name and workspace"
   ]
  },
  {
   "cell_type": "code",
   "execution_count": null,
   "metadata": {},
   "outputs": [],
   "source": [
    "ws = config.base_ws\n",
    "example_name = \"ex-gwt-mt3dms-p05\""
   ]
  },
  {
   "cell_type": "markdown",
   "metadata": {},
   "source": [
    "Model units"
   ]
  },
  {
   "cell_type": "code",
   "execution_count": null,
   "metadata": {},
   "outputs": [],
   "source": [
    "length_units = \"meters\"\n",
    "time_units = \"days\""
   ]
  },
  {
   "cell_type": "markdown",
   "metadata": {},
   "source": [
    "Table"
   ]
  },
  {
   "cell_type": "code",
   "execution_count": null,
   "metadata": {},
   "outputs": [],
   "source": [
    "nlay = 1  # Number of layers\n",
    "nrow = 31  # Number of rows\n",
    "ncol = 31  # Number of columns\n",
    "delr = 10.0  # Column width ($m$)\n",
    "delc = 10.0  # Row width ($m$)\n",
    "delz = 1.0  # Layer thickness ($m$)\n",
    "top = 0.0  # Top of the model ($m$)\n",
    "prsity = 0.3  # Porosity\n",
    "perlen = 27  # Simulation time ($days$)\n",
    "k11 = 1.0  # Horizontal hydraulic conductivity ($m/d$)\n",
    "qwell = 100.0  # Volumetric injection rate ($m^3/d$)\n",
    "cwell = 1.0  # Concentration of injected water ($mg/L$)\n",
    "al = 10.0  # Longitudinal dispersivity ($m$)\n",
    "trpt = 1.0  # Ratio of transverse to longitudinal dispersitivity\n",
    "dmcoef = 1.0e-9  # Molecular diffusion coefficient ($m^2/d$)"
   ]
  },
  {
   "cell_type": "markdown",
   "metadata": {},
   "source": [
    "Additional model input"
   ]
  },
  {
   "cell_type": "code",
   "execution_count": null,
   "metadata": {},
   "outputs": [],
   "source": [
    "perlen = [27]\n",
    "nper = len(perlen)\n",
    "nstp = [27]\n",
    "tsmult = [1.0]\n",
    "sconc = 0.0\n",
    "c0 = 0.0\n",
    "dt0 = 0.3\n",
    "ath1 = al * trpt\n",
    "xt3d = [True]\n",
    "botm = [top - delz]  # Model geometry\n",
    "k33 = k11  # Vertical hydraulic conductivity ($m/d$)\n",
    "icelltype = 0\n",
    "mixelm = -1\n",
    "strt = np.zeros((nlay, nrow, ncol), dtype=np.float)"
   ]
  },
  {
   "cell_type": "markdown",
   "metadata": {},
   "source": [
    "Active model domain"
   ]
  },
  {
   "cell_type": "code",
   "execution_count": null,
   "metadata": {},
   "outputs": [],
   "source": [
    "ibound_mf2k5 = np.ones((nlay, nrow, ncol), dtype=np.int) * -1\n",
    "ibound_mf2k5[:, 1 : nrow - 1, 1 : ncol - 1] = 1\n",
    "idomain = np.ones((nlay, nrow, ncol), dtype=np.int)\n",
    "icbund = 1"
   ]
  },
  {
   "cell_type": "markdown",
   "metadata": {},
   "source": [
    "Boundary conditions\n",
    "MF2K5 pumping info:"
   ]
  },
  {
   "cell_type": "code",
   "execution_count": null,
   "metadata": {},
   "outputs": [],
   "source": [
    "welspd = {0: [[0, 15, 15, qwell]]}  # Well pumping info for MF2K5\n",
    "spd = {0: [0, 15, 15, cwell, -1]}  # Well pupming info for MT3DMS"
   ]
  },
  {
   "cell_type": "markdown",
   "metadata": {},
   "source": [
    "MF6 pumping information"
   ]
  },
  {
   "cell_type": "code",
   "execution_count": null,
   "metadata": {},
   "outputs": [],
   "source": [
    "#              (k,  i,  j),  flow,   conc\n",
    "spd_mf6 = {0: [[(0, 15, 15), qwell, c0]]}"
   ]
  },
  {
   "cell_type": "markdown",
   "metadata": {},
   "source": [
    "MF6 constant head boundaries:"
   ]
  },
  {
   "cell_type": "code",
   "execution_count": null,
   "metadata": {},
   "outputs": [],
   "source": [
    "chdspd = []\n",
    "# Loop through the left & right sides.\n",
    "for i in np.arange(nrow):\n",
    "    chdspd.append([(0, i, 0), strt[0, i, 0]])\n",
    "    chdspd.append([(0, i, ncol - 1), strt[0, i, ncol - 1]])\n",
    "# Loop through the top & bottom while omitting the corner cells\n",
    "for j in np.arange(1, ncol - 1):\n",
    "    chdspd.append([(0, 0, j), strt[0, 0, j]])\n",
    "    chdspd.append([(0, nrow - 1, j), strt[0, nrow - 1, j]])"
   ]
  },
  {
   "cell_type": "code",
   "execution_count": null,
   "metadata": {},
   "outputs": [],
   "source": [
    "chdspd = {0: chdspd}"
   ]
  },
  {
   "cell_type": "markdown",
   "metadata": {},
   "source": [
    "Solver settings"
   ]
  },
  {
   "cell_type": "code",
   "execution_count": null,
   "metadata": {},
   "outputs": [],
   "source": [
    "nouter, ninner = 100, 300\n",
    "hclose, rclose, relax = 1e-6, 1e-6, 1.0\n",
    "percel = 1.0  # HMOC parameters\n",
    "itrack = 3\n",
    "wd = 0.5\n",
    "dceps = 1.0e-5\n",
    "nplane = 1\n",
    "npl = 0\n",
    "nph = 16\n",
    "npmin = 2\n",
    "npmax = 32\n",
    "dchmoc = 1.0e-3\n",
    "nlsink = nplane\n",
    "npsink = nph"
   ]
  },
  {
   "cell_type": "markdown",
   "metadata": {},
   "source": [
    "Static temporal data used by TDIS file"
   ]
  },
  {
   "cell_type": "code",
   "execution_count": null,
   "metadata": {},
   "outputs": [],
   "source": [
    "tdis_rc = []\n",
    "tdis_rc.append((perlen, nstp, 1.0))"
   ]
  },
  {
   "cell_type": "markdown",
   "metadata": {
    "lines_to_next_cell": 2
   },
   "source": [
    "### Functions to build, write, and run models and plot MT3DMS Example 10 Problem results\n",
    "\n",
    "MODFLOW 6 flopy simulation object (sim) is returned if building the model"
   ]
  },
  {
   "cell_type": "code",
   "execution_count": null,
   "metadata": {
    "lines_to_next_cell": 2
   },
   "outputs": [],
   "source": [
    "def build_model(sim_name, xt3d=False, mixelm=0, silent=False):\n",
    "    if config.buildModel:\n",
    "\n",
    "        mt3d_ws = os.path.join(ws, sim_name, \"mt3d\")\n",
    "        modelname_mf = \"p05_mf\"\n",
    "\n",
    "        # Instantiate the MODFLOW model\n",
    "        mf = flopy.modflow.Modflow(\n",
    "            modelname=modelname_mf, model_ws=mt3d_ws, exe_name=exe_name_mf\n",
    "        )\n",
    "\n",
    "        # Instantiate discretization package\n",
    "        # units: itmuni=4 (days), lenuni=2 (m)\n",
    "        flopy.modflow.ModflowDis(\n",
    "            mf,\n",
    "            nlay=nlay,\n",
    "            nrow=nrow,\n",
    "            ncol=ncol,\n",
    "            delr=delr,\n",
    "            delc=delc,\n",
    "            top=top,\n",
    "            botm=botm,\n",
    "            nper=nper,\n",
    "            nstp=nstp,\n",
    "            perlen=perlen,\n",
    "            itmuni=4,\n",
    "            lenuni=2,\n",
    "        )\n",
    "\n",
    "        # Instantiate basic package\n",
    "        flopy.modflow.ModflowBas(mf, ibound=ibound_mf2k5, strt=strt)\n",
    "\n",
    "        # Instantiate layer property flow package\n",
    "        flopy.modflow.ModflowLpf(mf, hk=k11, laytyp=icelltype)\n",
    "\n",
    "        # Instantiate well package\n",
    "        flopy.modflow.ModflowWel(mf, stress_period_data=welspd)\n",
    "\n",
    "        # Instantiate solver package\n",
    "        flopy.modflow.ModflowSip(mf)\n",
    "\n",
    "        # Instantiate link mass transport package (for writing linker file)\n",
    "        flopy.modflow.ModflowLmt(mf)\n",
    "\n",
    "        # Transport\n",
    "        modelname_mt = \"p05_mt\"\n",
    "        mt = flopy.mt3d.Mt3dms(\n",
    "            modelname=modelname_mt,\n",
    "            model_ws=mt3d_ws,\n",
    "            exe_name=exe_name_mt,\n",
    "            modflowmodel=mf,\n",
    "        )\n",
    "\n",
    "        # Instantiate basic transport package\n",
    "        flopy.mt3d.Mt3dBtn(\n",
    "            mt,\n",
    "            icbund=icbund,\n",
    "            prsity=prsity,\n",
    "            sconc=sconc,\n",
    "            nper=nper,\n",
    "            nstp=nstp,\n",
    "            perlen=perlen,\n",
    "            dt0=dt0,\n",
    "            tsmult=tsmult,\n",
    "        )\n",
    "\n",
    "        # Instatiate the advection package\n",
    "        flopy.mt3d.Mt3dAdv(\n",
    "            mt,\n",
    "            mixelm=mixelm,\n",
    "            dceps=dceps,\n",
    "            nplane=nplane,\n",
    "            npl=npl,\n",
    "            nph=nph,\n",
    "            npmin=npmin,\n",
    "            npmax=npmax,\n",
    "            nlsink=nlsink,\n",
    "            npsink=npsink,\n",
    "            percel=percel,\n",
    "            itrack=itrack,\n",
    "            wd=wd,\n",
    "        )\n",
    "\n",
    "        # Instantiate the dispersion package\n",
    "        flopy.mt3d.Mt3dDsp(mt, al=al, trpt=trpt, dmcoef=dmcoef)\n",
    "\n",
    "        # Instantiate the source/sink mixing package\n",
    "        flopy.mt3d.Mt3dSsm(mt, stress_period_data=spd)\n",
    "\n",
    "        # Instantiate the GCG solver in MT3DMS\n",
    "        flopy.mt3d.Mt3dGcg(mt, mxiter=10)\n",
    "\n",
    "        # MODFLOW 6\n",
    "        name = \"p05_mf6\"\n",
    "        gwfname = \"gwf_\" + name\n",
    "        sim_ws = os.path.join(ws, sim_name)\n",
    "        sim = flopy.mf6.MFSimulation(\n",
    "            sim_name=sim_name, sim_ws=sim_ws, exe_name=mf6exe\n",
    "        )\n",
    "\n",
    "        # Instantiating MODFLOW 6 time discretization\n",
    "        tdis_rc = []\n",
    "        for i in range(nper):\n",
    "            tdis_rc.append((perlen[i], nstp[i], tsmult[i]))\n",
    "        flopy.mf6.ModflowTdis(\n",
    "            sim, nper=nper, perioddata=tdis_rc, time_units=time_units\n",
    "        )\n",
    "\n",
    "        # Instantiating MODFLOW 6 groundwater flow model\n",
    "        gwf = flopy.mf6.ModflowGwf(\n",
    "            sim,\n",
    "            modelname=gwfname,\n",
    "            save_flows=True,\n",
    "            model_nam_file=\"{}.nam\".format(gwfname),\n",
    "        )\n",
    "\n",
    "        # Instantiating MODFLOW 6 solver for flow model\n",
    "        imsgwf = flopy.mf6.ModflowIms(\n",
    "            sim,\n",
    "            print_option=\"SUMMARY\",\n",
    "            outer_dvclose=hclose,\n",
    "            outer_maximum=nouter,\n",
    "            under_relaxation=\"NONE\",\n",
    "            inner_maximum=ninner,\n",
    "            inner_dvclose=hclose,\n",
    "            rcloserecord=rclose,\n",
    "            linear_acceleration=\"CG\",\n",
    "            scaling_method=\"NONE\",\n",
    "            reordering_method=\"NONE\",\n",
    "            relaxation_factor=relax,\n",
    "            filename=\"{}.ims\".format(gwfname),\n",
    "        )\n",
    "        sim.register_ims_package(imsgwf, [gwf.name])\n",
    "\n",
    "        # Instantiating MODFLOW 6 discretization package\n",
    "        flopy.mf6.ModflowGwfdis(\n",
    "            gwf,\n",
    "            length_units=length_units,\n",
    "            nlay=nlay,\n",
    "            nrow=nrow,\n",
    "            ncol=ncol,\n",
    "            delr=delr,\n",
    "            delc=delc,\n",
    "            top=top,\n",
    "            botm=botm,\n",
    "            idomain=idomain,\n",
    "            filename=\"{}.dis\".format(gwfname),\n",
    "        )\n",
    "\n",
    "        # Instantiating MODFLOW 6 node-property flow package\n",
    "        flopy.mf6.ModflowGwfnpf(\n",
    "            gwf,\n",
    "            save_flows=False,\n",
    "            icelltype=icelltype,\n",
    "            k=k11,\n",
    "            k33=k33,\n",
    "            save_specific_discharge=True,\n",
    "            filename=\"{}.npf\".format(gwfname),\n",
    "        )\n",
    "\n",
    "        # Instantiating MODFLOW 6 storage package (steady flow conditions, so no actual storage, using to print values in .lst file)\n",
    "        flopy.mf6.ModflowGwfsto(\n",
    "            gwf, ss=0, sy=0, filename=\"{}.sto\".format(gwfname)\n",
    "        )\n",
    "\n",
    "        # Instantiating MODFLOW 6 initial conditions package for flow model\n",
    "        flopy.mf6.ModflowGwfic(\n",
    "            gwf, strt=strt, filename=\"{}.ic\".format(gwfname)\n",
    "        )\n",
    "\n",
    "        # Instantiating MODFLOW 6 constant head package\n",
    "        flopy.mf6.ModflowGwfchd(\n",
    "            gwf,\n",
    "            maxbound=len(chdspd),\n",
    "            stress_period_data=chdspd,\n",
    "            save_flows=False,\n",
    "            pname=\"CHD-1\",\n",
    "            filename=\"{}.chd\".format(gwfname),\n",
    "        )\n",
    "\n",
    "        # Instantiate the wel package\n",
    "        flopy.mf6.ModflowGwfwel(\n",
    "            gwf,\n",
    "            print_input=True,\n",
    "            print_flows=True,\n",
    "            stress_period_data=spd_mf6,\n",
    "            save_flows=False,\n",
    "            auxiliary=\"CONCENTRATION\",\n",
    "            pname=\"WEL-1\",\n",
    "            filename=\"{}.wel\".format(gwfname),\n",
    "        )\n",
    "\n",
    "        # Instantiating MODFLOW 6 output control package for flow model\n",
    "        flopy.mf6.ModflowGwfoc(\n",
    "            gwf,\n",
    "            head_filerecord=\"{}.hds\".format(gwfname),\n",
    "            budget_filerecord=\"{}.bud\".format(gwfname),\n",
    "            headprintrecord=[\n",
    "                (\"COLUMNS\", 10, \"WIDTH\", 15, \"DIGITS\", 6, \"GENERAL\")\n",
    "            ],\n",
    "            saverecord=[(\"HEAD\", \"LAST\"), (\"BUDGET\", \"LAST\")],\n",
    "            printrecord=[(\"HEAD\", \"LAST\"), (\"BUDGET\", \"LAST\")],\n",
    "        )\n",
    "\n",
    "        # Instantiating MODFLOW 6 groundwater transport package\n",
    "        gwtname = \"gwt_\" + name\n",
    "        gwt = flopy.mf6.MFModel(\n",
    "            sim,\n",
    "            model_type=\"gwt6\",\n",
    "            modelname=gwtname,\n",
    "            model_nam_file=\"{}.nam\".format(gwtname),\n",
    "        )\n",
    "        gwt.name_file.save_flows = True\n",
    "\n",
    "        # create iterative model solution and register the gwt model with it\n",
    "        imsgwt = flopy.mf6.ModflowIms(\n",
    "            sim,\n",
    "            print_option=\"SUMMARY\",\n",
    "            outer_dvclose=hclose,\n",
    "            outer_maximum=nouter,\n",
    "            under_relaxation=\"NONE\",\n",
    "            inner_maximum=ninner,\n",
    "            inner_dvclose=hclose,\n",
    "            rcloserecord=rclose,\n",
    "            linear_acceleration=\"BICGSTAB\",\n",
    "            scaling_method=\"NONE\",\n",
    "            reordering_method=\"NONE\",\n",
    "            relaxation_factor=relax,\n",
    "            filename=\"{}.ims\".format(gwtname),\n",
    "        )\n",
    "        sim.register_ims_package(imsgwt, [gwt.name])\n",
    "\n",
    "        # Instantiating MODFLOW 6 transport discretization package\n",
    "        flopy.mf6.ModflowGwtdis(\n",
    "            gwt,\n",
    "            nlay=nlay,\n",
    "            nrow=nrow,\n",
    "            ncol=ncol,\n",
    "            delr=delr,\n",
    "            delc=delc,\n",
    "            top=top,\n",
    "            botm=botm,\n",
    "            idomain=1,\n",
    "            filename=\"{}.dis\".format(gwtname),\n",
    "        )\n",
    "\n",
    "        # Instantiating MODFLOW 6 transport initial concentrations\n",
    "        flopy.mf6.ModflowGwtic(\n",
    "            gwt, strt=sconc, filename=\"{}.ic\".format(gwtname)\n",
    "        )\n",
    "\n",
    "        # Instantiating MODFLOW 6 transport advection package\n",
    "        if mixelm >= 0:\n",
    "            scheme = \"UPSTREAM\"\n",
    "        elif mixelm == -1:\n",
    "            scheme = \"TVD\"\n",
    "        else:\n",
    "            raise Exception()\n",
    "        flopy.mf6.ModflowGwtadv(\n",
    "            gwt, scheme=scheme, filename=\"{}.adv\".format(gwtname)\n",
    "        )\n",
    "\n",
    "        # Instantiating MODFLOW 6 transport dispersion package\n",
    "        if al != 0:\n",
    "            flopy.mf6.ModflowGwtdsp(\n",
    "                gwt,\n",
    "                xt3d=xt3d,\n",
    "                alh=al,\n",
    "                ath1=ath1,\n",
    "                filename=\"{}.dsp\".format(gwtname),\n",
    "            )\n",
    "\n",
    "        # Instantiating MODFLOW 6 transport mass storage package (formerly \"reaction\" package in MT3DMS)\n",
    "        flopy.mf6.ModflowGwtmst(\n",
    "            gwt,\n",
    "            porosity=prsity,\n",
    "            first_order_decay=False,\n",
    "            decay=None,\n",
    "            decay_sorbed=None,\n",
    "            sorbtion=False,\n",
    "            bulk_density=None,\n",
    "            distcoef=None,\n",
    "            filename=\"{}.mst\".format(gwtname),\n",
    "        )\n",
    "\n",
    "        # Instantiate constant concentration\n",
    "        c0 = 1.0\n",
    "        cncspd = [[(0, 15, 15), c0]]\n",
    "        flopy.mf6.ModflowGwtcnc(\n",
    "            gwt,\n",
    "            maxbound=len(cncspd),\n",
    "            stress_period_data=cncspd,\n",
    "            save_flows=False,\n",
    "            pname=\"CNC-1\",\n",
    "            filename=\"{}.cnc\".format(gwtname),\n",
    "        )\n",
    "\n",
    "        # Instantiating MODFLOW 6 transport source-sink mixing package\n",
    "        sourcerecarray = [(\"WEL-1\", \"AUX\", \"CONCENTRATION\")]\n",
    "        flopy.mf6.ModflowGwtssm(\n",
    "            gwt, sources=sourcerecarray, filename=\"{}.ssm\".format(gwtname)\n",
    "        )\n",
    "\n",
    "        # Instantiating MODFLOW 6 transport output control package\n",
    "        flopy.mf6.ModflowGwtoc(\n",
    "            gwt,\n",
    "            budget_filerecord=\"{}.cbc\".format(gwtname),\n",
    "            concentration_filerecord=\"{}.ucn\".format(gwtname),\n",
    "            concentrationprintrecord=[\n",
    "                (\"COLUMNS\", 10, \"WIDTH\", 15, \"DIGITS\", 6, \"GENERAL\")\n",
    "            ],\n",
    "            saverecord=[(\"CONCENTRATION\", \"LAST\"), (\"BUDGET\", \"LAST\")],\n",
    "            printrecord=[(\"CONCENTRATION\", \"LAST\"), (\"BUDGET\", \"LAST\")],\n",
    "        )\n",
    "\n",
    "        # Instantiating MODFLOW 6 flow-transport exchange mechanism\n",
    "        flopy.mf6.ModflowGwfgwt(\n",
    "            sim,\n",
    "            exgtype=\"GWF6-GWT6\",\n",
    "            exgmnamea=gwfname,\n",
    "            exgmnameb=gwtname,\n",
    "            filename=\"{}.gwfgwt\".format(name),\n",
    "        )\n",
    "        return mf, mt, sim\n",
    "    return None"
   ]
  },
  {
   "cell_type": "markdown",
   "metadata": {
    "lines_to_next_cell": 2
   },
   "source": [
    "Function to write model files"
   ]
  },
  {
   "cell_type": "code",
   "execution_count": null,
   "metadata": {
    "lines_to_next_cell": 2
   },
   "outputs": [],
   "source": [
    "def write_model(mf2k5, mt3d, sim, silent=True):\n",
    "    if config.writeModel:\n",
    "        mf2k5.write_input()\n",
    "        mt3d.write_input()\n",
    "        sim.write_simulation(silent=silent)"
   ]
  },
  {
   "cell_type": "markdown",
   "metadata": {
    "lines_to_next_cell": 2
   },
   "source": [
    "Function to run the model. True is returned if the model runs successfully."
   ]
  },
  {
   "cell_type": "code",
   "execution_count": null,
   "metadata": {
    "lines_to_next_cell": 2
   },
   "outputs": [],
   "source": [
    "def run_model(mf2k5, mt3d, sim, silent=True):\n",
    "    success = True\n",
    "    if config.runModel:\n",
    "        success, buff = mf2k5.run_model(silent=silent)\n",
    "        success, buff = mt3d.run_model(silent=silent)\n",
    "        success, buff = sim.run_simulation(silent=silent)\n",
    "        if not success:\n",
    "            print(buff)\n",
    "    return success"
   ]
  },
  {
   "cell_type": "markdown",
   "metadata": {
    "lines_to_next_cell": 2
   },
   "source": [
    "Function to plot the model results"
   ]
  },
  {
   "cell_type": "code",
   "execution_count": null,
   "metadata": {
    "lines_to_next_cell": 2
   },
   "outputs": [],
   "source": [
    "def plot_results(mt3d, mf6, idx, ax=None, ax2=None):\n",
    "    if config.plotModel:\n",
    "        mt3d_out_path = mt3d.model_ws\n",
    "        mf6_out_path = mf6.simulation_data.mfpath.get_sim_path()\n",
    "        mf6.simulation_data.mfpath.get_sim_path()\n",
    "\n",
    "        # Get the MT3DMS concentration output\n",
    "        fname_mt3d = os.path.join(mt3d_out_path, \"MT3D001.UCN\")\n",
    "        ucnobj_mt3d = flopy.utils.UcnFile(fname_mt3d)\n",
    "        times_mt3d = ucnobj_mt3d.get_times()\n",
    "        conc_mt3d = ucnobj_mt3d.get_alldata()\n",
    "\n",
    "        # Get the MF6 concentration output\n",
    "        fname_mf6 = os.path.join(\n",
    "            mf6_out_path, list(mf6.model_names)[1] + \".ucn\"\n",
    "        )\n",
    "        ucnobj_mf6 = flopy.utils.HeadFile(\n",
    "            fname_mf6, precision=\"double\", text=\"CONCENTRATION\"\n",
    "        )\n",
    "\n",
    "        times_mf6 = ucnobj_mf6.get_times()\n",
    "        conc_mf6 = ucnobj_mf6.get_alldata()\n",
    "\n",
    "        # Create figure for scenario\n",
    "        fs = USGSFigure(figure_type=\"graph\", verbose=False)\n",
    "        sim_name = mf6.name\n",
    "        plt.rcParams[\"lines.dashed_pattern\"] = [5.0, 5.0]\n",
    "        if ax is None:\n",
    "            fig = plt.figure(figsize=figure_size, dpi=300, tight_layout=True)\n",
    "            ax = fig.add_subplot(1, 1, 1)\n",
    "\n",
    "        conc1 = conc_mt3d[0, 0, :, :]\n",
    "        conc2 = conc_mf6[0, 0, :, :]\n",
    "        x = (\n",
    "            mt3d.modelgrid.xcellcenters[15, 15:]\n",
    "            - mt3d.modelgrid.xcellcenters[15, 15]\n",
    "        )\n",
    "        y_mt3d = conc1[15, 15:]\n",
    "        y_mf6 = conc2[15, 15:]\n",
    "\n",
    "        plt.plot(x, y_mt3d, label=\"MT3DMS\", marker=\"o\")\n",
    "        plt.plot(x, y_mf6, label=\"MODFLOW 6\", marker=\"^\", color=\"k\")\n",
    "        ax.set_ylim(0, 1.025)\n",
    "\n",
    "        plt.xlabel(\"Radial Distance From The Source, in meters\")\n",
    "        plt.ylabel(\"Normalized Concentration, unitless\")\n",
    "        plt.legend()\n",
    "\n",
    "        title = \"Concentration as a Function of Distance From The Source\"\n",
    "\n",
    "        letter = chr(ord(\"@\") + idx + 1)\n",
    "        fs.heading(letter=letter, heading=title)\n",
    "\n",
    "        # save figure\n",
    "        if config.plotSave:\n",
    "            fpth = os.path.join(\n",
    "                \"..\",\n",
    "                \"figures\",\n",
    "                \"{}{}\".format(sim_name + \"-xsec\", config.figure_ext),\n",
    "            )\n",
    "            fig.savefig(fpth)\n",
    "\n",
    "        # second plot\n",
    "        if ax2 is None:\n",
    "            fig = plt.figure(figsize=figure_size, dpi=300, tight_layout=True)\n",
    "            ax2 = fig.add_subplot(1, 1, 1, aspect=\"equal\")\n",
    "\n",
    "        levels = np.arange(0.2, 1, 0.2)\n",
    "\n",
    "        mm = flopy.plot.PlotMapView(model=mt3d)\n",
    "        mm.plot_grid(color=\".5\", alpha=0.2)\n",
    "        mm.plot_ibound()\n",
    "        cs1 = mm.contour_array(conc_mt3d[0], levels=levels, colors=\"r\")\n",
    "        plt.clabel(cs1, inline=1, fontsize=10)\n",
    "        cs2 = mm.contour_array(\n",
    "            conc_mf6[0], levels=levels, colors=\"k\", linestyles=\":\"\n",
    "        )\n",
    "        plt.clabel(cs2, inline=1, fontsize=10)\n",
    "        labels = [\"MT3DMS\", \"MODFLOW 6\"]\n",
    "        lines = [cs1.collections[0], cs2.collections[0]]\n",
    "\n",
    "        plt.xlabel(\"Distance Along X-Axis, in meters\")\n",
    "        plt.ylabel(\"Distance Along Y-Axis, in meters\")\n",
    "        title = \"Comparison of MT3DMS and MF6 isoconcentration lines\"\n",
    "        ax2.legend(lines, labels, loc=\"upper left\")\n",
    "\n",
    "        # draw line representing location of cross-section shown in previous figure\n",
    "        plt.plot([155, 300], [155, 155], \"k-\", lw=2)\n",
    "\n",
    "        # Add labels to the plot\n",
    "        # style = dict(size=10, color='black')\n",
    "        # ax2.text(235, 140, \"Location of x-section \\nshown in Fig. x\", **style)\n",
    "\n",
    "        letter = chr(ord(\"@\") + idx + 2)\n",
    "        fs.heading(letter=letter, heading=title)\n",
    "\n",
    "        # save figure\n",
    "        if config.plotSave:\n",
    "            fpth = os.path.join(\n",
    "                \"..\",\n",
    "                \"figures\",\n",
    "                \"{}{}\".format(sim_name + \"-planView\", config.figure_ext),\n",
    "            )\n",
    "            fig.savefig(fpth)"
   ]
  },
  {
   "cell_type": "markdown",
   "metadata": {
    "lines_to_next_cell": 2
   },
   "source": [
    "### Function that wraps all of the steps for each MT3DMS Example 10 Problem scenario\n",
    "\n",
    "1. build_model,\n",
    "2. write_model,\n",
    "3. run_model, and\n",
    "4. plot_results."
   ]
  },
  {
   "cell_type": "code",
   "execution_count": null,
   "metadata": {},
   "outputs": [],
   "source": [
    "def scenario(idx, silent=True):\n",
    "\n",
    "    mf2k5, mt3d, sim = build_model(example_name)\n",
    "\n",
    "    write_model(mf2k5, mt3d, sim, silent=silent)\n",
    "\n",
    "    success = run_model(mf2k5, mt3d, sim, silent=silent)\n",
    "\n",
    "    if success:\n",
    "        plot_results(mt3d, sim, idx)"
   ]
  },
  {
   "cell_type": "code",
   "execution_count": null,
   "metadata": {},
   "outputs": [],
   "source": []
  },
  {
   "cell_type": "code",
   "execution_count": null,
   "metadata": {},
   "outputs": [],
   "source": [
    "# ### Two-Dimensional Transport in a Diagonal Flow Field\n",
    "#\n",
    "# Compares the standard finite difference solutions between MT3D MF 6\n",
    "scenario(0)"
   ]
  }
 ],
 "metadata": {
  "jupytext": {
   "cell_metadata_filter": "-all",
   "main_language": "python",
   "notebook_metadata_filter": "-all"
  }
 },
 "nbformat": 4,
 "nbformat_minor": 4
}
