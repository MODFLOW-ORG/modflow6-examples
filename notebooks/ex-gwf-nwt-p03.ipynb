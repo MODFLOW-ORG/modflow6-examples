{
 "cells": [
  {
   "cell_type": "markdown",
   "id": "72aa557f",
   "metadata": {},
   "source": [
    "## MODFLOW-NWT Problem 3 example\n",
    "\n"
   ]
  },
  {
   "cell_type": "markdown",
   "id": "4150ad75",
   "metadata": {},
   "source": [
    "### MODFLOW-NWT Problem 3 Setup\n",
    "\n",
    "Imports"
   ]
  },
  {
   "cell_type": "code",
   "execution_count": null,
   "id": "f01ab3fb",
   "metadata": {},
   "outputs": [],
   "source": [
    "import os\n",
    "import sys"
   ]
  },
  {
   "cell_type": "code",
   "execution_count": null,
   "id": "e6e81de5",
   "metadata": {},
   "outputs": [],
   "source": [
    "import flopy\n",
    "import matplotlib as mpl\n",
    "import matplotlib.pyplot as plt\n",
    "import numpy as np"
   ]
  },
  {
   "cell_type": "markdown",
   "id": "e25f02c3",
   "metadata": {},
   "source": [
    "Append to system path to include the common subdirectory"
   ]
  },
  {
   "cell_type": "code",
   "execution_count": null,
   "id": "01fd6cc3",
   "metadata": {},
   "outputs": [],
   "source": [
    "sys.path.append(os.path.join(\"..\", \"common\"))"
   ]
  },
  {
   "cell_type": "markdown",
   "id": "8a1b788e",
   "metadata": {},
   "source": [
    "import common functionality"
   ]
  },
  {
   "cell_type": "code",
   "execution_count": null,
   "id": "996f8c99",
   "metadata": {},
   "outputs": [],
   "source": [
    "import config\n",
    "from figspecs import USGSFigure"
   ]
  },
  {
   "cell_type": "markdown",
   "id": "0a13fcc9",
   "metadata": {},
   "source": [
    "Set figure properties"
   ]
  },
  {
   "cell_type": "code",
   "execution_count": null,
   "id": "c7be7faa",
   "metadata": {},
   "outputs": [],
   "source": [
    "figure_size = (6.3, 5.6)\n",
    "masked_values = (1e30, -1e30)"
   ]
  },
  {
   "cell_type": "markdown",
   "id": "5e291741",
   "metadata": {},
   "source": [
    "Base simulation and model name and workspace"
   ]
  },
  {
   "cell_type": "code",
   "execution_count": null,
   "id": "5dc46a01",
   "metadata": {},
   "outputs": [],
   "source": [
    "ws = config.base_ws"
   ]
  },
  {
   "cell_type": "markdown",
   "id": "947d0adb",
   "metadata": {},
   "source": [
    "Simulation name"
   ]
  },
  {
   "cell_type": "code",
   "execution_count": null,
   "id": "8ce90883",
   "metadata": {},
   "outputs": [],
   "source": [
    "sim_name = \"ex-gwf-nwt-p03\""
   ]
  },
  {
   "cell_type": "markdown",
   "id": "f1dff8d4",
   "metadata": {},
   "source": [
    "Model units"
   ]
  },
  {
   "cell_type": "code",
   "execution_count": null,
   "id": "a0a21133",
   "metadata": {},
   "outputs": [],
   "source": [
    "length_units = \"meters\"\n",
    "time_units = \"days\""
   ]
  },
  {
   "cell_type": "markdown",
   "id": "25b7b137",
   "metadata": {},
   "source": [
    "Scenario parameters"
   ]
  },
  {
   "cell_type": "code",
   "execution_count": null,
   "id": "3eedb3f9",
   "metadata": {},
   "outputs": [],
   "source": [
    "parameters = {\n",
    "    \"ex-gwf-nwt-p03a\": {\n",
    "        \"recharge\": \"high\",\n",
    "    },\n",
    "    \"ex-gwf-nwt-p03b\": {\n",
    "        \"recharge\": \"low\",\n",
    "    },\n",
    "}"
   ]
  },
  {
   "cell_type": "markdown",
   "id": "47acc454",
   "metadata": {},
   "source": [
    "Table"
   ]
  },
  {
   "cell_type": "code",
   "execution_count": null,
   "id": "3ce93050",
   "metadata": {},
   "outputs": [],
   "source": [
    "nper = 1  # Number of periods\n",
    "nlay = 1  # Number of layers\n",
    "nrow = 80  # Number of rows\n",
    "ncol = 80  # Number of columns\n",
    "delr = 100.0  # Cell size in the x-direction ($m$)\n",
    "delc = 100.0  # Cell size in y-direction ($m$)\n",
    "top = 200.0  # Top of the model ($m$)\n",
    "k11 = 1.0  # Horizontal hydraulic conductivity ($m/day$)\n",
    "H1 = 24.0  # Constant head water level ($m$)"
   ]
  },
  {
   "cell_type": "markdown",
   "id": "9656fc0e",
   "metadata": {},
   "source": [
    "plotting ranges and contour levels"
   ]
  },
  {
   "cell_type": "code",
   "execution_count": null,
   "id": "57034ed5",
   "metadata": {
    "lines_to_next_cell": 2
   },
   "outputs": [],
   "source": [
    "vmin, vmax = 20, 60\n",
    "smin, smax = 0, 25\n",
    "bmin, bmax = 0, 90\n",
    "vlevels = np.arange(vmin, vmax + 5, 5)\n",
    "slevels = np.arange(smin, smax + 5, 5)\n",
    "blevels = np.arange(bmin + 10, bmax, 10)\n",
    "vcolor = \"black\"\n",
    "scolor = \"black\"\n",
    "bcolor = \"black\""
   ]
  },
  {
   "cell_type": "markdown",
   "id": "d06e0a6c",
   "metadata": {},
   "source": [
    "Static temporal data used by TDIS file"
   ]
  },
  {
   "cell_type": "code",
   "execution_count": null,
   "id": "b43a87cf",
   "metadata": {},
   "outputs": [],
   "source": [
    "tdis_ds = ((365.0, 1, 1.0),)"
   ]
  },
  {
   "cell_type": "markdown",
   "id": "f760955f",
   "metadata": {},
   "source": [
    "Calculate extents, and shape3d"
   ]
  },
  {
   "cell_type": "code",
   "execution_count": null,
   "id": "7f3e7791",
   "metadata": {},
   "outputs": [],
   "source": [
    "extents = (0, delr * ncol, 0, delc * nrow)\n",
    "shape3d = (nlay, nrow, ncol)\n",
    "ticklabels = np.arange(0, 10000, 2000)"
   ]
  },
  {
   "cell_type": "markdown",
   "id": "c8845d2e",
   "metadata": {},
   "source": [
    "Load the bottom"
   ]
  },
  {
   "cell_type": "code",
   "execution_count": null,
   "id": "75ad8278",
   "metadata": {},
   "outputs": [],
   "source": [
    "fpth = os.path.join(\"..\", \"data\", sim_name, \"bottom.txt\")\n",
    "botm = np.loadtxt(fpth).reshape(shape3d)"
   ]
  },
  {
   "cell_type": "markdown",
   "id": "eb6d7af9",
   "metadata": {},
   "source": [
    "Set the starting heads"
   ]
  },
  {
   "cell_type": "code",
   "execution_count": null,
   "id": "68a0d1be",
   "metadata": {},
   "outputs": [],
   "source": [
    "strt = botm + 20.0"
   ]
  },
  {
   "cell_type": "markdown",
   "id": "8a302a8b",
   "metadata": {},
   "source": [
    "Load the high recharge rate"
   ]
  },
  {
   "cell_type": "code",
   "execution_count": null,
   "id": "ebba19a7",
   "metadata": {},
   "outputs": [],
   "source": [
    "fpth = os.path.join(\"..\", \"data\", sim_name, \"recharge_high.txt\")\n",
    "rch_high = np.loadtxt(fpth)"
   ]
  },
  {
   "cell_type": "markdown",
   "id": "813481f9",
   "metadata": {},
   "source": [
    "Generate the low recharge rate from the high recharge rate"
   ]
  },
  {
   "cell_type": "code",
   "execution_count": null,
   "id": "ffb19a10",
   "metadata": {},
   "outputs": [],
   "source": [
    "rch_low = rch_high.copy() * 1e-3"
   ]
  },
  {
   "cell_type": "code",
   "execution_count": null,
   "id": "4f769154",
   "metadata": {},
   "outputs": [],
   "source": [
    "# Constant head boundary conditions\n",
    "chd_spd = [\n",
    "    [0, i, ncol - 1, H1]\n",
    "    for i in (\n",
    "        45,\n",
    "        46,\n",
    "        47,\n",
    "    )\n",
    "]"
   ]
  },
  {
   "cell_type": "markdown",
   "id": "6fabaf15",
   "metadata": {},
   "source": [
    "Solver parameters"
   ]
  },
  {
   "cell_type": "code",
   "execution_count": null,
   "id": "19abb81b",
   "metadata": {},
   "outputs": [],
   "source": [
    "nouter = 500\n",
    "ninner = 500\n",
    "hclose = 1e-9\n",
    "rclose = 1e-6"
   ]
  },
  {
   "cell_type": "markdown",
   "id": "b42302c5",
   "metadata": {
    "lines_to_next_cell": 2
   },
   "source": [
    "### Functions to build, write, run, and plot the model\n",
    "\n",
    "MODFLOW 6 flopy simulation object (sim) is returned if building the model"
   ]
  },
  {
   "cell_type": "code",
   "execution_count": null,
   "id": "eccad508",
   "metadata": {
    "lines_to_next_cell": 2
   },
   "outputs": [],
   "source": [
    "def build_model(\n",
    "    name,\n",
    "    recharge=\"high\",\n",
    "):\n",
    "    if config.buildModel:\n",
    "        sim_ws = os.path.join(ws, name)\n",
    "        sim = flopy.mf6.MFSimulation(\n",
    "            sim_name=sim_name, sim_ws=sim_ws, exe_name=\"mf6\"\n",
    "        )\n",
    "        flopy.mf6.ModflowTdis(sim, nper=nper, perioddata=tdis_ds, time_units=time_units)\n",
    "        flopy.mf6.ModflowIms(\n",
    "            sim,\n",
    "            print_option=\"all\",\n",
    "            complexity=\"simple\",\n",
    "            linear_acceleration=\"bicgstab\",\n",
    "            outer_maximum=nouter,\n",
    "            outer_dvclose=hclose,\n",
    "            inner_maximum=ninner,\n",
    "            inner_dvclose=hclose,\n",
    "            rcloserecord=rclose,\n",
    "        )\n",
    "        gwf = flopy.mf6.ModflowGwf(\n",
    "            sim,\n",
    "            modelname=sim_name,\n",
    "            newtonoptions=\"newton under_relaxation\",\n",
    "        )\n",
    "        flopy.mf6.ModflowGwfdis(\n",
    "            gwf,\n",
    "            length_units=length_units,\n",
    "            nlay=nlay,\n",
    "            nrow=nrow,\n",
    "            ncol=ncol,\n",
    "            delr=delr,\n",
    "            delc=delc,\n",
    "            top=top,\n",
    "            botm=botm,\n",
    "        )\n",
    "        flopy.mf6.ModflowGwfnpf(\n",
    "            gwf,\n",
    "            icelltype=1,\n",
    "            k=k11,\n",
    "        )\n",
    "        flopy.mf6.ModflowGwfic(gwf, strt=strt)\n",
    "        flopy.mf6.ModflowGwfchd(gwf, stress_period_data=chd_spd)\n",
    "\n",
    "        if recharge == \"high\":\n",
    "            rch = rch_high\n",
    "        elif recharge == \"low\":\n",
    "            rch = rch_low\n",
    "        flopy.mf6.ModflowGwfrcha(gwf, recharge=rch)\n",
    "\n",
    "        head_filerecord = f\"{sim_name}.hds\"\n",
    "        flopy.mf6.ModflowGwfoc(\n",
    "            gwf,\n",
    "            head_filerecord=head_filerecord,\n",
    "            saverecord=[(\"HEAD\", \"ALL\")],\n",
    "        )\n",
    "        return sim\n",
    "    return None"
   ]
  },
  {
   "cell_type": "markdown",
   "id": "09375a7d",
   "metadata": {
    "lines_to_next_cell": 2
   },
   "source": [
    "Function to write MODFLOW-NWT Problem 3 model files"
   ]
  },
  {
   "cell_type": "code",
   "execution_count": null,
   "id": "6e651412",
   "metadata": {
    "lines_to_next_cell": 2
   },
   "outputs": [],
   "source": [
    "def write_model(sim, silent=True):\n",
    "    if config.writeModel:\n",
    "        sim.write_simulation(silent=silent)"
   ]
  },
  {
   "cell_type": "markdown",
   "id": "bd71fab2",
   "metadata": {
    "lines_to_next_cell": 2
   },
   "source": [
    "Function to run the model. True is returned if the model runs successfully.\n"
   ]
  },
  {
   "cell_type": "code",
   "execution_count": null,
   "id": "60793b8c",
   "metadata": {
    "lines_to_next_cell": 2
   },
   "outputs": [],
   "source": [
    "@config.timeit\n",
    "def run_model(sim, silent=True):\n",
    "    success = True\n",
    "    if config.runModel:\n",
    "        success, buff = sim.run_simulation(silent=silent)\n",
    "        if not success:\n",
    "            print(buff)\n",
    "\n",
    "    return success"
   ]
  },
  {
   "cell_type": "markdown",
   "id": "39de0da6",
   "metadata": {
    "lines_to_next_cell": 2
   },
   "source": [
    "Function to create a figure"
   ]
  },
  {
   "cell_type": "code",
   "execution_count": null,
   "id": "8fea6baa",
   "metadata": {
    "lines_to_next_cell": 2
   },
   "outputs": [],
   "source": [
    "def create_figure(nsubs=1, size=(4, 4)):\n",
    "    fig = plt.figure(figsize=size, constrained_layout=False)\n",
    "    gs = mpl.gridspec.GridSpec(ncols=10, nrows=7, figure=fig, wspace=5)\n",
    "    plt.axis(\"off\")\n",
    "\n",
    "    axes = []\n",
    "    if nsubs == 1:\n",
    "        axes.append(fig.add_subplot(gs[:5, :]))\n",
    "    elif nsubs == 2:\n",
    "        axes.append(fig.add_subplot(gs[:6, :5]))\n",
    "        axes.append(fig.add_subplot(gs[:6, 5:], sharey=axes[0]))\n",
    "\n",
    "    for ax in axes:\n",
    "        ax.set_xlim(extents[:2])\n",
    "        ax.set_ylim(extents[2:])\n",
    "        ax.set_aspect(\"equal\")\n",
    "        ax.set_xticks(ticklabels)\n",
    "        ax.set_yticks(ticklabels)\n",
    "\n",
    "    # legend axis\n",
    "    axes.append(fig.add_subplot(gs[5:, :]))\n",
    "\n",
    "    # set limits for legend area\n",
    "    ax = axes[-1]\n",
    "    ax.set_xlim(0, 1)\n",
    "    ax.set_ylim(0, 1)\n",
    "\n",
    "    # get rid of ticks and spines for legend area\n",
    "    ax.axis(\"off\")\n",
    "    ax.set_xticks([])\n",
    "    ax.set_yticks([])\n",
    "    ax.spines[\"top\"].set_color(\"none\")\n",
    "    ax.spines[\"bottom\"].set_color(\"none\")\n",
    "    ax.spines[\"left\"].set_color(\"none\")\n",
    "    ax.spines[\"right\"].set_color(\"none\")\n",
    "    ax.patch.set_alpha(0.0)\n",
    "\n",
    "    return fig, axes"
   ]
  },
  {
   "cell_type": "markdown",
   "id": "d0e821ee",
   "metadata": {
    "lines_to_next_cell": 2
   },
   "source": [
    "Function to plot the grid"
   ]
  },
  {
   "cell_type": "code",
   "execution_count": null,
   "id": "7aa12756",
   "metadata": {},
   "outputs": [],
   "source": [
    "def plot_grid(gwf, silent=True):\n",
    "    verbose = not silent\n",
    "    fs = USGSFigure(figure_type=\"map\", verbose=verbose)\n",
    "\n",
    "    bot = gwf.dis.botm.array\n",
    "\n",
    "    fig, axes = create_figure(size=(3.15, 4))\n",
    "    ax = axes[0]\n",
    "    mm = flopy.plot.PlotMapView(gwf, ax=ax, extent=extents)\n",
    "    bot_coll = mm.plot_array(bot, vmin=bmin, vmax=bmax)\n",
    "    mm.plot_bc(\"CHD\", color=\"cyan\")\n",
    "    cv = mm.contour_array(\n",
    "        bot,\n",
    "        levels=blevels,\n",
    "        linewidths=0.5,\n",
    "        linestyles=\"-\",\n",
    "        colors=bcolor,\n",
    "    )\n",
    "    plt.clabel(cv, fmt=\"%1.0f\")\n",
    "    ax.set_xlabel(\"x-coordinate, in meters\")\n",
    "    ax.set_ylabel(\"y-coordinate, in meters\")\n",
    "    fs.remove_edge_ticks(ax)\n",
    "\n",
    "    # legend\n",
    "    ax = axes[1]\n",
    "    ax.plot(\n",
    "        -10000,\n",
    "        -10000,\n",
    "        lw=0,\n",
    "        marker=\"s\",\n",
    "        ms=10,\n",
    "        mfc=\"cyan\",\n",
    "        mec=\"cyan\",\n",
    "        label=\"Constant Head\",\n",
    "    )\n",
    "    ax.plot(\n",
    "        -10000,\n",
    "        -10000,\n",
    "        lw=0.5,\n",
    "        ls=\"-\",\n",
    "        color=bcolor,\n",
    "        label=\"Bottom elevation contour, m\",\n",
    "    )\n",
    "    fs.graph_legend(ax, loc=\"center\", ncol=2)\n",
    "\n",
    "    cax = plt.axes([0.275, 0.125, 0.45, 0.025])\n",
    "    cbar = plt.colorbar(\n",
    "        bot_coll,\n",
    "        shrink=0.8,\n",
    "        orientation=\"horizontal\",\n",
    "        cax=cax,\n",
    "    )\n",
    "    cbar.ax.tick_params(size=0)\n",
    "    cbar.ax.set_xlabel(r\"Bottom Elevation, $m$\")\n",
    "\n",
    "    # save figure\n",
    "    if config.plotSave:\n",
    "        fpth = os.path.join(\n",
    "            \"..\",\n",
    "            \"figures\",\n",
    "            f\"{sim_name}-grid{config.figure_ext}\",\n",
    "        )\n",
    "        fig.savefig(fpth)\n",
    "\n",
    "    return"
   ]
  },
  {
   "cell_type": "code",
   "execution_count": null,
   "id": "3c0dd7cb",
   "metadata": {
    "lines_to_next_cell": 2
   },
   "outputs": [],
   "source": [
    "def plot_recharge(gwf, silent=True):\n",
    "    verbose = not silent\n",
    "    fs = USGSFigure(figure_type=\"map\", verbose=verbose)\n",
    "\n",
    "    fig, axes = create_figure(nsubs=2, size=figure_size)\n",
    "    ax = axes[0]\n",
    "    mm = flopy.plot.PlotMapView(gwf, ax=ax, extent=extents)\n",
    "    rch_coll = mm.plot_array(rch_high)\n",
    "    mm.plot_bc(\"CHD\", color=\"cyan\")\n",
    "    cv = mm.contour_array(\n",
    "        rch_high,\n",
    "        levels=[1e-6, 2e-6, 3e-6, 4e-6, 5e-6, 6e-6, 7e-6],\n",
    "        linewidths=0.5,\n",
    "        linestyles=\"-\",\n",
    "        colors=\"black\",\n",
    "    )\n",
    "    plt.clabel(cv, fmt=\"%1.0e\")\n",
    "    cbar = plt.colorbar(\n",
    "        rch_coll,\n",
    "        shrink=0.8,\n",
    "        orientation=\"horizontal\",\n",
    "        ax=ax,\n",
    "        format=\"%.0e\",\n",
    "    )\n",
    "    cbar.ax.tick_params(size=0)\n",
    "    cbar.ax.set_xlabel(r\"Recharge rate, $m/day$\")\n",
    "    ax.set_xlabel(\"x-coordinate, in meters\")\n",
    "    ax.set_ylabel(\"y-coordinate, in meters\")\n",
    "    fs.heading(ax, letter=\"A\")\n",
    "    fs.remove_edge_ticks(ax)\n",
    "\n",
    "    ax = axes[1]\n",
    "    mm = flopy.plot.PlotMapView(gwf, ax=ax, extent=extents)\n",
    "    rch_coll = mm.plot_array(rch_low)\n",
    "    mm.plot_bc(\"CHD\", color=\"cyan\")\n",
    "    cv = mm.contour_array(\n",
    "        rch_low,\n",
    "        levels=[1e-9, 2e-9, 3e-9, 4e-9, 5e-9, 6e-9, 7e-9],\n",
    "        linewidths=0.5,\n",
    "        linestyles=\"-\",\n",
    "        colors=\"black\",\n",
    "    )\n",
    "    plt.clabel(cv, fmt=\"%1.0e\")\n",
    "    cbar = plt.colorbar(\n",
    "        rch_coll,\n",
    "        shrink=0.8,\n",
    "        orientation=\"horizontal\",\n",
    "        ax=ax,\n",
    "        format=\"%.0e\",\n",
    "    )\n",
    "    cbar.ax.tick_params(size=0)\n",
    "    cbar.ax.set_xlabel(r\"Recharge rate, $m/day$\")\n",
    "    ax.set_xlabel(\"x-coordinate, in meters\")\n",
    "    fs.heading(ax, letter=\"B\")\n",
    "    fs.remove_edge_ticks(ax)\n",
    "\n",
    "    # legend\n",
    "    ax = axes[-1]\n",
    "    ax.plot(\n",
    "        -10000,\n",
    "        -10000,\n",
    "        lw=0,\n",
    "        marker=\"s\",\n",
    "        ms=10,\n",
    "        mfc=\"cyan\",\n",
    "        mec=\"cyan\",\n",
    "        label=\"Constant Head\",\n",
    "    )\n",
    "    ax.plot(\n",
    "        -10000,\n",
    "        -10000,\n",
    "        lw=0.5,\n",
    "        ls=\"-\",\n",
    "        color=bcolor,\n",
    "        label=r\"Recharge rate contour, $m/day$\",\n",
    "    )\n",
    "    fs.graph_legend(ax, loc=\"center\", ncol=2)\n",
    "\n",
    "    # save figure\n",
    "    if config.plotSave:\n",
    "        fpth = os.path.join(\n",
    "            \"..\",\n",
    "            \"figures\",\n",
    "            f\"{sim_name}-01{config.figure_ext}\",\n",
    "        )\n",
    "        fig.savefig(fpth)\n",
    "\n",
    "    return"
   ]
  },
  {
   "cell_type": "markdown",
   "id": "6335d872",
   "metadata": {
    "lines_to_next_cell": 2
   },
   "source": [
    "Function to plot the model results."
   ]
  },
  {
   "cell_type": "code",
   "execution_count": null,
   "id": "4a202b1b",
   "metadata": {
    "lines_to_next_cell": 2
   },
   "outputs": [],
   "source": [
    "def plot_results(idx, sim, silent=True):\n",
    "    verbose = not silent\n",
    "    if config.plotModel:\n",
    "        fs = USGSFigure(figure_type=\"map\", verbose=verbose)\n",
    "        name = list(parameters.keys())[idx]\n",
    "        sim_ws = os.path.join(ws, name)\n",
    "        gwf = sim.get_model(sim_name)\n",
    "\n",
    "        bot = gwf.dis.botm.array\n",
    "\n",
    "        if idx == 0:\n",
    "            plot_grid(gwf, silent=silent)\n",
    "            plot_recharge(gwf, silent=silent)\n",
    "\n",
    "        # create MODFLOW 6 head object\n",
    "        hobj = gwf.output.head()\n",
    "\n",
    "        # get times\n",
    "        times = hobj.get_times()\n",
    "\n",
    "        # extract heads and specific discharge\n",
    "        head = hobj.get_data(totim=times[0])\n",
    "        imask = head <= bot + 0.001\n",
    "        head[imask] = -1e30\n",
    "        sat_thick = head - botm\n",
    "        sat_thick[imask] = -1e30\n",
    "\n",
    "        # Create figure for simulation\n",
    "        fig, axes = create_figure(nsubs=2, size=figure_size)\n",
    "\n",
    "        ax = axes[0]\n",
    "        mm = flopy.plot.PlotMapView(gwf, ax=ax, extent=extents)\n",
    "        h_coll = mm.plot_array(\n",
    "            head, vmin=vmin, vmax=vmax, masked_values=masked_values, zorder=10\n",
    "        )\n",
    "        cv = mm.contour_array(\n",
    "            head,\n",
    "            masked_values=masked_values,\n",
    "            levels=vlevels,\n",
    "            linewidths=0.5,\n",
    "            linestyles=\"-\",\n",
    "            colors=vcolor,\n",
    "            zorder=10,\n",
    "        )\n",
    "        plt.clabel(cv, fmt=\"%1.0f\", zorder=10)\n",
    "        mm.plot_bc(\"CHD\", color=\"cyan\", zorder=11)\n",
    "        cbar = plt.colorbar(\n",
    "            h_coll,\n",
    "            shrink=0.8,\n",
    "            orientation=\"horizontal\",\n",
    "            ax=ax,\n",
    "            format=\"%.0f\",\n",
    "        )\n",
    "        cbar.ax.tick_params(size=0)\n",
    "        cbar.ax.set_xlabel(r\"Water level, $m$\")\n",
    "        ax.set_xlabel(\"x-coordinate, in meters\")\n",
    "        ax.set_ylabel(\"y-coordinate, in meters\")\n",
    "        fs.heading(ax, letter=\"A\")\n",
    "        fs.remove_edge_ticks(ax)\n",
    "\n",
    "        ax = axes[1]\n",
    "        mm = flopy.plot.PlotMapView(gwf, ax=ax, extent=extents)\n",
    "        s_coll = mm.plot_array(\n",
    "            sat_thick,\n",
    "            vmin=smin,\n",
    "            vmax=smax,\n",
    "            masked_values=masked_values,\n",
    "            zorder=10,\n",
    "        )\n",
    "        cv = mm.contour_array(\n",
    "            sat_thick,\n",
    "            masked_values=masked_values,\n",
    "            levels=slevels,\n",
    "            linewidths=0.5,\n",
    "            linestyles=\":\",\n",
    "            colors=scolor,\n",
    "            zorder=10,\n",
    "        )\n",
    "        plt.clabel(cv, fmt=\"%1.0f\", zorder=10)\n",
    "        mm.plot_bc(\"CHD\", color=\"cyan\", zorder=11)\n",
    "        cbar = plt.colorbar(\n",
    "            s_coll,\n",
    "            shrink=0.8,\n",
    "            orientation=\"horizontal\",\n",
    "            ax=ax,\n",
    "            format=\"%.0f\",\n",
    "        )\n",
    "        cbar.ax.tick_params(size=0)\n",
    "        cbar.ax.set_xlabel(r\"Saturated thickness, $m$\")\n",
    "        ax.set_xlabel(\"x-coordinate, in meters\")\n",
    "        # ax.set_ylabel(\"y-coordinate, in meters\")\n",
    "        fs.heading(ax, letter=\"B\")\n",
    "        fs.remove_edge_ticks(ax)\n",
    "\n",
    "        # create legend\n",
    "        ax = axes[-1]\n",
    "        ax.plot(\n",
    "            -10000,\n",
    "            -10000,\n",
    "            lw=0,\n",
    "            marker=\"s\",\n",
    "            ms=10,\n",
    "            mfc=\"cyan\",\n",
    "            mec=\"cyan\",\n",
    "            label=\"Constant Head\",\n",
    "        )\n",
    "        ax.plot(\n",
    "            -10000,\n",
    "            -10000,\n",
    "            lw=0.5,\n",
    "            ls=\"-\",\n",
    "            color=vcolor,\n",
    "            label=\"Head contour, m\",\n",
    "        )\n",
    "        ax.plot(\n",
    "            -10000,\n",
    "            -10000,\n",
    "            lw=0.5,\n",
    "            ls=\":\",\n",
    "            color=scolor,\n",
    "            label=\"Saturated thickness contour, m\",\n",
    "        )\n",
    "        fs.graph_legend(ax, loc=\"center\", ncol=3)\n",
    "\n",
    "        # save figure\n",
    "        if config.plotSave:\n",
    "            fpth = os.path.join(\n",
    "                \"..\",\n",
    "                \"figures\",\n",
    "                f\"{sim_name}-{idx + 2:02d}{config.figure_ext}\",\n",
    "            )\n",
    "            fig.savefig(fpth)"
   ]
  },
  {
   "cell_type": "markdown",
   "id": "bed0c60d",
   "metadata": {
    "lines_to_next_cell": 2
   },
   "source": [
    "Function that wraps all of the steps for MODFLOW-NWT Problem 3 model\n",
    "\n",
    "1. build_model,\n",
    "2. write_model,\n",
    "3. run_model, and\n",
    "4. plot_results.\n"
   ]
  },
  {
   "cell_type": "code",
   "execution_count": null,
   "id": "b2cd183d",
   "metadata": {},
   "outputs": [],
   "source": [
    "def simulation(idx, silent=True):\n",
    "    key = list(parameters.keys())[idx]\n",
    "    params = parameters[key].copy()\n",
    "\n",
    "    sim = build_model(key, **params)\n",
    "\n",
    "    write_model(sim, silent=silent)\n",
    "\n",
    "    success = run_model(sim, silent=silent)\n",
    "\n",
    "    if success:\n",
    "        plot_results(idx, sim, silent=silent)"
   ]
  },
  {
   "cell_type": "code",
   "execution_count": null,
   "id": "3abf6cce",
   "metadata": {},
   "outputs": [],
   "source": [
    "# nosetest - exclude block from this nosetest to the next nosetest\n",
    "def test_01():\n",
    "    simulation(0, silent=False)"
   ]
  },
  {
   "cell_type": "code",
   "execution_count": null,
   "id": "bd2096cd",
   "metadata": {},
   "outputs": [],
   "source": [
    "def test_02():\n",
    "    simulation(1, silent=False)"
   ]
  },
  {
   "cell_type": "markdown",
   "id": "e516cb1a",
   "metadata": {},
   "source": [
    "nosetest end"
   ]
  },
  {
   "cell_type": "code",
   "execution_count": null,
   "id": "773164f1",
   "metadata": {},
   "outputs": [],
   "source": [
    "if __name__ == \"__main__\":\n",
    "    # ### MODFLOW-NWT Problem 3 Simulation\n",
    "    #\n",
    "    # Simulated heads in the MODFLOW-NWT Problem 3 model with high recharge.\n",
    "\n",
    "    simulation(0)\n",
    "\n",
    "    # Simulated heads in the MODFLOW-NWT Problem 3 model with low recharge.\n",
    "\n",
    "    simulation(1)"
   ]
  }
 ],
 "metadata": {
  "jupytext": {
   "cell_metadata_filter": "-all",
   "main_language": "python",
   "notebook_metadata_filter": "-all"
  }
 },
 "nbformat": 4,
 "nbformat_minor": 5
}
