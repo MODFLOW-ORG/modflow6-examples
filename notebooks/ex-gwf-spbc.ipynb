{
 "cells": [
  {
   "cell_type": "markdown",
   "id": "fdcfb257",
   "metadata": {},
   "source": [
    "## SPBC example\n",
    "\n",
    "Periodic boundary condition problem is based on Laattoe and others (2014).\n",
    "A MODFLOW 6 GWF-GWF Exchange is used to connect the left column with the\n",
    "right column.\n"
   ]
  },
  {
   "cell_type": "markdown",
   "id": "1a3801fe",
   "metadata": {},
   "source": [
    "### SPBC Problem Setup\n",
    "\n",
    "Imports"
   ]
  },
  {
   "cell_type": "code",
   "execution_count": null,
   "id": "d32aa47a",
   "metadata": {},
   "outputs": [],
   "source": [
    "import os\n",
    "import sys"
   ]
  },
  {
   "cell_type": "code",
   "execution_count": null,
   "id": "f73e6edb",
   "metadata": {},
   "outputs": [],
   "source": [
    "import flopy\n",
    "import matplotlib.pyplot as plt\n",
    "import numpy as np"
   ]
  },
  {
   "cell_type": "markdown",
   "id": "da970088",
   "metadata": {},
   "source": [
    "Append to system path to include the common subdirectory"
   ]
  },
  {
   "cell_type": "code",
   "execution_count": null,
   "id": "dc33a7c5",
   "metadata": {},
   "outputs": [],
   "source": [
    "sys.path.append(os.path.join(\"..\", \"common\"))"
   ]
  },
  {
   "cell_type": "markdown",
   "id": "32074beb",
   "metadata": {},
   "source": [
    "import common functionality"
   ]
  },
  {
   "cell_type": "code",
   "execution_count": null,
   "id": "f34e9b55",
   "metadata": {},
   "outputs": [],
   "source": [
    "import config\n",
    "from figspecs import USGSFigure"
   ]
  },
  {
   "cell_type": "markdown",
   "id": "6c800f7d",
   "metadata": {},
   "source": [
    "Set default figure properties"
   ]
  },
  {
   "cell_type": "code",
   "execution_count": null,
   "id": "2f1d8f97",
   "metadata": {},
   "outputs": [],
   "source": [
    "figure_size = (6, 4)"
   ]
  },
  {
   "cell_type": "markdown",
   "id": "0f4c10e6",
   "metadata": {},
   "source": [
    "Base simulation and model name and workspace"
   ]
  },
  {
   "cell_type": "code",
   "execution_count": null,
   "id": "ef507e3f",
   "metadata": {},
   "outputs": [],
   "source": [
    "ws = config.base_ws"
   ]
  },
  {
   "cell_type": "markdown",
   "id": "684ee581",
   "metadata": {},
   "source": [
    "Simulation name"
   ]
  },
  {
   "cell_type": "code",
   "execution_count": null,
   "id": "42703b60",
   "metadata": {},
   "outputs": [],
   "source": [
    "sim_name = \"ex-gwf-spbc\""
   ]
  },
  {
   "cell_type": "markdown",
   "id": "a53c291e",
   "metadata": {},
   "source": [
    "Model units"
   ]
  },
  {
   "cell_type": "code",
   "execution_count": null,
   "id": "feb4a017",
   "metadata": {},
   "outputs": [],
   "source": [
    "length_units = \"meters\"\n",
    "time_units = \"days\""
   ]
  },
  {
   "cell_type": "markdown",
   "id": "d95bcfe8",
   "metadata": {},
   "source": [
    "Table SPBC Model Parameters"
   ]
  },
  {
   "cell_type": "code",
   "execution_count": null,
   "id": "d49d9c9c",
   "metadata": {},
   "outputs": [],
   "source": [
    "nper = 1  # Number of periods\n",
    "nlay = 190  # Number of layers\n",
    "ncol = 100  # Number of columns\n",
    "nrow = 1  # Number of rows\n",
    "delr = 0.06  # Column width ($m$)\n",
    "delc = 1.0  # Row width ($m$)\n",
    "delv = 0.03  # Layer thickness ($m$)\n",
    "top = 0.0  # Top of the model ($m$)\n",
    "strt = 0.0  # Starting head ($m$)\n",
    "icelltype = 0  # Cell conversion type\n",
    "hydraulic_conductivity = 1.0  # Horizontal hydraulic conductivity ($m/d$)"
   ]
  },
  {
   "cell_type": "markdown",
   "id": "66bdd9ba",
   "metadata": {},
   "source": [
    "Static temporal data used by TDIS file\n",
    "Simulation has 1 steady stress period (1 day)\n",
    "and 3 transient stress periods (10 days each).\n",
    "Each transient stress period has 120 2-hour time steps."
   ]
  },
  {
   "cell_type": "code",
   "execution_count": null,
   "id": "49c6a9f7",
   "metadata": {},
   "outputs": [],
   "source": [
    "perlen = [1.0]\n",
    "nstp = [1]\n",
    "tsmult = [1.0]\n",
    "tdis_ds = list(zip(perlen, nstp, tsmult))"
   ]
  },
  {
   "cell_type": "markdown",
   "id": "de270abb",
   "metadata": {},
   "source": [
    "assign botm"
   ]
  },
  {
   "cell_type": "code",
   "execution_count": null,
   "id": "82b3b769",
   "metadata": {},
   "outputs": [],
   "source": [
    "botm = [top - k * delv for k in range(1, nlay + 1)]"
   ]
  },
  {
   "cell_type": "markdown",
   "id": "a2c8add1",
   "metadata": {},
   "source": [
    "Solver parameters"
   ]
  },
  {
   "cell_type": "code",
   "execution_count": null,
   "id": "0eb818b6",
   "metadata": {},
   "outputs": [],
   "source": [
    "nouter = 50\n",
    "ninner = 100\n",
    "hclose = 1e-9\n",
    "rclose = 1e-6"
   ]
  },
  {
   "cell_type": "markdown",
   "id": "c4ddcd0f",
   "metadata": {
    "lines_to_next_cell": 2
   },
   "source": [
    "### Functions to build, write, run, and plot the MODFLOW 6 SPBC model\n",
    "\n",
    "MODFLOW 6 flopy simulation object (sim) is returned if building the model"
   ]
  },
  {
   "cell_type": "code",
   "execution_count": null,
   "id": "9785f996",
   "metadata": {
    "lines_to_next_cell": 2
   },
   "outputs": [],
   "source": [
    "def build_model():\n",
    "    if config.buildModel:\n",
    "        sim_ws = os.path.join(ws, sim_name)\n",
    "        sim = flopy.mf6.MFSimulation(\n",
    "            sim_name=sim_name, sim_ws=sim_ws, exe_name=\"mf6\"\n",
    "        )\n",
    "        flopy.mf6.ModflowTdis(sim, nper=nper, perioddata=tdis_ds, time_units=time_units)\n",
    "        flopy.mf6.ModflowIms(\n",
    "            sim,\n",
    "            outer_maximum=nouter,\n",
    "            outer_dvclose=hclose,\n",
    "            inner_maximum=ninner,\n",
    "            inner_dvclose=hclose,\n",
    "            rcloserecord=f\"{rclose} strict\",\n",
    "        )\n",
    "        gwf = flopy.mf6.ModflowGwf(sim, modelname=sim_name, save_flows=True)\n",
    "        flopy.mf6.ModflowGwfdis(\n",
    "            gwf,\n",
    "            length_units=length_units,\n",
    "            nlay=nlay,\n",
    "            nrow=nrow,\n",
    "            ncol=ncol,\n",
    "            delr=delr,\n",
    "            delc=delc,\n",
    "            top=top,\n",
    "            botm=botm,\n",
    "        )\n",
    "        ihc, cl1, cl2, hwva = 1, delr / 2.0, delr / 2.0, delc\n",
    "        angldegx = 90.0\n",
    "        cdist = delr\n",
    "        exgdata = [\n",
    "            [(k, 0, 0), (k, 0, ncol - 1), ihc, cl1, cl2, hwva, angldegx, cdist]\n",
    "            for k in range(nlay)\n",
    "        ]\n",
    "        exg = flopy.mf6.ModflowGwfgwf(\n",
    "            sim,\n",
    "            exgtype=\"GWF6-GWF6\",\n",
    "            nexg=len(exgdata),\n",
    "            auxiliary=[\"ANGLDEGX\", \"CDIST\"],\n",
    "            exgmnamea=sim_name,\n",
    "            exgmnameb=sim_name,\n",
    "            exchangedata=exgdata,\n",
    "        )\n",
    "        flopy.mf6.ModflowGwfnpf(\n",
    "            gwf,\n",
    "            icelltype=icelltype,\n",
    "            k=hydraulic_conductivity,\n",
    "            save_specific_discharge=True,\n",
    "        )\n",
    "        flopy.mf6.ModflowGwfic(gwf, strt=strt)\n",
    "\n",
    "        hm = 1.0\n",
    "        lmbda = ncol * delr\n",
    "        wv = 2 * np.pi / lmbda\n",
    "        x = gwf.modelgrid.xcellcenters\n",
    "        chd_head = hm * np.sin(wv * x)\n",
    "        chd_spd = []\n",
    "        for j in range(ncol):\n",
    "            chd_spd.append([0, 0, j, chd_head[0, j]])\n",
    "        flopy.mf6.ModflowGwfchd(\n",
    "            gwf,\n",
    "            stress_period_data=chd_spd,\n",
    "            pname=\"CHD\",\n",
    "        )\n",
    "        head_filerecord = f\"{sim_name}.hds\"\n",
    "        budget_filerecord = f\"{sim_name}.cbc\"\n",
    "        flopy.mf6.ModflowGwfoc(\n",
    "            gwf,\n",
    "            head_filerecord=head_filerecord,\n",
    "            budget_filerecord=budget_filerecord,\n",
    "            saverecord=[(\"HEAD\", \"ALL\"), (\"BUDGET\", \"ALL\")],\n",
    "        )\n",
    "        return sim\n",
    "    return None"
   ]
  },
  {
   "cell_type": "markdown",
   "id": "22c3922f",
   "metadata": {
    "lines_to_next_cell": 2
   },
   "source": [
    "Function to write MODFLOW 6 SPBC model files"
   ]
  },
  {
   "cell_type": "code",
   "execution_count": null,
   "id": "bfe607a5",
   "metadata": {
    "lines_to_next_cell": 2
   },
   "outputs": [],
   "source": [
    "def write_model(sim, silent=True):\n",
    "    if config.writeModel:\n",
    "        sim.write_simulation(silent=silent)"
   ]
  },
  {
   "cell_type": "markdown",
   "id": "a1c921a1",
   "metadata": {
    "lines_to_next_cell": 2
   },
   "source": [
    "Function to run the SPBC model.\n",
    "True is returned if the model runs successfully\n"
   ]
  },
  {
   "cell_type": "code",
   "execution_count": null,
   "id": "c92b3b14",
   "metadata": {},
   "outputs": [],
   "source": [
    "@config.timeit\n",
    "def run_model(sim, silent=False):\n",
    "    success = True\n",
    "    if config.runModel:\n",
    "        success, buff = sim.run_simulation(silent=silent, report=True)\n",
    "        if not success:\n",
    "            print(buff)\n",
    "    return success"
   ]
  },
  {
   "cell_type": "code",
   "execution_count": null,
   "id": "1c6cef63",
   "metadata": {},
   "outputs": [],
   "source": [
    "# Function to plot the SPBC model results.\n",
    "#\n",
    "def plot_grid(sim):\n",
    "    fs = USGSFigure(figure_type=\"map\", verbose=False)\n",
    "    sim_ws = os.path.join(ws, sim_name)\n",
    "    gwf = sim.get_model(sim_name)\n",
    "\n",
    "    fig = plt.figure(figsize=figure_size)\n",
    "    fig.tight_layout()\n",
    "\n",
    "    # create MODFLOW 6 head object\n",
    "    head = gwf.output.head().get_data()\n",
    "\n",
    "    # create MODFLOW 6 cell-by-cell budget object\n",
    "    qx, qy, qz = flopy.utils.postprocessing.get_specific_discharge(\n",
    "        gwf.output.budget().get_data(text=\"DATA-SPDIS\", totim=1.0)[0],\n",
    "        gwf,\n",
    "    )\n",
    "\n",
    "    ax = fig.add_subplot(1, 1, 1, aspect=\"equal\")\n",
    "    pxs = flopy.plot.PlotCrossSection(model=gwf, ax=ax, line={\"row\": 0})\n",
    "    # pxs.plot_grid()\n",
    "    pxs.plot_bc(name=\"CHD\")\n",
    "    pxs.plot_array(head, cmap=\"jet\")\n",
    "    levels = np.arange(-1, 1, 0.1)\n",
    "    cs = pxs.contour_array(\n",
    "        head, levels=levels, colors=\"k\", linewidths=1.0, linestyles=\"-\"\n",
    "    )\n",
    "    pxs.plot_vector(qx, qy, qz, normalize=False, kstep=5, hstep=5)\n",
    "    ax.set_xlabel(\"x position (m)\")\n",
    "    ax.set_ylabel(\"z position (m)\")\n",
    "    ax.set_ylim(-3, 0)\n",
    "    fs.remove_edge_ticks(ax)\n",
    "    plt.clabel(cs, fmt=\"%3.1f\", fontsize=5)\n",
    "\n",
    "    # save figure\n",
    "    if config.plotSave:\n",
    "        fpth = os.path.join(\"..\", \"figures\", f\"{sim_name}-grid{config.figure_ext}\")\n",
    "        fig.savefig(fpth)\n",
    "    return"
   ]
  },
  {
   "cell_type": "code",
   "execution_count": null,
   "id": "c1e3d58a",
   "metadata": {
    "lines_to_next_cell": 2
   },
   "outputs": [],
   "source": [
    "def plot_results(sim, silent=True):\n",
    "    if config.plotModel:\n",
    "        plot_grid(sim)\n",
    "    return"
   ]
  },
  {
   "cell_type": "markdown",
   "id": "f9c74ad8",
   "metadata": {
    "lines_to_next_cell": 2
   },
   "source": [
    "Function that wraps all of the steps for the SPBC model\n",
    "\n",
    "1. build_model,\n",
    "2. write_model,\n",
    "3. run_model, and\n",
    "4. plot_results.\n"
   ]
  },
  {
   "cell_type": "code",
   "execution_count": null,
   "id": "e0f1cfbc",
   "metadata": {},
   "outputs": [],
   "source": [
    "def simulation(silent=True):\n",
    "    sim = build_model()\n",
    "    write_model(sim, silent=silent)\n",
    "    success = run_model(sim, silent=silent)\n",
    "    if success:\n",
    "        plot_results(sim, silent=silent)"
   ]
  },
  {
   "cell_type": "code",
   "execution_count": null,
   "id": "c79f312f",
   "metadata": {},
   "outputs": [],
   "source": [
    "# nosetest - exclude block from this nosetest to the next nosetest\n",
    "def test_01():\n",
    "    simulation(silent=False)"
   ]
  },
  {
   "cell_type": "markdown",
   "id": "a421a4ce",
   "metadata": {},
   "source": [
    "nosetest end"
   ]
  },
  {
   "cell_type": "code",
   "execution_count": null,
   "id": "ba13d58f",
   "metadata": {},
   "outputs": [],
   "source": [
    "if __name__ == \"__main__\":\n",
    "    # ### SPBC Simulation\n",
    "    #\n",
    "    # Model grid and simulation results\n",
    "\n",
    "    simulation()"
   ]
  }
 ],
 "metadata": {
  "jupytext": {
   "cell_metadata_filter": "-all",
   "main_language": "python",
   "notebook_metadata_filter": "-all"
  }
 },
 "nbformat": 4,
 "nbformat_minor": 5
}
