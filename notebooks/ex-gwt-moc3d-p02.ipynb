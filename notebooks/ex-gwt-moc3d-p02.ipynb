{
 "cells": [
  {
   "cell_type": "markdown",
   "id": "dcacc938",
   "metadata": {
    "lines_to_next_cell": 2
   },
   "source": [
    "## Three-Dimensional Steady Flow with Transport\n",
    "\n",
    "MOC3D Problem 2\n",
    "\n"
   ]
  },
  {
   "cell_type": "markdown",
   "id": "63933e7d",
   "metadata": {},
   "source": [
    "### Three-Dimensional Steady Flow with Transport Problem Setup"
   ]
  },
  {
   "cell_type": "markdown",
   "id": "b06bca24",
   "metadata": {},
   "source": [
    "Imports"
   ]
  },
  {
   "cell_type": "code",
   "execution_count": null,
   "id": "4ec75141",
   "metadata": {},
   "outputs": [],
   "source": [
    "import os\n",
    "import sys\n",
    "import matplotlib.pyplot as plt\n",
    "import flopy\n",
    "import numpy as np"
   ]
  },
  {
   "cell_type": "markdown",
   "id": "f84389ae",
   "metadata": {},
   "source": [
    "Append to system path to include the common subdirectory"
   ]
  },
  {
   "cell_type": "code",
   "execution_count": null,
   "id": "de511689",
   "metadata": {},
   "outputs": [],
   "source": [
    "sys.path.append(os.path.join(\"..\", \"common\"))"
   ]
  },
  {
   "cell_type": "markdown",
   "id": "71d89a02",
   "metadata": {},
   "source": [
    "Import common functionality"
   ]
  },
  {
   "cell_type": "code",
   "execution_count": null,
   "id": "51c43b92",
   "metadata": {},
   "outputs": [],
   "source": [
    "import analytical\n",
    "import config\n",
    "from figspecs import USGSFigure"
   ]
  },
  {
   "cell_type": "code",
   "execution_count": null,
   "id": "39a9f044",
   "metadata": {},
   "outputs": [],
   "source": [
    "mf6exe = config.mf6_exe\n",
    "exe_name_mf = config.mf2005_exe\n",
    "exe_name_mt = config.mt3dms_exe"
   ]
  },
  {
   "cell_type": "markdown",
   "id": "017ba5d6",
   "metadata": {},
   "source": [
    "Set figure properties specific to this problem"
   ]
  },
  {
   "cell_type": "code",
   "execution_count": null,
   "id": "cd55fa26",
   "metadata": {},
   "outputs": [],
   "source": [
    "figure_size = (6, 4)"
   ]
  },
  {
   "cell_type": "markdown",
   "id": "388d7e76",
   "metadata": {},
   "source": [
    "Base simulation and model name and workspace"
   ]
  },
  {
   "cell_type": "code",
   "execution_count": null,
   "id": "b5e41f00",
   "metadata": {},
   "outputs": [],
   "source": [
    "ws = config.base_ws\n",
    "example_name = \"ex-gwt-moc3d-p02\""
   ]
  },
  {
   "cell_type": "markdown",
   "id": "27649cf3",
   "metadata": {},
   "source": [
    "Model units"
   ]
  },
  {
   "cell_type": "code",
   "execution_count": null,
   "id": "abad56b2",
   "metadata": {},
   "outputs": [],
   "source": [
    "length_units = \"m\"\n",
    "time_units = \"days\""
   ]
  },
  {
   "cell_type": "markdown",
   "id": "15c4ce82",
   "metadata": {},
   "source": [
    "Table of model parameters"
   ]
  },
  {
   "cell_type": "code",
   "execution_count": null,
   "id": "6f166f38",
   "metadata": {},
   "outputs": [],
   "source": [
    "nper = 1  # Number of periods\n",
    "nlay = 40  # Number of layers\n",
    "nrow = 12  # Number of rows\n",
    "ncol = 30  # Number of columns\n",
    "delr = 3  # Column width ($m$)\n",
    "delc = 0.5  # Row width ($m$)\n",
    "delv = 0.05  # Layer thickness ($m$)\n",
    "top = 0.0  # Top of the model ($m$)\n",
    "bottom = -2.0  # Model bottom elevation ($m$)\n",
    "velocity_x = 0.1  # Velocity in x-direction ($m d^{-1}$)\n",
    "hydraulic_conductivity = 0.0125  # Hydraulic conductivity ($m d^{-1}$)\n",
    "porosity = 0.25  # Porosity of mobile domain (unitless)\n",
    "alpha_l = 0.6  # Longitudinal dispersivity ($m$)\n",
    "alpha_th = 0.03  # Transverse horizontal dispersivity ($m$)\n",
    "alpha_tv = 0.006  # Transverse vertical dispersivity ($m$)\n",
    "total_time = 400.0  # Simulation time ($d$)\n",
    "solute_mass_flux = 2.5  # Solute mass flux ($g d^{-1}$)\n",
    "source_location = (1, 12, 8)  # Source location (layer, row, column)"
   ]
  },
  {
   "cell_type": "code",
   "execution_count": null,
   "id": "870cbc07",
   "metadata": {},
   "outputs": [],
   "source": [
    "botm = [-(k + 1) * delv for k in range(nlay)]\n",
    "specific_discharge = velocity_x * porosity\n",
    "source_location0 = tuple([idx - 1 for idx in source_location])"
   ]
  },
  {
   "cell_type": "markdown",
   "id": "7d7af478",
   "metadata": {
    "lines_to_next_cell": 2
   },
   "source": [
    "### Functions to build, write, run, and plot models\n",
    "\n",
    "MODFLOW 6 flopy GWF simulation object (sim) is returned\n"
   ]
  },
  {
   "cell_type": "code",
   "execution_count": null,
   "id": "d815a579",
   "metadata": {
    "lines_to_next_cell": 2
   },
   "outputs": [],
   "source": [
    "def build_mf6gwf(sim_folder):\n",
    "    print(\"Building mf6gwf model...{}\".format(sim_folder))\n",
    "    name = \"flow\"\n",
    "    sim_ws = os.path.join(ws, sim_folder, \"mf6gwf\")\n",
    "    sim = flopy.mf6.MFSimulation(\n",
    "        sim_name=name, sim_ws=sim_ws, exe_name=config.mf6_exe\n",
    "    )\n",
    "    tdis_ds = ((total_time, 1, 1.0),)\n",
    "    flopy.mf6.ModflowTdis(\n",
    "        sim, nper=nper, perioddata=tdis_ds, time_units=time_units\n",
    "    )\n",
    "    flopy.mf6.ModflowIms(sim, print_option=\"summary\", inner_maximum=300)\n",
    "    gwf = flopy.mf6.ModflowGwf(sim, modelname=name, save_flows=True)\n",
    "    flopy.mf6.ModflowGwfdis(\n",
    "        gwf,\n",
    "        length_units=length_units,\n",
    "        nlay=nlay,\n",
    "        nrow=nrow,\n",
    "        ncol=ncol,\n",
    "        delr=delr,\n",
    "        delc=delc,\n",
    "        top=top,\n",
    "        botm=botm,\n",
    "    )\n",
    "    flopy.mf6.ModflowGwfnpf(\n",
    "        gwf,\n",
    "        save_specific_discharge=True,\n",
    "        save_saturation=True,\n",
    "        icelltype=0,\n",
    "        k=hydraulic_conductivity,\n",
    "    )\n",
    "    flopy.mf6.ModflowGwfic(gwf, strt=0.0)\n",
    "    chdspd = []\n",
    "    welspd = []\n",
    "    for k in range(nlay):\n",
    "        for i in range(nrow):\n",
    "            rec = [(k, i, ncol - 1), 0.0]\n",
    "            chdspd.append(rec)\n",
    "            rec = [(k, i, 0), specific_discharge * delc * delv]\n",
    "            welspd.append(rec)\n",
    "    flopy.mf6.ModflowGwfchd(gwf, stress_period_data=chdspd)\n",
    "    flopy.mf6.ModflowGwfwel(gwf, stress_period_data=welspd)\n",
    "    head_filerecord = \"{}.hds\".format(name)\n",
    "    budget_filerecord = \"{}.bud\".format(name)\n",
    "    flopy.mf6.ModflowGwfoc(\n",
    "        gwf,\n",
    "        head_filerecord=head_filerecord,\n",
    "        budget_filerecord=budget_filerecord,\n",
    "        saverecord=[(\"HEAD\", \"ALL\"), (\"BUDGET\", \"ALL\")],\n",
    "    )\n",
    "    return sim"
   ]
  },
  {
   "cell_type": "markdown",
   "id": "adc5c759",
   "metadata": {
    "lines_to_next_cell": 2
   },
   "source": [
    "MODFLOW 6 flopy GWF simulation object (sim) is returned"
   ]
  },
  {
   "cell_type": "code",
   "execution_count": null,
   "id": "912a175a",
   "metadata": {},
   "outputs": [],
   "source": [
    "def build_mf6gwt(sim_folder):\n",
    "    print(\"Building mf6gwt model...{}\".format(sim_folder))\n",
    "    name = \"trans\"\n",
    "    sim_ws = os.path.join(ws, sim_folder, \"mf6gwt\")\n",
    "    sim = flopy.mf6.MFSimulation(\n",
    "        sim_name=name, sim_ws=sim_ws, exe_name=config.mf6_exe\n",
    "    )\n",
    "    tdis_ds = ((total_time, 400, 1.0),)\n",
    "    flopy.mf6.ModflowTdis(\n",
    "        sim, nper=nper, perioddata=tdis_ds, time_units=time_units\n",
    "    )\n",
    "    flopy.mf6.ModflowIms(sim, linear_acceleration=\"bicgstab\")\n",
    "    gwt = flopy.mf6.ModflowGwt(sim, modelname=name, save_flows=True)\n",
    "    flopy.mf6.ModflowGwtdis(\n",
    "        gwt,\n",
    "        length_units=length_units,\n",
    "        nlay=nlay,\n",
    "        nrow=nrow,\n",
    "        ncol=ncol,\n",
    "        delr=delr,\n",
    "        delc=delc,\n",
    "        top=top,\n",
    "        botm=botm,\n",
    "    )\n",
    "    flopy.mf6.ModflowGwtic(gwt, strt=0)\n",
    "    flopy.mf6.ModflowGwtmst(gwt, porosity=porosity)\n",
    "    flopy.mf6.ModflowGwtadv(gwt, scheme=\"TVD\")\n",
    "    flopy.mf6.ModflowGwtdsp(\n",
    "        gwt,\n",
    "        xt3d_off=True,\n",
    "        alh=alpha_l,\n",
    "        ath1=alpha_th,\n",
    "        ath2=alpha_tv,\n",
    "    )\n",
    "    pd = [\n",
    "        (\"GWFHEAD\", \"../mf6gwf/flow.hds\".format(), None),\n",
    "        (\"GWFBUDGET\", \"../mf6gwf/flow.bud\", None),\n",
    "    ]\n",
    "    flopy.mf6.ModflowGwtfmi(gwt, packagedata=pd)\n",
    "    sourcerecarray = [[]]\n",
    "    srcspd = [[source_location0, solute_mass_flux]]\n",
    "    flopy.mf6.ModflowGwtsrc(gwt, stress_period_data=srcspd)\n",
    "    flopy.mf6.ModflowGwtssm(gwt, sources=sourcerecarray)\n",
    "    obs_data = {\n",
    "        \"{}.obs.csv\".format(name): [\n",
    "            (\"SOURCELOC\", \"CONCENTRATION\", source_location0),\n",
    "        ],\n",
    "    }\n",
    "    obs_package = flopy.mf6.ModflowUtlobs(\n",
    "        gwt, digits=10, print_input=True, continuous=obs_data\n",
    "    )\n",
    "    flopy.mf6.ModflowGwtoc(\n",
    "        gwt,\n",
    "        budget_filerecord=\"{}.cbc\".format(name),\n",
    "        concentration_filerecord=\"{}.ucn\".format(name),\n",
    "        saverecord=[(\"CONCENTRATION\", \"ALL\"), (\"BUDGET\", \"LAST\")],\n",
    "        printrecord=[(\"CONCENTRATION\", \"LAST\"), (\"BUDGET\", \"LAST\")],\n",
    "    )\n",
    "    return sim"
   ]
  },
  {
   "cell_type": "code",
   "execution_count": null,
   "id": "29fa1231",
   "metadata": {
    "lines_to_next_cell": 2
   },
   "outputs": [],
   "source": [
    "def build_model(sim_name):\n",
    "    sims = None\n",
    "    if config.buildModel:\n",
    "        sim_mf6gwf = build_mf6gwf(sim_name)\n",
    "        sim_mf6gwt = build_mf6gwt(sim_name)\n",
    "        sims = (sim_mf6gwf, sim_mf6gwt)\n",
    "    return sims"
   ]
  },
  {
   "cell_type": "markdown",
   "id": "082dcd8e",
   "metadata": {
    "lines_to_next_cell": 2
   },
   "source": [
    "Function to write model files"
   ]
  },
  {
   "cell_type": "code",
   "execution_count": null,
   "id": "46b4fa20",
   "metadata": {
    "lines_to_next_cell": 2
   },
   "outputs": [],
   "source": [
    "def write_model(sims, silent=True):\n",
    "    if config.writeModel:\n",
    "        sim_mf6gwf, sim_mf6gwt = sims\n",
    "        sim_mf6gwf.write_simulation(silent=silent)\n",
    "        sim_mf6gwt.write_simulation(silent=silent)\n",
    "    return"
   ]
  },
  {
   "cell_type": "markdown",
   "id": "517fc0ae",
   "metadata": {
    "lines_to_next_cell": 2
   },
   "source": [
    "Function to run the model\n",
    "True is returned if the model runs successfully"
   ]
  },
  {
   "cell_type": "code",
   "execution_count": null,
   "id": "022d6f4e",
   "metadata": {
    "lines_to_next_cell": 2
   },
   "outputs": [],
   "source": [
    "@config.timeit\n",
    "def run_model(sims, silent=True):\n",
    "    success = True\n",
    "    if config.runModel:\n",
    "        success = False\n",
    "        sim_mf6gwf, sim_mf6gwt = sims\n",
    "        success, buff = sim_mf6gwf.run_simulation(silent=silent)\n",
    "        if not success:\n",
    "            print(buff)\n",
    "        success, buff = sim_mf6gwt.run_simulation(silent=silent)\n",
    "        if not success:\n",
    "            print(buff)\n",
    "    return success"
   ]
  },
  {
   "cell_type": "markdown",
   "id": "050864a2",
   "metadata": {
    "lines_to_next_cell": 2
   },
   "source": [
    "Function to plot the model results"
   ]
  },
  {
   "cell_type": "code",
   "execution_count": null,
   "id": "2810a5ab",
   "metadata": {},
   "outputs": [],
   "source": [
    "def plot_analytical(ax, levels):\n",
    "    n = porosity\n",
    "    v = velocity_x\n",
    "    al = alpha_l\n",
    "    ath = alpha_th\n",
    "    atv = alpha_tv\n",
    "    c0 = 10.0\n",
    "    xc = [22.5]\n",
    "    yc = [0]\n",
    "    zc = [0]\n",
    "    q = [1.0]\n",
    "    dx = v * al\n",
    "    dy = v * ath\n",
    "    dz = v * atv\n",
    "    lam = 0.0\n",
    "    x = np.arange(0 + delr / 2.0, ncol * delr + delr / 2.0, delr)\n",
    "    y = np.arange(0 + delc / 2.0, nrow * delc + delc / 2.0, delc)\n",
    "    x, y = np.meshgrid(x, y)\n",
    "    z = 0\n",
    "    t = 400.0\n",
    "    c400 = analytical.Wexler3d().multiwell(\n",
    "        x, y, z, t, v, xc, yc, zc, dx, dy, dz, n, q, lam, c0\n",
    "    )\n",
    "    cs = ax.contour(x, y, c400, levels=levels, colors=\"k\")\n",
    "    return cs"
   ]
  },
  {
   "cell_type": "code",
   "execution_count": null,
   "id": "cad214f5",
   "metadata": {
    "lines_to_next_cell": 2
   },
   "outputs": [],
   "source": [
    "def plot_results(sims):\n",
    "    if config.plotModel:\n",
    "        print(\"Plotting model results...\")\n",
    "        sim_mf6gwf, sim_mf6gwt = sims\n",
    "        fs = USGSFigure(figure_type=\"map\", verbose=False)\n",
    "\n",
    "        conc = sim_mf6gwt.trans.output.concentration().get_data()\n",
    "\n",
    "        fig, axs = plt.subplots(\n",
    "            1, 1, figsize=figure_size, dpi=300, tight_layout=True\n",
    "        )\n",
    "\n",
    "        gwt = sim_mf6gwt.trans\n",
    "        pmv = flopy.plot.PlotMapView(model=gwt, ax=axs)\n",
    "        levels = [1, 3, 10, 30, 100, 300]\n",
    "        cs1 = plot_analytical(axs, levels)\n",
    "        cs2 = pmv.contour_array(\n",
    "            conc, colors=\"blue\", linestyles=\"--\", levels=levels\n",
    "        )\n",
    "        axs.set_xlabel(\"x position (m)\")\n",
    "        axs.set_ylabel(\"y position (m)\")\n",
    "        axs.set_aspect(4.0)\n",
    "\n",
    "        labels = [\"Analytical\", \"MODFLOW 6\"]\n",
    "        lines = [cs1.collections[0], cs2.collections[0]]\n",
    "        axs.legend(lines, labels, loc=\"upper left\")\n",
    "\n",
    "        # save figure\n",
    "        if config.plotSave:\n",
    "            sim_ws = sim_mf6gwt.simulation_data.mfpath.get_sim_path()\n",
    "            sim_folder = os.path.split(sim_ws)[0]\n",
    "            sim_folder = os.path.basename(sim_folder)\n",
    "            fname = \"{}-map{}\".format(sim_folder, config.figure_ext)\n",
    "            fpth = os.path.join(ws, \"..\", \"figures\", fname)\n",
    "            fig.savefig(fpth)"
   ]
  },
  {
   "cell_type": "markdown",
   "id": "35cb8ec3",
   "metadata": {
    "lines_to_next_cell": 2
   },
   "source": [
    "Function that wraps all of the steps for each scenario\n",
    "\n",
    "1. build_model,\n",
    "2. write_model,\n",
    "3. run_model, and\n",
    "4. plot_results.\n"
   ]
  },
  {
   "cell_type": "code",
   "execution_count": null,
   "id": "6568c6c4",
   "metadata": {},
   "outputs": [],
   "source": [
    "def scenario(idx, silent=True):\n",
    "    sims = build_model(example_name)\n",
    "    write_model(sims, silent=silent)\n",
    "    success = run_model(sims, silent=silent)\n",
    "    if success:\n",
    "        plot_results(sims)"
   ]
  },
  {
   "cell_type": "code",
   "execution_count": null,
   "id": "79519e8a",
   "metadata": {},
   "outputs": [],
   "source": []
  },
  {
   "cell_type": "markdown",
   "id": "168a6d98",
   "metadata": {},
   "source": [
    "### Model"
   ]
  },
  {
   "cell_type": "markdown",
   "id": "1f2194f1",
   "metadata": {},
   "source": [
    "Model run"
   ]
  },
  {
   "cell_type": "code",
   "execution_count": null,
   "id": "c54b0382",
   "metadata": {},
   "outputs": [],
   "source": [
    "scenario(0)"
   ]
  }
 ],
 "metadata": {
  "jupytext": {
   "cell_metadata_filter": "-all",
   "main_language": "python",
   "notebook_metadata_filter": "-all"
  }
 },
 "nbformat": 4,
 "nbformat_minor": 5
}
