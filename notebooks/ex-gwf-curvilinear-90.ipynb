{
 "cells": [
  {
   "cell_type": "markdown",
   "id": "6fbb12a7",
   "metadata": {},
   "source": [
    "## Curvilinear example\n",
    "\n",
    "This example, ex-gwf-curvilinear, shows how the MODFLOW 6 DISV Package\n",
    "can be used to simulate a curvilinear models.\n",
    "\n",
    "The example corresponds to Figure 3d (lower-right) in:\n",
    "   Romero, D. M., & Silver, S. E. (2006).\n",
    "   Grid cell distortion and MODFLOW's integrated finite difference\n",
    "   numerical solution. Groundwater, 44(6), 797-802.\n",
    "\n",
    "And the numerical result is compared against the analytical solution\n",
    "presented in Equation 5.4 of\n",
    "   Crank, J. (1975). The mathematics of diffusion.\n",
    "   Oxford. England: Clarendon.\n",
    "The equation is transformed here to use head instead of concentration"
   ]
  },
  {
   "cell_type": "markdown",
   "id": "23f28237",
   "metadata": {},
   "source": [
    "Imports"
   ]
  },
  {
   "cell_type": "code",
   "execution_count": null,
   "id": "c97aca2b",
   "metadata": {},
   "outputs": [],
   "source": [
    "import os\n",
    "import sys\n",
    "import numpy as np\n",
    "import matplotlib.pyplot as plt\n",
    "import flopy\n",
    "from math import sqrt"
   ]
  },
  {
   "cell_type": "markdown",
   "id": "00936682",
   "metadata": {},
   "source": [
    "Append to system path to include the common subdirectory"
   ]
  },
  {
   "cell_type": "code",
   "execution_count": null,
   "id": "75744a52",
   "metadata": {},
   "outputs": [],
   "source": [
    "sys.path.append(os.path.join(\"..\", \"common\"))"
   ]
  },
  {
   "cell_type": "markdown",
   "id": "111bd326",
   "metadata": {},
   "source": [
    "import common functionality"
   ]
  },
  {
   "cell_type": "code",
   "execution_count": null,
   "id": "448dafee",
   "metadata": {},
   "outputs": [],
   "source": [
    "import config\n",
    "from figspecs import USGSFigure"
   ]
  },
  {
   "cell_type": "code",
   "execution_count": null,
   "id": "967acdf9",
   "metadata": {},
   "outputs": [],
   "source": [
    "from disv_curvilinear_builder import disv_curvilinear_builder"
   ]
  },
  {
   "cell_type": "code",
   "execution_count": null,
   "id": "57faafd6",
   "metadata": {},
   "outputs": [],
   "source": [
    "def analytical_model(r1, h1, r2, h2, r):\n",
    "    # Analytical model from Equation 5.4 of\n",
    "    #    Crank, J. (1975). The mathematics of diffusion.\n",
    "    #    Oxford. England: Clarendon.\n",
    "    num = h1 * np.log(r2 / r) + h2 * np.log(r / r1)\n",
    "    den = np.log(r2 / r1)\n",
    "    return num / den"
   ]
  },
  {
   "cell_type": "markdown",
   "id": "9a6dc31f",
   "metadata": {},
   "source": [
    "Set default figure properties"
   ]
  },
  {
   "cell_type": "code",
   "execution_count": null,
   "id": "16fc9c8d",
   "metadata": {},
   "outputs": [],
   "source": [
    "figure_size_grid = (6, 6)\n",
    "figure_size_head = (7, 6)\n",
    "figure_size_obsv = (6, 6)"
   ]
  },
  {
   "cell_type": "markdown",
   "id": "4a793403",
   "metadata": {},
   "source": [
    "Base simulation and model name and workspace"
   ]
  },
  {
   "cell_type": "code",
   "execution_count": null,
   "id": "403010a1",
   "metadata": {},
   "outputs": [],
   "source": [
    "ws = config.base_ws"
   ]
  },
  {
   "cell_type": "markdown",
   "id": "24670afe",
   "metadata": {},
   "source": [
    "Simulation name"
   ]
  },
  {
   "cell_type": "code",
   "execution_count": null,
   "id": "a4d25235",
   "metadata": {},
   "outputs": [],
   "source": [
    "sim_name = \"ex-gwf-curve-90\""
   ]
  },
  {
   "cell_type": "markdown",
   "id": "12722e64",
   "metadata": {},
   "source": [
    "Model units"
   ]
  },
  {
   "cell_type": "code",
   "execution_count": null,
   "id": "ec37262a",
   "metadata": {},
   "outputs": [],
   "source": [
    "length_units = \"feet\"\n",
    "time_units = \"days\""
   ]
  },
  {
   "cell_type": "markdown",
   "id": "4f63d223",
   "metadata": {},
   "source": [
    "Table Model Parameters"
   ]
  },
  {
   "cell_type": "code",
   "execution_count": null,
   "id": "16aa3d02",
   "metadata": {},
   "outputs": [],
   "source": [
    "_ = \"Steady-State\"  # Simulation Type\n",
    "nper = 1  # Number of periods\n",
    "_ = 1  # Number of time steps"
   ]
  },
  {
   "cell_type": "code",
   "execution_count": null,
   "id": "f03de6d8",
   "metadata": {},
   "outputs": [],
   "source": [
    "nlay = 1  # Number of layers\n",
    "nradial = 16  # Number of radial direction cells (radial bands)\n",
    "ncol = 18  # Number of columns in radial band (ncol)"
   ]
  },
  {
   "cell_type": "code",
   "execution_count": null,
   "id": "22f46585",
   "metadata": {},
   "outputs": [],
   "source": [
    "_ = \"0$^{\\circ}$\"  # Angle of column 1 boundary\n",
    "_ = \"90$^{\\circ}$\"  # Angle of column ncol boundary\n",
    "_ = \"5$^{\\circ}$\"  # Angle width of each column"
   ]
  },
  {
   "cell_type": "code",
   "execution_count": null,
   "id": "35161c9d",
   "metadata": {},
   "outputs": [],
   "source": [
    "r_inner = 4  # Model inner radius ($ft$)\n",
    "r_outer = 20  # Model outer radius ($ft$)\n",
    "r_width = 1  # Model radial band width ($ft$)"
   ]
  },
  {
   "cell_type": "code",
   "execution_count": null,
   "id": "60095e34",
   "metadata": {},
   "outputs": [],
   "source": [
    "surface_elevation = 10.0  # Top of the model ($ft$)\n",
    "model_base = 0.0  # Base of the model ($ft$)"
   ]
  },
  {
   "cell_type": "code",
   "execution_count": null,
   "id": "484c3c41",
   "metadata": {},
   "outputs": [],
   "source": [
    "Tran = 0.19  # Horizontal transmissivity ($ft^2/day$)\n",
    "k11 = 0.019  # Horizontal hydraulic conductivity ($ft/day$)"
   ]
  },
  {
   "cell_type": "code",
   "execution_count": null,
   "id": "5b2b7f67",
   "metadata": {},
   "outputs": [],
   "source": [
    "bc0 = 10  # Inner Constant Head Boundary ($ft$)\n",
    "_ = \"3.334\"  # Outer Constant Head Boundary ($ft$)"
   ]
  },
  {
   "cell_type": "code",
   "execution_count": null,
   "id": "6322e007",
   "metadata": {},
   "outputs": [],
   "source": [
    "# Input specified in table as text\n",
    "bc1 = bc0 / 3"
   ]
  },
  {
   "cell_type": "code",
   "execution_count": null,
   "id": "87da43f5",
   "metadata": {},
   "outputs": [],
   "source": [
    "angle_start = 0\n",
    "angle_stop = 90\n",
    "angle_step = 5"
   ]
  },
  {
   "cell_type": "markdown",
   "id": "6852dcbb",
   "metadata": {},
   "source": [
    "Radius for each radial band.\n",
    "  First value is inner radius, the remaining are outer radii"
   ]
  },
  {
   "cell_type": "code",
   "execution_count": null,
   "id": "fc74e876",
   "metadata": {},
   "outputs": [],
   "source": [
    "radii = np.arange(r_inner, r_outer + r_width, r_width)"
   ]
  },
  {
   "cell_type": "markdown",
   "id": "7ea3365b",
   "metadata": {},
   "source": [
    "Get the curvilinear model properties and vertices"
   ]
  },
  {
   "cell_type": "code",
   "execution_count": null,
   "id": "edb557ac",
   "metadata": {},
   "outputs": [],
   "source": [
    "curvlin = disv_curvilinear_builder(\n",
    "    nlay,\n",
    "    radii,\n",
    "    angle_start,\n",
    "    angle_stop,\n",
    "    angle_step,\n",
    "    surface_elevation=surface_elevation,\n",
    "    layer_thickness=surface_elevation,\n",
    "    single_center_cell=False,\n",
    ")"
   ]
  },
  {
   "cell_type": "markdown",
   "id": "ded07b51",
   "metadata": {},
   "source": [
    "Constant head boundary condition\n",
    "Constant head is located along the innermost radial band (rad = 0)\n",
    "and outermost radial band (rad = nradial-1)"
   ]
  },
  {
   "cell_type": "code",
   "execution_count": null,
   "id": "cf7321fe",
   "metadata": {},
   "outputs": [],
   "source": [
    "chd_inner = []\n",
    "chd_outer = []\n",
    "for lay in range(nlay):\n",
    "    for node in curvlin.iter_radial_nodes(rad=0):\n",
    "        chd_inner.append([(lay, node), bc0])\n",
    "for lay in range(nlay):\n",
    "    for node in curvlin.iter_radial_nodes(rad=nradial - 1):\n",
    "        chd_outer.append([(lay, node), bc1])"
   ]
  },
  {
   "cell_type": "code",
   "execution_count": null,
   "id": "a1a757ae",
   "metadata": {},
   "outputs": [],
   "source": [
    "chd_inner = {sp: chd_inner for sp in range(nper)}"
   ]
  },
  {
   "cell_type": "code",
   "execution_count": null,
   "id": "1dc38591",
   "metadata": {},
   "outputs": [],
   "source": [
    "chd_outer = {sp: chd_outer for sp in range(nper)}"
   ]
  },
  {
   "cell_type": "markdown",
   "id": "0c385b46",
   "metadata": {},
   "source": [
    "Static temporal data used by TDIS file\n",
    "Simulation is steady state so setup only a one day stress period."
   ]
  },
  {
   "cell_type": "code",
   "execution_count": null,
   "id": "2686cb33",
   "metadata": {},
   "outputs": [],
   "source": [
    "tdis_ds = ((1.0, 1, 1),)"
   ]
  },
  {
   "cell_type": "markdown",
   "id": "e7d9252d",
   "metadata": {},
   "source": [
    "Solver parameters"
   ]
  },
  {
   "cell_type": "code",
   "execution_count": null,
   "id": "25db3e55",
   "metadata": {
    "lines_to_next_cell": 2
   },
   "outputs": [],
   "source": [
    "nouter = 500\n",
    "ninner = 300\n",
    "hclose = 1e-4\n",
    "rclose = 1e-4"
   ]
  },
  {
   "cell_type": "markdown",
   "id": "6ed6debc",
   "metadata": {
    "lines_to_next_cell": 2
   },
   "source": [
    "### Functions to build, write, run, and plot the MODFLOW 6 Curvilinear Model\n",
    "\n",
    "MODFLOW 6 flopy simulation object (sim) is returned if building the model"
   ]
  },
  {
   "cell_type": "code",
   "execution_count": null,
   "id": "5aade551",
   "metadata": {
    "lines_to_next_cell": 2
   },
   "outputs": [],
   "source": [
    "def build_model(name):\n",
    "    if config.buildModel:\n",
    "        sim_ws = os.path.join(ws, name)\n",
    "        sim = flopy.mf6.MFSimulation(\n",
    "            sim_name=name, sim_ws=sim_ws, exe_name=\"mf6\"\n",
    "        )\n",
    "        flopy.mf6.ModflowTdis(\n",
    "            sim, nper=nper, perioddata=tdis_ds, time_units=time_units\n",
    "        )\n",
    "        flopy.mf6.ModflowIms(\n",
    "            sim,\n",
    "            print_option=\"summary\",\n",
    "            complexity=\"complex\",\n",
    "            outer_maximum=nouter,\n",
    "            outer_dvclose=hclose,\n",
    "            inner_maximum=ninner,\n",
    "            inner_dvclose=hclose,\n",
    "        )\n",
    "\n",
    "        gwf = flopy.mf6.ModflowGwf(sim, modelname=name, save_flows=True)\n",
    "\n",
    "        # **curvlin is an alias for **curvlin.disv_kw\n",
    "        disv = flopy.mf6.ModflowGwfdisv(\n",
    "            gwf, length_units=length_units, **curvlin\n",
    "        )\n",
    "\n",
    "        npf = flopy.mf6.ModflowGwfnpf(\n",
    "            gwf,\n",
    "            k=k11,\n",
    "            k33=k11,\n",
    "            save_flows=True,\n",
    "            save_specific_discharge=True,\n",
    "        )\n",
    "\n",
    "        flopy.mf6.ModflowGwfsto(\n",
    "            gwf,\n",
    "            iconvert=0,\n",
    "            steady_state=True,\n",
    "            save_flows=True,\n",
    "        )\n",
    "\n",
    "        flopy.mf6.ModflowGwfic(gwf, strt=surface_elevation)\n",
    "\n",
    "        flopy.mf6.ModflowGwfchd(\n",
    "            gwf,\n",
    "            stress_period_data=chd_inner,\n",
    "            pname=\"CHD-INNER\",\n",
    "            filename=f\"{sim_name}.inner.chd\",\n",
    "            save_flows=True,\n",
    "        )\n",
    "        flopy.mf6.ModflowGwfchd(\n",
    "            gwf,\n",
    "            stress_period_data=chd_outer,\n",
    "            pname=\"CHD-OUTER\",\n",
    "            filename=f\"{sim_name}.outer.chd\",\n",
    "            save_flows=True,\n",
    "        )\n",
    "\n",
    "        flopy.mf6.ModflowGwfoc(\n",
    "            gwf,\n",
    "            budget_filerecord=f\"{name}.cbc\",\n",
    "            head_filerecord=f\"{name}.hds\",\n",
    "            headprintrecord=[\n",
    "                (\"COLUMNS\", nradial, \"WIDTH\", 15, \"DIGITS\", 6, \"GENERAL\")\n",
    "            ],\n",
    "            saverecord=[(\"HEAD\", \"ALL\"), (\"BUDGET\", \"ALL\")],\n",
    "            printrecord=[(\"HEAD\", \"ALL\"), (\"BUDGET\", \"ALL\")],\n",
    "            filename=f\"{name}.oc\",\n",
    "        )\n",
    "\n",
    "        return sim\n",
    "    return None"
   ]
  },
  {
   "cell_type": "markdown",
   "id": "300a237b",
   "metadata": {
    "lines_to_next_cell": 2
   },
   "source": [
    "Function to write model files"
   ]
  },
  {
   "cell_type": "code",
   "execution_count": null,
   "id": "d7f8ec4d",
   "metadata": {
    "lines_to_next_cell": 2
   },
   "outputs": [],
   "source": [
    "def write_model(sim, silent=True):\n",
    "    if config.writeModel:\n",
    "        sim.write_simulation(silent=silent)"
   ]
  },
  {
   "cell_type": "markdown",
   "id": "b6ed4d2c",
   "metadata": {
    "lines_to_next_cell": 2
   },
   "source": [
    "Function to run the curvilinear model.\n",
    "True is returned if the model runs successfully."
   ]
  },
  {
   "cell_type": "code",
   "execution_count": null,
   "id": "fd631fbb",
   "metadata": {
    "lines_to_next_cell": 2
   },
   "outputs": [],
   "source": [
    "@config.timeit\n",
    "def run_model(sim, silent=True):\n",
    "    success = True\n",
    "    if config.runModel:\n",
    "        success, buff = sim.run_simulation(silent=silent, report=True)\n",
    "        if not success:\n",
    "            print(\"\\n\".join(buff))\n",
    "\n",
    "    return success"
   ]
  },
  {
   "cell_type": "markdown",
   "id": "8fe64638",
   "metadata": {
    "lines_to_next_cell": 2
   },
   "source": [
    "Function to plot the curvilinear model grid."
   ]
  },
  {
   "cell_type": "code",
   "execution_count": null,
   "id": "ae626c82",
   "metadata": {
    "lines_to_next_cell": 2
   },
   "outputs": [],
   "source": [
    "def plot_grid(sim, verbose=False):\n",
    "    fs = USGSFigure(figure_type=\"map\", verbose=verbose)\n",
    "    gwf = sim.get_model(sim_name)\n",
    "\n",
    "    fig = plt.figure(figsize=figure_size_grid)\n",
    "\n",
    "    ax = fig.add_subplot(1, 1, 1, aspect=\"equal\")\n",
    "    pmv = flopy.plot.PlotMapView(model=gwf, ax=ax, layer=0)\n",
    "    pmv.plot_grid()\n",
    "    pmv.plot_bc(name=\"CHD-INNER\", alpha=0.75, color=\"blue\")\n",
    "    pmv.plot_bc(name=\"CHD-OUTER\", alpha=0.75, color=\"blue\")\n",
    "    ax.set_xlabel(\"x position (ft)\")\n",
    "    ax.set_ylabel(\"y position (ft)\")\n",
    "    for i, (x, y) in enumerate(\n",
    "        zip(gwf.modelgrid.xcellcenters, gwf.modelgrid.ycellcenters)\n",
    "    ):\n",
    "        ax.text(\n",
    "            x,\n",
    "            y,\n",
    "            f\"{i + 1}\",\n",
    "            fontsize=6,\n",
    "            horizontalalignment=\"center\",\n",
    "            verticalalignment=\"center\",\n",
    "        )\n",
    "    v = gwf.disv.vertices.array\n",
    "    ax.plot(v[\"xv\"], v[\"yv\"], \"yo\")\n",
    "    for i in range(v.shape[0]):\n",
    "        x, y = v[\"xv\"][i], v[\"yv\"][i]\n",
    "        ax.text(\n",
    "            x,\n",
    "            y,\n",
    "            f\"{i + 1}\",\n",
    "            fontsize=5,\n",
    "            color=\"red\",\n",
    "            horizontalalignment=\"center\",\n",
    "            verticalalignment=\"center\",\n",
    "        )\n",
    "\n",
    "    fig.tight_layout()\n",
    "\n",
    "    # save figure\n",
    "    if config.plotSave:\n",
    "        fpth = os.path.join(\n",
    "            \"..\", \"figures\", f\"{sim_name}-grid{config.figure_ext}\"\n",
    "        )\n",
    "        fig.savefig(fpth)\n",
    "    return"
   ]
  },
  {
   "cell_type": "markdown",
   "id": "252b3062",
   "metadata": {
    "lines_to_next_cell": 2
   },
   "source": [
    "Function to plot the curvilinear model results."
   ]
  },
  {
   "cell_type": "code",
   "execution_count": null,
   "id": "dae419e7",
   "metadata": {},
   "outputs": [],
   "source": [
    "def plot_head(sim):\n",
    "    fs = USGSFigure(figure_type=\"map\", verbose=False)\n",
    "    gwf = sim.get_model(sim_name)\n",
    "\n",
    "    fig = plt.figure(figsize=figure_size_head)\n",
    "\n",
    "    head = gwf.output.head().get_data()[:, 0, :]\n",
    "\n",
    "    # create MODFLOW 6 cell-by-cell budget object\n",
    "    qx, qy, qz = flopy.utils.postprocessing.get_specific_discharge(\n",
    "        gwf.output.budget().get_data(text=\"DATA-SPDIS\", totim=1.0)[0],\n",
    "        gwf,\n",
    "    )\n",
    "\n",
    "    ax = fig.add_subplot(1, 1, 1, aspect=\"equal\")\n",
    "    pmv = flopy.plot.PlotMapView(model=gwf, ax=ax, layer=0)\n",
    "    cb = pmv.plot_array(head, cmap=\"jet\", vmin=0.0, vmax=head.max())\n",
    "    pmv.plot_vector(\n",
    "        qx,\n",
    "        qy,\n",
    "        normalize=False,\n",
    "        color=\"0.75\",\n",
    "    )\n",
    "    cbar = plt.colorbar(cb, shrink=0.25)\n",
    "    cbar.ax.set_xlabel(r\"Head, ($ft$)\")\n",
    "    ax.set_xlabel(\"x position (ft)\")\n",
    "    ax.set_ylabel(\"y position (ft)\")\n",
    "\n",
    "    fig.tight_layout()\n",
    "\n",
    "    # save figure\n",
    "    if config.plotSave:\n",
    "        fpth = os.path.join(\n",
    "            \"..\", \"figures\", f\"{sim_name}-head{config.figure_ext}\"\n",
    "        )\n",
    "        fig.savefig(fpth)\n",
    "    return"
   ]
  },
  {
   "cell_type": "code",
   "execution_count": null,
   "id": "ac29034c",
   "metadata": {
    "lines_to_next_cell": 2
   },
   "outputs": [],
   "source": [
    "def plot_analytical(sim, verbose=False):\n",
    "    gwf = sim.get_model(sim_name)\n",
    "\n",
    "    head = gwf.output.head().get_data()[:, 0, :]\n",
    "\n",
    "    col = ncol // 2 - 1  # Get head along middle of model\n",
    "\n",
    "    head = [head[0, curvlin.get_node(rad, col)] for rad in range(nradial)]\n",
    "\n",
    "    xrad = [0.5 * (radii[r - 1] + radii[r]) for r in range(1, nradial + 1)]\n",
    "\n",
    "    analytical = [head[0]]\n",
    "    r1 = xrad[0]\n",
    "    r2 = xrad[-1]\n",
    "    h1 = bc0\n",
    "    h2 = bc1\n",
    "    for rad in range(2, nradial):\n",
    "        r = 0.5 * (radii[rad - 1] + radii[rad])\n",
    "        analytical.append(analytical_model(r1, h1, r2, h2, r))\n",
    "    analytical.append(head[-1])\n",
    "\n",
    "    fs = USGSFigure(figure_type=\"graph\", verbose=verbose)\n",
    "\n",
    "    obs_fig = \"obs-head\"\n",
    "    fig = plt.figure(figsize=figure_size_obsv)\n",
    "    ax = fig.add_subplot()\n",
    "    ax.set_xlabel(\"Radial distance (ft)\")\n",
    "    ax.set_ylabel(\"Head (ft)\")\n",
    "    ax.plot(xrad, head, \"ob\", label=\"MF6 Solution\", markerfacecolor=\"none\")\n",
    "    ax.plot(xrad, analytical, \"-b\", label=\"Analytical Solution\")\n",
    "\n",
    "    fs.graph_legend(ax)\n",
    "\n",
    "    fig.tight_layout()\n",
    "\n",
    "    if config.plotSave:\n",
    "        fpth = os.path.join(\n",
    "            \"..\",\n",
    "            \"figures\",\n",
    "            \"{}-{}{}\".format(sim_name, obs_fig, config.figure_ext),\n",
    "        )\n",
    "        fig.savefig(fpth)"
   ]
  },
  {
   "cell_type": "markdown",
   "id": "dfd99880",
   "metadata": {
    "lines_to_next_cell": 2
   },
   "source": [
    "Function to plot the model results."
   ]
  },
  {
   "cell_type": "code",
   "execution_count": null,
   "id": "40b0ddab",
   "metadata": {},
   "outputs": [],
   "source": [
    "def plot_results(silent=True):\n",
    "    if not config.plotModel:\n",
    "        return\n",
    "\n",
    "    if silent:\n",
    "        verbosity_level = 0\n",
    "    else:\n",
    "        verbosity_level = 1\n",
    "\n",
    "    sim_ws = os.path.join(ws, sim_name)\n",
    "    sim = flopy.mf6.MFSimulation.load(\n",
    "        sim_name=sim_name, sim_ws=sim_ws, verbosity_level=verbosity_level\n",
    "    )\n",
    "\n",
    "    verbose = not silent\n",
    "\n",
    "    if config.plotModel:\n",
    "        plot_grid(sim, verbose)\n",
    "        plot_head(sim)\n",
    "        plot_analytical(sim, verbose)\n",
    "    return"
   ]
  },
  {
   "cell_type": "code",
   "execution_count": null,
   "id": "c4a77fd1",
   "metadata": {
    "lines_to_next_cell": 2
   },
   "outputs": [],
   "source": [
    "def calculate_model_error():\n",
    "    if not config.runModel:\n",
    "        return\n",
    "\n",
    "    sim_ws = os.path.join(ws, sim_name)\n",
    "    sim = flopy.mf6.MFSimulation.load(\n",
    "        sim_name=sim_name, sim_ws=sim_ws, verbosity_level=0\n",
    "    )\n",
    "\n",
    "    gwf = sim.get_model(sim_name)\n",
    "\n",
    "    head = gwf.output.head().get_data()[0, 0, :]\n",
    "\n",
    "    xrad = [0.5 * (radii[r - 1] + radii[r]) for r in range(1, nradial + 1)]\n",
    "\n",
    "    analytical = [head[0]]\n",
    "    r1 = xrad[0]\n",
    "    r2 = xrad[-1]\n",
    "    h1 = bc0\n",
    "    h2 = bc1\n",
    "    for rad in range(2, nradial):\n",
    "        r = 0.5 * (radii[rad - 1] + radii[rad])\n",
    "        analytical.append(analytical_model(r1, h1, r2, h2, r))\n",
    "    analytical.append(head[-1])\n",
    "\n",
    "    dim = len(head)\n",
    "    rel = 0.0\n",
    "    sse = 0.0\n",
    "    for rad in range(nradial):\n",
    "        asol = analytical[rad]\n",
    "        for node in curvlin.iter_radial_nodes(rad):\n",
    "            diff = head[node] - asol\n",
    "            rel += abs(diff / asol)\n",
    "            sse += diff**2\n",
    "    # for x, y in zip(head, analytical):\n",
    "    #     mae += abs(x-y)\n",
    "    #     sse += (x-y)**2\n",
    "    rel /= dim\n",
    "    rmse = sqrt(sse / dim)\n",
    "    return rel, rmse"
   ]
  },
  {
   "cell_type": "markdown",
   "id": "439217b0",
   "metadata": {
    "lines_to_next_cell": 2
   },
   "source": [
    "Function that wraps all of the steps for the curvilinear model\n",
    "\n",
    "1. build_model,\n",
    "2. write_model,\n",
    "3. run_model, and\n",
    "4. plot_results.\n"
   ]
  },
  {
   "cell_type": "code",
   "execution_count": null,
   "id": "0c103a8e",
   "metadata": {},
   "outputs": [],
   "source": [
    "def simulation(silent=True):\n",
    "    # key = list(parameters.keys())[idx]\n",
    "    # params = parameters[key].copy()\n",
    "\n",
    "    sim = build_model(sim_name)\n",
    "\n",
    "    write_model(sim, silent=silent)\n",
    "\n",
    "    success = run_model(sim, silent=silent)\n",
    "    assert success, \"could not run...{}\".format(sim_name)"
   ]
  },
  {
   "cell_type": "code",
   "execution_count": null,
   "id": "942f075a",
   "metadata": {
    "lines_to_next_cell": 2
   },
   "outputs": [],
   "source": []
  },
  {
   "cell_type": "markdown",
   "id": "8de52eaf",
   "metadata": {},
   "source": [
    "### Curvilinear Example"
   ]
  },
  {
   "cell_type": "code",
   "execution_count": null,
   "id": "a37bebca",
   "metadata": {},
   "outputs": [],
   "source": [
    "# MF6 Curvilinear Model\n",
    "simulation()"
   ]
  },
  {
   "cell_type": "code",
   "execution_count": null,
   "id": "a1620f9c",
   "metadata": {},
   "outputs": [],
   "source": [
    "# Solve analytical and plot results with MF6 results\n",
    "plot_results()"
   ]
  },
  {
   "cell_type": "code",
   "execution_count": null,
   "id": "be1b6b29",
   "metadata": {},
   "outputs": [],
   "source": [
    "rel_error, rmse = calculate_model_error()"
   ]
  }
 ],
 "metadata": {
  "jupytext": {
   "cell_metadata_filter": "-all",
   "main_language": "python",
   "notebook_metadata_filter": "-all"
  }
 },
 "nbformat": 4,
 "nbformat_minor": 5
}
