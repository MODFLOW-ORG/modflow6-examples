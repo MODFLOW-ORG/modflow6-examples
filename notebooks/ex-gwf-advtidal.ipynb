{
 "cells": [
  {
   "cell_type": "markdown",
   "id": "4411da57",
   "metadata": {},
   "source": [
    "## Advgwtidal example\n",
    "\n",
    "This model represents highlands bordered by a tidal estuary.  The model\n",
    "has 3 layers representing an upper aquifer, confining bed, and lower aquifer.\n",
    "The grid is 15 rows by 10 columns.  The length unit is feet and the time unit\n",
    "is days. Each cell is 500 ft × 500 ft.  The estuary is represented by GHB\n",
    "boundaries in column 10.  Two rivers cross the area from left to right.\n",
    "Recharge is zoned by the use of three Recharge-Package input files\n"
   ]
  },
  {
   "cell_type": "markdown",
   "id": "1a75e9d1",
   "metadata": {},
   "source": [
    "### Advgwtidal Problem Setup\n",
    "\n",
    "Imports"
   ]
  },
  {
   "cell_type": "code",
   "execution_count": null,
   "id": "e6881cac",
   "metadata": {},
   "outputs": [],
   "source": [
    "import os\n",
    "import sys"
   ]
  },
  {
   "cell_type": "code",
   "execution_count": null,
   "id": "1c7ab014",
   "metadata": {},
   "outputs": [],
   "source": [
    "import flopy\n",
    "import matplotlib.pyplot as plt\n",
    "import numpy as np\n",
    "from flopy.utils.gridintersect import GridIntersect\n",
    "from shapely.geometry import Polygon"
   ]
  },
  {
   "cell_type": "markdown",
   "id": "a443a794",
   "metadata": {},
   "source": [
    "Append to system path to include the common subdirectory"
   ]
  },
  {
   "cell_type": "code",
   "execution_count": null,
   "id": "06c49239",
   "metadata": {},
   "outputs": [],
   "source": [
    "sys.path.append(os.path.join(\"..\", \"common\"))"
   ]
  },
  {
   "cell_type": "markdown",
   "id": "5d847cd8",
   "metadata": {},
   "source": [
    "import common functionality"
   ]
  },
  {
   "cell_type": "code",
   "execution_count": null,
   "id": "21c78f8e",
   "metadata": {},
   "outputs": [],
   "source": [
    "import config\n",
    "from figspecs import USGSFigure"
   ]
  },
  {
   "cell_type": "markdown",
   "id": "4fbff411",
   "metadata": {},
   "source": [
    "Set default figure properties"
   ]
  },
  {
   "cell_type": "code",
   "execution_count": null,
   "id": "2c89d5f1",
   "metadata": {},
   "outputs": [],
   "source": [
    "figure_size = (4, 4)"
   ]
  },
  {
   "cell_type": "markdown",
   "id": "a32c3afa",
   "metadata": {},
   "source": [
    "Base simulation and model name and workspace"
   ]
  },
  {
   "cell_type": "code",
   "execution_count": null,
   "id": "7af70771",
   "metadata": {},
   "outputs": [],
   "source": [
    "ws = config.base_ws"
   ]
  },
  {
   "cell_type": "markdown",
   "id": "d2061249",
   "metadata": {},
   "source": [
    "Simulation name"
   ]
  },
  {
   "cell_type": "code",
   "execution_count": null,
   "id": "17c514d1",
   "metadata": {},
   "outputs": [],
   "source": [
    "sim_name = \"ex-gwf-advtidal\""
   ]
  },
  {
   "cell_type": "markdown",
   "id": "18ce5ace",
   "metadata": {},
   "source": [
    "Model units"
   ]
  },
  {
   "cell_type": "code",
   "execution_count": null,
   "id": "e034b9e3",
   "metadata": {},
   "outputs": [],
   "source": [
    "length_units = \"meters\"\n",
    "time_units = \"days\""
   ]
  },
  {
   "cell_type": "markdown",
   "id": "8c8bf07b",
   "metadata": {},
   "source": [
    "Table Advgwtidal Model Parameters"
   ]
  },
  {
   "cell_type": "code",
   "execution_count": null,
   "id": "d1372a50",
   "metadata": {},
   "outputs": [],
   "source": [
    "nper = 4  # Number of periods\n",
    "nlay = 3  # Number of layers\n",
    "ncol = 10  # Number of columns\n",
    "nrow = 15  # Number of rows\n",
    "delr = 500.0  # Column width ($m$)\n",
    "delc = 500.0  # Row width ($m$)\n",
    "top = 50.0  # Top of the model ($m$)\n",
    "botm_str = \"5.0, -10.0, -100.0\"  # Layer bottom elevations ($m$)\n",
    "strt = 50.0  # Starting head ($m$)\n",
    "icelltype_str = \"1, 0, 0\"  # Cell conversion type\n",
    "k11_str = \"5.0, 0.1, 4.0\"  # Horizontal hydraulic conductivity ($m/d$)\n",
    "k33_str = \"0.5, 5.0e-3, 0.1\"  # Vertical hydraulic conductivity ($m/d$)\n",
    "ss = 1.0e-6  # Specific storage ($/m$)\n",
    "sy = 0.2  # Specific yield (unitless)"
   ]
  },
  {
   "cell_type": "markdown",
   "id": "35f88aba",
   "metadata": {},
   "source": [
    "Static temporal data used by TDIS file\n",
    "Simulation has 1 steady stress period (1 day)\n",
    "and 3 transient stress periods (10 days each).\n",
    "Each transient stress period has 120 2-hour time steps."
   ]
  },
  {
   "cell_type": "code",
   "execution_count": null,
   "id": "c404006b",
   "metadata": {},
   "outputs": [],
   "source": [
    "perlen = [1.0, 10.0, 10.0, 10.0]\n",
    "nstp = [1, 120, 120, 120]\n",
    "tsmult = [1.0, 1.0, 1.0, 1.0]\n",
    "tdis_ds = list(zip(perlen, nstp, tsmult))"
   ]
  },
  {
   "cell_type": "markdown",
   "id": "094ead5b",
   "metadata": {},
   "source": [
    "parse parameter strings into tuples"
   ]
  },
  {
   "cell_type": "code",
   "execution_count": null,
   "id": "ad82358e",
   "metadata": {},
   "outputs": [],
   "source": [
    "botm = [float(value) for value in botm_str.split(\",\")]\n",
    "k11 = [float(value) for value in k11_str.split(\",\")]\n",
    "k33 = [float(value) for value in k33_str.split(\",\")]\n",
    "icelltype = [int(value) for value in icelltype_str.split(\",\")]"
   ]
  },
  {
   "cell_type": "code",
   "execution_count": null,
   "id": "a1e1a771",
   "metadata": {},
   "outputs": [],
   "source": [
    "# ### Create Advgwtidal Recharge Zones\n",
    "#\n",
    "# shapely is used to construct recharge zones\n",
    "#\n",
    "recharge_zone_1 = Polygon(\n",
    "    shell=[\n",
    "        (0, 0),\n",
    "        (3000, 0),\n",
    "        (3000, 5500),\n",
    "        (1000, 7500),\n",
    "        (0, 7500),\n",
    "        (0, 0),\n",
    "    ],\n",
    ")\n",
    "recharge_zone_2 = Polygon(\n",
    "    shell=[\n",
    "        (1000, 7500),\n",
    "        (3000, 5500),\n",
    "        (5000, 7500),\n",
    "        (1000, 7500),\n",
    "    ],\n",
    ")\n",
    "recharge_zone_3 = Polygon(\n",
    "    shell=[\n",
    "        (3000, 0),\n",
    "        (5000, 0),\n",
    "        (5000, 7500),\n",
    "        (3000, 5500),\n",
    "        (3000, 0),\n",
    "    ],\n",
    ")"
   ]
  },
  {
   "cell_type": "markdown",
   "id": "af624fc7",
   "metadata": {},
   "source": [
    "Solver parameters"
   ]
  },
  {
   "cell_type": "code",
   "execution_count": null,
   "id": "feed9675",
   "metadata": {},
   "outputs": [],
   "source": [
    "nouter = 50\n",
    "ninner = 100\n",
    "hclose = 1e-9\n",
    "rclose = 1e-6"
   ]
  },
  {
   "cell_type": "markdown",
   "id": "59226c48",
   "metadata": {
    "lines_to_next_cell": 2
   },
   "source": [
    "### Functions to build, write, run, and plot the MODFLOW 6 Advgwtidal model\n",
    "\n",
    "MODFLOW 6 flopy simulation object (sim) is returned if building the model"
   ]
  },
  {
   "cell_type": "code",
   "execution_count": null,
   "id": "1e02f151",
   "metadata": {},
   "outputs": [],
   "source": [
    "def get_timeseries(fname, names, interpolation, filename=None):\n",
    "    tsdata = []\n",
    "    for row in np.genfromtxt(fname, delimiter=\",\", comments=\"#\"):\n",
    "        tsdata.append(tuple(row))\n",
    "    tsdict = {\n",
    "        \"timeseries\": tsdata,\n",
    "        \"time_series_namerecord\": names,\n",
    "        \"interpolation_methodrecord\": interpolation,\n",
    "    }\n",
    "    if filename is not None:\n",
    "        tsdict[\"filename\"] = filename\n",
    "    return tsdict"
   ]
  },
  {
   "cell_type": "code",
   "execution_count": null,
   "id": "78ca96c2",
   "metadata": {
    "lines_to_next_cell": 2
   },
   "outputs": [],
   "source": [
    "def build_model():\n",
    "    if config.buildModel:\n",
    "        sim_ws = os.path.join(ws, sim_name)\n",
    "        sim = flopy.mf6.MFSimulation(\n",
    "            sim_name=sim_name,\n",
    "            sim_ws=sim_ws,\n",
    "            exe_name=\"mf6\",\n",
    "            verbosity_level=0,\n",
    "        )\n",
    "        flopy.mf6.ModflowTdis(sim, nper=nper, perioddata=tdis_ds, time_units=time_units)\n",
    "        flopy.mf6.ModflowIms(\n",
    "            sim,\n",
    "            outer_maximum=nouter,\n",
    "            outer_dvclose=hclose,\n",
    "            inner_maximum=ninner,\n",
    "            inner_dvclose=hclose,\n",
    "            rcloserecord=f\"{rclose} strict\",\n",
    "        )\n",
    "        gwf = flopy.mf6.ModflowGwf(sim, modelname=sim_name, save_flows=True)\n",
    "        flopy.mf6.ModflowGwfdis(\n",
    "            gwf,\n",
    "            length_units=length_units,\n",
    "            nlay=nlay,\n",
    "            nrow=nrow,\n",
    "            ncol=ncol,\n",
    "            delr=delr,\n",
    "            delc=delc,\n",
    "            top=top,\n",
    "            botm=botm,\n",
    "        )\n",
    "        flopy.mf6.ModflowGwfnpf(\n",
    "            gwf,\n",
    "            cvoptions=\"perched\",\n",
    "            perched=True,\n",
    "            icelltype=icelltype,\n",
    "            k=k11,\n",
    "            k33=k33,\n",
    "            save_specific_discharge=True,\n",
    "        )\n",
    "        flopy.mf6.ModflowGwfic(gwf, strt=strt)\n",
    "        flopy.mf6.ModflowGwfsto(\n",
    "            gwf,\n",
    "            iconvert=1,\n",
    "            ss=1.0e-6,\n",
    "            sy=sy,\n",
    "            steady_state={0: True},\n",
    "            transient={1: True},\n",
    "        )\n",
    "\n",
    "        ghb_spd = []\n",
    "        ghb_spd += [[1, i, 9, \"tides\", 15.0, \"ESTUARY-L2\"] for i in range(nrow)]\n",
    "        ghb_spd += [[2, i, 9, \"tides\", 1500.0, \"ESTUARY-L3\"] for i in range(nrow)]\n",
    "        ghb_spd = {0: ghb_spd}\n",
    "        fname = os.path.join(config.data_ws, sim_name, \"tides.csv\")\n",
    "        tsdict = get_timeseries(fname, \"tides\", \"linear\")\n",
    "        ghbobs_dict = {}\n",
    "        ghbobs_dict[f\"{sim_name}.ghb.obs.csv\"] = [\n",
    "            (\"ghb_2_6_10\", \"ghb\", (1, 5, 9)),\n",
    "            (\"ghb_3_6_10\", \"ghb\", (2, 5, 9)),\n",
    "            (\"estuary2\", \"ghb\", \"ESTUARY-L2\"),\n",
    "            (\"estuary3\", \"ghb\", \"ESTUARY-L3\"),\n",
    "        ]\n",
    "\n",
    "        flopy.mf6.ModflowGwfghb(\n",
    "            gwf,\n",
    "            stress_period_data=ghb_spd,\n",
    "            boundnames=True,\n",
    "            timeseries=tsdict,\n",
    "            observations=ghbobs_dict,\n",
    "            pname=\"GHB-TIDAL\",\n",
    "        )\n",
    "\n",
    "        wel_spd = {}\n",
    "        wel_spd[1] = [\n",
    "            [0, 11, 2, -50, \"\"],\n",
    "            [2, 4, 7, \"well_1_rate\", \"well_1\"],\n",
    "            [2, 3, 2, \"well_2_rate\", \"well_2\"],\n",
    "        ]\n",
    "        wel_spd[2] = [\n",
    "            [2, 3, 2, \"well_2_rate\", \"well_2\"],\n",
    "            [2, 4, 7, \"well_1_rate\", \"well_1\"],\n",
    "        ]\n",
    "        wel_spd[3] = [\n",
    "            [2, 4, 7, \"well_1_rate\", \"well_1\"],\n",
    "            [2, 3, 2, \"well_2_rate\", \"well_2\"],\n",
    "            [0, 11, 2, -10, \"\"],\n",
    "            [0, 2, 4, -20, \"\"],\n",
    "            [0, 13, 5, -40, \"\"],\n",
    "        ]\n",
    "        fname = os.path.join(config.data_ws, sim_name, \"wellrates.csv\")\n",
    "        tsdict = get_timeseries(\n",
    "            fname,\n",
    "            [\"well_1_rate\", \"well_2_rate\", \"well_6_rate\"],\n",
    "            3 * [\"stepwise\"],\n",
    "        )\n",
    "        flopy.mf6.ModflowGwfwel(\n",
    "            gwf,\n",
    "            stress_period_data=wel_spd,\n",
    "            boundnames=True,\n",
    "            timeseries=tsdict,\n",
    "            pname=\"WEL\",\n",
    "        )\n",
    "\n",
    "        rivlay = 20 * [0]\n",
    "        rivrow = [2, 3, 4, 4, 5, 5, 5, 4, 4, 4, 9, 8, 7, 6, 6, 5, 5, 6, 6, 6]\n",
    "        rivcol = [0, 1, 2, 3, 4, 5, 6, 7, 8, 9, 0, 1, 2, 3, 4, 5, 6, 7, 8, 9]\n",
    "        rivstg = 10 * [\"river_stage_1\"] + 10 * [\"river_stage_2\"]\n",
    "        rivcnd = 2 * [1000 + f + 1 for f in range(10)]\n",
    "        rivrbt = list(np.linspace(35.9, 35.0, 10)) + list(np.linspace(36.9, 36.0, 10))\n",
    "        rivbnd = (\n",
    "            5 * [\"\"]\n",
    "            + [\"riv1_c6\", \"riv1_c7\"]\n",
    "            + 3 * [\"\"]\n",
    "            + 3 * [\"riv2_upper\"]\n",
    "            + 2 * [\"\"]\n",
    "            + [\"riv2_c6\", \"riv2_c7\"]\n",
    "            + 3 * [\"\"]\n",
    "        )\n",
    "        riv_spd = list(zip(rivlay, rivrow, rivcol, rivstg, rivcnd, rivrbt, rivbnd))\n",
    "        fname = os.path.join(config.data_ws, sim_name, \"riverstage.csv\")\n",
    "        tsdict = get_timeseries(\n",
    "            fname,\n",
    "            [\"river_stage_1\", \"river_stage_2\"],\n",
    "            [\"linear\", \"stepwise\"],\n",
    "        )\n",
    "        flopy.mf6.ModflowGwfriv(\n",
    "            gwf,\n",
    "            stress_period_data=riv_spd,\n",
    "            boundnames=True,\n",
    "            timeseries=tsdict,\n",
    "            pname=\"RIV\",\n",
    "        )\n",
    "\n",
    "        for ipak, p in enumerate([recharge_zone_1, recharge_zone_2, recharge_zone_3]):\n",
    "            ix = GridIntersect(gwf.modelgrid, method=\"vertex\", rtree=True)\n",
    "            result = ix.intersect(p)\n",
    "            rch_spd = []\n",
    "            for i in range(result.shape[0]):\n",
    "                rch_spd.append(\n",
    "                    [\n",
    "                        0,\n",
    "                        *result[\"cellids\"][i],\n",
    "                        f\"rch_{ipak + 1}\",\n",
    "                        result[\"areas\"][i] / delr / delc,\n",
    "                    ]\n",
    "                )\n",
    "            fname = os.path.join(config.data_ws, sim_name, f\"recharge{ipak + 1}.csv\")\n",
    "            tsdict = get_timeseries(\n",
    "                fname,\n",
    "                [f\"rch_{ipak + 1}\"],\n",
    "                [\"stepwise\"],\n",
    "                filename=f\"{sim_name}.rch{ipak + 1}.ts\",\n",
    "            )\n",
    "            flopy.mf6.ModflowGwfrch(\n",
    "                gwf,\n",
    "                stress_period_data=rch_spd,\n",
    "                boundnames=True,\n",
    "                timeseries=tsdict,\n",
    "                fixed_cell=True,\n",
    "                print_input=True,\n",
    "                print_flows=True,\n",
    "                save_flows=True,\n",
    "                auxiliary=[\"MULTIPLIER\"],\n",
    "                auxmultname=\"MULTIPLIER\",\n",
    "                pname=f\"RCH-ZONE_{ipak + 1}\",\n",
    "                filename=f\"{sim_name}.rch{ipak + 1}\",\n",
    "            )\n",
    "\n",
    "        nseg = 3\n",
    "        etsurf = 50\n",
    "        etrate = 0.0004\n",
    "        depth = 10.0\n",
    "        pxdp = [0.2, 0.5]\n",
    "        petm = [0.3, 0.1]\n",
    "        row, col = np.where(np.zeros((nrow, ncol)) == 0)\n",
    "        cellids = list(zip(nrow * ncol * [0], row, col))\n",
    "        evt_spd = [\n",
    "            [k, i, j, etsurf, etrate, depth, *pxdp, *petm] for k, i, j in cellids\n",
    "        ]\n",
    "        flopy.mf6.ModflowGwfevt(gwf, nseg=nseg, stress_period_data=evt_spd, pname=\"EVT\")\n",
    "\n",
    "        head_filerecord = f\"{sim_name}.hds\"\n",
    "        budget_filerecord = f\"{sim_name}.cbc\"\n",
    "        flopy.mf6.ModflowGwfoc(\n",
    "            gwf,\n",
    "            head_filerecord=head_filerecord,\n",
    "            budget_filerecord=budget_filerecord,\n",
    "            saverecord=[(\"HEAD\", \"ALL\"), (\"BUDGET\", \"ALL\")],\n",
    "        )\n",
    "\n",
    "        obsdict = {}\n",
    "        obslist = [[\"h1_13_8\", \"head\", (2, 12, 7)]]\n",
    "        obsdict[f\"{sim_name}.obs.head.csv\"] = obslist\n",
    "        obslist = [[\"icf1\", \"flow-ja-face\", (0, 4, 5), (0, 5, 5)]]\n",
    "        obsdict[f\"{sim_name}.obs.flow.csv\"] = obslist\n",
    "        obs = flopy.mf6.ModflowUtlobs(gwf, print_input=False, continuous=obsdict)\n",
    "\n",
    "        return sim\n",
    "    return None"
   ]
  },
  {
   "cell_type": "markdown",
   "id": "e9c75206",
   "metadata": {
    "lines_to_next_cell": 2
   },
   "source": [
    "Function to write MODFLOW 6 Advgwtidal model files"
   ]
  },
  {
   "cell_type": "code",
   "execution_count": null,
   "id": "59288d78",
   "metadata": {
    "lines_to_next_cell": 2
   },
   "outputs": [],
   "source": [
    "def write_model(sim, silent=True):\n",
    "    if config.writeModel:\n",
    "        sim.write_simulation(silent=silent)"
   ]
  },
  {
   "cell_type": "markdown",
   "id": "cc09941f",
   "metadata": {
    "lines_to_next_cell": 2
   },
   "source": [
    "Function to run the Advgwtidal model.\n",
    "True is returned if the model runs successfully\n"
   ]
  },
  {
   "cell_type": "code",
   "execution_count": null,
   "id": "9d48385e",
   "metadata": {},
   "outputs": [],
   "source": [
    "@config.timeit\n",
    "def run_model(sim, silent=False):\n",
    "    success = True\n",
    "    if config.runModel:\n",
    "        success, buff = sim.run_simulation(silent=silent, report=True)\n",
    "        if not success:\n",
    "            print(buff)\n",
    "    return success"
   ]
  },
  {
   "cell_type": "code",
   "execution_count": null,
   "id": "afb9af4c",
   "metadata": {},
   "outputs": [],
   "source": [
    "# Function to plot the Advgwtidal model results.\n",
    "#\n",
    "def plot_grid(sim):\n",
    "    fs = USGSFigure(figure_type=\"map\", verbose=False)\n",
    "    sim_ws = os.path.join(ws, sim_name)\n",
    "    gwf = sim.get_model(sim_name)\n",
    "\n",
    "    fig = plt.figure(figsize=(5.5, 8.0))\n",
    "\n",
    "    ax = fig.add_subplot(2, 2, 1, aspect=\"equal\")\n",
    "    pmv = flopy.plot.PlotMapView(model=gwf, ax=ax, layer=0)\n",
    "    pmv.plot_grid()\n",
    "    pmv.plot_bc(name=\"WEL\", kper=3)\n",
    "    pmv.plot_bc(name=\"RIV\")\n",
    "    title = \"Layer 1\"\n",
    "    letter = chr(ord(\"@\") + 1)\n",
    "    fs.heading(letter=letter, heading=title, ax=ax)\n",
    "    ax.set_xlabel(\"x position (m)\")\n",
    "    ax.set_ylabel(\"y position (m)\")\n",
    "\n",
    "    ax = fig.add_subplot(2, 2, 2, aspect=\"equal\")\n",
    "    pmv = flopy.plot.PlotMapView(model=gwf, ax=ax, layer=1)\n",
    "    pmv.plot_grid()\n",
    "    pmv.plot_bc(name=\"GHB\")\n",
    "    title = \"Layer 2\"\n",
    "    letter = chr(ord(\"@\") + 2)\n",
    "    fs.heading(letter=letter, heading=title, ax=ax)\n",
    "    ax.set_xlabel(\"x position (m)\")\n",
    "    ax.set_ylabel(\"y position (m)\")\n",
    "\n",
    "    ax = fig.add_subplot(2, 2, 3, aspect=\"equal\")\n",
    "    pmv = flopy.plot.PlotMapView(model=gwf, ax=ax, layer=2)\n",
    "    pmv.plot_grid()\n",
    "    pmv.plot_bc(name=\"GHB\")\n",
    "    pmv.plot_bc(ftype=\"WEL\", kper=3)\n",
    "    title = \"Layer 3\"\n",
    "    letter = chr(ord(\"@\") + 3)\n",
    "    fs.heading(letter=letter, heading=title, ax=ax)\n",
    "    ax.set_xlabel(\"x position (m)\")\n",
    "    ax.set_ylabel(\"y position (m)\")\n",
    "\n",
    "    ax = fig.add_subplot(2, 2, 4, aspect=\"equal\")\n",
    "    pmv = flopy.plot.PlotMapView(model=gwf, ax=ax)\n",
    "    pmv.plot_grid(linewidth=0)\n",
    "    for ip, (p, fc) in enumerate(\n",
    "        [\n",
    "            (recharge_zone_1, \"r\"),\n",
    "            (recharge_zone_2, \"b\"),\n",
    "            (recharge_zone_3, \"g\"),\n",
    "        ]\n",
    "    ):\n",
    "        xs, ys = p.exterior.xy\n",
    "        ax.fill(\n",
    "            xs,\n",
    "            ys,\n",
    "            alpha=0.25,\n",
    "            fc=fc,\n",
    "            ec=\"none\",\n",
    "            label=f\"Recharge Zone {ip + 1}\",\n",
    "        )\n",
    "    ax.set_xlabel(\"x position (m)\")\n",
    "    ax.set_ylabel(\"y position (m)\")\n",
    "    fs.graph_legend(ax)\n",
    "    title = \"Recharge zones\"\n",
    "    letter = chr(ord(\"@\") + 4)\n",
    "    fs.heading(letter=letter, heading=title, ax=ax)\n",
    "\n",
    "    # save figure\n",
    "    if config.plotSave:\n",
    "        fpth = os.path.join(\"..\", \"figures\", f\"{sim_name}-grid{config.figure_ext}\")\n",
    "        fig.savefig(fpth)\n",
    "    return"
   ]
  },
  {
   "cell_type": "code",
   "execution_count": null,
   "id": "d2b5a249",
   "metadata": {},
   "outputs": [],
   "source": [
    "def plot_ts(sim):\n",
    "    fs = USGSFigure(figure_type=\"graph\", verbose=False)\n",
    "    sim_ws = os.path.join(ws, sim_name)\n",
    "    gwf = sim.get_model(sim_name)\n",
    "    obsnames = gwf.obs[1].output.obs_names\n",
    "    obs_list = [\n",
    "        gwf.obs[1].output.obs(f=obsnames[0]),\n",
    "        gwf.obs[1].output.obs(f=obsnames[1]),\n",
    "        gwf.ghb.output.obs(),\n",
    "    ]\n",
    "    ylabel = (\"head (m)\", \"flow ($m^3/d$)\", \"flow ($m^3/d$)\")\n",
    "    obs_fig = (\"obs-head\", \"obs-flow\", \"ghb-obs\")\n",
    "    for iplot, obstype in enumerate(obs_list):\n",
    "        fig = plt.figure(figsize=(6, 3))\n",
    "        ax = fig.add_subplot()\n",
    "        tsdata = obstype.data\n",
    "        for name in tsdata.dtype.names[1:]:\n",
    "            ax.plot(tsdata[\"totim\"], tsdata[name], label=name)\n",
    "        ax.set_xlabel(\"time (d)\")\n",
    "        ax.set_ylabel(ylabel[iplot])\n",
    "        fs.graph_legend(ax)\n",
    "        if config.plotSave:\n",
    "            fpth = os.path.join(\n",
    "                \"..\",\n",
    "                \"figures\",\n",
    "                \"{}-{}{}\".format(sim_name, obs_fig[iplot], config.figure_ext),\n",
    "            )\n",
    "            fig.savefig(fpth)\n",
    "    return"
   ]
  },
  {
   "cell_type": "code",
   "execution_count": null,
   "id": "4b9b8eda",
   "metadata": {
    "lines_to_next_cell": 2
   },
   "outputs": [],
   "source": [
    "def plot_results(sim, silent=True):\n",
    "    if config.plotModel:\n",
    "        plot_grid(sim)\n",
    "        plot_ts(sim)\n",
    "    return"
   ]
  },
  {
   "cell_type": "markdown",
   "id": "0c180319",
   "metadata": {
    "lines_to_next_cell": 2
   },
   "source": [
    "Function that wraps all of the steps for the Advgwtidal model\n",
    "\n",
    "1. build_model,\n",
    "2. write_model,\n",
    "3. run_model, and\n",
    "4. plot_results.\n"
   ]
  },
  {
   "cell_type": "code",
   "execution_count": null,
   "id": "a93b3d79",
   "metadata": {},
   "outputs": [],
   "source": [
    "def simulation(silent=True):\n",
    "    sim = build_model()\n",
    "    write_model(sim, silent=silent)\n",
    "    success = run_model(sim, silent=silent)\n",
    "    if success:\n",
    "        plot_results(sim, silent=silent)"
   ]
  },
  {
   "cell_type": "code",
   "execution_count": null,
   "id": "b16910d4",
   "metadata": {},
   "outputs": [],
   "source": [
    "# nosetest - exclude block from this nosetest to the next nosetest\n",
    "def test_01():\n",
    "    simulation(silent=False)"
   ]
  },
  {
   "cell_type": "markdown",
   "id": "b4d6a23a",
   "metadata": {},
   "source": [
    "nosetest end"
   ]
  },
  {
   "cell_type": "code",
   "execution_count": null,
   "id": "a9ad4a31",
   "metadata": {},
   "outputs": [],
   "source": [
    "if __name__ == \"__main__\":\n",
    "    # ### Advgwtidal Simulation\n",
    "    #\n",
    "    # Model grid and simulation results\n",
    "\n",
    "    simulation()"
   ]
  }
 ],
 "metadata": {
  "jupytext": {
   "cell_metadata_filter": "-all",
   "main_language": "python",
   "notebook_metadata_filter": "-all"
  }
 },
 "nbformat": 4,
 "nbformat_minor": 5
}
