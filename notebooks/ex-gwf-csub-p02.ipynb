{
 "cells": [
  {
   "cell_type": "markdown",
   "id": "9985b025",
   "metadata": {},
   "source": [
    "## Delay interbed drainage\n",
    "\n",
    "This problem simulates the drainage of a thick interbed caused by a step\n",
    "decrease in hydraulic head in the aquifer and is based on MODFLOW-2000 subsidence\n",
    "package sample problem 1.\n"
   ]
  },
  {
   "cell_type": "markdown",
   "id": "f6a16a92",
   "metadata": {},
   "source": [
    "### Problem Setup\n",
    "\n",
    "Imports"
   ]
  },
  {
   "cell_type": "code",
   "execution_count": null,
   "id": "38ac2f00",
   "metadata": {},
   "outputs": [],
   "source": [
    "import os\n",
    "import sys\n",
    "import numpy as np\n",
    "import matplotlib as mpl\n",
    "import matplotlib.pyplot as plt\n",
    "import flopy"
   ]
  },
  {
   "cell_type": "markdown",
   "id": "c04a5677",
   "metadata": {},
   "source": [
    "Append to system path to include the common subdirectory"
   ]
  },
  {
   "cell_type": "code",
   "execution_count": null,
   "id": "16d0a700",
   "metadata": {},
   "outputs": [],
   "source": [
    "sys.path.append(os.path.join(\"..\", \"common\"))"
   ]
  },
  {
   "cell_type": "markdown",
   "id": "234a227b",
   "metadata": {},
   "source": [
    "import common functionality"
   ]
  },
  {
   "cell_type": "code",
   "execution_count": null,
   "id": "71b9a993",
   "metadata": {},
   "outputs": [],
   "source": [
    "import config\n",
    "from figspecs import USGSFigure"
   ]
  },
  {
   "cell_type": "markdown",
   "id": "85016029",
   "metadata": {},
   "source": [
    "Set figure properties specific to the problem"
   ]
  },
  {
   "cell_type": "code",
   "execution_count": null,
   "id": "50b8a9c3",
   "metadata": {},
   "outputs": [],
   "source": [
    "figure_size = (6.8, 3.4)\n",
    "arrow_props = dict(facecolor=\"black\", arrowstyle=\"-\", lw=0.5)"
   ]
  },
  {
   "cell_type": "markdown",
   "id": "2df35776",
   "metadata": {},
   "source": [
    "Base simulation and model name and workspace"
   ]
  },
  {
   "cell_type": "code",
   "execution_count": null,
   "id": "f37b89b3",
   "metadata": {},
   "outputs": [],
   "source": [
    "ws = config.base_ws"
   ]
  },
  {
   "cell_type": "markdown",
   "id": "200a5192",
   "metadata": {},
   "source": [
    "Simulation name"
   ]
  },
  {
   "cell_type": "code",
   "execution_count": null,
   "id": "9653b2ee",
   "metadata": {},
   "outputs": [],
   "source": [
    "sim_name = \"ex-gwf-csub-p02\""
   ]
  },
  {
   "cell_type": "markdown",
   "id": "748e28a7",
   "metadata": {},
   "source": [
    "Scenario parameters"
   ]
  },
  {
   "cell_type": "code",
   "execution_count": null,
   "id": "8af42f14",
   "metadata": {},
   "outputs": [],
   "source": [
    "parameters = {\n",
    "    \"ex-gwf-csub-p02a\": {\n",
    "        \"head_based\": True,\n",
    "        \"bed_thickness\": (1.0,),\n",
    "        \"kv\": (2.5e-06,),\n",
    "        \"ndelaycells\": 19,\n",
    "    },\n",
    "    \"ex-gwf-csub-p02b\": {\n",
    "        \"head_based\": False,\n",
    "        \"bed_thickness\": (1.0,),\n",
    "        \"kv\": (2.5e-06,),\n",
    "        \"ndelaycells\": 19,\n",
    "    },\n",
    "    \"ex-gwf-csub-p02c\": {\n",
    "        \"head_based\": True,\n",
    "        \"bed_thickness\": (1.0, 2.0, 5.0, 10.0, 20.0, 50.0, 100.0),\n",
    "        \"kv\": (2.5e-06, 1e-05, 6.25e-05, 0.00025, 0.001, 0.00625, 0.025),\n",
    "        \"ndelaycells\": 1001,\n",
    "    },\n",
    "}"
   ]
  },
  {
   "cell_type": "markdown",
   "id": "c5fbed4d",
   "metadata": {},
   "source": [
    "Model units"
   ]
  },
  {
   "cell_type": "code",
   "execution_count": null,
   "id": "ec7b54f4",
   "metadata": {},
   "outputs": [],
   "source": [
    "length_units = \"meters\"\n",
    "time_units = \"days\""
   ]
  },
  {
   "cell_type": "markdown",
   "id": "2b914f98",
   "metadata": {},
   "source": [
    "Table"
   ]
  },
  {
   "cell_type": "code",
   "execution_count": null,
   "id": "693b7f20",
   "metadata": {},
   "outputs": [],
   "source": [
    "nper = 1  # Number of periods\n",
    "nlay = 1  # Number of layers\n",
    "ncol = 3  # Number of columns\n",
    "nrow = 1  # Number of rows\n",
    "delr = 1.0  # Column width ($m$)\n",
    "delc = 1.0  # Row width ($m$)\n",
    "top = 0.0  # Top of the model ($ft$)\n",
    "botm = -1000.0  # Layer bottom elevations ($m$)\n",
    "strt = 0.0  # Starting head ($m$)\n",
    "icelltype = 0  # Cell conversion type\n",
    "k11 = 1.0e6  # Horizontal hydraulic conductivity ($m/d$)\n",
    "sgm = 1.7  # Specific gravity of moist soils (unitless)\n",
    "sgs = 2.0  # Specific gravity of saturated soils (unitless)\n",
    "tau0 = 1000.0  # Interbed drainage time constant (unitless)\n",
    "cg_theta = 0.2  # Coarse-grained material porosity (unitless)\n",
    "ske = 1.0e-5  # Elastic specific storage ($1/m$)\n",
    "skv = 1.0e-2  # Inelastic specific storage ($1/m$)\n",
    "theta = 0.45  # Interbed porosity (unitless)\n",
    "h0 = 1.0  # Initial interbed head ($m$)\n",
    "head_offset = 1.0  # Initial preconsolidation head ($m$)"
   ]
  },
  {
   "cell_type": "markdown",
   "id": "63141dea",
   "metadata": {},
   "source": [
    "Static temporal data used by TDIS file"
   ]
  },
  {
   "cell_type": "code",
   "execution_count": null,
   "id": "64bd2b5e",
   "metadata": {},
   "outputs": [],
   "source": [
    "tdis_ds = ((1000.0, 100, 1.05),)"
   ]
  },
  {
   "cell_type": "markdown",
   "id": "335c5918",
   "metadata": {},
   "source": [
    "Constant head cells"
   ]
  },
  {
   "cell_type": "code",
   "execution_count": null,
   "id": "8c928b98",
   "metadata": {},
   "outputs": [],
   "source": [
    "c6 = []\n",
    "for j in range(0, ncol, 2):\n",
    "    c6.append([0, 0, j, strt])"
   ]
  },
  {
   "cell_type": "markdown",
   "id": "521d096e",
   "metadata": {},
   "source": [
    "Solver parameters"
   ]
  },
  {
   "cell_type": "code",
   "execution_count": null,
   "id": "a7a2cdc2",
   "metadata": {
    "lines_to_next_cell": 2
   },
   "outputs": [],
   "source": [
    "nouter = 1000\n",
    "ninner = 300\n",
    "hclose = 1e-9\n",
    "rclose = 1e-6\n",
    "linaccel = \"bicgstab\"\n",
    "relax = 0.97"
   ]
  },
  {
   "cell_type": "markdown",
   "id": "c3c29b17",
   "metadata": {
    "lines_to_next_cell": 2
   },
   "source": [
    "### Functions to build, write, run, and plot the model\n",
    "\n",
    "MODFLOW 6 flopy simulation object (sim) is returned if building the model"
   ]
  },
  {
   "cell_type": "code",
   "execution_count": null,
   "id": "29ee296f",
   "metadata": {
    "lines_to_next_cell": 2
   },
   "outputs": [],
   "source": [
    "def build_model(\n",
    "    name,\n",
    "    subdir_name=\".\",\n",
    "    head_based=True,\n",
    "    bed_thickness=1.0,\n",
    "    kv=2e-6,\n",
    "    ndelaycells=19,\n",
    "):\n",
    "    if config.buildModel:\n",
    "        sim_ws = os.path.join(ws, name)\n",
    "        if subdir_name is not None:\n",
    "            sim_ws = os.path.join(sim_ws, subdir_name)\n",
    "        sim = flopy.mf6.MFSimulation(\n",
    "            sim_name=name, sim_ws=sim_ws, exe_name=config.mf6_exe\n",
    "        )\n",
    "        flopy.mf6.ModflowTdis(\n",
    "            sim, nper=nper, perioddata=tdis_ds, time_units=time_units\n",
    "        )\n",
    "        flopy.mf6.ModflowIms(\n",
    "            sim,\n",
    "            outer_maximum=nouter,\n",
    "            outer_dvclose=hclose,\n",
    "            linear_acceleration=linaccel,\n",
    "            inner_maximum=ninner,\n",
    "            inner_dvclose=hclose,\n",
    "            relaxation_factor=relax,\n",
    "            rcloserecord=\"{} strict\".format(rclose),\n",
    "        )\n",
    "        gwf = flopy.mf6.ModflowGwf(\n",
    "            sim, modelname=name, save_flows=True, newtonoptions=\"newton\"\n",
    "        )\n",
    "        flopy.mf6.ModflowGwfdis(\n",
    "            gwf,\n",
    "            length_units=length_units,\n",
    "            nlay=nlay,\n",
    "            nrow=nrow,\n",
    "            ncol=ncol,\n",
    "            delr=delr,\n",
    "            delc=delc,\n",
    "            top=top,\n",
    "            botm=botm,\n",
    "        )\n",
    "        # gwf obs\n",
    "        flopy.mf6.ModflowUtlobs(\n",
    "            gwf,\n",
    "            digits=10,\n",
    "            print_input=True,\n",
    "            continuous={\"gwf_obs.csv\": [(\"h1_1_2\", \"HEAD\", (0, 0, 1))]},\n",
    "        )\n",
    "\n",
    "        flopy.mf6.ModflowGwfic(gwf, strt=strt)\n",
    "        flopy.mf6.ModflowGwfnpf(\n",
    "            gwf,\n",
    "            icelltype=icelltype,\n",
    "            k=k11,\n",
    "            save_specific_discharge=True,\n",
    "        )\n",
    "        flopy.mf6.ModflowGwfsto(\n",
    "            gwf, iconvert=icelltype, ss=0.0, sy=0, transient={0: True}\n",
    "        )\n",
    "        if head_based:\n",
    "            hb_bool = True\n",
    "            pc0 = head_offset\n",
    "            tsgm = None\n",
    "            tsgs = None\n",
    "        else:\n",
    "            hb_bool = None\n",
    "            pc0 = -head_offset\n",
    "            tsgm = sgm\n",
    "            tsgs = sgs\n",
    "        sub6 = [\n",
    "            [\n",
    "                0,\n",
    "                0,\n",
    "                0,\n",
    "                1,\n",
    "                \"delay\",\n",
    "                pc0,\n",
    "                bed_thickness,\n",
    "                1.0,\n",
    "                skv,\n",
    "                ske,\n",
    "                theta,\n",
    "                kv,\n",
    "                h0,\n",
    "                \"ib1\",\n",
    "            ]\n",
    "        ]\n",
    "        csub = flopy.mf6.ModflowGwfcsub(\n",
    "            gwf,\n",
    "            print_input=True,\n",
    "            save_flows=True,\n",
    "            head_based=hb_bool,\n",
    "            ndelaycells=ndelaycells,\n",
    "            boundnames=True,\n",
    "            ninterbeds=1,\n",
    "            sgm=tsgm,\n",
    "            sgs=tsgs,\n",
    "            cg_theta=cg_theta,\n",
    "            cg_ske_cr=0.0,\n",
    "            beta=0.0,\n",
    "            packagedata=sub6,\n",
    "        )\n",
    "        opth = \"{}.csub.obs\".format(name)\n",
    "        csub_csv = opth + \".csv\"\n",
    "        obs = [\n",
    "            (\"tcomp\", \"interbed-compaction\", \"ib1\"),\n",
    "            (\"sk\", \"sk\", \"ib1\"),\n",
    "            (\"qtop\", \"delay-flowtop\", (0,)),\n",
    "            (\"qbot\", \"delay-flowbot\", (0,)),\n",
    "        ]\n",
    "        for k in range(ndelaycells):\n",
    "            tag = \"H{:04d}\".format(k + 1)\n",
    "            obs.append((tag, \"delay-head\", (0,), (k,)))\n",
    "        if not head_based:\n",
    "            iposm = int(ndelaycells / 2) + 1\n",
    "            iposb = ndelaycells - 1\n",
    "            obs += [\n",
    "                (\"est\", \"delay-estress\", (0,), (0,)),\n",
    "                (\"esm\", \"delay-estress\", (0,), (iposm,)),\n",
    "                (\"esb\", \"delay-estress\", (0,), (iposb,)),\n",
    "                (\"gs\", \"gstress-cell\", (0, 0, 1)),\n",
    "                (\"es\", \"estress-cell\", (0, 0, 1)),\n",
    "            ]\n",
    "        orecarray = {csub_csv: obs}\n",
    "        csub.obs.initialize(\n",
    "            filename=opth, digits=10, print_input=True, continuous=orecarray\n",
    "        )\n",
    "\n",
    "        flopy.mf6.ModflowGwfchd(gwf, stress_period_data={0: c6})\n",
    "\n",
    "        flopy.mf6.ModflowGwfoc(\n",
    "            gwf,\n",
    "            printrecord=[(\"BUDGET\", \"ALL\")],\n",
    "        )\n",
    "        return sim\n",
    "    return None"
   ]
  },
  {
   "cell_type": "markdown",
   "id": "8a80b889",
   "metadata": {
    "lines_to_next_cell": 2
   },
   "source": [
    "Function to write MODFLOW 6 model files"
   ]
  },
  {
   "cell_type": "code",
   "execution_count": null,
   "id": "836172cf",
   "metadata": {
    "lines_to_next_cell": 2
   },
   "outputs": [],
   "source": [
    "def write_model(sim, silent=True):\n",
    "    if config.writeModel:\n",
    "        sim.write_simulation(silent=silent)"
   ]
  },
  {
   "cell_type": "markdown",
   "id": "ac4a6485",
   "metadata": {
    "lines_to_next_cell": 2
   },
   "source": [
    "Function to run the model.\n",
    "True is returned if the model runs successfully\n"
   ]
  },
  {
   "cell_type": "code",
   "execution_count": null,
   "id": "c8f5a264",
   "metadata": {
    "lines_to_next_cell": 2
   },
   "outputs": [],
   "source": [
    "@config.timeit\n",
    "def run_model(sim, silent=True):\n",
    "    success = True\n",
    "    if config.runModel:\n",
    "        success, buff = sim.run_simulation(silent=silent)\n",
    "        if not success:\n",
    "            print(buff)\n",
    "\n",
    "    return success"
   ]
  },
  {
   "cell_type": "markdown",
   "id": "1e2b7fa1",
   "metadata": {
    "lines_to_next_cell": 2
   },
   "source": [
    "Analytical solution for plotting"
   ]
  },
  {
   "cell_type": "code",
   "execution_count": null,
   "id": "f8aa358b",
   "metadata": {
    "lines_to_next_cell": 2
   },
   "outputs": [],
   "source": [
    "def analytical_solution(\n",
    "    z, t, dh=1.0, b0=1.0, ssk=100.0, vk=0.025, n=100, silent=True\n",
    "):\n",
    "    v = 0.0\n",
    "    e = np.exp(1)\n",
    "    pi = np.pi\n",
    "    pi2 = np.pi ** 2\n",
    "    # calculate infinite sum\n",
    "    for k in range(n):\n",
    "        fk = float(k)\n",
    "        tauk = (0.5 * b0) ** 2.0 * ssk / ((2.0 * fk + 1.0) ** 2.0 * vk)\n",
    "        ep = ((2.0 * fk + 1.0) ** 2 * pi2 * vk * t) / (\n",
    "            4.0 * ssk * (0.5 * b0) ** 2.0\n",
    "        )\n",
    "        rad = (2.0 * fk + 1.0) * pi * z / b0\n",
    "        v += ((-1.0) ** fk / (2.0 * fk + 1.0)) * (e ** -ep) * np.cos(rad)\n",
    "        if not silent:\n",
    "            print(\"{:5d} {:20g} {:20g} {:20g}\".format(k, tauk, rad, v))\n",
    "    return dh - 4.0 * dh * v / pi"
   ]
  },
  {
   "cell_type": "markdown",
   "id": "ce352620",
   "metadata": {
    "lines_to_next_cell": 2
   },
   "source": [
    "Function to plot the model grid"
   ]
  },
  {
   "cell_type": "code",
   "execution_count": null,
   "id": "0e6fd889",
   "metadata": {
    "lines_to_next_cell": 2
   },
   "outputs": [],
   "source": [
    "def plot_grid(sim, silent=True):\n",
    "    verbose = not silent\n",
    "    fs = USGSFigure(figure_type=\"map\", verbose=verbose)\n",
    "    name = sim.name\n",
    "    gwf = sim.get_model(name)\n",
    "\n",
    "    fig, ax = plt.subplots(figsize=(6.8, 2.0))\n",
    "    mc = flopy.plot.PlotCrossSection(model=gwf, line={\"Row\": 0}, ax=ax)\n",
    "\n",
    "    ax.fill_between([0, 1], y1=0, y2=botm, color=\"cyan\", alpha=0.5)\n",
    "    fs.add_text(\n",
    "        ax=ax,\n",
    "        text=\"Constant head\",\n",
    "        x=0.5,\n",
    "        y=-500.0,\n",
    "        bold=False,\n",
    "        italic=False,\n",
    "        transform=False,\n",
    "        va=\"center\",\n",
    "        ha=\"center\",\n",
    "        fontsize=9,\n",
    "    )\n",
    "    ax.fill_between([2, 3], y1=0, y2=botm, color=\"cyan\", alpha=0.5)\n",
    "    fs.add_text(\n",
    "        ax=ax,\n",
    "        text=\"Constant head\",\n",
    "        x=2.5,\n",
    "        y=-500.0,\n",
    "        bold=False,\n",
    "        italic=False,\n",
    "        transform=False,\n",
    "        va=\"center\",\n",
    "        ha=\"center\",\n",
    "        fontsize=9,\n",
    "    )\n",
    "    ax.fill_between([1, 2], y1=-499.5, y2=-500.5, color=\"brown\", alpha=0.5)\n",
    "    fs.add_annotation(\n",
    "        ax=ax,\n",
    "        text=\"Delay interbed\",\n",
    "        xy=(1.5, -510.0),\n",
    "        xytext=(1.6, -300),\n",
    "        bold=False,\n",
    "        italic=False,\n",
    "        fontsize=9,\n",
    "        ha=\"center\",\n",
    "        va=\"center\",\n",
    "        zorder=100,\n",
    "        arrowprops=arrow_props,\n",
    "    )\n",
    "    mc.plot_grid(color=\"0.5\", lw=0.5, zorder=100)\n",
    "\n",
    "    ax.set_xlim(0, 3)\n",
    "    ax.set_ylabel(\"Elevation, in meters\")\n",
    "    ax.set_xlabel(\"x-coordinate, in meters\")\n",
    "    fs.remove_edge_ticks(ax)\n",
    "\n",
    "    plt.tight_layout()\n",
    "\n",
    "    # save figure\n",
    "    if config.plotSave:\n",
    "        fpth = os.path.join(\n",
    "            \"..\", \"figures\", \"{}-grid{}\".format(sim_name, config.figure_ext)\n",
    "        )\n",
    "        if not silent:\n",
    "            print(\"saving...'{}'\".format(fpth))\n",
    "        fig.savefig(fpth)"
   ]
  },
  {
   "cell_type": "markdown",
   "id": "891a88fa",
   "metadata": {
    "lines_to_next_cell": 2
   },
   "source": [
    "Function to plot the head based results"
   ]
  },
  {
   "cell_type": "code",
   "execution_count": null,
   "id": "a54b60b0",
   "metadata": {},
   "outputs": [],
   "source": [
    "def plot_head_based(sim, silent=True):\n",
    "    verbose = not silent\n",
    "    fs = USGSFigure(figure_type=\"graph\", verbose=verbose)\n",
    "    name = sim.name\n",
    "\n",
    "    # get csub observations\n",
    "    ws = sim.simulation_data.mfpath.get_sim_path()\n",
    "    s = flopy.mf6.MFSimulation().load(sim_ws=ws, verbosity_level=0)\n",
    "    gwf = s.get_model(name)\n",
    "    cobs = gwf.csub.output.obs().data\n",
    "\n",
    "    # calculate the compaction analytically\n",
    "    ac = []\n",
    "    nz = 100\n",
    "    thick = parameters[name][\"bed_thickness\"][0]\n",
    "    kv = parameters[name][\"kv\"][0]\n",
    "    dhalf = thick * 0.5\n",
    "    az = np.linspace(-dhalf, dhalf, num=nz)\n",
    "    dz = az[1] - az[0]\n",
    "    for tt in cobs[\"totim\"]:\n",
    "        c = 0.0\n",
    "        for jdx, zz in enumerate(az):\n",
    "            f = 1.0\n",
    "            if jdx == 0 or jdx == nz - 1:\n",
    "                f = 0.5\n",
    "            h = analytical_solution(zz, tt, ssk=skv, vk=kv, n=200, dh=1.0)\n",
    "            c += h * skv * f * dz\n",
    "        ac.append(c)\n",
    "    ac = np.array(ac)\n",
    "\n",
    "    # calculate normalized simulation time\n",
    "    tpct = cobs[\"totim\"] * 100 / tau0\n",
    "\n",
    "    # plot the results\n",
    "    fig = plt.figure(figsize=figure_size)\n",
    "    gs = mpl.gridspec.GridSpec(1, 2, figure=fig)\n",
    "\n",
    "    idx = 0\n",
    "    ax = fig.add_subplot(gs[idx])\n",
    "    ax.plot(\n",
    "        tpct,\n",
    "        100 * ac / skv,\n",
    "        marker=\".\",\n",
    "        lw=0,\n",
    "        ms=3,\n",
    "        color=\"red\",\n",
    "        label=\"Analytical\",\n",
    "    )\n",
    "    ax.plot(\n",
    "        tpct,\n",
    "        100 * cobs[\"TCOMP\"] / skv,\n",
    "        label=\"Simulated\",\n",
    "        color=\"black\",\n",
    "        lw=1,\n",
    "        zorder=100,\n",
    "    )\n",
    "    leg = fs.graph_legend(ax, loc=\"lower right\")\n",
    "    ax.set_xticks(np.arange(0, 110, 10))\n",
    "    ax.set_yticks(np.arange(0, 110, 10))\n",
    "    ax.set_xlabel(\"Percent of time constant\")\n",
    "    ax.set_ylabel(\"Compaction, in percent of ultimate value\")\n",
    "    ax.set_xlim(0, 100)\n",
    "    ax.set_ylim(0, 100)\n",
    "    fs.heading(ax, letter=\"A\")\n",
    "    fs.remove_edge_ticks(ax)\n",
    "\n",
    "    idx += 1\n",
    "    ax = fig.add_subplot(gs[idx])\n",
    "    ax.plot(\n",
    "        tpct, 100 * (ac - cobs[\"TCOMP\"]) / skv, lw=1, ls=\":\", color=\"black\"\n",
    "    )\n",
    "    ax.set_xticks(np.arange(0, 110, 10))\n",
    "    ax.set_yticks(np.arange(0, 2.2, 0.2))\n",
    "    ax.set_xlabel(\"Percent of time constant\")\n",
    "    ax.set_ylabel(\n",
    "        \"Analytical minus simulated subsidence,\\nin percent of ultimate value\"\n",
    "    )\n",
    "    ax.set_xlim(0, 100)\n",
    "    ax.set_ylim(0, 2)\n",
    "    fs.heading(ax, letter=\"B\")\n",
    "    fs.remove_edge_ticks(ax)\n",
    "\n",
    "    plt.tight_layout()\n",
    "\n",
    "    # save figure\n",
    "    if config.plotSave:\n",
    "        fpth = os.path.join(\n",
    "            \"..\", \"figures\", \"{}-01{}\".format(name, config.figure_ext)\n",
    "        )\n",
    "        if not silent:\n",
    "            print(\"saving...'{}'\".format(fpth))\n",
    "        fig.savefig(fpth)"
   ]
  },
  {
   "cell_type": "code",
   "execution_count": null,
   "id": "3404eef8",
   "metadata": {
    "lines_to_next_cell": 2
   },
   "outputs": [],
   "source": [
    "def plot_effstress(sim, silent=True):\n",
    "    verbose = not silent\n",
    "    fs = USGSFigure(figure_type=\"graph\", verbose=verbose)\n",
    "    name = sim.name\n",
    "\n",
    "    # get effective stress csub observations\n",
    "    gwf = sim.get_model(name)\n",
    "    cobs = gwf.csub.output.obs().data\n",
    "\n",
    "    # get head-based csub observations\n",
    "    name0 = name.replace(\"-p02b\", \"-p02a\")\n",
    "    ws0 = os.path.join(ws, name0)\n",
    "    sim0 = flopy.mf6.MFSimulation().load(sim_ws=ws0, verbosity_level=0)\n",
    "    gwf0 = sim0.get_model(name0)\n",
    "    cobs0 = gwf0.csub.output.obs().data\n",
    "\n",
    "    # calculate normalized simulation time\n",
    "    tpct = cobs[\"totim\"] * 100 / tau0\n",
    "\n",
    "    # plot the results\n",
    "    fig = plt.figure(figsize=figure_size)\n",
    "    gs = mpl.gridspec.GridSpec(1, 2, figure=fig)\n",
    "\n",
    "    idx = 0\n",
    "    ax = fig.add_subplot(gs[idx])\n",
    "    ax.plot(\n",
    "        tpct,\n",
    "        100 * cobs0[\"TCOMP\"] / skv,\n",
    "        lw=0,\n",
    "        marker=\".\",\n",
    "        ms=3,\n",
    "        color=\"#238A8DFF\",\n",
    "        label=\"Head-based\",\n",
    "    )\n",
    "    ax.plot(\n",
    "        tpct,\n",
    "        100 * cobs[\"TCOMP\"] / skv,\n",
    "        lw=0.75,\n",
    "        label=\"Effective stress-based\",\n",
    "        color=\"black\",\n",
    "        zorder=100,\n",
    "    )\n",
    "    leg = fs.graph_legend(ax, loc=\"lower right\")\n",
    "    ax.set_xticks(np.arange(0, 110, 10))\n",
    "    ax.set_yticks(np.arange(0, 110, 10))\n",
    "    ax.set_xlabel(\"Percent of time constant\")\n",
    "    ax.set_ylabel(\"Compaction, in percent of ultimate value\")\n",
    "    ax.set_xlim(0, 100)\n",
    "    ax.set_ylim(0, 100)\n",
    "    fs.heading(ax, letter=\"A\")\n",
    "    fs.remove_edge_ticks(ax)\n",
    "\n",
    "    idx += 1\n",
    "    ax = fig.add_subplot(gs[idx])\n",
    "    ax.plot(\n",
    "        tpct,\n",
    "        100 * (cobs0[\"TCOMP\"] - cobs[\"TCOMP\"]) / skv,\n",
    "        lw=1,\n",
    "        ls=\":\",\n",
    "        color=\"black\",\n",
    "    )\n",
    "    ax.set_xticks(np.arange(0, 110, 10))\n",
    "    ax.set_xlabel(\"Percent of time constant\")\n",
    "    ax.set_ylabel(\n",
    "        \"Head-based minus effective stress-based\\nsubsidence, in percent of ultimate value\"\n",
    "    )\n",
    "    ax.set_xlim(0, 100)\n",
    "    fs.heading(ax, letter=\"B\")\n",
    "    fs.remove_edge_ticks(ax)\n",
    "\n",
    "    plt.tight_layout()\n",
    "\n",
    "    # save figure\n",
    "    if config.plotSave:\n",
    "        fpth = os.path.join(\n",
    "            \"..\", \"figures\", \"{}-01{}\".format(name, config.figure_ext)\n",
    "        )\n",
    "        if not silent:\n",
    "            print(\"saving...'{}'\".format(fpth))\n",
    "        fig.savefig(fpth)"
   ]
  },
  {
   "cell_type": "markdown",
   "id": "cf9ab93f",
   "metadata": {
    "lines_to_next_cell": 2
   },
   "source": [
    "Function to get subdirectory names"
   ]
  },
  {
   "cell_type": "code",
   "execution_count": null,
   "id": "01727644",
   "metadata": {
    "lines_to_next_cell": 2
   },
   "outputs": [],
   "source": [
    "def get_subdirs(sim):\n",
    "    name = sim.name\n",
    "    # get the subdirectory names\n",
    "    pth = os.path.join(ws, name)\n",
    "    hb_dirs = [\n",
    "        name\n",
    "        for name in sorted(os.listdir(pth))\n",
    "        if os.path.isdir(os.path.join(pth, name)) and name.startswith(\"hb-\")\n",
    "    ]\n",
    "    es_dirs = [\n",
    "        name\n",
    "        for name in sorted(os.listdir(pth))\n",
    "        if os.path.isdir(os.path.join(pth, name)) and name.startswith(\"es-\")\n",
    "    ]\n",
    "    return hb_dirs, es_dirs"
   ]
  },
  {
   "cell_type": "markdown",
   "id": "55352d97",
   "metadata": {
    "lines_to_next_cell": 2
   },
   "source": [
    "Function to process interbed heads"
   ]
  },
  {
   "cell_type": "code",
   "execution_count": null,
   "id": "e8eb2c11",
   "metadata": {
    "lines_to_next_cell": 2
   },
   "outputs": [],
   "source": [
    "def fill_heads(rec_arr, ndcells):\n",
    "    arr = np.zeros((rec_arr.shape[0], ndcells), dtype=float)\n",
    "    for i in range(100):\n",
    "        for j in range(ndcells):\n",
    "            name = \"H{:04d}\".format(j + 1)\n",
    "            arr[i, j] = rec_arr[name][i]\n",
    "    return arr"
   ]
  },
  {
   "cell_type": "markdown",
   "id": "eda785c9",
   "metadata": {
    "lines_to_next_cell": 2
   },
   "source": [
    "Function to plot the results for multiple interbed thicknesses"
   ]
  },
  {
   "cell_type": "code",
   "execution_count": null,
   "id": "6c6d72e5",
   "metadata": {
    "lines_to_next_cell": 2
   },
   "outputs": [],
   "source": [
    "def plot_comp_q_comparison(sim, silent=True):\n",
    "    verbose = not silent\n",
    "    fs = USGSFigure(figure_type=\"graph\", verbose=verbose)\n",
    "    name = sim.name\n",
    "    thicknesses = parameters[name][\"bed_thickness\"]\n",
    "\n",
    "    # get the subdirectory names\n",
    "    hb_dirs, es_dirs = get_subdirs(sim)\n",
    "\n",
    "    # setup the figure\n",
    "    fig = plt.figure(figsize=figure_size)\n",
    "    gs = mpl.gridspec.GridSpec(1, 2, figure=fig)\n",
    "\n",
    "    # set color\n",
    "    cmap = plt.get_cmap(\"viridis\")\n",
    "    cNorm = mpl.colors.Normalize(vmin=0, vmax=6)\n",
    "    scalarMap = mpl.cm.ScalarMappable(norm=cNorm, cmap=cmap)\n",
    "\n",
    "    axes = []\n",
    "    for idx in range(2):\n",
    "        ax = fig.add_subplot(gs[idx])\n",
    "        if idx == 0:\n",
    "            ax.set_yticks(np.arange(-0.40, 0.1, 0.05))\n",
    "            ax.set_ylim(-0.40, 0)\n",
    "            ax.set_xlim(0, 100)\n",
    "            ylabel = (\n",
    "                \"Head-based minus effective stress-based\\nsubsidence, \"\n",
    "                + \"in percent of ultimate value\"\n",
    "            )\n",
    "        else:\n",
    "            ax.set_ylim(0, 8)\n",
    "            ax.set_xlim(0, 100)\n",
    "            ylabel = (\n",
    "                \"Top minus bottom interbed effective stress-based\\ndrainage \"\n",
    "                + \"rate, in percent of head-based drainage rate\"\n",
    "            )\n",
    "        ax.set_xlabel(\"Percent of time constant\")\n",
    "        ax.set_ylabel(ylabel)\n",
    "        fs.heading(ax, letter=chr(ord(\"A\") + idx))\n",
    "        axes.append(ax)\n",
    "\n",
    "    for idx, (hb_dir, es_dir) in enumerate(zip(hb_dirs, es_dirs)):\n",
    "        sim_ws = os.path.join(ws, name, hb_dir)\n",
    "        s = flopy.mf6.MFSimulation().load(sim_ws=sim_ws, verbosity_level=0)\n",
    "        g = s.get_model(name)\n",
    "        hb_obs = g.csub.output.obs().data\n",
    "\n",
    "        ws0 = os.path.join(ws, name, es_dir)\n",
    "        s0 = flopy.mf6.MFSimulation().load(sim_ws=ws0, verbosity_level=0)\n",
    "        g0 = s0.get_model(name)\n",
    "        es_obs = g0.csub.output.obs().data\n",
    "\n",
    "        # calculate normalized simulation time\n",
    "        tpct = hb_obs[\"totim\"] * 100 / tau0\n",
    "\n",
    "        thickness = thicknesses[idx]\n",
    "        if idx == 0:\n",
    "            color = \"black\"\n",
    "        else:\n",
    "            color = scalarMap.to_rgba(idx - 1)\n",
    "        label = \"Thickness = {:>3d} m\".format(int(thickness))\n",
    "\n",
    "        v = 100.0 * (hb_obs[\"TCOMP\"] - es_obs[\"TCOMP\"]) / (skv * thickness)\n",
    "        ax = axes[0]\n",
    "        ax.plot(tpct, v, color=color, lw=0.75, label=label)\n",
    "\n",
    "        denom = hb_obs[\"QTOP\"] + hb_obs[\"QBOT\"]\n",
    "        v = 100 * (es_obs[\"QTOP\"] - es_obs[\"QBOT\"]) / denom\n",
    "        ax = axes[1]\n",
    "        ax.plot(tpct, v, color=color, lw=0.75, label=label)\n",
    "\n",
    "    # legend\n",
    "    ax = axes[-1]\n",
    "    leg = fs.graph_legend(ax, loc=\"upper right\")\n",
    "\n",
    "    # save figure\n",
    "    if config.plotSave:\n",
    "        fpth = os.path.join(\n",
    "            \"..\", \"figures\", \"{}-01{}\".format(name, config.figure_ext)\n",
    "        )\n",
    "        if not silent:\n",
    "            print(\"saving...'{}'\".format(fpth))\n",
    "        fig.savefig(fpth)"
   ]
  },
  {
   "cell_type": "markdown",
   "id": "eaeb40c2",
   "metadata": {
    "lines_to_next_cell": 2
   },
   "source": [
    "Function to plot the interbed head results for multiple interbed thicknesses"
   ]
  },
  {
   "cell_type": "code",
   "execution_count": null,
   "id": "d12b58de",
   "metadata": {
    "lines_to_next_cell": 2
   },
   "outputs": [],
   "source": [
    "def plot_head_comparison(sim, silent=True):\n",
    "    verbose = not silent\n",
    "    fs = USGSFigure(figure_type=\"graph\", verbose=verbose)\n",
    "    name = sim.name\n",
    "    ndcells = parameters[name][\"ndelaycells\"]\n",
    "    thicknesses = parameters[name][\"bed_thickness\"]\n",
    "\n",
    "    # get the subdirectory names\n",
    "    hb_dirs, es_dirs = get_subdirs(sim)\n",
    "\n",
    "    # setup the figure\n",
    "    fig = plt.figure(figsize=figure_size)\n",
    "    fig.subplots_adjust(\n",
    "        left=0.06, right=0.95, top=0.95, bottom=0.15, wspace=0.1\n",
    "    )\n",
    "    gs = mpl.gridspec.GridSpec(1, 6, figure=fig)\n",
    "    z = np.linspace(0, 1, ndcells)\n",
    "    yticks = np.arange(0, 1.1, 0.1)\n",
    "\n",
    "    # set color\n",
    "    cmap = plt.get_cmap(\"viridis\")\n",
    "    cNorm = mpl.colors.Normalize(vmin=0, vmax=6)\n",
    "    scalarMap = mpl.cm.ScalarMappable(norm=cNorm, cmap=cmap)\n",
    "\n",
    "    # percentages to evaluate\n",
    "    pct_vals = (\n",
    "        1,\n",
    "        5,\n",
    "        10,\n",
    "        50,\n",
    "        100,\n",
    "    )\n",
    "\n",
    "    axes = []\n",
    "    for idx in range(6):\n",
    "        ax = fig.add_subplot(gs[idx])\n",
    "        ax.set_ylim(1, 0)\n",
    "        ax.set_xlim(-5, 5)\n",
    "        if idx < 5:\n",
    "            fs.heading(ax, letter=chr(ord(\"A\") + idx))\n",
    "            ax.set_yticks(yticks)\n",
    "            fs.remove_edge_ticks(ax)\n",
    "            text = r\"$\\frac{t}{\\tau_0}$ = \" + \"{}\".format(\n",
    "                pct_vals[idx] / 100.0\n",
    "            )\n",
    "            ax.text(\n",
    "                0.25,\n",
    "                0.01,\n",
    "                text,\n",
    "                ha=\"center\",\n",
    "                va=\"bottom\",\n",
    "                transform=ax.transAxes,\n",
    "                fontsize=8,\n",
    "            )\n",
    "        else:\n",
    "            ax.set_xticks([])\n",
    "            ax.set_yticks([])\n",
    "\n",
    "        if idx == 0:\n",
    "            ax.set_ylabel(\"Interbed position, relative to interbed thickness\")\n",
    "        else:\n",
    "            if idx == 2:\n",
    "                text = (\n",
    "                    \"Difference in head-based and effective stress-based\"\n",
    "                    + \"\\ninterbed heads, in percent of head-based interbed heads\"\n",
    "                )\n",
    "                ax.set_xlabel(text)\n",
    "            ax.set_yticklabels([])\n",
    "        axes.append(ax)\n",
    "\n",
    "    for idx, (hb_dir, es_dir) in enumerate(zip(hb_dirs, es_dirs)):\n",
    "        sim_ws = os.path.join(ws, name, hb_dir)\n",
    "        s = flopy.mf6.MFSimulation().load(sim_ws=sim_ws, verbosity_level=0)\n",
    "        g = s.get_model(name)\n",
    "        hb_obs = g.csub.output.obs().data\n",
    "        hb_arr = fill_heads(hb_obs, ndcells)\n",
    "\n",
    "        ws0 = os.path.join(ws, name, es_dir)\n",
    "        s0 = flopy.mf6.MFSimulation().load(sim_ws=ws0, verbosity_level=0)\n",
    "        g0 = s0.get_model(name)\n",
    "        es_obs = g0.csub.output.obs().data\n",
    "        es_arr = fill_heads(es_obs, ndcells)\n",
    "        #\n",
    "        # pth = os.path.join(ws, name, hb_dir, \"{}.csub.obs.csv\".format(name))\n",
    "        # hb_obs = np.genfromtxt(pth, names=True, delimiter=\",\")\n",
    "        # hb_arr = fill_heads(hb_obs, ndcells)\n",
    "        #\n",
    "        # pth = os.path.join(ws, name, es_dir, \"{}.csub.obs.csv\".format(name))\n",
    "        # es_obs = np.genfromtxt(pth, names=True, delimiter=\",\")\n",
    "        # es_arr = fill_heads(es_obs, ndcells)\n",
    "\n",
    "        # calculate normalized simulation time\n",
    "        tpct = hb_obs[\"totim\"] * 100 / tau0\n",
    "\n",
    "        # calculate location closest to 1, 5, 10, 50, and 100 percent of time constant\n",
    "        locs = {}\n",
    "        for i in pct_vals:\n",
    "            for jdx, t in enumerate(tpct):\n",
    "                if t <= i:\n",
    "                    locs[i] = jdx\n",
    "\n",
    "        for jdx, (key, ivalue) in enumerate(locs.items()):\n",
    "            # add data to the subplot\n",
    "            ax = axes[jdx]\n",
    "            if idx == 0:\n",
    "                color = \"black\"\n",
    "            else:\n",
    "                color = scalarMap.to_rgba(idx - 1)\n",
    "            hhb = hb_arr[ivalue, :]\n",
    "            hes = es_arr[ivalue, :]\n",
    "            v = 100.0 * (hhb - hes) / hhb\n",
    "            ax.plot(v, z, lw=0.75, color=color)\n",
    "\n",
    "    # legend\n",
    "    ax = axes[-1]\n",
    "    ax.set_ylim(1, 0)\n",
    "    ax.set_xlim(-5, 5)\n",
    "    ax.spines[\"top\"].set_color(\"none\")\n",
    "    ax.spines[\"bottom\"].set_color(\"none\")\n",
    "    ax.spines[\"left\"].set_color(\"none\")\n",
    "    ax.spines[\"right\"].set_color(\"none\")\n",
    "    ax.patch.set_alpha(0.0)\n",
    "    for ic, b in enumerate(thicknesses):\n",
    "        if ic == 0:\n",
    "            color = \"black\"\n",
    "        else:\n",
    "            color = scalarMap.to_rgba(ic - 1)\n",
    "        label = \"Thickness = {:>3d} m\".format(int(b))\n",
    "        ax.plot([-1, -1], [-1, -1], lw=0.75, color=color, label=label)\n",
    "\n",
    "    leg = fs.graph_legend(ax, loc=\"center\", bbox_to_anchor=(0.64, 0.5))\n",
    "\n",
    "    # save figure\n",
    "    if config.plotSave:\n",
    "        fpth = os.path.join(\n",
    "            \"..\", \"figures\", \"{}-02{}\".format(name, config.figure_ext)\n",
    "        )\n",
    "        if not silent:\n",
    "            print(\"saving...'{}'\".format(fpth))\n",
    "        fig.savefig(fpth)"
   ]
  },
  {
   "cell_type": "markdown",
   "id": "9b2eef17",
   "metadata": {
    "lines_to_next_cell": 2
   },
   "source": [
    "Function to plot the model results."
   ]
  },
  {
   "cell_type": "code",
   "execution_count": null,
   "id": "99bd02db",
   "metadata": {
    "lines_to_next_cell": 2
   },
   "outputs": [],
   "source": [
    "def plot_results(sim, silent=True):\n",
    "    if config.plotModel:\n",
    "        name = sim.name\n",
    "\n",
    "        if name.endswith(\"a\"):\n",
    "            plot_grid(sim, silent=silent)\n",
    "            plot_head_based(sim, silent=silent)\n",
    "        elif name.endswith(\"b\"):\n",
    "            plot_effstress(sim, silent=silent)\n",
    "        elif name.endswith(\"c\"):\n",
    "            plot_comp_q_comparison(sim, silent=silent)\n",
    "            plot_head_comparison(sim, silent=silent)"
   ]
  },
  {
   "cell_type": "markdown",
   "id": "1c9387fe",
   "metadata": {
    "lines_to_next_cell": 2
   },
   "source": [
    "Function that wraps all of the steps for the model\n",
    "\n",
    "1. build_model,\n",
    "2. write_model,\n",
    "3. run_model, and\n",
    "4. plot_results.\n"
   ]
  },
  {
   "cell_type": "code",
   "execution_count": null,
   "id": "1d78f259",
   "metadata": {},
   "outputs": [],
   "source": [
    "def simulation(idx, silent=True):\n",
    "    key = list(parameters.keys())[idx]\n",
    "    interbed_thickness = parameters[key][\"bed_thickness\"]\n",
    "    interbed_kv = parameters[key][\"kv\"]\n",
    "    params = parameters[key].copy()\n",
    "\n",
    "    success = False\n",
    "    if len(interbed_thickness) == 1:\n",
    "        params[\"bed_thickness\"] = interbed_thickness[0]\n",
    "        params[\"kv\"] = interbed_kv[0]\n",
    "\n",
    "        sim = build_model(key, **params)\n",
    "\n",
    "        write_model(sim, silent=silent)\n",
    "\n",
    "        if config.runModel:\n",
    "            success = run_model(sim, silent=silent)\n",
    "\n",
    "    else:\n",
    "        for b, kv in zip(interbed_thickness, interbed_kv):\n",
    "            for head_based in (\n",
    "                True,\n",
    "                False,\n",
    "            ):\n",
    "                if head_based:\n",
    "                    subdir_name = \"hb-\"\n",
    "                else:\n",
    "                    subdir_name = \"es-\"\n",
    "                subdir_name += \"{:03d}\".format(int(b))\n",
    "                params[\"head_based\"] = head_based\n",
    "                params[\"bed_thickness\"] = b\n",
    "                params[\"kv\"] = kv\n",
    "\n",
    "                sim = build_model(key, subdir_name=subdir_name, **params)\n",
    "\n",
    "                write_model(sim, silent=silent)\n",
    "\n",
    "                if config.runModel:\n",
    "                    success = run_model(sim, silent=silent)\n",
    "\n",
    "\n",
    "    if config.plotModel and success:\n",
    "        plot_results(sim, silent=silent)"
   ]
  },
  {
   "cell_type": "code",
   "execution_count": null,
   "id": "bad441a2",
   "metadata": {},
   "outputs": [],
   "source": []
  },
  {
   "cell_type": "markdown",
   "id": "46126ba5",
   "metadata": {},
   "source": [
    "### Delay interbed drainage\n",
    "\n",
    "#### Head based solution"
   ]
  },
  {
   "cell_type": "code",
   "execution_count": null,
   "id": "4ba7e6bb",
   "metadata": {},
   "outputs": [],
   "source": [
    "simulation(0)"
   ]
  },
  {
   "cell_type": "markdown",
   "id": "cbb022ce",
   "metadata": {},
   "source": [
    "#### Effective stress solution"
   ]
  },
  {
   "cell_type": "code",
   "execution_count": null,
   "id": "554b00db",
   "metadata": {},
   "outputs": [],
   "source": [
    "simulation(1)"
   ]
  },
  {
   "cell_type": "markdown",
   "id": "dc6f7a24",
   "metadata": {},
   "source": [
    "#### Head based for multiple interbed thicknesses"
   ]
  },
  {
   "cell_type": "code",
   "execution_count": null,
   "id": "02468bfd",
   "metadata": {},
   "outputs": [],
   "source": [
    "simulation(2)"
   ]
  }
 ],
 "metadata": {
  "jupytext": {
   "cell_metadata_filter": "-all",
   "main_language": "python",
   "notebook_metadata_filter": "-all"
  }
 },
 "nbformat": 4,
 "nbformat_minor": 5
}
