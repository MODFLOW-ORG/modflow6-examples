{
 "cells": [
  {
   "cell_type": "markdown",
   "metadata": {},
   "source": [
    "## Flow diversion example\n",
    "\n"
   ]
  },
  {
   "cell_type": "markdown",
   "metadata": {},
   "source": [
    "### Flow diversion Problem Setup\n",
    "\n",
    "Imports"
   ]
  },
  {
   "cell_type": "code",
   "execution_count": null,
   "metadata": {},
   "outputs": [],
   "source": [
    "import os\n",
    "import sys\n",
    "import numpy as np\n",
    "import matplotlib as mpl\n",
    "import matplotlib.pyplot as plt\n",
    "import flopy"
   ]
  },
  {
   "cell_type": "markdown",
   "metadata": {},
   "source": [
    "Append to system path to include the common subdirectory"
   ]
  },
  {
   "cell_type": "code",
   "execution_count": null,
   "metadata": {},
   "outputs": [],
   "source": [
    "sys.path.append(os.path.join(\"..\", \"common\"))"
   ]
  },
  {
   "cell_type": "markdown",
   "metadata": {},
   "source": [
    "import common functionality"
   ]
  },
  {
   "cell_type": "code",
   "execution_count": null,
   "metadata": {},
   "outputs": [],
   "source": [
    "import config\n",
    "from figspecs import USGSFigure"
   ]
  },
  {
   "cell_type": "markdown",
   "metadata": {},
   "source": [
    "Set figure properties"
   ]
  },
  {
   "cell_type": "code",
   "execution_count": null,
   "metadata": {},
   "outputs": [],
   "source": [
    "figure_size = (6.3, 6.3)\n",
    "masked_values = (1e30, -1e30)"
   ]
  },
  {
   "cell_type": "markdown",
   "metadata": {},
   "source": [
    "Base simulation and model name and workspace"
   ]
  },
  {
   "cell_type": "code",
   "execution_count": null,
   "metadata": {},
   "outputs": [],
   "source": [
    "ws = config.base_ws"
   ]
  },
  {
   "cell_type": "markdown",
   "metadata": {},
   "source": [
    "Simulation name"
   ]
  },
  {
   "cell_type": "code",
   "execution_count": null,
   "metadata": {},
   "outputs": [],
   "source": [
    "sim_name = \"ex-gwf-nwt-p02\""
   ]
  },
  {
   "cell_type": "markdown",
   "metadata": {},
   "source": [
    "Model units"
   ]
  },
  {
   "cell_type": "code",
   "execution_count": null,
   "metadata": {},
   "outputs": [],
   "source": [
    "length_units = \"feet\"\n",
    "time_units = \"days\""
   ]
  },
  {
   "cell_type": "markdown",
   "metadata": {},
   "source": [
    "Scenario parameters"
   ]
  },
  {
   "cell_type": "code",
   "execution_count": null,
   "metadata": {},
   "outputs": [],
   "source": [
    "parameters = {\n",
    "    \"ex-gwf-nwt-p02a\": {\n",
    "        \"newton\": \"newton\",\n",
    "    },\n",
    "    \"ex-gwf-nwt-p02b\": {\n",
    "        \"rewet\": True,\n",
    "        \"wetfct\": 0.5,\n",
    "        \"iwetit\": 1,\n",
    "        \"ihdwet\": 1,\n",
    "        \"wetdry\": -0.5,\n",
    "    },\n",
    "}"
   ]
  },
  {
   "cell_type": "markdown",
   "metadata": {},
   "source": [
    "Table"
   ]
  },
  {
   "cell_type": "code",
   "execution_count": null,
   "metadata": {
    "lines_to_next_cell": 2
   },
   "outputs": [],
   "source": [
    "nper = 4  # Number of periods\n",
    "nlay = 14  # Number of layers\n",
    "nrow = 40  # Number of rows\n",
    "ncol = 40  # Number of columns\n",
    "delr = 125.0  # Column width ($ft$)\n",
    "delc = 125.0  # Row width ($ft$)\n",
    "top = 80.0  # Top of the model ($ft$)\n",
    "k11 = 5.0  # Horizontal hydraulic conductivity ($ft/day$)\n",
    "k33 = 0.25  # Horizontal hydraulic conductivity ($ft/day$)\n",
    "ss = 0.0002  # Specific storage ($1/day$)\n",
    "sy = 0.2  # Specific yield (unitless)\n",
    "H1 = 25.0  # Constant head along left and lower edges and starting head ($ft$)\n",
    "rech = 0.05  # Recharge rate ($ft/day$)"
   ]
  },
  {
   "cell_type": "markdown",
   "metadata": {},
   "source": [
    "Static temporal data used by TDIS file"
   ]
  },
  {
   "cell_type": "code",
   "execution_count": null,
   "metadata": {},
   "outputs": [],
   "source": [
    "tdis_ds = (\n",
    "    (190.0, 10, 1.0),\n",
    "    (518.0, 2, 1.0),\n",
    "    (1921.0, 17, 1.0),\n",
    "    (1.0, 1, 1.0),\n",
    ")"
   ]
  },
  {
   "cell_type": "markdown",
   "metadata": {},
   "source": [
    "Calculate extents, and shape3d"
   ]
  },
  {
   "cell_type": "code",
   "execution_count": null,
   "metadata": {},
   "outputs": [],
   "source": [
    "extents = (0, delr * ncol, 20, 65)\n",
    "shape3d = (nlay, nrow, ncol)"
   ]
  },
  {
   "cell_type": "markdown",
   "metadata": {},
   "source": [
    "Create the bottom"
   ]
  },
  {
   "cell_type": "code",
   "execution_count": null,
   "metadata": {},
   "outputs": [],
   "source": [
    "botm = np.arange(65.0, -5.0, -5.0)"
   ]
  },
  {
   "cell_type": "markdown",
   "metadata": {},
   "source": [
    "Create icelltype (which is the same as iconvert)"
   ]
  },
  {
   "cell_type": "code",
   "execution_count": null,
   "metadata": {},
   "outputs": [],
   "source": [
    "icelltype = 9 * [1] + 5 * [0]"
   ]
  },
  {
   "cell_type": "markdown",
   "metadata": {},
   "source": [
    "Constant head boundary conditions"
   ]
  },
  {
   "cell_type": "code",
   "execution_count": null,
   "metadata": {
    "lines_to_next_cell": 2
   },
   "outputs": [],
   "source": [
    "chd_spd = []\n",
    "for k in range(9, nlay, 1):\n",
    "    chd_spd += [[k, i, ncol - 1, H1] for i in range(nrow - 1)]\n",
    "    chd_spd += [[k, nrow - 1, j, H1] for j in range(ncol)]"
   ]
  },
  {
   "cell_type": "markdown",
   "metadata": {},
   "source": [
    "Recharge boundary conditions"
   ]
  },
  {
   "cell_type": "code",
   "execution_count": null,
   "metadata": {},
   "outputs": [],
   "source": [
    "rch_spd = []\n",
    "for i in range(0, 2, 1):\n",
    "    for j in range(0, 2, 1):\n",
    "        rch_spd.append([0, i, j, rech])"
   ]
  },
  {
   "cell_type": "markdown",
   "metadata": {},
   "source": [
    "Solver parameters"
   ]
  },
  {
   "cell_type": "code",
   "execution_count": null,
   "metadata": {},
   "outputs": [],
   "source": [
    "nouter = 500\n",
    "ninner = 100\n",
    "hclose = 1e-6\n",
    "rclose = 1000.0"
   ]
  },
  {
   "cell_type": "markdown",
   "metadata": {
    "lines_to_next_cell": 2
   },
   "source": [
    "### Functions to build, write, run, and plot the model\n",
    "\n",
    "MODFLOW 6 flopy simulation object (sim) is returned if building the model"
   ]
  },
  {
   "cell_type": "code",
   "execution_count": null,
   "metadata": {
    "lines_to_next_cell": 2
   },
   "outputs": [],
   "source": [
    "def build_model(\n",
    "    name,\n",
    "    newton=False,\n",
    "    rewet=False,\n",
    "    wetfct=None,\n",
    "    iwetit=None,\n",
    "    ihdwet=None,\n",
    "    wetdry=None,\n",
    "):\n",
    "    if config.buildModel:\n",
    "        sim_ws = os.path.join(ws, name)\n",
    "        sim = flopy.mf6.MFSimulation(\n",
    "            sim_name=sim_name, sim_ws=sim_ws, exe_name=config.mf6_exe\n",
    "        )\n",
    "        flopy.mf6.ModflowTdis(\n",
    "            sim, nper=nper, perioddata=tdis_ds, time_units=time_units\n",
    "        )\n",
    "        if newton:\n",
    "            newtonoptions=\"newton\"\n",
    "            no_ptc = \"ALL\"\n",
    "            complexity = \"complex\"\n",
    "        else:\n",
    "            newtonoptions = None\n",
    "            no_ptc = None\n",
    "            complexity = \"simple\"\n",
    "\n",
    "        flopy.mf6.ModflowIms(\n",
    "            sim,\n",
    "            complexity=complexity,\n",
    "            print_option=\"SUMMARY\",\n",
    "            no_ptcrecord=no_ptc,\n",
    "            outer_maximum=nouter,\n",
    "            outer_dvclose=hclose,\n",
    "            inner_maximum=ninner,\n",
    "            inner_dvclose=hclose,\n",
    "            rcloserecord=rclose,\n",
    "        )\n",
    "        gwf = flopy.mf6.ModflowGwf(\n",
    "            sim,\n",
    "            modelname=sim_name,\n",
    "            newtonoptions=newtonoptions,\n",
    "        )\n",
    "        flopy.mf6.ModflowGwfdis(\n",
    "            gwf,\n",
    "            length_units=length_units,\n",
    "            nlay=nlay,\n",
    "            nrow=nrow,\n",
    "            ncol=ncol,\n",
    "            delr=delr,\n",
    "            delc=delc,\n",
    "            top=top,\n",
    "            botm=botm,\n",
    "        )\n",
    "        if rewet:\n",
    "            rewet_record = [\n",
    "                \"wetfct\",\n",
    "                wetfct,\n",
    "                \"iwetit\",\n",
    "                iwetit,\n",
    "                \"ihdwet\",\n",
    "                ihdwet,\n",
    "            ]\n",
    "            wetdry = 9 * [wetdry] + 5 * [0]\n",
    "        else:\n",
    "            rewet_record = None\n",
    "        flopy.mf6.ModflowGwfnpf(\n",
    "            gwf,\n",
    "            rewet_record=rewet_record,\n",
    "            icelltype=icelltype,\n",
    "            k=k11,\n",
    "            k33=k33,\n",
    "            wetdry=wetdry,\n",
    "        )\n",
    "        flopy.mf6.ModflowGwfsto(\n",
    "            gwf,\n",
    "            iconvert=icelltype,\n",
    "            ss=ss,\n",
    "            sy=sy,\n",
    "            steady_state={3: True},\n",
    "        )\n",
    "        flopy.mf6.ModflowGwfic(gwf, strt=H1)\n",
    "        flopy.mf6.ModflowGwfchd(gwf, stress_period_data=chd_spd)\n",
    "        flopy.mf6.ModflowGwfrch(gwf, stress_period_data=rch_spd)\n",
    "\n",
    "        head_filerecord = \"{}.hds\".format(sim_name)\n",
    "        flopy.mf6.ModflowGwfoc(\n",
    "            gwf,\n",
    "            head_filerecord=head_filerecord,\n",
    "            saverecord=[(\"HEAD\", \"LAST\")],\n",
    "        )\n",
    "        return sim\n",
    "    return None"
   ]
  },
  {
   "cell_type": "markdown",
   "metadata": {
    "lines_to_next_cell": 2
   },
   "source": [
    "Function to write flow diversion model files"
   ]
  },
  {
   "cell_type": "code",
   "execution_count": null,
   "metadata": {
    "lines_to_next_cell": 2
   },
   "outputs": [],
   "source": [
    "def write_model(sim, silent=True):\n",
    "    if config.writeModel:\n",
    "        sim.write_simulation(silent=silent)"
   ]
  },
  {
   "cell_type": "markdown",
   "metadata": {
    "lines_to_next_cell": 2
   },
   "source": [
    "Function to run the model. True is returned if the model runs successfully.\n"
   ]
  },
  {
   "cell_type": "code",
   "execution_count": null,
   "metadata": {
    "lines_to_next_cell": 2
   },
   "outputs": [],
   "source": [
    "def run_model(sim, silent=True):\n",
    "    success = True\n",
    "    if config.runModel:\n",
    "        success, buff = sim.run_simulation(silent=silent)\n",
    "        if not success:\n",
    "            print(buff)\n",
    "\n",
    "    return success"
   ]
  },
  {
   "cell_type": "markdown",
   "metadata": {
    "lines_to_next_cell": 2
   },
   "source": [
    "Create a water-table array"
   ]
  },
  {
   "cell_type": "code",
   "execution_count": null,
   "metadata": {
    "lines_to_next_cell": 2
   },
   "outputs": [],
   "source": [
    "def get_water_table(h, bot):\n",
    "    imask = (h > -1e30) & (h <= bot)\n",
    "    h[imask] = -1e30\n",
    "    return np.amax(h, axis=0)"
   ]
  },
  {
   "cell_type": "markdown",
   "metadata": {
    "lines_to_next_cell": 2
   },
   "source": [
    "Function to plot the model results."
   ]
  },
  {
   "cell_type": "code",
   "execution_count": null,
   "metadata": {
    "lines_to_next_cell": 2
   },
   "outputs": [],
   "source": [
    "def plot_results(silent=True):\n",
    "    verbose = not silent\n",
    "    if verbose:\n",
    "        verbosity_level = 1\n",
    "    else:\n",
    "        verbosity_level = 0\n",
    "\n",
    "    if config.plotModel:\n",
    "        fs = USGSFigure(figure_type=\"map\", verbose=verbose)\n",
    "\n",
    "        # load the newton model\n",
    "        name = list(parameters.keys())[0]\n",
    "        sim_ws = os.path.join(ws, name)\n",
    "        sim = flopy.mf6.MFSimulation.load(\n",
    "            sim_name=sim_name, sim_ws=sim_ws, verbosity_level=verbosity_level\n",
    "        )\n",
    "        gwf = sim.get_model(sim_name)\n",
    "        bot = gwf.dis.botm.array\n",
    "        xnode = gwf.modelgrid.xcellcenters[0, :]\n",
    "\n",
    "        # create MODFLOW 6 head object\n",
    "        file_name = gwf.oc.head_filerecord.get_data()[0][0]\n",
    "        fpth = os.path.join(sim_ws, file_name)\n",
    "        hobj = flopy.utils.HeadFile(fpth)\n",
    "\n",
    "        # get a list of times\n",
    "        times = hobj.get_times()\n",
    "\n",
    "        # load rewet model\n",
    "        name = list(parameters.keys())[1]\n",
    "        sim_ws = os.path.join(ws, name)\n",
    "\n",
    "        # create MODFLOW 6 head object\n",
    "        file_name = gwf.oc.head_filerecord.get_data()[0][0]\n",
    "        fpth = os.path.join(sim_ws, file_name)\n",
    "        hobj1 = flopy.utils.HeadFile(fpth)\n",
    "\n",
    "        # Create figure for simulation\n",
    "        fig, axes = plt.subplots(\n",
    "            ncols=1,\n",
    "            nrows=4,\n",
    "            sharex=True,\n",
    "            figsize=figure_size,\n",
    "            constrained_layout=False,\n",
    "        )\n",
    "\n",
    "        # plot the results\n",
    "        for idx, ax in enumerate(axes):\n",
    "\n",
    "            # extract heads and specific discharge for newton model\n",
    "            head = hobj.get_data(totim=times[idx])\n",
    "            head = get_water_table(head, bot)\n",
    "\n",
    "            # extract heads and specific discharge for newton model\n",
    "            head1 = hobj1.get_data(totim=times[idx])\n",
    "            head1 = get_water_table(head1, bot)\n",
    "\n",
    "            # calculate mean error\n",
    "            diff = np.abs(head - head1)\n",
    "            # print(\"max\", diff.max(), np.argmax(diff))\n",
    "            me = diff.sum() / float(ncol * nrow)\n",
    "            me_text = \"Mean absolute water-table error {:.3f} feet\".format(me)\n",
    "\n",
    "            ax.set_xlim(extents[:2])\n",
    "            ax.set_ylim(extents[2:])\n",
    "            mm = flopy.plot.PlotCrossSection(\n",
    "                model=gwf, ax=ax, extent=extents, line={\"row\": 1}\n",
    "            )\n",
    "            mm.plot_bc(\"CHD\", color=\"cyan\")\n",
    "            mm.plot_grid(lw=0.5)\n",
    "            ax.plot(\n",
    "                xnode,\n",
    "                head[0, :],\n",
    "                lw=0.75,\n",
    "                color=\"black\",\n",
    "                label=\"Newton-Raphson\",\n",
    "            )\n",
    "            ax.plot(\n",
    "                xnode,\n",
    "                head1[0, :],\n",
    "                lw=0,\n",
    "                marker=\"o\",\n",
    "                ms=4,\n",
    "                mfc=\"none\",\n",
    "                mec=\"blue\",\n",
    "                label=\"Rewetting\",\n",
    "            )\n",
    "            if idx == 0:\n",
    "                ax.plot(\n",
    "                    -1000,\n",
    "                    -1000,\n",
    "                    lw=0,\n",
    "                    marker=\"s\",\n",
    "                    ms=4,\n",
    "                    mec=\"0.5\",\n",
    "                    mfc=\"none\",\n",
    "                    label=\"Model cell\",\n",
    "                )\n",
    "                ax.plot(\n",
    "                    -1000,\n",
    "                    -1000,\n",
    "                    lw=0,\n",
    "                    marker=\"s\",\n",
    "                    ms=4,\n",
    "                    mec=\"0.5\",\n",
    "                    mfc=\"cyan\",\n",
    "                    label=\"Constant head\",\n",
    "                )\n",
    "                fs.graph_legend(\n",
    "                    ax,\n",
    "                    loc=\"upper right\",\n",
    "                    ncol=2,\n",
    "                    frameon=True,\n",
    "                    facecolor=\"white\",\n",
    "                    edgecolor=\"none\",\n",
    "                )\n",
    "            letter = chr(ord(\"@\") + idx + 1)\n",
    "            fs.heading(letter=letter, ax=ax)\n",
    "            fs.add_text(ax, text=me_text, x=1, y=1.01, ha=\"right\", bold=False)\n",
    "            fs.remove_edge_ticks(ax)\n",
    "\n",
    "            # set fake y-axis label\n",
    "            ax.set_ylabel(\" \")\n",
    "\n",
    "        # set fake x-axis label\n",
    "        ax.set_xlabel(\" \")\n",
    "\n",
    "        ax = fig.add_subplot(1, 1, 1, frameon=False)\n",
    "        ax.tick_params(\n",
    "            labelcolor=\"none\", top=\"off\", bottom=\"off\", left=\"off\", right=\"off\"\n",
    "        )\n",
    "        ax.set_xlim(0, 1)\n",
    "        ax.set_xticks([0, 1])\n",
    "        ax.set_xlabel(\"x-coordinate, in feet\")\n",
    "        ax.set_ylim(0, 1)\n",
    "        ax.set_yticks([0, 1])\n",
    "        ax.set_ylabel(\"Water-table elevation above arbitrary datum, in meters\")\n",
    "        fs.remove_edge_ticks(ax)\n",
    "\n",
    "        # save figure\n",
    "        if config.plotSave:\n",
    "            fpth = os.path.join(\n",
    "                \"..\",\n",
    "                \"figures\",\n",
    "                \"{}-01{}\".format(sim_name, config.figure_ext),\n",
    "            )\n",
    "            fig.savefig(fpth)"
   ]
  },
  {
   "cell_type": "markdown",
   "metadata": {
    "lines_to_next_cell": 2
   },
   "source": [
    "Function that wraps all of the steps for the TWRI model\n",
    "\n",
    "1. build_model,\n",
    "2. write_model,\n",
    "3. run_model, and\n",
    "4. plot_results.\n"
   ]
  },
  {
   "cell_type": "code",
   "execution_count": null,
   "metadata": {},
   "outputs": [],
   "source": [
    "def simulation(idx, silent=True):\n",
    "    key = list(parameters.keys())[idx]\n",
    "    params = parameters[key].copy()\n",
    "\n",
    "    sim = build_model(key, **params)\n",
    "\n",
    "    write_model(sim, silent=silent)\n",
    "\n",
    "    success = run_model(sim, silent=silent)\n",
    "    assert success, \"could not run...{}\".format(key)"
   ]
  },
  {
   "cell_type": "code",
   "execution_count": null,
   "metadata": {},
   "outputs": [],
   "source": []
  },
  {
   "cell_type": "markdown",
   "metadata": {},
   "source": [
    "### MODFLOW-NWT Problem 2 Simulation\n",
    "\n",
    "Newton-Raphson."
   ]
  },
  {
   "cell_type": "code",
   "execution_count": null,
   "metadata": {},
   "outputs": [],
   "source": [
    "simulation(0)"
   ]
  },
  {
   "cell_type": "markdown",
   "metadata": {},
   "source": [
    "Rewetting."
   ]
  },
  {
   "cell_type": "code",
   "execution_count": null,
   "metadata": {},
   "outputs": [],
   "source": [
    "simulation(1)"
   ]
  },
  {
   "cell_type": "markdown",
   "metadata": {},
   "source": [
    "Plot results"
   ]
  },
  {
   "cell_type": "code",
   "execution_count": null,
   "metadata": {},
   "outputs": [],
   "source": [
    "plot_results()"
   ]
  }
 ],
 "metadata": {
  "jupytext": {
   "cell_metadata_filter": "-all",
   "main_language": "python",
   "notebook_metadata_filter": "-all"
  }
 },
 "nbformat": 4,
 "nbformat_minor": 4
}
