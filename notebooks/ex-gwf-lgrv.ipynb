{
 "cells": [
  {
   "cell_type": "markdown",
   "id": "7a4b6eee",
   "metadata": {},
   "source": [
    "## LGRV example\n",
    "\n",
    "These are the models described in Vilhelmsen et al. (2012).  The parent\n",
    "model is 9 layers, the child model is 25 layers.\n"
   ]
  },
  {
   "cell_type": "markdown",
   "id": "3c549c65",
   "metadata": {},
   "source": [
    "### LGRV Problem Setup\n",
    "\n",
    "Imports"
   ]
  },
  {
   "cell_type": "code",
   "execution_count": null,
   "id": "7b5334d5",
   "metadata": {},
   "outputs": [],
   "source": [
    "import os\n",
    "import sys"
   ]
  },
  {
   "cell_type": "code",
   "execution_count": null,
   "id": "c2e2817c",
   "metadata": {},
   "outputs": [],
   "source": [
    "import flopy\n",
    "import flopy.utils.lgrutil\n",
    "import matplotlib.pyplot as plt\n",
    "import numpy as np"
   ]
  },
  {
   "cell_type": "markdown",
   "id": "b0280214",
   "metadata": {},
   "source": [
    "Append to system path to include the common subdirectory"
   ]
  },
  {
   "cell_type": "code",
   "execution_count": null,
   "id": "2a3ac180",
   "metadata": {},
   "outputs": [],
   "source": [
    "sys.path.append(os.path.join(\"..\", \"common\"))"
   ]
  },
  {
   "cell_type": "markdown",
   "id": "254a76f3",
   "metadata": {},
   "source": [
    "import common functionality"
   ]
  },
  {
   "cell_type": "code",
   "execution_count": null,
   "id": "d6234892",
   "metadata": {},
   "outputs": [],
   "source": [
    "import config\n",
    "from figspecs import USGSFigure"
   ]
  },
  {
   "cell_type": "markdown",
   "id": "aa72cedd",
   "metadata": {},
   "source": [
    "Set default figure properties"
   ]
  },
  {
   "cell_type": "code",
   "execution_count": null,
   "id": "883c1f98",
   "metadata": {},
   "outputs": [],
   "source": [
    "figure_size = (5, 4)"
   ]
  },
  {
   "cell_type": "markdown",
   "id": "8af6ddcc",
   "metadata": {},
   "source": [
    "Base simulation and data workspace"
   ]
  },
  {
   "cell_type": "code",
   "execution_count": null,
   "id": "b277c7a8",
   "metadata": {},
   "outputs": [],
   "source": [
    "ws = config.base_ws\n",
    "data_ws = os.path.join(config.data_ws, \"ex-gwf-lgrv\")"
   ]
  },
  {
   "cell_type": "markdown",
   "id": "b7eeed50",
   "metadata": {},
   "source": [
    "Model units"
   ]
  },
  {
   "cell_type": "code",
   "execution_count": null,
   "id": "89188094",
   "metadata": {},
   "outputs": [],
   "source": [
    "length_units = \"meters\"\n",
    "time_units = \"seconds\""
   ]
  },
  {
   "cell_type": "markdown",
   "id": "f942d6aa",
   "metadata": {},
   "source": [
    "Scenario parameters"
   ]
  },
  {
   "cell_type": "code",
   "execution_count": null,
   "id": "38abd1d2",
   "metadata": {},
   "outputs": [],
   "source": [
    "parameters = {\n",
    "    \"ex-gwf-lgrv-gr\": {\"configuration\": \"Refined\"},\n",
    "    \"ex-gwf-lgrv-gc\": {\"configuration\": \"Coarse\"},\n",
    "    \"ex-gwf-lgrv-lgr\": {\"configuration\": \"LGR\"},\n",
    "}"
   ]
  },
  {
   "cell_type": "markdown",
   "id": "9c416bb5",
   "metadata": {},
   "source": [
    "Table LGRV Model Parameters"
   ]
  },
  {
   "cell_type": "code",
   "execution_count": null,
   "id": "d16fc146",
   "metadata": {},
   "outputs": [],
   "source": [
    "nper = 1  # Number of periods\n",
    "nlay = 25  # Number of layers in refined model\n",
    "nrow = 183  # Number of rows in refined model\n",
    "ncol = 147  # Number of columns in refined model\n",
    "nlaygc = 9  # Number of layers in coarsened model\n",
    "nrowcg = 61  # Number of rows in coarsened model\n",
    "ncolcg = 49  # Number of columns in coarsened model\n",
    "delr = 35.0  # Column width ($m$) in refined model\n",
    "delc = 25.0  # Row width ($m$) in refined model\n",
    "delv = 5.0  # Layer thickness ($m$) in refined model\n",
    "delrgc = 105.0  # Column width ($m$) in coarsened model\n",
    "delcgc = 75.0  # Row width ($m$) in coarsened model\n",
    "delvgc = 15.0  # Layer thickness ($m$) in coarsened model\n",
    "top_str = \"variable\"  # Top of the model ($m$)\n",
    "botm_str = \"30 to -90\"  # Layer bottom elevations ($m$)\n",
    "icelltype = 0  # Cell conversion type\n",
    "recharge = 1.1098e-09  # Recharge rate ($m/s$)\n",
    "k11_str = \"5.e-07, 1.e-06, 5.e-05\"  # Horizontal hydraulic conductivity ($m/s$)"
   ]
  },
  {
   "cell_type": "markdown",
   "id": "94d361f9",
   "metadata": {},
   "source": [
    "Static temporal data used by TDIS file\n",
    "Simulation has 1 steady stress period (1 day)"
   ]
  },
  {
   "cell_type": "code",
   "execution_count": null,
   "id": "dfee3c32",
   "metadata": {},
   "outputs": [],
   "source": [
    "perlen = [1.0]\n",
    "nstp = [1]\n",
    "tsmult = [1.0]\n",
    "tdis_ds = list(zip(perlen, nstp, tsmult))"
   ]
  },
  {
   "cell_type": "markdown",
   "id": "760ed847",
   "metadata": {},
   "source": [
    "load data files and process into arrays"
   ]
  },
  {
   "cell_type": "code",
   "execution_count": null,
   "id": "7f397431",
   "metadata": {},
   "outputs": [],
   "source": [
    "fname = os.path.join(data_ws, \"top.dat\")\n",
    "top = np.loadtxt(fname)\n",
    "ikzone = np.empty((nlay, nrow, ncol), dtype=float)\n",
    "for k in range(nlay):\n",
    "    fname = os.path.join(data_ws, f\"ikzone{k + 1}.dat\")\n",
    "    ikzone[k, :, :] = np.loadtxt(fname)\n",
    "fname = os.path.join(data_ws, \"riv.dat\")\n",
    "dt = [\n",
    "    (\"k\", int),\n",
    "    (\"i\", int),\n",
    "    (\"j\", int),\n",
    "    (\"stage\", float),\n",
    "    (\"conductance\", float),\n",
    "    (\"rbot\", float),\n",
    "]\n",
    "rivdat = np.loadtxt(fname, dtype=dt)\n",
    "rivdat[\"k\"] -= 1\n",
    "rivdat[\"i\"] -= 1\n",
    "rivdat[\"j\"] -= 1\n",
    "riv_spd = [[(k, i, j), stage, cond, rbot] for k, i, j, stage, cond, rbot in rivdat]"
   ]
  },
  {
   "cell_type": "code",
   "execution_count": null,
   "id": "fbb653a4",
   "metadata": {},
   "outputs": [],
   "source": [
    "botm = [30 - k * delv for k in range(nlay)]\n",
    "botm = np.array(botm)\n",
    "k11_values = [float(value) for value in k11_str.split(\",\")]\n",
    "k11 = np.zeros((nlay, nrow, ncol), dtype=float)\n",
    "for i, kval in enumerate(k11_values):\n",
    "    k11 = np.where(ikzone == i + 1, kval, k11)"
   ]
  },
  {
   "cell_type": "markdown",
   "id": "edbca64c",
   "metadata": {},
   "source": [
    "Define model extent and child model extent"
   ]
  },
  {
   "cell_type": "code",
   "execution_count": null,
   "id": "c4779ace",
   "metadata": {},
   "outputs": [],
   "source": [
    "xmin = 0\n",
    "xmax = ncol * delr\n",
    "ymin = 0.0\n",
    "ymax = nrow * delc\n",
    "model_domain = [xmin, xmax, ymin, ymax]\n",
    "child_domain = [\n",
    "    xmin + 15 * 3 * delr,\n",
    "    xmin + 41 * 3 * delr,\n",
    "    ymax - 49 * 3 * delc,\n",
    "    ymax - 19 * 3 * delc,\n",
    "]"
   ]
  },
  {
   "cell_type": "markdown",
   "id": "af79df3f",
   "metadata": {},
   "source": [
    "Solver parameters"
   ]
  },
  {
   "cell_type": "code",
   "execution_count": null,
   "id": "c45c4011",
   "metadata": {},
   "outputs": [],
   "source": [
    "nouter = 50\n",
    "ninner = 100\n",
    "hclose = 1e-6\n",
    "rclose = 100.0"
   ]
  },
  {
   "cell_type": "markdown",
   "id": "eff4568f",
   "metadata": {
    "lines_to_next_cell": 2
   },
   "source": [
    "### Functions to build, write, run, and plot the MODFLOW 6 LGRV model\n",
    "\n",
    "MODFLOW 6 flopy simulation object (sim) is returned if building the model"
   ]
  },
  {
   "cell_type": "code",
   "execution_count": null,
   "id": "3a4362e1",
   "metadata": {},
   "outputs": [],
   "source": [
    "def coarsen_shape(icoarsen, nrow, ncol):\n",
    "    nrowc = int(np.ceil(nrow / icoarsen))\n",
    "    ncolc = int(np.ceil(ncol / icoarsen))\n",
    "    return (nrowc, ncolc)"
   ]
  },
  {
   "cell_type": "code",
   "execution_count": null,
   "id": "7c66da6b",
   "metadata": {},
   "outputs": [],
   "source": [
    "def create_resampling_labels(a, icoarsen):\n",
    "    nrow, ncol = a.shape\n",
    "    labels = np.zeros((nrow, ncol), dtype=int)\n",
    "    nodec = 0\n",
    "    for ic in range(0, nrow, icoarsen):\n",
    "        for jc in range(0, ncol, icoarsen):\n",
    "            labels[ic : ic + icoarsen, jc : jc + icoarsen] = nodec\n",
    "            nodec += 1\n",
    "    return labels"
   ]
  },
  {
   "cell_type": "code",
   "execution_count": null,
   "id": "286e8dcd",
   "metadata": {},
   "outputs": [],
   "source": [
    "def array_resampler(a, icoarsen, method):\n",
    "    import scipy.ndimage as ndimage\n",
    "\n",
    "    assert method in [\"mean\", \"minimum\", \"maximum\", \"sum\"]\n",
    "    nrow, ncol = a.shape\n",
    "    nrowc, ncolc = coarsen_shape(icoarsen, nrow, ncol)\n",
    "    labels = create_resampling_labels(a, icoarsen)\n",
    "    idx = np.array(range(nrowc * ncolc))\n",
    "    if method == \"mean\":\n",
    "        ar = ndimage.mean(a, labels=labels, index=idx)\n",
    "    elif method == \"minimum\":\n",
    "        ar = ndimage.minimum(a, labels=labels, index=idx)\n",
    "    elif method == \"maximum\":\n",
    "        ar = ndimage.maximum(a, labels=labels, index=idx)\n",
    "    elif method == \"sum\":\n",
    "        ar = ndimage.sum(a, labels=labels, index=idx)\n",
    "    return ar.reshape((nrowc, ncolc))"
   ]
  },
  {
   "cell_type": "code",
   "execution_count": null,
   "id": "4e437123",
   "metadata": {},
   "outputs": [],
   "source": [
    "def riv_resample(icoarsen, nrow, ncol, rivdat, idomain, rowcolspan):\n",
    "    stage_grid = np.zeros((nrow, ncol), dtype=float)\n",
    "    cond_grid = np.zeros((nrow, ncol), dtype=float)\n",
    "    rbot_grid = np.zeros((nrow, ncol), dtype=float)\n",
    "    count_grid = np.zeros((nrow, ncol), dtype=int)\n",
    "    for k, i, j, stage, cond, rbot in rivdat:\n",
    "        stage_grid[i, j] = stage\n",
    "        cond_grid[i, j] = cond\n",
    "        rbot_grid[i, j] = rbot\n",
    "        count_grid[i, j] += 1\n",
    "    stagec_grid = array_resampler(stage_grid, icoarsen, \"sum\")\n",
    "    condc_grid = array_resampler(cond_grid, icoarsen, \"sum\")\n",
    "    rbotc_grid = array_resampler(rbot_grid, icoarsen, \"sum\")\n",
    "    countc_grid = array_resampler(count_grid, icoarsen, \"sum\")\n",
    "    stagec_grid = np.divide(stagec_grid, countc_grid)\n",
    "    rbotc_grid = np.divide(rbotc_grid, countc_grid)\n",
    "    if rowcolspan is not None:\n",
    "        istart, istop, jstart, jstop = rowcolspan\n",
    "        stagec_grid = stagec_grid[istart:istop, jstart:jstop]\n",
    "        condc_grid = condc_grid[istart:istop, jstart:jstop]\n",
    "        rbotc_grid = rbotc_grid[istart:istop, jstart:jstop]\n",
    "        countc_grid = countc_grid[istart:istop, jstart:jstop]\n",
    "    rows, cols = np.where(condc_grid > 0.0)\n",
    "    rivdatc = []\n",
    "    for i, j in zip(rows, cols):\n",
    "        k = 0\n",
    "        if idomain[k, i, j] == 1:\n",
    "            rivdatc.append(\n",
    "                [\n",
    "                    (k, i, j),\n",
    "                    stagec_grid[i, j],\n",
    "                    condc_grid[i, j],\n",
    "                    rbotc_grid[i, j],\n",
    "                ]\n",
    "            )\n",
    "    return rivdatc"
   ]
  },
  {
   "cell_type": "code",
   "execution_count": null,
   "id": "d245f899",
   "metadata": {},
   "outputs": [],
   "source": [
    "def build_lgr_model(sim_name):\n",
    "    sim_ws = os.path.join(ws, sim_name)\n",
    "    sim = flopy.mf6.MFSimulation(\n",
    "        sim_name=sim_name, sim_ws=sim_ws, exe_name=\"mf6\"\n",
    "    )\n",
    "    flopy.mf6.ModflowTdis(sim, nper=nper, perioddata=tdis_ds, time_units=time_units)\n",
    "    flopy.mf6.ModflowIms(\n",
    "        sim,\n",
    "        outer_maximum=nouter,\n",
    "        outer_dvclose=hclose,\n",
    "        inner_maximum=ninner,\n",
    "        inner_dvclose=hclose,\n",
    "        rcloserecord=f\"{rclose} strict\",\n",
    "    )\n",
    "\n",
    "    # parent model with coarse grid\n",
    "    icoarsen = 3\n",
    "    ncppl = [1, 3, 3, 3, 3, 3, 3, 3, 3]\n",
    "    sim = build_parent_model(sim, sim_name, icoarsen=icoarsen, ncppl=ncppl)\n",
    "    gwf = sim.get_model(\"parent\")\n",
    "\n",
    "    # child model with fine grid\n",
    "    sim = build_child_model(sim, sim_name)\n",
    "    gwfc = sim.get_model(\"child\")\n",
    "\n",
    "    # use flopy lgr utility to wire up connections between parent and child\n",
    "    nlayp = len(ncppl)\n",
    "    nrowp = gwf.dis.nrow.get_data()\n",
    "    ncolp = gwf.dis.ncol.get_data()\n",
    "    delrp = gwf.dis.delr.array\n",
    "    delcp = gwf.dis.delc.array\n",
    "    topp = gwf.dis.top.array\n",
    "    botmp = gwf.dis.botm.array\n",
    "    idomainp = gwf.dis.idomain.array\n",
    "    lgr = flopy.utils.lgrutil.Lgr(\n",
    "        nlayp,\n",
    "        nrowp,\n",
    "        ncolp,\n",
    "        delrp,\n",
    "        delcp,\n",
    "        topp,\n",
    "        botmp,\n",
    "        idomainp,\n",
    "        ncpp=icoarsen,\n",
    "        ncppl=ncppl,\n",
    "    )\n",
    "\n",
    "    # swap out lgr child top and botm with\n",
    "    topc = gwfc.dis.top.array\n",
    "    botmc = gwfc.dis.botm.array\n",
    "    lgr.top = topc\n",
    "    lgr.botm = botmc\n",
    "    exgdata = lgr.get_exchange_data(angldegx=True, cdist=True)\n",
    "    flopy.mf6.ModflowGwfgwf(\n",
    "        sim,\n",
    "        nexg=len(exgdata),\n",
    "        exgtype=\"GWF6-GWF6\",\n",
    "        exgmnamea=\"parent\",\n",
    "        exgmnameb=\"child\",\n",
    "        exchangedata=exgdata,\n",
    "        auxiliary=[\"angldegx\", \"cdist\"],\n",
    "    )\n",
    "\n",
    "    return sim"
   ]
  },
  {
   "cell_type": "code",
   "execution_count": null,
   "id": "0f49f0ef",
   "metadata": {},
   "outputs": [],
   "source": [
    "def build_parent_model(sim, sim_name, icoarsen, ncppl):\n",
    "    xminp, xmaxp, yminp, ymaxp = model_domain\n",
    "    xminc, xmaxc, yminc, ymaxc = child_domain\n",
    "    delcp = delc * icoarsen\n",
    "    delrp = delr * icoarsen\n",
    "    istart = int((ymaxp - ymaxc) / delcp)\n",
    "    istop = int((ymaxp - yminc) / delcp)\n",
    "    jstart = int((xminc - xminp) / delrp)\n",
    "    jstop = int((xmaxc - xminp) / delrp)\n",
    "    nrowp, ncolp = coarsen_shape(icoarsen, nrow, ncol)\n",
    "    nlayp = len(ncppl)\n",
    "    idomain = np.ones((nlayp, nrowp, ncolp), dtype=int)\n",
    "    idomain[:, istart:istop, jstart:jstop] = 0\n",
    "    sim = build_model(\n",
    "        sim_name,\n",
    "        icoarsen=icoarsen,\n",
    "        ncppl=ncppl,\n",
    "        idomain=idomain,\n",
    "        sim=sim,\n",
    "        modelname=\"parent\",\n",
    "    )\n",
    "    return sim"
   ]
  },
  {
   "cell_type": "code",
   "execution_count": null,
   "id": "235b23f6",
   "metadata": {},
   "outputs": [],
   "source": [
    "def build_child_model(sim, sim_name):\n",
    "    icoarsen = 1\n",
    "    xminp, xmaxp, yminp, ymaxp = model_domain\n",
    "    xminc, xmaxc, yminc, ymaxc = child_domain\n",
    "    delcp = delc * icoarsen\n",
    "    delrp = delr * icoarsen\n",
    "    istart = int((ymaxp - ymaxc) / delcp)\n",
    "    istop = int((ymaxp - yminc) / delcp)\n",
    "    jstart = int((xminc - xminp) / delrp)\n",
    "    jstop = int((xmaxc - xminp) / delrp)\n",
    "    nrowp, ncolp = coarsen_shape(icoarsen, nrow, ncol)\n",
    "    sim = build_model(\n",
    "        sim_name,\n",
    "        rowcolspan=[istart, istop, jstart, jstop],\n",
    "        sim=sim,\n",
    "        modelname=\"child\",\n",
    "        xorigin=xminc,\n",
    "        yorigin=yminc,\n",
    "    )\n",
    "    return sim"
   ]
  },
  {
   "cell_type": "code",
   "execution_count": null,
   "id": "c75c4c90",
   "metadata": {
    "lines_to_next_cell": 2
   },
   "outputs": [],
   "source": [
    "def build_model(\n",
    "    sim_name,\n",
    "    icoarsen=1,\n",
    "    ncppl=None,\n",
    "    rowcolspan=None,\n",
    "    idomain=None,\n",
    "    sim=None,\n",
    "    modelname=None,\n",
    "    xorigin=None,\n",
    "    yorigin=None,\n",
    "):\n",
    "    if config.buildModel:\n",
    "        if sim is None:\n",
    "            sim_ws = os.path.join(ws, sim_name)\n",
    "            sim = flopy.mf6.MFSimulation(\n",
    "                sim_name=sim_name, sim_ws=sim_ws, exe_name=\"mf6\"\n",
    "            )\n",
    "            flopy.mf6.ModflowTdis(\n",
    "                sim, nper=nper, perioddata=tdis_ds, time_units=time_units\n",
    "            )\n",
    "            flopy.mf6.ModflowIms(\n",
    "                sim,\n",
    "                outer_maximum=nouter,\n",
    "                outer_dvclose=hclose,\n",
    "                inner_maximum=ninner,\n",
    "                inner_dvclose=hclose,\n",
    "                rcloserecord=f\"{rclose} strict\",\n",
    "            )\n",
    "        if modelname is None:\n",
    "            modelname = sim_name\n",
    "        gwf = flopy.mf6.ModflowGwf(sim, modelname=modelname, save_flows=True)\n",
    "\n",
    "        if ncppl is not None:\n",
    "            nlayc = len(ncppl)\n",
    "            layer_index = [ncppl[0] - 1]\n",
    "            for iln in ncppl[1:]:\n",
    "                last = layer_index[-1]\n",
    "                layer_index.append(iln + last)\n",
    "        else:\n",
    "            nlayc = nlay\n",
    "            layer_index = list(range(nlayc))\n",
    "        nrowc, ncolc = coarsen_shape(icoarsen, nrow, ncol)\n",
    "        delrc = delr * icoarsen\n",
    "        delcc = delc * icoarsen\n",
    "        topc = array_resampler(top, icoarsen, \"mean\")\n",
    "        if rowcolspan is not None:\n",
    "            istart, istop, jstart, jstop = rowcolspan\n",
    "            nrowc = istop - istart\n",
    "            ncolc = jstop - jstart\n",
    "        else:\n",
    "            istart = 0\n",
    "            istop = nrow\n",
    "            jstart = 0\n",
    "            jstop = ncol\n",
    "        if idomain is None:\n",
    "            idomain = 1\n",
    "        topc = topc[istart:istop, jstart:jstop]\n",
    "        flopy.mf6.ModflowGwfdis(\n",
    "            gwf,\n",
    "            length_units=length_units,\n",
    "            nlay=nlayc,\n",
    "            nrow=nrowc,\n",
    "            ncol=ncolc,\n",
    "            delr=delrc,\n",
    "            delc=delcc,\n",
    "            top=topc,\n",
    "            botm=botm[layer_index],\n",
    "            idomain=idomain,\n",
    "            xorigin=xorigin,\n",
    "            yorigin=yorigin,\n",
    "        )\n",
    "        idomain = gwf.dis.idomain.array\n",
    "        k11c = []\n",
    "        for k in range(nlayc):\n",
    "            ilay = layer_index[k]\n",
    "            a = array_resampler(k11[ilay], icoarsen, \"maximum\")\n",
    "            k11c.append(a[istart:istop, jstart:jstop])\n",
    "        flopy.mf6.ModflowGwfnpf(\n",
    "            gwf,\n",
    "            k33overk=True,\n",
    "            icelltype=icelltype,\n",
    "            k=k11c,\n",
    "            save_specific_discharge=True,\n",
    "            k33=1.0,\n",
    "        )\n",
    "        strt = nlayc * [topc]\n",
    "        flopy.mf6.ModflowGwfic(gwf, strt=strt)\n",
    "\n",
    "        rivdatc = riv_resample(icoarsen, nrow, ncol, rivdat, idomain, rowcolspan)\n",
    "        riv_spd = {0: rivdatc}\n",
    "        flopy.mf6.ModflowGwfriv(\n",
    "            gwf,\n",
    "            stress_period_data=riv_spd,\n",
    "            pname=\"RIV\",\n",
    "        )\n",
    "        flopy.mf6.ModflowGwfrcha(gwf, recharge=recharge, pname=\"RCH\")\n",
    "        head_filerecord = f\"{modelname}.hds\"\n",
    "        budget_filerecord = f\"{modelname}.cbc\"\n",
    "        flopy.mf6.ModflowGwfoc(\n",
    "            gwf,\n",
    "            head_filerecord=head_filerecord,\n",
    "            budget_filerecord=budget_filerecord,\n",
    "            saverecord=[(\"HEAD\", \"ALL\"), (\"BUDGET\", \"ALL\")],\n",
    "        )\n",
    "        return sim\n",
    "    return None"
   ]
  },
  {
   "cell_type": "markdown",
   "id": "d0454c30",
   "metadata": {
    "lines_to_next_cell": 2
   },
   "source": [
    "Function to write MODFLOW 6 LGRV model files"
   ]
  },
  {
   "cell_type": "code",
   "execution_count": null,
   "id": "e518bc81",
   "metadata": {
    "lines_to_next_cell": 2
   },
   "outputs": [],
   "source": [
    "def write_model(sim, silent=True):\n",
    "    if config.writeModel:\n",
    "        print(f\"Writing simulation {sim.name}\")\n",
    "        sim.write_simulation(silent=silent)"
   ]
  },
  {
   "cell_type": "markdown",
   "id": "879c9687",
   "metadata": {
    "lines_to_next_cell": 2
   },
   "source": [
    "Function to run the LGRV model.\n",
    "True is returned if the model runs successfully\n"
   ]
  },
  {
   "cell_type": "code",
   "execution_count": null,
   "id": "7edc174c",
   "metadata": {},
   "outputs": [],
   "source": [
    "@config.timeit\n",
    "def run_model(sim, silent=False):\n",
    "    success = True\n",
    "    if config.runModel:\n",
    "        print(f\"Running simulation {sim.name}\")\n",
    "        success, buff = sim.run_simulation(silent=silent, report=True)\n",
    "        if not success:\n",
    "            print(buff)\n",
    "    return success"
   ]
  },
  {
   "cell_type": "code",
   "execution_count": null,
   "id": "b5623cf0",
   "metadata": {},
   "outputs": [],
   "source": [
    "# Function to plot the LGRV model results.\n",
    "#\n",
    "def plot_grid(sim):\n",
    "    print(f\"Plotting grid for {sim.name}...\")\n",
    "    fs = USGSFigure(figure_type=\"map\", verbose=False)\n",
    "    sim_ws = sim.simulation_data.mfpath.get_sim_path()\n",
    "    sim_name = sim.name\n",
    "    gwf = sim.get_model(\"parent\")\n",
    "    gwfc = None\n",
    "    if \"child\" in list(sim.model_names):\n",
    "        gwfc = sim.get_model(\"child\")\n",
    "\n",
    "    fig = plt.figure(figsize=figure_size)\n",
    "    fig.tight_layout()\n",
    "\n",
    "    ax = fig.add_subplot(1, 1, 1, aspect=\"equal\")\n",
    "    pmv = flopy.plot.PlotMapView(model=gwf, ax=ax, layer=0)\n",
    "    # pmv.plot_grid()\n",
    "    idomain = gwf.dis.idomain.array\n",
    "    tp = np.ma.masked_where(idomain[0] == 0, gwf.dis.top.array)\n",
    "    vmin = tp.min()\n",
    "    vmax = tp.max()\n",
    "    if gwfc is not None:\n",
    "        tpc = gwfc.dis.top.array\n",
    "        vmin = min(vmin, tpc.min())\n",
    "        vmax = max(vmax, tpc.max())\n",
    "\n",
    "    cb = pmv.plot_array(tp, cmap=\"jet\", alpha=0.25, vmin=vmin, vmax=vmax)\n",
    "    pmv.plot_bc(name=\"RIV\")\n",
    "    ax.set_xlabel(\"x position (m)\")\n",
    "    ax.set_ylabel(\"y position (m)\")\n",
    "    cbar = plt.colorbar(cb, shrink=0.5)\n",
    "    cbar.ax.set_xlabel(r\"Top, ($m$)\")\n",
    "    if gwfc is not None:\n",
    "        pmv = flopy.plot.PlotMapView(model=gwfc, ax=ax, layer=0)\n",
    "        _ = pmv.plot_array(\n",
    "            tpc,\n",
    "            cmap=\"jet\",\n",
    "            alpha=0.25,\n",
    "            masked_values=[1e30],\n",
    "            vmin=vmin,\n",
    "            vmax=vmax,\n",
    "        )\n",
    "        pmv.plot_bc(name=\"RIV\")\n",
    "    if gwfc is not None:\n",
    "        xmin, xmax, ymin, ymax = child_domain\n",
    "        ax.plot(\n",
    "            [xmin, xmax, xmax, xmin, xmin],\n",
    "            [ymin, ymin, ymax, ymax, ymin],\n",
    "            \"k--\",\n",
    "        )\n",
    "    xmin, xmax, ymin, ymax = model_domain\n",
    "    ax.set_xlim(xmin, xmax)\n",
    "    ax.set_ylim(ymin, ymax)\n",
    "\n",
    "    # save figure\n",
    "    if config.plotSave:\n",
    "        fpth = os.path.join(\"..\", \"figures\", f\"{sim_name}-grid{config.figure_ext}\")\n",
    "        fig.savefig(fpth)\n",
    "    return"
   ]
  },
  {
   "cell_type": "code",
   "execution_count": null,
   "id": "3b664bbe",
   "metadata": {},
   "outputs": [],
   "source": [
    "def plot_xsect(sim):\n",
    "    print(f\"Plotting cross section for {sim.name}...\")\n",
    "    fs = USGSFigure(figure_type=\"map\", verbose=False)\n",
    "    sim_ws = sim.simulation_data.mfpath.get_sim_path()\n",
    "    sim_name = sim.name\n",
    "    gwf = sim.get_model(\"parent\")\n",
    "\n",
    "    fig = plt.figure(figsize=(5, 2.5))\n",
    "    fig.tight_layout()\n",
    "\n",
    "    ax = fig.add_subplot(1, 1, 1)\n",
    "    irow, icol = gwf.modelgrid.intersect(3000.0, 3000.0)\n",
    "    pmv = flopy.plot.PlotCrossSection(model=gwf, ax=ax, line={\"column\": icol})\n",
    "    pmv.plot_grid(linewidth=0.5)\n",
    "    hyc = np.log(gwf.npf.k.array)\n",
    "    cb = pmv.plot_array(hyc, cmap=\"jet\", alpha=0.25)\n",
    "    ax.set_xlabel(\"y position (m)\")\n",
    "    ax.set_ylabel(\"z position (m)\")\n",
    "    cbar = plt.colorbar(cb, shrink=0.5)\n",
    "    cbar.ax.set_xlabel(r\"K, ($m/s$)\")\n",
    "\n",
    "    # save figure\n",
    "    if config.plotSave:\n",
    "        fpth = os.path.join(\"..\", \"figures\", f\"{sim_name}-xsect{config.figure_ext}\")\n",
    "        fig.savefig(fpth)\n",
    "    return"
   ]
  },
  {
   "cell_type": "code",
   "execution_count": null,
   "id": "6ec08b7b",
   "metadata": {},
   "outputs": [],
   "source": [
    "def plot_heads(sim):\n",
    "    print(f\"Plotting results for {sim.name} ...\")\n",
    "    fs = USGSFigure(figure_type=\"map\", verbose=False)\n",
    "    sim_ws = sim.simulation_data.mfpath.get_sim_path()\n",
    "    sim_name = sim.name\n",
    "    gwf = sim.get_model(\"parent\")\n",
    "    modelname = gwf.name\n",
    "    gwfc = None\n",
    "    if \"child\" in list(sim.model_names):\n",
    "        gwfc = sim.get_model(\"child\")\n",
    "\n",
    "    fig = plt.figure(figsize=figure_size)\n",
    "    fig.tight_layout()\n",
    "\n",
    "    print(\"  Loading heads...\")\n",
    "    layer = 0\n",
    "    head = gwf.output.head().get_data()\n",
    "    head = np.ma.masked_where(head > 1e29, head)\n",
    "    vmin = head[layer].min()\n",
    "    vmax = head[layer].max()\n",
    "    if gwfc is not None:\n",
    "        headc = gwfc.output.head().get_data()\n",
    "        vmin = min(vmin, headc.min())\n",
    "        vmax = max(vmax, headc.max())\n",
    "\n",
    "    print(\"  Making figure...\")\n",
    "    ax = fig.add_subplot(1, 1, 1, aspect=\"equal\")\n",
    "    pmv = flopy.plot.PlotMapView(model=gwf, ax=ax, layer=0)\n",
    "    cb = pmv.plot_array(head, cmap=\"jet\", masked_values=[1e30], vmin=vmin, vmax=vmax)\n",
    "    ax.set_xlabel(\"x position (m)\")\n",
    "    ax.set_ylabel(\"y position (m)\")\n",
    "    cbar = plt.colorbar(cb, shrink=0.5)\n",
    "    cbar.ax.set_xlabel(r\"Head, ($m$)\")\n",
    "    if gwfc is not None:\n",
    "        pmv = flopy.plot.PlotMapView(model=gwfc, ax=ax, layer=0)\n",
    "        cb = pmv.plot_array(\n",
    "            headc, cmap=\"jet\", masked_values=[1e30], vmin=vmin, vmax=vmax\n",
    "        )\n",
    "        xmin, xmax, ymin, ymax = child_domain\n",
    "        ax.plot(\n",
    "            [xmin, xmax, xmax, xmin, xmin],\n",
    "            [ymin, ymin, ymax, ymax, ymin],\n",
    "            \"k--\",\n",
    "        )\n",
    "    xmin, xmax, ymin, ymax = model_domain\n",
    "    ax.set_xlim(xmin, xmax)\n",
    "    ax.set_ylim(ymin, ymax)\n",
    "\n",
    "    # save figure\n",
    "    if config.plotSave:\n",
    "        fpth = os.path.join(\"..\", \"figures\", f\"{sim_name}-head{config.figure_ext}\")\n",
    "        fig.savefig(fpth)\n",
    "    return"
   ]
  },
  {
   "cell_type": "code",
   "execution_count": null,
   "id": "e541e782",
   "metadata": {
    "lines_to_next_cell": 2
   },
   "outputs": [],
   "source": [
    "def plot_results(sim, silent=True):\n",
    "    if config.plotModel:\n",
    "        plot_grid(sim)\n",
    "        plot_xsect(sim)\n",
    "        plot_heads(sim)\n",
    "    return"
   ]
  },
  {
   "cell_type": "markdown",
   "id": "fe14db5f",
   "metadata": {
    "lines_to_next_cell": 2
   },
   "source": [
    "Function that wraps all of the steps for the LGRV model\n",
    "\n",
    "1. build_model,\n",
    "2. write_model,\n",
    "3. run_model, and\n",
    "4. plot_results.\n"
   ]
  },
  {
   "cell_type": "code",
   "execution_count": null,
   "id": "e0903fe6",
   "metadata": {},
   "outputs": [],
   "source": [
    "def simulation(idx, silent=True):\n",
    "    key = list(parameters.keys())[idx]\n",
    "    params = parameters[key].copy()\n",
    "    if params[\"configuration\"] == \"Refined\":\n",
    "        sim = build_model(key, modelname=\"parent\")\n",
    "    elif params[\"configuration\"] == \"Coarse\":\n",
    "        ncppl = [1, 3, 3, 3, 3, 3, 3, 3, 3]\n",
    "        sim = build_model(key, icoarsen=3, ncppl=ncppl, modelname=\"parent\")\n",
    "    elif params[\"configuration\"] == \"LGR\":\n",
    "        sim = build_lgr_model(key)\n",
    "    write_model(sim, silent=silent)\n",
    "    success = run_model(sim, silent=silent)\n",
    "    if success:\n",
    "        plot_results(sim, silent=silent)"
   ]
  },
  {
   "cell_type": "code",
   "execution_count": null,
   "id": "8622883e",
   "metadata": {},
   "outputs": [],
   "source": [
    "# nosetest - exclude block from this nosetest to the next nosetest\n",
    "def test_01():\n",
    "    simulation(0, silent=False)"
   ]
  },
  {
   "cell_type": "code",
   "execution_count": null,
   "id": "4a85a500",
   "metadata": {},
   "outputs": [],
   "source": [
    "def test_02():\n",
    "    simulation(1, silent=False)"
   ]
  },
  {
   "cell_type": "code",
   "execution_count": null,
   "id": "10950541",
   "metadata": {},
   "outputs": [],
   "source": [
    "def test_03():\n",
    "    simulation(2, silent=False)"
   ]
  },
  {
   "cell_type": "markdown",
   "id": "d289c9d9",
   "metadata": {},
   "source": [
    "nosetest end"
   ]
  },
  {
   "cell_type": "code",
   "execution_count": null,
   "id": "bdbe628e",
   "metadata": {},
   "outputs": [],
   "source": [
    "if __name__ == \"__main__\":\n",
    "    # ### LGRV Simulation\n",
    "    #\n",
    "    # Global Refined Model\n",
    "\n",
    "    simulation(0)\n",
    "\n",
    "    # Global Coarse Model\n",
    "\n",
    "    simulation(1)\n",
    "\n",
    "    # Locally Refined Grid Model\n",
    "\n",
    "    simulation(2)"
   ]
  }
 ],
 "metadata": {
  "jupytext": {
   "cell_metadata_filter": "-all",
   "main_language": "python",
   "notebook_metadata_filter": "-all"
  }
 },
 "nbformat": 4,
 "nbformat_minor": 5
}
